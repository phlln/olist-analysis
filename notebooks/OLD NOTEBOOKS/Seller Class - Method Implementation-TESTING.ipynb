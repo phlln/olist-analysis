{
 "cells": [
  {
   "cell_type": "markdown",
   "id": "c95131d1",
   "metadata": {},
   "source": [
    "# Seller( ) Class "
   ]
  },
  {
   "cell_type": "markdown",
   "id": "b6523032",
   "metadata": {},
   "source": [
    "**Notebook Objective**\n",
    "\n",
    "This notebook will be used to test and implement methods as part of a custom **Seller( )** class based on data provided by the Brazilian e-commerce platform **Olist**. \n",
    "\n",
    "Our final method `get_training_data()` will create a single DataFrame with **all unique sellers as index and all properties of these sellers as columns** hopefully making it easier to build models and perform analysis."
   ]
  },
  {
   "cell_type": "code",
   "execution_count": 1,
   "id": "bb230ffc",
   "metadata": {},
   "outputs": [],
   "source": [
    "# Auto reload imported module everytime a cell is executed\n",
    "%load_ext autoreload\n",
    "%autoreload 2"
   ]
  },
  {
   "cell_type": "code",
   "execution_count": 2,
   "id": "8c9264d0",
   "metadata": {},
   "outputs": [],
   "source": [
    "# Import usual modules\n",
    "import pandas as pd\n",
    "import numpy as np\n",
    "import seaborn as sns\n",
    "import matplotlib.pyplot as plt\n",
    "import paths"
   ]
  },
  {
   "cell_type": "code",
   "execution_count": 3,
   "id": "723520e6",
   "metadata": {},
   "outputs": [],
   "source": [
    "# Import Olist data and Order() class\n",
    "from olist.data import Olist\n",
    "from olist.order import Order\n",
    "paths\n",
    "olist=Olist()\n",
    "data=olist.get_data()\n",
    "matching_table = olist.get_matching_table()"
   ]
  },
  {
   "cell_type": "markdown",
   "id": "a99e12b6",
   "metadata": {},
   "source": [
    "## Method Implementation for Seller( ) Class"
   ]
  },
  {
   "cell_type": "markdown",
   "id": "7cf7d980",
   "metadata": {},
   "source": [
    "Let's implement methods to help prepare sellers-related data for statistical modeling and analysis."
   ]
  },
  {
   "cell_type": "markdown",
   "id": "711d5187",
   "metadata": {},
   "source": [
    "### get_seller_features( )"
   ]
  },
  {
   "cell_type": "markdown",
   "id": "caebae43",
   "metadata": {},
   "source": [
    "Here we'll implement a method that returns a DataFrame with **`seller_id`, `seller_city`** and **`seller_state`**."
   ]
  },
  {
   "cell_type": "code",
   "execution_count": 4,
   "id": "8298b005",
   "metadata": {
    "scrolled": false
   },
   "outputs": [
    {
     "data": {
      "text/html": [
       "<div>\n",
       "<style scoped>\n",
       "    .dataframe tbody tr th:only-of-type {\n",
       "        vertical-align: middle;\n",
       "    }\n",
       "\n",
       "    .dataframe tbody tr th {\n",
       "        vertical-align: top;\n",
       "    }\n",
       "\n",
       "    .dataframe thead th {\n",
       "        text-align: right;\n",
       "    }\n",
       "</style>\n",
       "<table border=\"1\" class=\"dataframe\">\n",
       "  <thead>\n",
       "    <tr style=\"text-align: right;\">\n",
       "      <th></th>\n",
       "      <th>seller_id</th>\n",
       "      <th>seller_city</th>\n",
       "      <th>seller_state</th>\n",
       "    </tr>\n",
       "  </thead>\n",
       "  <tbody>\n",
       "    <tr>\n",
       "      <th>0</th>\n",
       "      <td>3442f8959a84dea7ee197c632cb2df15</td>\n",
       "      <td>campinas</td>\n",
       "      <td>SP</td>\n",
       "    </tr>\n",
       "    <tr>\n",
       "      <th>1</th>\n",
       "      <td>d1b65fc7debc3361ea86b5f14c68d2e2</td>\n",
       "      <td>mogi guacu</td>\n",
       "      <td>SP</td>\n",
       "    </tr>\n",
       "    <tr>\n",
       "      <th>2</th>\n",
       "      <td>ce3ad9de960102d0677a81f5d0bb7b2d</td>\n",
       "      <td>rio de janeiro</td>\n",
       "      <td>RJ</td>\n",
       "    </tr>\n",
       "    <tr>\n",
       "      <th>3</th>\n",
       "      <td>c0f3eea2e14555b6faeea3dd58c1b1c3</td>\n",
       "      <td>sao paulo</td>\n",
       "      <td>SP</td>\n",
       "    </tr>\n",
       "    <tr>\n",
       "      <th>4</th>\n",
       "      <td>51a04a8a6bdcb23deccc82b0b80742cf</td>\n",
       "      <td>braganca paulista</td>\n",
       "      <td>SP</td>\n",
       "    </tr>\n",
       "  </tbody>\n",
       "</table>\n",
       "</div>"
      ],
      "text/plain": [
       "                          seller_id        seller_city seller_state\n",
       "0  3442f8959a84dea7ee197c632cb2df15           campinas           SP\n",
       "1  d1b65fc7debc3361ea86b5f14c68d2e2         mogi guacu           SP\n",
       "2  ce3ad9de960102d0677a81f5d0bb7b2d     rio de janeiro           RJ\n",
       "3  c0f3eea2e14555b6faeea3dd58c1b1c3          sao paulo           SP\n",
       "4  51a04a8a6bdcb23deccc82b0b80742cf  braganca paulista           SP"
      ]
     },
     "execution_count": 4,
     "metadata": {},
     "output_type": "execute_result"
    }
   ],
   "source": [
    "# Make copy and inspect sellers data\n",
    "sellers = data['sellers'].copy()\n",
    "sellers.drop('seller_zip_code_prefix', axis=1, inplace=True)\n",
    "sellers.drop_duplicates(inplace=True)\n",
    "sellers.head()"
   ]
  },
  {
   "cell_type": "markdown",
   "id": "19608908",
   "metadata": {},
   "source": [
    "### get_seller_delay_wait_time( )"
   ]
  },
  {
   "cell_type": "markdown",
   "id": "ee7e3eda",
   "metadata": {},
   "source": [
    "Here we'll implement a method that returns a DataFrame with **`seller_id`, `delay_to_carrier`** and **`seller_wait_time`**."
   ]
  },
  {
   "cell_type": "code",
   "execution_count": 5,
   "id": "b1f528df",
   "metadata": {
    "scrolled": false
   },
   "outputs": [],
   "source": [
    "# Get data from only those orders that have been 'delivered'\n",
    "order_items = data['order_items'].copy()\n",
    "orders = data['orders'].query(\"order_status=='delivered'\").copy()\n",
    "\n",
    "ship = order_items.merge(orders, on='order_id')\n",
    "\n",
    "# Handle datetime conversion\n",
    "ship.loc[:, 'shipping_limit_date'] = pd.to_datetime(ship['shipping_limit_date'])\n",
    "ship.loc[:, 'order_delivered_carrier_date'] = pd.to_datetime(ship['order_delivered_carrier_date'])\n",
    "ship.loc[:, 'order_delivered_customer_date'] = pd.to_datetime(ship['order_delivered_customer_date'])\n",
    "ship.loc[:, 'order_purchase_timestamp'] = pd.to_datetime(ship['order_purchase_timestamp'])"
   ]
  },
  {
   "cell_type": "code",
   "execution_count": 6,
   "id": "cc2c561d",
   "metadata": {},
   "outputs": [],
   "source": [
    "# Compute delay and wait_time\n",
    "def delay_to_logistic_partner(d):\n",
    "    days = np.mean(\n",
    "            (d.shipping_limit_date - d.order_delivered_carrier_date)/np.timedelta64(24, 'h')\n",
    "            )\n",
    "    if days < 0:\n",
    "        return abs(days)\n",
    "    else:\n",
    "        return 0\n",
    "    \n",
    "def order_wait_time(d):\n",
    "    days = np.mean(\n",
    "            (d.order_delivered_customer_date - d.order_purchase_timestamp)/np.timedelta64(24, 'h')\n",
    "            )\n",
    "    return days"
   ]
  },
  {
   "cell_type": "code",
   "execution_count": 7,
   "id": "bca8c826",
   "metadata": {},
   "outputs": [
    {
     "data": {
      "text/html": [
       "<div>\n",
       "<style scoped>\n",
       "    .dataframe tbody tr th:only-of-type {\n",
       "        vertical-align: middle;\n",
       "    }\n",
       "\n",
       "    .dataframe tbody tr th {\n",
       "        vertical-align: top;\n",
       "    }\n",
       "\n",
       "    .dataframe thead th {\n",
       "        text-align: right;\n",
       "    }\n",
       "</style>\n",
       "<table border=\"1\" class=\"dataframe\">\n",
       "  <thead>\n",
       "    <tr style=\"text-align: right;\">\n",
       "      <th></th>\n",
       "      <th>seller_id</th>\n",
       "      <th>delay_to_carrier</th>\n",
       "    </tr>\n",
       "  </thead>\n",
       "  <tbody>\n",
       "    <tr>\n",
       "      <th>0</th>\n",
       "      <td>0015a82c2db000af6aaaf3ae2ecb0532</td>\n",
       "      <td>0.0</td>\n",
       "    </tr>\n",
       "    <tr>\n",
       "      <th>1</th>\n",
       "      <td>001cca7ae9ae17fb1caed9dfb1094831</td>\n",
       "      <td>0.0</td>\n",
       "    </tr>\n",
       "    <tr>\n",
       "      <th>2</th>\n",
       "      <td>002100f778ceb8431b7a1020ff7ab48f</td>\n",
       "      <td>0.0</td>\n",
       "    </tr>\n",
       "    <tr>\n",
       "      <th>3</th>\n",
       "      <td>003554e2dce176b5555353e4f3555ac8</td>\n",
       "      <td>0.0</td>\n",
       "    </tr>\n",
       "    <tr>\n",
       "      <th>4</th>\n",
       "      <td>004c9cd9d87a3c30c522c48c4fc07416</td>\n",
       "      <td>0.0</td>\n",
       "    </tr>\n",
       "  </tbody>\n",
       "</table>\n",
       "</div>"
      ],
      "text/plain": [
       "                          seller_id  delay_to_carrier\n",
       "0  0015a82c2db000af6aaaf3ae2ecb0532               0.0\n",
       "1  001cca7ae9ae17fb1caed9dfb1094831               0.0\n",
       "2  002100f778ceb8431b7a1020ff7ab48f               0.0\n",
       "3  003554e2dce176b5555353e4f3555ac8               0.0\n",
       "4  004c9cd9d87a3c30c522c48c4fc07416               0.0"
      ]
     },
     "execution_count": 7,
     "metadata": {},
     "output_type": "execute_result"
    }
   ],
   "source": [
    "delay = ship.groupby('seller_id')\\\n",
    "        .apply(delay_to_logistic_partner)\\\n",
    "        .reset_index()\n",
    "\n",
    "delay.columns = ['seller_id', 'delay_to_carrier']\n",
    "delay.head()"
   ]
  },
  {
   "cell_type": "code",
   "execution_count": 8,
   "id": "b65edb45",
   "metadata": {
    "scrolled": false
   },
   "outputs": [
    {
     "data": {
      "text/html": [
       "<div>\n",
       "<style scoped>\n",
       "    .dataframe tbody tr th:only-of-type {\n",
       "        vertical-align: middle;\n",
       "    }\n",
       "\n",
       "    .dataframe tbody tr th {\n",
       "        vertical-align: top;\n",
       "    }\n",
       "\n",
       "    .dataframe thead th {\n",
       "        text-align: right;\n",
       "    }\n",
       "</style>\n",
       "<table border=\"1\" class=\"dataframe\">\n",
       "  <thead>\n",
       "    <tr style=\"text-align: right;\">\n",
       "      <th></th>\n",
       "      <th>seller_id</th>\n",
       "      <th>seller_wait_time</th>\n",
       "    </tr>\n",
       "  </thead>\n",
       "  <tbody>\n",
       "    <tr>\n",
       "      <th>0</th>\n",
       "      <td>0015a82c2db000af6aaaf3ae2ecb0532</td>\n",
       "      <td>10.793885</td>\n",
       "    </tr>\n",
       "    <tr>\n",
       "      <th>1</th>\n",
       "      <td>001cca7ae9ae17fb1caed9dfb1094831</td>\n",
       "      <td>13.096632</td>\n",
       "    </tr>\n",
       "    <tr>\n",
       "      <th>2</th>\n",
       "      <td>002100f778ceb8431b7a1020ff7ab48f</td>\n",
       "      <td>16.192371</td>\n",
       "    </tr>\n",
       "    <tr>\n",
       "      <th>3</th>\n",
       "      <td>003554e2dce176b5555353e4f3555ac8</td>\n",
       "      <td>4.646806</td>\n",
       "    </tr>\n",
       "    <tr>\n",
       "      <th>4</th>\n",
       "      <td>004c9cd9d87a3c30c522c48c4fc07416</td>\n",
       "      <td>14.430364</td>\n",
       "    </tr>\n",
       "  </tbody>\n",
       "</table>\n",
       "</div>"
      ],
      "text/plain": [
       "                          seller_id  seller_wait_time\n",
       "0  0015a82c2db000af6aaaf3ae2ecb0532         10.793885\n",
       "1  001cca7ae9ae17fb1caed9dfb1094831         13.096632\n",
       "2  002100f778ceb8431b7a1020ff7ab48f         16.192371\n",
       "3  003554e2dce176b5555353e4f3555ac8          4.646806\n",
       "4  004c9cd9d87a3c30c522c48c4fc07416         14.430364"
      ]
     },
     "execution_count": 8,
     "metadata": {},
     "output_type": "execute_result"
    }
   ],
   "source": [
    "wait = ship.groupby('seller_id')\\\n",
    "           .apply(order_wait_time)\\\n",
    "           .reset_index()\n",
    "           \n",
    "wait.columns = ['seller_id', 'seller_wait_time']\n",
    "wait.head()"
   ]
  },
  {
   "cell_type": "code",
   "execution_count": 9,
   "id": "c85fbbab",
   "metadata": {
    "scrolled": true
   },
   "outputs": [
    {
     "data": {
      "text/html": [
       "<div>\n",
       "<style scoped>\n",
       "    .dataframe tbody tr th:only-of-type {\n",
       "        vertical-align: middle;\n",
       "    }\n",
       "\n",
       "    .dataframe tbody tr th {\n",
       "        vertical-align: top;\n",
       "    }\n",
       "\n",
       "    .dataframe thead th {\n",
       "        text-align: right;\n",
       "    }\n",
       "</style>\n",
       "<table border=\"1\" class=\"dataframe\">\n",
       "  <thead>\n",
       "    <tr style=\"text-align: right;\">\n",
       "      <th></th>\n",
       "      <th>seller_id</th>\n",
       "      <th>delay_to_carrier</th>\n",
       "      <th>seller_wait_time</th>\n",
       "    </tr>\n",
       "  </thead>\n",
       "  <tbody>\n",
       "    <tr>\n",
       "      <th>0</th>\n",
       "      <td>0015a82c2db000af6aaaf3ae2ecb0532</td>\n",
       "      <td>0.0</td>\n",
       "      <td>10.793885</td>\n",
       "    </tr>\n",
       "    <tr>\n",
       "      <th>1</th>\n",
       "      <td>001cca7ae9ae17fb1caed9dfb1094831</td>\n",
       "      <td>0.0</td>\n",
       "      <td>13.096632</td>\n",
       "    </tr>\n",
       "    <tr>\n",
       "      <th>2</th>\n",
       "      <td>002100f778ceb8431b7a1020ff7ab48f</td>\n",
       "      <td>0.0</td>\n",
       "      <td>16.192371</td>\n",
       "    </tr>\n",
       "    <tr>\n",
       "      <th>3</th>\n",
       "      <td>003554e2dce176b5555353e4f3555ac8</td>\n",
       "      <td>0.0</td>\n",
       "      <td>4.646806</td>\n",
       "    </tr>\n",
       "    <tr>\n",
       "      <th>4</th>\n",
       "      <td>004c9cd9d87a3c30c522c48c4fc07416</td>\n",
       "      <td>0.0</td>\n",
       "      <td>14.430364</td>\n",
       "    </tr>\n",
       "  </tbody>\n",
       "</table>\n",
       "</div>"
      ],
      "text/plain": [
       "                          seller_id  delay_to_carrier  seller_wait_time\n",
       "0  0015a82c2db000af6aaaf3ae2ecb0532               0.0         10.793885\n",
       "1  001cca7ae9ae17fb1caed9dfb1094831               0.0         13.096632\n",
       "2  002100f778ceb8431b7a1020ff7ab48f               0.0         16.192371\n",
       "3  003554e2dce176b5555353e4f3555ac8               0.0          4.646806\n",
       "4  004c9cd9d87a3c30c522c48c4fc07416               0.0         14.430364"
      ]
     },
     "execution_count": 9,
     "metadata": {},
     "output_type": "execute_result"
    }
   ],
   "source": [
    "df = delay.merge(wait, on = 'seller_id')\n",
    "\n",
    "df.head()"
   ]
  },
  {
   "cell_type": "markdown",
   "id": "76545c03",
   "metadata": {},
   "source": [
    "### get_active_dates( )"
   ]
  },
  {
   "cell_type": "markdown",
   "id": "9b761c29",
   "metadata": {},
   "source": [
    "Here we'll implement a method that returns a DataFrame with **`seller_id`, `date_first_sale`,** and **`date_last_sale`**."
   ]
  },
  {
   "cell_type": "code",
   "execution_count": 10,
   "id": "7d94ffd2",
   "metadata": {},
   "outputs": [
    {
     "data": {
      "text/html": [
       "<div>\n",
       "<style scoped>\n",
       "    .dataframe tbody tr th:only-of-type {\n",
       "        vertical-align: middle;\n",
       "    }\n",
       "\n",
       "    .dataframe tbody tr th {\n",
       "        vertical-align: top;\n",
       "    }\n",
       "\n",
       "    .dataframe thead th {\n",
       "        text-align: right;\n",
       "    }\n",
       "</style>\n",
       "<table border=\"1\" class=\"dataframe\">\n",
       "  <thead>\n",
       "    <tr style=\"text-align: right;\">\n",
       "      <th></th>\n",
       "      <th>date_first_sale</th>\n",
       "      <th>date_last_sale</th>\n",
       "      <th>months_on_olist</th>\n",
       "    </tr>\n",
       "    <tr>\n",
       "      <th>seller_id</th>\n",
       "      <th></th>\n",
       "      <th></th>\n",
       "      <th></th>\n",
       "    </tr>\n",
       "  </thead>\n",
       "  <tbody>\n",
       "    <tr>\n",
       "      <th>0015a82c2db000af6aaaf3ae2ecb0532</th>\n",
       "      <td>2017-09-27 22:24:16</td>\n",
       "      <td>2017-10-18 23:56:20</td>\n",
       "      <td>1.0</td>\n",
       "    </tr>\n",
       "    <tr>\n",
       "      <th>001cca7ae9ae17fb1caed9dfb1094831</th>\n",
       "      <td>2017-02-04 19:15:39</td>\n",
       "      <td>2018-07-12 21:50:17</td>\n",
       "      <td>17.0</td>\n",
       "    </tr>\n",
       "    <tr>\n",
       "      <th>002100f778ceb8431b7a1020ff7ab48f</th>\n",
       "      <td>2017-09-14 01:10:15</td>\n",
       "      <td>2018-04-12 13:11:45</td>\n",
       "      <td>7.0</td>\n",
       "    </tr>\n",
       "    <tr>\n",
       "      <th>003554e2dce176b5555353e4f3555ac8</th>\n",
       "      <td>2017-12-15 07:11:03</td>\n",
       "      <td>2017-12-15 07:11:03</td>\n",
       "      <td>0.0</td>\n",
       "    </tr>\n",
       "    <tr>\n",
       "      <th>004c9cd9d87a3c30c522c48c4fc07416</th>\n",
       "      <td>2017-01-28 02:32:27</td>\n",
       "      <td>2018-05-05 10:15:17</td>\n",
       "      <td>15.0</td>\n",
       "    </tr>\n",
       "  </tbody>\n",
       "</table>\n",
       "</div>"
      ],
      "text/plain": [
       "                                     date_first_sale      date_last_sale  \\\n",
       "seller_id                                                                  \n",
       "0015a82c2db000af6aaaf3ae2ecb0532 2017-09-27 22:24:16 2017-10-18 23:56:20   \n",
       "001cca7ae9ae17fb1caed9dfb1094831 2017-02-04 19:15:39 2018-07-12 21:50:17   \n",
       "002100f778ceb8431b7a1020ff7ab48f 2017-09-14 01:10:15 2018-04-12 13:11:45   \n",
       "003554e2dce176b5555353e4f3555ac8 2017-12-15 07:11:03 2017-12-15 07:11:03   \n",
       "004c9cd9d87a3c30c522c48c4fc07416 2017-01-28 02:32:27 2018-05-05 10:15:17   \n",
       "\n",
       "                                  months_on_olist  \n",
       "seller_id                                          \n",
       "0015a82c2db000af6aaaf3ae2ecb0532              1.0  \n",
       "001cca7ae9ae17fb1caed9dfb1094831             17.0  \n",
       "002100f778ceb8431b7a1020ff7ab48f              7.0  \n",
       "003554e2dce176b5555353e4f3555ac8              0.0  \n",
       "004c9cd9d87a3c30c522c48c4fc07416             15.0  "
      ]
     },
     "execution_count": 10,
     "metadata": {},
     "output_type": "execute_result"
    }
   ],
   "source": [
    "# Create two new columns in view of aggregating\n",
    "orders.loc[:,'date_first_sale'] = pd.to_datetime(orders['order_approved_at'])\n",
    "orders['date_last_sale'] = orders['date_first_sale']\n",
    "\n",
    "df = orders.merge(matching_table[['seller_id', 'order_id']], on=\"order_id\")\\\n",
    "           .groupby('seller_id')\\\n",
    "           .agg({\n",
    "            \"date_first_sale\": min,\n",
    "            \"date_last_sale\": max\n",
    "        })\n",
    "\n",
    "df['months_on_olist'] = round((df['date_last_sale'] - df['date_first_sale']) / np.timedelta64(1, 'M'))\n",
    "\n",
    "df.head()"
   ]
  },
  {
   "cell_type": "markdown",
   "id": "304f5861",
   "metadata": {},
   "source": [
    "### get_review_score( )"
   ]
  },
  {
   "cell_type": "markdown",
   "id": "0301a786",
   "metadata": {},
   "source": [
    "Here we'll implement a method that returns a DataFrame with **`seller_id`, `share_of_five_stars`, `share_of_one_stars`, `seller_review_score`** and **`review_cost_per_seller`**."
   ]
  },
  {
   "cell_type": "code",
   "execution_count": 11,
   "id": "b51a9126",
   "metadata": {
    "scrolled": true
   },
   "outputs": [],
   "source": [
    "order = Order()\n",
    "order_reviews = order.get_review_score().copy()\n",
    "\n",
    "\n",
    "matching_table2 = matching_table[['order_id', 'seller_id']].drop_duplicates().copy()\n",
    "df2 = matching_table2.merge(order_reviews, on='order_id')\n",
    "\n",
    "\n",
    "# df2 = df2.groupby('seller_id',\n",
    "#                   as_index=False).agg({'dim_is_one_star': 'mean',\n",
    "#                                        'dim_is_five_star': 'mean',\n",
    "#                                        'review_score': 'mean'})\n",
    "\n",
    "\n",
    "# df2.columns = ['seller_id', 'share_of_one_stars', 'share_of_five_stars', 'seller_review_score']\n",
    "\n",
    "# df2.head()\n"
   ]
  },
  {
   "cell_type": "code",
   "execution_count": 12,
   "id": "a5da1140",
   "metadata": {
    "scrolled": true
   },
   "outputs": [
    {
     "data": {
      "text/html": [
       "<div>\n",
       "<style scoped>\n",
       "    .dataframe tbody tr th:only-of-type {\n",
       "        vertical-align: middle;\n",
       "    }\n",
       "\n",
       "    .dataframe tbody tr th {\n",
       "        vertical-align: top;\n",
       "    }\n",
       "\n",
       "    .dataframe thead th {\n",
       "        text-align: right;\n",
       "    }\n",
       "</style>\n",
       "<table border=\"1\" class=\"dataframe\">\n",
       "  <thead>\n",
       "    <tr style=\"text-align: right;\">\n",
       "      <th></th>\n",
       "      <th>order_id</th>\n",
       "      <th>seller_id</th>\n",
       "      <th>dim_is_five_star</th>\n",
       "      <th>dim_is_one_star</th>\n",
       "      <th>review_score</th>\n",
       "    </tr>\n",
       "  </thead>\n",
       "  <tbody>\n",
       "    <tr>\n",
       "      <th>0</th>\n",
       "      <td>e481f51cbdc54678b7cc49136f2d6af7</td>\n",
       "      <td>3504c0cb71d7fa48d967e0e4c94d59d9</td>\n",
       "      <td>0</td>\n",
       "      <td>0</td>\n",
       "      <td>4</td>\n",
       "    </tr>\n",
       "    <tr>\n",
       "      <th>1</th>\n",
       "      <td>53cdb2fc8bc7dce0b6741e2150273451</td>\n",
       "      <td>289cdb325fb7e7f891c38608bf9e0962</td>\n",
       "      <td>0</td>\n",
       "      <td>0</td>\n",
       "      <td>4</td>\n",
       "    </tr>\n",
       "    <tr>\n",
       "      <th>2</th>\n",
       "      <td>47770eb9100c2d0c44946d9cf07ec65d</td>\n",
       "      <td>4869f7a5dfa277a7dca6462dcf3b52b2</td>\n",
       "      <td>1</td>\n",
       "      <td>0</td>\n",
       "      <td>5</td>\n",
       "    </tr>\n",
       "    <tr>\n",
       "      <th>3</th>\n",
       "      <td>949d5b44dbf5de918fe9c16f97b45f8a</td>\n",
       "      <td>66922902710d126a0e7d26b0e3805106</td>\n",
       "      <td>1</td>\n",
       "      <td>0</td>\n",
       "      <td>5</td>\n",
       "    </tr>\n",
       "    <tr>\n",
       "      <th>4</th>\n",
       "      <td>ad21c59c0840e6cb83a9ceb5573f8159</td>\n",
       "      <td>2c9e548be18521d1c43cde1c582c6de8</td>\n",
       "      <td>1</td>\n",
       "      <td>0</td>\n",
       "      <td>5</td>\n",
       "    </tr>\n",
       "  </tbody>\n",
       "</table>\n",
       "</div>"
      ],
      "text/plain": [
       "                           order_id                         seller_id  \\\n",
       "0  e481f51cbdc54678b7cc49136f2d6af7  3504c0cb71d7fa48d967e0e4c94d59d9   \n",
       "1  53cdb2fc8bc7dce0b6741e2150273451  289cdb325fb7e7f891c38608bf9e0962   \n",
       "2  47770eb9100c2d0c44946d9cf07ec65d  4869f7a5dfa277a7dca6462dcf3b52b2   \n",
       "3  949d5b44dbf5de918fe9c16f97b45f8a  66922902710d126a0e7d26b0e3805106   \n",
       "4  ad21c59c0840e6cb83a9ceb5573f8159  2c9e548be18521d1c43cde1c582c6de8   \n",
       "\n",
       "   dim_is_five_star  dim_is_one_star  review_score  \n",
       "0                 0                0             4  \n",
       "1                 0                0             4  \n",
       "2                 1                0             5  \n",
       "3                 1                0             5  \n",
       "4                 1                0             5  "
      ]
     },
     "execution_count": 12,
     "metadata": {},
     "output_type": "execute_result"
    }
   ],
   "source": [
    "df2.head()"
   ]
  },
  {
   "cell_type": "code",
   "execution_count": null,
   "id": "6fedf67e",
   "metadata": {},
   "outputs": [],
   "source": []
  },
  {
   "cell_type": "code",
   "execution_count": 13,
   "id": "72a88716",
   "metadata": {},
   "outputs": [],
   "source": [
    "#df2.to_csv('/Users/atat/Downloads/My Tableau Repository/Datasources/2021.3/OLIST DATA - TABLEAU/csv/orders_sellers_ratings.csv')"
   ]
  },
  {
   "cell_type": "code",
   "execution_count": null,
   "id": "a977e80f",
   "metadata": {},
   "outputs": [],
   "source": []
  },
  {
   "cell_type": "markdown",
   "id": "b133f7d7",
   "metadata": {},
   "source": [
    "### get_quantity( )"
   ]
  },
  {
   "cell_type": "markdown",
   "id": "f581476f",
   "metadata": {},
   "source": [
    "Here we'll implement a method that returns a DataFrame with **`seller_id`, `n_orders`, `quantity`** and **`quantity_per_order`**."
   ]
  },
  {
   "cell_type": "code",
   "execution_count": 14,
   "id": "a747e0c9",
   "metadata": {
    "scrolled": true
   },
   "outputs": [
    {
     "data": {
      "text/html": [
       "<div>\n",
       "<style scoped>\n",
       "    .dataframe tbody tr th:only-of-type {\n",
       "        vertical-align: middle;\n",
       "    }\n",
       "\n",
       "    .dataframe tbody tr th {\n",
       "        vertical-align: top;\n",
       "    }\n",
       "\n",
       "    .dataframe thead th {\n",
       "        text-align: right;\n",
       "    }\n",
       "</style>\n",
       "<table border=\"1\" class=\"dataframe\">\n",
       "  <thead>\n",
       "    <tr style=\"text-align: right;\">\n",
       "      <th></th>\n",
       "      <th>seller_id</th>\n",
       "      <th>n_orders</th>\n",
       "      <th>quantity</th>\n",
       "      <th>quantity_per_order</th>\n",
       "    </tr>\n",
       "  </thead>\n",
       "  <tbody>\n",
       "    <tr>\n",
       "      <th>0</th>\n",
       "      <td>0015a82c2db000af6aaaf3ae2ecb0532</td>\n",
       "      <td>3</td>\n",
       "      <td>3</td>\n",
       "      <td>1.000000</td>\n",
       "    </tr>\n",
       "    <tr>\n",
       "      <th>1</th>\n",
       "      <td>001cca7ae9ae17fb1caed9dfb1094831</td>\n",
       "      <td>200</td>\n",
       "      <td>239</td>\n",
       "      <td>1.195000</td>\n",
       "    </tr>\n",
       "    <tr>\n",
       "      <th>2</th>\n",
       "      <td>001e6ad469a905060d959994f1b41e4f</td>\n",
       "      <td>1</td>\n",
       "      <td>1</td>\n",
       "      <td>1.000000</td>\n",
       "    </tr>\n",
       "    <tr>\n",
       "      <th>3</th>\n",
       "      <td>002100f778ceb8431b7a1020ff7ab48f</td>\n",
       "      <td>51</td>\n",
       "      <td>56</td>\n",
       "      <td>1.098039</td>\n",
       "    </tr>\n",
       "    <tr>\n",
       "      <th>4</th>\n",
       "      <td>003554e2dce176b5555353e4f3555ac8</td>\n",
       "      <td>1</td>\n",
       "      <td>1</td>\n",
       "      <td>1.000000</td>\n",
       "    </tr>\n",
       "  </tbody>\n",
       "</table>\n",
       "</div>"
      ],
      "text/plain": [
       "                          seller_id  n_orders  quantity  quantity_per_order\n",
       "0  0015a82c2db000af6aaaf3ae2ecb0532         3         3            1.000000\n",
       "1  001cca7ae9ae17fb1caed9dfb1094831       200       239            1.195000\n",
       "2  001e6ad469a905060d959994f1b41e4f         1         1            1.000000\n",
       "3  002100f778ceb8431b7a1020ff7ab48f        51        56            1.098039\n",
       "4  003554e2dce176b5555353e4f3555ac8         1         1            1.000000"
      ]
     },
     "execution_count": 14,
     "metadata": {},
     "output_type": "execute_result"
    }
   ],
   "source": [
    "matching_table3 = matching_table.copy()\n",
    "\n",
    "n_orders = matching_table3.groupby('seller_id')['order_id']\\\n",
    "            .nunique()\\\n",
    "            .reset_index()\n",
    "n_orders.columns = ['seller_id', 'n_orders']\n",
    "\n",
    "quantity = matching_table3.groupby('seller_id', as_index=False).agg({'order_id': 'count'})\n",
    "quantity.columns = ['seller_id', 'quantity']\n",
    "        \n",
    "result = n_orders.merge(quantity, on='seller_id')\n",
    "result['quantity_per_order'] = result['quantity'] / result['n_orders']\n",
    "\n",
    "result.head()"
   ]
  },
  {
   "cell_type": "markdown",
   "id": "11b0bfe2",
   "metadata": {},
   "source": [
    "### get_sales( )"
   ]
  },
  {
   "cell_type": "markdown",
   "id": "7db68766",
   "metadata": {},
   "source": [
    "Here we'll implement a method that returns a DataFrame with **`seller_id`** and **`sales`**."
   ]
  },
  {
   "cell_type": "code",
   "execution_count": 15,
   "id": "b263dfb9",
   "metadata": {
    "scrolled": true
   },
   "outputs": [
    {
     "data": {
      "text/html": [
       "<div>\n",
       "<style scoped>\n",
       "    .dataframe tbody tr th:only-of-type {\n",
       "        vertical-align: middle;\n",
       "    }\n",
       "\n",
       "    .dataframe tbody tr th {\n",
       "        vertical-align: top;\n",
       "    }\n",
       "\n",
       "    .dataframe thead th {\n",
       "        text-align: right;\n",
       "    }\n",
       "</style>\n",
       "<table border=\"1\" class=\"dataframe\">\n",
       "  <thead>\n",
       "    <tr style=\"text-align: right;\">\n",
       "      <th></th>\n",
       "      <th>sales</th>\n",
       "    </tr>\n",
       "    <tr>\n",
       "      <th>seller_id</th>\n",
       "      <th></th>\n",
       "    </tr>\n",
       "  </thead>\n",
       "  <tbody>\n",
       "    <tr>\n",
       "      <th>0015a82c2db000af6aaaf3ae2ecb0532</th>\n",
       "      <td>2685.00</td>\n",
       "    </tr>\n",
       "    <tr>\n",
       "      <th>001cca7ae9ae17fb1caed9dfb1094831</th>\n",
       "      <td>25080.03</td>\n",
       "    </tr>\n",
       "    <tr>\n",
       "      <th>001e6ad469a905060d959994f1b41e4f</th>\n",
       "      <td>250.00</td>\n",
       "    </tr>\n",
       "    <tr>\n",
       "      <th>002100f778ceb8431b7a1020ff7ab48f</th>\n",
       "      <td>1234.50</td>\n",
       "    </tr>\n",
       "    <tr>\n",
       "      <th>003554e2dce176b5555353e4f3555ac8</th>\n",
       "      <td>120.00</td>\n",
       "    </tr>\n",
       "  </tbody>\n",
       "</table>\n",
       "</div>"
      ],
      "text/plain": [
       "                                     sales\n",
       "seller_id                                 \n",
       "0015a82c2db000af6aaaf3ae2ecb0532   2685.00\n",
       "001cca7ae9ae17fb1caed9dfb1094831  25080.03\n",
       "001e6ad469a905060d959994f1b41e4f    250.00\n",
       "002100f778ceb8431b7a1020ff7ab48f   1234.50\n",
       "003554e2dce176b5555353e4f3555ac8    120.00"
      ]
     },
     "execution_count": 15,
     "metadata": {},
     "output_type": "execute_result"
    }
   ],
   "source": [
    "df3 = data['order_items'][['seller_id', 'price']]\\\n",
    "            .groupby('seller_id')\\\n",
    "            .sum()\\\n",
    "            .rename(columns={'price': 'sales'})\n",
    "\n",
    "df3.head()"
   ]
  },
  {
   "cell_type": "code",
   "execution_count": null,
   "id": "12f6e9ec",
   "metadata": {},
   "outputs": [],
   "source": []
  },
  {
   "cell_type": "code",
   "execution_count": null,
   "id": "578933c5",
   "metadata": {},
   "outputs": [],
   "source": []
  },
  {
   "cell_type": "code",
   "execution_count": 18,
   "id": "79b09b61",
   "metadata": {
    "scrolled": true
   },
   "outputs": [
    {
     "data": {
      "text/html": [
       "<div>\n",
       "<style scoped>\n",
       "    .dataframe tbody tr th:only-of-type {\n",
       "        vertical-align: middle;\n",
       "    }\n",
       "\n",
       "    .dataframe tbody tr th {\n",
       "        vertical-align: top;\n",
       "    }\n",
       "\n",
       "    .dataframe thead th {\n",
       "        text-align: right;\n",
       "    }\n",
       "</style>\n",
       "<table border=\"1\" class=\"dataframe\">\n",
       "  <thead>\n",
       "    <tr style=\"text-align: right;\">\n",
       "      <th></th>\n",
       "      <th>order_id</th>\n",
       "      <th>seller_id</th>\n",
       "      <th>dim_is_five_star</th>\n",
       "      <th>dim_is_one_star</th>\n",
       "      <th>review_score</th>\n",
       "      <th>n_orders</th>\n",
       "      <th>quantity</th>\n",
       "      <th>quantity_per_order</th>\n",
       "    </tr>\n",
       "  </thead>\n",
       "  <tbody>\n",
       "    <tr>\n",
       "      <th>0</th>\n",
       "      <td>e481f51cbdc54678b7cc49136f2d6af7</td>\n",
       "      <td>3504c0cb71d7fa48d967e0e4c94d59d9</td>\n",
       "      <td>0</td>\n",
       "      <td>0</td>\n",
       "      <td>4</td>\n",
       "      <td>53</td>\n",
       "      <td>53</td>\n",
       "      <td>1.0</td>\n",
       "    </tr>\n",
       "    <tr>\n",
       "      <th>1</th>\n",
       "      <td>8736140c61ea584cb4250074756d8f3b</td>\n",
       "      <td>3504c0cb71d7fa48d967e0e4c94d59d9</td>\n",
       "      <td>1</td>\n",
       "      <td>0</td>\n",
       "      <td>5</td>\n",
       "      <td>53</td>\n",
       "      <td>53</td>\n",
       "      <td>1.0</td>\n",
       "    </tr>\n",
       "    <tr>\n",
       "      <th>2</th>\n",
       "      <td>a0151737f2f0c6c0a5fd69d45f66ceea</td>\n",
       "      <td>3504c0cb71d7fa48d967e0e4c94d59d9</td>\n",
       "      <td>0</td>\n",
       "      <td>0</td>\n",
       "      <td>4</td>\n",
       "      <td>53</td>\n",
       "      <td>53</td>\n",
       "      <td>1.0</td>\n",
       "    </tr>\n",
       "    <tr>\n",
       "      <th>3</th>\n",
       "      <td>a3bf941183211246f0d42ad757cba127</td>\n",
       "      <td>3504c0cb71d7fa48d967e0e4c94d59d9</td>\n",
       "      <td>0</td>\n",
       "      <td>0</td>\n",
       "      <td>4</td>\n",
       "      <td>53</td>\n",
       "      <td>53</td>\n",
       "      <td>1.0</td>\n",
       "    </tr>\n",
       "    <tr>\n",
       "      <th>4</th>\n",
       "      <td>1462290799412b71be32dd880eaf4e1b</td>\n",
       "      <td>3504c0cb71d7fa48d967e0e4c94d59d9</td>\n",
       "      <td>0</td>\n",
       "      <td>0</td>\n",
       "      <td>4</td>\n",
       "      <td>53</td>\n",
       "      <td>53</td>\n",
       "      <td>1.0</td>\n",
       "    </tr>\n",
       "  </tbody>\n",
       "</table>\n",
       "</div>"
      ],
      "text/plain": [
       "                           order_id                         seller_id  \\\n",
       "0  e481f51cbdc54678b7cc49136f2d6af7  3504c0cb71d7fa48d967e0e4c94d59d9   \n",
       "1  8736140c61ea584cb4250074756d8f3b  3504c0cb71d7fa48d967e0e4c94d59d9   \n",
       "2  a0151737f2f0c6c0a5fd69d45f66ceea  3504c0cb71d7fa48d967e0e4c94d59d9   \n",
       "3  a3bf941183211246f0d42ad757cba127  3504c0cb71d7fa48d967e0e4c94d59d9   \n",
       "4  1462290799412b71be32dd880eaf4e1b  3504c0cb71d7fa48d967e0e4c94d59d9   \n",
       "\n",
       "   dim_is_five_star  dim_is_one_star  review_score  n_orders  quantity  \\\n",
       "0                 0                0             4        53        53   \n",
       "1                 1                0             5        53        53   \n",
       "2                 0                0             4        53        53   \n",
       "3                 0                0             4        53        53   \n",
       "4                 0                0             4        53        53   \n",
       "\n",
       "   quantity_per_order  \n",
       "0                 1.0  \n",
       "1                 1.0  \n",
       "2                 1.0  \n",
       "3                 1.0  \n",
       "4                 1.0  "
      ]
     },
     "execution_count": 18,
     "metadata": {},
     "output_type": "execute_result"
    }
   ],
   "source": [
    "ratings = df2.merge(result, on='seller_id')\n",
    "ratings.head()"
   ]
  },
  {
   "cell_type": "code",
   "execution_count": 19,
   "id": "0910a92d",
   "metadata": {
    "scrolled": true
   },
   "outputs": [
    {
     "data": {
      "text/html": [
       "<div>\n",
       "<style scoped>\n",
       "    .dataframe tbody tr th:only-of-type {\n",
       "        vertical-align: middle;\n",
       "    }\n",
       "\n",
       "    .dataframe tbody tr th {\n",
       "        vertical-align: top;\n",
       "    }\n",
       "\n",
       "    .dataframe thead th {\n",
       "        text-align: right;\n",
       "    }\n",
       "</style>\n",
       "<table border=\"1\" class=\"dataframe\">\n",
       "  <thead>\n",
       "    <tr style=\"text-align: right;\">\n",
       "      <th></th>\n",
       "      <th>order_id</th>\n",
       "      <th>seller_id</th>\n",
       "      <th>dim_is_five_star</th>\n",
       "      <th>dim_is_one_star</th>\n",
       "      <th>review_score</th>\n",
       "      <th>n_orders</th>\n",
       "      <th>quantity</th>\n",
       "      <th>quantity_per_order</th>\n",
       "      <th>sales</th>\n",
       "    </tr>\n",
       "  </thead>\n",
       "  <tbody>\n",
       "    <tr>\n",
       "      <th>0</th>\n",
       "      <td>e481f51cbdc54678b7cc49136f2d6af7</td>\n",
       "      <td>3504c0cb71d7fa48d967e0e4c94d59d9</td>\n",
       "      <td>0</td>\n",
       "      <td>0</td>\n",
       "      <td>4</td>\n",
       "      <td>53</td>\n",
       "      <td>53</td>\n",
       "      <td>1.0</td>\n",
       "      <td>2349.94</td>\n",
       "    </tr>\n",
       "    <tr>\n",
       "      <th>1</th>\n",
       "      <td>8736140c61ea584cb4250074756d8f3b</td>\n",
       "      <td>3504c0cb71d7fa48d967e0e4c94d59d9</td>\n",
       "      <td>1</td>\n",
       "      <td>0</td>\n",
       "      <td>5</td>\n",
       "      <td>53</td>\n",
       "      <td>53</td>\n",
       "      <td>1.0</td>\n",
       "      <td>2349.94</td>\n",
       "    </tr>\n",
       "    <tr>\n",
       "      <th>2</th>\n",
       "      <td>a0151737f2f0c6c0a5fd69d45f66ceea</td>\n",
       "      <td>3504c0cb71d7fa48d967e0e4c94d59d9</td>\n",
       "      <td>0</td>\n",
       "      <td>0</td>\n",
       "      <td>4</td>\n",
       "      <td>53</td>\n",
       "      <td>53</td>\n",
       "      <td>1.0</td>\n",
       "      <td>2349.94</td>\n",
       "    </tr>\n",
       "    <tr>\n",
       "      <th>3</th>\n",
       "      <td>a3bf941183211246f0d42ad757cba127</td>\n",
       "      <td>3504c0cb71d7fa48d967e0e4c94d59d9</td>\n",
       "      <td>0</td>\n",
       "      <td>0</td>\n",
       "      <td>4</td>\n",
       "      <td>53</td>\n",
       "      <td>53</td>\n",
       "      <td>1.0</td>\n",
       "      <td>2349.94</td>\n",
       "    </tr>\n",
       "    <tr>\n",
       "      <th>4</th>\n",
       "      <td>1462290799412b71be32dd880eaf4e1b</td>\n",
       "      <td>3504c0cb71d7fa48d967e0e4c94d59d9</td>\n",
       "      <td>0</td>\n",
       "      <td>0</td>\n",
       "      <td>4</td>\n",
       "      <td>53</td>\n",
       "      <td>53</td>\n",
       "      <td>1.0</td>\n",
       "      <td>2349.94</td>\n",
       "    </tr>\n",
       "  </tbody>\n",
       "</table>\n",
       "</div>"
      ],
      "text/plain": [
       "                           order_id                         seller_id  \\\n",
       "0  e481f51cbdc54678b7cc49136f2d6af7  3504c0cb71d7fa48d967e0e4c94d59d9   \n",
       "1  8736140c61ea584cb4250074756d8f3b  3504c0cb71d7fa48d967e0e4c94d59d9   \n",
       "2  a0151737f2f0c6c0a5fd69d45f66ceea  3504c0cb71d7fa48d967e0e4c94d59d9   \n",
       "3  a3bf941183211246f0d42ad757cba127  3504c0cb71d7fa48d967e0e4c94d59d9   \n",
       "4  1462290799412b71be32dd880eaf4e1b  3504c0cb71d7fa48d967e0e4c94d59d9   \n",
       "\n",
       "   dim_is_five_star  dim_is_one_star  review_score  n_orders  quantity  \\\n",
       "0                 0                0             4        53        53   \n",
       "1                 1                0             5        53        53   \n",
       "2                 0                0             4        53        53   \n",
       "3                 0                0             4        53        53   \n",
       "4                 0                0             4        53        53   \n",
       "\n",
       "   quantity_per_order    sales  \n",
       "0                 1.0  2349.94  \n",
       "1                 1.0  2349.94  \n",
       "2                 1.0  2349.94  \n",
       "3                 1.0  2349.94  \n",
       "4                 1.0  2349.94  "
      ]
     },
     "execution_count": 19,
     "metadata": {},
     "output_type": "execute_result"
    }
   ],
   "source": [
    "ratings = ratings.merge(df3, on='seller_id')\n",
    "ratings.head()"
   ]
  },
  {
   "cell_type": "code",
   "execution_count": 22,
   "id": "2e8a27c5",
   "metadata": {
    "scrolled": true
   },
   "outputs": [
    {
     "data": {
      "text/html": [
       "<div>\n",
       "<style scoped>\n",
       "    .dataframe tbody tr th:only-of-type {\n",
       "        vertical-align: middle;\n",
       "    }\n",
       "\n",
       "    .dataframe tbody tr th {\n",
       "        vertical-align: top;\n",
       "    }\n",
       "\n",
       "    .dataframe thead th {\n",
       "        text-align: right;\n",
       "    }\n",
       "</style>\n",
       "<table border=\"1\" class=\"dataframe\">\n",
       "  <thead>\n",
       "    <tr style=\"text-align: right;\">\n",
       "      <th></th>\n",
       "      <th>order_id</th>\n",
       "      <th>seller_id</th>\n",
       "      <th>dim_is_five_star</th>\n",
       "      <th>dim_is_one_star</th>\n",
       "      <th>review_score</th>\n",
       "      <th>n_orders</th>\n",
       "      <th>quantity</th>\n",
       "      <th>quantity_per_order</th>\n",
       "      <th>sales</th>\n",
       "    </tr>\n",
       "  </thead>\n",
       "  <tbody>\n",
       "    <tr>\n",
       "      <th>0</th>\n",
       "      <td>e481f51cbdc54678b7cc49136f2d6af7</td>\n",
       "      <td>3504c0cb71d7fa48d967e0e4c94d59d9</td>\n",
       "      <td>0</td>\n",
       "      <td>0</td>\n",
       "      <td>4</td>\n",
       "      <td>53</td>\n",
       "      <td>53</td>\n",
       "      <td>1.0</td>\n",
       "      <td>2349.94</td>\n",
       "    </tr>\n",
       "    <tr>\n",
       "      <th>1</th>\n",
       "      <td>8736140c61ea584cb4250074756d8f3b</td>\n",
       "      <td>3504c0cb71d7fa48d967e0e4c94d59d9</td>\n",
       "      <td>1</td>\n",
       "      <td>0</td>\n",
       "      <td>5</td>\n",
       "      <td>53</td>\n",
       "      <td>53</td>\n",
       "      <td>1.0</td>\n",
       "      <td>2349.94</td>\n",
       "    </tr>\n",
       "    <tr>\n",
       "      <th>2</th>\n",
       "      <td>a0151737f2f0c6c0a5fd69d45f66ceea</td>\n",
       "      <td>3504c0cb71d7fa48d967e0e4c94d59d9</td>\n",
       "      <td>0</td>\n",
       "      <td>0</td>\n",
       "      <td>4</td>\n",
       "      <td>53</td>\n",
       "      <td>53</td>\n",
       "      <td>1.0</td>\n",
       "      <td>2349.94</td>\n",
       "    </tr>\n",
       "    <tr>\n",
       "      <th>3</th>\n",
       "      <td>a3bf941183211246f0d42ad757cba127</td>\n",
       "      <td>3504c0cb71d7fa48d967e0e4c94d59d9</td>\n",
       "      <td>0</td>\n",
       "      <td>0</td>\n",
       "      <td>4</td>\n",
       "      <td>53</td>\n",
       "      <td>53</td>\n",
       "      <td>1.0</td>\n",
       "      <td>2349.94</td>\n",
       "    </tr>\n",
       "    <tr>\n",
       "      <th>4</th>\n",
       "      <td>1462290799412b71be32dd880eaf4e1b</td>\n",
       "      <td>3504c0cb71d7fa48d967e0e4c94d59d9</td>\n",
       "      <td>0</td>\n",
       "      <td>0</td>\n",
       "      <td>4</td>\n",
       "      <td>53</td>\n",
       "      <td>53</td>\n",
       "      <td>1.0</td>\n",
       "      <td>2349.94</td>\n",
       "    </tr>\n",
       "  </tbody>\n",
       "</table>\n",
       "</div>"
      ],
      "text/plain": [
       "                           order_id                         seller_id  \\\n",
       "0  e481f51cbdc54678b7cc49136f2d6af7  3504c0cb71d7fa48d967e0e4c94d59d9   \n",
       "1  8736140c61ea584cb4250074756d8f3b  3504c0cb71d7fa48d967e0e4c94d59d9   \n",
       "2  a0151737f2f0c6c0a5fd69d45f66ceea  3504c0cb71d7fa48d967e0e4c94d59d9   \n",
       "3  a3bf941183211246f0d42ad757cba127  3504c0cb71d7fa48d967e0e4c94d59d9   \n",
       "4  1462290799412b71be32dd880eaf4e1b  3504c0cb71d7fa48d967e0e4c94d59d9   \n",
       "\n",
       "   dim_is_five_star  dim_is_one_star  review_score  n_orders  quantity  \\\n",
       "0                 0                0             4        53        53   \n",
       "1                 1                0             5        53        53   \n",
       "2                 0                0             4        53        53   \n",
       "3                 0                0             4        53        53   \n",
       "4                 0                0             4        53        53   \n",
       "\n",
       "   quantity_per_order    sales  \n",
       "0                 1.0  2349.94  \n",
       "1                 1.0  2349.94  \n",
       "2                 1.0  2349.94  \n",
       "3                 1.0  2349.94  \n",
       "4                 1.0  2349.94  "
      ]
     },
     "execution_count": 22,
     "metadata": {},
     "output_type": "execute_result"
    }
   ],
   "source": [
    "ratings.head()"
   ]
  },
  {
   "cell_type": "code",
   "execution_count": 23,
   "id": "301c95a6",
   "metadata": {},
   "outputs": [],
   "source": [
    "ratings.to_csv('/Users/atat/Downloads/My Tableau Repository/Datasources/2021.3/OLIST DATA - TABLEAU/csv/orders_sellers_ratings.csv')"
   ]
  },
  {
   "cell_type": "markdown",
   "id": "d9aa31a1",
   "metadata": {},
   "source": [
    "## get_training_data( )"
   ]
  },
  {
   "cell_type": "markdown",
   "id": "e4bab94b",
   "metadata": {},
   "source": [
    "When `get_training_data()` is called on an instance of **Seller( )**, it will use the methods defined above to create a DataFrame with all unique sellers as index and the following columns: **`seller_id`, `seller_city`, `seller_state`, `delay_to_carrier`, `seller_wait_time`, `share_of_five_stars`, `share_of_one_stars`, `seller_review_score`, `n_orders`, `quantity`,  `quantity_per_order`, `date_first_sale`, `date_last_sale`, `sales`** and **`review_cost_per_seller`**"
   ]
  },
  {
   "cell_type": "code",
   "execution_count": null,
   "id": "fda07c89",
   "metadata": {
    "scrolled": false
   },
   "outputs": [],
   "source": [
    "from olist.seller import Seller \n",
    "Seller().get_training_data().head()"
   ]
  },
  {
   "cell_type": "code",
   "execution_count": null,
   "id": "ea7233d1",
   "metadata": {},
   "outputs": [],
   "source": []
  }
 ],
 "metadata": {
  "kernelspec": {
   "display_name": "Python 3",
   "language": "python",
   "name": "python3"
  },
  "language_info": {
   "codemirror_mode": {
    "name": "ipython",
    "version": 3
   },
   "file_extension": ".py",
   "mimetype": "text/x-python",
   "name": "python",
   "nbconvert_exporter": "python",
   "pygments_lexer": "ipython3",
   "version": "3.8.6"
  },
  "toc": {
   "base_numbering": "1",
   "nav_menu": {},
   "number_sections": true,
   "sideBar": true,
   "skip_h1_title": true,
   "title_cell": "Table of Contents",
   "title_sidebar": "Contents",
   "toc_cell": false,
   "toc_position": {},
   "toc_section_display": true,
   "toc_window_display": false
  }
 },
 "nbformat": 4,
 "nbformat_minor": 5
}
