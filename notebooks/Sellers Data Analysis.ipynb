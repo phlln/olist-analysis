{
 "cells": [
  {
   "cell_type": "markdown",
   "id": "59776271",
   "metadata": {},
   "source": [
    "# Sellers Data Analysis"
   ]
  },
  {
   "cell_type": "markdown",
   "id": "f5e499b9",
   "metadata": {},
   "source": [
    "**Notebook Objective**\n",
    "\n",
    "Since our analysis of the **Orders** dataset from Brazilian e-commerce platform **Olist** revealed that even though `wait_time` was one of the more significant factors in explaining `review_score`, the low R-squared in our regression model suggested that there were other factors to consider outside of the Orders data.\n",
    "\n",
    "In this notebook we'll take a closer look at the **Sellers** dataset from **Olist** to see if there are elements associated with the `review_score`. In the first three sections, we'll do some exploratory data analysis by inspecting features, examine distributions, and then look for any correlation. Next, we'll apply linear and logistic regression models to better understand the relationship between specific features and seller `review_score`.\n",
    "\n",
    "***Exploratory Data Analysis***\n",
    "\n",
    "1. Inspect Features\n",
    "2. Distributions\n",
    "2. Correlations"
   ]
  },
  {
   "cell_type": "markdown",
   "id": "a34f8f6a",
   "metadata": {},
   "source": [
    "***Models***\n",
    "\n",
    "3. Multivariate Regression\n",
    "4. Logistic Regression\n",
    "\n",
    "\n"
   ]
  },
  {
   "cell_type": "markdown",
   "id": "5ca87bfd",
   "metadata": {},
   "source": [
    "If bad reviews are indeed linked to particular sellers, perhaps we'll be able to identify sellers who repeatedly perform poorly and try to understand why. \n",
    "\n",
    "We can then use this to respond to the CEO's request to improve Olist's customer satisfaction ratings and increase profit margins."
   ]
  },
  {
   "cell_type": "code",
   "execution_count": 1,
   "id": "591e5db6",
   "metadata": {},
   "outputs": [
    {
     "data": {
      "text/plain": [
       "['/Users/atat/code/phlln/olist-analysis/notebooks',\n",
       " '/Users/atat/code/phlln/data-challenges/04-Decision-Science',\n",
       " '/Users/atat/code/phlln/olist-analysis/notebooks',\n",
       " '/Users/atat/.pyenv/versions/3.8.6/lib/python38.zip',\n",
       " '/Users/atat/.pyenv/versions/3.8.6/lib/python3.8',\n",
       " '/Users/atat/.pyenv/versions/3.8.6/lib/python3.8/lib-dynload',\n",
       " '',\n",
       " '/Users/atat/.pyenv/versions/3.8.6/envs/lewagon/lib/python3.8/site-packages',\n",
       " '/Users/atat/code/phlln/mlproject',\n",
       " '/Users/atat/code/phlln/TFM_TrainAtScale',\n",
       " '/Users/atat/code/phlln/TFM_PredictInProd',\n",
       " '/Users/atat/.pyenv/versions/3.8.6/envs/lewagon/lib/python3.8/site-packages/IPython/extensions',\n",
       " '/Users/atat/.ipython']"
      ]
     },
     "execution_count": 1,
     "metadata": {},
     "output_type": "execute_result"
    }
   ],
   "source": [
    "import os\n",
    "os.sys.path"
   ]
  },
  {
   "cell_type": "code",
   "execution_count": 2,
   "id": "313f7a8c",
   "metadata": {},
   "outputs": [],
   "source": [
    "os.sys.path.insert(0, '/Users/atat/code/phlln/olist-analysis/' )"
   ]
  },
  {
   "cell_type": "code",
   "execution_count": 3,
   "id": "6a8b9f45",
   "metadata": {},
   "outputs": [
    {
     "data": {
      "text/plain": [
       "['/Users/atat/code/phlln/olist-analysis/',\n",
       " '/Users/atat/code/phlln/olist-analysis/notebooks',\n",
       " '/Users/atat/code/phlln/data-challenges/04-Decision-Science',\n",
       " '/Users/atat/code/phlln/olist-analysis/notebooks',\n",
       " '/Users/atat/.pyenv/versions/3.8.6/lib/python38.zip',\n",
       " '/Users/atat/.pyenv/versions/3.8.6/lib/python3.8',\n",
       " '/Users/atat/.pyenv/versions/3.8.6/lib/python3.8/lib-dynload',\n",
       " '',\n",
       " '/Users/atat/.pyenv/versions/3.8.6/envs/lewagon/lib/python3.8/site-packages',\n",
       " '/Users/atat/code/phlln/mlproject',\n",
       " '/Users/atat/code/phlln/TFM_TrainAtScale',\n",
       " '/Users/atat/code/phlln/TFM_PredictInProd',\n",
       " '/Users/atat/.pyenv/versions/3.8.6/envs/lewagon/lib/python3.8/site-packages/IPython/extensions',\n",
       " '/Users/atat/.ipython']"
      ]
     },
     "execution_count": 3,
     "metadata": {},
     "output_type": "execute_result"
    }
   ],
   "source": [
    "os.sys.path"
   ]
  },
  {
   "cell_type": "code",
   "execution_count": 4,
   "id": "ca5c414d",
   "metadata": {},
   "outputs": [],
   "source": [
    "# Import relevant libraries and modules\n",
    "%load_ext autoreload\n",
    "%autoreload 2\n",
    "\n",
    "import pandas as pd\n",
    "import numpy as np\n",
    "import seaborn as sns\n",
    "import matplotlib.pyplot as plt\n",
    "import statsmodels.formula.api as smf\n",
    "from statsmodels.stats.outliers_influence import variance_inflation_factor as vif\n",
    "import math\n",
    "\n",
    "from olist.seller import Seller"
   ]
  },
  {
   "cell_type": "markdown",
   "id": "7b39b381",
   "metadata": {},
   "source": [
    "## Inspect Features"
   ]
  },
  {
   "cell_type": "code",
   "execution_count": 5,
   "id": "7fbd52c3",
   "metadata": {
    "scrolled": false
   },
   "outputs": [
    {
     "data": {
      "text/html": [
       "<div>\n",
       "<style scoped>\n",
       "    .dataframe tbody tr th:only-of-type {\n",
       "        vertical-align: middle;\n",
       "    }\n",
       "\n",
       "    .dataframe tbody tr th {\n",
       "        vertical-align: top;\n",
       "    }\n",
       "\n",
       "    .dataframe thead th {\n",
       "        text-align: right;\n",
       "    }\n",
       "</style>\n",
       "<table border=\"1\" class=\"dataframe\">\n",
       "  <thead>\n",
       "    <tr style=\"text-align: right;\">\n",
       "      <th></th>\n",
       "      <th>seller_id</th>\n",
       "      <th>seller_city</th>\n",
       "      <th>seller_state</th>\n",
       "      <th>delay_to_carrier</th>\n",
       "      <th>seller_wait_time</th>\n",
       "      <th>date_first_sale</th>\n",
       "      <th>date_last_sale</th>\n",
       "      <th>months_on_olist</th>\n",
       "      <th>share_of_one_stars</th>\n",
       "      <th>share_of_five_stars</th>\n",
       "      <th>seller_review_score</th>\n",
       "      <th>review_cost_per_seller</th>\n",
       "      <th>n_orders</th>\n",
       "      <th>quantity</th>\n",
       "      <th>quantity_per_order</th>\n",
       "      <th>sales</th>\n",
       "    </tr>\n",
       "  </thead>\n",
       "  <tbody>\n",
       "    <tr>\n",
       "      <th>0</th>\n",
       "      <td>3442f8959a84dea7ee197c632cb2df15</td>\n",
       "      <td>campinas</td>\n",
       "      <td>SP</td>\n",
       "      <td>0.000000</td>\n",
       "      <td>13.018588</td>\n",
       "      <td>2017-05-05 16:25:11</td>\n",
       "      <td>2017-08-30 12:50:19</td>\n",
       "      <td>4.0</td>\n",
       "      <td>0.333333</td>\n",
       "      <td>0.333333</td>\n",
       "      <td>3.00</td>\n",
       "      <td>140</td>\n",
       "      <td>3</td>\n",
       "      <td>3</td>\n",
       "      <td>1.000</td>\n",
       "      <td>218.70</td>\n",
       "    </tr>\n",
       "    <tr>\n",
       "      <th>1</th>\n",
       "      <td>d1b65fc7debc3361ea86b5f14c68d2e2</td>\n",
       "      <td>mogi guacu</td>\n",
       "      <td>SP</td>\n",
       "      <td>0.000000</td>\n",
       "      <td>9.065716</td>\n",
       "      <td>2017-03-29 02:10:34</td>\n",
       "      <td>2018-06-06 20:15:21</td>\n",
       "      <td>14.0</td>\n",
       "      <td>0.050000</td>\n",
       "      <td>0.725000</td>\n",
       "      <td>4.55</td>\n",
       "      <td>240</td>\n",
       "      <td>40</td>\n",
       "      <td>41</td>\n",
       "      <td>1.025</td>\n",
       "      <td>11703.07</td>\n",
       "    </tr>\n",
       "    <tr>\n",
       "      <th>2</th>\n",
       "      <td>ce3ad9de960102d0677a81f5d0bb7b2d</td>\n",
       "      <td>rio de janeiro</td>\n",
       "      <td>RJ</td>\n",
       "      <td>0.000000</td>\n",
       "      <td>4.042292</td>\n",
       "      <td>2018-07-30 12:44:49</td>\n",
       "      <td>2018-07-30 12:44:49</td>\n",
       "      <td>0.0</td>\n",
       "      <td>0.000000</td>\n",
       "      <td>1.000000</td>\n",
       "      <td>5.00</td>\n",
       "      <td>0</td>\n",
       "      <td>1</td>\n",
       "      <td>1</td>\n",
       "      <td>1.000</td>\n",
       "      <td>158.00</td>\n",
       "    </tr>\n",
       "    <tr>\n",
       "      <th>3</th>\n",
       "      <td>c0f3eea2e14555b6faeea3dd58c1b1c3</td>\n",
       "      <td>sao paulo</td>\n",
       "      <td>SP</td>\n",
       "      <td>0.000000</td>\n",
       "      <td>5.667187</td>\n",
       "      <td>2018-08-03 00:44:08</td>\n",
       "      <td>2018-08-03 00:44:08</td>\n",
       "      <td>0.0</td>\n",
       "      <td>0.000000</td>\n",
       "      <td>1.000000</td>\n",
       "      <td>5.00</td>\n",
       "      <td>0</td>\n",
       "      <td>1</td>\n",
       "      <td>1</td>\n",
       "      <td>1.000</td>\n",
       "      <td>79.99</td>\n",
       "    </tr>\n",
       "    <tr>\n",
       "      <th>4</th>\n",
       "      <td>51a04a8a6bdcb23deccc82b0b80742cf</td>\n",
       "      <td>braganca paulista</td>\n",
       "      <td>SP</td>\n",
       "      <td>3.353727</td>\n",
       "      <td>35.314861</td>\n",
       "      <td>2017-11-14 12:15:25</td>\n",
       "      <td>2017-11-14 12:15:25</td>\n",
       "      <td>0.0</td>\n",
       "      <td>1.000000</td>\n",
       "      <td>0.000000</td>\n",
       "      <td>1.00</td>\n",
       "      <td>100</td>\n",
       "      <td>1</td>\n",
       "      <td>1</td>\n",
       "      <td>1.000</td>\n",
       "      <td>167.99</td>\n",
       "    </tr>\n",
       "  </tbody>\n",
       "</table>\n",
       "</div>"
      ],
      "text/plain": [
       "                          seller_id        seller_city seller_state  \\\n",
       "0  3442f8959a84dea7ee197c632cb2df15           campinas           SP   \n",
       "1  d1b65fc7debc3361ea86b5f14c68d2e2         mogi guacu           SP   \n",
       "2  ce3ad9de960102d0677a81f5d0bb7b2d     rio de janeiro           RJ   \n",
       "3  c0f3eea2e14555b6faeea3dd58c1b1c3          sao paulo           SP   \n",
       "4  51a04a8a6bdcb23deccc82b0b80742cf  braganca paulista           SP   \n",
       "\n",
       "   delay_to_carrier  seller_wait_time     date_first_sale      date_last_sale  \\\n",
       "0          0.000000         13.018588 2017-05-05 16:25:11 2017-08-30 12:50:19   \n",
       "1          0.000000          9.065716 2017-03-29 02:10:34 2018-06-06 20:15:21   \n",
       "2          0.000000          4.042292 2018-07-30 12:44:49 2018-07-30 12:44:49   \n",
       "3          0.000000          5.667187 2018-08-03 00:44:08 2018-08-03 00:44:08   \n",
       "4          3.353727         35.314861 2017-11-14 12:15:25 2017-11-14 12:15:25   \n",
       "\n",
       "   months_on_olist  share_of_one_stars  share_of_five_stars  \\\n",
       "0              4.0            0.333333             0.333333   \n",
       "1             14.0            0.050000             0.725000   \n",
       "2              0.0            0.000000             1.000000   \n",
       "3              0.0            0.000000             1.000000   \n",
       "4              0.0            1.000000             0.000000   \n",
       "\n",
       "   seller_review_score  review_cost_per_seller  n_orders  quantity  \\\n",
       "0                 3.00                     140         3         3   \n",
       "1                 4.55                     240        40        41   \n",
       "2                 5.00                       0         1         1   \n",
       "3                 5.00                       0         1         1   \n",
       "4                 1.00                     100         1         1   \n",
       "\n",
       "   quantity_per_order     sales  \n",
       "0               1.000    218.70  \n",
       "1               1.025  11703.07  \n",
       "2               1.000    158.00  \n",
       "3               1.000     79.99  \n",
       "4               1.000    167.99  "
      ]
     },
     "execution_count": 5,
     "metadata": {},
     "output_type": "execute_result"
    }
   ],
   "source": [
    "# Load and inspect Seller Data\n",
    "sellers = Seller().get_training_data()\n",
    "sellers.head()"
   ]
  },
  {
   "cell_type": "code",
   "execution_count": 6,
   "id": "f343f9ec",
   "metadata": {},
   "outputs": [
    {
     "name": "stdout",
     "output_type": "stream",
     "text": [
      "<class 'pandas.core.frame.DataFrame'>\n",
      "Int64Index: 2970 entries, 0 to 2969\n",
      "Data columns (total 16 columns):\n",
      " #   Column                  Non-Null Count  Dtype         \n",
      "---  ------                  --------------  -----         \n",
      " 0   seller_id               2970 non-null   object        \n",
      " 1   seller_city             2970 non-null   object        \n",
      " 2   seller_state            2970 non-null   object        \n",
      " 3   delay_to_carrier        2970 non-null   float64       \n",
      " 4   seller_wait_time        2970 non-null   float64       \n",
      " 5   date_first_sale         2970 non-null   datetime64[ns]\n",
      " 6   date_last_sale          2970 non-null   datetime64[ns]\n",
      " 7   months_on_olist         2970 non-null   float64       \n",
      " 8   share_of_one_stars      2970 non-null   float64       \n",
      " 9   share_of_five_stars     2970 non-null   float64       \n",
      " 10  seller_review_score     2970 non-null   float64       \n",
      " 11  review_cost_per_seller  2970 non-null   int64         \n",
      " 12  n_orders                2970 non-null   int64         \n",
      " 13  quantity                2970 non-null   int64         \n",
      " 14  quantity_per_order      2970 non-null   float64       \n",
      " 15  sales                   2970 non-null   float64       \n",
      "dtypes: datetime64[ns](2), float64(8), int64(3), object(3)\n",
      "memory usage: 394.5+ KB\n"
     ]
    }
   ],
   "source": [
    "# Inspect data types and check for null values\n",
    "sellers.info()"
   ]
  },
  {
   "cell_type": "markdown",
   "id": "e249221f",
   "metadata": {},
   "source": [
    "## Distributions"
   ]
  },
  {
   "cell_type": "markdown",
   "id": "4820fd36",
   "metadata": {},
   "source": [
    "Let's begin by analyzing features from the **Sellers** dataset and understanding their distributions. We'll examine them in smaller groups:\n",
    "- `delay_to_carrier`, `seller_wait_time`\n",
    "- `n_orders`, `quantity`, `quantity_per_order`, `sales`, and `months_on_olist`\n",
    "- `seller_review_score`, `share_of_one_stars`, and `share_of_five_stars`"
   ]
  },
  {
   "cell_type": "markdown",
   "id": "14a51e5d",
   "metadata": {},
   "source": [
    "### Distributions for `delay_to_carrier`, `seller_wait_time`"
   ]
  },
  {
   "cell_type": "markdown",
   "id": "cfab20e3",
   "metadata": {},
   "source": [
    "This pair of features relates to the time associated with order fulfillment and is calculated per seller.\n",
    "\n",
    "- `delay_to_carrier` represents the average delay (in days) by a seller for delivering an order to the carrier. We can understand this as the delay to an order that is *attributable* to the seller.\n",
    "\n",
    "- `seller_wait_time` represents the average `wait_time` (in days), starting from the customer placing an order online to receiving delivery of that order. \n",
    "(**Note:** This differs from the `wait_time` feature in the **Orders** dataset since it's been calculated as the average `wait_time` *for each seller*). \n",
    "\n"
   ]
  },
  {
   "cell_type": "code",
   "execution_count": 7,
   "id": "35f7a26f",
   "metadata": {
    "scrolled": true
   },
   "outputs": [
    {
     "data": {
      "image/png": "[encoded data removed]",
      "text/plain": [
       "<Figure size 1080x432 with 2 Axes>"
      ]
     },
     "metadata": {},
     "output_type": "display_data"
    }
   ],
   "source": [
    "sns.set_style('darkgrid')\n",
    "fig, (ax1, ax2) = plt.subplots(1,2)\n",
    "plt.figure(figsize=(15,6)).suptitle('Distribution of Delivery-related Variables', fontsize=20)\n",
    "plt.close(1)\n",
    "\n",
    "# 'delay_to_carrier' histogram\n",
    "ax1 = plt.subplot(121)\n",
    "ax1 = sns.histplot(sellers.delay_to_carrier)\n",
    "plt.xlabel('delay_to_carrier (days)')\n",
    "\n",
    "# 'seller_wait_time' histogram\n",
    "ax2 = plt.subplot(122)\n",
    "ax2 = sns.histplot(sellers.seller_wait_time)\n",
    "plt.xlabel('seller_wait_time (days)')\n",
    "\n",
    "plt.show(); "
   ]
  },
  {
   "cell_type": "markdown",
   "id": "676f9bda",
   "metadata": {},
   "source": [
    "There are some outliers here that skew the distribution plot, so let's also check out the summary stats. "
   ]
  },
  {
   "cell_type": "code",
   "execution_count": 8,
   "id": "677e8227",
   "metadata": {
    "scrolled": true
   },
   "outputs": [
    {
     "data": {
      "text/html": [
       "<div>\n",
       "<style scoped>\n",
       "    .dataframe tbody tr th:only-of-type {\n",
       "        vertical-align: middle;\n",
       "    }\n",
       "\n",
       "    .dataframe tbody tr th {\n",
       "        vertical-align: top;\n",
       "    }\n",
       "\n",
       "    .dataframe thead th {\n",
       "        text-align: right;\n",
       "    }\n",
       "</style>\n",
       "<table border=\"1\" class=\"dataframe\">\n",
       "  <thead>\n",
       "    <tr style=\"text-align: right;\">\n",
       "      <th></th>\n",
       "      <th>delay_to_carrier</th>\n",
       "      <th>seller_wait_time</th>\n",
       "    </tr>\n",
       "  </thead>\n",
       "  <tbody>\n",
       "    <tr>\n",
       "      <th>count</th>\n",
       "      <td>2970.000000</td>\n",
       "      <td>2970.000000</td>\n",
       "    </tr>\n",
       "    <tr>\n",
       "      <th>mean</th>\n",
       "      <td>0.402786</td>\n",
       "      <td>12.160414</td>\n",
       "    </tr>\n",
       "    <tr>\n",
       "      <th>std</th>\n",
       "      <td>2.391687</td>\n",
       "      <td>7.103208</td>\n",
       "    </tr>\n",
       "    <tr>\n",
       "      <th>min</th>\n",
       "      <td>0.000000</td>\n",
       "      <td>1.214178</td>\n",
       "    </tr>\n",
       "    <tr>\n",
       "      <th>25%</th>\n",
       "      <td>0.000000</td>\n",
       "      <td>8.289263</td>\n",
       "    </tr>\n",
       "    <tr>\n",
       "      <th>50%</th>\n",
       "      <td>0.000000</td>\n",
       "      <td>11.120969</td>\n",
       "    </tr>\n",
       "    <tr>\n",
       "      <th>75%</th>\n",
       "      <td>0.000000</td>\n",
       "      <td>14.240673</td>\n",
       "    </tr>\n",
       "    <tr>\n",
       "      <th>max</th>\n",
       "      <td>45.434039</td>\n",
       "      <td>189.863160</td>\n",
       "    </tr>\n",
       "  </tbody>\n",
       "</table>\n",
       "</div>"
      ],
      "text/plain": [
       "       delay_to_carrier  seller_wait_time\n",
       "count       2970.000000       2970.000000\n",
       "mean           0.402786         12.160414\n",
       "std            2.391687          7.103208\n",
       "min            0.000000          1.214178\n",
       "25%            0.000000          8.289263\n",
       "50%            0.000000         11.120969\n",
       "75%            0.000000         14.240673\n",
       "max           45.434039        189.863160"
      ]
     },
     "execution_count": 8,
     "metadata": {},
     "output_type": "execute_result"
    }
   ],
   "source": [
    "# Summary stats table\n",
    "sellers[['delay_to_carrier','seller_wait_time']].describe()"
   ]
  },
  {
   "cell_type": "markdown",
   "id": "32ed967a",
   "metadata": {},
   "source": [
    "We can see that delays in the order caused by the seller are actually not that common, so by itself the feature `delay_to_carrier` is not enough to provide a full enough explanation for low review scores."
   ]
  },
  {
   "cell_type": "markdown",
   "id": "18b4607c",
   "metadata": {},
   "source": [
    "While the plot for `seller_wait_time` is heavily right-skewed, this appears to be the effect of only a few outliers. We also see that the mean is still close to the median signaling that most sellers are clustered tightly around the center and the pull of outliers is not extreme. \n",
    "\n",
    "Additionally, we can confirm this by checking the **coefficient of variation** (std / mean). When the value is less than one, we have **low variance** (7.10 / 12.16 = **0.58**)."
   ]
  },
  {
   "cell_type": "markdown",
   "id": "a03892b6",
   "metadata": {},
   "source": [
    "REMOVE BELOW?"
   ]
  },
  {
   "cell_type": "code",
   "execution_count": 9,
   "id": "d3611ad0",
   "metadata": {},
   "outputs": [
    {
     "data": {
      "text/plain": [
       "243"
      ]
     },
     "execution_count": 9,
     "metadata": {},
     "output_type": "execute_result"
    }
   ],
   "source": [
    "# How many sellers contribute to delays?\n",
    "num_sellers_delay = len((sellers[sellers['delay_to_carrier'] > 0]))\n",
    "num_sellers_delay"
   ]
  },
  {
   "cell_type": "code",
   "execution_count": 10,
   "id": "a0192740",
   "metadata": {},
   "outputs": [
    {
     "data": {
      "text/plain": [
       "8.0"
      ]
     },
     "execution_count": 10,
     "metadata": {},
     "output_type": "execute_result"
    }
   ],
   "source": [
    "#What percentage of sellers contribute to delays?\n",
    "round(num_sellers_delay / len(sellers), 2) * 100"
   ]
  },
  {
   "cell_type": "code",
   "execution_count": 11,
   "id": "94839950",
   "metadata": {},
   "outputs": [
    {
     "data": {
      "text/plain": [
       "3.3051861527612707"
      ]
     },
     "execution_count": 11,
     "metadata": {},
     "output_type": "execute_result"
    }
   ],
   "source": [
    "# What is the average review score for sellers that have delayed shipment to carriers?\n",
    "sellers[sellers['delay_to_carrier'] > 0].seller_review_score.mean()\n"
   ]
  },
  {
   "cell_type": "code",
   "execution_count": 12,
   "id": "3bdfb1f2",
   "metadata": {},
   "outputs": [
    {
     "data": {
      "text/plain": [
       "4.086880345061921"
      ]
     },
     "execution_count": 12,
     "metadata": {},
     "output_type": "execute_result"
    }
   ],
   "source": [
    "#How does that compare to the review score of all sellers? \n",
    "sellers.seller_review_score.mean()"
   ]
  },
  {
   "cell_type": "markdown",
   "id": "d051592e",
   "metadata": {},
   "source": [
    "With sellers who have had delayed shipment to carriers, there is a 0.78 (4.09 - 3.31) decrease in avg. review score. Let's keep 'delay_to_carrier' as a feature to include in OLS Regression since it appears to have an impact on customer reviews."
   ]
  },
  {
   "cell_type": "markdown",
   "id": "4867134f",
   "metadata": {},
   "source": [
    "Appears to be many new sellers on Olist platform. Include 'months_on_olist' as feature in OLS regression to see impact \n",
    "on customer reviews"
   ]
  },
  {
   "cell_type": "markdown",
   "id": "2eef5be7",
   "metadata": {},
   "source": [
    "### Distributions for `n_orders`, `quantity`, `quantity_per_order`, `sales`, `months_on_olist`"
   ]
  },
  {
   "cell_type": "markdown",
   "id": "e098f1b3",
   "metadata": {},
   "source": [
    "These features indicate the various quantities related to orders on a per seller basis:  "
   ]
  },
  {
   "cell_type": "markdown",
   "id": "1f39859a",
   "metadata": {},
   "source": [
    "- `n_orders` the total number of orders a seller has had while on the platform\n",
    "- `quantity` the total number of items sold by a seller\n",
    "- `quantity_per_order` the average number of items per order for a seller. This is derived from `n_orders` and `quantity`\n",
    "- `sales` the total sales (in BRL) each seller has made"
   ]
  },
  {
   "cell_type": "code",
   "execution_count": 13,
   "id": "cee361ff",
   "metadata": {
    "scrolled": true
   },
   "outputs": [
    {
     "data": {
      "image/png": "[encoded data removed]",
      "text/plain": [
       "<Figure size 1080x432 with 4 Axes>"
      ]
     },
     "metadata": {},
     "output_type": "display_data"
    }
   ],
   "source": [
    "fig, (ax1, ax2, ax3, ax2) = plt.subplots(4,1)\n",
    "plt.figure(figsize=(15,6)).suptitle('Distribution for Order-size related Variables', fontsize=20)\n",
    "plt.close(1)\n",
    "\n",
    "#'n_orders'\n",
    "ax1 = plt.subplot(411)\n",
    "ax1 = sns.histplot(sellers.n_orders)\n",
    "plt.tight_layout()\n",
    "\n",
    "#'quantity'\n",
    "ax2 = plt.subplot(412)\n",
    "ax2 = sns.histplot(sellers.quantity)\n",
    "\n",
    "#'quantity_per_order'\n",
    "ax3 = plt.subplot(413)\n",
    "ax3 = sns.histplot(sellers.quantity_per_order)\n",
    "\n",
    "#'sales'\n",
    "ax3 = plt.subplot(414)\n",
    "ax3 = sns.histplot(sellers.sales)\n",
    "\n",
    "plt.show();"
   ]
  },
  {
   "cell_type": "markdown",
   "id": "4049bc43",
   "metadata": {},
   "source": [
    "The outliers are quite extreme with these features making the plots difficult to read. We'll re-plot them with an adjusted view that excludes outliers."
   ]
  },
  {
   "cell_type": "code",
   "execution_count": 14,
   "id": "75814c35",
   "metadata": {
    "scrolled": true
   },
   "outputs": [
    {
     "data": {
      "text/html": [
       "<div>\n",
       "<style scoped>\n",
       "    .dataframe tbody tr th:only-of-type {\n",
       "        vertical-align: middle;\n",
       "    }\n",
       "\n",
       "    .dataframe tbody tr th {\n",
       "        vertical-align: top;\n",
       "    }\n",
       "\n",
       "    .dataframe thead th {\n",
       "        text-align: right;\n",
       "    }\n",
       "</style>\n",
       "<table border=\"1\" class=\"dataframe\">\n",
       "  <thead>\n",
       "    <tr style=\"text-align: right;\">\n",
       "      <th></th>\n",
       "      <th>n_orders</th>\n",
       "      <th>quantity</th>\n",
       "      <th>quantity_per_order</th>\n",
       "      <th>sales</th>\n",
       "    </tr>\n",
       "  </thead>\n",
       "  <tbody>\n",
       "    <tr>\n",
       "      <th>count</th>\n",
       "      <td>2970.000000</td>\n",
       "      <td>2970.000000</td>\n",
       "      <td>2970.000000</td>\n",
       "      <td>2970.000000</td>\n",
       "    </tr>\n",
       "    <tr>\n",
       "      <th>mean</th>\n",
       "      <td>33.617508</td>\n",
       "      <td>38.085185</td>\n",
       "      <td>1.162150</td>\n",
       "      <td>4566.515906</td>\n",
       "    </tr>\n",
       "    <tr>\n",
       "      <th>std</th>\n",
       "      <td>107.133714</td>\n",
       "      <td>122.417269</td>\n",
       "      <td>0.443348</td>\n",
       "      <td>14185.211617</td>\n",
       "    </tr>\n",
       "    <tr>\n",
       "      <th>min</th>\n",
       "      <td>1.000000</td>\n",
       "      <td>1.000000</td>\n",
       "      <td>1.000000</td>\n",
       "      <td>6.500000</td>\n",
       "    </tr>\n",
       "    <tr>\n",
       "      <th>25%</th>\n",
       "      <td>2.000000</td>\n",
       "      <td>3.000000</td>\n",
       "      <td>1.000000</td>\n",
       "      <td>239.800000</td>\n",
       "    </tr>\n",
       "    <tr>\n",
       "      <th>50%</th>\n",
       "      <td>7.000000</td>\n",
       "      <td>8.000000</td>\n",
       "      <td>1.000000</td>\n",
       "      <td>893.500000</td>\n",
       "    </tr>\n",
       "    <tr>\n",
       "      <th>75%</th>\n",
       "      <td>23.000000</td>\n",
       "      <td>26.000000</td>\n",
       "      <td>1.152009</td>\n",
       "      <td>3586.022500</td>\n",
       "    </tr>\n",
       "    <tr>\n",
       "      <th>max</th>\n",
       "      <td>1854.000000</td>\n",
       "      <td>2039.000000</td>\n",
       "      <td>15.000000</td>\n",
       "      <td>229472.630000</td>\n",
       "    </tr>\n",
       "  </tbody>\n",
       "</table>\n",
       "</div>"
      ],
      "text/plain": [
       "          n_orders     quantity  quantity_per_order          sales\n",
       "count  2970.000000  2970.000000         2970.000000    2970.000000\n",
       "mean     33.617508    38.085185            1.162150    4566.515906\n",
       "std     107.133714   122.417269            0.443348   14185.211617\n",
       "min       1.000000     1.000000            1.000000       6.500000\n",
       "25%       2.000000     3.000000            1.000000     239.800000\n",
       "50%       7.000000     8.000000            1.000000     893.500000\n",
       "75%      23.000000    26.000000            1.152009    3586.022500\n",
       "max    1854.000000  2039.000000           15.000000  229472.630000"
      ]
     },
     "execution_count": 14,
     "metadata": {},
     "output_type": "execute_result"
    }
   ],
   "source": [
    "sellers[['n_orders', 'quantity', 'quantity_per_order', 'sales']].describe()"
   ]
  },
  {
   "cell_type": "code",
   "execution_count": 15,
   "id": "ed728762",
   "metadata": {},
   "outputs": [
    {
     "data": {
      "text/plain": [
       "[31.5, 34.5, 0.22801383399209474, 5019.33375]"
      ]
     },
     "execution_count": 15,
     "metadata": {},
     "output_type": "execute_result"
    }
   ],
   "source": [
    "# Outlier calculations (based on 1.5*IQR)\n",
    "\n",
    "features = ['n_orders', 'quantity', 'quantity_per_order', 'sales']\n",
    "\n",
    "max_xlim = []\n",
    "q3_xlim = []\n",
    "\n",
    "for f in features:\n",
    "    q3 = np.quantile(sellers[f], .75, axis=0) \n",
    "    q1 = np.quantile(sellers[f], .25, axis=0) \n",
    "    iqr = q3-q1 \n",
    "    outlier_x = 1.5*iqr\n",
    "    max_xlim.append(outlier_x)\n",
    "    q3_xlim.append(q3)\n",
    "\n",
    "max_xlim"
   ]
  },
  {
   "cell_type": "code",
   "execution_count": 16,
   "id": "fab14ffd",
   "metadata": {
    "scrolled": true
   },
   "outputs": [
    {
     "data": {
      "image/png": "[encoded data removed]",
      "text/plain": [
       "<Figure size 1080x432 with 4 Axes>"
      ]
     },
     "metadata": {},
     "output_type": "display_data"
    }
   ],
   "source": [
    "# Re-plotting features with an adjusted view to exclude outliers\n",
    "fig, ((ax1, ax2), (ax3, ax4)) = plt.subplots(2,2)\n",
    "plt.figure(figsize=(15,6)).suptitle('Distributions for Size-related Variables (Adjusted for Outliers)', fontsize=20)\n",
    "plt.close(1)\n",
    "\n",
    "#'n_orders'\n",
    "ax1 = plt.subplot(221)\n",
    "ax1 = sns.histplot(sellers.n_orders)\n",
    "ax1.set_xlim(0, q3_xlim[0] + max_xlim[0])\n",
    "\n",
    "#'quantity'\n",
    "ax2 = plt.subplot(222)\n",
    "ax2 = sns.histplot(sellers.quantity)\n",
    "ax2.set_xlim(0, q3_xlim[1] + max_xlim[1])\n",
    "\n",
    "#'quantity_per_order'\n",
    "ax3 = plt.subplot(223)\n",
    "ax3 = sns.histplot(sellers.quantity_per_order)\n",
    "ax3.set_xlim(1, q3_xlim[2] + max_xlim[2])\n",
    "\n",
    "#'sales'\n",
    "ax4 = plt.subplot(224)\n",
    "ax4 = sns.histplot(sellers.sales)\n",
    "ax4.set_xlabel('sales (BRL)')\n",
    "ax4.set_xlim(0, q3_xlim[3] + max_xlim[3])\n",
    "\n",
    "plt.tight_layout()\n",
    "plt.show();"
   ]
  },
  {
   "cell_type": "markdown",
   "id": "f01b6c67",
   "metadata": {},
   "source": [
    "Since both `n_orders` and `quantity` speak to the volume of product that sellers have sold, it's not surprising that their distribution is similar. If we think seller experience in processing orders is a factor associated with review scores, `n_orders` might be one feature that captures this.\n",
    "\n",
    "With median `n_orders` of only **7**, we can see that most sellers on the platform have only had a few transactions. We'll see in our regression model, if this feature is helpful in explaining review scores.\n",
    " \n",
    "The distribution of `quantity_per_order` indicates that most orders deal with a single item. If each order had multiple items, then we might consider that mix-ups in orders could be a factor contributing to low review scores, but here we see a low occurrence of multiple-item orders.  \n",
    "\n",
    "The total `sales` per seller seems to follow a similar distribution with these other features—a heavy right skew, but with the bulk on the low end. Half of all sellers have generated less than **893.50 BRL** (~170 USD) in sales."
   ]
  },
  {
   "cell_type": "markdown",
   "id": "f55ab54b",
   "metadata": {},
   "source": [
    "Another feature that might speak more directly to the experience of the seller is `months_on_olist`, which tells how long a seller has been on the platform."
   ]
  },
  {
   "cell_type": "code",
   "execution_count": 17,
   "id": "2cbebc46",
   "metadata": {
    "scrolled": true
   },
   "outputs": [
    {
     "data": {
      "image/png": "[encoded data removed]",
      "text/plain": [
       "<Figure size 1080x432 with 1 Axes>"
      ]
     },
     "metadata": {},
     "output_type": "display_data"
    }
   ],
   "source": [
    "# 'months_on_olist' histogram\n",
    "plt.figure(figsize=(15,6))\n",
    "sns.histplot(sellers.months_on_olist)\n",
    "plt.show()           "
   ]
  },
  {
   "cell_type": "code",
   "execution_count": 18,
   "id": "8d2c3054",
   "metadata": {
    "scrolled": true
   },
   "outputs": [
    {
     "data": {
      "text/html": [
       "<div>\n",
       "<style scoped>\n",
       "    .dataframe tbody tr th:only-of-type {\n",
       "        vertical-align: middle;\n",
       "    }\n",
       "\n",
       "    .dataframe tbody tr th {\n",
       "        vertical-align: top;\n",
       "    }\n",
       "\n",
       "    .dataframe thead th {\n",
       "        text-align: right;\n",
       "    }\n",
       "</style>\n",
       "<table border=\"1\" class=\"dataframe\">\n",
       "  <thead>\n",
       "    <tr style=\"text-align: right;\">\n",
       "      <th></th>\n",
       "      <th>months_on_olist</th>\n",
       "    </tr>\n",
       "  </thead>\n",
       "  <tbody>\n",
       "    <tr>\n",
       "      <th>count</th>\n",
       "      <td>2970.000000</td>\n",
       "    </tr>\n",
       "    <tr>\n",
       "      <th>mean</th>\n",
       "      <td>6.019529</td>\n",
       "    </tr>\n",
       "    <tr>\n",
       "      <th>std</th>\n",
       "      <td>5.994240</td>\n",
       "    </tr>\n",
       "    <tr>\n",
       "      <th>min</th>\n",
       "      <td>0.000000</td>\n",
       "    </tr>\n",
       "    <tr>\n",
       "      <th>25%</th>\n",
       "      <td>1.000000</td>\n",
       "    </tr>\n",
       "    <tr>\n",
       "      <th>50%</th>\n",
       "      <td>4.000000</td>\n",
       "    </tr>\n",
       "    <tr>\n",
       "      <th>75%</th>\n",
       "      <td>10.000000</td>\n",
       "    </tr>\n",
       "    <tr>\n",
       "      <th>max</th>\n",
       "      <td>23.000000</td>\n",
       "    </tr>\n",
       "  </tbody>\n",
       "</table>\n",
       "</div>"
      ],
      "text/plain": [
       "       months_on_olist\n",
       "count      2970.000000\n",
       "mean          6.019529\n",
       "std           5.994240\n",
       "min           0.000000\n",
       "25%           1.000000\n",
       "50%           4.000000\n",
       "75%          10.000000\n",
       "max          23.000000"
      ]
     },
     "execution_count": 18,
     "metadata": {},
     "output_type": "execute_result"
    }
   ],
   "source": [
    "# Summary stats \n",
    "sellers[['months_on_olist']].describe()"
   ]
  },
  {
   "cell_type": "markdown",
   "id": "44ce1651",
   "metadata": {},
   "source": [
    "As a fairly new platform, we can see that the oldest sellers have been using Olist for only **23 months**. And, half of all sellers have only been using the platform for **4 months or less**. "
   ]
  },
  {
   "cell_type": "markdown",
   "id": "07c2ecb0",
   "metadata": {},
   "source": [
    "### Distribution of `seller_review_score`, `share_of_one_stars`, `share_of_five_stars`"
   ]
  },
  {
   "cell_type": "markdown",
   "id": "7e1850d4",
   "metadata": {},
   "source": [
    "These features indicate how sellers have been performing based on customer feedback.   \n",
    "\n",
    "- `seller_review_score`: the average score of a seller's reviews \n",
    "- `share_of_one_stars`: the proportion of a seller's reviews with only one star \n",
    "- `share_of_five_stars`: the proportion of a seller's reviews with fives stars\n"
   ]
  },
  {
   "cell_type": "code",
   "execution_count": 19,
   "id": "84f226c7",
   "metadata": {
    "scrolled": false
   },
   "outputs": [
    {
     "data": {
      "image/png": "[encoded data removed]",
      "text/plain": [
       "<Figure size 1080x576 with 3 Axes>"
      ]
     },
     "metadata": {},
     "output_type": "display_data"
    }
   ],
   "source": [
    "fig, (ax1, ax2, ax3) = plt.subplots(1,3)\n",
    "plt.close(1)\n",
    "plt.figure(figsize=(15,8)).suptitle('Distribution of Review-related Variables', fontsize=20)\n",
    "\n",
    "#'seller_review_score'\n",
    "ax1 = plt.subplot(131)\n",
    "ax1 = sns.histplot(sellers.seller_review_score)\n",
    "\n",
    "#'share_of_one_stars'\n",
    "ax2 = plt.subplot(132)\n",
    "ax2 = sns.histplot(sellers.share_of_one_stars)\n",
    "\n",
    "#'share_of_five_stars'\n",
    "ax3 = plt.subplot(133)\n",
    "ax3 = sns.histplot(sellers.share_of_five_stars)\n",
    "\n",
    "plt.tight_layout()\n",
    "plt.show();"
   ]
  },
  {
   "cell_type": "code",
   "execution_count": 20,
   "id": "174ccc1b",
   "metadata": {},
   "outputs": [
    {
     "data": {
      "text/html": [
       "<div>\n",
       "<style scoped>\n",
       "    .dataframe tbody tr th:only-of-type {\n",
       "        vertical-align: middle;\n",
       "    }\n",
       "\n",
       "    .dataframe tbody tr th {\n",
       "        vertical-align: top;\n",
       "    }\n",
       "\n",
       "    .dataframe thead th {\n",
       "        text-align: right;\n",
       "    }\n",
       "</style>\n",
       "<table border=\"1\" class=\"dataframe\">\n",
       "  <thead>\n",
       "    <tr style=\"text-align: right;\">\n",
       "      <th></th>\n",
       "      <th>seller_review_score</th>\n",
       "      <th>share_of_one_stars</th>\n",
       "      <th>share_of_five_stars</th>\n",
       "    </tr>\n",
       "  </thead>\n",
       "  <tbody>\n",
       "    <tr>\n",
       "      <th>count</th>\n",
       "      <td>2970.000000</td>\n",
       "      <td>2970.000000</td>\n",
       "      <td>2970.000000</td>\n",
       "    </tr>\n",
       "    <tr>\n",
       "      <th>mean</th>\n",
       "      <td>4.086880</td>\n",
       "      <td>0.124570</td>\n",
       "      <td>0.592130</td>\n",
       "    </tr>\n",
       "    <tr>\n",
       "      <th>std</th>\n",
       "      <td>0.810166</td>\n",
       "      <td>0.191870</td>\n",
       "      <td>0.279057</td>\n",
       "    </tr>\n",
       "    <tr>\n",
       "      <th>min</th>\n",
       "      <td>1.000000</td>\n",
       "      <td>0.000000</td>\n",
       "      <td>0.000000</td>\n",
       "    </tr>\n",
       "    <tr>\n",
       "      <th>25%</th>\n",
       "      <td>3.818424</td>\n",
       "      <td>0.000000</td>\n",
       "      <td>0.478261</td>\n",
       "    </tr>\n",
       "    <tr>\n",
       "      <th>50%</th>\n",
       "      <td>4.200000</td>\n",
       "      <td>0.063856</td>\n",
       "      <td>0.600000</td>\n",
       "    </tr>\n",
       "    <tr>\n",
       "      <th>75%</th>\n",
       "      <td>4.625000</td>\n",
       "      <td>0.166667</td>\n",
       "      <td>0.750000</td>\n",
       "    </tr>\n",
       "    <tr>\n",
       "      <th>max</th>\n",
       "      <td>5.000000</td>\n",
       "      <td>1.000000</td>\n",
       "      <td>1.000000</td>\n",
       "    </tr>\n",
       "  </tbody>\n",
       "</table>\n",
       "</div>"
      ],
      "text/plain": [
       "       seller_review_score  share_of_one_stars  share_of_five_stars\n",
       "count          2970.000000         2970.000000          2970.000000\n",
       "mean              4.086880            0.124570             0.592130\n",
       "std               0.810166            0.191870             0.279057\n",
       "min               1.000000            0.000000             0.000000\n",
       "25%               3.818424            0.000000             0.478261\n",
       "50%               4.200000            0.063856             0.600000\n",
       "75%               4.625000            0.166667             0.750000\n",
       "max               5.000000            1.000000             1.000000"
      ]
     },
     "execution_count": 20,
     "metadata": {},
     "output_type": "execute_result"
    }
   ],
   "source": [
    "sellers[['seller_review_score', 'share_of_one_stars', 'share_of_five_stars']].describe()"
   ]
  },
  {
   "cell_type": "markdown",
   "id": "f93a098a",
   "metadata": {},
   "source": [
    "From our histograms and statistical summary, we can see that the average `seller_review_score` is **close to 4** (mean=4.087), while those receiving an average score of **3.8 or less** already fall into the bottom 25% of seller performance (Q1=3.82). This reflects a **J-shaped distribution** which is a common phenomenon among online reviews and discussed earlier in our Orders dataset analysis. "
   ]
  },
  {
   "cell_type": "markdown",
   "id": "7f4848ad",
   "metadata": {},
   "source": [
    "Examining the feature `share_of_one_stars`, we see that for **75% of all sellers** on the platform, a 1-star rating comprises only **a sixth or less** of their total reviews (Q3=0.167). For the remaining **25% of sellers**, who receive a larger proportion of 1-star reviews, we might want to scrutinize their performance further."
   ]
  },
  {
   "cell_type": "markdown",
   "id": "7bc86c83",
   "metadata": {},
   "source": [
    "With `share_of_five_stars` we see a **W-shaped distribution** with three peaks. On the far right, there is a large number of 'super-performers' who have only ever received a 5-star review. Next, we have two smaller peaks occurring at a) the center, where only half of their reviews received a 'superb' 5-star review, and b) the far left, where a substantial number have never gotten 5 stars. \n",
    "\n",
    "For a fairer assessment that takes into consideration the total number of reviews each seller has received, we could explore assigning weights to each 1-star (or 5-star review) that are proportional to the total number of reviews received (i.e. we could control that a seller with a hundred 5-star reviews and a single 1-star review would still rank higher than a seller with only ten reviews but all of which are 5-star).        "
   ]
  },
  {
   "cell_type": "markdown",
   "id": "c1698244",
   "metadata": {},
   "source": [
    "## Correlations"
   ]
  },
  {
   "cell_type": "markdown",
   "id": "6295a196",
   "metadata": {},
   "source": [
    "Let's check out the correlations between different features in the Sellers dataset"
   ]
  },
  {
   "cell_type": "code",
   "execution_count": 21,
   "id": "4617a72a",
   "metadata": {},
   "outputs": [
    {
     "data": {
      "image/png": "[encoded data removed]",
      "text/plain": [
       "<Figure size 1080x432 with 2 Axes>"
      ]
     },
     "metadata": {},
     "output_type": "display_data"
    }
   ],
   "source": [
    "plt.figure(figsize=(15,6))\n",
    "sns.heatmap(sellers.corr(), cmap='coolwarm', annot=True );"
   ]
  },
  {
   "cell_type": "code",
   "execution_count": 22,
   "id": "662806fe",
   "metadata": {},
   "outputs": [
    {
     "data": {
      "text/plain": [
       "delay_to_carrier         -0.325642\n",
       "seller_wait_time         -0.419605\n",
       "months_on_olist          -0.018910\n",
       "share_of_one_stars       -0.869186\n",
       "share_of_five_stars       0.818685\n",
       "seller_review_score       1.000000\n",
       "review_cost_per_seller   -0.067521\n",
       "n_orders                 -0.003983\n",
       "quantity                 -0.007311\n",
       "quantity_per_order       -0.064025\n",
       "sales                    -0.008910\n",
       "Name: seller_review_score, dtype: float64"
      ]
     },
     "execution_count": 22,
     "metadata": {},
     "output_type": "execute_result"
    }
   ],
   "source": [
    "sellers.corr()['seller_review_score']"
   ]
  },
  {
   "cell_type": "markdown",
   "id": "67a7d84b",
   "metadata": {},
   "source": [
    "Among features that aren't derived from `seller_review_score`, those that capture delivery time such as `delay_to_carrier` (r=-0.33) and `seller_wait_time` (r=-0.42) have the largest correlation with `seller_review_score`. This is similar to our findings in the Orders dataset. "
   ]
  },
  {
   "cell_type": "markdown",
   "id": "8584784f",
   "metadata": {},
   "source": [
    "In addition, since `seller_wait_time` includes the time a seller ships to the carrier, it also makes sense that this feature is also correlated with `delay_to_carrier` (r=0.47)."
   ]
  },
  {
   "cell_type": "markdown",
   "id": "56db58f1",
   "metadata": {},
   "source": [
    "## Multivariate Regression  "
   ]
  },
  {
   "cell_type": "markdown",
   "id": "e6beaac5",
   "metadata": {},
   "source": [
    "We'll now run a multivariate regression model with select features from the Sellers dataset to better understand their impact on `seller_review_score`. "
   ]
  },
  {
   "cell_type": "markdown",
   "id": "87640721",
   "metadata": {},
   "source": [
    "### Feature Scaling"
   ]
  },
  {
   "cell_type": "markdown",
   "id": "29a20293",
   "metadata": {},
   "source": [
    "To make sure we'll be able to compare the coefficents for features in different units, we'll first do some feature scaling. Since many of the features have outliers, we'll use the standardization approach over normalization\n",
    "since standardization does not scale the features based on the range of values. "
   ]
  },
  {
   "cell_type": "code",
   "execution_count": 23,
   "id": "44a54dcc",
   "metadata": {},
   "outputs": [],
   "source": [
    "# Apply feature scaling \n",
    "\n",
    "def standardize(df, features): \n",
    "    df_standardized = df.copy()\n",
    "    for f in features:\n",
    "        mu = df[f].mean()\n",
    "        sigma = df[f].std()\n",
    "        df_standardized[f] = df[f].map(lambda x: (x - mu) / sigma)\n",
    "    return df_standardized\n"
   ]
  },
  {
   "cell_type": "markdown",
   "id": "0df53db6",
   "metadata": {},
   "source": [
    "### Linear Regression | Base Model"
   ]
  },
  {
   "cell_type": "markdown",
   "id": "14c7b270",
   "metadata": {},
   "source": [
    "Let's now select features and run a multivariate linear regression model to determine how much each feature impacts `seller_review_score`."
   ]
  },
  {
   "cell_type": "code",
   "execution_count": 24,
   "id": "db7a781c",
   "metadata": {},
   "outputs": [],
   "source": [
    "features = ['delay_to_carrier', 'seller_wait_time', 'months_on_olist', 'n_orders', 'quantity', 'quantity_per_order', 'sales']\n",
    "sellers_standardized = standardize(sellers, features)\n",
    "model = smf.ols(formula=f\"seller_review_score ~ {'+ '.join(features)}\", data=sellers_standardized).fit()"
   ]
  },
  {
   "cell_type": "code",
   "execution_count": 25,
   "id": "bb4a3e24",
   "metadata": {},
   "outputs": [
    {
     "data": {
      "text/html": [
       "<table class=\"simpletable\">\n",
       "<caption>OLS Regression Results</caption>\n",
       "<tr>\n",
       "  <th>Dep. Variable:</th>    <td>seller_review_score</td> <th>  R-squared:         </th> <td>   0.201</td> \n",
       "</tr>\n",
       "<tr>\n",
       "  <th>Model:</th>                    <td>OLS</td>         <th>  Adj. R-squared:    </th> <td>   0.199</td> \n",
       "</tr>\n",
       "<tr>\n",
       "  <th>Method:</th>              <td>Least Squares</td>    <th>  F-statistic:       </th> <td>   106.3</td> \n",
       "</tr>\n",
       "<tr>\n",
       "  <th>Date:</th>              <td>Fri, 03 Sep 2021</td>   <th>  Prob (F-statistic):</th> <td>3.41e-139</td>\n",
       "</tr>\n",
       "<tr>\n",
       "  <th>Time:</th>                  <td>13:05:51</td>       <th>  Log-Likelihood:    </th> <td> -3255.7</td> \n",
       "</tr>\n",
       "<tr>\n",
       "  <th>No. Observations:</th>       <td>  2970</td>        <th>  AIC:               </th> <td>   6527.</td> \n",
       "</tr>\n",
       "<tr>\n",
       "  <th>Df Residuals:</th>           <td>  2962</td>        <th>  BIC:               </th> <td>   6575.</td> \n",
       "</tr>\n",
       "<tr>\n",
       "  <th>Df Model:</th>               <td>     7</td>        <th>                     </th>     <td> </td>    \n",
       "</tr>\n",
       "<tr>\n",
       "  <th>Covariance Type:</th>       <td>nonrobust</td>      <th>                     </th>     <td> </td>    \n",
       "</tr>\n",
       "</table>\n",
       "<table class=\"simpletable\">\n",
       "<tr>\n",
       "           <td></td>             <th>coef</th>     <th>std err</th>      <th>t</th>      <th>P>|t|</th>  <th>[0.025</th>    <th>0.975]</th>  \n",
       "</tr>\n",
       "<tr>\n",
       "  <th>Intercept</th>          <td>    4.0869</td> <td>    0.013</td> <td>  307.146</td> <td> 0.000</td> <td>    4.061</td> <td>    4.113</td>\n",
       "</tr>\n",
       "<tr>\n",
       "  <th>delay_to_carrier</th>   <td>   -0.1329</td> <td>    0.015</td> <td>   -8.718</td> <td> 0.000</td> <td>   -0.163</td> <td>   -0.103</td>\n",
       "</tr>\n",
       "<tr>\n",
       "  <th>seller_wait_time</th>   <td>   -0.2764</td> <td>    0.015</td> <td>  -18.152</td> <td> 0.000</td> <td>   -0.306</td> <td>   -0.247</td>\n",
       "</tr>\n",
       "<tr>\n",
       "  <th>months_on_olist</th>    <td>   -0.0086</td> <td>    0.015</td> <td>   -0.582</td> <td> 0.561</td> <td>   -0.038</td> <td>    0.020</td>\n",
       "</tr>\n",
       "<tr>\n",
       "  <th>n_orders</th>           <td>    0.1054</td> <td>    0.118</td> <td>    0.889</td> <td> 0.374</td> <td>   -0.127</td> <td>    0.338</td>\n",
       "</tr>\n",
       "<tr>\n",
       "  <th>quantity</th>           <td>   -0.1162</td> <td>    0.117</td> <td>   -0.991</td> <td> 0.322</td> <td>   -0.346</td> <td>    0.114</td>\n",
       "</tr>\n",
       "<tr>\n",
       "  <th>quantity_per_order</th> <td>   -0.0446</td> <td>    0.014</td> <td>   -3.307</td> <td> 0.001</td> <td>   -0.071</td> <td>   -0.018</td>\n",
       "</tr>\n",
       "<tr>\n",
       "  <th>sales</th>              <td>    0.0089</td> <td>    0.022</td> <td>    0.400</td> <td> 0.689</td> <td>   -0.035</td> <td>    0.053</td>\n",
       "</tr>\n",
       "</table>\n",
       "<table class=\"simpletable\">\n",
       "<tr>\n",
       "  <th>Omnibus:</th>       <td>814.846</td> <th>  Durbin-Watson:     </th> <td>   2.049</td>\n",
       "</tr>\n",
       "<tr>\n",
       "  <th>Prob(Omnibus):</th> <td> 0.000</td>  <th>  Jarque-Bera (JB):  </th> <td>2778.042</td>\n",
       "</tr>\n",
       "<tr>\n",
       "  <th>Skew:</th>          <td>-1.353</td>  <th>  Prob(JB):          </th> <td>    0.00</td>\n",
       "</tr>\n",
       "<tr>\n",
       "  <th>Kurtosis:</th>      <td> 6.890</td>  <th>  Cond. No.          </th> <td>    21.5</td>\n",
       "</tr>\n",
       "</table><br/><br/>Warnings:<br/>[1] Standard Errors assume that the covariance matrix of the errors is correctly specified."
      ],
      "text/plain": [
       "<class 'statsmodels.iolib.summary.Summary'>\n",
       "\"\"\"\n",
       "                             OLS Regression Results                            \n",
       "===============================================================================\n",
       "Dep. Variable:     seller_review_score   R-squared:                       0.201\n",
       "Model:                             OLS   Adj. R-squared:                  0.199\n",
       "Method:                  Least Squares   F-statistic:                     106.3\n",
       "Date:                 Fri, 03 Sep 2021   Prob (F-statistic):          3.41e-139\n",
       "Time:                         13:05:51   Log-Likelihood:                -3255.7\n",
       "No. Observations:                 2970   AIC:                             6527.\n",
       "Df Residuals:                     2962   BIC:                             6575.\n",
       "Df Model:                            7                                         \n",
       "Covariance Type:             nonrobust                                         \n",
       "======================================================================================\n",
       "                         coef    std err          t      P>|t|      [0.025      0.975]\n",
       "--------------------------------------------------------------------------------------\n",
       "Intercept              4.0869      0.013    307.146      0.000       4.061       4.113\n",
       "delay_to_carrier      -0.1329      0.015     -8.718      0.000      -0.163      -0.103\n",
       "seller_wait_time      -0.2764      0.015    -18.152      0.000      -0.306      -0.247\n",
       "months_on_olist       -0.0086      0.015     -0.582      0.561      -0.038       0.020\n",
       "n_orders               0.1054      0.118      0.889      0.374      -0.127       0.338\n",
       "quantity              -0.1162      0.117     -0.991      0.322      -0.346       0.114\n",
       "quantity_per_order    -0.0446      0.014     -3.307      0.001      -0.071      -0.018\n",
       "sales                  0.0089      0.022      0.400      0.689      -0.035       0.053\n",
       "==============================================================================\n",
       "Omnibus:                      814.846   Durbin-Watson:                   2.049\n",
       "Prob(Omnibus):                  0.000   Jarque-Bera (JB):             2778.042\n",
       "Skew:                          -1.353   Prob(JB):                         0.00\n",
       "Kurtosis:                       6.890   Cond. No.                         21.5\n",
       "==============================================================================\n",
       "\n",
       "Warnings:\n",
       "[1] Standard Errors assume that the covariance matrix of the errors is correctly specified.\n",
       "\"\"\""
      ]
     },
     "execution_count": 25,
     "metadata": {},
     "output_type": "execute_result"
    }
   ],
   "source": [
    "model.summary()"
   ]
  },
  {
   "cell_type": "markdown",
   "id": "709a1488",
   "metadata": {},
   "source": [
    "**Interpretation of Results**\n",
    "\n",
    "- This model has a low **R-squared** (0.20) suggesting that the currently selected features only explain **20% of the variance** found in the review scores. Also, the lower value for **Adj. R-squared** (0.199) suggests that we may have extra features in our model that are contributing more to noise than to what factors influence our target variable. \n",
    "- The **f-proba** shows that our **R-squared** is **statistically significant** and that it performs better than a model without any features.\n",
    "- The coefficients for the features `months_on_olist`, `n_orders`, `quantity`, and `sales` are **not statistically significant** as their **p-values** are **not less than our chosen alpha of 0.05**. \n",
    "- Additionally, we see that a value of 0 falls within the **95% confidence interval** for these features. Since a zero coefficient would mean that the feature has no influence on the target variable (i.e. our null hypothesis), this would mean we can't reject the null hypothesis and that that the given **coefficients** for these features are **not reliable**. "
   ]
  },
  {
   "cell_type": "markdown",
   "id": "0b124f1a",
   "metadata": {},
   "source": [
    "Now let's remove the non-reliable features and run another regression model."
   ]
  },
  {
   "cell_type": "markdown",
   "id": "37f171f9",
   "metadata": {},
   "source": [
    "### Linear Regression | Revised Model"
   ]
  },
  {
   "cell_type": "code",
   "execution_count": 26,
   "id": "30e22642",
   "metadata": {},
   "outputs": [],
   "source": [
    "# Revised feature selection\n",
    "revised_features = ['delay_to_carrier', 'seller_wait_time', 'quantity_per_order']\n",
    "sellers_standardized = standardize(sellers, revised_features)\n",
    "revised_model = smf.ols(formula=f\"seller_review_score ~ {'+ '.join(revised_features)}\", data=sellers_standardized).fit()"
   ]
  },
  {
   "cell_type": "code",
   "execution_count": 27,
   "id": "0aa8aacc",
   "metadata": {
    "scrolled": true
   },
   "outputs": [
    {
     "data": {
      "text/html": [
       "<table class=\"simpletable\">\n",
       "<caption>OLS Regression Results</caption>\n",
       "<tr>\n",
       "  <th>Dep. Variable:</th>    <td>seller_review_score</td> <th>  R-squared:         </th> <td>   0.200</td> \n",
       "</tr>\n",
       "<tr>\n",
       "  <th>Model:</th>                    <td>OLS</td>         <th>  Adj. R-squared:    </th> <td>   0.200</td> \n",
       "</tr>\n",
       "<tr>\n",
       "  <th>Method:</th>              <td>Least Squares</td>    <th>  F-statistic:       </th> <td>   247.7</td> \n",
       "</tr>\n",
       "<tr>\n",
       "  <th>Date:</th>              <td>Fri, 03 Sep 2021</td>   <th>  Prob (F-statistic):</th> <td>2.08e-143</td>\n",
       "</tr>\n",
       "<tr>\n",
       "  <th>Time:</th>                  <td>13:05:51</td>       <th>  Log-Likelihood:    </th> <td> -3256.6</td> \n",
       "</tr>\n",
       "<tr>\n",
       "  <th>No. Observations:</th>       <td>  2970</td>        <th>  AIC:               </th> <td>   6521.</td> \n",
       "</tr>\n",
       "<tr>\n",
       "  <th>Df Residuals:</th>           <td>  2966</td>        <th>  BIC:               </th> <td>   6545.</td> \n",
       "</tr>\n",
       "<tr>\n",
       "  <th>Df Model:</th>               <td>     3</td>        <th>                     </th>     <td> </td>    \n",
       "</tr>\n",
       "<tr>\n",
       "  <th>Covariance Type:</th>       <td>nonrobust</td>      <th>                     </th>     <td> </td>    \n",
       "</tr>\n",
       "</table>\n",
       "<table class=\"simpletable\">\n",
       "<tr>\n",
       "           <td></td>             <th>coef</th>     <th>std err</th>      <th>t</th>      <th>P>|t|</th>  <th>[0.025</th>    <th>0.975]</th>  \n",
       "</tr>\n",
       "<tr>\n",
       "  <th>Intercept</th>          <td>    4.0869</td> <td>    0.013</td> <td>  307.268</td> <td> 0.000</td> <td>    4.061</td> <td>    4.113</td>\n",
       "</tr>\n",
       "<tr>\n",
       "  <th>delay_to_carrier</th>   <td>   -0.1315</td> <td>    0.015</td> <td>   -8.710</td> <td> 0.000</td> <td>   -0.161</td> <td>   -0.102</td>\n",
       "</tr>\n",
       "<tr>\n",
       "  <th>seller_wait_time</th>   <td>   -0.2776</td> <td>    0.015</td> <td>  -18.391</td> <td> 0.000</td> <td>   -0.307</td> <td>   -0.248</td>\n",
       "</tr>\n",
       "<tr>\n",
       "  <th>quantity_per_order</th> <td>   -0.0468</td> <td>    0.013</td> <td>   -3.519</td> <td> 0.000</td> <td>   -0.073</td> <td>   -0.021</td>\n",
       "</tr>\n",
       "</table>\n",
       "<table class=\"simpletable\">\n",
       "<tr>\n",
       "  <th>Omnibus:</th>       <td>797.448</td> <th>  Durbin-Watson:     </th> <td>   2.048</td>\n",
       "</tr>\n",
       "<tr>\n",
       "  <th>Prob(Omnibus):</th> <td> 0.000</td>  <th>  Jarque-Bera (JB):  </th> <td>2693.675</td>\n",
       "</tr>\n",
       "<tr>\n",
       "  <th>Skew:</th>          <td>-1.326</td>  <th>  Prob(JB):          </th> <td>    0.00</td>\n",
       "</tr>\n",
       "<tr>\n",
       "  <th>Kurtosis:</th>      <td> 6.838</td>  <th>  Cond. No.          </th> <td>    1.67</td>\n",
       "</tr>\n",
       "</table><br/><br/>Warnings:<br/>[1] Standard Errors assume that the covariance matrix of the errors is correctly specified."
      ],
      "text/plain": [
       "<class 'statsmodels.iolib.summary.Summary'>\n",
       "\"\"\"\n",
       "                             OLS Regression Results                            \n",
       "===============================================================================\n",
       "Dep. Variable:     seller_review_score   R-squared:                       0.200\n",
       "Model:                             OLS   Adj. R-squared:                  0.200\n",
       "Method:                  Least Squares   F-statistic:                     247.7\n",
       "Date:                 Fri, 03 Sep 2021   Prob (F-statistic):          2.08e-143\n",
       "Time:                         13:05:51   Log-Likelihood:                -3256.6\n",
       "No. Observations:                 2970   AIC:                             6521.\n",
       "Df Residuals:                     2966   BIC:                             6545.\n",
       "Df Model:                            3                                         \n",
       "Covariance Type:             nonrobust                                         \n",
       "======================================================================================\n",
       "                         coef    std err          t      P>|t|      [0.025      0.975]\n",
       "--------------------------------------------------------------------------------------\n",
       "Intercept              4.0869      0.013    307.268      0.000       4.061       4.113\n",
       "delay_to_carrier      -0.1315      0.015     -8.710      0.000      -0.161      -0.102\n",
       "seller_wait_time      -0.2776      0.015    -18.391      0.000      -0.307      -0.248\n",
       "quantity_per_order    -0.0468      0.013     -3.519      0.000      -0.073      -0.021\n",
       "==============================================================================\n",
       "Omnibus:                      797.448   Durbin-Watson:                   2.048\n",
       "Prob(Omnibus):                  0.000   Jarque-Bera (JB):             2693.675\n",
       "Skew:                          -1.326   Prob(JB):                         0.00\n",
       "Kurtosis:                       6.838   Cond. No.                         1.67\n",
       "==============================================================================\n",
       "\n",
       "Warnings:\n",
       "[1] Standard Errors assume that the covariance matrix of the errors is correctly specified.\n",
       "\"\"\""
      ]
     },
     "execution_count": 27,
     "metadata": {},
     "output_type": "execute_result"
    }
   ],
   "source": [
    "revised_model.summary()"
   ]
  },
  {
   "cell_type": "markdown",
   "id": "20779ecc",
   "metadata": {},
   "source": [
    "**Interpretation of Results**\n",
    "\n",
    "- With this reduced set of features, our model is still only able to explain about **20% of the variance** in the seller review scores (R2=0.20). \n"
   ]
  },
  {
   "cell_type": "code",
   "execution_count": 28,
   "id": "bbb342ae",
   "metadata": {},
   "outputs": [
    {
     "data": {
      "text/plain": [
       "Intercept             4.086880\n",
       "delay_to_carrier     -0.131504\n",
       "seller_wait_time     -0.277566\n",
       "quantity_per_order   -0.046824\n",
       "dtype: float64"
      ]
     },
     "execution_count": 28,
     "metadata": {},
     "output_type": "execute_result"
    }
   ],
   "source": [
    "revised_model.params"
   ]
  },
  {
   "cell_type": "code",
   "execution_count": 29,
   "id": "a30f2f01",
   "metadata": {},
   "outputs": [
    {
     "data": {
      "image/png": "[encoded data removed]",
      "text/plain": [
       "<Figure size 432x288 with 1 Axes>"
      ]
     },
     "metadata": {},
     "output_type": "display_data"
    }
   ],
   "source": [
    "revised_model.params[1:].sort_values().plot(kind='barh');"
   ]
  },
  {
   "cell_type": "markdown",
   "id": "997685bd",
   "metadata": {},
   "source": [
    "### Residuals and RMSE"
   ]
  },
  {
   "cell_type": "markdown",
   "id": "7216d007",
   "metadata": {},
   "source": [
    "Let's look at the **residuals** (predicted values - real values) and calculate the **Root Mean Square Error (RMSE)** as a check on well our multivariate regression model is performing. "
   ]
  },
  {
   "cell_type": "code",
   "execution_count": 30,
   "id": "b9b09d13",
   "metadata": {
    "scrolled": true
   },
   "outputs": [
    {
     "data": {
      "text/plain": [
       "0    1.092618\n",
       "1   -0.305559\n",
       "2   -0.556623\n",
       "3   -0.620117\n",
       "4    2.036966\n",
       "dtype: float64"
      ]
     },
     "execution_count": 30,
     "metadata": {},
     "output_type": "execute_result"
    }
   ],
   "source": [
    "# Calculate residuals (predicted values - real values)\n",
    "predicted_review_score = revised_model.predict(sellers_standardized[features])\n",
    "residuals = predicted_review_score - sellers_standardized.seller_review_score\n",
    "residuals.head()"
   ]
  },
  {
   "cell_type": "code",
   "execution_count": 31,
   "id": "2455d0fa",
   "metadata": {},
   "outputs": [
    {
     "data": {
      "text/plain": [
       "0.7243697584549219"
      ]
     },
     "execution_count": 31,
     "metadata": {},
     "output_type": "execute_result"
    }
   ],
   "source": [
    "# Calculate the RMSE\n",
    "RMSE = (residuals.map(lambda x: x**2).sum() / len(residuals))**0.5\n",
    "RMSE"
   ]
  },
  {
   "cell_type": "markdown",
   "id": "5dc256fb",
   "metadata": {},
   "source": [
    "The **RMSE** tells us that on average our predicted scores are **0.7** stars off of the real scores. On a 5-star rating system, that's not too bad. "
   ]
  },
  {
   "cell_type": "code",
   "execution_count": 32,
   "id": "02658c3c",
   "metadata": {
    "scrolled": true
   },
   "outputs": [
    {
     "data": {
      "image/png": "[encoded data removed]",
      "text/plain": [
       "<Figure size 432x288 with 1 Axes>"
      ]
     },
     "metadata": {},
     "output_type": "display_data"
    }
   ],
   "source": [
    "sns.histplot(sellers['seller_review_score'], kde=True, stat='density', discrete=True)\n",
    "sns.histplot(revised_model.predict(sellers_standardized[features]), kde=True, stat='density', discrete=True);\n"
   ]
  },
  {
   "cell_type": "code",
   "execution_count": 33,
   "id": "1c484976",
   "metadata": {},
   "outputs": [
    {
     "data": {
      "image/png": "[encoded data removed]",
      "text/plain": [
       "<Figure size 432x288 with 1 Axes>"
      ]
     },
     "metadata": {},
     "output_type": "display_data"
    }
   ],
   "source": [
    "sns.histplot(model.resid, kde=True, stat='density', discrete=True);"
   ]
  },
  {
   "cell_type": "code",
   "execution_count": 34,
   "id": "3d91dc8d",
   "metadata": {},
   "outputs": [
    {
     "data": {
      "image/png": "[encoded data removed]",
      "text/plain": [
       "<Figure size 432x288 with 1 Axes>"
      ]
     },
     "metadata": {},
     "output_type": "display_data"
    }
   ],
   "source": [
    "# Let's check the variance by plotting the residuals against the fitted values\n",
    "sns.scatterplot(y=residuals, x=predicted_review_score);"
   ]
  },
  {
   "cell_type": "markdown",
   "id": "fa2c2437",
   "metadata": {},
   "source": [
    " ## Logistic Regression"
   ]
  },
  {
   "cell_type": "markdown",
   "id": "f04d6704",
   "metadata": {},
   "source": [
    "Since the `seller_review_score` is calculated as an average for each seller, we can get a continuous target variable ranging from 0-5 stars. This differs from the Orders dataset feature of `review_score` which could be understood as a ordinal categorical variable. This perhaps explains a slightly better **R-squared of = 0.20** for our **Sellers Linear Regression** compared to the one from our **Orders Linear Regression (R2 = 0.14)**.\n",
    "\n",
    "Like we did for the **Orders dataset**, let's try running logistic regression models for both **1-star** (`share_of_one_stars`) and **5-star** (`share_of_five_stars`) **reviews**, but for our **Sellers dataset**."
   ]
  },
  {
   "cell_type": "markdown",
   "id": "ea681c4c",
   "metadata": {},
   "source": [
    "### Check for Multicollinearity with VIF"
   ]
  },
  {
   "cell_type": "markdown",
   "id": "248d36e0",
   "metadata": {},
   "source": [
    "We'll use our revised set of features, standardize them, and then check for multi-collinearity (i.e. high correlation between features) by looking at the **variance inflation factor (VIF)**."
   ]
  },
  {
   "cell_type": "code",
   "execution_count": 57,
   "id": "218dfb12",
   "metadata": {
    "scrolled": true
   },
   "outputs": [
    {
     "data": {
      "text/html": [
       "<div>\n",
       "<style scoped>\n",
       "    .dataframe tbody tr th:only-of-type {\n",
       "        vertical-align: middle;\n",
       "    }\n",
       "\n",
       "    .dataframe tbody tr th {\n",
       "        vertical-align: top;\n",
       "    }\n",
       "\n",
       "    .dataframe thead th {\n",
       "        text-align: right;\n",
       "    }\n",
       "</style>\n",
       "<table border=\"1\" class=\"dataframe\">\n",
       "  <thead>\n",
       "    <tr style=\"text-align: right;\">\n",
       "      <th></th>\n",
       "      <th>delay_to_carrier</th>\n",
       "      <th>seller_wait_time</th>\n",
       "      <th>quantity_per_order</th>\n",
       "    </tr>\n",
       "  </thead>\n",
       "  <tbody>\n",
       "    <tr>\n",
       "      <th>0</th>\n",
       "      <td>0.000000</td>\n",
       "      <td>13.018588</td>\n",
       "      <td>1.000</td>\n",
       "    </tr>\n",
       "    <tr>\n",
       "      <th>1</th>\n",
       "      <td>0.000000</td>\n",
       "      <td>9.065716</td>\n",
       "      <td>1.025</td>\n",
       "    </tr>\n",
       "    <tr>\n",
       "      <th>2</th>\n",
       "      <td>0.000000</td>\n",
       "      <td>4.042292</td>\n",
       "      <td>1.000</td>\n",
       "    </tr>\n",
       "    <tr>\n",
       "      <th>3</th>\n",
       "      <td>0.000000</td>\n",
       "      <td>5.667187</td>\n",
       "      <td>1.000</td>\n",
       "    </tr>\n",
       "    <tr>\n",
       "      <th>4</th>\n",
       "      <td>3.353727</td>\n",
       "      <td>35.314861</td>\n",
       "      <td>1.000</td>\n",
       "    </tr>\n",
       "  </tbody>\n",
       "</table>\n",
       "</div>"
      ],
      "text/plain": [
       "   delay_to_carrier  seller_wait_time  quantity_per_order\n",
       "0          0.000000         13.018588               1.000\n",
       "1          0.000000          9.065716               1.025\n",
       "2          0.000000          4.042292               1.000\n",
       "3          0.000000          5.667187               1.000\n",
       "4          3.353727         35.314861               1.000"
      ]
     },
     "execution_count": 57,
     "metadata": {},
     "output_type": "execute_result"
    }
   ],
   "source": [
    "revised_features = ['delay_to_carrier', 'seller_wait_time', 'quantity_per_order']\n",
    "\n",
    "X = sellers[revised_features]\n",
    "X.head()"
   ]
  },
  {
   "cell_type": "code",
   "execution_count": 58,
   "id": "133e3fab",
   "metadata": {
    "scrolled": true
   },
   "outputs": [
    {
     "data": {
      "text/html": [
       "<div>\n",
       "<style scoped>\n",
       "    .dataframe tbody tr th:only-of-type {\n",
       "        vertical-align: middle;\n",
       "    }\n",
       "\n",
       "    .dataframe tbody tr th {\n",
       "        vertical-align: top;\n",
       "    }\n",
       "\n",
       "    .dataframe thead th {\n",
       "        text-align: right;\n",
       "    }\n",
       "</style>\n",
       "<table border=\"1\" class=\"dataframe\">\n",
       "  <thead>\n",
       "    <tr style=\"text-align: right;\">\n",
       "      <th></th>\n",
       "      <th>VIF</th>\n",
       "      <th>Features</th>\n",
       "    </tr>\n",
       "  </thead>\n",
       "  <tbody>\n",
       "    <tr>\n",
       "      <th>0</th>\n",
       "      <td>1.250906</td>\n",
       "      <td>delay_to_carrier</td>\n",
       "    </tr>\n",
       "    <tr>\n",
       "      <th>1</th>\n",
       "      <td>3.503983</td>\n",
       "      <td>seller_wait_time</td>\n",
       "    </tr>\n",
       "    <tr>\n",
       "      <th>2</th>\n",
       "      <td>3.085841</td>\n",
       "      <td>quantity_per_order</td>\n",
       "    </tr>\n",
       "  </tbody>\n",
       "</table>\n",
       "</div>"
      ],
      "text/plain": [
       "        VIF            Features\n",
       "0  1.250906    delay_to_carrier\n",
       "1  3.503983    seller_wait_time\n",
       "2  3.085841  quantity_per_order"
      ]
     },
     "execution_count": 58,
     "metadata": {},
     "output_type": "execute_result"
    }
   ],
   "source": [
    "df = pd.DataFrame()\n",
    "df['VIF'] = [vif(X.values, i) for i in range(X.shape[1])]\n",
    "df['Features'] = X.columns\n",
    "df"
   ]
  },
  {
   "cell_type": "markdown",
   "id": "86449380",
   "metadata": {},
   "source": [
    "The **VIF** tells us how much the variance in an estimated coefficient is inflated due to multi-collinearity. For example, the variance for the estimated coefficient of our feature `seller_wait_time` is inflated by a factor of **3.5**. Generally, we can accept VIF values below 10."
   ]
  },
  {
   "cell_type": "markdown",
   "id": "8c272c12",
   "metadata": {},
   "source": [
    "### Logistic Regression | 1-Star Review Model"
   ]
  },
  {
   "cell_type": "markdown",
   "id": "c28c6dbc",
   "metadata": {},
   "source": [
    "Now let's run our logistic regression model for 1-star reviews  "
   ]
  },
  {
   "cell_type": "code",
   "execution_count": 37,
   "id": "37efbbfd",
   "metadata": {
    "scrolled": true
   },
   "outputs": [
    {
     "name": "stdout",
     "output_type": "stream",
     "text": [
      "Optimization terminated successfully.\n",
      "         Current function value: 0.232556\n",
      "         Iterations 6\n"
     ]
    },
    {
     "data": {
      "text/html": [
       "<table class=\"simpletable\">\n",
       "<caption>Logit Regression Results</caption>\n",
       "<tr>\n",
       "  <th>Dep. Variable:</th>   <td>share_of_one_stars</td> <th>  No. Observations:  </th>  <td>  2970</td> \n",
       "</tr>\n",
       "<tr>\n",
       "  <th>Model:</th>                  <td>Logit</td>       <th>  Df Residuals:      </th>  <td>  2966</td> \n",
       "</tr>\n",
       "<tr>\n",
       "  <th>Method:</th>                  <td>MLE</td>        <th>  Df Model:          </th>  <td>     3</td> \n",
       "</tr>\n",
       "<tr>\n",
       "  <th>Date:</th>             <td>Fri, 03 Sep 2021</td>  <th>  Pseudo R-squ.:     </th>  <td>-0.2908</td>\n",
       "</tr>\n",
       "<tr>\n",
       "  <th>Time:</th>                 <td>13:05:53</td>      <th>  Log-Likelihood:    </th> <td> -690.69</td>\n",
       "</tr>\n",
       "<tr>\n",
       "  <th>converged:</th>              <td>True</td>        <th>  LL-Null:           </th> <td> -535.09</td>\n",
       "</tr>\n",
       "<tr>\n",
       "  <th>Covariance Type:</th>      <td>nonrobust</td>     <th>  LLR p-value:       </th>  <td> 1.000</td> \n",
       "</tr>\n",
       "</table>\n",
       "<table class=\"simpletable\">\n",
       "<tr>\n",
       "           <td></td>             <th>coef</th>     <th>std err</th>      <th>z</th>      <th>P>|z|</th>  <th>[0.025</th>    <th>0.975]</th>  \n",
       "</tr>\n",
       "<tr>\n",
       "  <th>Intercept</th>          <td>   -2.0497</td> <td>    0.060</td> <td>  -34.373</td> <td> 0.000</td> <td>   -2.167</td> <td>   -1.933</td>\n",
       "</tr>\n",
       "<tr>\n",
       "  <th>delay_to_carrier</th>   <td>    0.1927</td> <td>    0.063</td> <td>    3.071</td> <td> 0.002</td> <td>    0.070</td> <td>    0.316</td>\n",
       "</tr>\n",
       "<tr>\n",
       "  <th>seller_wait_time</th>   <td>    0.5206</td> <td>    0.066</td> <td>    7.943</td> <td> 0.000</td> <td>    0.392</td> <td>    0.649</td>\n",
       "</tr>\n",
       "<tr>\n",
       "  <th>quantity_per_order</th> <td>    0.0971</td> <td>    0.048</td> <td>    2.036</td> <td> 0.042</td> <td>    0.004</td> <td>    0.191</td>\n",
       "</tr>\n",
       "</table>"
      ],
      "text/plain": [
       "<class 'statsmodels.iolib.summary.Summary'>\n",
       "\"\"\"\n",
       "                           Logit Regression Results                           \n",
       "==============================================================================\n",
       "Dep. Variable:     share_of_one_stars   No. Observations:                 2970\n",
       "Model:                          Logit   Df Residuals:                     2966\n",
       "Method:                           MLE   Df Model:                            3\n",
       "Date:                Fri, 03 Sep 2021   Pseudo R-squ.:                 -0.2908\n",
       "Time:                        13:05:53   Log-Likelihood:                -690.69\n",
       "converged:                       True   LL-Null:                       -535.09\n",
       "Covariance Type:            nonrobust   LLR p-value:                     1.000\n",
       "======================================================================================\n",
       "                         coef    std err          z      P>|z|      [0.025      0.975]\n",
       "--------------------------------------------------------------------------------------\n",
       "Intercept             -2.0497      0.060    -34.373      0.000      -2.167      -1.933\n",
       "delay_to_carrier       0.1927      0.063      3.071      0.002       0.070       0.316\n",
       "seller_wait_time       0.5206      0.066      7.943      0.000       0.392       0.649\n",
       "quantity_per_order     0.0971      0.048      2.036      0.042       0.004       0.191\n",
       "======================================================================================\n",
       "\"\"\""
      ]
     },
     "execution_count": 37,
     "metadata": {},
     "output_type": "execute_result"
    }
   ],
   "source": [
    "#Fit logit model for 1-star reviews\n",
    "sellers_standardized = standardize(sellers, revised_features)\n",
    "logit_one = smf.logit(formula=f\"share_of_one_stars ~ {'+ '.join(revised_features)}\", data=sellers_standardized).fit()\n",
    "logit_one.summary()"
   ]
  },
  {
   "cell_type": "markdown",
   "id": "349b69b5",
   "metadata": {},
   "source": [
    "To better interpret the coefficients from our logistic regression model, we'll convert units from log-odds (logits) to odds. "
   ]
  },
  {
   "cell_type": "code",
   "execution_count": 38,
   "id": "8a453f77",
   "metadata": {
    "scrolled": true
   },
   "outputs": [
    {
     "data": {
      "text/html": [
       "<div>\n",
       "<style scoped>\n",
       "    .dataframe tbody tr th:only-of-type {\n",
       "        vertical-align: middle;\n",
       "    }\n",
       "\n",
       "    .dataframe tbody tr th {\n",
       "        vertical-align: top;\n",
       "    }\n",
       "\n",
       "    .dataframe thead th {\n",
       "        text-align: right;\n",
       "    }\n",
       "</style>\n",
       "<table border=\"1\" class=\"dataframe\">\n",
       "  <thead>\n",
       "    <tr style=\"text-align: right;\">\n",
       "      <th></th>\n",
       "      <th>log-odds</th>\n",
       "      <th>odds</th>\n",
       "    </tr>\n",
       "  </thead>\n",
       "  <tbody>\n",
       "    <tr>\n",
       "      <th>Intercept</th>\n",
       "      <td>-2.049681</td>\n",
       "      <td>0.128776</td>\n",
       "    </tr>\n",
       "    <tr>\n",
       "      <th>delay_to_carrier</th>\n",
       "      <td>0.192672</td>\n",
       "      <td>1.212484</td>\n",
       "    </tr>\n",
       "    <tr>\n",
       "      <th>seller_wait_time</th>\n",
       "      <td>0.520643</td>\n",
       "      <td>1.683109</td>\n",
       "    </tr>\n",
       "    <tr>\n",
       "      <th>quantity_per_order</th>\n",
       "      <td>0.097100</td>\n",
       "      <td>1.101970</td>\n",
       "    </tr>\n",
       "  </tbody>\n",
       "</table>\n",
       "</div>"
      ],
      "text/plain": [
       "                    log-odds      odds\n",
       "Intercept          -2.049681  0.128776\n",
       "delay_to_carrier    0.192672  1.212484\n",
       "seller_wait_time    0.520643  1.683109\n",
       "quantity_per_order  0.097100  1.101970"
      ]
     },
     "execution_count": 38,
     "metadata": {},
     "output_type": "execute_result"
    }
   ],
   "source": [
    "# Log-odds to odds conversion by exponentiating\n",
    "logit_one_results = pd.DataFrame(logit_one.params, columns=['log-odds'])\n",
    "logit_one_results['odds'] = logit_one_results['log-odds'].apply(lambda x: math.exp(x))\n",
    "logit_one_results"
   ]
  },
  {
   "cell_type": "markdown",
   "id": "988692ea",
   "metadata": {},
   "source": [
    "All of our coefficients are **statistically significant** given our **p-values** are below are alpha of 0.05. However, we note that the feature `quantity_per_order` is quite close to threshold (p-value = 0.042) \n",
    "\n",
    "With our model, we see that `seller_wait_time` has the most influence on receiving a 1-star review.\n",
    "\n",
    "*Holding all other variables constant, for each additional day in `seller_wait_time`, on average there is a **68% increase in odds** of getting a 1-star review*."
   ]
  },
  {
   "cell_type": "markdown",
   "id": "a8723af6",
   "metadata": {},
   "source": [
    "### Logistic Regression | 5-Star Review Model"
   ]
  },
  {
   "cell_type": "markdown",
   "id": "0262c543",
   "metadata": {},
   "source": [
    "Now let's run another logistic regression model for 5-star reviews.  "
   ]
  },
  {
   "cell_type": "code",
   "execution_count": 62,
   "id": "f815c636",
   "metadata": {},
   "outputs": [
    {
     "name": "stdout",
     "output_type": "stream",
     "text": [
      "Optimization terminated successfully.\n",
      "         Current function value: 0.636639\n",
      "         Iterations 6\n"
     ]
    },
    {
     "data": {
      "text/html": [
       "<table class=\"simpletable\">\n",
       "<caption>Logit Regression Results</caption>\n",
       "<tr>\n",
       "  <th>Dep. Variable:</th>   <td>share_of_five_stars</td> <th>  No. Observations:  </th>  <td>  2970</td>  \n",
       "</tr>\n",
       "<tr>\n",
       "  <th>Model:</th>                  <td>Logit</td>        <th>  Df Residuals:      </th>  <td>  2966</td>  \n",
       "</tr>\n",
       "<tr>\n",
       "  <th>Method:</th>                  <td>MLE</td>         <th>  Df Model:          </th>  <td>     3</td>  \n",
       "</tr>\n",
       "<tr>\n",
       "  <th>Date:</th>             <td>Fri, 03 Sep 2021</td>   <th>  Pseudo R-squ.:     </th> <td>0.008160</td> \n",
       "</tr>\n",
       "<tr>\n",
       "  <th>Time:</th>                 <td>14:53:43</td>       <th>  Log-Likelihood:    </th> <td> -1890.8</td> \n",
       "</tr>\n",
       "<tr>\n",
       "  <th>converged:</th>              <td>True</td>         <th>  LL-Null:           </th> <td> -1906.4</td> \n",
       "</tr>\n",
       "<tr>\n",
       "  <th>Covariance Type:</th>      <td>nonrobust</td>      <th>  LLR p-value:       </th> <td>8.045e-07</td>\n",
       "</tr>\n",
       "</table>\n",
       "<table class=\"simpletable\">\n",
       "<tr>\n",
       "           <td></td>             <th>coef</th>     <th>std err</th>      <th>z</th>      <th>P>|z|</th>  <th>[0.025</th>    <th>0.975]</th>  \n",
       "</tr>\n",
       "<tr>\n",
       "  <th>Intercept</th>          <td>    0.3676</td> <td>    0.038</td> <td>    9.622</td> <td> 0.000</td> <td>    0.293</td> <td>    0.442</td>\n",
       "</tr>\n",
       "<tr>\n",
       "  <th>delay_to_carrier</th>   <td>   -0.1321</td> <td>    0.067</td> <td>   -1.982</td> <td> 0.047</td> <td>   -0.263</td> <td>   -0.001</td>\n",
       "</tr>\n",
       "<tr>\n",
       "  <th>seller_wait_time</th>   <td>   -0.4206</td> <td>    0.054</td> <td>   -7.741</td> <td> 0.000</td> <td>   -0.527</td> <td>   -0.314</td>\n",
       "</tr>\n",
       "<tr>\n",
       "  <th>quantity_per_order</th> <td>   -0.0197</td> <td>    0.038</td> <td>   -0.519</td> <td> 0.604</td> <td>   -0.094</td> <td>    0.055</td>\n",
       "</tr>\n",
       "</table>"
      ],
      "text/plain": [
       "<class 'statsmodels.iolib.summary.Summary'>\n",
       "\"\"\"\n",
       "                            Logit Regression Results                           \n",
       "===============================================================================\n",
       "Dep. Variable:     share_of_five_stars   No. Observations:                 2970\n",
       "Model:                           Logit   Df Residuals:                     2966\n",
       "Method:                            MLE   Df Model:                            3\n",
       "Date:                 Fri, 03 Sep 2021   Pseudo R-squ.:                0.008160\n",
       "Time:                         14:53:43   Log-Likelihood:                -1890.8\n",
       "converged:                        True   LL-Null:                       -1906.4\n",
       "Covariance Type:             nonrobust   LLR p-value:                 8.045e-07\n",
       "======================================================================================\n",
       "                         coef    std err          z      P>|z|      [0.025      0.975]\n",
       "--------------------------------------------------------------------------------------\n",
       "Intercept              0.3676      0.038      9.622      0.000       0.293       0.442\n",
       "delay_to_carrier      -0.1321      0.067     -1.982      0.047      -0.263      -0.001\n",
       "seller_wait_time      -0.4206      0.054     -7.741      0.000      -0.527      -0.314\n",
       "quantity_per_order    -0.0197      0.038     -0.519      0.604      -0.094       0.055\n",
       "======================================================================================\n",
       "\"\"\""
      ]
     },
     "execution_count": 62,
     "metadata": {},
     "output_type": "execute_result"
    }
   ],
   "source": [
    "#Fit logit model for 5-star reviews\n",
    "sellers_standardized = standardize(sellers, revised_features)\n",
    "logit_five = smf.logit(formula=f\"share_of_five_stars ~ {'+ '.join(revised_features)}\", data=sellers_standardized).fit()\n",
    "logit_five.summary()"
   ]
  },
  {
   "cell_type": "code",
   "execution_count": 40,
   "id": "1205427d",
   "metadata": {
    "scrolled": true
   },
   "outputs": [
    {
     "data": {
      "text/html": [
       "<div>\n",
       "<style scoped>\n",
       "    .dataframe tbody tr th:only-of-type {\n",
       "        vertical-align: middle;\n",
       "    }\n",
       "\n",
       "    .dataframe tbody tr th {\n",
       "        vertical-align: top;\n",
       "    }\n",
       "\n",
       "    .dataframe thead th {\n",
       "        text-align: right;\n",
       "    }\n",
       "</style>\n",
       "<table border=\"1\" class=\"dataframe\">\n",
       "  <thead>\n",
       "    <tr style=\"text-align: right;\">\n",
       "      <th></th>\n",
       "      <th>log-odds</th>\n",
       "      <th>odds</th>\n",
       "    </tr>\n",
       "  </thead>\n",
       "  <tbody>\n",
       "    <tr>\n",
       "      <th>Intercept</th>\n",
       "      <td>0.367579</td>\n",
       "      <td>1.444234</td>\n",
       "    </tr>\n",
       "    <tr>\n",
       "      <th>delay_to_carrier</th>\n",
       "      <td>-0.132075</td>\n",
       "      <td>0.876275</td>\n",
       "    </tr>\n",
       "    <tr>\n",
       "      <th>seller_wait_time</th>\n",
       "      <td>-0.420552</td>\n",
       "      <td>0.656684</td>\n",
       "    </tr>\n",
       "    <tr>\n",
       "      <th>quantity_per_order</th>\n",
       "      <td>-0.019682</td>\n",
       "      <td>0.980510</td>\n",
       "    </tr>\n",
       "  </tbody>\n",
       "</table>\n",
       "</div>"
      ],
      "text/plain": [
       "                    log-odds      odds\n",
       "Intercept           0.367579  1.444234\n",
       "delay_to_carrier   -0.132075  0.876275\n",
       "seller_wait_time   -0.420552  0.656684\n",
       "quantity_per_order -0.019682  0.980510"
      ]
     },
     "execution_count": 40,
     "metadata": {},
     "output_type": "execute_result"
    }
   ],
   "source": [
    "# Log-odds to odds conversion by exponentiating\n",
    "logit_five_results = pd.DataFrame(logit_five.params, columns=['log-odds'])\n",
    "logit_five_results['odds'] = logit_five_results['log-odds'].apply(lambda x: math.exp(x))\n",
    "logit_five_results"
   ]
  },
  {
   "cell_type": "markdown",
   "id": "e5d68631",
   "metadata": {},
   "source": [
    "In this model, our feature `quantity_per_order` is **not statistically significant** (p-value = 0.60), and we cannot reject the null hypothesis that `quantity_per_order` has no impact on receiving a 5-star. While the coefficients for our other two features are **statistically significant**, we note that the p-value for `delay_to_carrier` (p-value = 0.047) is close to our alpha threshold of 0.05).  \n",
    "\n",
    "With this model, we also see `seller_wait_time` as have the largest influence on the star rating.\n",
    "\n",
    "*Holding all other variables constant, for each additional day in `seller_wait_time`, on average there is a **34% decrease in odds** of getting a 5-star review.*"
   ]
  },
  {
   "cell_type": "markdown",
   "id": "31772c44",
   "metadata": {},
   "source": [
    "### Logistic Regression Model Comparison"
   ]
  },
  {
   "cell_type": "code",
   "execution_count": 48,
   "id": "76f35a1a",
   "metadata": {
    "scrolled": true
   },
   "outputs": [
    {
     "data": {
      "text/plain": [
       "<Figure size 432x288 with 0 Axes>"
      ]
     },
     "metadata": {},
     "output_type": "display_data"
    },
    {
     "data": {
      "image/png": "[encoded data removed]",
      "text/plain": [
       "<Figure size 936x360 with 2 Axes>"
      ]
     },
     "metadata": {},
     "output_type": "display_data"
    }
   ],
   "source": [
    "# Logistic Regression Model Comparison\n",
    "fig, (ax1, ax2) = plt.subplots(1,2, figsize=(13,5))\n",
    "fig.suptitle('Logit Five vs. Logit One')\n",
    "\n",
    "# Logistic Regression - logit_five_model\n",
    "ax1 = plt.subplot(1,2,1)\n",
    "ax1.set_title('Logit Five')\n",
    "ax1.yaxis.tick_right()\n",
    "ax1.set_xlim(-1.2, 1.5)\n",
    "logit_five.params[1:].sort_values().plot(kind='barh', ax=ax1)\n",
    "\n",
    "# Logistic Regression - logit_one_model\n",
    "ax2 = plt.subplot(1,2,2)\n",
    "ax2.set_title('Logit One')\n",
    "ax2.yaxis.tick_right()\n",
    "ax2.set_xlim(-1.2, 1.5)\n",
    "logit_one.params[1:].sort_values(ascending=False).plot(kind='barh', ax=ax2)\n",
    "\n",
    "plt.tight_layout()\n",
    "plt.show();"
   ]
  },
  {
   "cell_type": "markdown",
   "id": "1dace9e0",
   "metadata": {},
   "source": [
    "Both our logistic regression models seem to point to `seller_wait_time` as the most influential feature in receiving a 1- or 5-star review.  "
   ]
  },
  {
   "cell_type": "markdown",
   "id": "6cb2520d",
   "metadata": {},
   "source": [
    "### Linear vs Logistic Regression Coefficients"
   ]
  },
  {
   "cell_type": "markdown",
   "id": "857c5b19",
   "metadata": {},
   "source": [
    "Let's plot and compare the coefficients of both our linear regression and logistic regression models to see if they are generally telling the same story. "
   ]
  },
  {
   "cell_type": "code",
   "execution_count": 42,
   "id": "89b07a36",
   "metadata": {},
   "outputs": [
    {
     "data": {
      "image/png": "[encoded data removed]",
      "text/plain": [
       "<Figure size 936x360 with 2 Axes>"
      ]
     },
     "metadata": {},
     "output_type": "display_data"
    }
   ],
   "source": [
    "plt.figure(figsize=(13,5))\n",
    "plt.suptitle('Linear vs. Logit Coefficients')\n",
    "\n",
    "# Linear Regression - model4\n",
    "ax1 = plt.subplot(1,2,1)\n",
    "ax1.set_title('Linear')\n",
    "ax1.set_xlim(-1.5, 0.25)\n",
    "revised_model.params[1:].sort_values().plot(kind='barh', ax=ax1)\n",
    "\n",
    "# Logistic Regression - logit_five_model\n",
    "ax2 = plt.subplot(1,2,2)\n",
    "ax2.set_title('Logit Five')\n",
    "ax2.yaxis.tick_right()\n",
    "ax2.set_xlim(-1.5, 0.25)\n",
    "logit_five.params[1:].sort_values().plot(kind='barh', ax=ax2)\n",
    "\n",
    "plt.tight_layout()\n",
    "plt.show()"
   ]
  },
  {
   "cell_type": "markdown",
   "id": "111efca1",
   "metadata": {},
   "source": [
    "With our Sellers data, we see similar feature importance between the linear and logistic regression models. `Seller_wait_time` appears to have the largest influence in the review score that sellers receive. "
   ]
  },
  {
   "cell_type": "code",
   "execution_count": null,
   "id": "74e2c6f6",
   "metadata": {},
   "outputs": [],
   "source": []
  }
 ],
 "metadata": {
  "kernelspec": {
   "display_name": "Python 3",
   "language": "python",
   "name": "python3"
  },
  "language_info": {
   "codemirror_mode": {
    "name": "ipython",
    "version": 3
   },
   "file_extension": ".py",
   "mimetype": "text/x-python",
   "name": "python",
   "nbconvert_exporter": "python",
   "pygments_lexer": "ipython3",
   "version": "3.8.6"
  },
  "toc": {
   "base_numbering": 1,
   "nav_menu": {},
   "number_sections": true,
   "sideBar": true,
   "skip_h1_title": true,
   "title_cell": "Table of Contents",
   "title_sidebar": "Contents",
   "toc_cell": false,
   "toc_position": {},
   "toc_section_display": true,
   "toc_window_display": false
  }
 },
 "nbformat": 4,
 "nbformat_minor": 5
}
