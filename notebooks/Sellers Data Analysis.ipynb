{
 "cells": [
  {
   "cell_type": "markdown",
   "id": "59776271",
   "metadata": {},
   "source": [
    "# Sellers Data Analysis"
   ]
  },
  {
   "cell_type": "markdown",
   "id": "f5e499b9",
   "metadata": {},
   "source": [
    "**Notebook Objective**\n",
    "\n",
    "While our [analysis of the **Orders** dataset](./Orders%20Analysis.ipynb) from Brazilian e-commerce platform **Olist** revealed that `wait_time` was one of the more significant factors in explaining review scores, the low R-squared in our regression models suggested that there were other factors to consider outside of the **Orders** data.\n",
    "\n",
    "In this notebook we'll use the **Sellers** dataset from **Olist** to see if we identify features that influence review scores when grouping by individual sellers. In the first three sections, we'll do some exploratory data analysis by inspecting features, examining distributions, and then looking for any correlations. Next, we'll apply both linear and logistic regression models to better understand the relationship between specific features and the `seller_review_score`.\n",
    "\n",
    "***Exploratory Data Analysis***\n",
    "\n",
    "1. Inspect Features\n",
    "2. Distributions\n",
    "2. Correlations"
   ]
  },
  {
   "cell_type": "markdown",
   "id": "a34f8f6a",
   "metadata": {},
   "source": [
    "***Models***\n",
    "\n",
    "3. Multivariate Regression\n",
    "4. Logistic Regression\n",
    "\n",
    "\n"
   ]
  },
  {
   "cell_type": "markdown",
   "id": "5ca87bfd",
   "metadata": {},
   "source": [
    "If bad reviews are indeed linked to particular sellers, we'll be able to identify them and try to understand the reasons for poor performance. "
   ]
  },
  {
   "cell_type": "code",
   "execution_count": 1,
   "id": "591e5db6",
   "metadata": {},
   "outputs": [
    {
     "data": {
      "text/plain": [
       "['/Users/atat/code/phlln/olist-analysis/notebooks',\n",
       " '/Users/atat/code/phlln/data-challenges/04-Decision-Science',\n",
       " '/Users/atat/code/phlln/olist-analysis/notebooks',\n",
       " '/Users/atat/.pyenv/versions/3.8.6/lib/python38.zip',\n",
       " '/Users/atat/.pyenv/versions/3.8.6/lib/python3.8',\n",
       " '/Users/atat/.pyenv/versions/3.8.6/lib/python3.8/lib-dynload',\n",
       " '',\n",
       " '/Users/atat/.pyenv/versions/3.8.6/envs/lewagon/lib/python3.8/site-packages',\n",
       " '/Users/atat/code/phlln/mlproject',\n",
       " '/Users/atat/code/phlln/TFM_TrainAtScale',\n",
       " '/Users/atat/code/phlln/TFM_PredictInProd',\n",
       " '/Users/atat/.pyenv/versions/3.8.6/envs/lewagon/lib/python3.8/site-packages/IPython/extensions',\n",
       " '/Users/atat/.ipython']"
      ]
     },
     "execution_count": 1,
     "metadata": {},
     "output_type": "execute_result"
    }
   ],
   "source": [
    "import os\n",
    "os.sys.path"
   ]
  },
  {
   "cell_type": "code",
   "execution_count": 2,
   "id": "313f7a8c",
   "metadata": {},
   "outputs": [],
   "source": [
    "os.sys.path.insert(0, '/Users/atat/code/phlln/olist-analysis/' )"
   ]
  },
  {
   "cell_type": "code",
   "execution_count": 3,
   "id": "6a8b9f45",
   "metadata": {},
   "outputs": [
    {
     "data": {
      "text/plain": [
       "['/Users/atat/code/phlln/olist-analysis/',\n",
       " '/Users/atat/code/phlln/olist-analysis/notebooks',\n",
       " '/Users/atat/code/phlln/data-challenges/04-Decision-Science',\n",
       " '/Users/atat/code/phlln/olist-analysis/notebooks',\n",
       " '/Users/atat/.pyenv/versions/3.8.6/lib/python38.zip',\n",
       " '/Users/atat/.pyenv/versions/3.8.6/lib/python3.8',\n",
       " '/Users/atat/.pyenv/versions/3.8.6/lib/python3.8/lib-dynload',\n",
       " '',\n",
       " '/Users/atat/.pyenv/versions/3.8.6/envs/lewagon/lib/python3.8/site-packages',\n",
       " '/Users/atat/code/phlln/mlproject',\n",
       " '/Users/atat/code/phlln/TFM_TrainAtScale',\n",
       " '/Users/atat/code/phlln/TFM_PredictInProd',\n",
       " '/Users/atat/.pyenv/versions/3.8.6/envs/lewagon/lib/python3.8/site-packages/IPython/extensions',\n",
       " '/Users/atat/.ipython']"
      ]
     },
     "execution_count": 3,
     "metadata": {},
     "output_type": "execute_result"
    }
   ],
   "source": [
    "os.sys.path"
   ]
  },
  {
   "cell_type": "code",
   "execution_count": 4,
   "id": "ca5c414d",
   "metadata": {},
   "outputs": [],
   "source": [
    "# Import relevant libraries and modules\n",
    "%load_ext autoreload\n",
    "%autoreload 2\n",
    "\n",
    "import pandas as pd\n",
    "import numpy as np\n",
    "import seaborn as sns\n",
    "import matplotlib.pyplot as plt\n",
    "import statsmodels.formula.api as smf\n",
    "from statsmodels.stats.outliers_influence import variance_inflation_factor as vif\n",
    "import math\n",
    "\n",
    "from olist.seller import Seller"
   ]
  },
  {
   "cell_type": "markdown",
   "id": "7b39b381",
   "metadata": {},
   "source": [
    "## Inspect Features"
   ]
  },
  {
   "cell_type": "code",
   "execution_count": 5,
   "id": "7fbd52c3",
   "metadata": {
    "scrolled": false
   },
   "outputs": [
    {
     "ename": "AttributeError",
     "evalue": "'NoneType' object has no attribute 'head'",
     "output_type": "error",
     "traceback": [
      "\u001b[0;31m---------------------------------------------------------------------------\u001b[0m",
      "\u001b[0;31mAttributeError\u001b[0m                            Traceback (most recent call last)",
      "\u001b[0;32m<ipython-input-5-be5df5a12f4e>\u001b[0m in \u001b[0;36m<module>\u001b[0;34m\u001b[0m\n\u001b[1;32m      1\u001b[0m \u001b[0;31m# Load and inspect Sellers data\u001b[0m\u001b[0;34m\u001b[0m\u001b[0;34m\u001b[0m\u001b[0;34m\u001b[0m\u001b[0m\n\u001b[1;32m      2\u001b[0m \u001b[0msellers\u001b[0m \u001b[0;34m=\u001b[0m \u001b[0mSeller\u001b[0m\u001b[0;34m(\u001b[0m\u001b[0;34m)\u001b[0m\u001b[0;34m.\u001b[0m\u001b[0mget_training_data\u001b[0m\u001b[0;34m(\u001b[0m\u001b[0;34m)\u001b[0m\u001b[0;34m\u001b[0m\u001b[0;34m\u001b[0m\u001b[0m\n\u001b[0;32m----> 3\u001b[0;31m \u001b[0msellers\u001b[0m\u001b[0;34m.\u001b[0m\u001b[0mhead\u001b[0m\u001b[0;34m(\u001b[0m\u001b[0;34m)\u001b[0m\u001b[0;34m\u001b[0m\u001b[0;34m\u001b[0m\u001b[0m\n\u001b[0m",
      "\u001b[0;31mAttributeError\u001b[0m: 'NoneType' object has no attribute 'head'"
     ]
    }
   ],
   "source": [
    "# Load and inspect Sellers data\n",
    "sellers = Seller().get_training_data()\n",
    "sellers.head()"
   ]
  },
  {
   "cell_type": "code",
   "execution_count": null,
   "id": "f343f9ec",
   "metadata": {},
   "outputs": [],
   "source": [
    "# Inspect data types and check for null values\n",
    "sellers.info()"
   ]
  },
  {
   "cell_type": "markdown",
   "id": "e249221f",
   "metadata": {},
   "source": [
    "## Distributions"
   ]
  },
  {
   "cell_type": "markdown",
   "id": "4820fd36",
   "metadata": {},
   "source": [
    "Let's begin by analyzing features from the **Sellers** dataset and understanding their distributions. We'll examine them in smaller groups:\n",
    "- `delay_to_carrier`, `seller_wait_time`\n",
    "- `n_orders`, `quantity`, `quantity_per_order`, `sales`, and `months_on_olist`\n",
    "- `seller_review_score`, `share_of_one_stars`, and `share_of_five_stars`"
   ]
  },
  {
   "cell_type": "markdown",
   "id": "14a51e5d",
   "metadata": {},
   "source": [
    "### Distributions for `delay_to_carrier`, `seller_wait_time`"
   ]
  },
  {
   "cell_type": "markdown",
   "id": "cfab20e3",
   "metadata": {},
   "source": [
    "This pair of features relates to the time associated with order fulfillment and is calculated per seller.\n",
    "\n",
    "- `delay_to_carrier`: represents the average delay (in days) by a seller for delivering an order to the carrier.\n",
    "\n",
    "- `seller_wait_time`: represents the average `wait_time` (in days), starting from the customer placing an order online to receiving delivery of that order. \n",
    "(**Note:** This differs from the `wait_time` variable in the **Orders** dataset in that it's been calculated as the *average `wait_time` for each seller).* \n",
    "\n"
   ]
  },
  {
   "cell_type": "code",
   "execution_count": null,
   "id": "35f7a26f",
   "metadata": {
    "scrolled": true
   },
   "outputs": [],
   "source": [
    "# Distributions of Delivery-related Variables\n",
    "sns.set_style('darkgrid')\n",
    "fig, (ax1, ax2) = plt.subplots(1,2, figsize=(15,6))\n",
    "fig.suptitle('Distribution of Delivery-related Variables', fontsize=20)\n",
    "\n",
    "# 'delay_to_carrier' histogram\n",
    "ax1 = plt.subplot(121)\n",
    "ax1 = sns.histplot(sellers.delay_to_carrier)\n",
    "plt.xlabel('delay_to_carrier (days)')\n",
    "\n",
    "# 'seller_wait_time' histogram\n",
    "ax2 = plt.subplot(122)\n",
    "ax2 = sns.histplot(sellers.seller_wait_time)\n",
    "plt.xlabel('seller_wait_time (days)')\n",
    "\n",
    "plt.show(); "
   ]
  },
  {
   "cell_type": "markdown",
   "id": "676f9bda",
   "metadata": {},
   "source": [
    "There are some outliers here that skew the distribution plot, so let's also check out the summary stats. "
   ]
  },
  {
   "cell_type": "code",
   "execution_count": null,
   "id": "677e8227",
   "metadata": {
    "scrolled": false
   },
   "outputs": [],
   "source": [
    "# Summary stats\n",
    "sellers[['delay_to_carrier','seller_wait_time']].describe()"
   ]
  },
  {
   "cell_type": "code",
   "execution_count": null,
   "id": "a256c721",
   "metadata": {},
   "outputs": [],
   "source": [
    "# Percentage of sellers who have ever been part of a delayed order\n",
    "round(sellers[sellers.delay_to_carrier > 1]['delay_to_carrier'].count() / len(sellers) * 100, 2)"
   ]
  },
  {
   "cell_type": "markdown",
   "id": "32ed967a",
   "metadata": {},
   "source": [
    "From our plot we can see that very few sellers have contributed to delays in an order. Further calculations show that indeed only **5.72%** of sellers have ever been part of a delayed order, so there are likely other reasons associated with low review scores in addition to `delay_to_carrier`. "
   ]
  },
  {
   "cell_type": "markdown",
   "id": "18b4607c",
   "metadata": {},
   "source": [
    "While the plot for `seller_wait_time` is right-skewed, this appears to be the effect of only a few outliers since the mean is still close to the median. This indicates that most sellers are still clustered tightly around the center and that there are not enough sellers with longer average wait times to pull the mean further to the right.  "
   ]
  },
  {
   "cell_type": "markdown",
   "id": "4867134f",
   "metadata": {},
   "source": [
    "Appears to be many new sellers on Olist platform. Include 'months_on_olist' as feature in OLS regression to see impact \n",
    "on customer reviews"
   ]
  },
  {
   "cell_type": "markdown",
   "id": "2eef5be7",
   "metadata": {},
   "source": [
    "### Distributions for `n_orders`, `quantity`, `quantity_per_order`, `sales`, `months_on_olist`"
   ]
  },
  {
   "cell_type": "markdown",
   "id": "e098f1b3",
   "metadata": {},
   "source": [
    "These features indicate the various quantities related to orders on a per seller basis:  "
   ]
  },
  {
   "cell_type": "markdown",
   "id": "1f39859a",
   "metadata": {},
   "source": [
    "- `n_orders`: the total number of orders a seller has had while on the platform\n",
    "- `quantity`: the total number of items that have been sold by a seller\n",
    "- `quantity_per_order`: lifelong average per seller derived from dividing `n_orders` by `quantity`\n",
    "- `sales`: the total sales (in BRL) each seller has made to date"
   ]
  },
  {
   "cell_type": "code",
   "execution_count": null,
   "id": "cee361ff",
   "metadata": {
    "scrolled": true
   },
   "outputs": [],
   "source": [
    "# Distributions for Size-related Variables\n",
    "fig, (ax1, ax2, ax3, ax2) = plt.subplots(4,1)\n",
    "plt.figure(figsize=(15,6)).suptitle('Distributions for Size-related Variables', fontsize=20)\n",
    "plt.close(1)\n",
    "\n",
    "#'n_orders'\n",
    "ax1 = plt.subplot(411)\n",
    "ax1 = sns.histplot(sellers.n_orders)\n",
    "plt.tight_layout()\n",
    "\n",
    "#'quantity'\n",
    "ax2 = plt.subplot(412)\n",
    "ax2 = sns.histplot(sellers.quantity)\n",
    "\n",
    "#'quantity_per_order'\n",
    "ax3 = plt.subplot(413)\n",
    "ax3 = sns.histplot(sellers.quantity_per_order)\n",
    "\n",
    "#'sales'\n",
    "ax3 = plt.subplot(414)\n",
    "ax3 = sns.histplot(sellers.sales)\n",
    "\n",
    "plt.show();"
   ]
  },
  {
   "cell_type": "markdown",
   "id": "4049bc43",
   "metadata": {},
   "source": [
    "The outliers are quite extreme with these features making the plots difficult to read. We'll re-plot them with an adjusted view that excludes outliers."
   ]
  },
  {
   "cell_type": "code",
   "execution_count": null,
   "id": "75814c35",
   "metadata": {
    "scrolled": true
   },
   "outputs": [],
   "source": [
    "sellers[['n_orders', 'quantity', 'quantity_per_order', 'sales']].describe()"
   ]
  },
  {
   "cell_type": "code",
   "execution_count": null,
   "id": "ed728762",
   "metadata": {},
   "outputs": [],
   "source": [
    "# Outlier calculations (based on 1.5*IQR)\n",
    "\n",
    "features = ['n_orders', 'quantity', 'quantity_per_order', 'sales']\n",
    "\n",
    "max_xlim = []\n",
    "q3_xlim = []\n",
    "\n",
    "for f in features:\n",
    "    q3 = np.quantile(sellers[f], .75, axis=0) \n",
    "    q1 = np.quantile(sellers[f], .25, axis=0) \n",
    "    iqr = q3-q1 \n",
    "    outlier_x = 1.5*iqr\n",
    "    max_xlim.append(outlier_x)\n",
    "    q3_xlim.append(q3)\n",
    "\n",
    "max_xlim"
   ]
  },
  {
   "cell_type": "code",
   "execution_count": null,
   "id": "fab14ffd",
   "metadata": {
    "scrolled": true
   },
   "outputs": [],
   "source": [
    "# Re-plotting features with an adjusted view to exclude outliers\n",
    "fig, ((ax1, ax2), (ax3, ax4)) = plt.subplots(2,2)\n",
    "plt.figure(figsize=(15,6)).suptitle('Distributions for Size-related Variables (Adjusted for Outliers)', fontsize=20)\n",
    "plt.close(1)\n",
    "\n",
    "#'n_orders'\n",
    "ax1 = plt.subplot(221)\n",
    "ax1 = sns.histplot(sellers.n_orders)\n",
    "ax1.set_xlim(0, q3_xlim[0] + max_xlim[0])\n",
    "\n",
    "#'quantity'\n",
    "ax2 = plt.subplot(222)\n",
    "ax2 = sns.histplot(sellers.quantity)\n",
    "ax2.set_xlim(0, q3_xlim[1] + max_xlim[1])\n",
    "\n",
    "#'quantity_per_order'\n",
    "ax3 = plt.subplot(223)\n",
    "ax3 = sns.histplot(sellers.quantity_per_order)\n",
    "ax3.set_xlim(1, q3_xlim[2] + max_xlim[2])\n",
    "\n",
    "#'sales'\n",
    "ax4 = plt.subplot(224)\n",
    "ax4 = sns.histplot(sellers.sales)\n",
    "ax4.set_xlabel('sales (BRL)')\n",
    "ax4.set_xlim(0, q3_xlim[3] + max_xlim[3])\n",
    "\n",
    "plt.tight_layout()\n",
    "plt.show();"
   ]
  },
  {
   "cell_type": "markdown",
   "id": "f01b6c67",
   "metadata": {},
   "source": [
    "Since both `n_orders` and `quantity` speak to the volume of product that sellers have sold, it's not surprising that their distribution is similar. \n",
    "\n",
    "If we consider seller experience with processing orders impacts review scores, `n_orders` might be one feature that tries to capture this. With median `n_orders` of only **7**, it appears most sellers on the platform have not had a large number of transactions.\n",
    " \n",
    "The distribution of `quantity_per_order` indicates that on average most orders only have a single item. If we had seen on average more multiple-item orders, order mix-ups could have been a large factor in low review scores, but here we only see a low occurrence of multiple-item orders.  \n",
    "\n",
    "The total `sales` per seller seems to follow a similar distribution with these other features—skewed to the right, but with the bulk of data points still near low values. Half of all sellers have generated less than **893.50 BRL** (~170 USD) in total sales."
   ]
  },
  {
   "cell_type": "markdown",
   "id": "f55ab54b",
   "metadata": {},
   "source": [
    "Another feature that might speak more directly to seller experience is `months_on_olist`, which tells how long a seller has been on the platform."
   ]
  },
  {
   "cell_type": "code",
   "execution_count": null,
   "id": "2cbebc46",
   "metadata": {
    "scrolled": true
   },
   "outputs": [],
   "source": [
    "# 'months_on_olist' histogram\n",
    "plt.figure(figsize=(15,6))\n",
    "sns.histplot(sellers.months_on_olist)\n",
    "plt.show()           "
   ]
  },
  {
   "cell_type": "code",
   "execution_count": null,
   "id": "8d2c3054",
   "metadata": {
    "scrolled": true
   },
   "outputs": [],
   "source": [
    "# Summary stats \n",
    "sellers[['months_on_olist']].describe()"
   ]
  },
  {
   "cell_type": "markdown",
   "id": "44ce1651",
   "metadata": {},
   "source": [
    "As a fairly new platform, we can see that the oldest sellers have been using Olist for only **23 months**. Additionally, half of all sellers have only been using the platform for **4 months or less**. "
   ]
  },
  {
   "cell_type": "markdown",
   "id": "07c2ecb0",
   "metadata": {},
   "source": [
    "### Distribution of `seller_review_score`, `share_of_one_stars`, `share_of_five_stars`"
   ]
  },
  {
   "cell_type": "markdown",
   "id": "7e1850d4",
   "metadata": {},
   "source": [
    "These features indicate how sellers have been performing based on customer feedback.   \n",
    "\n",
    "- `seller_review_score`: the average score of a seller's reviews \n",
    "- `share_of_one_stars`: the proportion of a seller's reviews with only one star \n",
    "- `share_of_five_stars`: the proportion of a seller's reviews with five stars\n"
   ]
  },
  {
   "cell_type": "code",
   "execution_count": null,
   "id": "84f226c7",
   "metadata": {
    "scrolled": false
   },
   "outputs": [],
   "source": [
    "# Distributions of Review-related Variables\n",
    "fig, (ax1, ax2, ax3) = plt.subplots(1,3)\n",
    "plt.close(1)\n",
    "plt.figure(figsize=(15,8)).suptitle('Distributions of Review-related Variables', fontsize=20)\n",
    "\n",
    "# 'seller_review_score' histogram\n",
    "ax1 = plt.subplot(131)\n",
    "ax1 = sns.histplot(sellers.seller_review_score)\n",
    "ax1.set_ylim(0,1400)\n",
    "\n",
    "# 'share_of_one_stars' histogram\n",
    "ax2 = plt.subplot(132)\n",
    "ax2 = sns.histplot(sellers.share_of_one_stars)\n",
    "ax2.set_ylim(0,1400)\n",
    "\n",
    "# 'share_of_five_stars' histogram\n",
    "ax3 = plt.subplot(133)\n",
    "ax3 = sns.histplot(sellers.share_of_five_stars)\n",
    "ax3.set_ylim(0,1400)\n",
    "\n",
    "plt.tight_layout()\n",
    "plt.show();"
   ]
  },
  {
   "cell_type": "code",
   "execution_count": null,
   "id": "174ccc1b",
   "metadata": {},
   "outputs": [],
   "source": [
    "sellers[['seller_review_score', 'share_of_one_stars', 'share_of_five_stars']].describe()"
   ]
  },
  {
   "cell_type": "markdown",
   "id": "f93a098a",
   "metadata": {},
   "source": [
    "From our plots and statistical summary, we can see that the average `seller_review_score` is **close to 4** (mean = 4.087), while those receiving an average score of **3.8 or less** already fall into the **bottom 25%** of seller performance (Q1 = 3.82). This reflects a **J-shaped distribution** which is a common phenomenon found among online reviews and discussed earlier in more detail in our **[Orders Data Analysis.](./Orders%20Analysis.ipynb)**"
   ]
  },
  {
   "cell_type": "code",
   "execution_count": null,
   "id": "7cf1ce37",
   "metadata": {},
   "outputs": [],
   "source": [
    "# Percentage of sellers who have never received a 1-star rating\n",
    "round(sellers[sellers.share_of_one_stars == 0]['share_of_one_stars'].count() / len(sellers) * 100, 2)"
   ]
  },
  {
   "cell_type": "markdown",
   "id": "7f4848ad",
   "metadata": {},
   "source": [
    "Our plot and stat summary of `share_of_one_stars` indicate that for **75% of sellers** on the platform a 1-star rating comprises only **a sixth or less** of their total reviews (Q3 = 0.167). From further calculations, we also see that **43%** of sellers have **never received** a 1-star rating. "
   ]
  },
  {
   "cell_type": "markdown",
   "id": "7bc86c83",
   "metadata": {},
   "source": [
    "With the feature `share_of_five_stars` we see a **W-shaped distribution** with three peaks. On **the far right**, there is a large number of *'super-performers'* who have only received 5-star reviews. Next, we have two smaller peaks occurring at a) **the center**, where on average only half of their reviews received a 5-star review, and b) **the far left**, where a substantial number have never gotten 5 stars. \n",
    "\n",
    "For a fairer assessment that takes into consideration the total number of reviews each seller has received, we might also explore assigning weights to each 1-star (or 5-star review) that are proportional to the total number of reviews received (i.e. we could control that a seller with a hundred 5-star reviews and a single 1-star review would still rank higher than a seller with only ten reviews but all of which are 5-star).        "
   ]
  },
  {
   "cell_type": "markdown",
   "id": "c1698244",
   "metadata": {},
   "source": [
    "## Correlations"
   ]
  },
  {
   "cell_type": "markdown",
   "id": "6295a196",
   "metadata": {},
   "source": [
    "Let's check out the correlations between different features in the **Sellers** dataset."
   ]
  },
  {
   "cell_type": "code",
   "execution_count": null,
   "id": "4617a72a",
   "metadata": {},
   "outputs": [],
   "source": [
    "# Use heatmap to see correlations between features and target variables\n",
    "plt.figure(figsize=(15,6))\n",
    "sns.heatmap(sellers.corr(), cmap='coolwarm', annot=True );"
   ]
  },
  {
   "cell_type": "code",
   "execution_count": null,
   "id": "662806fe",
   "metadata": {},
   "outputs": [],
   "source": [
    "# Isolated view of correlation coefficients with target variable `seller_review_score`\n",
    "sellers.corr()['seller_review_score']"
   ]
  },
  {
   "cell_type": "markdown",
   "id": "67a7d84b",
   "metadata": {},
   "source": [
    "Among features that aren't derived from `seller_review_score`, those that capture delivery time such as `delay_to_carrier` (r = -0.33) and `seller_wait_time` (r = -0.42) have the largest correlation with `seller_review_score`."
   ]
  },
  {
   "cell_type": "markdown",
   "id": "c737e011",
   "metadata": {},
   "source": [
    "Not surprisingly, there is high correlation between features that are in similar groupings such as `n_orders` and `quantity` (r = 0.99). Let's check for collinearity by calculating the ***variable inflation factor (VIF)*** for each of our selected features."
   ]
  },
  {
   "cell_type": "markdown",
   "id": "f5fd7f6e",
   "metadata": {},
   "source": [
    "### Check for Multicollinearity with VIF"
   ]
  },
  {
   "cell_type": "markdown",
   "id": "406b5c77",
   "metadata": {},
   "source": [
    "Collinearity occurs when features (independent variables) have a high linear correlation. This creates an issue with  regression models by making their coefficients and p-values less reliable. \n",
    "\n",
    "To detect if there is multicollinearity (collinearity with more than 2 features), we can calculate each feature's **variable inflation factor (VIF)**, which tells us *how much* variance for a regression coefficient is inflated due to collinearity.\n",
    "\n",
    "$ VIF = \\frac {1}{1 - R^2} $\n",
    "\n",
    "An VIF value of **1** indicates *no correlation*, **1 - 5** is *moderate correlated*, and **> 5** is *highly correlated*. However, values **less than 10** are generally considered acceptable levels of correlation within your features.   "
   ]
  },
  {
   "cell_type": "code",
   "execution_count": null,
   "id": "78c118e3",
   "metadata": {
    "scrolled": true
   },
   "outputs": [],
   "source": [
    "# Calculate Variable Inflation Factor (VIF)\n",
    "features = ['delay_to_carrier', 'seller_wait_time', 'months_on_olist', 'n_orders', 'quantity',  'quantity_per_order', 'sales']\n",
    "\n",
    "X = sellers[features]\n",
    "df = pd.DataFrame()\n",
    "df['VIF'] = [vif(X.values, i) for i in range(X.shape[1])]\n",
    "df['Features'] = X.columns\n",
    "df"
   ]
  },
  {
   "cell_type": "markdown",
   "id": "58e94de2",
   "metadata": {},
   "source": [
    "We see here that the features `n_orders` and `quantity` have high VIF values. We'll remove `quantity` from our list because it has slightly higher correlations with other features when compared to `n_orders`. \n",
    "\n",
    "Let's now recalculate our VIF values."
   ]
  },
  {
   "cell_type": "code",
   "execution_count": null,
   "id": "f69eb8c0",
   "metadata": {},
   "outputs": [],
   "source": [
    "# Remove `quantity` from features list\n",
    "features = ['delay_to_carrier', 'seller_wait_time', 'months_on_olist', 'n_orders',  'quantity_per_order', 'sales']\n",
    "\n",
    "X = sellers[features]\n",
    "df = pd.DataFrame()\n",
    "df['VIF'] = [vif(X.values, i) for i in range(X.shape[1])]\n",
    "df['Features'] = X.columns\n",
    "df"
   ]
  },
  {
   "cell_type": "markdown",
   "id": "d656b1fe",
   "metadata": {},
   "source": [
    "We now have more acceptable VIF values for our features."
   ]
  },
  {
   "cell_type": "code",
   "execution_count": null,
   "id": "0e93a645",
   "metadata": {},
   "outputs": [],
   "source": []
  },
  {
   "cell_type": "markdown",
   "id": "56db58f1",
   "metadata": {},
   "source": [
    "## Multivariate Regression  "
   ]
  },
  {
   "cell_type": "markdown",
   "id": "e6beaac5",
   "metadata": {},
   "source": [
    "In this section, we'll build multivariate regression models to better understand what features from our **Sellers** dataset influence `seller_review_score`. "
   ]
  },
  {
   "cell_type": "markdown",
   "id": "87640721",
   "metadata": {},
   "source": [
    "### Feature Scaling"
   ]
  },
  {
   "cell_type": "markdown",
   "id": "29a20293",
   "metadata": {},
   "source": [
    "To make sure we'll be able to compare the coefficients for features that have different units, we'll first do some feature scaling. Since many of our features have outliers, we'll choose **standardization** over normalization\n",
    "since *standardization* is more robust against outliers. "
   ]
  },
  {
   "cell_type": "code",
   "execution_count": null,
   "id": "44a54dcc",
   "metadata": {},
   "outputs": [],
   "source": [
    "# Define standardization function\n",
    "def standardize(df, features): \n",
    "    df_standardized = df.copy()\n",
    "    for f in features:\n",
    "        mu = df[f].mean()\n",
    "        sigma = df[f].std()\n",
    "        df_standardized[f] = df[f].map(lambda x: (x - mu) / sigma)\n",
    "    return df_standardized"
   ]
  },
  {
   "cell_type": "markdown",
   "id": "0df53db6",
   "metadata": {},
   "source": [
    "### Linear Regression | Base Model"
   ]
  },
  {
   "cell_type": "markdown",
   "id": "14c7b270",
   "metadata": {},
   "source": [
    "Using our current features list, let's standardize and then run a linear regression model to determine how much each feature impacts `seller_review_score`."
   ]
  },
  {
   "cell_type": "code",
   "execution_count": null,
   "id": "db7a781c",
   "metadata": {},
   "outputs": [],
   "source": [
    "# Standardize features and run linear regression model\n",
    "sellers_standardized = standardize(sellers, features)\n",
    "model = smf.ols(formula=f\"seller_review_score ~ {'+ '.join(features)}\", data=sellers_standardized).fit()\n",
    "model.summary()"
   ]
  },
  {
   "cell_type": "markdown",
   "id": "709a1488",
   "metadata": {},
   "source": [
    "**Interpretation of Results**\n",
    "\n",
    "- This model has a **low R-squared** (R2 = 0.20) suggesting that the currently selected features only explain **20% of the variance** found in the `seller_review_score`. Also, the lower value for **Adj. R-squared** (Adj. R2 = 0.199) suggests that we may have extra features in our model that are contributing more to noise than to understanding the key factors influencing our target variable. \n",
    "- The coefficients for the features `months_on_olist`, `n_orders`, and `sales` are **not statistically significant** as their **p-values** do **not fall below our chosen alpha of 0.05**. \n",
    "- Additionally, we see that a value of 0 falls within the **95% confidence interval** for these features. Since a zero coefficient would mean that the feature has no influence on the target variable (i.e. our null hypothesis), this would mean we can't reject the null hypothesis and that that the given **coefficients** for these features are **not reliable**. "
   ]
  },
  {
   "cell_type": "markdown",
   "id": "0b124f1a",
   "metadata": {},
   "source": [
    "Since the p-values for features `months_on_olist`, `n_orders`, and `sales` are not **statistically significant**, we'll remove them from our features list, and run another regression."
   ]
  },
  {
   "cell_type": "markdown",
   "id": "37f171f9",
   "metadata": {},
   "source": [
    "### Linear Regression | Revised Model"
   ]
  },
  {
   "cell_type": "code",
   "execution_count": null,
   "id": "30e22642",
   "metadata": {},
   "outputs": [],
   "source": [
    "# Revised feature selection\n",
    "revised_features = ['delay_to_carrier', 'seller_wait_time', 'quantity_per_order']\n",
    "sellers_standardized = standardize(sellers, revised_features)\n",
    "revised_model = smf.ols(formula=f\"seller_review_score ~ {'+ '.join(revised_features)}\", data=sellers_standardized).fit()"
   ]
  },
  {
   "cell_type": "code",
   "execution_count": null,
   "id": "0aa8aacc",
   "metadata": {
    "scrolled": true
   },
   "outputs": [],
   "source": [
    "revised_model.summary()"
   ]
  },
  {
   "cell_type": "markdown",
   "id": "20779ecc",
   "metadata": {},
   "source": [
    "**Interpretation of Results**\n",
    "\n",
    "- With this reduced set of features, our model is still only able to explain about **20% of the variance** in the seller review scores (R2 = 0.20). \n",
    "- Among our **Sellers** data, a seller's average wait time appears to have the most influence on his or her average review score. *Holding all other variables constant, for every added day in `seller_wait_time`, the `seller_review_score` on average **decreases by 28%** (slope = -0.02776).* \n",
    "- While we already saw that only about 6% of sellers contributed to a delayed order, our regression model indicates that those that have *on average experience a **13% decrease** in `seller_review_score` for each additional day of delay, holding all other variables constant (slope = -0.1315).*  \n",
    "- Similarly, we saw that most sellers do not have more than sell more than 1 item per order. However, our regression shows that *if the average item per order increases by a whole item, on average we see a **decrease** in `seller_review_score` by **5%**, holding all other variables constant (slope = -0.0468).*     "
   ]
  },
  {
   "cell_type": "markdown",
   "id": "fe28e81d",
   "metadata": {},
   "source": [
    "Let's plot the coefficients to more easily compare them to each other. "
   ]
  },
  {
   "cell_type": "code",
   "execution_count": null,
   "id": "bbb342ae",
   "metadata": {},
   "outputs": [],
   "source": [
    "revised_model.params"
   ]
  },
  {
   "cell_type": "code",
   "execution_count": null,
   "id": "a30f2f01",
   "metadata": {},
   "outputs": [],
   "source": [
    "revised_model.params[1:].sort_values().plot(kind='barh');"
   ]
  },
  {
   "cell_type": "markdown",
   "id": "997685bd",
   "metadata": {},
   "source": [
    "### Residuals and RMSE"
   ]
  },
  {
   "cell_type": "markdown",
   "id": "7216d007",
   "metadata": {},
   "source": [
    "Now let's look at the **residuals** (predicted values - real values) and calculate the **Root Mean Square Error (RMSE)** as a check to see how well our multivariate regression model is performing. "
   ]
  },
  {
   "cell_type": "code",
   "execution_count": null,
   "id": "b9b09d13",
   "metadata": {
    "scrolled": true
   },
   "outputs": [],
   "source": [
    "# Calculate residuals (predicted values - real values)\n",
    "predicted_review_score = revised_model.predict(sellers_standardized[features])\n",
    "residuals = predicted_review_score - sellers_standardized.seller_review_score\n",
    "residuals.head()"
   ]
  },
  {
   "cell_type": "code",
   "execution_count": null,
   "id": "2455d0fa",
   "metadata": {},
   "outputs": [],
   "source": [
    "# Calculate the RMSE\n",
    "RMSE = (residuals.map(lambda x: x**2).sum() / len(residuals))**0.5\n",
    "RMSE"
   ]
  },
  {
   "cell_type": "markdown",
   "id": "5dc256fb",
   "metadata": {},
   "source": [
    "The **RMSE** tells us that on average our predicted scores are **0.7** stars off of the real scores. On a 5-star rating system, that's not too bad. "
   ]
  },
  {
   "cell_type": "code",
   "execution_count": null,
   "id": "1c484976",
   "metadata": {},
   "outputs": [],
   "source": [
    "# Residual density plot\n",
    "sns.histplot(model.resid, kde=True, stat='density', discrete=True);"
   ]
  },
  {
   "cell_type": "markdown",
   "id": "fa2c2437",
   "metadata": {},
   "source": [
    " ## Logistic Regression"
   ]
  },
  {
   "cell_type": "markdown",
   "id": "f04d6704",
   "metadata": {},
   "source": [
    "Since the `seller_review_score` is calculated as an average for each seller, we can get a continuous target variable ranging from 0-5 stars. This differs from the **Orders** dataset feature of `review_score` which could be understood as a ordinal categorical variable. This perhaps explains a slightly better **R-squared of = 0.20** for our **Sellers Linear Regression** compared to the one from our **Orders Linear Regression (R2 = 0.14)**.\n",
    "\n",
    "Like we did for the **Orders** dataset, let's try running logistic regression models for both **1-star** (`share_of_one_stars`) and **5-star** (`share_of_five_stars`) **reviews**, but now for our **Sellers** dataset."
   ]
  },
  {
   "cell_type": "markdown",
   "id": "8c272c12",
   "metadata": {},
   "source": [
    "### Logistic Regression | 1-Star Review Model"
   ]
  },
  {
   "cell_type": "markdown",
   "id": "c28c6dbc",
   "metadata": {},
   "source": [
    "Let's run our logistic regression model for 1-star reviews  "
   ]
  },
  {
   "cell_type": "code",
   "execution_count": null,
   "id": "37efbbfd",
   "metadata": {
    "scrolled": true
   },
   "outputs": [],
   "source": [
    "#Fit logit model for 1-star reviews\n",
    "sellers_standardized = standardize(sellers, revised_features)\n",
    "logit_one = smf.logit(formula=f\"share_of_one_stars ~ {'+ '.join(revised_features)}\", data=sellers_standardized).fit()\n",
    "logit_one.summary()"
   ]
  },
  {
   "cell_type": "markdown",
   "id": "349b69b5",
   "metadata": {},
   "source": [
    "To better interpret the coefficients from our logistic regression model, we'll convert units from log-odds (logits) to odds. "
   ]
  },
  {
   "cell_type": "code",
   "execution_count": null,
   "id": "8a453f77",
   "metadata": {
    "scrolled": true
   },
   "outputs": [],
   "source": [
    "# Log-odds to odds conversion by exponentiating\n",
    "logit_one_results = pd.DataFrame(logit_one.params, columns=['log-odds'])\n",
    "logit_one_results['odds'] = logit_one_results['log-odds'].apply(lambda x: math.exp(x))\n",
    "logit_one_results"
   ]
  },
  {
   "cell_type": "markdown",
   "id": "988692ea",
   "metadata": {},
   "source": [
    "**Interpretation of Results**\n",
    "\n",
    "- All of our coefficients are **statistically significant** given our **p-values** are below are alpha of 0.05. However, we note that the feature `quantity_per_order` is quite close to the threshold (p-value = 0.042) \n",
    "\n",
    "- With our model, we see that `seller_wait_time` has the most influence on receiving a 1-star review. *Holding all other variables constant, for each additional day in `seller_wait_time`, on average there is a **68% increase in odds** of getting a 1-star review*."
   ]
  },
  {
   "cell_type": "markdown",
   "id": "a8723af6",
   "metadata": {},
   "source": [
    "### Logistic Regression | 5-Star Review Model"
   ]
  },
  {
   "cell_type": "markdown",
   "id": "0262c543",
   "metadata": {},
   "source": [
    "Now let's run another logistic regression model for 5-star reviews.  "
   ]
  },
  {
   "cell_type": "code",
   "execution_count": null,
   "id": "f815c636",
   "metadata": {},
   "outputs": [],
   "source": [
    "# Fit logit model for 5-star reviews\n",
    "sellers_standardized = standardize(sellers, revised_features)\n",
    "logit_five = smf.logit(formula=f\"share_of_five_stars ~ {'+ '.join(revised_features)}\", data=sellers_standardized).fit()\n",
    "logit_five.summary()"
   ]
  },
  {
   "cell_type": "code",
   "execution_count": null,
   "id": "1205427d",
   "metadata": {
    "scrolled": true
   },
   "outputs": [],
   "source": [
    "# Log-odds to odds conversion by exponentiating\n",
    "logit_five_results = pd.DataFrame(logit_five.params, columns=['log-odds'])\n",
    "logit_five_results['odds'] = logit_five_results['log-odds'].apply(lambda x: math.exp(x))\n",
    "logit_five_results"
   ]
  },
  {
   "cell_type": "markdown",
   "id": "e5d68631",
   "metadata": {},
   "source": [
    "**Interpretation of Results**\n",
    "\n",
    "- In this model, our feature `quantity_per_order` is **not statistically significant** (p-value = 0.60), so we cannot reject the null hypothesis that `quantity_per_order` has no impact on receiving a 5-star. \n",
    "\n",
    "- While the coefficients for our other two features are **statistically significant**, we note that the p-value for `delay_to_carrier` (p-value = 0.047) is close to our alpha threshold of 0.05).  \n",
    "\n",
    "- With this model, we also see `seller_wait_time` as have the largest influence on the star rating. *Holding all other variables constant, for each additional day in `seller_wait_time`, on average there is a **34% decrease in odds** of getting a 5-star review.*"
   ]
  },
  {
   "cell_type": "markdown",
   "id": "31772c44",
   "metadata": {},
   "source": [
    "### Logistic Regression Model Comparison"
   ]
  },
  {
   "cell_type": "code",
   "execution_count": null,
   "id": "76f35a1a",
   "metadata": {
    "scrolled": true
   },
   "outputs": [],
   "source": [
    "# Logistic Regression Model Comparison\n",
    "fig, (ax1, ax2) = plt.subplots(1,2, figsize=(13,5))\n",
    "fig.suptitle('Logit Five vs. Logit One')\n",
    "\n",
    "# Logistic Regression - logit_five_model\n",
    "ax1 = plt.subplot(1,2,1)\n",
    "ax1.set_title('Logit Five')\n",
    "ax1.yaxis.tick_right()\n",
    "ax1.set_xlim(-1.2, 1.5)\n",
    "logit_five.params[1:].sort_values().plot(kind='barh', ax=ax1)\n",
    "\n",
    "# Logistic Regression - logit_one_model\n",
    "ax2 = plt.subplot(1,2,2)\n",
    "ax2.set_title('Logit One')\n",
    "ax2.yaxis.tick_right()\n",
    "ax2.set_xlim(-1.2, 1.5)\n",
    "logit_one.params[1:].sort_values(ascending=False).plot(kind='barh', ax=ax2)\n",
    "\n",
    "plt.tight_layout()\n",
    "plt.show();"
   ]
  },
  {
   "cell_type": "markdown",
   "id": "1dace9e0",
   "metadata": {},
   "source": [
    "Both logistic regression models seem to point to `seller_wait_time` as the most influential feature in receiving a 1- or 5-star review.  "
   ]
  },
  {
   "cell_type": "markdown",
   "id": "6cb2520d",
   "metadata": {},
   "source": [
    "### Linear vs Logistic Regression Coefficients"
   ]
  },
  {
   "cell_type": "markdown",
   "id": "857c5b19",
   "metadata": {},
   "source": [
    "Let's plot and compare the coefficients of both our linear regression and logistic regression models to see if they are generally telling the same story. "
   ]
  },
  {
   "cell_type": "code",
   "execution_count": null,
   "id": "89b07a36",
   "metadata": {},
   "outputs": [],
   "source": [
    "plt.figure(figsize=(13,5))\n",
    "plt.suptitle('Linear vs. Logit Coefficients')\n",
    "\n",
    "# Linear Regression - Revised Model\n",
    "ax1 = plt.subplot(1,2,1)\n",
    "ax1.set_title('Linear')\n",
    "ax1.set_xlim(-1.5, 0.25)\n",
    "revised_model.params[1:].sort_values().plot(kind='barh', ax=ax1)\n",
    "\n",
    "# Logistic Regression - logit_five_model\n",
    "ax2 = plt.subplot(1,2,2)\n",
    "ax2.set_title('Logit Five')\n",
    "ax2.yaxis.tick_right()\n",
    "ax2.set_xlim(-1.5, 0.25)\n",
    "logit_five.params[1:].sort_values().plot(kind='barh', ax=ax2)\n",
    "\n",
    "plt.tight_layout()\n",
    "plt.show()"
   ]
  },
  {
   "cell_type": "markdown",
   "id": "111efca1",
   "metadata": {},
   "source": [
    "While we cannot directly compare the values of the coefficients from our linear and logistic regression models, we can see that they show *similar feature importance.* In both models, `seller_wait_time` appears to have the the largest association with `seller_wait_time` followed by `delay_to_carrier`. It appears that delivery duration has a large influence on review scores.  "
   ]
  },
  {
   "cell_type": "code",
   "execution_count": null,
   "id": "bd1eda09",
   "metadata": {},
   "outputs": [],
   "source": []
  },
  {
   "cell_type": "code",
   "execution_count": null,
   "id": "fd84e031",
   "metadata": {},
   "outputs": [],
   "source": []
  }
 ],
 "metadata": {
  "kernelspec": {
   "display_name": "Python 3",
   "language": "python",
   "name": "python3"
  },
  "language_info": {
   "codemirror_mode": {
    "name": "ipython",
    "version": 3
   },
   "file_extension": ".py",
   "mimetype": "text/x-python",
   "name": "python",
   "nbconvert_exporter": "python",
   "pygments_lexer": "ipython3",
   "version": "3.8.6"
  },
  "toc": {
   "base_numbering": 1,
   "nav_menu": {},
   "number_sections": true,
   "sideBar": true,
   "skip_h1_title": true,
   "title_cell": "Table of Contents",
   "title_sidebar": "Contents",
   "toc_cell": false,
   "toc_position": {},
   "toc_section_display": true,
   "toc_window_display": false
  }
 },
 "nbformat": 4,
 "nbformat_minor": 5
}
