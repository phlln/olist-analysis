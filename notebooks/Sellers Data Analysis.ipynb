{
 "cells": [
  {
   "cell_type": "markdown",
   "id": "59776271",
   "metadata": {},
   "source": [
    "# Sellers Data Analysis"
   ]
  },
  {
   "cell_type": "markdown",
   "id": "f5e499b9",
   "metadata": {},
   "source": [
    "**Notebook Objective**\n",
    "\n",
    "While our [analysis of the **Orders** dataset](./Orders%20Analysis.ipynb) from Brazilian e-commerce platform **Olist** revealed that `wait_time` was one of the more significant factors in explaining review scores, the low R-squared in our regression models suggested that there were other factors to consider outside of the **Orders** data.\n",
    "\n",
    "In this notebook we'll use the **Sellers** dataset from **Olist** to see if we can identify features that influence review scores when grouping by individual sellers. In the first three sections, we'll do some exploratory data analysis by inspecting features, examining distributions, and then looking for any correlations. Next, we'll apply both linear and logistic regression models to better understand the relationship between specific features and the `seller_review_score`.\n",
    "\n",
    "***Exploratory Data Analysis***\n",
    "\n",
    "1. Inspect Features\n",
    "2. Distributions\n",
    "2. Correlations"
   ]
  },
  {
   "cell_type": "markdown",
   "id": "a34f8f6a",
   "metadata": {},
   "source": [
    "***Models***\n",
    "\n",
    "3. Multivariate Regression\n",
    "4. Logistic Regression\n",
    "\n",
    "\n"
   ]
  },
  {
   "cell_type": "markdown",
   "id": "5ca87bfd",
   "metadata": {},
   "source": [
    "If bad reviews are indeed linked to particular sellers, we'll be able to identify them and try to understand the reasons for poor performance. "
   ]
  },
  {
   "cell_type": "code",
   "execution_count": 1,
   "id": "ca5c414d",
   "metadata": {},
   "outputs": [],
   "source": [
    "# Import relevant libraries and modules\n",
    "%load_ext autoreload\n",
    "%autoreload 2\n",
    "\n",
    "import pandas as pd\n",
    "import numpy as np\n",
    "import seaborn as sns\n",
    "import matplotlib.pyplot as plt\n",
    "import statsmodels.formula.api as smf\n",
    "from statsmodels.stats.outliers_influence import variance_inflation_factor as vif\n",
    "import math\n",
    "import paths\n",
    "\n",
    "from olist.seller import Seller"
   ]
  },
  {
   "cell_type": "markdown",
   "id": "7b39b381",
   "metadata": {},
   "source": [
    "## Inspect Features"
   ]
  },
  {
   "cell_type": "code",
   "execution_count": 2,
   "id": "7fbd52c3",
   "metadata": {
    "scrolled": false
   },
   "outputs": [
    {
     "data": {
      "text/html": [
       "<div>\n",
       "<style scoped>\n",
       "    .dataframe tbody tr th:only-of-type {\n",
       "        vertical-align: middle;\n",
       "    }\n",
       "\n",
       "    .dataframe tbody tr th {\n",
       "        vertical-align: top;\n",
       "    }\n",
       "\n",
       "    .dataframe thead th {\n",
       "        text-align: right;\n",
       "    }\n",
       "</style>\n",
       "<table border=\"1\" class=\"dataframe\">\n",
       "  <thead>\n",
       "    <tr style=\"text-align: right;\">\n",
       "      <th></th>\n",
       "      <th>seller_id</th>\n",
       "      <th>seller_city</th>\n",
       "      <th>seller_state</th>\n",
       "      <th>delay_to_carrier</th>\n",
       "      <th>seller_wait_time</th>\n",
       "      <th>date_first_sale</th>\n",
       "      <th>date_last_sale</th>\n",
       "      <th>months_on_olist</th>\n",
       "      <th>share_of_one_stars</th>\n",
       "      <th>share_of_five_stars</th>\n",
       "      <th>seller_review_score</th>\n",
       "      <th>review_cost_per_seller</th>\n",
       "      <th>n_orders</th>\n",
       "      <th>quantity</th>\n",
       "      <th>quantity_per_order</th>\n",
       "      <th>sales</th>\n",
       "    </tr>\n",
       "  </thead>\n",
       "  <tbody>\n",
       "    <tr>\n",
       "      <th>0</th>\n",
       "      <td>3442f8959a84dea7ee197c632cb2df15</td>\n",
       "      <td>campinas</td>\n",
       "      <td>SP</td>\n",
       "      <td>0.000000</td>\n",
       "      <td>13.018588</td>\n",
       "      <td>2017-05-05 16:25:11</td>\n",
       "      <td>2017-08-30 12:50:19</td>\n",
       "      <td>4.0</td>\n",
       "      <td>0.333333</td>\n",
       "      <td>0.333333</td>\n",
       "      <td>3.00</td>\n",
       "      <td>140</td>\n",
       "      <td>3</td>\n",
       "      <td>3</td>\n",
       "      <td>1.000</td>\n",
       "      <td>218.70</td>\n",
       "    </tr>\n",
       "    <tr>\n",
       "      <th>1</th>\n",
       "      <td>d1b65fc7debc3361ea86b5f14c68d2e2</td>\n",
       "      <td>mogi guacu</td>\n",
       "      <td>SP</td>\n",
       "      <td>0.000000</td>\n",
       "      <td>9.065716</td>\n",
       "      <td>2017-03-29 02:10:34</td>\n",
       "      <td>2018-06-06 20:15:21</td>\n",
       "      <td>14.0</td>\n",
       "      <td>0.050000</td>\n",
       "      <td>0.725000</td>\n",
       "      <td>4.55</td>\n",
       "      <td>240</td>\n",
       "      <td>40</td>\n",
       "      <td>41</td>\n",
       "      <td>1.025</td>\n",
       "      <td>11703.07</td>\n",
       "    </tr>\n",
       "    <tr>\n",
       "      <th>2</th>\n",
       "      <td>ce3ad9de960102d0677a81f5d0bb7b2d</td>\n",
       "      <td>rio de janeiro</td>\n",
       "      <td>RJ</td>\n",
       "      <td>0.000000</td>\n",
       "      <td>4.042292</td>\n",
       "      <td>2018-07-30 12:44:49</td>\n",
       "      <td>2018-07-30 12:44:49</td>\n",
       "      <td>0.0</td>\n",
       "      <td>0.000000</td>\n",
       "      <td>1.000000</td>\n",
       "      <td>5.00</td>\n",
       "      <td>0</td>\n",
       "      <td>1</td>\n",
       "      <td>1</td>\n",
       "      <td>1.000</td>\n",
       "      <td>158.00</td>\n",
       "    </tr>\n",
       "    <tr>\n",
       "      <th>3</th>\n",
       "      <td>c0f3eea2e14555b6faeea3dd58c1b1c3</td>\n",
       "      <td>sao paulo</td>\n",
       "      <td>SP</td>\n",
       "      <td>0.000000</td>\n",
       "      <td>5.667187</td>\n",
       "      <td>2018-08-03 00:44:08</td>\n",
       "      <td>2018-08-03 00:44:08</td>\n",
       "      <td>0.0</td>\n",
       "      <td>0.000000</td>\n",
       "      <td>1.000000</td>\n",
       "      <td>5.00</td>\n",
       "      <td>0</td>\n",
       "      <td>1</td>\n",
       "      <td>1</td>\n",
       "      <td>1.000</td>\n",
       "      <td>79.99</td>\n",
       "    </tr>\n",
       "    <tr>\n",
       "      <th>4</th>\n",
       "      <td>51a04a8a6bdcb23deccc82b0b80742cf</td>\n",
       "      <td>braganca paulista</td>\n",
       "      <td>SP</td>\n",
       "      <td>3.353727</td>\n",
       "      <td>35.314861</td>\n",
       "      <td>2017-11-14 12:15:25</td>\n",
       "      <td>2017-11-14 12:15:25</td>\n",
       "      <td>0.0</td>\n",
       "      <td>1.000000</td>\n",
       "      <td>0.000000</td>\n",
       "      <td>1.00</td>\n",
       "      <td>100</td>\n",
       "      <td>1</td>\n",
       "      <td>1</td>\n",
       "      <td>1.000</td>\n",
       "      <td>167.99</td>\n",
       "    </tr>\n",
       "  </tbody>\n",
       "</table>\n",
       "</div>"
      ],
      "text/plain": [
       "                          seller_id        seller_city seller_state  \\\n",
       "0  3442f8959a84dea7ee197c632cb2df15           campinas           SP   \n",
       "1  d1b65fc7debc3361ea86b5f14c68d2e2         mogi guacu           SP   \n",
       "2  ce3ad9de960102d0677a81f5d0bb7b2d     rio de janeiro           RJ   \n",
       "3  c0f3eea2e14555b6faeea3dd58c1b1c3          sao paulo           SP   \n",
       "4  51a04a8a6bdcb23deccc82b0b80742cf  braganca paulista           SP   \n",
       "\n",
       "   delay_to_carrier  seller_wait_time     date_first_sale      date_last_sale  \\\n",
       "0          0.000000         13.018588 2017-05-05 16:25:11 2017-08-30 12:50:19   \n",
       "1          0.000000          9.065716 2017-03-29 02:10:34 2018-06-06 20:15:21   \n",
       "2          0.000000          4.042292 2018-07-30 12:44:49 2018-07-30 12:44:49   \n",
       "3          0.000000          5.667187 2018-08-03 00:44:08 2018-08-03 00:44:08   \n",
       "4          3.353727         35.314861 2017-11-14 12:15:25 2017-11-14 12:15:25   \n",
       "\n",
       "   months_on_olist  share_of_one_stars  share_of_five_stars  \\\n",
       "0              4.0            0.333333             0.333333   \n",
       "1             14.0            0.050000             0.725000   \n",
       "2              0.0            0.000000             1.000000   \n",
       "3              0.0            0.000000             1.000000   \n",
       "4              0.0            1.000000             0.000000   \n",
       "\n",
       "   seller_review_score  review_cost_per_seller  n_orders  quantity  \\\n",
       "0                 3.00                     140         3         3   \n",
       "1                 4.55                     240        40        41   \n",
       "2                 5.00                       0         1         1   \n",
       "3                 5.00                       0         1         1   \n",
       "4                 1.00                     100         1         1   \n",
       "\n",
       "   quantity_per_order     sales  \n",
       "0               1.000    218.70  \n",
       "1               1.025  11703.07  \n",
       "2               1.000    158.00  \n",
       "3               1.000     79.99  \n",
       "4               1.000    167.99  "
      ]
     },
     "execution_count": 2,
     "metadata": {},
     "output_type": "execute_result"
    }
   ],
   "source": [
    "# Load and inspect Sellers data\n",
    "sellers = Seller().get_training_data()\n",
    "sellers.head()"
   ]
  },
  {
   "cell_type": "code",
   "execution_count": 3,
   "id": "f343f9ec",
   "metadata": {},
   "outputs": [
    {
     "name": "stdout",
     "output_type": "stream",
     "text": [
      "<class 'pandas.core.frame.DataFrame'>\n",
      "Int64Index: 2970 entries, 0 to 2969\n",
      "Data columns (total 16 columns):\n",
      " #   Column                  Non-Null Count  Dtype         \n",
      "---  ------                  --------------  -----         \n",
      " 0   seller_id               2970 non-null   object        \n",
      " 1   seller_city             2970 non-null   object        \n",
      " 2   seller_state            2970 non-null   object        \n",
      " 3   delay_to_carrier        2970 non-null   float64       \n",
      " 4   seller_wait_time        2970 non-null   float64       \n",
      " 5   date_first_sale         2970 non-null   datetime64[ns]\n",
      " 6   date_last_sale          2970 non-null   datetime64[ns]\n",
      " 7   months_on_olist         2970 non-null   float64       \n",
      " 8   share_of_one_stars      2970 non-null   float64       \n",
      " 9   share_of_five_stars     2970 non-null   float64       \n",
      " 10  seller_review_score     2970 non-null   float64       \n",
      " 11  review_cost_per_seller  2970 non-null   int64         \n",
      " 12  n_orders                2970 non-null   int64         \n",
      " 13  quantity                2970 non-null   int64         \n",
      " 14  quantity_per_order      2970 non-null   float64       \n",
      " 15  sales                   2970 non-null   float64       \n",
      "dtypes: datetime64[ns](2), float64(8), int64(3), object(3)\n",
      "memory usage: 394.5+ KB\n"
     ]
    }
   ],
   "source": [
    "# Inspect data types and check for null values\n",
    "sellers.info()"
   ]
  },
  {
   "cell_type": "markdown",
   "id": "e249221f",
   "metadata": {},
   "source": [
    "## Distributions"
   ]
  },
  {
   "cell_type": "markdown",
   "id": "4820fd36",
   "metadata": {},
   "source": [
    "Let's begin by analyzing features from the **Sellers** dataset and understanding their distributions. We'll examine them in smaller groups:\n",
    "- `delay_to_carrier`, `seller_wait_time`\n",
    "- `n_orders`, `quantity`, `quantity_per_order`, `sales`, and `months_on_olist`\n",
    "- `seller_review_score`, `share_of_one_stars`, and `share_of_five_stars`"
   ]
  },
  {
   "cell_type": "markdown",
   "id": "14a51e5d",
   "metadata": {},
   "source": [
    "### Distributions for `delay_to_carrier`, `seller_wait_time`"
   ]
  },
  {
   "cell_type": "markdown",
   "id": "cfab20e3",
   "metadata": {},
   "source": [
    "This pair of features relates to the time associated with order fulfillment and is calculated per seller.\n",
    "\n",
    "- `delay_to_carrier`: represents the average delay (in days) by a seller for delivering an order to the carrier.\n",
    "\n",
    "- `seller_wait_time`: represents the average `wait_time` (in days), starting from the customer placing an order online to receiving delivery of that order. \n",
    "(**Note:** This differs from the `wait_time` variable in the **Orders** dataset in that it's been calculated as the *average `wait_time` for each seller).* \n",
    "\n"
   ]
  },
  {
   "cell_type": "code",
   "execution_count": 4,
   "id": "35f7a26f",
   "metadata": {
    "scrolled": true
   },
   "outputs": [
    {
     "data": {
      "image/png": "[encoded data removed]",
      "text/plain": [
       "<Figure size 1080x432 with 2 Axes>"
      ]
     },
     "metadata": {},
     "output_type": "display_data"
    }
   ],
   "source": [
    "# Distributions of delivery-related variables\n",
    "sns.set_style('darkgrid')\n",
    "fig, (ax1, ax2) = plt.subplots(1,2, figsize=(15,6))\n",
    "fig.suptitle('Distribution of Delivery-related Variables', fontsize=20)\n",
    "\n",
    "# 'delay_to_carrier' histogram\n",
    "ax1 = plt.subplot(121)\n",
    "ax1 = sns.histplot(sellers.delay_to_carrier)\n",
    "plt.xlabel('delay_to_carrier (days)')\n",
    "\n",
    "# 'seller_wait_time' histogram\n",
    "ax2 = plt.subplot(122)\n",
    "ax2 = sns.histplot(sellers.seller_wait_time)\n",
    "plt.xlabel('seller_wait_time (days)')\n",
    "\n",
    "plt.show(); "
   ]
  },
  {
   "cell_type": "markdown",
   "id": "676f9bda",
   "metadata": {},
   "source": [
    "There are some outliers here that skew the distribution plot, so let's also check out the summary stats. "
   ]
  },
  {
   "cell_type": "code",
   "execution_count": 5,
   "id": "677e8227",
   "metadata": {
    "scrolled": false
   },
   "outputs": [
    {
     "data": {
      "text/html": [
       "<div>\n",
       "<style scoped>\n",
       "    .dataframe tbody tr th:only-of-type {\n",
       "        vertical-align: middle;\n",
       "    }\n",
       "\n",
       "    .dataframe tbody tr th {\n",
       "        vertical-align: top;\n",
       "    }\n",
       "\n",
       "    .dataframe thead th {\n",
       "        text-align: right;\n",
       "    }\n",
       "</style>\n",
       "<table border=\"1\" class=\"dataframe\">\n",
       "  <thead>\n",
       "    <tr style=\"text-align: right;\">\n",
       "      <th></th>\n",
       "      <th>delay_to_carrier</th>\n",
       "      <th>seller_wait_time</th>\n",
       "    </tr>\n",
       "  </thead>\n",
       "  <tbody>\n",
       "    <tr>\n",
       "      <th>count</th>\n",
       "      <td>2970.000000</td>\n",
       "      <td>2970.000000</td>\n",
       "    </tr>\n",
       "    <tr>\n",
       "      <th>mean</th>\n",
       "      <td>0.402786</td>\n",
       "      <td>12.160414</td>\n",
       "    </tr>\n",
       "    <tr>\n",
       "      <th>std</th>\n",
       "      <td>2.391687</td>\n",
       "      <td>7.103208</td>\n",
       "    </tr>\n",
       "    <tr>\n",
       "      <th>min</th>\n",
       "      <td>0.000000</td>\n",
       "      <td>1.214178</td>\n",
       "    </tr>\n",
       "    <tr>\n",
       "      <th>25%</th>\n",
       "      <td>0.000000</td>\n",
       "      <td>8.289263</td>\n",
       "    </tr>\n",
       "    <tr>\n",
       "      <th>50%</th>\n",
       "      <td>0.000000</td>\n",
       "      <td>11.120969</td>\n",
       "    </tr>\n",
       "    <tr>\n",
       "      <th>75%</th>\n",
       "      <td>0.000000</td>\n",
       "      <td>14.240673</td>\n",
       "    </tr>\n",
       "    <tr>\n",
       "      <th>max</th>\n",
       "      <td>45.434039</td>\n",
       "      <td>189.863160</td>\n",
       "    </tr>\n",
       "  </tbody>\n",
       "</table>\n",
       "</div>"
      ],
      "text/plain": [
       "       delay_to_carrier  seller_wait_time\n",
       "count       2970.000000       2970.000000\n",
       "mean           0.402786         12.160414\n",
       "std            2.391687          7.103208\n",
       "min            0.000000          1.214178\n",
       "25%            0.000000          8.289263\n",
       "50%            0.000000         11.120969\n",
       "75%            0.000000         14.240673\n",
       "max           45.434039        189.863160"
      ]
     },
     "execution_count": 5,
     "metadata": {},
     "output_type": "execute_result"
    }
   ],
   "source": [
    "# Summary stats\n",
    "sellers[['delay_to_carrier','seller_wait_time']].describe()"
   ]
  },
  {
   "cell_type": "code",
   "execution_count": 6,
   "id": "a256c721",
   "metadata": {},
   "outputs": [
    {
     "data": {
      "text/plain": [
       "5.72"
      ]
     },
     "execution_count": 6,
     "metadata": {},
     "output_type": "execute_result"
    }
   ],
   "source": [
    "# Percentage of sellers who have ever been part of a delayed order\n",
    "round(sellers[sellers.delay_to_carrier > 1]['delay_to_carrier'].count() / len(sellers) * 100, 2)"
   ]
  },
  {
   "cell_type": "markdown",
   "id": "32ed967a",
   "metadata": {},
   "source": [
    "From our plot we can see that very few sellers have contributed to delays in an order. Further calculations show that indeed only **5.72%** of sellers have ever been part of a delayed order, so there are likely other reasons associated with low review scores in addition to `delay_to_carrier`. "
   ]
  },
  {
   "cell_type": "markdown",
   "id": "18b4607c",
   "metadata": {},
   "source": [
    "While the plot for `seller_wait_time` is right-skewed, this appears to be the effect of only a few outliers since the mean is still close to the median. This indicates that most sellers are still clustered tightly around the center and that there are not enough sellers with longer average wait times to pull the mean further to the right.  "
   ]
  },
  {
   "cell_type": "markdown",
   "id": "2eef5be7",
   "metadata": {},
   "source": [
    "### Distributions for `n_orders`, `quantity`, `quantity_per_order`, `sales`, `months_on_olist`"
   ]
  },
  {
   "cell_type": "markdown",
   "id": "e098f1b3",
   "metadata": {},
   "source": [
    "These features indicate the various quantities related to orders on a per seller basis:  "
   ]
  },
  {
   "cell_type": "markdown",
   "id": "1f39859a",
   "metadata": {},
   "source": [
    "- `n_orders`: the total number of orders a seller has had while on the platform\n",
    "- `quantity`: the total number of items that have been sold by a seller\n",
    "- `quantity_per_order`: lifelong average per seller derived from dividing `n_orders` by `quantity`\n",
    "- `sales`: the total sales (in BRL) each seller has made to date"
   ]
  },
  {
   "cell_type": "code",
   "execution_count": 7,
   "id": "cee361ff",
   "metadata": {
    "scrolled": true
   },
   "outputs": [
    {
     "data": {
      "image/png": "[encoded data removed]",
      "text/plain": [
       "<Figure size 1080x432 with 4 Axes>"
      ]
     },
     "metadata": {},
     "output_type": "display_data"
    }
   ],
   "source": [
    "# Distributions for size-related variables\n",
    "fig, (ax1, ax2, ax3, ax2) = plt.subplots(4,1)\n",
    "plt.figure(figsize=(15,6)).suptitle('Distributions for Size-related Variables', fontsize=20)\n",
    "plt.close(1)\n",
    "\n",
    "#'n_orders'\n",
    "ax1 = plt.subplot(411)\n",
    "ax1 = sns.histplot(sellers.n_orders)\n",
    "plt.tight_layout()\n",
    "\n",
    "#'quantity'\n",
    "ax2 = plt.subplot(412)\n",
    "ax2 = sns.histplot(sellers.quantity)\n",
    "\n",
    "#'quantity_per_order'\n",
    "ax3 = plt.subplot(413)\n",
    "ax3 = sns.histplot(sellers.quantity_per_order)\n",
    "\n",
    "#'sales'\n",
    "ax3 = plt.subplot(414)\n",
    "ax3 = sns.histplot(sellers.sales)\n",
    "\n",
    "plt.show();"
   ]
  },
  {
   "cell_type": "markdown",
   "id": "4049bc43",
   "metadata": {},
   "source": [
    "The outliers are quite extreme with these features making the plots difficult to read. We'll re-plot them with an adjusted view that excludes outliers."
   ]
  },
  {
   "cell_type": "code",
   "execution_count": 8,
   "id": "75814c35",
   "metadata": {
    "scrolled": true
   },
   "outputs": [
    {
     "data": {
      "text/html": [
       "<div>\n",
       "<style scoped>\n",
       "    .dataframe tbody tr th:only-of-type {\n",
       "        vertical-align: middle;\n",
       "    }\n",
       "\n",
       "    .dataframe tbody tr th {\n",
       "        vertical-align: top;\n",
       "    }\n",
       "\n",
       "    .dataframe thead th {\n",
       "        text-align: right;\n",
       "    }\n",
       "</style>\n",
       "<table border=\"1\" class=\"dataframe\">\n",
       "  <thead>\n",
       "    <tr style=\"text-align: right;\">\n",
       "      <th></th>\n",
       "      <th>n_orders</th>\n",
       "      <th>quantity</th>\n",
       "      <th>quantity_per_order</th>\n",
       "      <th>sales</th>\n",
       "    </tr>\n",
       "  </thead>\n",
       "  <tbody>\n",
       "    <tr>\n",
       "      <th>count</th>\n",
       "      <td>2970.000000</td>\n",
       "      <td>2970.000000</td>\n",
       "      <td>2970.000000</td>\n",
       "      <td>2970.000000</td>\n",
       "    </tr>\n",
       "    <tr>\n",
       "      <th>mean</th>\n",
       "      <td>33.617508</td>\n",
       "      <td>38.085185</td>\n",
       "      <td>1.162150</td>\n",
       "      <td>4566.515906</td>\n",
       "    </tr>\n",
       "    <tr>\n",
       "      <th>std</th>\n",
       "      <td>107.133714</td>\n",
       "      <td>122.417269</td>\n",
       "      <td>0.443348</td>\n",
       "      <td>14185.211617</td>\n",
       "    </tr>\n",
       "    <tr>\n",
       "      <th>min</th>\n",
       "      <td>1.000000</td>\n",
       "      <td>1.000000</td>\n",
       "      <td>1.000000</td>\n",
       "      <td>6.500000</td>\n",
       "    </tr>\n",
       "    <tr>\n",
       "      <th>25%</th>\n",
       "      <td>2.000000</td>\n",
       "      <td>3.000000</td>\n",
       "      <td>1.000000</td>\n",
       "      <td>239.800000</td>\n",
       "    </tr>\n",
       "    <tr>\n",
       "      <th>50%</th>\n",
       "      <td>7.000000</td>\n",
       "      <td>8.000000</td>\n",
       "      <td>1.000000</td>\n",
       "      <td>893.500000</td>\n",
       "    </tr>\n",
       "    <tr>\n",
       "      <th>75%</th>\n",
       "      <td>23.000000</td>\n",
       "      <td>26.000000</td>\n",
       "      <td>1.152009</td>\n",
       "      <td>3586.022500</td>\n",
       "    </tr>\n",
       "    <tr>\n",
       "      <th>max</th>\n",
       "      <td>1854.000000</td>\n",
       "      <td>2039.000000</td>\n",
       "      <td>15.000000</td>\n",
       "      <td>229472.630000</td>\n",
       "    </tr>\n",
       "  </tbody>\n",
       "</table>\n",
       "</div>"
      ],
      "text/plain": [
       "          n_orders     quantity  quantity_per_order          sales\n",
       "count  2970.000000  2970.000000         2970.000000    2970.000000\n",
       "mean     33.617508    38.085185            1.162150    4566.515906\n",
       "std     107.133714   122.417269            0.443348   14185.211617\n",
       "min       1.000000     1.000000            1.000000       6.500000\n",
       "25%       2.000000     3.000000            1.000000     239.800000\n",
       "50%       7.000000     8.000000            1.000000     893.500000\n",
       "75%      23.000000    26.000000            1.152009    3586.022500\n",
       "max    1854.000000  2039.000000           15.000000  229472.630000"
      ]
     },
     "execution_count": 8,
     "metadata": {},
     "output_type": "execute_result"
    }
   ],
   "source": [
    "sellers[['n_orders', 'quantity', 'quantity_per_order', 'sales']].describe()"
   ]
  },
  {
   "cell_type": "code",
   "execution_count": 9,
   "id": "ed728762",
   "metadata": {},
   "outputs": [
    {
     "data": {
      "text/plain": [
       "[31.5, 34.5, 0.22801383399209474, 5019.33375]"
      ]
     },
     "execution_count": 9,
     "metadata": {},
     "output_type": "execute_result"
    }
   ],
   "source": [
    "# Outlier calculations (based on 1.5*IQR)\n",
    "\n",
    "features = ['n_orders', 'quantity', 'quantity_per_order', 'sales']\n",
    "\n",
    "max_xlim = []\n",
    "q3_xlim = []\n",
    "\n",
    "for f in features:\n",
    "    q3 = np.quantile(sellers[f], .75, axis=0) \n",
    "    q1 = np.quantile(sellers[f], .25, axis=0) \n",
    "    iqr = q3-q1 \n",
    "    outlier_x = 1.5*iqr\n",
    "    max_xlim.append(outlier_x)\n",
    "    q3_xlim.append(q3)\n",
    "\n",
    "max_xlim"
   ]
  },
  {
   "cell_type": "code",
   "execution_count": 10,
   "id": "fab14ffd",
   "metadata": {
    "scrolled": true
   },
   "outputs": [
    {
     "data": {
      "image/png": "[encoded data removed]",
      "text/plain": [
       "<Figure size 1080x432 with 4 Axes>"
      ]
     },
     "metadata": {},
     "output_type": "display_data"
    }
   ],
   "source": [
    "# Re-plotting features with an adjusted view to exclude outliers\n",
    "fig, ((ax1, ax2), (ax3, ax4)) = plt.subplots(2,2)\n",
    "plt.figure(figsize=(15,6)).suptitle('Distributions for Size-related Variables (Adjusted for Outliers)', fontsize=20)\n",
    "plt.close(1)\n",
    "\n",
    "# 'n_orders'\n",
    "ax1 = plt.subplot(221)\n",
    "ax1 = sns.histplot(sellers.n_orders)\n",
    "ax1.set_xlim(0, q3_xlim[0] + max_xlim[0])\n",
    "\n",
    "# 'quantity'\n",
    "ax2 = plt.subplot(222)\n",
    "ax2 = sns.histplot(sellers.quantity)\n",
    "ax2.set_xlim(0, q3_xlim[1] + max_xlim[1])\n",
    "\n",
    "# 'quantity_per_order'\n",
    "ax3 = plt.subplot(223)\n",
    "ax3 = sns.histplot(sellers.quantity_per_order)\n",
    "ax3.set_xlim(1, q3_xlim[2] + max_xlim[2])\n",
    "\n",
    "# 'sales'\n",
    "ax4 = plt.subplot(224)\n",
    "ax4 = sns.histplot(sellers.sales)\n",
    "ax4.set_xlabel('sales (BRL)')\n",
    "ax4.set_xlim(0, q3_xlim[3] + max_xlim[3])\n",
    "\n",
    "plt.tight_layout()\n",
    "plt.show();"
   ]
  },
  {
   "cell_type": "markdown",
   "id": "f01b6c67",
   "metadata": {},
   "source": [
    "Since both `n_orders` and `quantity` speak to the volume of product that sellers have sold, it's not surprising that their distribution is similar. \n",
    "\n",
    "If we consider that seller experience with processing orders has an impact on review scores, `n_orders` might be one feature that can capture some to of this. With median `n_orders` of only **7**, it appears most sellers on the platform have not had a large number of transactions.\n",
    " \n",
    "The distribution of `quantity_per_order` indicates that on average most orders only have a single item. If we had seen on average more multiple-item orders, order mix-ups could have been a large factor in low review scores, but here we only see a low occurrence of multiple-item orders.  \n",
    "\n",
    "The total `sales` per seller seems to follow a similar distribution with these other features—skewed to the right, but with the bulk of data points still near low values. Half of all sellers have generated less than **893.50 BRL** (~170 USD) in total sales."
   ]
  },
  {
   "cell_type": "markdown",
   "id": "f55ab54b",
   "metadata": {},
   "source": [
    "Another feature that might speak more directly to seller experience is `months_on_olist`, which tells how long a seller has been on the platform."
   ]
  },
  {
   "cell_type": "code",
   "execution_count": 11,
   "id": "2cbebc46",
   "metadata": {
    "scrolled": true
   },
   "outputs": [
    {
     "data": {
      "image/png": "[encoded data removed]",
      "text/plain": [
       "<Figure size 1080x432 with 1 Axes>"
      ]
     },
     "metadata": {},
     "output_type": "display_data"
    }
   ],
   "source": [
    "# 'months_on_olist' histogram\n",
    "plt.figure(figsize=(15,6))\n",
    "sns.histplot(sellers.months_on_olist)\n",
    "plt.show()           "
   ]
  },
  {
   "cell_type": "code",
   "execution_count": 12,
   "id": "8d2c3054",
   "metadata": {
    "scrolled": true
   },
   "outputs": [
    {
     "data": {
      "text/html": [
       "<div>\n",
       "<style scoped>\n",
       "    .dataframe tbody tr th:only-of-type {\n",
       "        vertical-align: middle;\n",
       "    }\n",
       "\n",
       "    .dataframe tbody tr th {\n",
       "        vertical-align: top;\n",
       "    }\n",
       "\n",
       "    .dataframe thead th {\n",
       "        text-align: right;\n",
       "    }\n",
       "</style>\n",
       "<table border=\"1\" class=\"dataframe\">\n",
       "  <thead>\n",
       "    <tr style=\"text-align: right;\">\n",
       "      <th></th>\n",
       "      <th>months_on_olist</th>\n",
       "    </tr>\n",
       "  </thead>\n",
       "  <tbody>\n",
       "    <tr>\n",
       "      <th>count</th>\n",
       "      <td>2970.000000</td>\n",
       "    </tr>\n",
       "    <tr>\n",
       "      <th>mean</th>\n",
       "      <td>6.019529</td>\n",
       "    </tr>\n",
       "    <tr>\n",
       "      <th>std</th>\n",
       "      <td>5.994240</td>\n",
       "    </tr>\n",
       "    <tr>\n",
       "      <th>min</th>\n",
       "      <td>0.000000</td>\n",
       "    </tr>\n",
       "    <tr>\n",
       "      <th>25%</th>\n",
       "      <td>1.000000</td>\n",
       "    </tr>\n",
       "    <tr>\n",
       "      <th>50%</th>\n",
       "      <td>4.000000</td>\n",
       "    </tr>\n",
       "    <tr>\n",
       "      <th>75%</th>\n",
       "      <td>10.000000</td>\n",
       "    </tr>\n",
       "    <tr>\n",
       "      <th>max</th>\n",
       "      <td>23.000000</td>\n",
       "    </tr>\n",
       "  </tbody>\n",
       "</table>\n",
       "</div>"
      ],
      "text/plain": [
       "       months_on_olist\n",
       "count      2970.000000\n",
       "mean          6.019529\n",
       "std           5.994240\n",
       "min           0.000000\n",
       "25%           1.000000\n",
       "50%           4.000000\n",
       "75%          10.000000\n",
       "max          23.000000"
      ]
     },
     "execution_count": 12,
     "metadata": {},
     "output_type": "execute_result"
    }
   ],
   "source": [
    "# Summary stats \n",
    "sellers[['months_on_olist']].describe()"
   ]
  },
  {
   "cell_type": "markdown",
   "id": "44ce1651",
   "metadata": {},
   "source": [
    "As Olist is a fairly new platform, we can see that the oldest sellers have only been using it for **23 months**. Additionally, half of all sellers have been using the platform for **4 months or less**. "
   ]
  },
  {
   "cell_type": "markdown",
   "id": "07c2ecb0",
   "metadata": {},
   "source": [
    "### Distribution of `seller_review_score`, `share_of_one_stars`, `share_of_five_stars`"
   ]
  },
  {
   "cell_type": "markdown",
   "id": "7e1850d4",
   "metadata": {},
   "source": [
    "These features indicate how sellers have been performing based on customer feedback.   \n",
    "\n",
    "- `seller_review_score`: the average score of a seller's reviews \n",
    "- `share_of_one_stars`: the proportion of a seller's reviews with only one star \n",
    "- `share_of_five_stars`: the proportion of a seller's reviews with five stars\n"
   ]
  },
  {
   "cell_type": "code",
   "execution_count": 13,
   "id": "84f226c7",
   "metadata": {
    "scrolled": false
   },
   "outputs": [
    {
     "data": {
      "image/png": "[encoded data removed]",
      "text/plain": [
       "<Figure size 1080x576 with 3 Axes>"
      ]
     },
     "metadata": {},
     "output_type": "display_data"
    }
   ],
   "source": [
    "# Distributions of review-related variables\n",
    "fig, (ax1, ax2, ax3) = plt.subplots(1,3)\n",
    "plt.close(1)\n",
    "plt.figure(figsize=(15,8)).suptitle('Distributions of Review-related Variables', fontsize=20)\n",
    "\n",
    "# 'seller_review_score' histogram\n",
    "ax1 = plt.subplot(131)\n",
    "ax1 = sns.histplot(sellers.seller_review_score)\n",
    "ax1.set_ylim(0,1400)\n",
    "\n",
    "# 'share_of_one_stars' histogram\n",
    "ax2 = plt.subplot(132)\n",
    "ax2 = sns.histplot(sellers.share_of_one_stars)\n",
    "ax2.set_ylim(0,1400)\n",
    "\n",
    "# 'share_of_five_stars' histogram\n",
    "ax3 = plt.subplot(133)\n",
    "ax3 = sns.histplot(sellers.share_of_five_stars)\n",
    "ax3.set_ylim(0,1400)\n",
    "\n",
    "plt.tight_layout()\n",
    "plt.show();"
   ]
  },
  {
   "cell_type": "code",
   "execution_count": 14,
   "id": "174ccc1b",
   "metadata": {},
   "outputs": [
    {
     "data": {
      "text/html": [
       "<div>\n",
       "<style scoped>\n",
       "    .dataframe tbody tr th:only-of-type {\n",
       "        vertical-align: middle;\n",
       "    }\n",
       "\n",
       "    .dataframe tbody tr th {\n",
       "        vertical-align: top;\n",
       "    }\n",
       "\n",
       "    .dataframe thead th {\n",
       "        text-align: right;\n",
       "    }\n",
       "</style>\n",
       "<table border=\"1\" class=\"dataframe\">\n",
       "  <thead>\n",
       "    <tr style=\"text-align: right;\">\n",
       "      <th></th>\n",
       "      <th>seller_review_score</th>\n",
       "      <th>share_of_one_stars</th>\n",
       "      <th>share_of_five_stars</th>\n",
       "    </tr>\n",
       "  </thead>\n",
       "  <tbody>\n",
       "    <tr>\n",
       "      <th>count</th>\n",
       "      <td>2970.000000</td>\n",
       "      <td>2970.000000</td>\n",
       "      <td>2970.000000</td>\n",
       "    </tr>\n",
       "    <tr>\n",
       "      <th>mean</th>\n",
       "      <td>4.086880</td>\n",
       "      <td>0.124570</td>\n",
       "      <td>0.592130</td>\n",
       "    </tr>\n",
       "    <tr>\n",
       "      <th>std</th>\n",
       "      <td>0.810166</td>\n",
       "      <td>0.191870</td>\n",
       "      <td>0.279057</td>\n",
       "    </tr>\n",
       "    <tr>\n",
       "      <th>min</th>\n",
       "      <td>1.000000</td>\n",
       "      <td>0.000000</td>\n",
       "      <td>0.000000</td>\n",
       "    </tr>\n",
       "    <tr>\n",
       "      <th>25%</th>\n",
       "      <td>3.818424</td>\n",
       "      <td>0.000000</td>\n",
       "      <td>0.478261</td>\n",
       "    </tr>\n",
       "    <tr>\n",
       "      <th>50%</th>\n",
       "      <td>4.200000</td>\n",
       "      <td>0.063856</td>\n",
       "      <td>0.600000</td>\n",
       "    </tr>\n",
       "    <tr>\n",
       "      <th>75%</th>\n",
       "      <td>4.625000</td>\n",
       "      <td>0.166667</td>\n",
       "      <td>0.750000</td>\n",
       "    </tr>\n",
       "    <tr>\n",
       "      <th>max</th>\n",
       "      <td>5.000000</td>\n",
       "      <td>1.000000</td>\n",
       "      <td>1.000000</td>\n",
       "    </tr>\n",
       "  </tbody>\n",
       "</table>\n",
       "</div>"
      ],
      "text/plain": [
       "       seller_review_score  share_of_one_stars  share_of_five_stars\n",
       "count          2970.000000         2970.000000          2970.000000\n",
       "mean              4.086880            0.124570             0.592130\n",
       "std               0.810166            0.191870             0.279057\n",
       "min               1.000000            0.000000             0.000000\n",
       "25%               3.818424            0.000000             0.478261\n",
       "50%               4.200000            0.063856             0.600000\n",
       "75%               4.625000            0.166667             0.750000\n",
       "max               5.000000            1.000000             1.000000"
      ]
     },
     "execution_count": 14,
     "metadata": {},
     "output_type": "execute_result"
    }
   ],
   "source": [
    "sellers[['seller_review_score', 'share_of_one_stars', 'share_of_five_stars']].describe()"
   ]
  },
  {
   "cell_type": "markdown",
   "id": "f93a098a",
   "metadata": {},
   "source": [
    "From our plots and statistical summary, we can see that the average `seller_review_score` is **close to 4** (mean = 4.087), while those receiving an average score of **3.8 or less** already fall into the **bottom 25%** of seller performance (Q1 = 3.82). This reflects a **J-shaped distribution** which is a common phenomenon found among online reviews and discussed earlier in more detail in our **[Orders Data Analysis.](./Orders%20Analysis.ipynb)**"
   ]
  },
  {
   "cell_type": "code",
   "execution_count": 15,
   "id": "7cf1ce37",
   "metadata": {},
   "outputs": [
    {
     "data": {
      "text/plain": [
       "42.93"
      ]
     },
     "execution_count": 15,
     "metadata": {},
     "output_type": "execute_result"
    }
   ],
   "source": [
    "# Percentage of sellers who have never received a 1-star rating\n",
    "round(sellers[sellers.share_of_one_stars == 0]['share_of_one_stars'].count() / len(sellers) * 100, 2)"
   ]
  },
  {
   "cell_type": "markdown",
   "id": "7f4848ad",
   "metadata": {},
   "source": [
    "Our plot and stat summary of `share_of_one_stars` indicate that for **75% of sellers** on the platform, a 1-star rating comprises only **a sixth or less** of their total reviews (Q3 = 0.167). From further calculations, we also see that **43%** of sellers have **never received** a 1-star rating. "
   ]
  },
  {
   "cell_type": "markdown",
   "id": "7bc86c83",
   "metadata": {},
   "source": [
    "With the feature `share_of_five_stars` we see a **W-shaped distribution** with three peaks. On **the far right**, there is a large number of *'super-performers'* who have only received 5-star reviews. Next, we have two smaller peaks occurring at a) **the center**, where on average only half of their reviews received a 5-star review, and b) **the far left**, where a substantial number have never gotten 5 stars. \n",
    "\n",
    "For a fairer assessment that takes into consideration the total number of reviews each seller has received, we might also explore assigning weights to each 1-star (or 5-star review) that are proportional to the total number of reviews received (i.e., we could control that a seller with a hundred 5-star reviews and a single 1-star review would still rank higher than a seller with only ten reviews but all of which are 5-star).        "
   ]
  },
  {
   "cell_type": "markdown",
   "id": "c1698244",
   "metadata": {},
   "source": [
    "## Correlations"
   ]
  },
  {
   "cell_type": "markdown",
   "id": "6295a196",
   "metadata": {},
   "source": [
    "Let's check out the correlations between different features in the **Sellers** dataset."
   ]
  },
  {
   "cell_type": "code",
   "execution_count": 16,
   "id": "4617a72a",
   "metadata": {},
   "outputs": [
    {
     "data": {
      "image/png": "[encoded data removed]",
      "text/plain": [
       "<Figure size 1080x432 with 2 Axes>"
      ]
     },
     "metadata": {},
     "output_type": "display_data"
    }
   ],
   "source": [
    "# Use heatmap to see correlations between features and target variables\n",
    "plt.figure(figsize=(15,6))\n",
    "sns.heatmap(sellers.corr(), cmap='coolwarm', annot=True );"
   ]
  },
  {
   "cell_type": "code",
   "execution_count": 17,
   "id": "662806fe",
   "metadata": {},
   "outputs": [
    {
     "data": {
      "text/plain": [
       "delay_to_carrier         -0.325642\n",
       "seller_wait_time         -0.419605\n",
       "months_on_olist          -0.018910\n",
       "share_of_one_stars       -0.869186\n",
       "share_of_five_stars       0.818685\n",
       "seller_review_score       1.000000\n",
       "review_cost_per_seller   -0.067521\n",
       "n_orders                 -0.003983\n",
       "quantity                 -0.007311\n",
       "quantity_per_order       -0.064025\n",
       "sales                    -0.008910\n",
       "Name: seller_review_score, dtype: float64"
      ]
     },
     "execution_count": 17,
     "metadata": {},
     "output_type": "execute_result"
    }
   ],
   "source": [
    "# Isolated view of correlation coefficients with target variable `seller_review_score`\n",
    "sellers.corr()['seller_review_score']"
   ]
  },
  {
   "cell_type": "markdown",
   "id": "67a7d84b",
   "metadata": {},
   "source": [
    "Among features that aren't derived from `seller_review_score`, those that capture delivery time such as `delay_to_carrier` (r = -0.33) and `seller_wait_time` (r = -0.42) have the largest correlation with `seller_review_score`."
   ]
  },
  {
   "cell_type": "markdown",
   "id": "c737e011",
   "metadata": {},
   "source": [
    "Not surprisingly, there is high correlation between features that are in similar groupings such as `n_orders` and `quantity` (r = 0.99). Let's check for collinearity by calculating the ***variable inflation factor (VIF)*** for each of our selected features."
   ]
  },
  {
   "cell_type": "markdown",
   "id": "f5fd7f6e",
   "metadata": {},
   "source": [
    "### Check for Multicollinearity with VIF"
   ]
  },
  {
   "cell_type": "markdown",
   "id": "406b5c77",
   "metadata": {},
   "source": [
    "Collinearity occurs when features (independent variables) have a high linear correlation. This creates an issue with  regression models by making their coefficients and p-values less reliable. \n",
    "\n",
    "To detect if there is multicollinearity (collinearity with more than 2 features), we can calculate each feature's **variable inflation factor (VIF)**, which tells us *how much* variance for a regression coefficient is inflated due to collinearity.\n",
    "\n",
    "$ VIF = \\frac {1}{1 - R^2} $\n",
    "\n",
    "An VIF value of **1** indicates *no correlation*, **1 - 5** is *moderate correlated*, and **> 5** is *highly correlated*. However, values **less than 10** are generally considered acceptable levels of correlation within your features.   "
   ]
  },
  {
   "cell_type": "code",
   "execution_count": 18,
   "id": "78c118e3",
   "metadata": {
    "scrolled": true
   },
   "outputs": [
    {
     "data": {
      "text/html": [
       "<div>\n",
       "<style scoped>\n",
       "    .dataframe tbody tr th:only-of-type {\n",
       "        vertical-align: middle;\n",
       "    }\n",
       "\n",
       "    .dataframe tbody tr th {\n",
       "        vertical-align: top;\n",
       "    }\n",
       "\n",
       "    .dataframe thead th {\n",
       "        text-align: right;\n",
       "    }\n",
       "</style>\n",
       "<table border=\"1\" class=\"dataframe\">\n",
       "  <thead>\n",
       "    <tr style=\"text-align: right;\">\n",
       "      <th></th>\n",
       "      <th>VIF</th>\n",
       "      <th>Features</th>\n",
       "    </tr>\n",
       "  </thead>\n",
       "  <tbody>\n",
       "    <tr>\n",
       "      <th>0</th>\n",
       "      <td>1.298334</td>\n",
       "      <td>delay_to_carrier</td>\n",
       "    </tr>\n",
       "    <tr>\n",
       "      <th>1</th>\n",
       "      <td>3.841865</td>\n",
       "      <td>seller_wait_time</td>\n",
       "    </tr>\n",
       "    <tr>\n",
       "      <th>2</th>\n",
       "      <td>2.358235</td>\n",
       "      <td>months_on_olist</td>\n",
       "    </tr>\n",
       "    <tr>\n",
       "      <th>3</th>\n",
       "      <td>85.648334</td>\n",
       "      <td>n_orders</td>\n",
       "    </tr>\n",
       "    <tr>\n",
       "      <th>4</th>\n",
       "      <td>83.633394</td>\n",
       "      <td>quantity</td>\n",
       "    </tr>\n",
       "    <tr>\n",
       "      <th>5</th>\n",
       "      <td>3.384106</td>\n",
       "      <td>quantity_per_order</td>\n",
       "    </tr>\n",
       "    <tr>\n",
       "      <th>6</th>\n",
       "      <td>3.089553</td>\n",
       "      <td>sales</td>\n",
       "    </tr>\n",
       "  </tbody>\n",
       "</table>\n",
       "</div>"
      ],
      "text/plain": [
       "         VIF            Features\n",
       "0   1.298334    delay_to_carrier\n",
       "1   3.841865    seller_wait_time\n",
       "2   2.358235     months_on_olist\n",
       "3  85.648334            n_orders\n",
       "4  83.633394            quantity\n",
       "5   3.384106  quantity_per_order\n",
       "6   3.089553               sales"
      ]
     },
     "execution_count": 18,
     "metadata": {},
     "output_type": "execute_result"
    }
   ],
   "source": [
    "# Calculate Variable Inflation Factor (VIF)\n",
    "features = ['delay_to_carrier', 'seller_wait_time', 'months_on_olist', 'n_orders', 'quantity',  'quantity_per_order', 'sales']\n",
    "\n",
    "X = sellers[features]\n",
    "df = pd.DataFrame()\n",
    "df['VIF'] = [vif(X.values, i) for i in range(X.shape[1])]\n",
    "df['Features'] = X.columns\n",
    "df"
   ]
  },
  {
   "cell_type": "markdown",
   "id": "58e94de2",
   "metadata": {},
   "source": [
    "We see here that the features `n_orders` and `quantity` have high VIF values. We'll remove `quantity` from our list because it has slightly higher correlations with other features when compared to `n_orders`. \n",
    "\n",
    "Let's now recalculate our VIF values."
   ]
  },
  {
   "cell_type": "code",
   "execution_count": 19,
   "id": "f69eb8c0",
   "metadata": {},
   "outputs": [
    {
     "data": {
      "text/html": [
       "<div>\n",
       "<style scoped>\n",
       "    .dataframe tbody tr th:only-of-type {\n",
       "        vertical-align: middle;\n",
       "    }\n",
       "\n",
       "    .dataframe tbody tr th {\n",
       "        vertical-align: top;\n",
       "    }\n",
       "\n",
       "    .dataframe thead th {\n",
       "        text-align: right;\n",
       "    }\n",
       "</style>\n",
       "<table border=\"1\" class=\"dataframe\">\n",
       "  <thead>\n",
       "    <tr style=\"text-align: right;\">\n",
       "      <th></th>\n",
       "      <th>VIF</th>\n",
       "      <th>Features</th>\n",
       "    </tr>\n",
       "  </thead>\n",
       "  <tbody>\n",
       "    <tr>\n",
       "      <th>0</th>\n",
       "      <td>1.297873</td>\n",
       "      <td>delay_to_carrier</td>\n",
       "    </tr>\n",
       "    <tr>\n",
       "      <th>1</th>\n",
       "      <td>3.826915</td>\n",
       "      <td>seller_wait_time</td>\n",
       "    </tr>\n",
       "    <tr>\n",
       "      <th>2</th>\n",
       "      <td>2.352849</td>\n",
       "      <td>months_on_olist</td>\n",
       "    </tr>\n",
       "    <tr>\n",
       "      <th>3</th>\n",
       "      <td>3.147314</td>\n",
       "      <td>n_orders</td>\n",
       "    </tr>\n",
       "    <tr>\n",
       "      <th>4</th>\n",
       "      <td>3.347037</td>\n",
       "      <td>quantity_per_order</td>\n",
       "    </tr>\n",
       "    <tr>\n",
       "      <th>5</th>\n",
       "      <td>3.088835</td>\n",
       "      <td>sales</td>\n",
       "    </tr>\n",
       "  </tbody>\n",
       "</table>\n",
       "</div>"
      ],
      "text/plain": [
       "        VIF            Features\n",
       "0  1.297873    delay_to_carrier\n",
       "1  3.826915    seller_wait_time\n",
       "2  2.352849     months_on_olist\n",
       "3  3.147314            n_orders\n",
       "4  3.347037  quantity_per_order\n",
       "5  3.088835               sales"
      ]
     },
     "execution_count": 19,
     "metadata": {},
     "output_type": "execute_result"
    }
   ],
   "source": [
    "# Remove `quantity` from features list\n",
    "features = ['delay_to_carrier', 'seller_wait_time', 'months_on_olist', 'n_orders',  'quantity_per_order', 'sales']\n",
    "\n",
    "X = sellers[features]\n",
    "df = pd.DataFrame()\n",
    "df['VIF'] = [vif(X.values, i) for i in range(X.shape[1])]\n",
    "df['Features'] = X.columns\n",
    "df"
   ]
  },
  {
   "cell_type": "markdown",
   "id": "d656b1fe",
   "metadata": {},
   "source": [
    "We now have more acceptable VIF values for our features."
   ]
  },
  {
   "cell_type": "markdown",
   "id": "56db58f1",
   "metadata": {},
   "source": [
    "## Multivariate Regression  "
   ]
  },
  {
   "cell_type": "markdown",
   "id": "e6beaac5",
   "metadata": {},
   "source": [
    "In this section, we'll build multivariate regression models to better understand what features from our **Sellers** dataset influence `seller_review_score`. "
   ]
  },
  {
   "cell_type": "markdown",
   "id": "87640721",
   "metadata": {},
   "source": [
    "### Feature Scaling"
   ]
  },
  {
   "cell_type": "markdown",
   "id": "29a20293",
   "metadata": {},
   "source": [
    "To make sure we'll be able to compare the coefficients for features that have different units, we'll first do some feature scaling. Since many of our features have outliers, we'll choose **standardization** over normalization\n",
    "since *standardization* is more robust against outliers. "
   ]
  },
  {
   "cell_type": "code",
   "execution_count": 20,
   "id": "44a54dcc",
   "metadata": {},
   "outputs": [],
   "source": [
    "# Define standardization function\n",
    "def standardize(df, features): \n",
    "    df_standardized = df.copy()\n",
    "    for f in features:\n",
    "        mu = df[f].mean()\n",
    "        sigma = df[f].std()\n",
    "        df_standardized[f] = df[f].map(lambda x: (x - mu) / sigma)\n",
    "    return df_standardized"
   ]
  },
  {
   "cell_type": "markdown",
   "id": "0df53db6",
   "metadata": {},
   "source": [
    "### Linear Regression | Base Model"
   ]
  },
  {
   "cell_type": "markdown",
   "id": "14c7b270",
   "metadata": {},
   "source": [
    "Using our current features list, let's standardize and then run a linear regression model to determine how much each feature impacts `seller_review_score`."
   ]
  },
  {
   "cell_type": "code",
   "execution_count": 21,
   "id": "db7a781c",
   "metadata": {},
   "outputs": [
    {
     "data": {
      "text/html": [
       "<table class=\"simpletable\">\n",
       "<caption>OLS Regression Results</caption>\n",
       "<tr>\n",
       "  <th>Dep. Variable:</th>    <td>seller_review_score</td> <th>  R-squared:         </th> <td>   0.200</td> \n",
       "</tr>\n",
       "<tr>\n",
       "  <th>Model:</th>                    <td>OLS</td>         <th>  Adj. R-squared:    </th> <td>   0.199</td> \n",
       "</tr>\n",
       "<tr>\n",
       "  <th>Method:</th>              <td>Least Squares</td>    <th>  F-statistic:       </th> <td>   123.8</td> \n",
       "</tr>\n",
       "<tr>\n",
       "  <th>Date:</th>              <td>Sat, 25 Sep 2021</td>   <th>  Prob (F-statistic):</th> <td>4.78e-140</td>\n",
       "</tr>\n",
       "<tr>\n",
       "  <th>Time:</th>                  <td>22:14:39</td>       <th>  Log-Likelihood:    </th> <td> -3256.2</td> \n",
       "</tr>\n",
       "<tr>\n",
       "  <th>No. Observations:</th>       <td>  2970</td>        <th>  AIC:               </th> <td>   6526.</td> \n",
       "</tr>\n",
       "<tr>\n",
       "  <th>Df Residuals:</th>           <td>  2963</td>        <th>  BIC:               </th> <td>   6568.</td> \n",
       "</tr>\n",
       "<tr>\n",
       "  <th>Df Model:</th>               <td>     6</td>        <th>                     </th>     <td> </td>    \n",
       "</tr>\n",
       "<tr>\n",
       "  <th>Covariance Type:</th>       <td>nonrobust</td>      <th>                     </th>     <td> </td>    \n",
       "</tr>\n",
       "</table>\n",
       "<table class=\"simpletable\">\n",
       "<tr>\n",
       "           <td></td>             <th>coef</th>     <th>std err</th>      <th>t</th>      <th>P>|t|</th>  <th>[0.025</th>    <th>0.975]</th>  \n",
       "</tr>\n",
       "<tr>\n",
       "  <th>Intercept</th>          <td>    4.0869</td> <td>    0.013</td> <td>  307.146</td> <td> 0.000</td> <td>    4.061</td> <td>    4.113</td>\n",
       "</tr>\n",
       "<tr>\n",
       "  <th>delay_to_carrier</th>   <td>   -0.1328</td> <td>    0.015</td> <td>   -8.712</td> <td> 0.000</td> <td>   -0.163</td> <td>   -0.103</td>\n",
       "</tr>\n",
       "<tr>\n",
       "  <th>seller_wait_time</th>   <td>   -0.2766</td> <td>    0.015</td> <td>  -18.164</td> <td> 0.000</td> <td>   -0.306</td> <td>   -0.247</td>\n",
       "</tr>\n",
       "<tr>\n",
       "  <th>months_on_olist</th>    <td>   -0.0083</td> <td>    0.015</td> <td>   -0.563</td> <td> 0.574</td> <td>   -0.037</td> <td>    0.021</td>\n",
       "</tr>\n",
       "<tr>\n",
       "  <th>n_orders</th>           <td>   -0.0099</td> <td>    0.023</td> <td>   -0.441</td> <td> 0.659</td> <td>   -0.054</td> <td>    0.034</td>\n",
       "</tr>\n",
       "<tr>\n",
       "  <th>quantity_per_order</th> <td>   -0.0469</td> <td>    0.013</td> <td>   -3.518</td> <td> 0.000</td> <td>   -0.073</td> <td>   -0.021</td>\n",
       "</tr>\n",
       "<tr>\n",
       "  <th>sales</th>              <td>    0.0086</td> <td>    0.022</td> <td>    0.386</td> <td> 0.700</td> <td>   -0.035</td> <td>    0.052</td>\n",
       "</tr>\n",
       "</table>\n",
       "<table class=\"simpletable\">\n",
       "<tr>\n",
       "  <th>Omnibus:</th>       <td>813.497</td> <th>  Durbin-Watson:     </th> <td>   2.048</td>\n",
       "</tr>\n",
       "<tr>\n",
       "  <th>Prob(Omnibus):</th> <td> 0.000</td>  <th>  Jarque-Bera (JB):  </th> <td>2772.679</td>\n",
       "</tr>\n",
       "<tr>\n",
       "  <th>Skew:</th>          <td>-1.350</td>  <th>  Prob(JB):          </th> <td>    0.00</td>\n",
       "</tr>\n",
       "<tr>\n",
       "  <th>Kurtosis:</th>      <td> 6.887</td>  <th>  Cond. No.          </th> <td>    3.23</td>\n",
       "</tr>\n",
       "</table><br/><br/>Warnings:<br/>[1] Standard Errors assume that the covariance matrix of the errors is correctly specified."
      ],
      "text/plain": [
       "<class 'statsmodels.iolib.summary.Summary'>\n",
       "\"\"\"\n",
       "                             OLS Regression Results                            \n",
       "===============================================================================\n",
       "Dep. Variable:     seller_review_score   R-squared:                       0.200\n",
       "Model:                             OLS   Adj. R-squared:                  0.199\n",
       "Method:                  Least Squares   F-statistic:                     123.8\n",
       "Date:                 Sat, 25 Sep 2021   Prob (F-statistic):          4.78e-140\n",
       "Time:                         22:14:39   Log-Likelihood:                -3256.2\n",
       "No. Observations:                 2970   AIC:                             6526.\n",
       "Df Residuals:                     2963   BIC:                             6568.\n",
       "Df Model:                            6                                         \n",
       "Covariance Type:             nonrobust                                         \n",
       "======================================================================================\n",
       "                         coef    std err          t      P>|t|      [0.025      0.975]\n",
       "--------------------------------------------------------------------------------------\n",
       "Intercept              4.0869      0.013    307.146      0.000       4.061       4.113\n",
       "delay_to_carrier      -0.1328      0.015     -8.712      0.000      -0.163      -0.103\n",
       "seller_wait_time      -0.2766      0.015    -18.164      0.000      -0.306      -0.247\n",
       "months_on_olist       -0.0083      0.015     -0.563      0.574      -0.037       0.021\n",
       "n_orders              -0.0099      0.023     -0.441      0.659      -0.054       0.034\n",
       "quantity_per_order    -0.0469      0.013     -3.518      0.000      -0.073      -0.021\n",
       "sales                  0.0086      0.022      0.386      0.700      -0.035       0.052\n",
       "==============================================================================\n",
       "Omnibus:                      813.497   Durbin-Watson:                   2.048\n",
       "Prob(Omnibus):                  0.000   Jarque-Bera (JB):             2772.679\n",
       "Skew:                          -1.350   Prob(JB):                         0.00\n",
       "Kurtosis:                       6.887   Cond. No.                         3.23\n",
       "==============================================================================\n",
       "\n",
       "Warnings:\n",
       "[1] Standard Errors assume that the covariance matrix of the errors is correctly specified.\n",
       "\"\"\""
      ]
     },
     "execution_count": 21,
     "metadata": {},
     "output_type": "execute_result"
    }
   ],
   "source": [
    "# Standardize features and run linear regression model\n",
    "sellers_standardized = standardize(sellers, features)\n",
    "model = smf.ols(formula=f\"seller_review_score ~ {'+ '.join(features)}\", data=sellers_standardized).fit()\n",
    "model.summary()"
   ]
  },
  {
   "cell_type": "markdown",
   "id": "709a1488",
   "metadata": {},
   "source": [
    "**Interpretation of Results**\n",
    "\n",
    "- This model has a **low R-squared** (R2 = 0.20) suggesting that the currently selected features only explain **20% of the variance** found in the `seller_review_score`. Also, the lower value for **Adj. R-squared** (Adj. R2 = 0.199) suggests that we may have extra features in our model that are contributing more to noise than to understanding the key factors influencing our target variable. \n",
    "- The coefficients for the features `months_on_olist`, `n_orders`, and `sales` are **not statistically significant** as their **p-values** do **not fall below our chosen alpha of 0.05**. \n",
    "- Additionally, we see that a value of 0 falls within the **95% confidence interval** for these features. Since a zero coefficient would mean that the feature has no influence on the target variable (i.e., our null hypothesis), this would mean we can't reject the null hypothesis and that that the given **coefficients** for these features are **not reliable**. "
   ]
  },
  {
   "cell_type": "markdown",
   "id": "0b124f1a",
   "metadata": {},
   "source": [
    "Since the p-values for features `months_on_olist`, `n_orders`, and `sales` are not **statistically significant**, we'll remove them from our features list, and run another regression."
   ]
  },
  {
   "cell_type": "markdown",
   "id": "37f171f9",
   "metadata": {},
   "source": [
    "### Linear Regression | Revised Model"
   ]
  },
  {
   "cell_type": "code",
   "execution_count": 22,
   "id": "30e22642",
   "metadata": {},
   "outputs": [],
   "source": [
    "# Revised feature selection\n",
    "revised_features = ['delay_to_carrier', 'seller_wait_time', 'quantity_per_order']\n",
    "sellers_standardized = standardize(sellers, revised_features)\n",
    "revised_model = smf.ols(formula=f\"seller_review_score ~ {'+ '.join(revised_features)}\", data=sellers_standardized).fit()"
   ]
  },
  {
   "cell_type": "code",
   "execution_count": 23,
   "id": "0aa8aacc",
   "metadata": {
    "scrolled": true
   },
   "outputs": [
    {
     "data": {
      "text/html": [
       "<table class=\"simpletable\">\n",
       "<caption>OLS Regression Results</caption>\n",
       "<tr>\n",
       "  <th>Dep. Variable:</th>    <td>seller_review_score</td> <th>  R-squared:         </th> <td>   0.200</td> \n",
       "</tr>\n",
       "<tr>\n",
       "  <th>Model:</th>                    <td>OLS</td>         <th>  Adj. R-squared:    </th> <td>   0.200</td> \n",
       "</tr>\n",
       "<tr>\n",
       "  <th>Method:</th>              <td>Least Squares</td>    <th>  F-statistic:       </th> <td>   247.7</td> \n",
       "</tr>\n",
       "<tr>\n",
       "  <th>Date:</th>              <td>Sat, 25 Sep 2021</td>   <th>  Prob (F-statistic):</th> <td>2.08e-143</td>\n",
       "</tr>\n",
       "<tr>\n",
       "  <th>Time:</th>                  <td>22:14:39</td>       <th>  Log-Likelihood:    </th> <td> -3256.6</td> \n",
       "</tr>\n",
       "<tr>\n",
       "  <th>No. Observations:</th>       <td>  2970</td>        <th>  AIC:               </th> <td>   6521.</td> \n",
       "</tr>\n",
       "<tr>\n",
       "  <th>Df Residuals:</th>           <td>  2966</td>        <th>  BIC:               </th> <td>   6545.</td> \n",
       "</tr>\n",
       "<tr>\n",
       "  <th>Df Model:</th>               <td>     3</td>        <th>                     </th>     <td> </td>    \n",
       "</tr>\n",
       "<tr>\n",
       "  <th>Covariance Type:</th>       <td>nonrobust</td>      <th>                     </th>     <td> </td>    \n",
       "</tr>\n",
       "</table>\n",
       "<table class=\"simpletable\">\n",
       "<tr>\n",
       "           <td></td>             <th>coef</th>     <th>std err</th>      <th>t</th>      <th>P>|t|</th>  <th>[0.025</th>    <th>0.975]</th>  \n",
       "</tr>\n",
       "<tr>\n",
       "  <th>Intercept</th>          <td>    4.0869</td> <td>    0.013</td> <td>  307.268</td> <td> 0.000</td> <td>    4.061</td> <td>    4.113</td>\n",
       "</tr>\n",
       "<tr>\n",
       "  <th>delay_to_carrier</th>   <td>   -0.1315</td> <td>    0.015</td> <td>   -8.710</td> <td> 0.000</td> <td>   -0.161</td> <td>   -0.102</td>\n",
       "</tr>\n",
       "<tr>\n",
       "  <th>seller_wait_time</th>   <td>   -0.2776</td> <td>    0.015</td> <td>  -18.391</td> <td> 0.000</td> <td>   -0.307</td> <td>   -0.248</td>\n",
       "</tr>\n",
       "<tr>\n",
       "  <th>quantity_per_order</th> <td>   -0.0468</td> <td>    0.013</td> <td>   -3.519</td> <td> 0.000</td> <td>   -0.073</td> <td>   -0.021</td>\n",
       "</tr>\n",
       "</table>\n",
       "<table class=\"simpletable\">\n",
       "<tr>\n",
       "  <th>Omnibus:</th>       <td>797.448</td> <th>  Durbin-Watson:     </th> <td>   2.048</td>\n",
       "</tr>\n",
       "<tr>\n",
       "  <th>Prob(Omnibus):</th> <td> 0.000</td>  <th>  Jarque-Bera (JB):  </th> <td>2693.675</td>\n",
       "</tr>\n",
       "<tr>\n",
       "  <th>Skew:</th>          <td>-1.326</td>  <th>  Prob(JB):          </th> <td>    0.00</td>\n",
       "</tr>\n",
       "<tr>\n",
       "  <th>Kurtosis:</th>      <td> 6.838</td>  <th>  Cond. No.          </th> <td>    1.67</td>\n",
       "</tr>\n",
       "</table><br/><br/>Warnings:<br/>[1] Standard Errors assume that the covariance matrix of the errors is correctly specified."
      ],
      "text/plain": [
       "<class 'statsmodels.iolib.summary.Summary'>\n",
       "\"\"\"\n",
       "                             OLS Regression Results                            \n",
       "===============================================================================\n",
       "Dep. Variable:     seller_review_score   R-squared:                       0.200\n",
       "Model:                             OLS   Adj. R-squared:                  0.200\n",
       "Method:                  Least Squares   F-statistic:                     247.7\n",
       "Date:                 Sat, 25 Sep 2021   Prob (F-statistic):          2.08e-143\n",
       "Time:                         22:14:39   Log-Likelihood:                -3256.6\n",
       "No. Observations:                 2970   AIC:                             6521.\n",
       "Df Residuals:                     2966   BIC:                             6545.\n",
       "Df Model:                            3                                         \n",
       "Covariance Type:             nonrobust                                         \n",
       "======================================================================================\n",
       "                         coef    std err          t      P>|t|      [0.025      0.975]\n",
       "--------------------------------------------------------------------------------------\n",
       "Intercept              4.0869      0.013    307.268      0.000       4.061       4.113\n",
       "delay_to_carrier      -0.1315      0.015     -8.710      0.000      -0.161      -0.102\n",
       "seller_wait_time      -0.2776      0.015    -18.391      0.000      -0.307      -0.248\n",
       "quantity_per_order    -0.0468      0.013     -3.519      0.000      -0.073      -0.021\n",
       "==============================================================================\n",
       "Omnibus:                      797.448   Durbin-Watson:                   2.048\n",
       "Prob(Omnibus):                  0.000   Jarque-Bera (JB):             2693.675\n",
       "Skew:                          -1.326   Prob(JB):                         0.00\n",
       "Kurtosis:                       6.838   Cond. No.                         1.67\n",
       "==============================================================================\n",
       "\n",
       "Warnings:\n",
       "[1] Standard Errors assume that the covariance matrix of the errors is correctly specified.\n",
       "\"\"\""
      ]
     },
     "execution_count": 23,
     "metadata": {},
     "output_type": "execute_result"
    }
   ],
   "source": [
    "revised_model.summary()"
   ]
  },
  {
   "cell_type": "markdown",
   "id": "20779ecc",
   "metadata": {},
   "source": [
    "**Interpretation of Results**\n",
    "\n",
    "- With this reduced set of features, our model is still only able to explain about **20% of the variance** in the seller review scores (R2 = 0.20). \n",
    "- Among our **Sellers** data, a seller's average wait time appears to have the most influence on his or her average review score. *Holding all other variables constant, for every added day in `seller_wait_time`, the `seller_review_score` on average **decreases by 28%** (slope = -0.02776).* \n",
    "- While we already saw that only about 6% of sellers contributed to a delayed order, our regression model indicates that for those that have, they *on average experience a **13% decrease** in `seller_review_score` for each additional day of delay, holding all other variables constant (slope = -0.1315).*  \n",
    "- Similarly, we saw that most sellers do not sell more than 1 item per order. However, our regression shows that *if the average item per order increases by a whole item, on average we see a **decrease** in `seller_review_score` by **5%**, holding all other variables constant (slope = -0.0468).*     "
   ]
  },
  {
   "cell_type": "markdown",
   "id": "fe28e81d",
   "metadata": {},
   "source": [
    "Let's plot the coefficients to more easily compare them to each other. "
   ]
  },
  {
   "cell_type": "code",
   "execution_count": 24,
   "id": "bbb342ae",
   "metadata": {},
   "outputs": [
    {
     "data": {
      "text/plain": [
       "Intercept             4.086880\n",
       "delay_to_carrier     -0.131504\n",
       "seller_wait_time     -0.277566\n",
       "quantity_per_order   -0.046824\n",
       "dtype: float64"
      ]
     },
     "execution_count": 24,
     "metadata": {},
     "output_type": "execute_result"
    }
   ],
   "source": [
    "revised_model.params"
   ]
  },
  {
   "cell_type": "code",
   "execution_count": 25,
   "id": "a30f2f01",
   "metadata": {},
   "outputs": [
    {
     "data": {
      "image/png": "[encoded data removed]",
      "text/plain": [
       "<Figure size 432x288 with 1 Axes>"
      ]
     },
     "metadata": {},
     "output_type": "display_data"
    }
   ],
   "source": [
    "revised_model.params[1:].sort_values().plot(kind='barh');"
   ]
  },
  {
   "cell_type": "markdown",
   "id": "997685bd",
   "metadata": {},
   "source": [
    "### Residuals and RMSE"
   ]
  },
  {
   "cell_type": "markdown",
   "id": "7216d007",
   "metadata": {},
   "source": [
    "Now let's look at the **residuals** (predicted values - real values) and calculate the **Root Mean Square Error (RMSE)** as a check to see how well our multivariate regression model is performing. "
   ]
  },
  {
   "cell_type": "code",
   "execution_count": 26,
   "id": "b9b09d13",
   "metadata": {
    "scrolled": true
   },
   "outputs": [
    {
     "data": {
      "text/plain": [
       "0    1.092618\n",
       "1   -0.305559\n",
       "2   -0.556623\n",
       "3   -0.620117\n",
       "4    2.036966\n",
       "dtype: float64"
      ]
     },
     "execution_count": 26,
     "metadata": {},
     "output_type": "execute_result"
    }
   ],
   "source": [
    "# Calculate residuals (predicted values - real values)\n",
    "predicted_review_score = revised_model.predict(sellers_standardized[features])\n",
    "residuals = predicted_review_score - sellers_standardized.seller_review_score\n",
    "residuals.head()"
   ]
  },
  {
   "cell_type": "code",
   "execution_count": 27,
   "id": "2455d0fa",
   "metadata": {},
   "outputs": [
    {
     "data": {
      "text/plain": [
       "0.7243697584549219"
      ]
     },
     "execution_count": 27,
     "metadata": {},
     "output_type": "execute_result"
    }
   ],
   "source": [
    "# Calculate the RMSE\n",
    "RMSE = (residuals.map(lambda x: x**2).sum() / len(residuals))**0.5\n",
    "RMSE"
   ]
  },
  {
   "cell_type": "markdown",
   "id": "5dc256fb",
   "metadata": {},
   "source": [
    "The **RMSE** tells us that on average our predicted scores are **0.7** stars off of the real scores. On a 5-star rating system, that's not too bad. "
   ]
  },
  {
   "cell_type": "code",
   "execution_count": 28,
   "id": "1c484976",
   "metadata": {},
   "outputs": [
    {
     "data": {
      "image/png": "[encoded data removed]",
      "text/plain": [
       "<Figure size 432x288 with 1 Axes>"
      ]
     },
     "metadata": {},
     "output_type": "display_data"
    }
   ],
   "source": [
    "# Residual density plot\n",
    "sns.histplot(model.resid, kde=True, stat='density', discrete=True);"
   ]
  },
  {
   "cell_type": "markdown",
   "id": "fa2c2437",
   "metadata": {},
   "source": [
    " ## Logistic Regression"
   ]
  },
  {
   "cell_type": "markdown",
   "id": "f04d6704",
   "metadata": {},
   "source": [
    "Since the `seller_review_score` is calculated as an average for each seller, we can get a continuous target variable ranging from 0-5 stars. This differs from the **Orders** dataset feature of `review_score` which could be understood as a ordinal categorical variable. This perhaps explains why we have a slightly better **R-squared of = 0.20** for our **Sellers Linear Regression** compared to the one from our **Orders Linear Regression (R2 = 0.14)**.\n",
    "\n",
    "Like we did for the **Orders** dataset, let's try running logistic regression models for both **1-star** (`share_of_one_stars`) and **5-star** (`share_of_five_stars`) **reviews**, but now for our **Sellers** dataset."
   ]
  },
  {
   "cell_type": "markdown",
   "id": "8c272c12",
   "metadata": {},
   "source": [
    "### Logistic Regression | 1-Star Review Model"
   ]
  },
  {
   "cell_type": "markdown",
   "id": "c28c6dbc",
   "metadata": {},
   "source": [
    "Let's run our logistic regression model for 1-star reviews  "
   ]
  },
  {
   "cell_type": "code",
   "execution_count": 29,
   "id": "37efbbfd",
   "metadata": {
    "scrolled": true
   },
   "outputs": [
    {
     "name": "stdout",
     "output_type": "stream",
     "text": [
      "Optimization terminated successfully.\n",
      "         Current function value: 0.232556\n",
      "         Iterations 6\n"
     ]
    },
    {
     "data": {
      "text/html": [
       "<table class=\"simpletable\">\n",
       "<caption>Logit Regression Results</caption>\n",
       "<tr>\n",
       "  <th>Dep. Variable:</th>   <td>share_of_one_stars</td> <th>  No. Observations:  </th>  <td>  2970</td> \n",
       "</tr>\n",
       "<tr>\n",
       "  <th>Model:</th>                  <td>Logit</td>       <th>  Df Residuals:      </th>  <td>  2966</td> \n",
       "</tr>\n",
       "<tr>\n",
       "  <th>Method:</th>                  <td>MLE</td>        <th>  Df Model:          </th>  <td>     3</td> \n",
       "</tr>\n",
       "<tr>\n",
       "  <th>Date:</th>             <td>Sat, 25 Sep 2021</td>  <th>  Pseudo R-squ.:     </th>  <td>-0.2908</td>\n",
       "</tr>\n",
       "<tr>\n",
       "  <th>Time:</th>                 <td>22:14:41</td>      <th>  Log-Likelihood:    </th> <td> -690.69</td>\n",
       "</tr>\n",
       "<tr>\n",
       "  <th>converged:</th>              <td>True</td>        <th>  LL-Null:           </th> <td> -535.09</td>\n",
       "</tr>\n",
       "<tr>\n",
       "  <th>Covariance Type:</th>      <td>nonrobust</td>     <th>  LLR p-value:       </th>  <td> 1.000</td> \n",
       "</tr>\n",
       "</table>\n",
       "<table class=\"simpletable\">\n",
       "<tr>\n",
       "           <td></td>             <th>coef</th>     <th>std err</th>      <th>z</th>      <th>P>|z|</th>  <th>[0.025</th>    <th>0.975]</th>  \n",
       "</tr>\n",
       "<tr>\n",
       "  <th>Intercept</th>          <td>   -2.0497</td> <td>    0.060</td> <td>  -34.373</td> <td> 0.000</td> <td>   -2.167</td> <td>   -1.933</td>\n",
       "</tr>\n",
       "<tr>\n",
       "  <th>delay_to_carrier</th>   <td>    0.1927</td> <td>    0.063</td> <td>    3.071</td> <td> 0.002</td> <td>    0.070</td> <td>    0.316</td>\n",
       "</tr>\n",
       "<tr>\n",
       "  <th>seller_wait_time</th>   <td>    0.5206</td> <td>    0.066</td> <td>    7.943</td> <td> 0.000</td> <td>    0.392</td> <td>    0.649</td>\n",
       "</tr>\n",
       "<tr>\n",
       "  <th>quantity_per_order</th> <td>    0.0971</td> <td>    0.048</td> <td>    2.036</td> <td> 0.042</td> <td>    0.004</td> <td>    0.191</td>\n",
       "</tr>\n",
       "</table>"
      ],
      "text/plain": [
       "<class 'statsmodels.iolib.summary.Summary'>\n",
       "\"\"\"\n",
       "                           Logit Regression Results                           \n",
       "==============================================================================\n",
       "Dep. Variable:     share_of_one_stars   No. Observations:                 2970\n",
       "Model:                          Logit   Df Residuals:                     2966\n",
       "Method:                           MLE   Df Model:                            3\n",
       "Date:                Sat, 25 Sep 2021   Pseudo R-squ.:                 -0.2908\n",
       "Time:                        22:14:41   Log-Likelihood:                -690.69\n",
       "converged:                       True   LL-Null:                       -535.09\n",
       "Covariance Type:            nonrobust   LLR p-value:                     1.000\n",
       "======================================================================================\n",
       "                         coef    std err          z      P>|z|      [0.025      0.975]\n",
       "--------------------------------------------------------------------------------------\n",
       "Intercept             -2.0497      0.060    -34.373      0.000      -2.167      -1.933\n",
       "delay_to_carrier       0.1927      0.063      3.071      0.002       0.070       0.316\n",
       "seller_wait_time       0.5206      0.066      7.943      0.000       0.392       0.649\n",
       "quantity_per_order     0.0971      0.048      2.036      0.042       0.004       0.191\n",
       "======================================================================================\n",
       "\"\"\""
      ]
     },
     "execution_count": 29,
     "metadata": {},
     "output_type": "execute_result"
    }
   ],
   "source": [
    "#Fit logit model for 1-star reviews\n",
    "sellers_standardized = standardize(sellers, revised_features)\n",
    "logit_one = smf.logit(formula=f\"share_of_one_stars ~ {'+ '.join(revised_features)}\", data=sellers_standardized).fit()\n",
    "logit_one.summary()"
   ]
  },
  {
   "cell_type": "markdown",
   "id": "349b69b5",
   "metadata": {},
   "source": [
    "To better interpret the coefficients from our logistic regression model, we'll convert units from log-odds (logits) to odds. "
   ]
  },
  {
   "cell_type": "code",
   "execution_count": 30,
   "id": "8a453f77",
   "metadata": {
    "scrolled": true
   },
   "outputs": [
    {
     "data": {
      "text/html": [
       "<div>\n",
       "<style scoped>\n",
       "    .dataframe tbody tr th:only-of-type {\n",
       "        vertical-align: middle;\n",
       "    }\n",
       "\n",
       "    .dataframe tbody tr th {\n",
       "        vertical-align: top;\n",
       "    }\n",
       "\n",
       "    .dataframe thead th {\n",
       "        text-align: right;\n",
       "    }\n",
       "</style>\n",
       "<table border=\"1\" class=\"dataframe\">\n",
       "  <thead>\n",
       "    <tr style=\"text-align: right;\">\n",
       "      <th></th>\n",
       "      <th>log-odds</th>\n",
       "      <th>odds</th>\n",
       "    </tr>\n",
       "  </thead>\n",
       "  <tbody>\n",
       "    <tr>\n",
       "      <th>Intercept</th>\n",
       "      <td>-2.049681</td>\n",
       "      <td>0.128776</td>\n",
       "    </tr>\n",
       "    <tr>\n",
       "      <th>delay_to_carrier</th>\n",
       "      <td>0.192672</td>\n",
       "      <td>1.212484</td>\n",
       "    </tr>\n",
       "    <tr>\n",
       "      <th>seller_wait_time</th>\n",
       "      <td>0.520643</td>\n",
       "      <td>1.683109</td>\n",
       "    </tr>\n",
       "    <tr>\n",
       "      <th>quantity_per_order</th>\n",
       "      <td>0.097100</td>\n",
       "      <td>1.101970</td>\n",
       "    </tr>\n",
       "  </tbody>\n",
       "</table>\n",
       "</div>"
      ],
      "text/plain": [
       "                    log-odds      odds\n",
       "Intercept          -2.049681  0.128776\n",
       "delay_to_carrier    0.192672  1.212484\n",
       "seller_wait_time    0.520643  1.683109\n",
       "quantity_per_order  0.097100  1.101970"
      ]
     },
     "execution_count": 30,
     "metadata": {},
     "output_type": "execute_result"
    }
   ],
   "source": [
    "# Log-odds to odds conversion by exponentiating\n",
    "logit_one_results = pd.DataFrame(logit_one.params, columns=['log-odds'])\n",
    "logit_one_results['odds'] = logit_one_results['log-odds'].apply(lambda x: math.exp(x))\n",
    "logit_one_results"
   ]
  },
  {
   "cell_type": "markdown",
   "id": "988692ea",
   "metadata": {},
   "source": [
    "**Interpretation of Results**\n",
    "\n",
    "- All of our coefficients are **statistically significant** given our **p-values** are below our alpha of 0.05. However, we note that the feature `quantity_per_order` is quite close to the threshold (p-value = 0.042) \n",
    "\n",
    "- With our model, we see that `seller_wait_time` has the most influence on receiving a 1-star review. *Holding all other variables constant, for each additional day in `seller_wait_time`, on average there is a **68% increase in odds** of getting a 1-star review*."
   ]
  },
  {
   "cell_type": "markdown",
   "id": "a8723af6",
   "metadata": {},
   "source": [
    "### Logistic Regression | 5-Star Review Model"
   ]
  },
  {
   "cell_type": "markdown",
   "id": "0262c543",
   "metadata": {},
   "source": [
    "Now let's run another logistic regression model for 5-star reviews.  "
   ]
  },
  {
   "cell_type": "code",
   "execution_count": 31,
   "id": "f815c636",
   "metadata": {},
   "outputs": [
    {
     "name": "stdout",
     "output_type": "stream",
     "text": [
      "Optimization terminated successfully.\n",
      "         Current function value: 0.636639\n",
      "         Iterations 6\n"
     ]
    },
    {
     "data": {
      "text/html": [
       "<table class=\"simpletable\">\n",
       "<caption>Logit Regression Results</caption>\n",
       "<tr>\n",
       "  <th>Dep. Variable:</th>   <td>share_of_five_stars</td> <th>  No. Observations:  </th>  <td>  2970</td>  \n",
       "</tr>\n",
       "<tr>\n",
       "  <th>Model:</th>                  <td>Logit</td>        <th>  Df Residuals:      </th>  <td>  2966</td>  \n",
       "</tr>\n",
       "<tr>\n",
       "  <th>Method:</th>                  <td>MLE</td>         <th>  Df Model:          </th>  <td>     3</td>  \n",
       "</tr>\n",
       "<tr>\n",
       "  <th>Date:</th>             <td>Sat, 25 Sep 2021</td>   <th>  Pseudo R-squ.:     </th> <td>0.008160</td> \n",
       "</tr>\n",
       "<tr>\n",
       "  <th>Time:</th>                 <td>22:14:41</td>       <th>  Log-Likelihood:    </th> <td> -1890.8</td> \n",
       "</tr>\n",
       "<tr>\n",
       "  <th>converged:</th>              <td>True</td>         <th>  LL-Null:           </th> <td> -1906.4</td> \n",
       "</tr>\n",
       "<tr>\n",
       "  <th>Covariance Type:</th>      <td>nonrobust</td>      <th>  LLR p-value:       </th> <td>8.045e-07</td>\n",
       "</tr>\n",
       "</table>\n",
       "<table class=\"simpletable\">\n",
       "<tr>\n",
       "           <td></td>             <th>coef</th>     <th>std err</th>      <th>z</th>      <th>P>|z|</th>  <th>[0.025</th>    <th>0.975]</th>  \n",
       "</tr>\n",
       "<tr>\n",
       "  <th>Intercept</th>          <td>    0.3676</td> <td>    0.038</td> <td>    9.622</td> <td> 0.000</td> <td>    0.293</td> <td>    0.442</td>\n",
       "</tr>\n",
       "<tr>\n",
       "  <th>delay_to_carrier</th>   <td>   -0.1321</td> <td>    0.067</td> <td>   -1.982</td> <td> 0.047</td> <td>   -0.263</td> <td>   -0.001</td>\n",
       "</tr>\n",
       "<tr>\n",
       "  <th>seller_wait_time</th>   <td>   -0.4206</td> <td>    0.054</td> <td>   -7.741</td> <td> 0.000</td> <td>   -0.527</td> <td>   -0.314</td>\n",
       "</tr>\n",
       "<tr>\n",
       "  <th>quantity_per_order</th> <td>   -0.0197</td> <td>    0.038</td> <td>   -0.519</td> <td> 0.604</td> <td>   -0.094</td> <td>    0.055</td>\n",
       "</tr>\n",
       "</table>"
      ],
      "text/plain": [
       "<class 'statsmodels.iolib.summary.Summary'>\n",
       "\"\"\"\n",
       "                            Logit Regression Results                           \n",
       "===============================================================================\n",
       "Dep. Variable:     share_of_five_stars   No. Observations:                 2970\n",
       "Model:                           Logit   Df Residuals:                     2966\n",
       "Method:                            MLE   Df Model:                            3\n",
       "Date:                 Sat, 25 Sep 2021   Pseudo R-squ.:                0.008160\n",
       "Time:                         22:14:41   Log-Likelihood:                -1890.8\n",
       "converged:                        True   LL-Null:                       -1906.4\n",
       "Covariance Type:             nonrobust   LLR p-value:                 8.045e-07\n",
       "======================================================================================\n",
       "                         coef    std err          z      P>|z|      [0.025      0.975]\n",
       "--------------------------------------------------------------------------------------\n",
       "Intercept              0.3676      0.038      9.622      0.000       0.293       0.442\n",
       "delay_to_carrier      -0.1321      0.067     -1.982      0.047      -0.263      -0.001\n",
       "seller_wait_time      -0.4206      0.054     -7.741      0.000      -0.527      -0.314\n",
       "quantity_per_order    -0.0197      0.038     -0.519      0.604      -0.094       0.055\n",
       "======================================================================================\n",
       "\"\"\""
      ]
     },
     "execution_count": 31,
     "metadata": {},
     "output_type": "execute_result"
    }
   ],
   "source": [
    "# Fit logit model for 5-star reviews\n",
    "sellers_standardized = standardize(sellers, revised_features)\n",
    "logit_five = smf.logit(formula=f\"share_of_five_stars ~ {'+ '.join(revised_features)}\", data=sellers_standardized).fit()\n",
    "logit_five.summary()"
   ]
  },
  {
   "cell_type": "code",
   "execution_count": 32,
   "id": "1205427d",
   "metadata": {
    "scrolled": true
   },
   "outputs": [
    {
     "data": {
      "text/html": [
       "<div>\n",
       "<style scoped>\n",
       "    .dataframe tbody tr th:only-of-type {\n",
       "        vertical-align: middle;\n",
       "    }\n",
       "\n",
       "    .dataframe tbody tr th {\n",
       "        vertical-align: top;\n",
       "    }\n",
       "\n",
       "    .dataframe thead th {\n",
       "        text-align: right;\n",
       "    }\n",
       "</style>\n",
       "<table border=\"1\" class=\"dataframe\">\n",
       "  <thead>\n",
       "    <tr style=\"text-align: right;\">\n",
       "      <th></th>\n",
       "      <th>log-odds</th>\n",
       "      <th>odds</th>\n",
       "    </tr>\n",
       "  </thead>\n",
       "  <tbody>\n",
       "    <tr>\n",
       "      <th>Intercept</th>\n",
       "      <td>0.367579</td>\n",
       "      <td>1.444234</td>\n",
       "    </tr>\n",
       "    <tr>\n",
       "      <th>delay_to_carrier</th>\n",
       "      <td>-0.132075</td>\n",
       "      <td>0.876275</td>\n",
       "    </tr>\n",
       "    <tr>\n",
       "      <th>seller_wait_time</th>\n",
       "      <td>-0.420552</td>\n",
       "      <td>0.656684</td>\n",
       "    </tr>\n",
       "    <tr>\n",
       "      <th>quantity_per_order</th>\n",
       "      <td>-0.019682</td>\n",
       "      <td>0.980510</td>\n",
       "    </tr>\n",
       "  </tbody>\n",
       "</table>\n",
       "</div>"
      ],
      "text/plain": [
       "                    log-odds      odds\n",
       "Intercept           0.367579  1.444234\n",
       "delay_to_carrier   -0.132075  0.876275\n",
       "seller_wait_time   -0.420552  0.656684\n",
       "quantity_per_order -0.019682  0.980510"
      ]
     },
     "execution_count": 32,
     "metadata": {},
     "output_type": "execute_result"
    }
   ],
   "source": [
    "# Log-odds to odds conversion by exponentiating\n",
    "logit_five_results = pd.DataFrame(logit_five.params, columns=['log-odds'])\n",
    "logit_five_results['odds'] = logit_five_results['log-odds'].apply(lambda x: math.exp(x))\n",
    "logit_five_results"
   ]
  },
  {
   "cell_type": "markdown",
   "id": "e5d68631",
   "metadata": {},
   "source": [
    "**Interpretation of Results**\n",
    "\n",
    "- In this model, our feature `quantity_per_order` is **not statistically significant** (p-value = 0.60), so we cannot reject the null hypothesis that `quantity_per_order` has no impact on receiving a 5-star score. \n",
    "\n",
    "- While the coefficients for our other two features are **statistically significant**, we note that the p-value for `delay_to_carrier` (p-value = 0.047) is close to our alpha threshold of 0.05.  \n",
    "\n",
    "- With this model, we also see `seller_wait_time` as having the largest influence on the star rating. *Holding all other variables constant, for each additional day in `seller_wait_time`, on average there is a **34% decrease in odds** of getting a 5-star review.*"
   ]
  },
  {
   "cell_type": "markdown",
   "id": "31772c44",
   "metadata": {},
   "source": [
    "### Logistic Regression Model Comparison"
   ]
  },
  {
   "cell_type": "code",
   "execution_count": 33,
   "id": "76f35a1a",
   "metadata": {
    "scrolled": true
   },
   "outputs": [
    {
     "name": "stderr",
     "output_type": "stream",
     "text": [
      "/Users/atat/.pyenv/versions/3.8.6/envs/lewagon/lib/python3.8/site-packages/pandas/plotting/_matplotlib/tools.py:400: MatplotlibDeprecationWarning: \n",
      "The is_first_col function was deprecated in Matplotlib 3.4 and will be removed two minor releases later. Use ax.get_subplotspec().is_first_col() instead.\n",
      "  if ax.is_first_col():\n"
     ]
    },
    {
     "data": {
      "image/png": "[encoded data removed]",
      "text/plain": [
       "<Figure size 936x360 with 2 Axes>"
      ]
     },
     "metadata": {},
     "output_type": "display_data"
    }
   ],
   "source": [
    "# Logistic Regression Model Comparison\n",
    "fig, (ax1, ax2) = plt.subplots(1,2, figsize=(13,5))\n",
    "fig.suptitle('Logit Five vs. Logit One')\n",
    "\n",
    "# Logistic Regression - logit_five_model\n",
    "ax1 = plt.subplot(1,2,1)\n",
    "ax1.set_title('Logit Five')\n",
    "ax1.yaxis.tick_right()\n",
    "ax1.set_xlim(-1.2, 1.5)\n",
    "logit_five.params[1:].sort_values().plot(kind='barh', ax=ax1)\n",
    "\n",
    "# Logistic Regression - logit_one_model\n",
    "ax2 = plt.subplot(1,2,2)\n",
    "ax2.set_title('Logit One')\n",
    "ax2.yaxis.tick_right()\n",
    "ax2.set_xlim(-1.2, 1.5)\n",
    "logit_one.params[1:].sort_values(ascending=False).plot(kind='barh', ax=ax2)\n",
    "\n",
    "plt.tight_layout()\n",
    "plt.show();"
   ]
  },
  {
   "cell_type": "markdown",
   "id": "1dace9e0",
   "metadata": {},
   "source": [
    "Both logistic regression models seem to point to `seller_wait_time` as the most influential feature in receiving a 1- or 5-star review.  "
   ]
  },
  {
   "cell_type": "markdown",
   "id": "6cb2520d",
   "metadata": {},
   "source": [
    "### Linear vs Logistic Regression Coefficients"
   ]
  },
  {
   "cell_type": "markdown",
   "id": "857c5b19",
   "metadata": {},
   "source": [
    "Let's plot and compare the coefficients of both our linear regression and logistic regression models to see if they are generally telling the same story. "
   ]
  },
  {
   "cell_type": "code",
   "execution_count": 34,
   "id": "89b07a36",
   "metadata": {},
   "outputs": [
    {
     "data": {
      "image/png": "[encoded data removed]",
      "text/plain": [
       "<Figure size 936x360 with 2 Axes>"
      ]
     },
     "metadata": {},
     "output_type": "display_data"
    }
   ],
   "source": [
    "plt.figure(figsize=(13,5))\n",
    "plt.suptitle('Linear vs. Logit Coefficients')\n",
    "\n",
    "# Linear Regression - Revised Model\n",
    "ax1 = plt.subplot(1,2,1)\n",
    "ax1.set_title('Linear')\n",
    "ax1.set_xlim(-1.5, 0.25)\n",
    "revised_model.params[1:].sort_values().plot(kind='barh', ax=ax1)\n",
    "\n",
    "# Logistic Regression - logit_five_model\n",
    "ax2 = plt.subplot(1,2,2)\n",
    "ax2.set_title('Logit Five')\n",
    "ax2.yaxis.tick_right()\n",
    "ax2.set_xlim(-1.5, 0.25)\n",
    "logit_five.params[1:].sort_values().plot(kind='barh', ax=ax2)\n",
    "\n",
    "plt.tight_layout()\n",
    "plt.show()"
   ]
  },
  {
   "cell_type": "markdown",
   "id": "111efca1",
   "metadata": {},
   "source": [
    "While we cannot directly compare the values of the coefficients from our linear and logistic regression models, we can see that they show *similar feature importance.* In both models, `seller_wait_time` appears to have the the largest association with `seller_wait_time` followed by `delay_to_carrier`. It appears that delivery duration has a large influence on review scores.  "
   ]
  }
 ],
 "metadata": {
  "kernelspec": {
   "display_name": "Python 3",
   "language": "python",
   "name": "python3"
  },
  "language_info": {
   "codemirror_mode": {
    "name": "ipython",
    "version": 3
   },
   "file_extension": ".py",
   "mimetype": "text/x-python",
   "name": "python",
   "nbconvert_exporter": "python",
   "pygments_lexer": "ipython3",
   "version": "3.8.6"
  },
  "toc": {
   "base_numbering": 1,
   "nav_menu": {},
   "number_sections": true,
   "sideBar": true,
   "skip_h1_title": true,
   "title_cell": "Table of Contents",
   "title_sidebar": "Contents",
   "toc_cell": false,
   "toc_position": {},
   "toc_section_display": true,
   "toc_window_display": false
  }
 },
 "nbformat": 4,
 "nbformat_minor": 5
}
