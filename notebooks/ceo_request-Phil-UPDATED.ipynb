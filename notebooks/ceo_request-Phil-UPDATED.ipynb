{
 "cells": [
  {
   "cell_type": "markdown",
   "metadata": {
    "slideshow": {
     "slide_type": "-"
    }
   },
   "source": [
    "# CEO-REQUEST CHALLENGE"
   ]
  },
  {
   "cell_type": "markdown",
   "metadata": {},
   "source": [
    "***CEO Question***\n",
    "\n",
    "How do we increase customer satisfaction (so as to increase profit margins) while maintaining a healthy order volume?"
   ]
  },
  {
   "cell_type": "markdown",
   "metadata": {},
   "source": [
    "**Findings from our Preliminary Analysis of the Orders and Sellers Datasets**\n",
    "\n",
    "\n",
    "- The more sellers (`number_of_sellers`) and products (`number_of_products`) that are combined into a single order, the lower the order `review_score`.  \n",
    "- The `wait_time` for the order, which is made up of two components (seller's `delay_to_carrier` + `carrier_delivery_time`) also has a significant association with low review scores.  \n",
    "- When these features are examined on a per seller basis, we can see that they still have an impact review score, and further we're able to identify which sellers are linked with lower review scores\n",
    "\n",
    "While orders that contain more than a single seller or product do have a significant association with low review scores, these types of orders do not make up a large part of the orders on the platform, so any policy changes (e.g. limit orders to a single seller), would not have a large impact on the bottom line. \n",
    "\n",
    "Instead, we'll focus on identifying sellers who receive poor reviews and quantifying their impact on Olist's bottom line. By understanding this relationship, we'll be able to make specific recommendations to the CEO on what steps could be done to increase profit margins in the short term.  "
   ]
  },
  {
   "cell_type": "markdown",
   "metadata": {},
   "source": [
    "**Next Steps**\n",
    "\n",
    "In this Notebook, we'll investigate how much impact underperforming sellers have on the Olist's bottom line."
   ]
  },
  {
   "cell_type": "markdown",
   "metadata": {},
   "source": [
    "**Steps to our Analysis**\n",
    "1. Identify how much revenue each seller brings in\n",
    "2. Calculate the cost to Olist of bad reviews for each seller\n",
    "3. Calculate impact on Olist bottom line if poor performers are removed from platform\n",
    "4. Find out if reduced number of sellers will impact savings generated from operating at scale"
   ]
  },
  {
   "cell_type": "markdown",
   "metadata": {
    "slideshow": {
     "slide_type": "-"
    }
   },
   "source": [
    "\n",
    "**Problem statement**"
   ]
  },
  {
   "cell_type": "markdown",
   "metadata": {
    "slideshow": {
     "slide_type": "-"
    }
   },
   "source": [
    "> Should Olist remove underperforming sellers from its marketplace?"
   ]
  },
  {
   "cell_type": "markdown",
   "metadata": {
    "slideshow": {
     "slide_type": "-"
    }
   },
   "source": [
    "To analyse the impact of removing the worst sellers from Olist's marketplace, we can start with a what-if analysis: What would have happened if Olist had never accepted these sellers in the first place? For that:\n",
    "\n",
    "Step ① Compute, for each `seller_id`, and cumulated since the beginning:\n",
    "- The `revenues` it brings\n",
    "- The `costs` associated with all its bad reviews\n",
    "- The resulting `profits` (revenues - costs)\n",
    "- The number of `orders` (it will impact overall IT costs)\n",
    "\n",
    "\n",
    "Step ② We can then sort sellers by increasing profits for Olist, and for each number of sellers to remove, compute the financial impact it would have made had they never been accepted on the platform. We may find an optimal number of sellers to remove that maximizes Olist's profit margin"
   ]
  },
  {
   "cell_type": "code",
   "execution_count": 1,
   "metadata": {
    "slideshow": {
     "slide_type": "skip"
    }
   },
   "outputs": [],
   "source": [
    "# Write down a detailed strategy (step by step) to create the DataFrame you need for step 1\n",
    "# Think about how to re-use or update the logic you have already coded in your `olist` package"
   ]
  },
  {
   "cell_type": "markdown",
   "metadata": {
    "slideshow": {
     "slide_type": "skip"
    }
   },
   "source": [
    "<details>\n",
    "    <summary>Hints</summary>\n",
    "\n",
    "\n",
    "Starting from your current `seller().get_training_data()` DataFrame:\n",
    "- Can you easily transform it to compute Olist's positive `revenue_per_seller`? \n",
    "- Can you easily transform it to compute Olist's `cost_of_bad_reviews`?\n",
    "\n",
    "❓Instead of starting again from scratch, investigate your source code in `seller.py` - how was the mean `review_score` per seller computed? Can you imagine a way to amend your code  to compute `cost_of_reviews` in the same process? \n",
    "</details>\n"
   ]
  },
  {
   "cell_type": "markdown",
   "metadata": {
    "slideshow": {
     "slide_type": "skip"
    }
   },
   "source": [
    "Your turn!"
   ]
  },
  {
   "cell_type": "code",
   "execution_count": 2,
   "metadata": {},
   "outputs": [
    {
     "data": {
      "text/plain": [
       "['/Users/atat/code/phlln/olist-analysis/notebooks',\n",
       " '/Users/atat/code/phlln/olist-analysis',\n",
       " '/Users/atat/.pyenv/versions/3.8.6/lib/python38.zip',\n",
       " '/Users/atat/.pyenv/versions/3.8.6/lib/python3.8',\n",
       " '/Users/atat/.pyenv/versions/3.8.6/lib/python3.8/lib-dynload',\n",
       " '',\n",
       " '/Users/atat/.pyenv/versions/3.8.6/envs/lewagon/lib/python3.8/site-packages',\n",
       " '/Users/atat/code/phlln/mlproject',\n",
       " '/Users/atat/code/phlln/TFM_TrainAtScale',\n",
       " '/Users/atat/code/phlln/TFM_PredictInProd',\n",
       " '/Users/atat/.pyenv/versions/3.8.6/envs/lewagon/lib/python3.8/site-packages/IPython/extensions',\n",
       " '/Users/atat/.ipython']"
      ]
     },
     "execution_count": 2,
     "metadata": {},
     "output_type": "execute_result"
    }
   ],
   "source": [
    "import os\n",
    "os.sys.path\n"
   ]
  },
  {
   "cell_type": "markdown",
   "metadata": {},
   "source": [
    "# START"
   ]
  },
  {
   "cell_type": "code",
   "execution_count": 3,
   "metadata": {
    "slideshow": {
     "slide_type": "skip"
    }
   },
   "outputs": [],
   "source": [
    "import numpy as np\n",
    "import pandas as pd\n",
    "import matplotlib.pyplot as plt\n",
    "import seaborn as sns\n",
    "import math\n",
    "from olist.seller import Seller\n",
    "from olist.data import Olist \n",
    "\n",
    "%load_ext autoreload\n",
    "%autoreload 2"
   ]
  },
  {
   "cell_type": "code",
   "execution_count": 4,
   "metadata": {
    "scrolled": true,
    "slideshow": {
     "slide_type": "skip"
    }
   },
   "outputs": [
    {
     "data": {
      "text/html": [
       "<div>\n",
       "<style scoped>\n",
       "    .dataframe tbody tr th:only-of-type {\n",
       "        vertical-align: middle;\n",
       "    }\n",
       "\n",
       "    .dataframe tbody tr th {\n",
       "        vertical-align: top;\n",
       "    }\n",
       "\n",
       "    .dataframe thead th {\n",
       "        text-align: right;\n",
       "    }\n",
       "</style>\n",
       "<table border=\"1\" class=\"dataframe\">\n",
       "  <thead>\n",
       "    <tr style=\"text-align: right;\">\n",
       "      <th></th>\n",
       "      <th>seller_id</th>\n",
       "      <th>seller_city</th>\n",
       "      <th>seller_state</th>\n",
       "      <th>delay_to_carrier</th>\n",
       "      <th>seller_wait_time</th>\n",
       "      <th>date_first_sale</th>\n",
       "      <th>date_last_sale</th>\n",
       "      <th>months_on_olist</th>\n",
       "      <th>share_of_one_stars</th>\n",
       "      <th>share_of_five_stars</th>\n",
       "      <th>seller_review_score</th>\n",
       "      <th>review_cost_per_seller</th>\n",
       "      <th>n_orders</th>\n",
       "      <th>quantity</th>\n",
       "      <th>quantity_per_order</th>\n",
       "      <th>sales</th>\n",
       "    </tr>\n",
       "  </thead>\n",
       "  <tbody>\n",
       "    <tr>\n",
       "      <th>0</th>\n",
       "      <td>3442f8959a84dea7ee197c632cb2df15</td>\n",
       "      <td>campinas</td>\n",
       "      <td>SP</td>\n",
       "      <td>0.000000</td>\n",
       "      <td>13.018588</td>\n",
       "      <td>2017-05-05 16:25:11</td>\n",
       "      <td>2017-08-30 12:50:19</td>\n",
       "      <td>4.0</td>\n",
       "      <td>0.333333</td>\n",
       "      <td>0.333333</td>\n",
       "      <td>3.00</td>\n",
       "      <td>140</td>\n",
       "      <td>3</td>\n",
       "      <td>3</td>\n",
       "      <td>1.000</td>\n",
       "      <td>218.70</td>\n",
       "    </tr>\n",
       "    <tr>\n",
       "      <th>1</th>\n",
       "      <td>d1b65fc7debc3361ea86b5f14c68d2e2</td>\n",
       "      <td>mogi guacu</td>\n",
       "      <td>SP</td>\n",
       "      <td>0.000000</td>\n",
       "      <td>9.065716</td>\n",
       "      <td>2017-03-29 02:10:34</td>\n",
       "      <td>2018-06-06 20:15:21</td>\n",
       "      <td>14.0</td>\n",
       "      <td>0.050000</td>\n",
       "      <td>0.725000</td>\n",
       "      <td>4.55</td>\n",
       "      <td>240</td>\n",
       "      <td>40</td>\n",
       "      <td>41</td>\n",
       "      <td>1.025</td>\n",
       "      <td>11703.07</td>\n",
       "    </tr>\n",
       "    <tr>\n",
       "      <th>2</th>\n",
       "      <td>ce3ad9de960102d0677a81f5d0bb7b2d</td>\n",
       "      <td>rio de janeiro</td>\n",
       "      <td>RJ</td>\n",
       "      <td>0.000000</td>\n",
       "      <td>4.042292</td>\n",
       "      <td>2018-07-30 12:44:49</td>\n",
       "      <td>2018-07-30 12:44:49</td>\n",
       "      <td>0.0</td>\n",
       "      <td>0.000000</td>\n",
       "      <td>1.000000</td>\n",
       "      <td>5.00</td>\n",
       "      <td>0</td>\n",
       "      <td>1</td>\n",
       "      <td>1</td>\n",
       "      <td>1.000</td>\n",
       "      <td>158.00</td>\n",
       "    </tr>\n",
       "    <tr>\n",
       "      <th>3</th>\n",
       "      <td>c0f3eea2e14555b6faeea3dd58c1b1c3</td>\n",
       "      <td>sao paulo</td>\n",
       "      <td>SP</td>\n",
       "      <td>0.000000</td>\n",
       "      <td>5.667187</td>\n",
       "      <td>2018-08-03 00:44:08</td>\n",
       "      <td>2018-08-03 00:44:08</td>\n",
       "      <td>0.0</td>\n",
       "      <td>0.000000</td>\n",
       "      <td>1.000000</td>\n",
       "      <td>5.00</td>\n",
       "      <td>0</td>\n",
       "      <td>1</td>\n",
       "      <td>1</td>\n",
       "      <td>1.000</td>\n",
       "      <td>79.99</td>\n",
       "    </tr>\n",
       "    <tr>\n",
       "      <th>4</th>\n",
       "      <td>51a04a8a6bdcb23deccc82b0b80742cf</td>\n",
       "      <td>braganca paulista</td>\n",
       "      <td>SP</td>\n",
       "      <td>3.353727</td>\n",
       "      <td>35.314861</td>\n",
       "      <td>2017-11-14 12:15:25</td>\n",
       "      <td>2017-11-14 12:15:25</td>\n",
       "      <td>0.0</td>\n",
       "      <td>1.000000</td>\n",
       "      <td>0.000000</td>\n",
       "      <td>1.00</td>\n",
       "      <td>100</td>\n",
       "      <td>1</td>\n",
       "      <td>1</td>\n",
       "      <td>1.000</td>\n",
       "      <td>167.99</td>\n",
       "    </tr>\n",
       "  </tbody>\n",
       "</table>\n",
       "</div>"
      ],
      "text/plain": [
       "                          seller_id        seller_city seller_state  \\\n",
       "0  3442f8959a84dea7ee197c632cb2df15           campinas           SP   \n",
       "1  d1b65fc7debc3361ea86b5f14c68d2e2         mogi guacu           SP   \n",
       "2  ce3ad9de960102d0677a81f5d0bb7b2d     rio de janeiro           RJ   \n",
       "3  c0f3eea2e14555b6faeea3dd58c1b1c3          sao paulo           SP   \n",
       "4  51a04a8a6bdcb23deccc82b0b80742cf  braganca paulista           SP   \n",
       "\n",
       "   delay_to_carrier  seller_wait_time     date_first_sale      date_last_sale  \\\n",
       "0          0.000000         13.018588 2017-05-05 16:25:11 2017-08-30 12:50:19   \n",
       "1          0.000000          9.065716 2017-03-29 02:10:34 2018-06-06 20:15:21   \n",
       "2          0.000000          4.042292 2018-07-30 12:44:49 2018-07-30 12:44:49   \n",
       "3          0.000000          5.667187 2018-08-03 00:44:08 2018-08-03 00:44:08   \n",
       "4          3.353727         35.314861 2017-11-14 12:15:25 2017-11-14 12:15:25   \n",
       "\n",
       "   months_on_olist  share_of_one_stars  share_of_five_stars  \\\n",
       "0              4.0            0.333333             0.333333   \n",
       "1             14.0            0.050000             0.725000   \n",
       "2              0.0            0.000000             1.000000   \n",
       "3              0.0            0.000000             1.000000   \n",
       "4              0.0            1.000000             0.000000   \n",
       "\n",
       "   seller_review_score  review_cost_per_seller  n_orders  quantity  \\\n",
       "0                 3.00                     140         3         3   \n",
       "1                 4.55                     240        40        41   \n",
       "2                 5.00                       0         1         1   \n",
       "3                 5.00                       0         1         1   \n",
       "4                 1.00                     100         1         1   \n",
       "\n",
       "   quantity_per_order     sales  \n",
       "0               1.000    218.70  \n",
       "1               1.025  11703.07  \n",
       "2               1.000    158.00  \n",
       "3               1.000     79.99  \n",
       "4               1.000    167.99  "
      ]
     },
     "execution_count": 4,
     "metadata": {},
     "output_type": "execute_result"
    }
   ],
   "source": [
    "sellers = Seller().get_training_data()\n",
    "sellers.head()"
   ]
  },
  {
   "cell_type": "code",
   "execution_count": 5,
   "metadata": {},
   "outputs": [
    {
     "data": {
      "text/plain": [
       "Index(['seller_id', 'seller_city', 'seller_state', 'delay_to_carrier',\n",
       "       'seller_wait_time', 'date_first_sale', 'date_last_sale',\n",
       "       'months_on_olist', 'share_of_one_stars', 'share_of_five_stars',\n",
       "       'seller_review_score', 'review_cost_per_seller', 'n_orders', 'quantity',\n",
       "       'quantity_per_order', 'sales'],\n",
       "      dtype='object')"
      ]
     },
     "execution_count": 5,
     "metadata": {},
     "output_type": "execute_result"
    }
   ],
   "source": [
    "sellers.columns"
   ]
  },
  {
   "cell_type": "code",
   "execution_count": 6,
   "metadata": {},
   "outputs": [],
   "source": [
    "#export dataset for Tableau\n",
    "path = '../data/csv/seller_dataset_modified.csv'\n",
    "sellers.to_csv(path_or_buf=path, index=False)"
   ]
  },
  {
   "cell_type": "markdown",
   "metadata": {},
   "source": [
    "## Revenue per selller"
   ]
  },
  {
   "cell_type": "markdown",
   "metadata": {},
   "source": [
    "Olist generates revenue from its sellers from two components:\n",
    "1. **Monthly Membership Fee** - sellers pay Olist an **80 BRL** (~$15 USD) monthly fee to use the platform\n",
    "2. **Revenue Share** - for every transaction on the platform, Olist takes a **10% cut** on the product price (excl. shipping) for each item in an order\n"
   ]
  },
  {
   "cell_type": "code",
   "execution_count": 7,
   "metadata": {
    "scrolled": true,
    "slideshow": {
     "slide_type": "skip"
    }
   },
   "outputs": [
    {
     "data": {
      "text/html": [
       "<div>\n",
       "<style scoped>\n",
       "    .dataframe tbody tr th:only-of-type {\n",
       "        vertical-align: middle;\n",
       "    }\n",
       "\n",
       "    .dataframe tbody tr th {\n",
       "        vertical-align: top;\n",
       "    }\n",
       "\n",
       "    .dataframe thead th {\n",
       "        text-align: right;\n",
       "    }\n",
       "</style>\n",
       "<table border=\"1\" class=\"dataframe\">\n",
       "  <thead>\n",
       "    <tr style=\"text-align: right;\">\n",
       "      <th></th>\n",
       "      <th>seller_id</th>\n",
       "      <th>seller_city</th>\n",
       "      <th>seller_state</th>\n",
       "      <th>delay_to_carrier</th>\n",
       "      <th>seller_wait_time</th>\n",
       "      <th>date_first_sale</th>\n",
       "      <th>date_last_sale</th>\n",
       "      <th>months_on_olist</th>\n",
       "      <th>share_of_one_stars</th>\n",
       "      <th>share_of_five_stars</th>\n",
       "      <th>seller_review_score</th>\n",
       "      <th>review_cost_per_seller</th>\n",
       "      <th>n_orders</th>\n",
       "      <th>quantity</th>\n",
       "      <th>quantity_per_order</th>\n",
       "      <th>sales</th>\n",
       "      <th>revenue_per_seller</th>\n",
       "    </tr>\n",
       "  </thead>\n",
       "  <tbody>\n",
       "    <tr>\n",
       "      <th>0</th>\n",
       "      <td>3442f8959a84dea7ee197c632cb2df15</td>\n",
       "      <td>campinas</td>\n",
       "      <td>SP</td>\n",
       "      <td>0.000000</td>\n",
       "      <td>13.018588</td>\n",
       "      <td>2017-05-05 16:25:11</td>\n",
       "      <td>2017-08-30 12:50:19</td>\n",
       "      <td>4.0</td>\n",
       "      <td>0.333333</td>\n",
       "      <td>0.333333</td>\n",
       "      <td>3.00</td>\n",
       "      <td>140</td>\n",
       "      <td>3</td>\n",
       "      <td>3</td>\n",
       "      <td>1.000</td>\n",
       "      <td>218.70</td>\n",
       "      <td>341.870</td>\n",
       "    </tr>\n",
       "    <tr>\n",
       "      <th>1</th>\n",
       "      <td>d1b65fc7debc3361ea86b5f14c68d2e2</td>\n",
       "      <td>mogi guacu</td>\n",
       "      <td>SP</td>\n",
       "      <td>0.000000</td>\n",
       "      <td>9.065716</td>\n",
       "      <td>2017-03-29 02:10:34</td>\n",
       "      <td>2018-06-06 20:15:21</td>\n",
       "      <td>15.0</td>\n",
       "      <td>0.050000</td>\n",
       "      <td>0.725000</td>\n",
       "      <td>4.55</td>\n",
       "      <td>240</td>\n",
       "      <td>40</td>\n",
       "      <td>41</td>\n",
       "      <td>1.025</td>\n",
       "      <td>11703.07</td>\n",
       "      <td>2370.307</td>\n",
       "    </tr>\n",
       "    <tr>\n",
       "      <th>2</th>\n",
       "      <td>ce3ad9de960102d0677a81f5d0bb7b2d</td>\n",
       "      <td>rio de janeiro</td>\n",
       "      <td>RJ</td>\n",
       "      <td>0.000000</td>\n",
       "      <td>4.042292</td>\n",
       "      <td>2018-07-30 12:44:49</td>\n",
       "      <td>2018-07-30 12:44:49</td>\n",
       "      <td>1.0</td>\n",
       "      <td>0.000000</td>\n",
       "      <td>1.000000</td>\n",
       "      <td>5.00</td>\n",
       "      <td>0</td>\n",
       "      <td>1</td>\n",
       "      <td>1</td>\n",
       "      <td>1.000</td>\n",
       "      <td>158.00</td>\n",
       "      <td>95.800</td>\n",
       "    </tr>\n",
       "    <tr>\n",
       "      <th>3</th>\n",
       "      <td>c0f3eea2e14555b6faeea3dd58c1b1c3</td>\n",
       "      <td>sao paulo</td>\n",
       "      <td>SP</td>\n",
       "      <td>0.000000</td>\n",
       "      <td>5.667187</td>\n",
       "      <td>2018-08-03 00:44:08</td>\n",
       "      <td>2018-08-03 00:44:08</td>\n",
       "      <td>1.0</td>\n",
       "      <td>0.000000</td>\n",
       "      <td>1.000000</td>\n",
       "      <td>5.00</td>\n",
       "      <td>0</td>\n",
       "      <td>1</td>\n",
       "      <td>1</td>\n",
       "      <td>1.000</td>\n",
       "      <td>79.99</td>\n",
       "      <td>87.999</td>\n",
       "    </tr>\n",
       "    <tr>\n",
       "      <th>4</th>\n",
       "      <td>51a04a8a6bdcb23deccc82b0b80742cf</td>\n",
       "      <td>braganca paulista</td>\n",
       "      <td>SP</td>\n",
       "      <td>3.353727</td>\n",
       "      <td>35.314861</td>\n",
       "      <td>2017-11-14 12:15:25</td>\n",
       "      <td>2017-11-14 12:15:25</td>\n",
       "      <td>1.0</td>\n",
       "      <td>1.000000</td>\n",
       "      <td>0.000000</td>\n",
       "      <td>1.00</td>\n",
       "      <td>100</td>\n",
       "      <td>1</td>\n",
       "      <td>1</td>\n",
       "      <td>1.000</td>\n",
       "      <td>167.99</td>\n",
       "      <td>96.799</td>\n",
       "    </tr>\n",
       "  </tbody>\n",
       "</table>\n",
       "</div>"
      ],
      "text/plain": [
       "                          seller_id        seller_city seller_state  \\\n",
       "0  3442f8959a84dea7ee197c632cb2df15           campinas           SP   \n",
       "1  d1b65fc7debc3361ea86b5f14c68d2e2         mogi guacu           SP   \n",
       "2  ce3ad9de960102d0677a81f5d0bb7b2d     rio de janeiro           RJ   \n",
       "3  c0f3eea2e14555b6faeea3dd58c1b1c3          sao paulo           SP   \n",
       "4  51a04a8a6bdcb23deccc82b0b80742cf  braganca paulista           SP   \n",
       "\n",
       "   delay_to_carrier  seller_wait_time     date_first_sale      date_last_sale  \\\n",
       "0          0.000000         13.018588 2017-05-05 16:25:11 2017-08-30 12:50:19   \n",
       "1          0.000000          9.065716 2017-03-29 02:10:34 2018-06-06 20:15:21   \n",
       "2          0.000000          4.042292 2018-07-30 12:44:49 2018-07-30 12:44:49   \n",
       "3          0.000000          5.667187 2018-08-03 00:44:08 2018-08-03 00:44:08   \n",
       "4          3.353727         35.314861 2017-11-14 12:15:25 2017-11-14 12:15:25   \n",
       "\n",
       "   months_on_olist  share_of_one_stars  share_of_five_stars  \\\n",
       "0              4.0            0.333333             0.333333   \n",
       "1             15.0            0.050000             0.725000   \n",
       "2              1.0            0.000000             1.000000   \n",
       "3              1.0            0.000000             1.000000   \n",
       "4              1.0            1.000000             0.000000   \n",
       "\n",
       "   seller_review_score  review_cost_per_seller  n_orders  quantity  \\\n",
       "0                 3.00                     140         3         3   \n",
       "1                 4.55                     240        40        41   \n",
       "2                 5.00                       0         1         1   \n",
       "3                 5.00                       0         1         1   \n",
       "4                 1.00                     100         1         1   \n",
       "\n",
       "   quantity_per_order     sales  revenue_per_seller  \n",
       "0               1.000    218.70             341.870  \n",
       "1               1.025  11703.07            2370.307  \n",
       "2               1.000    158.00              95.800  \n",
       "3               1.000     79.99              87.999  \n",
       "4               1.000    167.99              96.799  "
      ]
     },
     "execution_count": 7,
     "metadata": {},
     "output_type": "execute_result"
    }
   ],
   "source": [
    "# Revenue Calculation: Monthly Membership Fee Calculation + Revenue Share\n",
    "\n",
    "# Calculate total time on platform (in months)\n",
    "number_of_months_on_olist = (sellers.date_last_sale - sellers.date_first_sale) / np.timedelta64(1, 'M')\n",
    "sellers['months_on_olist'] = number_of_months_on_olist.map(lambda x: 1 if x < 1 else np.ceil(x))\n",
    "\n",
    "sellers['revenue_per_seller'] = sellers.months_on_olist * 80 + sellers.sales * 0.1\n",
    "sellers.head()"
   ]
  },
  {
   "cell_type": "markdown",
   "metadata": {
    "slideshow": {
     "slide_type": "skip"
    }
   },
   "source": [
    "## Costs per seller"
   ]
  },
  {
   "cell_type": "markdown",
   "metadata": {},
   "source": [
    "Because poor reviews by customers can have numerous costs to a business (e.g. customer support, bad word-of-mouth, low repeat rate, etc.), we use the following table to estimate monetary costs associated with bad reviews\"\n",
    "\n",
    "**Estimated cost to Olist in Brazilian Reals (BRL) per bad review of seller**\n",
    "- **1 star:** 100\n",
    "- **2 stars:** 50\n",
    "- **3 stars:** 40\n",
    "- **4 stars:** 0\n",
    "- **5 stars:** 0"
   ]
  },
  {
   "cell_type": "code",
   "execution_count": 8,
   "metadata": {
    "scrolled": true
   },
   "outputs": [
    {
     "data": {
      "text/plain": [
       "Index(['seller_id', 'seller_city', 'seller_state', 'delay_to_carrier',\n",
       "       'seller_wait_time', 'date_first_sale', 'date_last_sale',\n",
       "       'months_on_olist', 'share_of_one_stars', 'share_of_five_stars',\n",
       "       'seller_review_score', 'review_cost_per_seller', 'n_orders', 'quantity',\n",
       "       'quantity_per_order', 'sales', 'revenue_per_seller'],\n",
       "      dtype='object')"
      ]
     },
     "execution_count": 8,
     "metadata": {},
     "output_type": "execute_result"
    }
   ],
   "source": [
    "sellers.columns"
   ]
  },
  {
   "cell_type": "code",
   "execution_count": 9,
   "metadata": {},
   "outputs": [
    {
     "data": {
      "text/html": [
       "<div>\n",
       "<style scoped>\n",
       "    .dataframe tbody tr th:only-of-type {\n",
       "        vertical-align: middle;\n",
       "    }\n",
       "\n",
       "    .dataframe tbody tr th {\n",
       "        vertical-align: top;\n",
       "    }\n",
       "\n",
       "    .dataframe thead th {\n",
       "        text-align: right;\n",
       "    }\n",
       "</style>\n",
       "<table border=\"1\" class=\"dataframe\">\n",
       "  <thead>\n",
       "    <tr style=\"text-align: right;\">\n",
       "      <th></th>\n",
       "      <th>seller_id</th>\n",
       "      <th>seller_review_score</th>\n",
       "      <th>review_cost_per_seller</th>\n",
       "    </tr>\n",
       "  </thead>\n",
       "  <tbody>\n",
       "    <tr>\n",
       "      <th>0</th>\n",
       "      <td>3442f8959a84dea7ee197c632cb2df15</td>\n",
       "      <td>3.00</td>\n",
       "      <td>140</td>\n",
       "    </tr>\n",
       "    <tr>\n",
       "      <th>1</th>\n",
       "      <td>d1b65fc7debc3361ea86b5f14c68d2e2</td>\n",
       "      <td>4.55</td>\n",
       "      <td>240</td>\n",
       "    </tr>\n",
       "    <tr>\n",
       "      <th>2</th>\n",
       "      <td>ce3ad9de960102d0677a81f5d0bb7b2d</td>\n",
       "      <td>5.00</td>\n",
       "      <td>0</td>\n",
       "    </tr>\n",
       "    <tr>\n",
       "      <th>3</th>\n",
       "      <td>c0f3eea2e14555b6faeea3dd58c1b1c3</td>\n",
       "      <td>5.00</td>\n",
       "      <td>0</td>\n",
       "    </tr>\n",
       "    <tr>\n",
       "      <th>4</th>\n",
       "      <td>51a04a8a6bdcb23deccc82b0b80742cf</td>\n",
       "      <td>1.00</td>\n",
       "      <td>100</td>\n",
       "    </tr>\n",
       "  </tbody>\n",
       "</table>\n",
       "</div>"
      ],
      "text/plain": [
       "                          seller_id  seller_review_score  \\\n",
       "0  3442f8959a84dea7ee197c632cb2df15                 3.00   \n",
       "1  d1b65fc7debc3361ea86b5f14c68d2e2                 4.55   \n",
       "2  ce3ad9de960102d0677a81f5d0bb7b2d                 5.00   \n",
       "3  c0f3eea2e14555b6faeea3dd58c1b1c3                 5.00   \n",
       "4  51a04a8a6bdcb23deccc82b0b80742cf                 1.00   \n",
       "\n",
       "   review_cost_per_seller  \n",
       "0                     140  \n",
       "1                     240  \n",
       "2                       0  \n",
       "3                       0  \n",
       "4                     100  "
      ]
     },
     "execution_count": 9,
     "metadata": {},
     "output_type": "execute_result"
    }
   ],
   "source": [
    "sellers[['seller_id','seller_review_score','review_cost_per_seller']].head()"
   ]
  },
  {
   "cell_type": "markdown",
   "metadata": {},
   "source": [
    "- `seller_review_score` is the average review score earned by a seller\n",
    "\n",
    "- `review_cost_per_seller` is the monetary cost accrued to Olist per seller calculated first by assigning a monetary cost for each review receiving a score that is three stars or less, and then summing up the total cost of these bad reviews."
   ]
  },
  {
   "cell_type": "code",
   "execution_count": 10,
   "metadata": {},
   "outputs": [],
   "source": [
    "#Show calculations in python script or in notebook?\n",
    "\n",
    "# Calculating per seller cost to Olist due to bad reviews\n",
    "# sellers['cost_of_review'] = sellers.seller_review_score.map({ 1: 100, 2: 50, 3: 40, 4: 0, 5: 0})\n",
    "# sellers['review_cost_per_seller'] = sellers.groupby(by=['seller_id'], as_index=False).sum().cost_of_review\n"
   ]
  },
  {
   "cell_type": "markdown",
   "metadata": {},
   "source": [
    "# Profits per seller "
   ]
  },
  {
   "cell_type": "markdown",
   "metadata": {},
   "source": [
    "Now that we know how much revenue each seller generates for Olist and also the cost of bad reviews, let's calculate the profit to Olist per seller. We'll be able to see much more clearly which sellers are a drag on Olist's bottom line. \n",
    "\n",
    "We've been told that there are also IT costs associated with running the platform that become less expensive per added seller (marginal cost decreases with scale). For now, we'll set that aside in our analysis and examine that a bit later.   "
   ]
  },
  {
   "cell_type": "code",
   "execution_count": 11,
   "metadata": {},
   "outputs": [
    {
     "data": {
      "text/html": [
       "<div>\n",
       "<style scoped>\n",
       "    .dataframe tbody tr th:only-of-type {\n",
       "        vertical-align: middle;\n",
       "    }\n",
       "\n",
       "    .dataframe tbody tr th {\n",
       "        vertical-align: top;\n",
       "    }\n",
       "\n",
       "    .dataframe thead th {\n",
       "        text-align: right;\n",
       "    }\n",
       "</style>\n",
       "<table border=\"1\" class=\"dataframe\">\n",
       "  <thead>\n",
       "    <tr style=\"text-align: right;\">\n",
       "      <th></th>\n",
       "      <th>seller_id</th>\n",
       "      <th>revenue_per_seller</th>\n",
       "      <th>review_cost_per_seller</th>\n",
       "      <th>profit_per_seller</th>\n",
       "    </tr>\n",
       "  </thead>\n",
       "  <tbody>\n",
       "    <tr>\n",
       "      <th>0</th>\n",
       "      <td>3442f8959a84dea7ee197c632cb2df15</td>\n",
       "      <td>341.870</td>\n",
       "      <td>140</td>\n",
       "      <td>201.870</td>\n",
       "    </tr>\n",
       "    <tr>\n",
       "      <th>1</th>\n",
       "      <td>d1b65fc7debc3361ea86b5f14c68d2e2</td>\n",
       "      <td>2370.307</td>\n",
       "      <td>240</td>\n",
       "      <td>2130.307</td>\n",
       "    </tr>\n",
       "    <tr>\n",
       "      <th>2</th>\n",
       "      <td>ce3ad9de960102d0677a81f5d0bb7b2d</td>\n",
       "      <td>95.800</td>\n",
       "      <td>0</td>\n",
       "      <td>95.800</td>\n",
       "    </tr>\n",
       "    <tr>\n",
       "      <th>3</th>\n",
       "      <td>c0f3eea2e14555b6faeea3dd58c1b1c3</td>\n",
       "      <td>87.999</td>\n",
       "      <td>0</td>\n",
       "      <td>87.999</td>\n",
       "    </tr>\n",
       "    <tr>\n",
       "      <th>4</th>\n",
       "      <td>51a04a8a6bdcb23deccc82b0b80742cf</td>\n",
       "      <td>96.799</td>\n",
       "      <td>100</td>\n",
       "      <td>-3.201</td>\n",
       "    </tr>\n",
       "    <tr>\n",
       "      <th>5</th>\n",
       "      <td>c240c4061717ac1806ae6ee72be3533b</td>\n",
       "      <td>85.990</td>\n",
       "      <td>0</td>\n",
       "      <td>85.990</td>\n",
       "    </tr>\n",
       "    <tr>\n",
       "      <th>6</th>\n",
       "      <td>e49c26c3edfa46d227d5121a6b6e4d37</td>\n",
       "      <td>1805.425</td>\n",
       "      <td>330</td>\n",
       "      <td>1475.425</td>\n",
       "    </tr>\n",
       "    <tr>\n",
       "      <th>7</th>\n",
       "      <td>1b938a7ec6ac5061a66a3766e0e75f90</td>\n",
       "      <td>1278.760</td>\n",
       "      <td>300</td>\n",
       "      <td>978.760</td>\n",
       "    </tr>\n",
       "    <tr>\n",
       "      <th>8</th>\n",
       "      <td>768a86e36ad6aae3d03ee3c6433d61df</td>\n",
       "      <td>298.746</td>\n",
       "      <td>40</td>\n",
       "      <td>258.746</td>\n",
       "    </tr>\n",
       "    <tr>\n",
       "      <th>9</th>\n",
       "      <td>ccc4bbb5f32a6ab2b7066a4130f114e3</td>\n",
       "      <td>9000.462</td>\n",
       "      <td>2220</td>\n",
       "      <td>6780.462</td>\n",
       "    </tr>\n",
       "  </tbody>\n",
       "</table>\n",
       "</div>"
      ],
      "text/plain": [
       "                          seller_id  revenue_per_seller  \\\n",
       "0  3442f8959a84dea7ee197c632cb2df15             341.870   \n",
       "1  d1b65fc7debc3361ea86b5f14c68d2e2            2370.307   \n",
       "2  ce3ad9de960102d0677a81f5d0bb7b2d              95.800   \n",
       "3  c0f3eea2e14555b6faeea3dd58c1b1c3              87.999   \n",
       "4  51a04a8a6bdcb23deccc82b0b80742cf              96.799   \n",
       "5  c240c4061717ac1806ae6ee72be3533b              85.990   \n",
       "6  e49c26c3edfa46d227d5121a6b6e4d37            1805.425   \n",
       "7  1b938a7ec6ac5061a66a3766e0e75f90            1278.760   \n",
       "8  768a86e36ad6aae3d03ee3c6433d61df             298.746   \n",
       "9  ccc4bbb5f32a6ab2b7066a4130f114e3            9000.462   \n",
       "\n",
       "   review_cost_per_seller  profit_per_seller  \n",
       "0                     140            201.870  \n",
       "1                     240           2130.307  \n",
       "2                       0             95.800  \n",
       "3                       0             87.999  \n",
       "4                     100             -3.201  \n",
       "5                       0             85.990  \n",
       "6                     330           1475.425  \n",
       "7                     300            978.760  \n",
       "8                      40            258.746  \n",
       "9                    2220           6780.462  "
      ]
     },
     "execution_count": 11,
     "metadata": {},
     "output_type": "execute_result"
    }
   ],
   "source": [
    "# Calculate the profit as 'revenue_per_seller' - 'review_cost_per_seller'\n",
    "sellers['profit_per_seller'] = sellers.revenue_per_seller - sellers.review_cost_per_seller\n",
    "sellers[['seller_id', 'revenue_per_seller', 'review_cost_per_seller', 'profit_per_seller']].groupby(by='seller_id').sum()\n",
    "\n",
    "sellers[['seller_id', 'revenue_per_seller', 'review_cost_per_seller', 'profit_per_seller']].head(10)"
   ]
  },
  {
   "cell_type": "code",
   "execution_count": null,
   "metadata": {},
   "outputs": [],
   "source": []
  },
  {
   "cell_type": "markdown",
   "metadata": {},
   "source": [
    "Let's look at the distribution of the financial impact sellers have on Olist"
   ]
  },
  {
   "cell_type": "code",
   "execution_count": 12,
   "metadata": {
    "scrolled": true,
    "slideshow": {
     "slide_type": "skip"
    }
   },
   "outputs": [
    {
     "data": {
      "image/png": "[encoded data removed]",
      "text/plain": [
       "<Figure size 864x576 with 1 Axes>"
      ]
     },
     "metadata": {
      "needs_background": "light"
     },
     "output_type": "display_data"
    }
   ],
   "source": [
    "plt.figure(figsize=(12,8))\n",
    "sns.set_style('darkgrid')\n",
    "ax = sns.histplot(sellers.profit_per_seller)\n",
    "ax.set_xlim(xmin=-5000, xmax=5000)\n",
    "ax.set_xlabel('Profits per Seller (BRL)')\n",
    "ax.set_ylabel('Number of Sellers')\n",
    "ax.set_title('Distribution of Seller Contribution to Olist Revenues');"
   ]
  },
  {
   "cell_type": "code",
   "execution_count": 13,
   "metadata": {},
   "outputs": [
    {
     "data": {
      "text/plain": [
       "count     2970.000000\n",
       "mean       424.055631\n",
       "std       1274.295160\n",
       "min     -22419.517000\n",
       "25%         93.000000\n",
       "50%        285.790500\n",
       "75%        720.593750\n",
       "max      17967.605000\n",
       "Name: profit_per_seller, dtype: float64"
      ]
     },
     "execution_count": 13,
     "metadata": {},
     "output_type": "execute_result"
    }
   ],
   "source": [
    "sellers.profit_per_seller.describe()"
   ]
  },
  {
   "cell_type": "markdown",
   "metadata": {},
   "source": [
    "**Interpretation of Results**"
   ]
  },
  {
   "cell_type": "markdown",
   "metadata": {},
   "source": [
    "From our plot and summary stats of profits to Olist by sellers, it looks as though the middle 50% of sellers on the platform generate anywhere from 93 to 721 BRL (17 to 134 USD). However, we can see that there are some sellers with a negative impact on profits. \n",
    "\n",
    "Let's see if we can find out:\n",
    "1. How many sellers have a negative impact on profits?\n",
    "2. What would be the difference for Olist if these sellers were removed?\n",
    "3. Is there a reasonable threshold we could set before removing poor performers (e.g. after 'x' number of months on platform if 'x' number of bad reviews, etc.)?"
   ]
  },
  {
   "cell_type": "markdown",
   "metadata": {},
   "source": [
    "#### How many sellers are negatively impacting Olist profits?"
   ]
  },
  {
   "cell_type": "markdown",
   "metadata": {},
   "source": [
    "Let's make a bar plot to see that more clearly."
   ]
  },
  {
   "cell_type": "code",
   "execution_count": 18,
   "metadata": {
    "scrolled": false
   },
   "outputs": [
    {
     "data": {
      "text/plain": [
       "positive    2694\n",
       "negative     276\n",
       "Name: impact, dtype: int64"
      ]
     },
     "execution_count": 18,
     "metadata": {},
     "output_type": "execute_result"
    }
   ],
   "source": [
    "# Simple function to create column indicating whether sellers have positive or negative impact on profits\n",
    "def olist_impact(x):\n",
    "    if x < 0:\n",
    "        return 'negative'\n",
    "    else:\n",
    "        return 'positive'\n",
    "\n",
    "sellers['impact'] = sellers['profit_per_seller'].apply(olist_impact)\n",
    "sellers['impact'].value_counts()"
   ]
  },
  {
   "cell_type": "code",
   "execution_count": 20,
   "metadata": {
    "scrolled": false
   },
   "outputs": [
    {
     "data": {
      "image/png": "[encoded data removed]",
      "text/plain": [
       "<Figure size 432x288 with 1 Axes>"
      ]
     },
     "metadata": {},
     "output_type": "display_data"
    }
   ],
   "source": [
    "# Bar plot---MAYBE USE STACKED BARPLOT TO BETTER SHOW THIS?\n",
    "ax1 = sellers['impact'].value_counts().plot.barh()\n",
    "ax1.set_ylabel('Impact on Olist Profits')\n",
    "ax1.set_xlabel('Number of Sellers');"
   ]
  },
  {
   "cell_type": "markdown",
   "metadata": {},
   "source": [
    "From our bar plot and stats summary, we see that there are **276 sellers** (or roughly 10% of all sellers) who negatively impact Olist profits."
   ]
  },
  {
   "cell_type": "markdown",
   "metadata": {},
   "source": [
    "#### Impact on Olist profits if poor performing sellers removed"
   ]
  },
  {
   "cell_type": "markdown",
   "metadata": {
    "slideshow": {
     "slide_type": "skip"
    }
   },
   "source": [
    "# STEP 2: SORT SELLERS\n",
    "Step ② We can then sort sellers by increasing profits for Olist, and for each number of sellers to remove, \n",
    "compute the financial impact it would have made had they never been accepted on the platform. \n",
    "We may find an optimal number of sellers to remove that maximizes Olist's profit margin\n"
   ]
  },
  {
   "cell_type": "code",
   "execution_count": null,
   "metadata": {},
   "outputs": [],
   "source": [
    "#---Probably not needed\n",
    "# number of sellers that are a cost (negative profits) on Olist\n",
    "# sellers_neg_profits = sellers.loc[sellers['profit_per_seller']<0].shape[0]\n",
    "# sellers_neg_profits"
   ]
  },
  {
   "cell_type": "markdown",
   "metadata": {},
   "source": [
    "NEW SECTION\n",
    "\n",
    "Let's see what Olist profits would like like if these sellers were removed. One approach is to create a 'whale' curve which shows the percentage of our sellers that represent 'x' percentage of cumulative profits. \n",
    "\n",
    "\n"
   ]
  },
  {
   "cell_type": "code",
   "execution_count": 77,
   "metadata": {
    "slideshow": {
     "slide_type": "skip"
    }
   },
   "outputs": [
    {
     "data": {
      "text/html": [
       "<div>\n",
       "<style scoped>\n",
       "    .dataframe tbody tr th:only-of-type {\n",
       "        vertical-align: middle;\n",
       "    }\n",
       "\n",
       "    .dataframe tbody tr th {\n",
       "        vertical-align: top;\n",
       "    }\n",
       "\n",
       "    .dataframe thead th {\n",
       "        text-align: right;\n",
       "    }\n",
       "</style>\n",
       "<table border=\"1\" class=\"dataframe\">\n",
       "  <thead>\n",
       "    <tr style=\"text-align: right;\">\n",
       "      <th></th>\n",
       "      <th>seller_id</th>\n",
       "      <th>seller_city</th>\n",
       "      <th>seller_state</th>\n",
       "      <th>delay_to_carrier</th>\n",
       "      <th>seller_wait_time</th>\n",
       "      <th>date_first_sale</th>\n",
       "      <th>date_last_sale</th>\n",
       "      <th>months_on_olist</th>\n",
       "      <th>share_of_one_stars</th>\n",
       "      <th>share_of_five_stars</th>\n",
       "      <th>...</th>\n",
       "      <th>n_orders</th>\n",
       "      <th>quantity</th>\n",
       "      <th>quantity_per_order</th>\n",
       "      <th>sales</th>\n",
       "      <th>revenue_per_seller</th>\n",
       "      <th>profit_per_seller</th>\n",
       "      <th>impact</th>\n",
       "      <th>accumulated_profits</th>\n",
       "      <th>percent_profits</th>\n",
       "      <th>seller_proportion</th>\n",
       "    </tr>\n",
       "  </thead>\n",
       "  <tbody>\n",
       "    <tr>\n",
       "      <th>2950</th>\n",
       "      <td>92eb0f42c21942b6552362b9b114707d</td>\n",
       "      <td>sao paulo</td>\n",
       "      <td>SP</td>\n",
       "      <td>0.000000</td>\n",
       "      <td>13.478277</td>\n",
       "      <td>2017-02-05 19:01:53</td>\n",
       "      <td>2018-08-23 19:05:26</td>\n",
       "      <td>19.0</td>\n",
       "      <td>0.126100</td>\n",
       "      <td>0.513196</td>\n",
       "      <td>...</td>\n",
       "      <td>341</td>\n",
       "      <td>365</td>\n",
       "      <td>1.070381</td>\n",
       "      <td>6548.63</td>\n",
       "      <td>2174.863</td>\n",
       "      <td>-3985.137</td>\n",
       "      <td>negative</td>\n",
       "      <td>1435993.874</td>\n",
       "      <td>114.017970</td>\n",
       "      <td>99.360269</td>\n",
       "    </tr>\n",
       "    <tr>\n",
       "      <th>2951</th>\n",
       "      <td>d91fb3b7d041e83b64a00a3edfb37e4f</td>\n",
       "      <td>praia grande</td>\n",
       "      <td>SP</td>\n",
       "      <td>0.000000</td>\n",
       "      <td>11.286406</td>\n",
       "      <td>2017-02-09 02:43:25</td>\n",
       "      <td>2018-08-24 18:15:09</td>\n",
       "      <td>19.0</td>\n",
       "      <td>0.124113</td>\n",
       "      <td>0.585106</td>\n",
       "      <td>...</td>\n",
       "      <td>535</td>\n",
       "      <td>565</td>\n",
       "      <td>1.056075</td>\n",
       "      <td>40889.74</td>\n",
       "      <td>5608.974</td>\n",
       "      <td>-4031.026</td>\n",
       "      <td>negative</td>\n",
       "      <td>1431962.848</td>\n",
       "      <td>113.697906</td>\n",
       "      <td>99.393939</td>\n",
       "    </tr>\n",
       "    <tr>\n",
       "      <th>2952</th>\n",
       "      <td>88460e8ebdecbfecb5f9601833981930</td>\n",
       "      <td>maringa</td>\n",
       "      <td>PR</td>\n",
       "      <td>0.690747</td>\n",
       "      <td>18.267569</td>\n",
       "      <td>2017-11-21 17:58:25</td>\n",
       "      <td>2018-08-17 07:10:36</td>\n",
       "      <td>9.0</td>\n",
       "      <td>0.271654</td>\n",
       "      <td>0.409449</td>\n",
       "      <td>...</td>\n",
       "      <td>248</td>\n",
       "      <td>311</td>\n",
       "      <td>1.254032</td>\n",
       "      <td>31546.55</td>\n",
       "      <td>3874.655</td>\n",
       "      <td>-4485.345</td>\n",
       "      <td>negative</td>\n",
       "      <td>1427477.503</td>\n",
       "      <td>113.341770</td>\n",
       "      <td>99.427609</td>\n",
       "    </tr>\n",
       "    <tr>\n",
       "      <th>2953</th>\n",
       "      <td>3d871de0142ce09b7081e2b9d1733cb1</td>\n",
       "      <td>campo limpo paulista</td>\n",
       "      <td>SP</td>\n",
       "      <td>0.000000</td>\n",
       "      <td>13.420825</td>\n",
       "      <td>2017-03-06 02:05:14</td>\n",
       "      <td>2018-08-28 04:10:19</td>\n",
       "      <td>18.0</td>\n",
       "      <td>0.089732</td>\n",
       "      <td>0.560592</td>\n",
       "      <td>...</td>\n",
       "      <td>1080</td>\n",
       "      <td>1148</td>\n",
       "      <td>1.062963</td>\n",
       "      <td>94914.20</td>\n",
       "      <td>10931.420</td>\n",
       "      <td>-4528.580</td>\n",
       "      <td>negative</td>\n",
       "      <td>1422948.923</td>\n",
       "      <td>112.982200</td>\n",
       "      <td>99.461279</td>\n",
       "    </tr>\n",
       "    <tr>\n",
       "      <th>2954</th>\n",
       "      <td>128639473a139ac0f3e5f5ade55873a5</td>\n",
       "      <td>maringa</td>\n",
       "      <td>PR</td>\n",
       "      <td>0.000000</td>\n",
       "      <td>14.412933</td>\n",
       "      <td>2017-05-12 23:25:11</td>\n",
       "      <td>2018-08-21 04:35:32</td>\n",
       "      <td>16.0</td>\n",
       "      <td>0.080675</td>\n",
       "      <td>0.570356</td>\n",
       "      <td>...</td>\n",
       "      <td>533</td>\n",
       "      <td>560</td>\n",
       "      <td>1.050657</td>\n",
       "      <td>11908.85</td>\n",
       "      <td>2470.885</td>\n",
       "      <td>-4739.115</td>\n",
       "      <td>negative</td>\n",
       "      <td>1418209.808</td>\n",
       "      <td>112.605914</td>\n",
       "      <td>99.494949</td>\n",
       "    </tr>\n",
       "    <tr>\n",
       "      <th>2955</th>\n",
       "      <td>897060da8b9a21f655304d50fd935913</td>\n",
       "      <td>ribeirao preto</td>\n",
       "      <td>SP</td>\n",
       "      <td>0.000000</td>\n",
       "      <td>14.862096</td>\n",
       "      <td>2016-10-05 03:08:27</td>\n",
       "      <td>2018-06-14 15:38:55</td>\n",
       "      <td>21.0</td>\n",
       "      <td>0.209375</td>\n",
       "      <td>0.431250</td>\n",
       "      <td>...</td>\n",
       "      <td>317</td>\n",
       "      <td>434</td>\n",
       "      <td>1.369085</td>\n",
       "      <td>23023.92</td>\n",
       "      <td>3982.392</td>\n",
       "      <td>-4777.608</td>\n",
       "      <td>negative</td>\n",
       "      <td>1413432.200</td>\n",
       "      <td>112.226572</td>\n",
       "      <td>99.528620</td>\n",
       "    </tr>\n",
       "    <tr>\n",
       "      <th>2956</th>\n",
       "      <td>2138ccb85b11a4ec1e37afbd1c8eda1f</td>\n",
       "      <td>sao paulo</td>\n",
       "      <td>SP</td>\n",
       "      <td>0.000000</td>\n",
       "      <td>11.263820</td>\n",
       "      <td>2016-10-06 03:10:33</td>\n",
       "      <td>2018-08-28 13:44:54</td>\n",
       "      <td>23.0</td>\n",
       "      <td>0.148615</td>\n",
       "      <td>0.539043</td>\n",
       "      <td>...</td>\n",
       "      <td>396</td>\n",
       "      <td>430</td>\n",
       "      <td>1.085859</td>\n",
       "      <td>12357.03</td>\n",
       "      <td>3075.703</td>\n",
       "      <td>-5074.297</td>\n",
       "      <td>negative</td>\n",
       "      <td>1408357.903</td>\n",
       "      <td>111.823673</td>\n",
       "      <td>99.562290</td>\n",
       "    </tr>\n",
       "    <tr>\n",
       "      <th>2957</th>\n",
       "      <td>1ca7077d890b907f89be8c954a02686a</td>\n",
       "      <td>santana de parnaiba</td>\n",
       "      <td>SP</td>\n",
       "      <td>0.000000</td>\n",
       "      <td>15.028811</td>\n",
       "      <td>2017-09-15 14:10:19</td>\n",
       "      <td>2018-04-10 22:29:39</td>\n",
       "      <td>7.0</td>\n",
       "      <td>0.539130</td>\n",
       "      <td>0.200000</td>\n",
       "      <td>...</td>\n",
       "      <td>115</td>\n",
       "      <td>137</td>\n",
       "      <td>1.191304</td>\n",
       "      <td>13341.57</td>\n",
       "      <td>1894.157</td>\n",
       "      <td>-5235.843</td>\n",
       "      <td>negative</td>\n",
       "      <td>1403122.060</td>\n",
       "      <td>111.407946</td>\n",
       "      <td>99.595960</td>\n",
       "    </tr>\n",
       "    <tr>\n",
       "      <th>2958</th>\n",
       "      <td>1900267e848ceeba8fa32d80c1a5f5a8</td>\n",
       "      <td>ibitinga</td>\n",
       "      <td>SP</td>\n",
       "      <td>0.000000</td>\n",
       "      <td>12.795229</td>\n",
       "      <td>2017-05-19 11:05:17</td>\n",
       "      <td>2018-08-26 20:24:09</td>\n",
       "      <td>16.0</td>\n",
       "      <td>0.154589</td>\n",
       "      <td>0.490338</td>\n",
       "      <td>...</td>\n",
       "      <td>411</td>\n",
       "      <td>532</td>\n",
       "      <td>1.294404</td>\n",
       "      <td>24982.53</td>\n",
       "      <td>3778.253</td>\n",
       "      <td>-5661.747</td>\n",
       "      <td>negative</td>\n",
       "      <td>1397460.313</td>\n",
       "      <td>110.958403</td>\n",
       "      <td>99.629630</td>\n",
       "    </tr>\n",
       "    <tr>\n",
       "      <th>2959</th>\n",
       "      <td>2eb70248d66e0e3ef83659f71b244378</td>\n",
       "      <td>campinas</td>\n",
       "      <td>SP</td>\n",
       "      <td>0.000000</td>\n",
       "      <td>17.974677</td>\n",
       "      <td>2018-02-07 11:55:46</td>\n",
       "      <td>2018-07-19 00:55:28</td>\n",
       "      <td>6.0</td>\n",
       "      <td>0.413793</td>\n",
       "      <td>0.231527</td>\n",
       "      <td>...</td>\n",
       "      <td>202</td>\n",
       "      <td>213</td>\n",
       "      <td>1.054455</td>\n",
       "      <td>42628.61</td>\n",
       "      <td>4742.861</td>\n",
       "      <td>-5737.139</td>\n",
       "      <td>negative</td>\n",
       "      <td>1391723.174</td>\n",
       "      <td>110.502874</td>\n",
       "      <td>99.663300</td>\n",
       "    </tr>\n",
       "    <tr>\n",
       "      <th>2960</th>\n",
       "      <td>1835b56ce799e6a4dc4eddc053f04066</td>\n",
       "      <td>ibitinga</td>\n",
       "      <td>SP</td>\n",
       "      <td>0.000000</td>\n",
       "      <td>12.770314</td>\n",
       "      <td>2017-09-05 23:15:10</td>\n",
       "      <td>2018-08-25 16:50:21</td>\n",
       "      <td>12.0</td>\n",
       "      <td>0.211765</td>\n",
       "      <td>0.444706</td>\n",
       "      <td>...</td>\n",
       "      <td>423</td>\n",
       "      <td>560</td>\n",
       "      <td>1.323877</td>\n",
       "      <td>33344.21</td>\n",
       "      <td>4294.421</td>\n",
       "      <td>-7435.579</td>\n",
       "      <td>negative</td>\n",
       "      <td>1384287.595</td>\n",
       "      <td>109.912489</td>\n",
       "      <td>99.696970</td>\n",
       "    </tr>\n",
       "    <tr>\n",
       "      <th>2961</th>\n",
       "      <td>7c67e1448b00f6e969d365cea6b010ab</td>\n",
       "      <td>itaquaquecetuba</td>\n",
       "      <td>SP</td>\n",
       "      <td>0.000000</td>\n",
       "      <td>22.392546</td>\n",
       "      <td>2017-01-26 22:55:10</td>\n",
       "      <td>2018-08-08 03:10:34</td>\n",
       "      <td>19.0</td>\n",
       "      <td>0.200405</td>\n",
       "      <td>0.350202</td>\n",
       "      <td>...</td>\n",
       "      <td>982</td>\n",
       "      <td>1375</td>\n",
       "      <td>1.400204</td>\n",
       "      <td>187923.89</td>\n",
       "      <td>20312.389</td>\n",
       "      <td>-8217.611</td>\n",
       "      <td>negative</td>\n",
       "      <td>1376069.984</td>\n",
       "      <td>109.260011</td>\n",
       "      <td>99.730640</td>\n",
       "    </tr>\n",
       "    <tr>\n",
       "      <th>2962</th>\n",
       "      <td>cca3071e3e9bb7d12640c9fbe2301306</td>\n",
       "      <td>ibitinga</td>\n",
       "      <td>SP</td>\n",
       "      <td>0.000000</td>\n",
       "      <td>14.242646</td>\n",
       "      <td>2016-10-04 10:28:07</td>\n",
       "      <td>2018-08-22 23:05:18</td>\n",
       "      <td>23.0</td>\n",
       "      <td>0.153846</td>\n",
       "      <td>0.497253</td>\n",
       "      <td>...</td>\n",
       "      <td>712</td>\n",
       "      <td>849</td>\n",
       "      <td>1.192416</td>\n",
       "      <td>64009.89</td>\n",
       "      <td>8240.989</td>\n",
       "      <td>-8249.011</td>\n",
       "      <td>negative</td>\n",
       "      <td>1367820.973</td>\n",
       "      <td>108.605039</td>\n",
       "      <td>99.764310</td>\n",
       "    </tr>\n",
       "    <tr>\n",
       "      <th>2963</th>\n",
       "      <td>d2374cbcbb3ca4ab1086534108cc3ab7</td>\n",
       "      <td>ibitinga</td>\n",
       "      <td>SP</td>\n",
       "      <td>0.000000</td>\n",
       "      <td>14.297115</td>\n",
       "      <td>2017-02-10 15:50:20</td>\n",
       "      <td>2018-08-22 04:04:20</td>\n",
       "      <td>19.0</td>\n",
       "      <td>0.155844</td>\n",
       "      <td>0.454545</td>\n",
       "      <td>...</td>\n",
       "      <td>524</td>\n",
       "      <td>658</td>\n",
       "      <td>1.255725</td>\n",
       "      <td>21223.92</td>\n",
       "      <td>3642.392</td>\n",
       "      <td>-9427.608</td>\n",
       "      <td>negative</td>\n",
       "      <td>1358393.365</td>\n",
       "      <td>107.856486</td>\n",
       "      <td>99.797980</td>\n",
       "    </tr>\n",
       "    <tr>\n",
       "      <th>2964</th>\n",
       "      <td>1f50f920176fa81dab994f9023523100</td>\n",
       "      <td>sao jose do rio preto</td>\n",
       "      <td>SP</td>\n",
       "      <td>0.000000</td>\n",
       "      <td>15.571831</td>\n",
       "      <td>2017-04-03 22:15:14</td>\n",
       "      <td>2018-08-28 03:45:18</td>\n",
       "      <td>17.0</td>\n",
       "      <td>0.113556</td>\n",
       "      <td>0.598297</td>\n",
       "      <td>...</td>\n",
       "      <td>1404</td>\n",
       "      <td>1940</td>\n",
       "      <td>1.381766</td>\n",
       "      <td>106939.21</td>\n",
       "      <td>12053.921</td>\n",
       "      <td>-10216.079</td>\n",
       "      <td>negative</td>\n",
       "      <td>1348177.286</td>\n",
       "      <td>107.045329</td>\n",
       "      <td>99.831650</td>\n",
       "    </tr>\n",
       "    <tr>\n",
       "      <th>2965</th>\n",
       "      <td>8b321bb669392f5163d04c59e235e066</td>\n",
       "      <td>sao paulo</td>\n",
       "      <td>SP</td>\n",
       "      <td>0.000000</td>\n",
       "      <td>12.616899</td>\n",
       "      <td>2017-10-27 16:31:30</td>\n",
       "      <td>2018-08-21 17:08:38</td>\n",
       "      <td>10.0</td>\n",
       "      <td>0.118770</td>\n",
       "      <td>0.567338</td>\n",
       "      <td>...</td>\n",
       "      <td>943</td>\n",
       "      <td>1018</td>\n",
       "      <td>1.079533</td>\n",
       "      <td>17535.69</td>\n",
       "      <td>2553.569</td>\n",
       "      <td>-13066.431</td>\n",
       "      <td>negative</td>\n",
       "      <td>1335110.855</td>\n",
       "      <td>106.007854</td>\n",
       "      <td>99.865320</td>\n",
       "    </tr>\n",
       "    <tr>\n",
       "      <th>2966</th>\n",
       "      <td>ea8482cd71df3c1969d7b9473ff13abc</td>\n",
       "      <td>sao paulo</td>\n",
       "      <td>SP</td>\n",
       "      <td>0.000000</td>\n",
       "      <td>13.315562</td>\n",
       "      <td>2017-08-16 15:15:26</td>\n",
       "      <td>2018-08-25 02:45:21</td>\n",
       "      <td>13.0</td>\n",
       "      <td>0.116827</td>\n",
       "      <td>0.524847</td>\n",
       "      <td>...</td>\n",
       "      <td>1146</td>\n",
       "      <td>1204</td>\n",
       "      <td>1.050611</td>\n",
       "      <td>37177.52</td>\n",
       "      <td>4757.752</td>\n",
       "      <td>-15952.248</td>\n",
       "      <td>negative</td>\n",
       "      <td>1319158.607</td>\n",
       "      <td>104.741245</td>\n",
       "      <td>99.898990</td>\n",
       "    </tr>\n",
       "    <tr>\n",
       "      <th>2967</th>\n",
       "      <td>cc419e0650a3c5ba77189a1882b7556a</td>\n",
       "      <td>santo andre</td>\n",
       "      <td>SP</td>\n",
       "      <td>0.000000</td>\n",
       "      <td>11.539753</td>\n",
       "      <td>2017-02-02 17:10:21</td>\n",
       "      <td>2018-08-28 03:45:15</td>\n",
       "      <td>19.0</td>\n",
       "      <td>0.117277</td>\n",
       "      <td>0.581808</td>\n",
       "      <td>...</td>\n",
       "      <td>1706</td>\n",
       "      <td>1819</td>\n",
       "      <td>1.066237</td>\n",
       "      <td>104288.42</td>\n",
       "      <td>11948.842</td>\n",
       "      <td>-18051.158</td>\n",
       "      <td>negative</td>\n",
       "      <td>1301107.449</td>\n",
       "      <td>103.307982</td>\n",
       "      <td>99.932660</td>\n",
       "    </tr>\n",
       "    <tr>\n",
       "      <th>2968</th>\n",
       "      <td>4a3ca9315b744ce9f8e9374361493884</td>\n",
       "      <td>ibitinga</td>\n",
       "      <td>SP</td>\n",
       "      <td>0.000000</td>\n",
       "      <td>14.416471</td>\n",
       "      <td>2017-01-08 09:45:12</td>\n",
       "      <td>2018-08-27 11:04:18</td>\n",
       "      <td>20.0</td>\n",
       "      <td>0.147640</td>\n",
       "      <td>0.476948</td>\n",
       "      <td>...</td>\n",
       "      <td>1806</td>\n",
       "      <td>2009</td>\n",
       "      <td>1.112403</td>\n",
       "      <td>200472.92</td>\n",
       "      <td>21647.292</td>\n",
       "      <td>-19242.708</td>\n",
       "      <td>negative</td>\n",
       "      <td>1281864.741</td>\n",
       "      <td>101.780111</td>\n",
       "      <td>99.966330</td>\n",
       "    </tr>\n",
       "    <tr>\n",
       "      <th>2969</th>\n",
       "      <td>6560211a19b47992c3666cc44a7e94c0</td>\n",
       "      <td>sao paulo</td>\n",
       "      <td>SP</td>\n",
       "      <td>0.000000</td>\n",
       "      <td>9.539486</td>\n",
       "      <td>2017-02-17 07:45:11</td>\n",
       "      <td>2018-08-29 09:25:12</td>\n",
       "      <td>19.0</td>\n",
       "      <td>0.127957</td>\n",
       "      <td>0.510215</td>\n",
       "      <td>...</td>\n",
       "      <td>1854</td>\n",
       "      <td>2039</td>\n",
       "      <td>1.099784</td>\n",
       "      <td>123304.83</td>\n",
       "      <td>13850.483</td>\n",
       "      <td>-22419.517</td>\n",
       "      <td>negative</td>\n",
       "      <td>1259445.224</td>\n",
       "      <td>100.000000</td>\n",
       "      <td>100.000000</td>\n",
       "    </tr>\n",
       "  </tbody>\n",
       "</table>\n",
       "<p>20 rows × 22 columns</p>\n",
       "</div>"
      ],
      "text/plain": [
       "                             seller_id            seller_city seller_state  \\\n",
       "2950  92eb0f42c21942b6552362b9b114707d              sao paulo           SP   \n",
       "2951  d91fb3b7d041e83b64a00a3edfb37e4f           praia grande           SP   \n",
       "2952  88460e8ebdecbfecb5f9601833981930                maringa           PR   \n",
       "2953  3d871de0142ce09b7081e2b9d1733cb1   campo limpo paulista           SP   \n",
       "2954  128639473a139ac0f3e5f5ade55873a5                maringa           PR   \n",
       "2955  897060da8b9a21f655304d50fd935913         ribeirao preto           SP   \n",
       "2956  2138ccb85b11a4ec1e37afbd1c8eda1f              sao paulo           SP   \n",
       "2957  1ca7077d890b907f89be8c954a02686a    santana de parnaiba           SP   \n",
       "2958  1900267e848ceeba8fa32d80c1a5f5a8               ibitinga           SP   \n",
       "2959  2eb70248d66e0e3ef83659f71b244378               campinas           SP   \n",
       "2960  1835b56ce799e6a4dc4eddc053f04066               ibitinga           SP   \n",
       "2961  7c67e1448b00f6e969d365cea6b010ab        itaquaquecetuba           SP   \n",
       "2962  cca3071e3e9bb7d12640c9fbe2301306               ibitinga           SP   \n",
       "2963  d2374cbcbb3ca4ab1086534108cc3ab7               ibitinga           SP   \n",
       "2964  1f50f920176fa81dab994f9023523100  sao jose do rio preto           SP   \n",
       "2965  8b321bb669392f5163d04c59e235e066              sao paulo           SP   \n",
       "2966  ea8482cd71df3c1969d7b9473ff13abc              sao paulo           SP   \n",
       "2967  cc419e0650a3c5ba77189a1882b7556a            santo andre           SP   \n",
       "2968  4a3ca9315b744ce9f8e9374361493884               ibitinga           SP   \n",
       "2969  6560211a19b47992c3666cc44a7e94c0              sao paulo           SP   \n",
       "\n",
       "      delay_to_carrier  seller_wait_time     date_first_sale  \\\n",
       "2950          0.000000         13.478277 2017-02-05 19:01:53   \n",
       "2951          0.000000         11.286406 2017-02-09 02:43:25   \n",
       "2952          0.690747         18.267569 2017-11-21 17:58:25   \n",
       "2953          0.000000         13.420825 2017-03-06 02:05:14   \n",
       "2954          0.000000         14.412933 2017-05-12 23:25:11   \n",
       "2955          0.000000         14.862096 2016-10-05 03:08:27   \n",
       "2956          0.000000         11.263820 2016-10-06 03:10:33   \n",
       "2957          0.000000         15.028811 2017-09-15 14:10:19   \n",
       "2958          0.000000         12.795229 2017-05-19 11:05:17   \n",
       "2959          0.000000         17.974677 2018-02-07 11:55:46   \n",
       "2960          0.000000         12.770314 2017-09-05 23:15:10   \n",
       "2961          0.000000         22.392546 2017-01-26 22:55:10   \n",
       "2962          0.000000         14.242646 2016-10-04 10:28:07   \n",
       "2963          0.000000         14.297115 2017-02-10 15:50:20   \n",
       "2964          0.000000         15.571831 2017-04-03 22:15:14   \n",
       "2965          0.000000         12.616899 2017-10-27 16:31:30   \n",
       "2966          0.000000         13.315562 2017-08-16 15:15:26   \n",
       "2967          0.000000         11.539753 2017-02-02 17:10:21   \n",
       "2968          0.000000         14.416471 2017-01-08 09:45:12   \n",
       "2969          0.000000          9.539486 2017-02-17 07:45:11   \n",
       "\n",
       "          date_last_sale  months_on_olist  share_of_one_stars  \\\n",
       "2950 2018-08-23 19:05:26             19.0            0.126100   \n",
       "2951 2018-08-24 18:15:09             19.0            0.124113   \n",
       "2952 2018-08-17 07:10:36              9.0            0.271654   \n",
       "2953 2018-08-28 04:10:19             18.0            0.089732   \n",
       "2954 2018-08-21 04:35:32             16.0            0.080675   \n",
       "2955 2018-06-14 15:38:55             21.0            0.209375   \n",
       "2956 2018-08-28 13:44:54             23.0            0.148615   \n",
       "2957 2018-04-10 22:29:39              7.0            0.539130   \n",
       "2958 2018-08-26 20:24:09             16.0            0.154589   \n",
       "2959 2018-07-19 00:55:28              6.0            0.413793   \n",
       "2960 2018-08-25 16:50:21             12.0            0.211765   \n",
       "2961 2018-08-08 03:10:34             19.0            0.200405   \n",
       "2962 2018-08-22 23:05:18             23.0            0.153846   \n",
       "2963 2018-08-22 04:04:20             19.0            0.155844   \n",
       "2964 2018-08-28 03:45:18             17.0            0.113556   \n",
       "2965 2018-08-21 17:08:38             10.0            0.118770   \n",
       "2966 2018-08-25 02:45:21             13.0            0.116827   \n",
       "2967 2018-08-28 03:45:15             19.0            0.117277   \n",
       "2968 2018-08-27 11:04:18             20.0            0.147640   \n",
       "2969 2018-08-29 09:25:12             19.0            0.127957   \n",
       "\n",
       "      share_of_five_stars  ...  n_orders  quantity  quantity_per_order  \\\n",
       "2950             0.513196  ...       341       365            1.070381   \n",
       "2951             0.585106  ...       535       565            1.056075   \n",
       "2952             0.409449  ...       248       311            1.254032   \n",
       "2953             0.560592  ...      1080      1148            1.062963   \n",
       "2954             0.570356  ...       533       560            1.050657   \n",
       "2955             0.431250  ...       317       434            1.369085   \n",
       "2956             0.539043  ...       396       430            1.085859   \n",
       "2957             0.200000  ...       115       137            1.191304   \n",
       "2958             0.490338  ...       411       532            1.294404   \n",
       "2959             0.231527  ...       202       213            1.054455   \n",
       "2960             0.444706  ...       423       560            1.323877   \n",
       "2961             0.350202  ...       982      1375            1.400204   \n",
       "2962             0.497253  ...       712       849            1.192416   \n",
       "2963             0.454545  ...       524       658            1.255725   \n",
       "2964             0.598297  ...      1404      1940            1.381766   \n",
       "2965             0.567338  ...       943      1018            1.079533   \n",
       "2966             0.524847  ...      1146      1204            1.050611   \n",
       "2967             0.581808  ...      1706      1819            1.066237   \n",
       "2968             0.476948  ...      1806      2009            1.112403   \n",
       "2969             0.510215  ...      1854      2039            1.099784   \n",
       "\n",
       "          sales  revenue_per_seller  profit_per_seller    impact  \\\n",
       "2950    6548.63            2174.863          -3985.137  negative   \n",
       "2951   40889.74            5608.974          -4031.026  negative   \n",
       "2952   31546.55            3874.655          -4485.345  negative   \n",
       "2953   94914.20           10931.420          -4528.580  negative   \n",
       "2954   11908.85            2470.885          -4739.115  negative   \n",
       "2955   23023.92            3982.392          -4777.608  negative   \n",
       "2956   12357.03            3075.703          -5074.297  negative   \n",
       "2957   13341.57            1894.157          -5235.843  negative   \n",
       "2958   24982.53            3778.253          -5661.747  negative   \n",
       "2959   42628.61            4742.861          -5737.139  negative   \n",
       "2960   33344.21            4294.421          -7435.579  negative   \n",
       "2961  187923.89           20312.389          -8217.611  negative   \n",
       "2962   64009.89            8240.989          -8249.011  negative   \n",
       "2963   21223.92            3642.392          -9427.608  negative   \n",
       "2964  106939.21           12053.921         -10216.079  negative   \n",
       "2965   17535.69            2553.569         -13066.431  negative   \n",
       "2966   37177.52            4757.752         -15952.248  negative   \n",
       "2967  104288.42           11948.842         -18051.158  negative   \n",
       "2968  200472.92           21647.292         -19242.708  negative   \n",
       "2969  123304.83           13850.483         -22419.517  negative   \n",
       "\n",
       "      accumulated_profits percent_profits  seller_proportion  \n",
       "2950          1435993.874      114.017970          99.360269  \n",
       "2951          1431962.848      113.697906          99.393939  \n",
       "2952          1427477.503      113.341770          99.427609  \n",
       "2953          1422948.923      112.982200          99.461279  \n",
       "2954          1418209.808      112.605914          99.494949  \n",
       "2955          1413432.200      112.226572          99.528620  \n",
       "2956          1408357.903      111.823673          99.562290  \n",
       "2957          1403122.060      111.407946          99.595960  \n",
       "2958          1397460.313      110.958403          99.629630  \n",
       "2959          1391723.174      110.502874          99.663300  \n",
       "2960          1384287.595      109.912489          99.696970  \n",
       "2961          1376069.984      109.260011          99.730640  \n",
       "2962          1367820.973      108.605039          99.764310  \n",
       "2963          1358393.365      107.856486          99.797980  \n",
       "2964          1348177.286      107.045329          99.831650  \n",
       "2965          1335110.855      106.007854          99.865320  \n",
       "2966          1319158.607      104.741245          99.898990  \n",
       "2967          1301107.449      103.307982          99.932660  \n",
       "2968          1281864.741      101.780111          99.966330  \n",
       "2969          1259445.224      100.000000         100.000000  \n",
       "\n",
       "[20 rows x 22 columns]"
      ]
     },
     "execution_count": 77,
     "metadata": {},
     "output_type": "execute_result"
    }
   ],
   "source": [
    "# Sort sellers by how much profit each contributes to Olist (from most to least)\n",
    "sellers.sort_values('profit_per_seller', ignore_index=True, inplace=True, ascending=False)\n",
    "\n",
    "# Calculate cumulative profits to Olist with each additional seller (sorted from most to least)\n",
    "sellers['accumulated_profits'] = sellers['profit_per_seller'].cumsum()\n",
    "sellers.tail(20)"
   ]
  },
  {
   "cell_type": "code",
   "execution_count": 32,
   "metadata": {
    "slideshow": {
     "slide_type": "skip"
    }
   },
   "outputs": [
    {
     "data": {
      "text/plain": [
       "1259445.2239999846"
      ]
     },
     "execution_count": 32,
     "metadata": {},
     "output_type": "execute_result"
    }
   ],
   "source": [
    "# total profits for Olist\n",
    "total_profits = sellers['accumulated_profits'].iloc[-1]\n",
    "total_profits"
   ]
  },
  {
   "cell_type": "code",
   "execution_count": 82,
   "metadata": {
    "scrolled": true
   },
   "outputs": [
    {
     "data": {
      "text/html": [
       "<div>\n",
       "<style scoped>\n",
       "    .dataframe tbody tr th:only-of-type {\n",
       "        vertical-align: middle;\n",
       "    }\n",
       "\n",
       "    .dataframe tbody tr th {\n",
       "        vertical-align: top;\n",
       "    }\n",
       "\n",
       "    .dataframe thead th {\n",
       "        text-align: right;\n",
       "    }\n",
       "</style>\n",
       "<table border=\"1\" class=\"dataframe\">\n",
       "  <thead>\n",
       "    <tr style=\"text-align: right;\">\n",
       "      <th></th>\n",
       "      <th>seller_id</th>\n",
       "      <th>percent_profits</th>\n",
       "      <th>seller_proportion</th>\n",
       "    </tr>\n",
       "  </thead>\n",
       "  <tbody>\n",
       "    <tr>\n",
       "      <th>0</th>\n",
       "      <td>53243585a1d6dc2643021fd1853d8905</td>\n",
       "      <td>1.426629</td>\n",
       "      <td>0.03367</td>\n",
       "    </tr>\n",
       "    <tr>\n",
       "      <th>1</th>\n",
       "      <td>7e93a43ef30c4f03f38b393420bc753a</td>\n",
       "      <td>2.586122</td>\n",
       "      <td>0.06734</td>\n",
       "    </tr>\n",
       "    <tr>\n",
       "      <th>2</th>\n",
       "      <td>fa1c13f2614d7b5c4749cbc52fecda94</td>\n",
       "      <td>3.717906</td>\n",
       "      <td>0.10101</td>\n",
       "    </tr>\n",
       "    <tr>\n",
       "      <th>3</th>\n",
       "      <td>edb1ef5e36e0c8cd84eb3c9b003e486d</td>\n",
       "      <td>4.296610</td>\n",
       "      <td>0.13468</td>\n",
       "    </tr>\n",
       "    <tr>\n",
       "      <th>4</th>\n",
       "      <td>ccc4bbb5f32a6ab2b7066a4130f114e3</td>\n",
       "      <td>4.834979</td>\n",
       "      <td>0.16835</td>\n",
       "    </tr>\n",
       "  </tbody>\n",
       "</table>\n",
       "</div>"
      ],
      "text/plain": [
       "                          seller_id  percent_profits  seller_proportion\n",
       "0  53243585a1d6dc2643021fd1853d8905         1.426629            0.03367\n",
       "1  7e93a43ef30c4f03f38b393420bc753a         2.586122            0.06734\n",
       "2  fa1c13f2614d7b5c4749cbc52fecda94         3.717906            0.10101\n",
       "3  edb1ef5e36e0c8cd84eb3c9b003e486d         4.296610            0.13468\n",
       "4  ccc4bbb5f32a6ab2b7066a4130f114e3         4.834979            0.16835"
      ]
     },
     "execution_count": 82,
     "metadata": {},
     "output_type": "execute_result"
    }
   ],
   "source": [
    "# Calculate percent of profits that each seller contributes\n",
    "sellers['percent_profits'] = sellers['accumulated_profits'].div(total_profits).mul(100)\n",
    "\n",
    "# Calculate the proportion of sellers on platform (in percent) \n",
    "sellers['seller_proportion'] = (sellers.index+1) / sellers.seller_id.count() * 100\n",
    "\n",
    "whale_df = sellers[['seller_id', 'percent_profits', 'seller_proportion']]\n",
    "whale_df.head()"
   ]
  },
  {
   "cell_type": "code",
   "execution_count": 89,
   "metadata": {
    "scrolled": true
   },
   "outputs": [
    {
     "data": {
      "image/png": "[encoded data removed]",
      "text/plain": [
       "<Figure size 1080x432 with 1 Axes>"
      ]
     },
     "metadata": {},
     "output_type": "display_data"
    }
   ],
   "source": [
    "plt.figure(figsize=(15,6))\n",
    "sns.lineplot(data=sellers, x='seller_proportion', y='percent_profits')\n",
    "plt.xlabel('Percentage of Sellers')\n",
    "plt.ylabel('Percentage of Profits');"
   ]
  },
  {
   "cell_type": "markdown",
   "metadata": {},
   "source": [
    "Our whale curve helps to underscore that the poorest performing ~10% of sellers put downward pressure on Olist profits "
   ]
  },
  {
   "cell_type": "code",
   "execution_count": 112,
   "metadata": {},
   "outputs": [
    {
     "data": {
      "text/plain": [
       "-313276.50200000097"
      ]
     },
     "execution_count": 112,
     "metadata": {},
     "output_type": "execute_result"
    }
   ],
   "source": [
    "# Amount of reduction in profits due to poor performers\n",
    "neg_profits = sellers[sellers['impact']=='negative'].profit_per_seller.cumsum()\n",
    "neg_profits.iloc[-1]"
   ]
  },
  {
   "cell_type": "markdown",
   "metadata": {},
   "source": [
    "Let's do a quick bar chart to see the difference in profits without these sellers"
   ]
  },
  {
   "cell_type": "code",
   "execution_count": 124,
   "metadata": {
    "scrolled": true
   },
   "outputs": [
    {
     "data": {
      "image/png": "[encoded data removed]",
      "text/plain": [
       "<Figure size 864x576 with 1 Axes>"
      ]
     },
     "metadata": {},
     "output_type": "display_data"
    }
   ],
   "source": [
    "# Bar chart showing profit comparison after removal of poor sellers\n",
    "\n",
    "plt.figure(figsize=(12,8))\n",
    "x_values = ['Before', 'After']\n",
    "y_values = [sellers.accumulated_profits.iloc[-1], sellers.accumulated_profits.iloc[-1] - neg_profits.iloc[-1]]\n",
    "sns.barplot(data=sellers, x=x_values, y=y_values)\n",
    "plt.ylabel('Profit (in millions of BRL)')\n",
    "plt.ylim(0, 2500000)\n",
    "plt.xlabel('Profit comparison from removing bad sellers');\n",
    "\n",
    "\n"
   ]
  },
  {
   "cell_type": "markdown",
   "metadata": {},
   "source": [
    "If Olist were to drop sellers that had a negative impact on profits, the platform would see an immediate boost in profits of **313,277 BRL** ($58,246 USD) "
   ]
  },
  {
   "cell_type": "markdown",
   "metadata": {},
   "source": [
    "#### What's the impact if we factor in IT costs?"
   ]
  },
  {
   "cell_type": "markdown",
   "metadata": {},
   "source": [
    "FROM PROBLEM STATEMENT\n",
    "\n",
    "In addition, Olist’s IT costs (servers, etc…) increase with the amount of orders processed, albeit less and less rapidly (scale effects).\n",
    "For the sake of simplicity, we will consider Olist’s total cumulated IT Costs to be proportional to the square-root of the total cumulated number of orders approved.\n",
    "#The IT department also told you that since the birth of the marketplace, cumulated IT costs have amounted to 500,000 BRL."
   ]
  },
  {
   "cell_type": "code",
   "execution_count": null,
   "metadata": {
    "slideshow": {
     "slide_type": "skip"
    }
   },
   "outputs": [],
   "source": [
    "#Profits per number of sellers removed [DO AFTER FACTOR IN IT COSTS]\n"
   ]
  },
  {
   "cell_type": "code",
   "execution_count": null,
   "metadata": {
    "slideshow": {
     "slide_type": "skip"
    }
   },
   "outputs": [],
   "source": [
    "sellers.head(5)"
   ]
  },
  {
   "cell_type": "markdown",
   "metadata": {},
   "source": [
    "We are told that IT costs (servers, etc.) increase with the number of orders processed, but due to economies of scale, the marginal cost descrease per order. To keep things simple, we're told that the total cumulated IT costs is proportional to the square-root of the total cumulated number of approved orders. Additionally, the IT department has informed us that so far accumulated IT costs since founding of the company have amounted to 500,000 BRL (~USD 92,930)."
   ]
  },
  {
   "cell_type": "code",
   "execution_count": null,
   "metadata": {
    "slideshow": {
     "slide_type": "skip"
    }
   },
   "outputs": [],
   "source": [
    "#IT Costs \n",
    "#Proportionality coefficient(B) of 0.028 based on integral of B*(n_orders)**1/2 = 500000\n",
    "sellers['accumulated_orders'] = sellers['n_orders'].cumsum()\n",
    "sellers['it_cost'] = (sellers['accumulated_orders']**0.5)*0.028\n",
    "sellers.tail(5)"
   ]
  },
  {
   "cell_type": "code",
   "execution_count": null,
   "metadata": {
    "slideshow": {
     "slide_type": "skip"
    }
   },
   "outputs": [],
   "source": [
    "#IT Unit Cost\n",
    "\n",
    "sellers['it_unit_cost'] = sellers['it_cost'].diff()\n",
    "\n",
    "\n"
   ]
  },
  {
   "cell_type": "code",
   "execution_count": null,
   "metadata": {
    "slideshow": {
     "slide_type": "skip"
    }
   },
   "outputs": [],
   "source": [
    "#Profits per number of sellers removed [DO AFTER FACTOR IN IT COSTS]\n",
    "sellers['olist_profits'] = sellers['profit_per_seller'] - sellers['it_cost']\n",
    "sellers.loc[2680:2690]"
   ]
  },
  {
   "cell_type": "code",
   "execution_count": null,
   "metadata": {
    "slideshow": {
     "slide_type": "skip"
    }
   },
   "outputs": [],
   "source": [
    "sellers['olist_profits'][10:700].plot(figsize=(15,8));"
   ]
  },
  {
   "cell_type": "code",
   "execution_count": null,
   "metadata": {},
   "outputs": [],
   "source": [
    "sellers['olist_profits'].plot(figsize=(15,8));"
   ]
  },
  {
   "cell_type": "code",
   "execution_count": null,
   "metadata": {
    "scrolled": true,
    "slideshow": {
     "slide_type": "skip"
    }
   },
   "outputs": [],
   "source": [
    "sellers.loc[50:100, :]"
   ]
  },
  {
   "cell_type": "code",
   "execution_count": null,
   "metadata": {
    "slideshow": {
     "slide_type": "skip"
    }
   },
   "outputs": [],
   "source": [
    "sellers['n_orders'].sort_values()"
   ]
  },
  {
   "cell_type": "markdown",
   "metadata": {
    "slideshow": {
     "slide_type": "slide"
    }
   },
   "source": [
    "# Recommendation: \n",
    "\n",
    "## Remove poorest performing sellers on Olist platform for immediate profit increase"
   ]
  },
  {
   "cell_type": "markdown",
   "metadata": {
    "slideshow": {
     "slide_type": "slide"
    }
   },
   "source": [
    "## Profit Analysis\n",
    "\n",
    "- 280 poorest-performing sellers have negative impact on profits\n",
    "- Top 100 highest performing sellers comprise bulk of profits"
   ]
  },
  {
   "cell_type": "code",
   "execution_count": null,
   "metadata": {
    "slideshow": {
     "slide_type": "fragment"
    }
   },
   "outputs": [],
   "source": [
    "# If sellers ordered by level of contribution to Olist profits\n",
    "\n",
    "sellers['olist_profits'].plot(figsize=(15,7))\n",
    "plt.xlabel('Number of Sellers')\n",
    "plt.ylabel('Profit (BRL)')\n",
    "plt.show()\n"
   ]
  },
  {
   "cell_type": "markdown",
   "metadata": {
    "slideshow": {
     "slide_type": "subslide"
    }
   },
   "source": [
    "## Profit Analysis\n",
    "\n",
    "- Immediate profit increase of 320K BRL"
   ]
  },
  {
   "cell_type": "code",
   "execution_count": null,
   "metadata": {
    "slideshow": {
     "slide_type": "fragment"
    }
   },
   "outputs": [],
   "source": [
    "x_values = ['Before', 'After']\n",
    "y_values = [1.25, 1.57]\n",
    "plt.bar(x_values, y_values)\n",
    "plt.ylabel('Profit (Millions of BRL)')\n",
    "plt.ylim(0, 2)\n",
    "plt.show()\n"
   ]
  },
  {
   "cell_type": "markdown",
   "metadata": {
    "slideshow": {
     "slide_type": "slide"
    }
   },
   "source": [
    "## IT Cost Concerns \n",
    "\n",
    "- Increase in marginal costs due to drop in sellers negligible\n",
    "- Some poorest-performing sellers contribute to larger share of IT cost burden\n"
   ]
  },
  {
   "cell_type": "code",
   "execution_count": null,
   "metadata": {
    "slideshow": {
     "slide_type": "fragment"
    }
   },
   "outputs": [],
   "source": [
    "sellers['it_cost'].plot(figsize=(15,7))\n",
    "plt.xlabel('Number of Sellers')\n",
    "plt.ylabel('IT Cost per Seller (BRL)')\n",
    "plt.show()\n"
   ]
  },
  {
   "cell_type": "code",
   "execution_count": null,
   "metadata": {
    "slideshow": {
     "slide_type": "skip"
    }
   },
   "outputs": [],
   "source": [
    "sellers['it_cost'][10:700].plot()"
   ]
  },
  {
   "cell_type": "code",
   "execution_count": null,
   "metadata": {
    "slideshow": {
     "slide_type": "skip"
    }
   },
   "outputs": [],
   "source": [
    "ax1 = sellers['it_cost'].plot()\n",
    "ax1.set(xlim=[0,3000], ylim=[-1000,2000])\n",
    "\n",
    "ax2 = sellers['olist_profits'].plot()\n",
    "ax2.set(xlim=[0,3000], ylim=[-1000,2000])\n",
    "plt.xlabel['']\n",
    "\n",
    "\n"
   ]
  },
  {
   "cell_type": "markdown",
   "metadata": {
    "slideshow": {
     "slide_type": "slide"
    }
   },
   "source": [
    "## Areas to Explore Further\n",
    "\n",
    "- Evaluate whether can improve average seller performance\n",
    "- Explore reviews for cause of dissatisfaction"
   ]
  },
  {
   "cell_type": "code",
   "execution_count": null,
   "metadata": {
    "slideshow": {
     "slide_type": "skip"
    }
   },
   "outputs": [],
   "source": []
  },
  {
   "cell_type": "code",
   "execution_count": null,
   "metadata": {
    "slideshow": {
     "slide_type": "skip"
    }
   },
   "outputs": [],
   "source": []
  },
  {
   "cell_type": "code",
   "execution_count": null,
   "metadata": {
    "slideshow": {
     "slide_type": "skip"
    }
   },
   "outputs": [],
   "source": []
  },
  {
   "cell_type": "code",
   "execution_count": null,
   "metadata": {},
   "outputs": [],
   "source": []
  }
 ],
 "metadata": {
  "celltoolbar": "Raw Cell Format",
  "kernelspec": {
   "display_name": "Python 3",
   "language": "python",
   "name": "python3"
  },
  "language_info": {
   "codemirror_mode": {
    "name": "ipython",
    "version": 3
   },
   "file_extension": ".py",
   "mimetype": "text/x-python",
   "name": "python",
   "nbconvert_exporter": "python",
   "pygments_lexer": "ipython3",
   "version": "3.8.6"
  },
  "toc": {
   "base_numbering": 1,
   "nav_menu": {},
   "number_sections": true,
   "sideBar": true,
   "skip_h1_title": true,
   "title_cell": "Table of Contents",
   "title_sidebar": "Contents",
   "toc_cell": false,
   "toc_position": {
    "height": "calc(100% - 180px)",
    "left": "10px",
    "top": "150px",
    "width": "165px"
   },
   "toc_section_display": true,
   "toc_window_display": false
  },
  "varInspector": {
   "cols": {
    "lenName": 16,
    "lenType": 16,
    "lenVar": 40
   },
   "kernels_config": {
    "python": {
     "delete_cmd_postfix": "",
     "delete_cmd_prefix": "del ",
     "library": "var_list.py",
     "varRefreshCmd": "print(var_dic_list())"
    },
    "r": {
     "delete_cmd_postfix": ") ",
     "delete_cmd_prefix": "rm(",
     "library": "var_list.r",
     "varRefreshCmd": "cat(var_dic_list()) "
    }
   },
   "types_to_exclude": [
    "module",
    "function",
    "builtin_function_or_method",
    "instance",
    "_Feature"
   ],
   "window_display": false
  }
 },
 "nbformat": 4,
 "nbformat_minor": 4
}
