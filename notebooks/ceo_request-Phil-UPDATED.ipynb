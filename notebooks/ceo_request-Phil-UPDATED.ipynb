{
 "cells": [
  {
   "cell_type": "markdown",
   "metadata": {
    "slideshow": {
     "slide_type": "-"
    }
   },
   "source": [
    "# CEO-REQUEST CHALLENGE"
   ]
  },
  {
   "cell_type": "markdown",
   "metadata": {},
   "source": [
    "***CEO Question***\n",
    "\n",
    "How do we increase customer satisfaction (so as to increase profit margins) while maintaining a healthy order volume?"
   ]
  },
  {
   "cell_type": "markdown",
   "metadata": {},
   "source": [
    "**Findings from our Preliminary Analysis of the Orders and Sellers Datasets**\n",
    "\n",
    "- The more sellers (`number_of_sellers`) and products (`number_of_products`) that are combined into a single order, the lower the order `review_score`.  \n",
    "- The `wait_time` for the order, which is made up of two components (seller's `delay_to_carrier` + `carrier_delivery_time`) also has a significant association with low review scores.  \n",
    "\n",
    "While orders that contain more than a single seller or product do have a significant association with low review scores, orders that contain multiple sellers do not make up a large portion of orders on the platform, so any policy changes (e.g. restricting orders to a single seller) would not have a large impact on the bottom line. \n",
    "\n",
    "Instead, we'll see if we can make improvements based on the second finding of low review scores associated with `wait_time`. Since `carrier_delivery_time` is less directly in our control, we'll identify sellers who have been receiving low review scores and see the impact on Olist's profits if we remove them. \n",
    "\n",
    "In this notebook, we'll quantify the impact of keeping these poor-performing sellers on the platform, and make specific recommendations to the CEO on what changes can be made in the short term to increase customer satisfaction and Olist profit margins. "
   ]
  },
  {
   "cell_type": "markdown",
   "metadata": {},
   "source": [
    "**Next Steps to our Analysis**\n",
    "1. Identify how much revenue each seller brings in\n",
    "2. Calculate the cost to Olist of bad reviews for each seller\n",
    "3. Calculate the profit to Olist per seller and see the distribution \n",
    "3. Understand the impact on Olist's profits by poor performers\n",
    "4. Find out how much removing these sellers would impact Olist's IT costs "
   ]
  },
  {
   "cell_type": "markdown",
   "metadata": {
    "slideshow": {
     "slide_type": "-"
    }
   },
   "source": [
    "\n",
    "**Problem statement** ---REMOVE"
   ]
  },
  {
   "cell_type": "markdown",
   "metadata": {
    "slideshow": {
     "slide_type": "-"
    }
   },
   "source": [
    "To analyse the impact of removing the worst sellers from Olist's marketplace, we can start with a what-if analysis: What would have happened if Olist had never accepted these sellers in the first place? For that:\n",
    "\n",
    "Step ① Compute, for each `seller_id`, and cumulated since the beginning:\n",
    "- The `revenues` it brings\n",
    "- The `costs` associated with all its bad reviews\n",
    "- The resulting `profits` (revenues - costs)\n",
    "- The number of `orders` (it will impact overall IT costs)\n",
    "\n",
    "\n",
    "Step ② We can then sort sellers by increasing profits for Olist, and for each number of sellers to remove, compute the financial impact it would have made had they never been accepted on the platform. We may find an optimal number of sellers to remove that maximizes Olist's profit margin"
   ]
  },
  {
   "cell_type": "markdown",
   "metadata": {
    "slideshow": {
     "slide_type": "skip"
    }
   },
   "source": [
    "\n",
    "\n",
    "\n",
    "Starting from your current `seller().get_training_data()` DataFrame:\n",
    "- Can you easily transform it to compute Olist's positive `revenue_per_seller`? \n",
    "- Can you easily transform it to compute Olist's `cost_of_bad_reviews`?\n",
    "\n",
    "❓Instead of starting again from scratch, investigate your source code in `seller.py` - how was the mean `review_score` per seller computed? Can you imagine a way to amend your code  to compute `cost_of_reviews` in the same process? \n",
    "\n"
   ]
  },
  {
   "cell_type": "markdown",
   "metadata": {},
   "source": [
    "# START"
   ]
  },
  {
   "cell_type": "code",
   "execution_count": 1,
   "metadata": {
    "slideshow": {
     "slide_type": "skip"
    }
   },
   "outputs": [],
   "source": [
    "import numpy as np\n",
    "import pandas as pd\n",
    "import matplotlib.pyplot as plt\n",
    "import seaborn as sns\n",
    "import math\n",
    "from olist.seller import Seller\n",
    "from olist.data import Olist \n",
    "\n",
    "%load_ext autoreload\n",
    "%autoreload 2\n",
    "%matplotlib inline"
   ]
  },
  {
   "cell_type": "code",
   "execution_count": 2,
   "metadata": {
    "scrolled": true,
    "slideshow": {
     "slide_type": "skip"
    }
   },
   "outputs": [
    {
     "data": {
      "text/html": [
       "<div>\n",
       "<style scoped>\n",
       "    .dataframe tbody tr th:only-of-type {\n",
       "        vertical-align: middle;\n",
       "    }\n",
       "\n",
       "    .dataframe tbody tr th {\n",
       "        vertical-align: top;\n",
       "    }\n",
       "\n",
       "    .dataframe thead th {\n",
       "        text-align: right;\n",
       "    }\n",
       "</style>\n",
       "<table border=\"1\" class=\"dataframe\">\n",
       "  <thead>\n",
       "    <tr style=\"text-align: right;\">\n",
       "      <th></th>\n",
       "      <th>seller_id</th>\n",
       "      <th>seller_city</th>\n",
       "      <th>seller_state</th>\n",
       "      <th>delay_to_carrier</th>\n",
       "      <th>seller_wait_time</th>\n",
       "      <th>date_first_sale</th>\n",
       "      <th>date_last_sale</th>\n",
       "      <th>months_on_olist</th>\n",
       "      <th>share_of_one_stars</th>\n",
       "      <th>share_of_five_stars</th>\n",
       "      <th>seller_review_score</th>\n",
       "      <th>review_cost_per_seller</th>\n",
       "      <th>n_orders</th>\n",
       "      <th>quantity</th>\n",
       "      <th>quantity_per_order</th>\n",
       "      <th>sales</th>\n",
       "    </tr>\n",
       "  </thead>\n",
       "  <tbody>\n",
       "    <tr>\n",
       "      <th>0</th>\n",
       "      <td>3442f8959a84dea7ee197c632cb2df15</td>\n",
       "      <td>campinas</td>\n",
       "      <td>SP</td>\n",
       "      <td>0.000000</td>\n",
       "      <td>13.018588</td>\n",
       "      <td>2017-05-05 16:25:11</td>\n",
       "      <td>2017-08-30 12:50:19</td>\n",
       "      <td>4.0</td>\n",
       "      <td>0.333333</td>\n",
       "      <td>0.333333</td>\n",
       "      <td>3.00</td>\n",
       "      <td>140</td>\n",
       "      <td>3</td>\n",
       "      <td>3</td>\n",
       "      <td>1.000</td>\n",
       "      <td>218.70</td>\n",
       "    </tr>\n",
       "    <tr>\n",
       "      <th>1</th>\n",
       "      <td>d1b65fc7debc3361ea86b5f14c68d2e2</td>\n",
       "      <td>mogi guacu</td>\n",
       "      <td>SP</td>\n",
       "      <td>0.000000</td>\n",
       "      <td>9.065716</td>\n",
       "      <td>2017-03-29 02:10:34</td>\n",
       "      <td>2018-06-06 20:15:21</td>\n",
       "      <td>14.0</td>\n",
       "      <td>0.050000</td>\n",
       "      <td>0.725000</td>\n",
       "      <td>4.55</td>\n",
       "      <td>240</td>\n",
       "      <td>40</td>\n",
       "      <td>41</td>\n",
       "      <td>1.025</td>\n",
       "      <td>11703.07</td>\n",
       "    </tr>\n",
       "    <tr>\n",
       "      <th>2</th>\n",
       "      <td>ce3ad9de960102d0677a81f5d0bb7b2d</td>\n",
       "      <td>rio de janeiro</td>\n",
       "      <td>RJ</td>\n",
       "      <td>0.000000</td>\n",
       "      <td>4.042292</td>\n",
       "      <td>2018-07-30 12:44:49</td>\n",
       "      <td>2018-07-30 12:44:49</td>\n",
       "      <td>0.0</td>\n",
       "      <td>0.000000</td>\n",
       "      <td>1.000000</td>\n",
       "      <td>5.00</td>\n",
       "      <td>0</td>\n",
       "      <td>1</td>\n",
       "      <td>1</td>\n",
       "      <td>1.000</td>\n",
       "      <td>158.00</td>\n",
       "    </tr>\n",
       "    <tr>\n",
       "      <th>3</th>\n",
       "      <td>c0f3eea2e14555b6faeea3dd58c1b1c3</td>\n",
       "      <td>sao paulo</td>\n",
       "      <td>SP</td>\n",
       "      <td>0.000000</td>\n",
       "      <td>5.667187</td>\n",
       "      <td>2018-08-03 00:44:08</td>\n",
       "      <td>2018-08-03 00:44:08</td>\n",
       "      <td>0.0</td>\n",
       "      <td>0.000000</td>\n",
       "      <td>1.000000</td>\n",
       "      <td>5.00</td>\n",
       "      <td>0</td>\n",
       "      <td>1</td>\n",
       "      <td>1</td>\n",
       "      <td>1.000</td>\n",
       "      <td>79.99</td>\n",
       "    </tr>\n",
       "    <tr>\n",
       "      <th>4</th>\n",
       "      <td>51a04a8a6bdcb23deccc82b0b80742cf</td>\n",
       "      <td>braganca paulista</td>\n",
       "      <td>SP</td>\n",
       "      <td>3.353727</td>\n",
       "      <td>35.314861</td>\n",
       "      <td>2017-11-14 12:15:25</td>\n",
       "      <td>2017-11-14 12:15:25</td>\n",
       "      <td>0.0</td>\n",
       "      <td>1.000000</td>\n",
       "      <td>0.000000</td>\n",
       "      <td>1.00</td>\n",
       "      <td>100</td>\n",
       "      <td>1</td>\n",
       "      <td>1</td>\n",
       "      <td>1.000</td>\n",
       "      <td>167.99</td>\n",
       "    </tr>\n",
       "  </tbody>\n",
       "</table>\n",
       "</div>"
      ],
      "text/plain": [
       "                          seller_id        seller_city seller_state  \\\n",
       "0  3442f8959a84dea7ee197c632cb2df15           campinas           SP   \n",
       "1  d1b65fc7debc3361ea86b5f14c68d2e2         mogi guacu           SP   \n",
       "2  ce3ad9de960102d0677a81f5d0bb7b2d     rio de janeiro           RJ   \n",
       "3  c0f3eea2e14555b6faeea3dd58c1b1c3          sao paulo           SP   \n",
       "4  51a04a8a6bdcb23deccc82b0b80742cf  braganca paulista           SP   \n",
       "\n",
       "   delay_to_carrier  seller_wait_time     date_first_sale      date_last_sale  \\\n",
       "0          0.000000         13.018588 2017-05-05 16:25:11 2017-08-30 12:50:19   \n",
       "1          0.000000          9.065716 2017-03-29 02:10:34 2018-06-06 20:15:21   \n",
       "2          0.000000          4.042292 2018-07-30 12:44:49 2018-07-30 12:44:49   \n",
       "3          0.000000          5.667187 2018-08-03 00:44:08 2018-08-03 00:44:08   \n",
       "4          3.353727         35.314861 2017-11-14 12:15:25 2017-11-14 12:15:25   \n",
       "\n",
       "   months_on_olist  share_of_one_stars  share_of_five_stars  \\\n",
       "0              4.0            0.333333             0.333333   \n",
       "1             14.0            0.050000             0.725000   \n",
       "2              0.0            0.000000             1.000000   \n",
       "3              0.0            0.000000             1.000000   \n",
       "4              0.0            1.000000             0.000000   \n",
       "\n",
       "   seller_review_score  review_cost_per_seller  n_orders  quantity  \\\n",
       "0                 3.00                     140         3         3   \n",
       "1                 4.55                     240        40        41   \n",
       "2                 5.00                       0         1         1   \n",
       "3                 5.00                       0         1         1   \n",
       "4                 1.00                     100         1         1   \n",
       "\n",
       "   quantity_per_order     sales  \n",
       "0               1.000    218.70  \n",
       "1               1.025  11703.07  \n",
       "2               1.000    158.00  \n",
       "3               1.000     79.99  \n",
       "4               1.000    167.99  "
      ]
     },
     "execution_count": 2,
     "metadata": {},
     "output_type": "execute_result"
    }
   ],
   "source": [
    "# Let's look again at our Sellers data\n",
    "sellers = Seller().get_training_data()\n",
    "sellers.head()"
   ]
  },
  {
   "cell_type": "code",
   "execution_count": 3,
   "metadata": {},
   "outputs": [],
   "source": [
    "#CAN BE DELETED LATER\n",
    "#export dataset for Tableau\n",
    "path = '../data/csv/seller_dataset_modified.csv'\n",
    "sellers.to_csv(path_or_buf=path, index=False)"
   ]
  },
  {
   "cell_type": "markdown",
   "metadata": {},
   "source": [
    "## Revenue per seller"
   ]
  },
  {
   "cell_type": "markdown",
   "metadata": {},
   "source": [
    "Olist generates revenue from its sellers through two components:\n",
    "1. **Monthly Membership Fee** - sellers pay Olist an **80 BRL** (~$15 USD) monthly fee to use the platform\n",
    "2. **Revenue Share** - for every order on the platform, Olist takes a **10% cut** based on the product price  of each item (excl. shipping)\n"
   ]
  },
  {
   "cell_type": "code",
   "execution_count": 4,
   "metadata": {
    "scrolled": true,
    "slideshow": {
     "slide_type": "skip"
    }
   },
   "outputs": [
    {
     "data": {
      "text/html": [
       "<div>\n",
       "<style scoped>\n",
       "    .dataframe tbody tr th:only-of-type {\n",
       "        vertical-align: middle;\n",
       "    }\n",
       "\n",
       "    .dataframe tbody tr th {\n",
       "        vertical-align: top;\n",
       "    }\n",
       "\n",
       "    .dataframe thead th {\n",
       "        text-align: right;\n",
       "    }\n",
       "</style>\n",
       "<table border=\"1\" class=\"dataframe\">\n",
       "  <thead>\n",
       "    <tr style=\"text-align: right;\">\n",
       "      <th></th>\n",
       "      <th>seller_id</th>\n",
       "      <th>seller_city</th>\n",
       "      <th>seller_state</th>\n",
       "      <th>delay_to_carrier</th>\n",
       "      <th>seller_wait_time</th>\n",
       "      <th>date_first_sale</th>\n",
       "      <th>date_last_sale</th>\n",
       "      <th>months_on_olist</th>\n",
       "      <th>share_of_one_stars</th>\n",
       "      <th>share_of_five_stars</th>\n",
       "      <th>seller_review_score</th>\n",
       "      <th>review_cost_per_seller</th>\n",
       "      <th>n_orders</th>\n",
       "      <th>quantity</th>\n",
       "      <th>quantity_per_order</th>\n",
       "      <th>sales</th>\n",
       "      <th>revenue_per_seller</th>\n",
       "    </tr>\n",
       "  </thead>\n",
       "  <tbody>\n",
       "    <tr>\n",
       "      <th>0</th>\n",
       "      <td>3442f8959a84dea7ee197c632cb2df15</td>\n",
       "      <td>campinas</td>\n",
       "      <td>SP</td>\n",
       "      <td>0.000000</td>\n",
       "      <td>13.018588</td>\n",
       "      <td>2017-05-05 16:25:11</td>\n",
       "      <td>2017-08-30 12:50:19</td>\n",
       "      <td>4.0</td>\n",
       "      <td>0.333333</td>\n",
       "      <td>0.333333</td>\n",
       "      <td>3.00</td>\n",
       "      <td>140</td>\n",
       "      <td>3</td>\n",
       "      <td>3</td>\n",
       "      <td>1.000</td>\n",
       "      <td>218.70</td>\n",
       "      <td>341.870</td>\n",
       "    </tr>\n",
       "    <tr>\n",
       "      <th>1</th>\n",
       "      <td>d1b65fc7debc3361ea86b5f14c68d2e2</td>\n",
       "      <td>mogi guacu</td>\n",
       "      <td>SP</td>\n",
       "      <td>0.000000</td>\n",
       "      <td>9.065716</td>\n",
       "      <td>2017-03-29 02:10:34</td>\n",
       "      <td>2018-06-06 20:15:21</td>\n",
       "      <td>15.0</td>\n",
       "      <td>0.050000</td>\n",
       "      <td>0.725000</td>\n",
       "      <td>4.55</td>\n",
       "      <td>240</td>\n",
       "      <td>40</td>\n",
       "      <td>41</td>\n",
       "      <td>1.025</td>\n",
       "      <td>11703.07</td>\n",
       "      <td>2370.307</td>\n",
       "    </tr>\n",
       "    <tr>\n",
       "      <th>2</th>\n",
       "      <td>ce3ad9de960102d0677a81f5d0bb7b2d</td>\n",
       "      <td>rio de janeiro</td>\n",
       "      <td>RJ</td>\n",
       "      <td>0.000000</td>\n",
       "      <td>4.042292</td>\n",
       "      <td>2018-07-30 12:44:49</td>\n",
       "      <td>2018-07-30 12:44:49</td>\n",
       "      <td>1.0</td>\n",
       "      <td>0.000000</td>\n",
       "      <td>1.000000</td>\n",
       "      <td>5.00</td>\n",
       "      <td>0</td>\n",
       "      <td>1</td>\n",
       "      <td>1</td>\n",
       "      <td>1.000</td>\n",
       "      <td>158.00</td>\n",
       "      <td>95.800</td>\n",
       "    </tr>\n",
       "    <tr>\n",
       "      <th>3</th>\n",
       "      <td>c0f3eea2e14555b6faeea3dd58c1b1c3</td>\n",
       "      <td>sao paulo</td>\n",
       "      <td>SP</td>\n",
       "      <td>0.000000</td>\n",
       "      <td>5.667187</td>\n",
       "      <td>2018-08-03 00:44:08</td>\n",
       "      <td>2018-08-03 00:44:08</td>\n",
       "      <td>1.0</td>\n",
       "      <td>0.000000</td>\n",
       "      <td>1.000000</td>\n",
       "      <td>5.00</td>\n",
       "      <td>0</td>\n",
       "      <td>1</td>\n",
       "      <td>1</td>\n",
       "      <td>1.000</td>\n",
       "      <td>79.99</td>\n",
       "      <td>87.999</td>\n",
       "    </tr>\n",
       "    <tr>\n",
       "      <th>4</th>\n",
       "      <td>51a04a8a6bdcb23deccc82b0b80742cf</td>\n",
       "      <td>braganca paulista</td>\n",
       "      <td>SP</td>\n",
       "      <td>3.353727</td>\n",
       "      <td>35.314861</td>\n",
       "      <td>2017-11-14 12:15:25</td>\n",
       "      <td>2017-11-14 12:15:25</td>\n",
       "      <td>1.0</td>\n",
       "      <td>1.000000</td>\n",
       "      <td>0.000000</td>\n",
       "      <td>1.00</td>\n",
       "      <td>100</td>\n",
       "      <td>1</td>\n",
       "      <td>1</td>\n",
       "      <td>1.000</td>\n",
       "      <td>167.99</td>\n",
       "      <td>96.799</td>\n",
       "    </tr>\n",
       "  </tbody>\n",
       "</table>\n",
       "</div>"
      ],
      "text/plain": [
       "                          seller_id        seller_city seller_state  \\\n",
       "0  3442f8959a84dea7ee197c632cb2df15           campinas           SP   \n",
       "1  d1b65fc7debc3361ea86b5f14c68d2e2         mogi guacu           SP   \n",
       "2  ce3ad9de960102d0677a81f5d0bb7b2d     rio de janeiro           RJ   \n",
       "3  c0f3eea2e14555b6faeea3dd58c1b1c3          sao paulo           SP   \n",
       "4  51a04a8a6bdcb23deccc82b0b80742cf  braganca paulista           SP   \n",
       "\n",
       "   delay_to_carrier  seller_wait_time     date_first_sale      date_last_sale  \\\n",
       "0          0.000000         13.018588 2017-05-05 16:25:11 2017-08-30 12:50:19   \n",
       "1          0.000000          9.065716 2017-03-29 02:10:34 2018-06-06 20:15:21   \n",
       "2          0.000000          4.042292 2018-07-30 12:44:49 2018-07-30 12:44:49   \n",
       "3          0.000000          5.667187 2018-08-03 00:44:08 2018-08-03 00:44:08   \n",
       "4          3.353727         35.314861 2017-11-14 12:15:25 2017-11-14 12:15:25   \n",
       "\n",
       "   months_on_olist  share_of_one_stars  share_of_five_stars  \\\n",
       "0              4.0            0.333333             0.333333   \n",
       "1             15.0            0.050000             0.725000   \n",
       "2              1.0            0.000000             1.000000   \n",
       "3              1.0            0.000000             1.000000   \n",
       "4              1.0            1.000000             0.000000   \n",
       "\n",
       "   seller_review_score  review_cost_per_seller  n_orders  quantity  \\\n",
       "0                 3.00                     140         3         3   \n",
       "1                 4.55                     240        40        41   \n",
       "2                 5.00                       0         1         1   \n",
       "3                 5.00                       0         1         1   \n",
       "4                 1.00                     100         1         1   \n",
       "\n",
       "   quantity_per_order     sales  revenue_per_seller  \n",
       "0               1.000    218.70             341.870  \n",
       "1               1.025  11703.07            2370.307  \n",
       "2               1.000    158.00              95.800  \n",
       "3               1.000     79.99              87.999  \n",
       "4               1.000    167.99              96.799  "
      ]
     },
     "execution_count": 4,
     "metadata": {},
     "output_type": "execute_result"
    }
   ],
   "source": [
    "# Revenue Calculation: Monthly Membership Fee Calculation + Revenue Share\n",
    "\n",
    "# Calculate total time on platform (in months)\n",
    "number_of_months_on_olist = (sellers.date_last_sale - sellers.date_first_sale) / np.timedelta64(1, 'M')\n",
    "sellers['months_on_olist'] = number_of_months_on_olist.map(lambda x: 1 if x < 1 else np.ceil(x))\n",
    "\n",
    "# Calculate total revenue seller generates for Olist\n",
    "sellers['revenue_per_seller'] = sellers.months_on_olist * 80 + sellers.sales * 0.1\n",
    "sellers.head()"
   ]
  },
  {
   "cell_type": "markdown",
   "metadata": {
    "slideshow": {
     "slide_type": "skip"
    }
   },
   "source": [
    "## Costs per seller"
   ]
  },
  {
   "cell_type": "markdown",
   "metadata": {},
   "source": [
    "Because poor reviews from customers can have several direct and indirect costs to a business (e.g. customer support utilization, bad word-of-mouth, low repeat rate, etc.), we'll use the following table to estimate monetary costs associated with bad reviews:\n",
    "\n",
    "**Estimated cost to Olist per bad review (in Brazilian Reals)** *(100 BRL $\\approx$ 20 USD)*\n",
    "- **1 star:** 100\n",
    "- **2 stars:** 50\n",
    "- **3 stars:** 40\n",
    "- **4 stars:** 0\n",
    "- **5 stars:** 0"
   ]
  },
  {
   "cell_type": "code",
   "execution_count": 5,
   "metadata": {},
   "outputs": [
    {
     "data": {
      "text/html": [
       "<div>\n",
       "<style scoped>\n",
       "    .dataframe tbody tr th:only-of-type {\n",
       "        vertical-align: middle;\n",
       "    }\n",
       "\n",
       "    .dataframe tbody tr th {\n",
       "        vertical-align: top;\n",
       "    }\n",
       "\n",
       "    .dataframe thead th {\n",
       "        text-align: right;\n",
       "    }\n",
       "</style>\n",
       "<table border=\"1\" class=\"dataframe\">\n",
       "  <thead>\n",
       "    <tr style=\"text-align: right;\">\n",
       "      <th></th>\n",
       "      <th>seller_id</th>\n",
       "      <th>seller_review_score</th>\n",
       "      <th>review_cost_per_seller</th>\n",
       "    </tr>\n",
       "  </thead>\n",
       "  <tbody>\n",
       "    <tr>\n",
       "      <th>0</th>\n",
       "      <td>3442f8959a84dea7ee197c632cb2df15</td>\n",
       "      <td>3.00</td>\n",
       "      <td>140</td>\n",
       "    </tr>\n",
       "    <tr>\n",
       "      <th>1</th>\n",
       "      <td>d1b65fc7debc3361ea86b5f14c68d2e2</td>\n",
       "      <td>4.55</td>\n",
       "      <td>240</td>\n",
       "    </tr>\n",
       "    <tr>\n",
       "      <th>2</th>\n",
       "      <td>ce3ad9de960102d0677a81f5d0bb7b2d</td>\n",
       "      <td>5.00</td>\n",
       "      <td>0</td>\n",
       "    </tr>\n",
       "    <tr>\n",
       "      <th>3</th>\n",
       "      <td>c0f3eea2e14555b6faeea3dd58c1b1c3</td>\n",
       "      <td>5.00</td>\n",
       "      <td>0</td>\n",
       "    </tr>\n",
       "    <tr>\n",
       "      <th>4</th>\n",
       "      <td>51a04a8a6bdcb23deccc82b0b80742cf</td>\n",
       "      <td>1.00</td>\n",
       "      <td>100</td>\n",
       "    </tr>\n",
       "  </tbody>\n",
       "</table>\n",
       "</div>"
      ],
      "text/plain": [
       "                          seller_id  seller_review_score  \\\n",
       "0  3442f8959a84dea7ee197c632cb2df15                 3.00   \n",
       "1  d1b65fc7debc3361ea86b5f14c68d2e2                 4.55   \n",
       "2  ce3ad9de960102d0677a81f5d0bb7b2d                 5.00   \n",
       "3  c0f3eea2e14555b6faeea3dd58c1b1c3                 5.00   \n",
       "4  51a04a8a6bdcb23deccc82b0b80742cf                 1.00   \n",
       "\n",
       "   review_cost_per_seller  \n",
       "0                     140  \n",
       "1                     240  \n",
       "2                       0  \n",
       "3                       0  \n",
       "4                     100  "
      ]
     },
     "execution_count": 5,
     "metadata": {},
     "output_type": "execute_result"
    }
   ],
   "source": [
    "sellers[['seller_id','seller_review_score','review_cost_per_seller']].head()"
   ]
  },
  {
   "cell_type": "markdown",
   "metadata": {},
   "source": [
    "`seller_review_score` is the average review score earned by a seller\n",
    "\n",
    "`review_cost_per_seller` is the total cost from all bad reviews for each seller, calculated first by assigning a monetary cost for any review receiving 3 stars or less, and then summing up the total cost of these bad reviews"
   ]
  },
  {
   "cell_type": "markdown",
   "metadata": {},
   "source": [
    "# Profits per seller "
   ]
  },
  {
   "cell_type": "markdown",
   "metadata": {},
   "source": [
    "Now that we know how much revenue each seller generates for Olist and also the cost of bad reviews, let's calculate the profit to Olist from each seller. This will allow us to see more clearly which sellers are a drag on Olist's bottom line and by how much. \n",
    "\n",
    "We've also been asked by the CEO to consider the IT costs associated with running the platform, but for now we'll set that aside in our analysis and examine it later.   "
   ]
  },
  {
   "cell_type": "code",
   "execution_count": 6,
   "metadata": {},
   "outputs": [
    {
     "data": {
      "text/html": [
       "<div>\n",
       "<style scoped>\n",
       "    .dataframe tbody tr th:only-of-type {\n",
       "        vertical-align: middle;\n",
       "    }\n",
       "\n",
       "    .dataframe tbody tr th {\n",
       "        vertical-align: top;\n",
       "    }\n",
       "\n",
       "    .dataframe thead th {\n",
       "        text-align: right;\n",
       "    }\n",
       "</style>\n",
       "<table border=\"1\" class=\"dataframe\">\n",
       "  <thead>\n",
       "    <tr style=\"text-align: right;\">\n",
       "      <th></th>\n",
       "      <th>seller_id</th>\n",
       "      <th>revenue_per_seller</th>\n",
       "      <th>review_cost_per_seller</th>\n",
       "      <th>profit_per_seller</th>\n",
       "    </tr>\n",
       "  </thead>\n",
       "  <tbody>\n",
       "    <tr>\n",
       "      <th>0</th>\n",
       "      <td>3442f8959a84dea7ee197c632cb2df15</td>\n",
       "      <td>341.870</td>\n",
       "      <td>140</td>\n",
       "      <td>201.870</td>\n",
       "    </tr>\n",
       "    <tr>\n",
       "      <th>1</th>\n",
       "      <td>d1b65fc7debc3361ea86b5f14c68d2e2</td>\n",
       "      <td>2370.307</td>\n",
       "      <td>240</td>\n",
       "      <td>2130.307</td>\n",
       "    </tr>\n",
       "    <tr>\n",
       "      <th>2</th>\n",
       "      <td>ce3ad9de960102d0677a81f5d0bb7b2d</td>\n",
       "      <td>95.800</td>\n",
       "      <td>0</td>\n",
       "      <td>95.800</td>\n",
       "    </tr>\n",
       "    <tr>\n",
       "      <th>3</th>\n",
       "      <td>c0f3eea2e14555b6faeea3dd58c1b1c3</td>\n",
       "      <td>87.999</td>\n",
       "      <td>0</td>\n",
       "      <td>87.999</td>\n",
       "    </tr>\n",
       "    <tr>\n",
       "      <th>4</th>\n",
       "      <td>51a04a8a6bdcb23deccc82b0b80742cf</td>\n",
       "      <td>96.799</td>\n",
       "      <td>100</td>\n",
       "      <td>-3.201</td>\n",
       "    </tr>\n",
       "  </tbody>\n",
       "</table>\n",
       "</div>"
      ],
      "text/plain": [
       "                          seller_id  revenue_per_seller  \\\n",
       "0  3442f8959a84dea7ee197c632cb2df15             341.870   \n",
       "1  d1b65fc7debc3361ea86b5f14c68d2e2            2370.307   \n",
       "2  ce3ad9de960102d0677a81f5d0bb7b2d              95.800   \n",
       "3  c0f3eea2e14555b6faeea3dd58c1b1c3              87.999   \n",
       "4  51a04a8a6bdcb23deccc82b0b80742cf              96.799   \n",
       "\n",
       "   review_cost_per_seller  profit_per_seller  \n",
       "0                     140            201.870  \n",
       "1                     240           2130.307  \n",
       "2                       0             95.800  \n",
       "3                       0             87.999  \n",
       "4                     100             -3.201  "
      ]
     },
     "execution_count": 6,
     "metadata": {},
     "output_type": "execute_result"
    }
   ],
   "source": [
    "# Calculate the profit as 'revenue_per_seller' - 'review_cost_per_seller'\n",
    "sellers['profit_per_seller'] = sellers.revenue_per_seller - sellers.review_cost_per_seller\n",
    "sellers[['seller_id', 'revenue_per_seller', 'review_cost_per_seller', 'profit_per_seller']].groupby(by='seller_id').sum()\n",
    "\n",
    "sellers[['seller_id', 'revenue_per_seller', 'review_cost_per_seller', 'profit_per_seller']].head()"
   ]
  },
  {
   "cell_type": "markdown",
   "metadata": {},
   "source": [
    "Let's take a quick look at the distribution of `profit_per_seller`."
   ]
  },
  {
   "cell_type": "code",
   "execution_count": 7,
   "metadata": {
    "scrolled": true,
    "slideshow": {
     "slide_type": "skip"
    }
   },
   "outputs": [
    {
     "data": {
      "image/png": "[encoded data removed]",
      "text/plain": [
       "<Figure size 864x576 with 1 Axes>"
      ]
     },
     "metadata": {
      "needs_background": "light"
     },
     "output_type": "display_data"
    }
   ],
   "source": [
    "# Plot histogram of sellers' financial impact\n",
    "plt.figure(figsize=(12,8))\n",
    "sns.set_style('darkgrid')\n",
    "\n",
    "ax = sns.histplot(sellers.profit_per_seller)\n",
    "ax.set_xlim(xmin=-5000, xmax=5000)\n",
    "ax.set_xlabel('Profits per Seller (BRL)')\n",
    "ax.set_ylabel('Number of Sellers')\n",
    "ax.set_title('Distribution of Seller Contribution to Olist Profits');"
   ]
  },
  {
   "cell_type": "code",
   "execution_count": 8,
   "metadata": {},
   "outputs": [
    {
     "data": {
      "text/plain": [
       "count     2970.000000\n",
       "mean       424.055631\n",
       "std       1274.295160\n",
       "min     -22419.517000\n",
       "25%         93.000000\n",
       "50%        285.790500\n",
       "75%        720.593750\n",
       "max      17967.605000\n",
       "Name: profit_per_seller, dtype: float64"
      ]
     },
     "execution_count": 8,
     "metadata": {},
     "output_type": "execute_result"
    }
   ],
   "source": [
    "# Summary stats\n",
    "sellers.profit_per_seller.describe()"
   ]
  },
  {
   "cell_type": "markdown",
   "metadata": {},
   "source": [
    "**Interpretation of Results**"
   ]
  },
  {
   "cell_type": "markdown",
   "metadata": {},
   "source": [
    "From our histogram and summary stats of sellers' contribution to Olist profits, it appears as though the middle 50% of sellers on the platform generate anywhere from **93 to 721 BRL** (~17 to 134 USD) for Olist. We can also see a number of sellers with a negative impact on profits. \n",
    " \n",
    "Next, let's see if we can find out more about these sellers who are pulling down Olist profits. "
   ]
  },
  {
   "cell_type": "markdown",
   "metadata": {},
   "source": [
    "# Understanding the Impact of Poor-performing Sellers"
   ]
  },
  {
   "cell_type": "markdown",
   "metadata": {},
   "source": [
    "To get a clearer picture of how much impact these poor-performing sellers have on Olist's profits, we'll break this question down into smaller pieces:\n",
    "\n",
    "1. How many sellers have a negative impact on profits?\n",
    "2. How much in total do these sellers affect Olist profits? "
   ]
  },
  {
   "cell_type": "markdown",
   "metadata": {},
   "source": [
    "### How many sellers are negatively impacting Olist profits?"
   ]
  },
  {
   "cell_type": "markdown",
   "metadata": {},
   "source": [
    "Let's find the total number of poor-performing sellers, and also see what proportion they make up on the platform."
   ]
  },
  {
   "cell_type": "code",
   "execution_count": 9,
   "metadata": {
    "scrolled": false
   },
   "outputs": [
    {
     "data": {
      "text/html": [
       "<div>\n",
       "<style scoped>\n",
       "    .dataframe tbody tr th:only-of-type {\n",
       "        vertical-align: middle;\n",
       "    }\n",
       "\n",
       "    .dataframe tbody tr th {\n",
       "        vertical-align: top;\n",
       "    }\n",
       "\n",
       "    .dataframe thead th {\n",
       "        text-align: right;\n",
       "    }\n",
       "</style>\n",
       "<table border=\"1\" class=\"dataframe\">\n",
       "  <thead>\n",
       "    <tr style=\"text-align: right;\">\n",
       "      <th></th>\n",
       "      <th>seller_id</th>\n",
       "    </tr>\n",
       "    <tr>\n",
       "      <th>impact</th>\n",
       "      <th></th>\n",
       "    </tr>\n",
       "  </thead>\n",
       "  <tbody>\n",
       "    <tr>\n",
       "      <th>negative</th>\n",
       "      <td>276</td>\n",
       "    </tr>\n",
       "    <tr>\n",
       "      <th>positive</th>\n",
       "      <td>2694</td>\n",
       "    </tr>\n",
       "  </tbody>\n",
       "</table>\n",
       "</div>"
      ],
      "text/plain": [
       "          seller_id\n",
       "impact             \n",
       "negative        276\n",
       "positive       2694"
      ]
     },
     "execution_count": 9,
     "metadata": {},
     "output_type": "execute_result"
    }
   ],
   "source": [
    "# Simple function to create column indicating whether sellers have positive or negative impact on profits\n",
    "def olist_impact(x):\n",
    "    if x < 0:\n",
    "        return 'negative'\n",
    "    else:\n",
    "        return 'positive'\n",
    "\n",
    "sellers['impact'] = sellers['profit_per_seller'].apply(olist_impact)\n",
    "sellers[['impact','seller_id']].groupby('impact').count()"
   ]
  },
  {
   "cell_type": "code",
   "execution_count": 10,
   "metadata": {},
   "outputs": [
    {
     "data": {
      "text/plain": [
       "2970"
      ]
     },
     "execution_count": 10,
     "metadata": {},
     "output_type": "execute_result"
    }
   ],
   "source": [
    "# Total number of sellers\n",
    "sellers.seller_id.count()"
   ]
  },
  {
   "cell_type": "code",
   "execution_count": 11,
   "metadata": {
    "scrolled": true
   },
   "outputs": [
    {
     "data": {
      "image/png": "[encoded data removed]",
      "text/plain": [
       "<Figure size 432x288 with 1 Axes>"
      ]
     },
     "metadata": {},
     "output_type": "display_data"
    }
   ],
   "source": [
    "# Bar plot to visualize what proportion poor-performing sellers have\n",
    "sellers[['impact','seller_id']].groupby('impact').count().transpose().plot.barh(stacked=True, cmap='Set1')\n",
    "plt.xlabel('Number of Sellers');\n"
   ]
  },
  {
   "cell_type": "code",
   "execution_count": 12,
   "metadata": {},
   "outputs": [
    {
     "data": {
      "text/plain": [
       "impact  \n",
       "positive    0.907071\n",
       "negative    0.092929\n",
       "dtype: float64"
      ]
     },
     "execution_count": 12,
     "metadata": {},
     "output_type": "execute_result"
    }
   ],
   "source": [
    "# Proportion of poor-performing sellers\n",
    "sellers[['impact']].value_counts(normalize=True)"
   ]
  },
  {
   "cell_type": "markdown",
   "metadata": {},
   "source": [
    "We can now see that there are **276 sellers** (or **roughly 9%** of all sellers) who negatively impact Olist profits. "
   ]
  },
  {
   "cell_type": "markdown",
   "metadata": {},
   "source": [
    "### How much do poor-performing sellers impact Olist profits?"
   ]
  },
  {
   "cell_type": "markdown",
   "metadata": {},
   "source": [
    "To get a better picture of how much impact these sellers have on Olist's total profits, let's create a **whale curve** which will show us what percentage of sellers represent 'x' percentage of cumulative profits. \n",
    "\n",
    "To build our whale curve, we'll first sort our sellers from most to least profitable. Then we'll plot the cumulative profits from each additional seller to the platform.   "
   ]
  },
  {
   "cell_type": "code",
   "execution_count": 13,
   "metadata": {
    "slideshow": {
     "slide_type": "skip"
    }
   },
   "outputs": [
    {
     "data": {
      "text/html": [
       "<div>\n",
       "<style scoped>\n",
       "    .dataframe tbody tr th:only-of-type {\n",
       "        vertical-align: middle;\n",
       "    }\n",
       "\n",
       "    .dataframe tbody tr th {\n",
       "        vertical-align: top;\n",
       "    }\n",
       "\n",
       "    .dataframe thead th {\n",
       "        text-align: right;\n",
       "    }\n",
       "</style>\n",
       "<table border=\"1\" class=\"dataframe\">\n",
       "  <thead>\n",
       "    <tr style=\"text-align: right;\">\n",
       "      <th></th>\n",
       "      <th>seller_id</th>\n",
       "      <th>seller_city</th>\n",
       "      <th>seller_state</th>\n",
       "      <th>delay_to_carrier</th>\n",
       "      <th>seller_wait_time</th>\n",
       "      <th>date_first_sale</th>\n",
       "      <th>date_last_sale</th>\n",
       "      <th>months_on_olist</th>\n",
       "      <th>share_of_one_stars</th>\n",
       "      <th>share_of_five_stars</th>\n",
       "      <th>seller_review_score</th>\n",
       "      <th>review_cost_per_seller</th>\n",
       "      <th>n_orders</th>\n",
       "      <th>quantity</th>\n",
       "      <th>quantity_per_order</th>\n",
       "      <th>sales</th>\n",
       "      <th>revenue_per_seller</th>\n",
       "      <th>profit_per_seller</th>\n",
       "      <th>impact</th>\n",
       "      <th>cumulative_profits</th>\n",
       "    </tr>\n",
       "  </thead>\n",
       "  <tbody>\n",
       "    <tr>\n",
       "      <th>2965</th>\n",
       "      <td>8b321bb669392f5163d04c59e235e066</td>\n",
       "      <td>sao paulo</td>\n",
       "      <td>SP</td>\n",
       "      <td>0.0</td>\n",
       "      <td>12.616899</td>\n",
       "      <td>2017-10-27 16:31:30</td>\n",
       "      <td>2018-08-21 17:08:38</td>\n",
       "      <td>10.0</td>\n",
       "      <td>0.118770</td>\n",
       "      <td>0.567338</td>\n",
       "      <td>4.069989</td>\n",
       "      <td>15620</td>\n",
       "      <td>943</td>\n",
       "      <td>1018</td>\n",
       "      <td>1.079533</td>\n",
       "      <td>17535.69</td>\n",
       "      <td>2553.569</td>\n",
       "      <td>-13066.431</td>\n",
       "      <td>negative</td>\n",
       "      <td>1335110.855</td>\n",
       "    </tr>\n",
       "    <tr>\n",
       "      <th>2966</th>\n",
       "      <td>ea8482cd71df3c1969d7b9473ff13abc</td>\n",
       "      <td>sao paulo</td>\n",
       "      <td>SP</td>\n",
       "      <td>0.0</td>\n",
       "      <td>13.315562</td>\n",
       "      <td>2017-08-16 15:15:26</td>\n",
       "      <td>2018-08-25 02:45:21</td>\n",
       "      <td>13.0</td>\n",
       "      <td>0.116827</td>\n",
       "      <td>0.524847</td>\n",
       "      <td>3.984307</td>\n",
       "      <td>20710</td>\n",
       "      <td>1146</td>\n",
       "      <td>1204</td>\n",
       "      <td>1.050611</td>\n",
       "      <td>37177.52</td>\n",
       "      <td>4757.752</td>\n",
       "      <td>-15952.248</td>\n",
       "      <td>negative</td>\n",
       "      <td>1319158.607</td>\n",
       "    </tr>\n",
       "    <tr>\n",
       "      <th>2967</th>\n",
       "      <td>cc419e0650a3c5ba77189a1882b7556a</td>\n",
       "      <td>santo andre</td>\n",
       "      <td>SP</td>\n",
       "      <td>0.0</td>\n",
       "      <td>11.539753</td>\n",
       "      <td>2017-02-02 17:10:21</td>\n",
       "      <td>2018-08-28 03:45:15</td>\n",
       "      <td>19.0</td>\n",
       "      <td>0.117277</td>\n",
       "      <td>0.581808</td>\n",
       "      <td>4.069222</td>\n",
       "      <td>30000</td>\n",
       "      <td>1706</td>\n",
       "      <td>1819</td>\n",
       "      <td>1.066237</td>\n",
       "      <td>104288.42</td>\n",
       "      <td>11948.842</td>\n",
       "      <td>-18051.158</td>\n",
       "      <td>negative</td>\n",
       "      <td>1301107.449</td>\n",
       "    </tr>\n",
       "    <tr>\n",
       "      <th>2968</th>\n",
       "      <td>4a3ca9315b744ce9f8e9374361493884</td>\n",
       "      <td>ibitinga</td>\n",
       "      <td>SP</td>\n",
       "      <td>0.0</td>\n",
       "      <td>14.416471</td>\n",
       "      <td>2017-01-08 09:45:12</td>\n",
       "      <td>2018-08-27 11:04:18</td>\n",
       "      <td>20.0</td>\n",
       "      <td>0.147640</td>\n",
       "      <td>0.476948</td>\n",
       "      <td>3.804610</td>\n",
       "      <td>40890</td>\n",
       "      <td>1806</td>\n",
       "      <td>2009</td>\n",
       "      <td>1.112403</td>\n",
       "      <td>200472.92</td>\n",
       "      <td>21647.292</td>\n",
       "      <td>-19242.708</td>\n",
       "      <td>negative</td>\n",
       "      <td>1281864.741</td>\n",
       "    </tr>\n",
       "    <tr>\n",
       "      <th>2969</th>\n",
       "      <td>6560211a19b47992c3666cc44a7e94c0</td>\n",
       "      <td>sao paulo</td>\n",
       "      <td>SP</td>\n",
       "      <td>0.0</td>\n",
       "      <td>9.539486</td>\n",
       "      <td>2017-02-17 07:45:11</td>\n",
       "      <td>2018-08-29 09:25:12</td>\n",
       "      <td>19.0</td>\n",
       "      <td>0.127957</td>\n",
       "      <td>0.510215</td>\n",
       "      <td>3.922043</td>\n",
       "      <td>36270</td>\n",
       "      <td>1854</td>\n",
       "      <td>2039</td>\n",
       "      <td>1.099784</td>\n",
       "      <td>123304.83</td>\n",
       "      <td>13850.483</td>\n",
       "      <td>-22419.517</td>\n",
       "      <td>negative</td>\n",
       "      <td>1259445.224</td>\n",
       "    </tr>\n",
       "  </tbody>\n",
       "</table>\n",
       "</div>"
      ],
      "text/plain": [
       "                             seller_id  seller_city seller_state  \\\n",
       "2965  8b321bb669392f5163d04c59e235e066    sao paulo           SP   \n",
       "2966  ea8482cd71df3c1969d7b9473ff13abc    sao paulo           SP   \n",
       "2967  cc419e0650a3c5ba77189a1882b7556a  santo andre           SP   \n",
       "2968  4a3ca9315b744ce9f8e9374361493884     ibitinga           SP   \n",
       "2969  6560211a19b47992c3666cc44a7e94c0    sao paulo           SP   \n",
       "\n",
       "      delay_to_carrier  seller_wait_time     date_first_sale  \\\n",
       "2965               0.0         12.616899 2017-10-27 16:31:30   \n",
       "2966               0.0         13.315562 2017-08-16 15:15:26   \n",
       "2967               0.0         11.539753 2017-02-02 17:10:21   \n",
       "2968               0.0         14.416471 2017-01-08 09:45:12   \n",
       "2969               0.0          9.539486 2017-02-17 07:45:11   \n",
       "\n",
       "          date_last_sale  months_on_olist  share_of_one_stars  \\\n",
       "2965 2018-08-21 17:08:38             10.0            0.118770   \n",
       "2966 2018-08-25 02:45:21             13.0            0.116827   \n",
       "2967 2018-08-28 03:45:15             19.0            0.117277   \n",
       "2968 2018-08-27 11:04:18             20.0            0.147640   \n",
       "2969 2018-08-29 09:25:12             19.0            0.127957   \n",
       "\n",
       "      share_of_five_stars  seller_review_score  review_cost_per_seller  \\\n",
       "2965             0.567338             4.069989                   15620   \n",
       "2966             0.524847             3.984307                   20710   \n",
       "2967             0.581808             4.069222                   30000   \n",
       "2968             0.476948             3.804610                   40890   \n",
       "2969             0.510215             3.922043                   36270   \n",
       "\n",
       "      n_orders  quantity  quantity_per_order      sales  revenue_per_seller  \\\n",
       "2965       943      1018            1.079533   17535.69            2553.569   \n",
       "2966      1146      1204            1.050611   37177.52            4757.752   \n",
       "2967      1706      1819            1.066237  104288.42           11948.842   \n",
       "2968      1806      2009            1.112403  200472.92           21647.292   \n",
       "2969      1854      2039            1.099784  123304.83           13850.483   \n",
       "\n",
       "      profit_per_seller    impact  cumulative_profits  \n",
       "2965         -13066.431  negative         1335110.855  \n",
       "2966         -15952.248  negative         1319158.607  \n",
       "2967         -18051.158  negative         1301107.449  \n",
       "2968         -19242.708  negative         1281864.741  \n",
       "2969         -22419.517  negative         1259445.224  "
      ]
     },
     "execution_count": 13,
     "metadata": {},
     "output_type": "execute_result"
    }
   ],
   "source": [
    "# Sort sellers by how much profit each contributes to Olist (from most to least)\n",
    "sellers.sort_values('profit_per_seller', ignore_index=True, inplace=True, ascending=False)\n",
    "\n",
    "# Calculate cumulative profits to Olist with each additional seller\n",
    "sellers['cumulative_profits'] = sellers['profit_per_seller'].cumsum()\n",
    "sellers.tail()"
   ]
  },
  {
   "cell_type": "code",
   "execution_count": 14,
   "metadata": {
    "slideshow": {
     "slide_type": "skip"
    }
   },
   "outputs": [
    {
     "data": {
      "text/plain": [
       "1259445.2239999846"
      ]
     },
     "execution_count": 14,
     "metadata": {},
     "output_type": "execute_result"
    }
   ],
   "source": [
    "# Total cumulative profits for Olist\n",
    "total_profits = sellers['cumulative_profits'].iloc[-1]\n",
    "total_profits"
   ]
  },
  {
   "cell_type": "code",
   "execution_count": 15,
   "metadata": {
    "scrolled": true
   },
   "outputs": [
    {
     "data": {
      "text/html": [
       "<div>\n",
       "<style scoped>\n",
       "    .dataframe tbody tr th:only-of-type {\n",
       "        vertical-align: middle;\n",
       "    }\n",
       "\n",
       "    .dataframe tbody tr th {\n",
       "        vertical-align: top;\n",
       "    }\n",
       "\n",
       "    .dataframe thead th {\n",
       "        text-align: right;\n",
       "    }\n",
       "</style>\n",
       "<table border=\"1\" class=\"dataframe\">\n",
       "  <thead>\n",
       "    <tr style=\"text-align: right;\">\n",
       "      <th></th>\n",
       "      <th>seller_id</th>\n",
       "      <th>percent_profits</th>\n",
       "      <th>seller_proportion</th>\n",
       "    </tr>\n",
       "  </thead>\n",
       "  <tbody>\n",
       "    <tr>\n",
       "      <th>2965</th>\n",
       "      <td>8b321bb669392f5163d04c59e235e066</td>\n",
       "      <td>106.007854</td>\n",
       "      <td>99.86532</td>\n",
       "    </tr>\n",
       "    <tr>\n",
       "      <th>2966</th>\n",
       "      <td>ea8482cd71df3c1969d7b9473ff13abc</td>\n",
       "      <td>104.741245</td>\n",
       "      <td>99.89899</td>\n",
       "    </tr>\n",
       "    <tr>\n",
       "      <th>2967</th>\n",
       "      <td>cc419e0650a3c5ba77189a1882b7556a</td>\n",
       "      <td>103.307982</td>\n",
       "      <td>99.93266</td>\n",
       "    </tr>\n",
       "    <tr>\n",
       "      <th>2968</th>\n",
       "      <td>4a3ca9315b744ce9f8e9374361493884</td>\n",
       "      <td>101.780111</td>\n",
       "      <td>99.96633</td>\n",
       "    </tr>\n",
       "    <tr>\n",
       "      <th>2969</th>\n",
       "      <td>6560211a19b47992c3666cc44a7e94c0</td>\n",
       "      <td>100.000000</td>\n",
       "      <td>100.00000</td>\n",
       "    </tr>\n",
       "  </tbody>\n",
       "</table>\n",
       "</div>"
      ],
      "text/plain": [
       "                             seller_id  percent_profits  seller_proportion\n",
       "2965  8b321bb669392f5163d04c59e235e066       106.007854           99.86532\n",
       "2966  ea8482cd71df3c1969d7b9473ff13abc       104.741245           99.89899\n",
       "2967  cc419e0650a3c5ba77189a1882b7556a       103.307982           99.93266\n",
       "2968  4a3ca9315b744ce9f8e9374361493884       101.780111           99.96633\n",
       "2969  6560211a19b47992c3666cc44a7e94c0       100.000000          100.00000"
      ]
     },
     "execution_count": 15,
     "metadata": {},
     "output_type": "execute_result"
    }
   ],
   "source": [
    "# Calculate the cumulative percentage of profits represented by each additional seller\n",
    "sellers['percent_profits'] = sellers['cumulative_profits'].div(total_profits).mul(100)\n",
    "\n",
    "# Calculate the proportion of sellers represented (in percent)\n",
    "sellers['seller_proportion'] = (sellers.index+1) / sellers.seller_id.count() * 100\n",
    "\n",
    "whale_df = sellers[['seller_id', 'percent_profits', 'seller_proportion']]\n",
    "whale_df.tail()"
   ]
  },
  {
   "cell_type": "code",
   "execution_count": 16,
   "metadata": {
    "scrolled": true
   },
   "outputs": [
    {
     "data": {
      "image/png": "[encoded data removed]",
      "text/plain": [
       "<Figure size 1080x432 with 1 Axes>"
      ]
     },
     "metadata": {},
     "output_type": "display_data"
    }
   ],
   "source": [
    "# Build our whale curve\n",
    "plt.figure(figsize=(15,6))\n",
    "sns.lineplot(data=sellers, x='seller_proportion', y='percent_profits')\n",
    "plt.xlabel('Percentage of Sellers (Ranked by Most Profitable to Least)')\n",
    "plt.ylabel('Cumulative Profits (%)');"
   ]
  },
  {
   "cell_type": "markdown",
   "metadata": {},
   "source": [
    "Our whale curve helps to underscore that roughly 80% of our sellers contribute to 120% of Olist profits. Another 10% of sellers have a negligible impact. And, the **remaining 10% drag down profits by 20%**.  "
   ]
  },
  {
   "cell_type": "markdown",
   "metadata": {},
   "source": [
    "Let's visualize this another way. What would Olist profits be if poor-performing sellers were no longer on the platform."
   ]
  },
  {
   "cell_type": "code",
   "execution_count": 17,
   "metadata": {},
   "outputs": [
    {
     "data": {
      "text/plain": [
       "-313276.50200000097"
      ]
     },
     "execution_count": 17,
     "metadata": {},
     "output_type": "execute_result"
    }
   ],
   "source": [
    "# Amount of reduction in profits due to bad reviews\n",
    "neg_profits = sellers[sellers['impact']=='negative'].profit_per_seller.cumsum()\n",
    "neg_profits.iloc[-1]"
   ]
  },
  {
   "cell_type": "code",
   "execution_count": 18,
   "metadata": {
    "scrolled": true
   },
   "outputs": [
    {
     "data": {
      "image/png": "[encoded data removed]",
      "text/plain": [
       "<Figure size 864x432 with 1 Axes>"
      ]
     },
     "metadata": {},
     "output_type": "display_data"
    }
   ],
   "source": [
    "# Bar chart showing profit comparison after removal of poor-performing sellers\n",
    "\n",
    "fig = plt.figure(figsize=(12,6))\n",
    "x_values = ['Before', 'After']\n",
    "y_values = [sellers.cumulative_profits.iloc[-1], sellers.cumulative_profits.iloc[-1] - neg_profits.iloc[-1]]\n",
    "ax = sns.barplot(data=sellers, x=x_values, y=y_values, palette='tab20')\n",
    "\n",
    "plt.ylabel('Profit (in BRL)')\n",
    "plt.ylim(0, 2500000)\n",
    "plt.suptitle('Profit Comparison from Removing Poor-performing Sellers', fontsize=12)\n",
    "ax.set_yticks(ax.get_yticks())\n",
    "yticklabels=['{:3.1f}'.format(y) + 'M' for y in ax.get_yticks()/1000000]\n",
    "ax.set_yticklabels(yticklabels);"
   ]
  },
  {
   "cell_type": "markdown",
   "metadata": {},
   "source": [
    "If Olist were to drop sellers who had a negative impact on profits, the platform would see an immediate boost in profits of **313,277 BRL** ($58,246 USD)! "
   ]
  },
  {
   "cell_type": "markdown",
   "metadata": {},
   "source": [
    "## What's the impact if we factor in IT costs?"
   ]
  },
  {
   "cell_type": "markdown",
   "metadata": {},
   "source": [
    "FROM PROBLEM STATEMENT --REMOVE\n",
    "\n",
    "In addition, Olist’s IT costs (servers, etc…) increase with the amount of orders processed, albeit less and less rapidly (scale effects).\n",
    "For the sake of simplicity, we will consider Olist’s total cumulative IT Costs to be proportional to the square-root of the total cumulative number of orders approved.\n",
    "#The IT department also told you that since the birth of the marketplace, cumulative IT costs have amounted to 500,000 BRL."
   ]
  },
  {
   "cell_type": "code",
   "execution_count": 19,
   "metadata": {
    "slideshow": {
     "slide_type": "skip"
    }
   },
   "outputs": [
    {
     "data": {
      "text/html": [
       "<div>\n",
       "<style scoped>\n",
       "    .dataframe tbody tr th:only-of-type {\n",
       "        vertical-align: middle;\n",
       "    }\n",
       "\n",
       "    .dataframe tbody tr th {\n",
       "        vertical-align: top;\n",
       "    }\n",
       "\n",
       "    .dataframe thead th {\n",
       "        text-align: right;\n",
       "    }\n",
       "</style>\n",
       "<table border=\"1\" class=\"dataframe\">\n",
       "  <thead>\n",
       "    <tr style=\"text-align: right;\">\n",
       "      <th></th>\n",
       "      <th>seller_id</th>\n",
       "      <th>seller_city</th>\n",
       "      <th>seller_state</th>\n",
       "      <th>delay_to_carrier</th>\n",
       "      <th>seller_wait_time</th>\n",
       "      <th>date_first_sale</th>\n",
       "      <th>date_last_sale</th>\n",
       "      <th>months_on_olist</th>\n",
       "      <th>share_of_one_stars</th>\n",
       "      <th>share_of_five_stars</th>\n",
       "      <th>...</th>\n",
       "      <th>n_orders</th>\n",
       "      <th>quantity</th>\n",
       "      <th>quantity_per_order</th>\n",
       "      <th>sales</th>\n",
       "      <th>revenue_per_seller</th>\n",
       "      <th>profit_per_seller</th>\n",
       "      <th>impact</th>\n",
       "      <th>cumulative_profits</th>\n",
       "      <th>percent_profits</th>\n",
       "      <th>seller_proportion</th>\n",
       "    </tr>\n",
       "  </thead>\n",
       "  <tbody>\n",
       "    <tr>\n",
       "      <th>2965</th>\n",
       "      <td>8b321bb669392f5163d04c59e235e066</td>\n",
       "      <td>sao paulo</td>\n",
       "      <td>SP</td>\n",
       "      <td>0.0</td>\n",
       "      <td>12.616899</td>\n",
       "      <td>2017-10-27 16:31:30</td>\n",
       "      <td>2018-08-21 17:08:38</td>\n",
       "      <td>10.0</td>\n",
       "      <td>0.118770</td>\n",
       "      <td>0.567338</td>\n",
       "      <td>...</td>\n",
       "      <td>943</td>\n",
       "      <td>1018</td>\n",
       "      <td>1.079533</td>\n",
       "      <td>17535.69</td>\n",
       "      <td>2553.569</td>\n",
       "      <td>-13066.431</td>\n",
       "      <td>negative</td>\n",
       "      <td>1335110.855</td>\n",
       "      <td>106.007854</td>\n",
       "      <td>99.86532</td>\n",
       "    </tr>\n",
       "    <tr>\n",
       "      <th>2966</th>\n",
       "      <td>ea8482cd71df3c1969d7b9473ff13abc</td>\n",
       "      <td>sao paulo</td>\n",
       "      <td>SP</td>\n",
       "      <td>0.0</td>\n",
       "      <td>13.315562</td>\n",
       "      <td>2017-08-16 15:15:26</td>\n",
       "      <td>2018-08-25 02:45:21</td>\n",
       "      <td>13.0</td>\n",
       "      <td>0.116827</td>\n",
       "      <td>0.524847</td>\n",
       "      <td>...</td>\n",
       "      <td>1146</td>\n",
       "      <td>1204</td>\n",
       "      <td>1.050611</td>\n",
       "      <td>37177.52</td>\n",
       "      <td>4757.752</td>\n",
       "      <td>-15952.248</td>\n",
       "      <td>negative</td>\n",
       "      <td>1319158.607</td>\n",
       "      <td>104.741245</td>\n",
       "      <td>99.89899</td>\n",
       "    </tr>\n",
       "    <tr>\n",
       "      <th>2967</th>\n",
       "      <td>cc419e0650a3c5ba77189a1882b7556a</td>\n",
       "      <td>santo andre</td>\n",
       "      <td>SP</td>\n",
       "      <td>0.0</td>\n",
       "      <td>11.539753</td>\n",
       "      <td>2017-02-02 17:10:21</td>\n",
       "      <td>2018-08-28 03:45:15</td>\n",
       "      <td>19.0</td>\n",
       "      <td>0.117277</td>\n",
       "      <td>0.581808</td>\n",
       "      <td>...</td>\n",
       "      <td>1706</td>\n",
       "      <td>1819</td>\n",
       "      <td>1.066237</td>\n",
       "      <td>104288.42</td>\n",
       "      <td>11948.842</td>\n",
       "      <td>-18051.158</td>\n",
       "      <td>negative</td>\n",
       "      <td>1301107.449</td>\n",
       "      <td>103.307982</td>\n",
       "      <td>99.93266</td>\n",
       "    </tr>\n",
       "    <tr>\n",
       "      <th>2968</th>\n",
       "      <td>4a3ca9315b744ce9f8e9374361493884</td>\n",
       "      <td>ibitinga</td>\n",
       "      <td>SP</td>\n",
       "      <td>0.0</td>\n",
       "      <td>14.416471</td>\n",
       "      <td>2017-01-08 09:45:12</td>\n",
       "      <td>2018-08-27 11:04:18</td>\n",
       "      <td>20.0</td>\n",
       "      <td>0.147640</td>\n",
       "      <td>0.476948</td>\n",
       "      <td>...</td>\n",
       "      <td>1806</td>\n",
       "      <td>2009</td>\n",
       "      <td>1.112403</td>\n",
       "      <td>200472.92</td>\n",
       "      <td>21647.292</td>\n",
       "      <td>-19242.708</td>\n",
       "      <td>negative</td>\n",
       "      <td>1281864.741</td>\n",
       "      <td>101.780111</td>\n",
       "      <td>99.96633</td>\n",
       "    </tr>\n",
       "    <tr>\n",
       "      <th>2969</th>\n",
       "      <td>6560211a19b47992c3666cc44a7e94c0</td>\n",
       "      <td>sao paulo</td>\n",
       "      <td>SP</td>\n",
       "      <td>0.0</td>\n",
       "      <td>9.539486</td>\n",
       "      <td>2017-02-17 07:45:11</td>\n",
       "      <td>2018-08-29 09:25:12</td>\n",
       "      <td>19.0</td>\n",
       "      <td>0.127957</td>\n",
       "      <td>0.510215</td>\n",
       "      <td>...</td>\n",
       "      <td>1854</td>\n",
       "      <td>2039</td>\n",
       "      <td>1.099784</td>\n",
       "      <td>123304.83</td>\n",
       "      <td>13850.483</td>\n",
       "      <td>-22419.517</td>\n",
       "      <td>negative</td>\n",
       "      <td>1259445.224</td>\n",
       "      <td>100.000000</td>\n",
       "      <td>100.00000</td>\n",
       "    </tr>\n",
       "  </tbody>\n",
       "</table>\n",
       "<p>5 rows × 22 columns</p>\n",
       "</div>"
      ],
      "text/plain": [
       "                             seller_id  seller_city seller_state  \\\n",
       "2965  8b321bb669392f5163d04c59e235e066    sao paulo           SP   \n",
       "2966  ea8482cd71df3c1969d7b9473ff13abc    sao paulo           SP   \n",
       "2967  cc419e0650a3c5ba77189a1882b7556a  santo andre           SP   \n",
       "2968  4a3ca9315b744ce9f8e9374361493884     ibitinga           SP   \n",
       "2969  6560211a19b47992c3666cc44a7e94c0    sao paulo           SP   \n",
       "\n",
       "      delay_to_carrier  seller_wait_time     date_first_sale  \\\n",
       "2965               0.0         12.616899 2017-10-27 16:31:30   \n",
       "2966               0.0         13.315562 2017-08-16 15:15:26   \n",
       "2967               0.0         11.539753 2017-02-02 17:10:21   \n",
       "2968               0.0         14.416471 2017-01-08 09:45:12   \n",
       "2969               0.0          9.539486 2017-02-17 07:45:11   \n",
       "\n",
       "          date_last_sale  months_on_olist  share_of_one_stars  \\\n",
       "2965 2018-08-21 17:08:38             10.0            0.118770   \n",
       "2966 2018-08-25 02:45:21             13.0            0.116827   \n",
       "2967 2018-08-28 03:45:15             19.0            0.117277   \n",
       "2968 2018-08-27 11:04:18             20.0            0.147640   \n",
       "2969 2018-08-29 09:25:12             19.0            0.127957   \n",
       "\n",
       "      share_of_five_stars  ...  n_orders  quantity  quantity_per_order  \\\n",
       "2965             0.567338  ...       943      1018            1.079533   \n",
       "2966             0.524847  ...      1146      1204            1.050611   \n",
       "2967             0.581808  ...      1706      1819            1.066237   \n",
       "2968             0.476948  ...      1806      2009            1.112403   \n",
       "2969             0.510215  ...      1854      2039            1.099784   \n",
       "\n",
       "          sales  revenue_per_seller  profit_per_seller    impact  \\\n",
       "2965   17535.69            2553.569         -13066.431  negative   \n",
       "2966   37177.52            4757.752         -15952.248  negative   \n",
       "2967  104288.42           11948.842         -18051.158  negative   \n",
       "2968  200472.92           21647.292         -19242.708  negative   \n",
       "2969  123304.83           13850.483         -22419.517  negative   \n",
       "\n",
       "      cumulative_profits percent_profits  seller_proportion  \n",
       "2965         1335110.855      106.007854           99.86532  \n",
       "2966         1319158.607      104.741245           99.89899  \n",
       "2967         1301107.449      103.307982           99.93266  \n",
       "2968         1281864.741      101.780111           99.96633  \n",
       "2969         1259445.224      100.000000          100.00000  \n",
       "\n",
       "[5 rows x 22 columns]"
      ]
     },
     "execution_count": 19,
     "metadata": {},
     "output_type": "execute_result"
    }
   ],
   "source": [
    "sellers.tail()"
   ]
  },
  {
   "cell_type": "markdown",
   "metadata": {},
   "source": [
    "While it does appear now that Olist's profit margins would benefit from removing poor-performing sellers, we've been asked to examine how removal of these sellers might also impact Olist's IT costs (servers, etc.). \n",
    "\n",
    "Olist's IT costs increase with the number of orders processed, but does so less and less rapidly due to scale effects. More precisely, we've been told that **total cumulative IT costs is proportional to the square-root of cumulative number of orders**. Additionally, the IT department has reported accumulated IT costs of **500,000 BRL** (~92,930 USD) since the founding of the company.\n",
    "\n",
    "Let's approach this using the following steps: \n",
    "\n",
    "1. Calculate the amount of IT costs for any given order volume. \n",
    "2. Calculate the order volume of poor-performing sellers and the accompanying IT costs \n",
    "3. Compare the difference in IT costs from removing poor-performing sellers"
   ]
  },
  {
   "cell_type": "markdown",
   "metadata": {},
   "source": [
    "### What are the IT costs for a particular order volume?"
   ]
  },
  {
   "cell_type": "markdown",
   "metadata": {},
   "source": [
    "We've been provided information that total cumulative IT costs is proportional to the square-root of the number of approved orders:\n",
    "\n",
    "**Olist Total Cumulative IT costs = $k\\sqrt{n}$**\n",
    "\n",
    "Here ***n*** is the ***total number of approved orders*** and ***k*** is a ***proportionality constant***."
   ]
  },
  {
   "cell_type": "markdown",
   "metadata": {},
   "source": [
    "Given this cumulative IT cost curve, we can see that it should take on the shape of a concave ascending curve like $ y = \\sqrt{x} $ but also transformed by a proportionality constant *k*. Let's plot a generic $ y = \\sqrt{x} $ to help visualize."
   ]
  },
  {
   "cell_type": "code",
   "execution_count": 20,
   "metadata": {
    "scrolled": true
   },
   "outputs": [
    {
     "data": {
      "image/png": "[encoded data removed]",
      "text/plain": [
       "<Figure size 1080x288 with 1 Axes>"
      ]
     },
     "metadata": {},
     "output_type": "display_data"
    }
   ],
   "source": [
    "# Rough sketch of a generic y = x**(1/2) curve\n",
    "\n",
    "plt.figure(figsize=(15,4))\n",
    "x=np.linspace(0,1000, 50)\n",
    "y=x**0.5\n",
    "sns.lineplot(x=x, y=y)\n",
    "plt.xlabel('Number of Orders')\n",
    "plt.ylabel('IT Cost (in BRL)');"
   ]
  },
  {
   "cell_type": "markdown",
   "metadata": {},
   "source": [
    "Given the shape of this particular cost curve, we can already see that IT costs will steadily increase with more orders. However, the difference in IT cost between each additional order (marginal IT cost??) is the greatest early on (when order numbers are low). At higher order volume, the IT cost appears to change less and less rapidly. \n",
    "\n",
    "Let's now try to get a more precise curve by doing a little math to solve for the proportionality constant *k*. \n",
    "\n",
    "Since we've been told that the cumulative cost of IT to date is **500,000 BRL**, we can set this equal to the area under the curve bounded by 0 to the *current number of orders* ***n***.\n",
    "\n",
    "Then to calculate the proportionality constant *k*, we just need to take the definite integral of this expression."
   ]
  },
  {
   "cell_type": "markdown",
   "metadata": {},
   "source": [
    "\n",
    "\n",
    "$\\int_{0}^{n} k\\sqrt{n}$ = 500,000    \n",
    "\n",
    "where *n* is the number of orders and *k* is a proportionality constant"
   ]
  },
  {
   "cell_type": "code",
   "execution_count": 21,
   "metadata": {},
   "outputs": [
    {
     "data": {
      "text/plain": [
       "99844"
      ]
     },
     "execution_count": 21,
     "metadata": {},
     "output_type": "execute_result"
    }
   ],
   "source": [
    "# total of n_orders\n",
    "total_orders = sellers.n_orders.sum()\n",
    "total_orders"
   ]
  },
  {
   "cell_type": "markdown",
   "metadata": {},
   "source": [
    "Let's evaluate the integral from **0** orders to the total cumulative number of orders **99,844**. \n",
    "\n",
    "**$\\int_{0}^{n} k\\sqrt{n} \\to \\int_{0}^{99,844} k(\\frac{2}{3}) n^\\frac{3}{2} - k(\\frac{2}{3}) (0)^\\frac{3}{2} $**\n",
    "\n",
    "Setting this equal to 500,000, we can solve for the proportionality constant ***k***.\n",
    "\n",
    "**$ k(\\frac{2}{3}) (99,844)^\\frac{3}{2} = 500,000 $**"
   ]
  },
  {
   "cell_type": "code",
   "execution_count": 22,
   "metadata": {},
   "outputs": [
    {
     "data": {
      "text/plain": [
       "0.023772688842554592"
      ]
     },
     "execution_count": 22,
     "metadata": {},
     "output_type": "execute_result"
    }
   ],
   "source": [
    "# Evaluating integral and solving for proportionatity constant k\n",
    "k = 500000 / ((2/3)*(99844**1.5))\n",
    "k"
   ]
  },
  {
   "cell_type": "markdown",
   "metadata": {},
   "source": [
    "This gives us the proportionality constant **k** $\\approx$ **0.024**. Now let's re-plot our IT cost curve more precisely.\n",
    "\n",
    "$ y = \\hspace{0.25 cm} k \\sqrt{n}  \\hspace{0.25 cm} = 0.024\\sqrt{n} $"
   ]
  },
  {
   "cell_type": "code",
   "execution_count": 23,
   "metadata": {
    "scrolled": false
   },
   "outputs": [
    {
     "data": {
      "image/png": "[encoded data removed]",
      "text/plain": [
       "<Figure size 1080x288 with 1 Axes>"
      ]
     },
     "metadata": {},
     "output_type": "display_data"
    }
   ],
   "source": [
    "# Re-Plotting our IT Cost Curve more precisely\n",
    "\n",
    "plt.figure(figsize=(15,4))\n",
    "x=np.linspace(0,99844, 50)\n",
    "y=(k)*(x**0.5)\n",
    "sns.lineplot(x=x, y=y)\n",
    "plt.xlabel('Number of Orders')\n",
    "plt.ylabel('IT Cost (in BRL)');"
   ]
  },
  {
   "cell_type": "markdown",
   "metadata": {},
   "source": [
    "We can now see what the IT cost will be at a particular order volume. The slope of the curve starting to stabilize once you approach 20,000 orders telling us that benefits from scale effects will start to matter less for IT costs. As the IT costs becomes more linear in shape, it means that more orders will just increase IT costs at a constant rate. "
   ]
  },
  {
   "cell_type": "markdown",
   "metadata": {},
   "source": [
    "### IT Costs Associated with Specific Sellers"
   ]
  },
  {
   "cell_type": "markdown",
   "metadata": {},
   "source": [
    "Let's now examine the IT costs associated with specific sellers. Since IT costs are a function of order volume, we'll also see if there are differences between our good and poor-performing sellers.  "
   ]
  },
  {
   "cell_type": "code",
   "execution_count": 24,
   "metadata": {
    "scrolled": true,
    "slideshow": {
     "slide_type": "skip"
    }
   },
   "outputs": [
    {
     "data": {
      "text/html": [
       "<div>\n",
       "<style scoped>\n",
       "    .dataframe tbody tr th:only-of-type {\n",
       "        vertical-align: middle;\n",
       "    }\n",
       "\n",
       "    .dataframe tbody tr th {\n",
       "        vertical-align: top;\n",
       "    }\n",
       "\n",
       "    .dataframe thead th {\n",
       "        text-align: right;\n",
       "    }\n",
       "</style>\n",
       "<table border=\"1\" class=\"dataframe\">\n",
       "  <thead>\n",
       "    <tr style=\"text-align: right;\">\n",
       "      <th></th>\n",
       "      <th>seller_id</th>\n",
       "      <th>seller_city</th>\n",
       "      <th>seller_state</th>\n",
       "      <th>delay_to_carrier</th>\n",
       "      <th>seller_wait_time</th>\n",
       "      <th>date_first_sale</th>\n",
       "      <th>date_last_sale</th>\n",
       "      <th>months_on_olist</th>\n",
       "      <th>share_of_one_stars</th>\n",
       "      <th>share_of_five_stars</th>\n",
       "      <th>...</th>\n",
       "      <th>quantity_per_order</th>\n",
       "      <th>sales</th>\n",
       "      <th>revenue_per_seller</th>\n",
       "      <th>profit_per_seller</th>\n",
       "      <th>impact</th>\n",
       "      <th>cumulative_profits</th>\n",
       "      <th>percent_profits</th>\n",
       "      <th>seller_proportion</th>\n",
       "      <th>cumulative_orders</th>\n",
       "      <th>cumulative_it_cost</th>\n",
       "    </tr>\n",
       "  </thead>\n",
       "  <tbody>\n",
       "    <tr>\n",
       "      <th>0</th>\n",
       "      <td>53243585a1d6dc2643021fd1853d8905</td>\n",
       "      <td>lauro de freitas</td>\n",
       "      <td>BA</td>\n",
       "      <td>0.0</td>\n",
       "      <td>13.374429</td>\n",
       "      <td>2017-08-28 18:44:58</td>\n",
       "      <td>2018-08-21 16:35:26</td>\n",
       "      <td>12.0</td>\n",
       "      <td>0.097765</td>\n",
       "      <td>0.558659</td>\n",
       "      <td>...</td>\n",
       "      <td>1.145251</td>\n",
       "      <td>222776.05</td>\n",
       "      <td>23237.605</td>\n",
       "      <td>17967.605</td>\n",
       "      <td>positive</td>\n",
       "      <td>17967.605</td>\n",
       "      <td>1.426629</td>\n",
       "      <td>0.03367</td>\n",
       "      <td>358</td>\n",
       "      <td>107.352358</td>\n",
       "    </tr>\n",
       "    <tr>\n",
       "      <th>1</th>\n",
       "      <td>7e93a43ef30c4f03f38b393420bc753a</td>\n",
       "      <td>barueri</td>\n",
       "      <td>SP</td>\n",
       "      <td>0.0</td>\n",
       "      <td>11.335141</td>\n",
       "      <td>2016-10-08 03:19:09</td>\n",
       "      <td>2018-07-14 21:25:19</td>\n",
       "      <td>22.0</td>\n",
       "      <td>0.104167</td>\n",
       "      <td>0.627976</td>\n",
       "      <td>...</td>\n",
       "      <td>1.011905</td>\n",
       "      <td>176431.87</td>\n",
       "      <td>19403.187</td>\n",
       "      <td>14603.187</td>\n",
       "      <td>positive</td>\n",
       "      <td>32570.792</td>\n",
       "      <td>2.586122</td>\n",
       "      <td>0.06734</td>\n",
       "      <td>694</td>\n",
       "      <td>289.751873</td>\n",
       "    </tr>\n",
       "    <tr>\n",
       "      <th>2</th>\n",
       "      <td>fa1c13f2614d7b5c4749cbc52fecda94</td>\n",
       "      <td>sumare</td>\n",
       "      <td>SP</td>\n",
       "      <td>0.0</td>\n",
       "      <td>13.341871</td>\n",
       "      <td>2017-01-07 20:55:10</td>\n",
       "      <td>2018-08-29 10:04:16</td>\n",
       "      <td>20.0</td>\n",
       "      <td>0.088889</td>\n",
       "      <td>0.673504</td>\n",
       "      <td>...</td>\n",
       "      <td>1.001709</td>\n",
       "      <td>194042.03</td>\n",
       "      <td>21004.203</td>\n",
       "      <td>14254.203</td>\n",
       "      <td>positive</td>\n",
       "      <td>46824.995</td>\n",
       "      <td>3.717906</td>\n",
       "      <td>0.10101</td>\n",
       "      <td>1279</td>\n",
       "      <td>724.924643</td>\n",
       "    </tr>\n",
       "    <tr>\n",
       "      <th>3</th>\n",
       "      <td>edb1ef5e36e0c8cd84eb3c9b003e486d</td>\n",
       "      <td>teresopolis</td>\n",
       "      <td>RJ</td>\n",
       "      <td>0.0</td>\n",
       "      <td>11.709806</td>\n",
       "      <td>2017-09-30 09:49:22</td>\n",
       "      <td>2018-08-20 19:30:10</td>\n",
       "      <td>11.0</td>\n",
       "      <td>0.066265</td>\n",
       "      <td>0.692771</td>\n",
       "      <td>...</td>\n",
       "      <td>1.054217</td>\n",
       "      <td>79284.55</td>\n",
       "      <td>8808.455</td>\n",
       "      <td>7288.455</td>\n",
       "      <td>positive</td>\n",
       "      <td>54113.450</td>\n",
       "      <td>4.296610</td>\n",
       "      <td>0.13468</td>\n",
       "      <td>1445</td>\n",
       "      <td>870.540173</td>\n",
       "    </tr>\n",
       "    <tr>\n",
       "      <th>4</th>\n",
       "      <td>ccc4bbb5f32a6ab2b7066a4130f114e3</td>\n",
       "      <td>curitiba</td>\n",
       "      <td>PR</td>\n",
       "      <td>0.0</td>\n",
       "      <td>15.853247</td>\n",
       "      <td>2017-01-07 14:00:13</td>\n",
       "      <td>2018-08-21 21:05:16</td>\n",
       "      <td>20.0</td>\n",
       "      <td>0.085561</td>\n",
       "      <td>0.652406</td>\n",
       "      <td>...</td>\n",
       "      <td>1.026738</td>\n",
       "      <td>74004.62</td>\n",
       "      <td>9000.462</td>\n",
       "      <td>6780.462</td>\n",
       "      <td>positive</td>\n",
       "      <td>60893.912</td>\n",
       "      <td>4.834979</td>\n",
       "      <td>0.16835</td>\n",
       "      <td>1632</td>\n",
       "      <td>1044.882074</td>\n",
       "    </tr>\n",
       "  </tbody>\n",
       "</table>\n",
       "<p>5 rows × 24 columns</p>\n",
       "</div>"
      ],
      "text/plain": [
       "                          seller_id       seller_city seller_state  \\\n",
       "0  53243585a1d6dc2643021fd1853d8905  lauro de freitas           BA   \n",
       "1  7e93a43ef30c4f03f38b393420bc753a           barueri           SP   \n",
       "2  fa1c13f2614d7b5c4749cbc52fecda94            sumare           SP   \n",
       "3  edb1ef5e36e0c8cd84eb3c9b003e486d       teresopolis           RJ   \n",
       "4  ccc4bbb5f32a6ab2b7066a4130f114e3          curitiba           PR   \n",
       "\n",
       "   delay_to_carrier  seller_wait_time     date_first_sale      date_last_sale  \\\n",
       "0               0.0         13.374429 2017-08-28 18:44:58 2018-08-21 16:35:26   \n",
       "1               0.0         11.335141 2016-10-08 03:19:09 2018-07-14 21:25:19   \n",
       "2               0.0         13.341871 2017-01-07 20:55:10 2018-08-29 10:04:16   \n",
       "3               0.0         11.709806 2017-09-30 09:49:22 2018-08-20 19:30:10   \n",
       "4               0.0         15.853247 2017-01-07 14:00:13 2018-08-21 21:05:16   \n",
       "\n",
       "   months_on_olist  share_of_one_stars  share_of_five_stars  ...  \\\n",
       "0             12.0            0.097765             0.558659  ...   \n",
       "1             22.0            0.104167             0.627976  ...   \n",
       "2             20.0            0.088889             0.673504  ...   \n",
       "3             11.0            0.066265             0.692771  ...   \n",
       "4             20.0            0.085561             0.652406  ...   \n",
       "\n",
       "   quantity_per_order      sales  revenue_per_seller  profit_per_seller  \\\n",
       "0            1.145251  222776.05           23237.605          17967.605   \n",
       "1            1.011905  176431.87           19403.187          14603.187   \n",
       "2            1.001709  194042.03           21004.203          14254.203   \n",
       "3            1.054217   79284.55            8808.455           7288.455   \n",
       "4            1.026738   74004.62            9000.462           6780.462   \n",
       "\n",
       "     impact  cumulative_profits  percent_profits  seller_proportion  \\\n",
       "0  positive           17967.605         1.426629            0.03367   \n",
       "1  positive           32570.792         2.586122            0.06734   \n",
       "2  positive           46824.995         3.717906            0.10101   \n",
       "3  positive           54113.450         4.296610            0.13468   \n",
       "4  positive           60893.912         4.834979            0.16835   \n",
       "\n",
       "  cumulative_orders  cumulative_it_cost  \n",
       "0               358          107.352358  \n",
       "1               694          289.751873  \n",
       "2              1279          724.924643  \n",
       "3              1445          870.540173  \n",
       "4              1632         1044.882074  \n",
       "\n",
       "[5 rows x 24 columns]"
      ]
     },
     "execution_count": 24,
     "metadata": {},
     "output_type": "execute_result"
    }
   ],
   "source": [
    "# Calculating IT costs per additional seller on the platform \n",
    "\n",
    "# The cumulative total of orders on the platform after adding this seller\n",
    "sellers['cumulative_orders'] = sellers['n_orders'].cumsum()\n",
    "\n",
    "# The cumulative total IT cost for Olist after adding this seller\n",
    "sellers['cumulative_it_cost'] = k*(2/3)*(sellers['cumulative_orders']**1.5)\n",
    "\n",
    "# The average cost of IT per order after adding this seller\n",
    "#sellers['it_unit_cost'] = sellers.cumulative_it_cost / sellers.cumulative_orders\n",
    "\n",
    "# # The marginal IT cost for Olist after adding this seller\n",
    "# sellers['it_marg_cost'] = k*sellers['cumulative_orders']**0.5\n",
    "\n",
    "# # Difference between average and marginal IT cost\n",
    "# sellers['diff_unit_marg_it'] = sellers.it_unit_cost - sellers.it_marg_cost\n",
    "#sellers['diff_unit_marg_it'].abs().min()\n",
    "\n",
    "sellers.head()"
   ]
  },
  {
   "cell_type": "markdown",
   "metadata": {},
   "source": [
    "### Order Volume"
   ]
  },
  {
   "cell_type": "markdown",
   "metadata": {},
   "source": [
    "Since IT costs are driven by order volume, let's see if there is a difference for these two groups of sellers."
   ]
  },
  {
   "cell_type": "code",
   "execution_count": 25,
   "metadata": {
    "scrolled": false
   },
   "outputs": [
    {
     "data": {
      "text/html": [
       "<div>\n",
       "<style scoped>\n",
       "    .dataframe tbody tr th:only-of-type {\n",
       "        vertical-align: middle;\n",
       "    }\n",
       "\n",
       "    .dataframe tbody tr th {\n",
       "        vertical-align: top;\n",
       "    }\n",
       "\n",
       "    .dataframe thead th {\n",
       "        text-align: right;\n",
       "    }\n",
       "</style>\n",
       "<table border=\"1\" class=\"dataframe\">\n",
       "  <thead>\n",
       "    <tr style=\"text-align: right;\">\n",
       "      <th></th>\n",
       "      <th>n_orders</th>\n",
       "    </tr>\n",
       "    <tr>\n",
       "      <th>impact</th>\n",
       "      <th></th>\n",
       "    </tr>\n",
       "  </thead>\n",
       "  <tbody>\n",
       "    <tr>\n",
       "      <th>negative</th>\n",
       "      <td>39817</td>\n",
       "    </tr>\n",
       "    <tr>\n",
       "      <th>positive</th>\n",
       "      <td>60027</td>\n",
       "    </tr>\n",
       "  </tbody>\n",
       "</table>\n",
       "</div>"
      ],
      "text/plain": [
       "          n_orders\n",
       "impact            \n",
       "negative     39817\n",
       "positive     60027"
      ]
     },
     "execution_count": 25,
     "metadata": {},
     "output_type": "execute_result"
    }
   ],
   "source": [
    "# Calculate the order volume for each group of sellers\n",
    "order_vol_df = sellers[['n_orders','impact']].groupby('impact').sum()\n",
    "order_vol_df"
   ]
  },
  {
   "cell_type": "code",
   "execution_count": 26,
   "metadata": {
    "scrolled": true
   },
   "outputs": [],
   "source": [
    "# # Calculate the number of orders from poor-performing sellers\n",
    "# bad_seller_volume = total_orders - sellers[sellers['impact']=='negative']['cumulative_orders'].iat[0]\n",
    "# bad_seller_volume"
   ]
  },
  {
   "cell_type": "code",
   "execution_count": 27,
   "metadata": {},
   "outputs": [],
   "source": [
    "# # Calculate the number of orders from good sellers\n",
    "# good_seller_volume = total_orders - bad_seller_volume\n",
    "# good_seller_volume"
   ]
  },
  {
   "cell_type": "code",
   "execution_count": 28,
   "metadata": {},
   "outputs": [
    {
     "data": {
      "text/html": [
       "<div>\n",
       "<style scoped>\n",
       "    .dataframe tbody tr th:only-of-type {\n",
       "        vertical-align: middle;\n",
       "    }\n",
       "\n",
       "    .dataframe tbody tr th {\n",
       "        vertical-align: top;\n",
       "    }\n",
       "\n",
       "    .dataframe thead th {\n",
       "        text-align: right;\n",
       "    }\n",
       "</style>\n",
       "<table border=\"1\" class=\"dataframe\">\n",
       "  <thead>\n",
       "    <tr style=\"text-align: right;\">\n",
       "      <th>impact</th>\n",
       "      <th>negative</th>\n",
       "      <th>positive</th>\n",
       "    </tr>\n",
       "  </thead>\n",
       "  <tbody>\n",
       "    <tr>\n",
       "      <th>n_orders</th>\n",
       "      <td>39817</td>\n",
       "      <td>60027</td>\n",
       "    </tr>\n",
       "  </tbody>\n",
       "</table>\n",
       "</div>"
      ],
      "text/plain": [
       "impact    negative  positive\n",
       "n_orders     39817     60027"
      ]
     },
     "execution_count": 28,
     "metadata": {},
     "output_type": "execute_result"
    }
   ],
   "source": [
    "order_vol_df.transpose()"
   ]
  },
  {
   "cell_type": "code",
   "execution_count": 29,
   "metadata": {
    "scrolled": false
   },
   "outputs": [
    {
     "data": {
      "image/png": "[encoded data removed]",
      "text/plain": [
       "<Figure size 432x288 with 1 Axes>"
      ]
     },
     "metadata": {},
     "output_type": "display_data"
    }
   ],
   "source": [
    "order_vol_df.transpose().plot.barh(stacked=True, cmap='Set1')\n",
    "plt.legend(title='Impact', labels=['Bad reviews', 'Good reviews'])\n",
    "plt.xlabel('Number of Orders');"
   ]
  },
  {
   "cell_type": "markdown",
   "metadata": {},
   "source": [
    "We now see that poor-performing sellers have about 40% of the order volume on Olist but make up only 9% of sellers. This already tells us that they are contributing to a larger share of the IT cost burden for Olist.\n",
    "\n",
    "Let's find out what the average difference in order volume is for these two groups."
   ]
  },
  {
   "cell_type": "code",
   "execution_count": 41,
   "metadata": {},
   "outputs": [
    {
     "data": {
      "text/html": [
       "<div>\n",
       "<style scoped>\n",
       "    .dataframe tbody tr th:only-of-type {\n",
       "        vertical-align: middle;\n",
       "    }\n",
       "\n",
       "    .dataframe tbody tr th {\n",
       "        vertical-align: top;\n",
       "    }\n",
       "\n",
       "    .dataframe thead th {\n",
       "        text-align: right;\n",
       "    }\n",
       "</style>\n",
       "<table border=\"1\" class=\"dataframe\">\n",
       "  <thead>\n",
       "    <tr style=\"text-align: right;\">\n",
       "      <th>impact</th>\n",
       "      <th>negative</th>\n",
       "      <th>positive</th>\n",
       "    </tr>\n",
       "  </thead>\n",
       "  <tbody>\n",
       "    <tr>\n",
       "      <th>n_orders</th>\n",
       "      <td>144.264493</td>\n",
       "      <td>22.281737</td>\n",
       "    </tr>\n",
       "  </tbody>\n",
       "</table>\n",
       "</div>"
      ],
      "text/plain": [
       "impact      negative   positive\n",
       "n_orders  144.264493  22.281737"
      ]
     },
     "execution_count": 41,
     "metadata": {},
     "output_type": "execute_result"
    }
   ],
   "source": [
    "# Calculate average order volume for each group of sellers\n",
    "avg_order_vol = sellers[['n_orders','impact']].groupby('impact').mean()\n",
    "\n",
    "avg_order_vol.transpose()\n"
   ]
  },
  {
   "cell_type": "code",
   "execution_count": 43,
   "metadata": {
    "scrolled": true
   },
   "outputs": [
    {
     "data": {
      "image/png": "[encoded data removed]",
      "text/plain": [
       "<Figure size 432x288 with 1 Axes>"
      ]
     },
     "metadata": {},
     "output_type": "display_data"
    }
   ],
   "source": [
    "avg_order_vol.plot(kind='bar', cmap='Set2', ylabel='Average Number of Orders', rot=0, legend=False);"
   ]
  },
  {
   "cell_type": "markdown",
   "metadata": {},
   "source": [
    "We can see that poor-performing sellers have an average order volume of roughly **7x** more than other sellers. This underscores their heavy usage of the IT infrastructure and extra IT cost burden.\n",
    "\n"
   ]
  },
  {
   "cell_type": "markdown",
   "metadata": {},
   "source": [
    "Let's now see what the total and average IT cost would be for Olist if poor-performing sellers were to be removed.\n",
    "\n"
   ]
  },
  {
   "cell_type": "code",
   "execution_count": 33,
   "metadata": {},
   "outputs": [
    {
     "data": {
      "text/plain": [
       "235315.64022040632"
      ]
     },
     "execution_count": 33,
     "metadata": {},
     "output_type": "execute_result"
    }
   ],
   "source": [
    "# Total Cumulative IT Cost with poor performers removed\n",
    "it_cost_post_removal = 0.024*(2/3)*((60028)**1.5)\n",
    "it_cost_post_removal"
   ]
  },
  {
   "cell_type": "code",
   "execution_count": 47,
   "metadata": {},
   "outputs": [
    {
     "data": {
      "text/plain": [
       "n_orders    3.920163\n",
       "Name: positive, dtype: float64"
      ]
     },
     "execution_count": 47,
     "metadata": {},
     "output_type": "execute_result"
    }
   ],
   "source": [
    "# Average IT cost per order with poor performers removed\n",
    "it_cost_post_removal / order_vol_df.iloc[1]"
   ]
  },
  {
   "cell_type": "markdown",
   "metadata": {},
   "source": [
    "Let's now compare both total and average IT costs if we were to remove poor-performing sellers from the platform.\n",
    "\n"
   ]
  },
  {
   "cell_type": "code",
   "execution_count": 60,
   "metadata": {},
   "outputs": [
    {
     "data": {
      "text/html": [
       "<div>\n",
       "<style scoped>\n",
       "    .dataframe tbody tr th:only-of-type {\n",
       "        vertical-align: middle;\n",
       "    }\n",
       "\n",
       "    .dataframe tbody tr th {\n",
       "        vertical-align: top;\n",
       "    }\n",
       "\n",
       "    .dataframe thead th {\n",
       "        text-align: right;\n",
       "    }\n",
       "</style>\n",
       "<table border=\"1\" class=\"dataframe\">\n",
       "  <thead>\n",
       "    <tr style=\"text-align: right;\">\n",
       "      <th>impact</th>\n",
       "      <th>negative</th>\n",
       "      <th>positive</th>\n",
       "    </tr>\n",
       "  </thead>\n",
       "  <tbody>\n",
       "    <tr>\n",
       "      <th>cumulative_it_cost</th>\n",
       "      <td>500000.0</td>\n",
       "      <td>233081.071184</td>\n",
       "    </tr>\n",
       "  </tbody>\n",
       "</table>\n",
       "</div>"
      ],
      "text/plain": [
       "impact              negative       positive\n",
       "cumulative_it_cost  500000.0  233081.071184"
      ]
     },
     "execution_count": 60,
     "metadata": {},
     "output_type": "execute_result"
    }
   ],
   "source": [
    "total_it_cost = sellers[['impact', 'cumulative_it_cost']].groupby('impact').max().transpose()\n",
    "total_it_cost"
   ]
  },
  {
   "cell_type": "code",
   "execution_count": 68,
   "metadata": {
    "scrolled": true
   },
   "outputs": [
    {
     "data": {
      "text/plain": [
       "''"
      ]
     },
     "execution_count": 68,
     "metadata": {},
     "output_type": "execute_result"
    },
    {
     "data": {
      "image/png": "[encoded data removed]",
      "text/plain": [
       "<Figure size 1080x432 with 1 Axes>"
      ]
     },
     "metadata": {},
     "output_type": "display_data"
    }
   ],
   "source": [
    "# Total Cumulative IT Costs before and after removing poor performers\n",
    "\n",
    "plt.figure(figsize=(15,6))\n",
    "xlabels = ['Before', 'After']\n",
    "sns.barplot(data=total_it_cost, palette='Set1')\n",
    "\n",
    ";\n"
   ]
  },
  {
   "cell_type": "code",
   "execution_count": 73,
   "metadata": {
    "scrolled": true
   },
   "outputs": [
    {
     "data": {
      "image/png": "[encoded data removed]",
      "text/plain": [
       "<Figure size 864x432 with 1 Axes>"
      ]
     },
     "metadata": {},
     "output_type": "display_data"
    }
   ],
   "source": [
    "fig = plt.figure(figsize=(12,6))\n",
    "x_values = ['Before', 'After']\n",
    "y_values = [total_it_cost.iloc[0,0], total_it_cost.iloc[0,1]]\n",
    "ax = sns.barplot(data=sellers, x=x_values, y=y_values, palette='tab20')\n",
    "\n",
    "plt.ylabel('Profit (in BRL)')\n",
    "plt.ylim(0, 600000)\n",
    "plt.suptitle('IT Cost Comparison from Removing Poor-performing Sellers', fontsize=12)\n",
    "ax.set_yticks(ax.get_yticks())\n",
    "yticklabels=['{:3.0f}'.format(y) + 'K' for y in ax.get_yticks()/1000]\n",
    "ax.set_yticklabels(yticklabels);"
   ]
  },
  {
   "cell_type": "code",
   "execution_count": 77,
   "metadata": {},
   "outputs": [
    {
     "data": {
      "text/plain": [
       "266918.9288156275"
      ]
     },
     "execution_count": 77,
     "metadata": {},
     "output_type": "execute_result"
    }
   ],
   "source": [
    "# Calculation of reduction of total IT costs from removing poor-performing sellers\n",
    "total_it_cost.iloc[0,0] - total_it_cost.iloc[0,1]"
   ]
  },
  {
   "cell_type": "markdown",
   "metadata": {},
   "source": [
    "Removing poor-performing sellers from the platform reduces order volume by 40% and translates into a reduction of **266,919 BRL** (~50,868 USD) in IT costs."
   ]
  },
  {
   "cell_type": "code",
   "execution_count": null,
   "metadata": {},
   "outputs": [],
   "source": [
    "# MAYBE NO NEED FOR AVERAGE CALCS BECAUSE"
   ]
  },
  {
   "cell_type": "code",
   "execution_count": 78,
   "metadata": {},
   "outputs": [
    {
     "data": {
      "text/plain": [
       "0       0.001788\n",
       "1       0.004827\n",
       "2       0.012077\n",
       "3       0.014502\n",
       "4       0.017407\n",
       "          ...   \n",
       "2689    3.882064\n",
       "2690    3.882258\n",
       "2691    3.882355\n",
       "2692    3.882840\n",
       "2693    3.882937\n",
       "Name: cumulative_it_cost, Length: 2694, dtype: float64"
      ]
     },
     "execution_count": 78,
     "metadata": {},
     "output_type": "execute_result"
    }
   ],
   "source": [
    "# Average IT cost per order after removing poor performers \n",
    "sellers[sellers['impact']=='positive']['cumulative_it_cost'] / sellers[sellers['impact']=='positive']['cumulative_orders'].iat[-1]"
   ]
  },
  {
   "cell_type": "code",
   "execution_count": null,
   "metadata": {},
   "outputs": [],
   "source": [
    "# Average IT cost per order before removing poor performers\n",
    "sellers.it_cost.sum() / total_orders"
   ]
  },
  {
   "cell_type": "code",
   "execution_count": null,
   "metadata": {
    "slideshow": {
     "slide_type": "skip"
    }
   },
   "outputs": [],
   "source": [
    "#Let's plot the average IT cost curve\n",
    "x = np.linspace(1,99844, 1)\n",
    "y = sellers. / x\n",
    "\n",
    "\n",
    "plt.figure(figsize=(15,4))\n",
    "sns.lineplot(x=x, y=y)\n",
    "plt.xlabel('Number of orders')\n",
    "plt.ylabel('Average IT cost per order')\n",
    "plt.set_ylim(0, );\n"
   ]
  },
  {
   "cell_type": "code",
   "execution_count": 50,
   "metadata": {
    "scrolled": false
   },
   "outputs": [
    {
     "ename": "AttributeError",
     "evalue": "'DataFrame' object has no attribute 'it_unit_cost'",
     "output_type": "error",
     "traceback": [
      "\u001b[0;31m---------------------------------------------------------------------------\u001b[0m",
      "\u001b[0;31mAttributeError\u001b[0m                            Traceback (most recent call last)",
      "\u001b[0;32m<ipython-input-50-c36d79ff62d1>\u001b[0m in \u001b[0;36m<module>\u001b[0;34m\u001b[0m\n\u001b[1;32m      2\u001b[0m \u001b[0;34m\u001b[0m\u001b[0m\n\u001b[1;32m      3\u001b[0m \u001b[0mplt\u001b[0m\u001b[0;34m.\u001b[0m\u001b[0mfigure\u001b[0m\u001b[0;34m(\u001b[0m\u001b[0mfigsize\u001b[0m\u001b[0;34m=\u001b[0m\u001b[0;34m(\u001b[0m\u001b[0;36m15\u001b[0m\u001b[0;34m,\u001b[0m\u001b[0;36m3\u001b[0m\u001b[0;34m)\u001b[0m\u001b[0;34m)\u001b[0m\u001b[0;34m\u001b[0m\u001b[0;34m\u001b[0m\u001b[0m\n\u001b[0;32m----> 4\u001b[0;31m \u001b[0my\u001b[0m\u001b[0;34m=\u001b[0m \u001b[0msellers\u001b[0m\u001b[0;34m.\u001b[0m\u001b[0mit_unit_cost\u001b[0m\u001b[0;34m\u001b[0m\u001b[0;34m\u001b[0m\u001b[0m\n\u001b[0m\u001b[1;32m      5\u001b[0m \u001b[0msns\u001b[0m\u001b[0;34m.\u001b[0m\u001b[0mlineplot\u001b[0m\u001b[0;34m(\u001b[0m\u001b[0mdata\u001b[0m\u001b[0;34m=\u001b[0m\u001b[0msellers\u001b[0m\u001b[0;34m,\u001b[0m \u001b[0mx\u001b[0m\u001b[0;34m=\u001b[0m\u001b[0;34m'cumulative_orders'\u001b[0m\u001b[0;34m,\u001b[0m \u001b[0my\u001b[0m\u001b[0;34m=\u001b[0m\u001b[0my\u001b[0m\u001b[0;34m)\u001b[0m\u001b[0;34m\u001b[0m\u001b[0;34m\u001b[0m\u001b[0m\n\u001b[1;32m      6\u001b[0m \u001b[0mplt\u001b[0m\u001b[0;34m.\u001b[0m\u001b[0mxlabel\u001b[0m\u001b[0;34m(\u001b[0m\u001b[0;34m'Number of Orders'\u001b[0m\u001b[0;34m)\u001b[0m\u001b[0;34m\u001b[0m\u001b[0;34m\u001b[0m\u001b[0m\n",
      "\u001b[0;32m~/.pyenv/versions/3.8.6/envs/lewagon/lib/python3.8/site-packages/pandas/core/generic.py\u001b[0m in \u001b[0;36m__getattr__\u001b[0;34m(self, name)\u001b[0m\n\u001b[1;32m   5463\u001b[0m             \u001b[0;32mif\u001b[0m \u001b[0mself\u001b[0m\u001b[0;34m.\u001b[0m\u001b[0m_info_axis\u001b[0m\u001b[0;34m.\u001b[0m\u001b[0m_can_hold_identifiers_and_holds_name\u001b[0m\u001b[0;34m(\u001b[0m\u001b[0mname\u001b[0m\u001b[0;34m)\u001b[0m\u001b[0;34m:\u001b[0m\u001b[0;34m\u001b[0m\u001b[0;34m\u001b[0m\u001b[0m\n\u001b[1;32m   5464\u001b[0m                 \u001b[0;32mreturn\u001b[0m \u001b[0mself\u001b[0m\u001b[0;34m[\u001b[0m\u001b[0mname\u001b[0m\u001b[0;34m]\u001b[0m\u001b[0;34m\u001b[0m\u001b[0;34m\u001b[0m\u001b[0m\n\u001b[0;32m-> 5465\u001b[0;31m             \u001b[0;32mreturn\u001b[0m \u001b[0mobject\u001b[0m\u001b[0;34m.\u001b[0m\u001b[0m__getattribute__\u001b[0m\u001b[0;34m(\u001b[0m\u001b[0mself\u001b[0m\u001b[0;34m,\u001b[0m \u001b[0mname\u001b[0m\u001b[0;34m)\u001b[0m\u001b[0;34m\u001b[0m\u001b[0;34m\u001b[0m\u001b[0m\n\u001b[0m\u001b[1;32m   5466\u001b[0m \u001b[0;34m\u001b[0m\u001b[0m\n\u001b[1;32m   5467\u001b[0m     \u001b[0;32mdef\u001b[0m \u001b[0m__setattr__\u001b[0m\u001b[0;34m(\u001b[0m\u001b[0mself\u001b[0m\u001b[0;34m,\u001b[0m \u001b[0mname\u001b[0m\u001b[0;34m:\u001b[0m \u001b[0mstr\u001b[0m\u001b[0;34m,\u001b[0m \u001b[0mvalue\u001b[0m\u001b[0;34m)\u001b[0m \u001b[0;34m->\u001b[0m \u001b[0;32mNone\u001b[0m\u001b[0;34m:\u001b[0m\u001b[0;34m\u001b[0m\u001b[0;34m\u001b[0m\u001b[0m\n",
      "\u001b[0;31mAttributeError\u001b[0m: 'DataFrame' object has no attribute 'it_unit_cost'"
     ]
    },
    {
     "data": {
      "text/plain": [
       "<Figure size 1080x216 with 0 Axes>"
      ]
     },
     "metadata": {},
     "output_type": "display_data"
    }
   ],
   "source": [
    "# Average IT Cost Curve\n",
    "\n",
    "plt.figure(figsize=(15,3))\n",
    "y= sellers.it_unit_cost\n",
    "sns.lineplot(data=sellers, x='cumulative_orders', y=y)\n",
    "plt.xlabel('Number of Orders')\n",
    "plt.ylabel('IT Unit Costs (in BRL)')\n",
    "plt.suptitle('Average IT Cost Curve');\n",
    "\n"
   ]
  },
  {
   "cell_type": "markdown",
   "metadata": {},
   "source": [
    "From the **Average IT Cost Curve**, we can see that with increasing orders, the average IT cost burden for each additional order also increases though at a slow pace. \n",
    "\n",
    "Without removing the poor-performing sellers and their order volume, the average IT cost per order is 5.00 BRL. However, because this group of sellers has a large order volume comprising 40% of all orders, removing them from the platform would actually push Olist back on the Average IT Cost curve and reduce the average IT cost to 3.88 BRL. \n"
   ]
  },
  {
   "cell_type": "code",
   "execution_count": null,
   "metadata": {},
   "outputs": [],
   "source": [
    "sellers[sellers['impact']=='positive'].tail()"
   ]
  },
  {
   "cell_type": "code",
   "execution_count": null,
   "metadata": {
    "slideshow": {
     "slide_type": "skip"
    }
   },
   "outputs": [],
   "source": [
    "#Profits per number of sellers removed [DO AFTER FACTOR IN IT COSTS]\n",
    "sellers['olist_profits'] = sellers['profit_per_seller'] - sellers['it_cost']\n",
    "sellers.loc[2680:2690]"
   ]
  },
  {
   "cell_type": "code",
   "execution_count": null,
   "metadata": {
    "slideshow": {
     "slide_type": "skip"
    }
   },
   "outputs": [],
   "source": [
    "sellers['olist_profits'][10:700].plot(figsize=(15,8));"
   ]
  },
  {
   "cell_type": "code",
   "execution_count": null,
   "metadata": {},
   "outputs": [],
   "source": [
    "sellers['olist_profits'].plot(figsize=(15,8));"
   ]
  },
  {
   "cell_type": "code",
   "execution_count": null,
   "metadata": {
    "scrolled": true,
    "slideshow": {
     "slide_type": "skip"
    }
   },
   "outputs": [],
   "source": [
    "sellers.loc[50:100, :]"
   ]
  },
  {
   "cell_type": "code",
   "execution_count": null,
   "metadata": {
    "slideshow": {
     "slide_type": "skip"
    }
   },
   "outputs": [],
   "source": [
    "sellers['n_orders'].sort_values()"
   ]
  },
  {
   "cell_type": "markdown",
   "metadata": {},
   "source": [
    "----NOT SURE WHERE TO PUT YET\n",
    "Understanding this will help us gauge whether removing the poorest-performing sellers along with their order volume would adversely impact Olist's cost structure. \n",
    "\n",
    "Sellers with high order volume also have accompanying higher IT costs associated with them. If poor-performing sellers both pose a drag on profits from the effects of bad reviews, and additionally, with large order volume consume a larger of IT resources, then it becomes even clearer that removal of these sellers would improve profits and relieve the burden on the IT infrastructure.  "
   ]
  },
  {
   "cell_type": "markdown",
   "metadata": {},
   "source": [
    "Our recommendation would be to consider removing them from the platform for:  \n",
    "1) an immediate X% boost in earnings, and \n",
    "2) a reduction in a heavy IT cost burden "
   ]
  },
  {
   "cell_type": "markdown",
   "metadata": {
    "slideshow": {
     "slide_type": "slide"
    }
   },
   "source": [
    "# Recommendation: \n",
    "\n",
    "## Remove poorest performing sellers on Olist platform for immediate profit increase"
   ]
  },
  {
   "cell_type": "markdown",
   "metadata": {
    "slideshow": {
     "slide_type": "slide"
    }
   },
   "source": [
    "## Profit Analysis\n",
    "\n",
    "- 280 poorest-performing sellers have negative impact on profits\n",
    "- Top 100 highest performing sellers comprise bulk of profits"
   ]
  },
  {
   "cell_type": "code",
   "execution_count": null,
   "metadata": {
    "slideshow": {
     "slide_type": "fragment"
    }
   },
   "outputs": [],
   "source": [
    "# If sellers ordered by level of contribution to Olist profits\n",
    "\n",
    "sellers['olist_profits'].plot(figsize=(15,7))\n",
    "plt.xlabel('Number of Sellers')\n",
    "plt.ylabel('Profit (BRL)')\n",
    "plt.show()\n"
   ]
  },
  {
   "cell_type": "code",
   "execution_count": null,
   "metadata": {},
   "outputs": [],
   "source": [
    "plt.figure(figsize=(15,8))\n",
    "sns.lineplot(data=sellers, x='cumulative_orders', y='cumulative_it_cost')\n",
    "plt.xlabel('Number of Orders')\n",
    "plt.ylabel('Cumulative IT Costs (in BRL)')\n",
    "plt.suptitle('IT Cumulative Cost Curve');"
   ]
  },
  {
   "cell_type": "markdown",
   "metadata": {
    "slideshow": {
     "slide_type": "subslide"
    }
   },
   "source": [
    "## Profit Analysis\n",
    "\n",
    "- Immediate profit increase of 320K BRL"
   ]
  },
  {
   "cell_type": "code",
   "execution_count": null,
   "metadata": {
    "slideshow": {
     "slide_type": "fragment"
    }
   },
   "outputs": [],
   "source": [
    "x_values = ['Before', 'After']\n",
    "y_values = [1.25, 1.57]\n",
    "plt.bar(x_values, y_values)\n",
    "plt.ylabel('Profit (Millions of BRL)')\n",
    "plt.ylim(0, 2)\n",
    "plt.show()\n"
   ]
  },
  {
   "cell_type": "markdown",
   "metadata": {
    "slideshow": {
     "slide_type": "slide"
    }
   },
   "source": [
    "## IT Cost Concerns \n",
    "\n",
    "- Increase in marginal costs due to drop in sellers negligible\n",
    "- Some poorest-performing sellers contribute to larger share of IT cost burden\n"
   ]
  },
  {
   "cell_type": "code",
   "execution_count": null,
   "metadata": {
    "slideshow": {
     "slide_type": "fragment"
    }
   },
   "outputs": [],
   "source": [
    "sellers['it_cost'].plot(figsize=(15,7))\n",
    "plt.xlabel('Number of Sellers')\n",
    "plt.ylabel('IT Cost per Seller (BRL)')\n",
    "plt.show()\n"
   ]
  },
  {
   "cell_type": "code",
   "execution_count": null,
   "metadata": {
    "slideshow": {
     "slide_type": "skip"
    }
   },
   "outputs": [],
   "source": [
    "sellers['it_cost'][10:700].plot()"
   ]
  },
  {
   "cell_type": "code",
   "execution_count": null,
   "metadata": {
    "slideshow": {
     "slide_type": "skip"
    }
   },
   "outputs": [],
   "source": [
    "ax1 = sellers['it_cost'].plot()\n",
    "ax1.set(xlim=[0,3000], ylim=[-1000,2000])\n",
    "\n",
    "ax2 = sellers['olist_profits'].plot()\n",
    "ax2.set(xlim=[0,3000], ylim=[-1000,2000])\n",
    "plt.xlabel['']\n",
    "\n",
    "\n"
   ]
  },
  {
   "cell_type": "markdown",
   "metadata": {
    "slideshow": {
     "slide_type": "slide"
    }
   },
   "source": [
    "## Areas to Explore Further\n",
    "\n",
    "- Evaluate whether can improve average seller performance\n",
    "- Explore reviews for cause of dissatisfaction"
   ]
  },
  {
   "cell_type": "code",
   "execution_count": null,
   "metadata": {
    "slideshow": {
     "slide_type": "skip"
    }
   },
   "outputs": [],
   "source": []
  },
  {
   "cell_type": "code",
   "execution_count": null,
   "metadata": {
    "slideshow": {
     "slide_type": "skip"
    }
   },
   "outputs": [],
   "source": []
  },
  {
   "cell_type": "code",
   "execution_count": null,
   "metadata": {
    "slideshow": {
     "slide_type": "skip"
    }
   },
   "outputs": [],
   "source": []
  },
  {
   "cell_type": "code",
   "execution_count": null,
   "metadata": {},
   "outputs": [],
   "source": []
  }
 ],
 "metadata": {
  "celltoolbar": "Raw Cell Format",
  "kernelspec": {
   "display_name": "Python 3",
   "language": "python",
   "name": "python3"
  },
  "language_info": {
   "codemirror_mode": {
    "name": "ipython",
    "version": 3
   },
   "file_extension": ".py",
   "mimetype": "text/x-python",
   "name": "python",
   "nbconvert_exporter": "python",
   "pygments_lexer": "ipython3",
   "version": "3.8.6"
  },
  "toc": {
   "base_numbering": 1,
   "nav_menu": {},
   "number_sections": true,
   "sideBar": true,
   "skip_h1_title": true,
   "title_cell": "Table of Contents",
   "title_sidebar": "Contents",
   "toc_cell": false,
   "toc_position": {
    "height": "calc(100% - 180px)",
    "left": "10px",
    "top": "150px",
    "width": "165px"
   },
   "toc_section_display": true,
   "toc_window_display": false
  },
  "varInspector": {
   "cols": {
    "lenName": 16,
    "lenType": 16,
    "lenVar": 40
   },
   "kernels_config": {
    "python": {
     "delete_cmd_postfix": "",
     "delete_cmd_prefix": "del ",
     "library": "var_list.py",
     "varRefreshCmd": "print(var_dic_list())"
    },
    "r": {
     "delete_cmd_postfix": ") ",
     "delete_cmd_prefix": "rm(",
     "library": "var_list.r",
     "varRefreshCmd": "cat(var_dic_list()) "
    }
   },
   "types_to_exclude": [
    "module",
    "function",
    "builtin_function_or_method",
    "instance",
    "_Feature"
   ],
   "window_display": false
  }
 },
 "nbformat": 4,
 "nbformat_minor": 4
}
