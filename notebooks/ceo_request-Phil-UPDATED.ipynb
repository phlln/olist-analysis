{
 "cells": [
  {
   "cell_type": "markdown",
   "metadata": {
    "slideshow": {
     "slide_type": "-"
    }
   },
   "source": [
    "# CEO-REQUEST CHALLENGE"
   ]
  },
  {
   "cell_type": "markdown",
   "metadata": {},
   "source": [
    "***CEO Question***\n",
    "\n",
    "How do we increase customer satisfaction (so as to increase profit margins) while maintaining a healthy order volume?"
   ]
  },
  {
   "cell_type": "markdown",
   "metadata": {},
   "source": [
    "**Findings from our Preliminary Analysis of the Orders and Sellers Datasets**\n",
    "\n",
    "- The more sellers (`number_of_sellers`) and products (`number_of_products`) that are combined into a single order, the lower the order `review_score`.  \n",
    "- The `wait_time` for the order, which is made up of two components (seller's `delay_to_carrier` + `carrier_delivery_time`) also has a significant association with low review scores.  \n",
    "\n",
    "While orders that contain more than a single seller or product do have a significant association with low review scores, orders that contain multiple sellers do not make up a large portion of orders on the platform, so any policy changes (e.g. restricting orders to a single seller) would not have a large impact on the bottom line. \n",
    "\n",
    "Instead, we'll see if we can make improvements based on the second finding of low review scores associated with `wait_time`. Since `carrier_delivery_time` is less directly in our control, we'll identify sellers who have been receiving low review scores and see the impact on Olist's profits if we remove them. \n",
    "\n",
    "In this notebook, we'll quantify the impact of keeping these poor-performing sellers on the platform, and make specific recommendations to the CEO on what changes can be made in the short term to increase customer satisfaction and Olist profit margins. "
   ]
  },
  {
   "cell_type": "markdown",
   "metadata": {},
   "source": [
    "**Next Steps to our Analysis**\n",
    "1. Identify how much revenue each seller brings in\n",
    "2. Calculate the cost to Olist of bad reviews for each seller\n",
    "3. Calculate the profit to Olist per seller and see the distribution \n",
    "3. Understand the impact on Olist's profits by poor performers\n",
    "4. Find out how much removing these sellers would impact Olist's IT costs "
   ]
  },
  {
   "cell_type": "markdown",
   "metadata": {
    "slideshow": {
     "slide_type": "-"
    }
   },
   "source": [
    "\n",
    "**Problem statement** ---REMOVE"
   ]
  },
  {
   "cell_type": "markdown",
   "metadata": {
    "slideshow": {
     "slide_type": "-"
    }
   },
   "source": [
    "To analyse the impact of removing the worst sellers from Olist's marketplace, we can start with a what-if analysis: What would have happened if Olist had never accepted these sellers in the first place? For that:\n",
    "\n",
    "Step ① Compute, for each `seller_id`, and cumulated since the beginning:\n",
    "- The `revenues` it brings\n",
    "- The `costs` associated with all its bad reviews\n",
    "- The resulting `profits` (revenues - costs)\n",
    "- The number of `orders` (it will impact overall IT costs)\n",
    "\n",
    "\n",
    "Step ② We can then sort sellers by increasing profits for Olist, and for each number of sellers to remove, compute the financial impact it would have made had they never been accepted on the platform. We may find an optimal number of sellers to remove that maximizes Olist's profit margin"
   ]
  },
  {
   "cell_type": "markdown",
   "metadata": {
    "slideshow": {
     "slide_type": "skip"
    }
   },
   "source": [
    "\n",
    "\n",
    "\n",
    "Starting from your current `seller().get_training_data()` DataFrame:\n",
    "- Can you easily transform it to compute Olist's positive `revenue_per_seller`? \n",
    "- Can you easily transform it to compute Olist's `cost_of_bad_reviews`?\n",
    "\n",
    "❓Instead of starting again from scratch, investigate your source code in `seller.py` - how was the mean `review_score` per seller computed? Can you imagine a way to amend your code  to compute `cost_of_reviews` in the same process? \n",
    "\n"
   ]
  },
  {
   "cell_type": "markdown",
   "metadata": {},
   "source": [
    "# START"
   ]
  },
  {
   "cell_type": "code",
   "execution_count": 1,
   "metadata": {
    "slideshow": {
     "slide_type": "skip"
    }
   },
   "outputs": [],
   "source": [
    "import numpy as np\n",
    "import pandas as pd\n",
    "import matplotlib.pyplot as plt\n",
    "import seaborn as sns\n",
    "import math\n",
    "from olist.seller import Seller\n",
    "from olist.data import Olist \n",
    "\n",
    "%load_ext autoreload\n",
    "%autoreload 2\n",
    "%matplotlib inline"
   ]
  },
  {
   "cell_type": "code",
   "execution_count": 2,
   "metadata": {
    "scrolled": true,
    "slideshow": {
     "slide_type": "skip"
    }
   },
   "outputs": [
    {
     "data": {
      "text/html": [
       "<div>\n",
       "<style scoped>\n",
       "    .dataframe tbody tr th:only-of-type {\n",
       "        vertical-align: middle;\n",
       "    }\n",
       "\n",
       "    .dataframe tbody tr th {\n",
       "        vertical-align: top;\n",
       "    }\n",
       "\n",
       "    .dataframe thead th {\n",
       "        text-align: right;\n",
       "    }\n",
       "</style>\n",
       "<table border=\"1\" class=\"dataframe\">\n",
       "  <thead>\n",
       "    <tr style=\"text-align: right;\">\n",
       "      <th></th>\n",
       "      <th>seller_id</th>\n",
       "      <th>seller_city</th>\n",
       "      <th>seller_state</th>\n",
       "      <th>delay_to_carrier</th>\n",
       "      <th>seller_wait_time</th>\n",
       "      <th>date_first_sale</th>\n",
       "      <th>date_last_sale</th>\n",
       "      <th>months_on_olist</th>\n",
       "      <th>share_of_one_stars</th>\n",
       "      <th>share_of_five_stars</th>\n",
       "      <th>seller_review_score</th>\n",
       "      <th>review_cost_per_seller</th>\n",
       "      <th>n_orders</th>\n",
       "      <th>quantity</th>\n",
       "      <th>quantity_per_order</th>\n",
       "      <th>sales</th>\n",
       "    </tr>\n",
       "  </thead>\n",
       "  <tbody>\n",
       "    <tr>\n",
       "      <th>0</th>\n",
       "      <td>3442f8959a84dea7ee197c632cb2df15</td>\n",
       "      <td>campinas</td>\n",
       "      <td>SP</td>\n",
       "      <td>0.000000</td>\n",
       "      <td>13.018588</td>\n",
       "      <td>2017-05-05 16:25:11</td>\n",
       "      <td>2017-08-30 12:50:19</td>\n",
       "      <td>4.0</td>\n",
       "      <td>0.333333</td>\n",
       "      <td>0.333333</td>\n",
       "      <td>3.00</td>\n",
       "      <td>140</td>\n",
       "      <td>3</td>\n",
       "      <td>3</td>\n",
       "      <td>1.000</td>\n",
       "      <td>218.70</td>\n",
       "    </tr>\n",
       "    <tr>\n",
       "      <th>1</th>\n",
       "      <td>d1b65fc7debc3361ea86b5f14c68d2e2</td>\n",
       "      <td>mogi guacu</td>\n",
       "      <td>SP</td>\n",
       "      <td>0.000000</td>\n",
       "      <td>9.065716</td>\n",
       "      <td>2017-03-29 02:10:34</td>\n",
       "      <td>2018-06-06 20:15:21</td>\n",
       "      <td>14.0</td>\n",
       "      <td>0.050000</td>\n",
       "      <td>0.725000</td>\n",
       "      <td>4.55</td>\n",
       "      <td>240</td>\n",
       "      <td>40</td>\n",
       "      <td>41</td>\n",
       "      <td>1.025</td>\n",
       "      <td>11703.07</td>\n",
       "    </tr>\n",
       "    <tr>\n",
       "      <th>2</th>\n",
       "      <td>ce3ad9de960102d0677a81f5d0bb7b2d</td>\n",
       "      <td>rio de janeiro</td>\n",
       "      <td>RJ</td>\n",
       "      <td>0.000000</td>\n",
       "      <td>4.042292</td>\n",
       "      <td>2018-07-30 12:44:49</td>\n",
       "      <td>2018-07-30 12:44:49</td>\n",
       "      <td>0.0</td>\n",
       "      <td>0.000000</td>\n",
       "      <td>1.000000</td>\n",
       "      <td>5.00</td>\n",
       "      <td>0</td>\n",
       "      <td>1</td>\n",
       "      <td>1</td>\n",
       "      <td>1.000</td>\n",
       "      <td>158.00</td>\n",
       "    </tr>\n",
       "    <tr>\n",
       "      <th>3</th>\n",
       "      <td>c0f3eea2e14555b6faeea3dd58c1b1c3</td>\n",
       "      <td>sao paulo</td>\n",
       "      <td>SP</td>\n",
       "      <td>0.000000</td>\n",
       "      <td>5.667187</td>\n",
       "      <td>2018-08-03 00:44:08</td>\n",
       "      <td>2018-08-03 00:44:08</td>\n",
       "      <td>0.0</td>\n",
       "      <td>0.000000</td>\n",
       "      <td>1.000000</td>\n",
       "      <td>5.00</td>\n",
       "      <td>0</td>\n",
       "      <td>1</td>\n",
       "      <td>1</td>\n",
       "      <td>1.000</td>\n",
       "      <td>79.99</td>\n",
       "    </tr>\n",
       "    <tr>\n",
       "      <th>4</th>\n",
       "      <td>51a04a8a6bdcb23deccc82b0b80742cf</td>\n",
       "      <td>braganca paulista</td>\n",
       "      <td>SP</td>\n",
       "      <td>3.353727</td>\n",
       "      <td>35.314861</td>\n",
       "      <td>2017-11-14 12:15:25</td>\n",
       "      <td>2017-11-14 12:15:25</td>\n",
       "      <td>0.0</td>\n",
       "      <td>1.000000</td>\n",
       "      <td>0.000000</td>\n",
       "      <td>1.00</td>\n",
       "      <td>100</td>\n",
       "      <td>1</td>\n",
       "      <td>1</td>\n",
       "      <td>1.000</td>\n",
       "      <td>167.99</td>\n",
       "    </tr>\n",
       "  </tbody>\n",
       "</table>\n",
       "</div>"
      ],
      "text/plain": [
       "                          seller_id        seller_city seller_state  \\\n",
       "0  3442f8959a84dea7ee197c632cb2df15           campinas           SP   \n",
       "1  d1b65fc7debc3361ea86b5f14c68d2e2         mogi guacu           SP   \n",
       "2  ce3ad9de960102d0677a81f5d0bb7b2d     rio de janeiro           RJ   \n",
       "3  c0f3eea2e14555b6faeea3dd58c1b1c3          sao paulo           SP   \n",
       "4  51a04a8a6bdcb23deccc82b0b80742cf  braganca paulista           SP   \n",
       "\n",
       "   delay_to_carrier  seller_wait_time     date_first_sale      date_last_sale  \\\n",
       "0          0.000000         13.018588 2017-05-05 16:25:11 2017-08-30 12:50:19   \n",
       "1          0.000000          9.065716 2017-03-29 02:10:34 2018-06-06 20:15:21   \n",
       "2          0.000000          4.042292 2018-07-30 12:44:49 2018-07-30 12:44:49   \n",
       "3          0.000000          5.667187 2018-08-03 00:44:08 2018-08-03 00:44:08   \n",
       "4          3.353727         35.314861 2017-11-14 12:15:25 2017-11-14 12:15:25   \n",
       "\n",
       "   months_on_olist  share_of_one_stars  share_of_five_stars  \\\n",
       "0              4.0            0.333333             0.333333   \n",
       "1             14.0            0.050000             0.725000   \n",
       "2              0.0            0.000000             1.000000   \n",
       "3              0.0            0.000000             1.000000   \n",
       "4              0.0            1.000000             0.000000   \n",
       "\n",
       "   seller_review_score  review_cost_per_seller  n_orders  quantity  \\\n",
       "0                 3.00                     140         3         3   \n",
       "1                 4.55                     240        40        41   \n",
       "2                 5.00                       0         1         1   \n",
       "3                 5.00                       0         1         1   \n",
       "4                 1.00                     100         1         1   \n",
       "\n",
       "   quantity_per_order     sales  \n",
       "0               1.000    218.70  \n",
       "1               1.025  11703.07  \n",
       "2               1.000    158.00  \n",
       "3               1.000     79.99  \n",
       "4               1.000    167.99  "
      ]
     },
     "execution_count": 2,
     "metadata": {},
     "output_type": "execute_result"
    }
   ],
   "source": [
    "# Let's look again at our Sellers data\n",
    "sellers = Seller().get_training_data()\n",
    "sellers.head()"
   ]
  },
  {
   "cell_type": "code",
   "execution_count": 3,
   "metadata": {},
   "outputs": [],
   "source": [
    "#CAN BE DELETED LATER\n",
    "#export dataset for Tableau\n",
    "path = '../data/csv/seller_dataset_modified.csv'\n",
    "sellers.to_csv(path_or_buf=path, index=False)"
   ]
  },
  {
   "cell_type": "markdown",
   "metadata": {},
   "source": [
    "## Revenue per seller"
   ]
  },
  {
   "cell_type": "markdown",
   "metadata": {},
   "source": [
    "Olist generates revenue from its sellers through two components:\n",
    "1. **Monthly Membership Fee** - sellers pay Olist an **80 BRL** (~$15 USD) monthly fee to use the platform\n",
    "2. **Revenue Share** - for every order on the platform, Olist takes a **10% cut** based on the product price  of each item (excl. shipping)\n"
   ]
  },
  {
   "cell_type": "code",
   "execution_count": 4,
   "metadata": {
    "scrolled": true,
    "slideshow": {
     "slide_type": "skip"
    }
   },
   "outputs": [
    {
     "data": {
      "text/html": [
       "<div>\n",
       "<style scoped>\n",
       "    .dataframe tbody tr th:only-of-type {\n",
       "        vertical-align: middle;\n",
       "    }\n",
       "\n",
       "    .dataframe tbody tr th {\n",
       "        vertical-align: top;\n",
       "    }\n",
       "\n",
       "    .dataframe thead th {\n",
       "        text-align: right;\n",
       "    }\n",
       "</style>\n",
       "<table border=\"1\" class=\"dataframe\">\n",
       "  <thead>\n",
       "    <tr style=\"text-align: right;\">\n",
       "      <th></th>\n",
       "      <th>seller_id</th>\n",
       "      <th>seller_city</th>\n",
       "      <th>seller_state</th>\n",
       "      <th>delay_to_carrier</th>\n",
       "      <th>seller_wait_time</th>\n",
       "      <th>date_first_sale</th>\n",
       "      <th>date_last_sale</th>\n",
       "      <th>months_on_olist</th>\n",
       "      <th>share_of_one_stars</th>\n",
       "      <th>share_of_five_stars</th>\n",
       "      <th>seller_review_score</th>\n",
       "      <th>review_cost_per_seller</th>\n",
       "      <th>n_orders</th>\n",
       "      <th>quantity</th>\n",
       "      <th>quantity_per_order</th>\n",
       "      <th>sales</th>\n",
       "      <th>revenue_per_seller</th>\n",
       "    </tr>\n",
       "  </thead>\n",
       "  <tbody>\n",
       "    <tr>\n",
       "      <th>0</th>\n",
       "      <td>3442f8959a84dea7ee197c632cb2df15</td>\n",
       "      <td>campinas</td>\n",
       "      <td>SP</td>\n",
       "      <td>0.000000</td>\n",
       "      <td>13.018588</td>\n",
       "      <td>2017-05-05 16:25:11</td>\n",
       "      <td>2017-08-30 12:50:19</td>\n",
       "      <td>4.0</td>\n",
       "      <td>0.333333</td>\n",
       "      <td>0.333333</td>\n",
       "      <td>3.00</td>\n",
       "      <td>140</td>\n",
       "      <td>3</td>\n",
       "      <td>3</td>\n",
       "      <td>1.000</td>\n",
       "      <td>218.70</td>\n",
       "      <td>341.870</td>\n",
       "    </tr>\n",
       "    <tr>\n",
       "      <th>1</th>\n",
       "      <td>d1b65fc7debc3361ea86b5f14c68d2e2</td>\n",
       "      <td>mogi guacu</td>\n",
       "      <td>SP</td>\n",
       "      <td>0.000000</td>\n",
       "      <td>9.065716</td>\n",
       "      <td>2017-03-29 02:10:34</td>\n",
       "      <td>2018-06-06 20:15:21</td>\n",
       "      <td>15.0</td>\n",
       "      <td>0.050000</td>\n",
       "      <td>0.725000</td>\n",
       "      <td>4.55</td>\n",
       "      <td>240</td>\n",
       "      <td>40</td>\n",
       "      <td>41</td>\n",
       "      <td>1.025</td>\n",
       "      <td>11703.07</td>\n",
       "      <td>2370.307</td>\n",
       "    </tr>\n",
       "    <tr>\n",
       "      <th>2</th>\n",
       "      <td>ce3ad9de960102d0677a81f5d0bb7b2d</td>\n",
       "      <td>rio de janeiro</td>\n",
       "      <td>RJ</td>\n",
       "      <td>0.000000</td>\n",
       "      <td>4.042292</td>\n",
       "      <td>2018-07-30 12:44:49</td>\n",
       "      <td>2018-07-30 12:44:49</td>\n",
       "      <td>1.0</td>\n",
       "      <td>0.000000</td>\n",
       "      <td>1.000000</td>\n",
       "      <td>5.00</td>\n",
       "      <td>0</td>\n",
       "      <td>1</td>\n",
       "      <td>1</td>\n",
       "      <td>1.000</td>\n",
       "      <td>158.00</td>\n",
       "      <td>95.800</td>\n",
       "    </tr>\n",
       "    <tr>\n",
       "      <th>3</th>\n",
       "      <td>c0f3eea2e14555b6faeea3dd58c1b1c3</td>\n",
       "      <td>sao paulo</td>\n",
       "      <td>SP</td>\n",
       "      <td>0.000000</td>\n",
       "      <td>5.667187</td>\n",
       "      <td>2018-08-03 00:44:08</td>\n",
       "      <td>2018-08-03 00:44:08</td>\n",
       "      <td>1.0</td>\n",
       "      <td>0.000000</td>\n",
       "      <td>1.000000</td>\n",
       "      <td>5.00</td>\n",
       "      <td>0</td>\n",
       "      <td>1</td>\n",
       "      <td>1</td>\n",
       "      <td>1.000</td>\n",
       "      <td>79.99</td>\n",
       "      <td>87.999</td>\n",
       "    </tr>\n",
       "    <tr>\n",
       "      <th>4</th>\n",
       "      <td>51a04a8a6bdcb23deccc82b0b80742cf</td>\n",
       "      <td>braganca paulista</td>\n",
       "      <td>SP</td>\n",
       "      <td>3.353727</td>\n",
       "      <td>35.314861</td>\n",
       "      <td>2017-11-14 12:15:25</td>\n",
       "      <td>2017-11-14 12:15:25</td>\n",
       "      <td>1.0</td>\n",
       "      <td>1.000000</td>\n",
       "      <td>0.000000</td>\n",
       "      <td>1.00</td>\n",
       "      <td>100</td>\n",
       "      <td>1</td>\n",
       "      <td>1</td>\n",
       "      <td>1.000</td>\n",
       "      <td>167.99</td>\n",
       "      <td>96.799</td>\n",
       "    </tr>\n",
       "  </tbody>\n",
       "</table>\n",
       "</div>"
      ],
      "text/plain": [
       "                          seller_id        seller_city seller_state  \\\n",
       "0  3442f8959a84dea7ee197c632cb2df15           campinas           SP   \n",
       "1  d1b65fc7debc3361ea86b5f14c68d2e2         mogi guacu           SP   \n",
       "2  ce3ad9de960102d0677a81f5d0bb7b2d     rio de janeiro           RJ   \n",
       "3  c0f3eea2e14555b6faeea3dd58c1b1c3          sao paulo           SP   \n",
       "4  51a04a8a6bdcb23deccc82b0b80742cf  braganca paulista           SP   \n",
       "\n",
       "   delay_to_carrier  seller_wait_time     date_first_sale      date_last_sale  \\\n",
       "0          0.000000         13.018588 2017-05-05 16:25:11 2017-08-30 12:50:19   \n",
       "1          0.000000          9.065716 2017-03-29 02:10:34 2018-06-06 20:15:21   \n",
       "2          0.000000          4.042292 2018-07-30 12:44:49 2018-07-30 12:44:49   \n",
       "3          0.000000          5.667187 2018-08-03 00:44:08 2018-08-03 00:44:08   \n",
       "4          3.353727         35.314861 2017-11-14 12:15:25 2017-11-14 12:15:25   \n",
       "\n",
       "   months_on_olist  share_of_one_stars  share_of_five_stars  \\\n",
       "0              4.0            0.333333             0.333333   \n",
       "1             15.0            0.050000             0.725000   \n",
       "2              1.0            0.000000             1.000000   \n",
       "3              1.0            0.000000             1.000000   \n",
       "4              1.0            1.000000             0.000000   \n",
       "\n",
       "   seller_review_score  review_cost_per_seller  n_orders  quantity  \\\n",
       "0                 3.00                     140         3         3   \n",
       "1                 4.55                     240        40        41   \n",
       "2                 5.00                       0         1         1   \n",
       "3                 5.00                       0         1         1   \n",
       "4                 1.00                     100         1         1   \n",
       "\n",
       "   quantity_per_order     sales  revenue_per_seller  \n",
       "0               1.000    218.70             341.870  \n",
       "1               1.025  11703.07            2370.307  \n",
       "2               1.000    158.00              95.800  \n",
       "3               1.000     79.99              87.999  \n",
       "4               1.000    167.99              96.799  "
      ]
     },
     "execution_count": 4,
     "metadata": {},
     "output_type": "execute_result"
    }
   ],
   "source": [
    "# Revenue Calculation: Monthly Membership Fee Calculation + Revenue Share\n",
    "\n",
    "# Calculate total time on platform (in months)\n",
    "number_of_months_on_olist = (sellers.date_last_sale - sellers.date_first_sale) / np.timedelta64(1, 'M')\n",
    "sellers['months_on_olist'] = number_of_months_on_olist.map(lambda x: 1 if x < 1 else np.ceil(x))\n",
    "\n",
    "# Calculate total revenue seller generates for Olist\n",
    "sellers['revenue_per_seller'] = sellers.months_on_olist * 80 + sellers.sales * 0.1\n",
    "sellers.head()"
   ]
  },
  {
   "cell_type": "markdown",
   "metadata": {
    "slideshow": {
     "slide_type": "skip"
    }
   },
   "source": [
    "## Costs per seller"
   ]
  },
  {
   "cell_type": "markdown",
   "metadata": {},
   "source": [
    "Because poor reviews from customers can have several direct and indirect costs to a business (e.g. customer support utilization, bad word-of-mouth, low repeat rate, etc.), we'll use the following table to estimate monetary costs associated with bad reviews:\n",
    "\n",
    "**Estimated cost to Olist per bad review (in Brazilian Reals)** *(100 BRL $\\approx$ 20 USD)*\n",
    "- **1 star:** 100\n",
    "- **2 stars:** 50\n",
    "- **3 stars:** 40\n",
    "- **4 stars:** 0\n",
    "- **5 stars:** 0"
   ]
  },
  {
   "cell_type": "code",
   "execution_count": 5,
   "metadata": {},
   "outputs": [
    {
     "data": {
      "text/html": [
       "<div>\n",
       "<style scoped>\n",
       "    .dataframe tbody tr th:only-of-type {\n",
       "        vertical-align: middle;\n",
       "    }\n",
       "\n",
       "    .dataframe tbody tr th {\n",
       "        vertical-align: top;\n",
       "    }\n",
       "\n",
       "    .dataframe thead th {\n",
       "        text-align: right;\n",
       "    }\n",
       "</style>\n",
       "<table border=\"1\" class=\"dataframe\">\n",
       "  <thead>\n",
       "    <tr style=\"text-align: right;\">\n",
       "      <th></th>\n",
       "      <th>seller_id</th>\n",
       "      <th>seller_review_score</th>\n",
       "      <th>review_cost_per_seller</th>\n",
       "    </tr>\n",
       "  </thead>\n",
       "  <tbody>\n",
       "    <tr>\n",
       "      <th>0</th>\n",
       "      <td>3442f8959a84dea7ee197c632cb2df15</td>\n",
       "      <td>3.00</td>\n",
       "      <td>140</td>\n",
       "    </tr>\n",
       "    <tr>\n",
       "      <th>1</th>\n",
       "      <td>d1b65fc7debc3361ea86b5f14c68d2e2</td>\n",
       "      <td>4.55</td>\n",
       "      <td>240</td>\n",
       "    </tr>\n",
       "    <tr>\n",
       "      <th>2</th>\n",
       "      <td>ce3ad9de960102d0677a81f5d0bb7b2d</td>\n",
       "      <td>5.00</td>\n",
       "      <td>0</td>\n",
       "    </tr>\n",
       "    <tr>\n",
       "      <th>3</th>\n",
       "      <td>c0f3eea2e14555b6faeea3dd58c1b1c3</td>\n",
       "      <td>5.00</td>\n",
       "      <td>0</td>\n",
       "    </tr>\n",
       "    <tr>\n",
       "      <th>4</th>\n",
       "      <td>51a04a8a6bdcb23deccc82b0b80742cf</td>\n",
       "      <td>1.00</td>\n",
       "      <td>100</td>\n",
       "    </tr>\n",
       "  </tbody>\n",
       "</table>\n",
       "</div>"
      ],
      "text/plain": [
       "                          seller_id  seller_review_score  \\\n",
       "0  3442f8959a84dea7ee197c632cb2df15                 3.00   \n",
       "1  d1b65fc7debc3361ea86b5f14c68d2e2                 4.55   \n",
       "2  ce3ad9de960102d0677a81f5d0bb7b2d                 5.00   \n",
       "3  c0f3eea2e14555b6faeea3dd58c1b1c3                 5.00   \n",
       "4  51a04a8a6bdcb23deccc82b0b80742cf                 1.00   \n",
       "\n",
       "   review_cost_per_seller  \n",
       "0                     140  \n",
       "1                     240  \n",
       "2                       0  \n",
       "3                       0  \n",
       "4                     100  "
      ]
     },
     "execution_count": 5,
     "metadata": {},
     "output_type": "execute_result"
    }
   ],
   "source": [
    "sellers[['seller_id','seller_review_score','review_cost_per_seller']].head()"
   ]
  },
  {
   "cell_type": "markdown",
   "metadata": {},
   "source": [
    "`seller_review_score` is the average review score earned by a seller\n",
    "\n",
    "`review_cost_per_seller` is the total cost from all bad reviews for each seller, calculated first by assigning a monetary cost for any review receiving 3 stars or less, and then summing up the total cost of these bad reviews"
   ]
  },
  {
   "cell_type": "markdown",
   "metadata": {},
   "source": [
    "# Profits per seller "
   ]
  },
  {
   "cell_type": "markdown",
   "metadata": {},
   "source": [
    "Now that we know how much revenue each seller generates for Olist and also the cost of bad reviews, let's calculate the profit to Olist from each seller. This will allow us to see more clearly which sellers are a drag on Olist's bottom line and by how much. \n",
    "\n",
    "We've also been asked by the CEO to consider the IT costs associated with running the platform, but for now we'll set that aside in our analysis and examine it later.   "
   ]
  },
  {
   "cell_type": "code",
   "execution_count": 101,
   "metadata": {},
   "outputs": [
    {
     "data": {
      "text/html": [
       "<div>\n",
       "<style scoped>\n",
       "    .dataframe tbody tr th:only-of-type {\n",
       "        vertical-align: middle;\n",
       "    }\n",
       "\n",
       "    .dataframe tbody tr th {\n",
       "        vertical-align: top;\n",
       "    }\n",
       "\n",
       "    .dataframe thead th {\n",
       "        text-align: right;\n",
       "    }\n",
       "</style>\n",
       "<table border=\"1\" class=\"dataframe\">\n",
       "  <thead>\n",
       "    <tr style=\"text-align: right;\">\n",
       "      <th></th>\n",
       "      <th>seller_id</th>\n",
       "      <th>revenue_per_seller</th>\n",
       "      <th>review_cost_per_seller</th>\n",
       "      <th>profit_per_seller</th>\n",
       "    </tr>\n",
       "  </thead>\n",
       "  <tbody>\n",
       "    <tr>\n",
       "      <th>0</th>\n",
       "      <td>53243585a1d6dc2643021fd1853d8905</td>\n",
       "      <td>23237.605</td>\n",
       "      <td>5270</td>\n",
       "      <td>17967.605</td>\n",
       "    </tr>\n",
       "    <tr>\n",
       "      <th>1</th>\n",
       "      <td>7e93a43ef30c4f03f38b393420bc753a</td>\n",
       "      <td>19403.187</td>\n",
       "      <td>4800</td>\n",
       "      <td>14603.187</td>\n",
       "    </tr>\n",
       "    <tr>\n",
       "      <th>2</th>\n",
       "      <td>fa1c13f2614d7b5c4749cbc52fecda94</td>\n",
       "      <td>21004.203</td>\n",
       "      <td>6750</td>\n",
       "      <td>14254.203</td>\n",
       "    </tr>\n",
       "    <tr>\n",
       "      <th>3</th>\n",
       "      <td>edb1ef5e36e0c8cd84eb3c9b003e486d</td>\n",
       "      <td>8808.455</td>\n",
       "      <td>1520</td>\n",
       "      <td>7288.455</td>\n",
       "    </tr>\n",
       "    <tr>\n",
       "      <th>4</th>\n",
       "      <td>ccc4bbb5f32a6ab2b7066a4130f114e3</td>\n",
       "      <td>9000.462</td>\n",
       "      <td>2220</td>\n",
       "      <td>6780.462</td>\n",
       "    </tr>\n",
       "  </tbody>\n",
       "</table>\n",
       "</div>"
      ],
      "text/plain": [
       "                          seller_id  revenue_per_seller  \\\n",
       "0  53243585a1d6dc2643021fd1853d8905           23237.605   \n",
       "1  7e93a43ef30c4f03f38b393420bc753a           19403.187   \n",
       "2  fa1c13f2614d7b5c4749cbc52fecda94           21004.203   \n",
       "3  edb1ef5e36e0c8cd84eb3c9b003e486d            8808.455   \n",
       "4  ccc4bbb5f32a6ab2b7066a4130f114e3            9000.462   \n",
       "\n",
       "   review_cost_per_seller  profit_per_seller  \n",
       "0                    5270          17967.605  \n",
       "1                    4800          14603.187  \n",
       "2                    6750          14254.203  \n",
       "3                    1520           7288.455  \n",
       "4                    2220           6780.462  "
      ]
     },
     "execution_count": 101,
     "metadata": {},
     "output_type": "execute_result"
    }
   ],
   "source": [
    "# Calculate the profit as 'revenue_per_seller' - 'review_cost_per_seller'\n",
    "sellers['profit_per_seller'] = sellers.revenue_per_seller - sellers.review_cost_per_seller\n",
    "sellers[['seller_id', 'revenue_per_seller', 'review_cost_per_seller', 'profit_per_seller']].groupby(by='seller_id').sum()\n",
    "\n",
    "sellers[['seller_id', 'revenue_per_seller', 'review_cost_per_seller', 'profit_per_seller']].head()"
   ]
  },
  {
   "cell_type": "markdown",
   "metadata": {},
   "source": [
    "Let's take a quick look at the distribution of `profit_per_seller`."
   ]
  },
  {
   "cell_type": "code",
   "execution_count": 8,
   "metadata": {
    "scrolled": true,
    "slideshow": {
     "slide_type": "skip"
    }
   },
   "outputs": [
    {
     "data": {
      "image/png": "[encoded data removed]",
      "text/plain": [
       "<Figure size 864x576 with 1 Axes>"
      ]
     },
     "metadata": {
      "needs_background": "light"
     },
     "output_type": "display_data"
    }
   ],
   "source": [
    "# Plot histogram of sellers' financial impact\n",
    "plt.figure(figsize=(12,8))\n",
    "sns.set_style('darkgrid')\n",
    "\n",
    "ax = sns.histplot(sellers.profit_per_seller)\n",
    "ax.set_xlim(xmin=-5000, xmax=5000)\n",
    "ax.set_xlabel('Profits per Seller (BRL)')\n",
    "ax.set_ylabel('Number of Sellers')\n",
    "ax.set_title('Distribution of Seller Contribution to Olist Profits');"
   ]
  },
  {
   "cell_type": "code",
   "execution_count": 9,
   "metadata": {},
   "outputs": [
    {
     "data": {
      "text/plain": [
       "count     2970.000000\n",
       "mean       424.055631\n",
       "std       1274.295160\n",
       "min     -22419.517000\n",
       "25%         93.000000\n",
       "50%        285.790500\n",
       "75%        720.593750\n",
       "max      17967.605000\n",
       "Name: profit_per_seller, dtype: float64"
      ]
     },
     "execution_count": 9,
     "metadata": {},
     "output_type": "execute_result"
    }
   ],
   "source": [
    "# Summary stats\n",
    "sellers.profit_per_seller.describe()"
   ]
  },
  {
   "cell_type": "markdown",
   "metadata": {},
   "source": [
    "**Interpretation of Results**"
   ]
  },
  {
   "cell_type": "markdown",
   "metadata": {},
   "source": [
    "From our histogram and summary stats of sellers' contribution to Olist profits, it appears as though the middle 50% of sellers on the platform generate anywhere from **93 to 721 BRL** (~17 to 134 USD) for Olist. We can also see a number of sellers with a negative impact on profits. \n",
    " \n",
    "Next, let's see if we can find out more about these sellers who are pulling down Olist profits. "
   ]
  },
  {
   "cell_type": "markdown",
   "metadata": {},
   "source": [
    "# Understanding the Impact of Poor-performing Sellers"
   ]
  },
  {
   "cell_type": "markdown",
   "metadata": {},
   "source": [
    "To get a clearer picture of how much impact these poor-performing sellers have on Olist's profits, we'll break this question down into smaller pieces:\n",
    "\n",
    "1. How many sellers have a negative impact on profits?\n",
    "2. How much in total do these sellers affect Olist profits? "
   ]
  },
  {
   "cell_type": "markdown",
   "metadata": {},
   "source": [
    "### How many sellers are negatively impacting Olist profits?"
   ]
  },
  {
   "cell_type": "markdown",
   "metadata": {},
   "source": [
    "Let's find the total number of poor-performing sellers, and also see what proportion they make up on the platform."
   ]
  },
  {
   "cell_type": "code",
   "execution_count": 133,
   "metadata": {
    "scrolled": false
   },
   "outputs": [
    {
     "data": {
      "text/html": [
       "<div>\n",
       "<style scoped>\n",
       "    .dataframe tbody tr th:only-of-type {\n",
       "        vertical-align: middle;\n",
       "    }\n",
       "\n",
       "    .dataframe tbody tr th {\n",
       "        vertical-align: top;\n",
       "    }\n",
       "\n",
       "    .dataframe thead th {\n",
       "        text-align: right;\n",
       "    }\n",
       "</style>\n",
       "<table border=\"1\" class=\"dataframe\">\n",
       "  <thead>\n",
       "    <tr style=\"text-align: right;\">\n",
       "      <th></th>\n",
       "      <th>seller_id</th>\n",
       "    </tr>\n",
       "    <tr>\n",
       "      <th>impact</th>\n",
       "      <th></th>\n",
       "    </tr>\n",
       "  </thead>\n",
       "  <tbody>\n",
       "    <tr>\n",
       "      <th>negative</th>\n",
       "      <td>276</td>\n",
       "    </tr>\n",
       "    <tr>\n",
       "      <th>positive</th>\n",
       "      <td>2694</td>\n",
       "    </tr>\n",
       "  </tbody>\n",
       "</table>\n",
       "</div>"
      ],
      "text/plain": [
       "          seller_id\n",
       "impact             \n",
       "negative        276\n",
       "positive       2694"
      ]
     },
     "execution_count": 133,
     "metadata": {},
     "output_type": "execute_result"
    }
   ],
   "source": [
    "# Simple function to create column indicating whether sellers have positive or negative impact on profits\n",
    "def olist_impact(x):\n",
    "    if x < 0:\n",
    "        return 'negative'\n",
    "    else:\n",
    "        return 'positive'\n",
    "\n",
    "sellers['impact'] = sellers['profit_per_seller'].apply(olist_impact)\n",
    "sellers[['impact','seller_id']].groupby('impact').count()"
   ]
  },
  {
   "cell_type": "code",
   "execution_count": 137,
   "metadata": {},
   "outputs": [
    {
     "data": {
      "text/plain": [
       "2970"
      ]
     },
     "execution_count": 137,
     "metadata": {},
     "output_type": "execute_result"
    }
   ],
   "source": [
    "# Total number of sellers\n",
    "sellers.seller_id.count()"
   ]
  },
  {
   "cell_type": "code",
   "execution_count": 132,
   "metadata": {
    "scrolled": true
   },
   "outputs": [
    {
     "data": {
      "image/png": "[encoded data removed]",
      "text/plain": [
       "<Figure size 432x288 with 1 Axes>"
      ]
     },
     "metadata": {},
     "output_type": "display_data"
    }
   ],
   "source": [
    "# Bar plot to visualize what proportion poor-performing sellers have\n",
    "sellers[['impact','seller_id']].groupby('impact').count().transpose().plot.barh(stacked=True, cmap='Set1')\n",
    "plt.xlabel('Number of Sellers');\n"
   ]
  },
  {
   "cell_type": "code",
   "execution_count": 141,
   "metadata": {},
   "outputs": [
    {
     "data": {
      "text/plain": [
       "impact  \n",
       "positive    0.907071\n",
       "negative    0.092929\n",
       "dtype: float64"
      ]
     },
     "execution_count": 141,
     "metadata": {},
     "output_type": "execute_result"
    }
   ],
   "source": [
    "# Proportion of poor-performing sellers\n",
    "sellers[['impact']].value_counts(normalize=True)"
   ]
  },
  {
   "cell_type": "markdown",
   "metadata": {},
   "source": [
    "We can now see that there are **276 sellers** (or **roughly 9%** of all sellers) who negatively impact Olist profits. "
   ]
  },
  {
   "cell_type": "markdown",
   "metadata": {},
   "source": [
    "### How much do poor-performing sellers impact Olist profits?"
   ]
  },
  {
   "cell_type": "markdown",
   "metadata": {},
   "source": [
    "To get a better picture of how much impact these sellers have on Olist's total profits, let's create a **whale curve** which will show us what percentage of sellers represent 'x' percentage of cumulative profits. \n",
    "\n",
    "To build our whale curve, we'll first sort our sellers from most to least profitable. Then we'll plot the cumulative profits from each additional seller to the platform.   "
   ]
  },
  {
   "cell_type": "code",
   "execution_count": 143,
   "metadata": {
    "slideshow": {
     "slide_type": "skip"
    }
   },
   "outputs": [
    {
     "data": {
      "text/html": [
       "<div>\n",
       "<style scoped>\n",
       "    .dataframe tbody tr th:only-of-type {\n",
       "        vertical-align: middle;\n",
       "    }\n",
       "\n",
       "    .dataframe tbody tr th {\n",
       "        vertical-align: top;\n",
       "    }\n",
       "\n",
       "    .dataframe thead th {\n",
       "        text-align: right;\n",
       "    }\n",
       "</style>\n",
       "<table border=\"1\" class=\"dataframe\">\n",
       "  <thead>\n",
       "    <tr style=\"text-align: right;\">\n",
       "      <th></th>\n",
       "      <th>seller_id</th>\n",
       "      <th>seller_city</th>\n",
       "      <th>seller_state</th>\n",
       "      <th>delay_to_carrier</th>\n",
       "      <th>seller_wait_time</th>\n",
       "      <th>date_first_sale</th>\n",
       "      <th>date_last_sale</th>\n",
       "      <th>months_on_olist</th>\n",
       "      <th>share_of_one_stars</th>\n",
       "      <th>share_of_five_stars</th>\n",
       "      <th>...</th>\n",
       "      <th>profit_per_seller</th>\n",
       "      <th>impact</th>\n",
       "      <th>cumulative_profits</th>\n",
       "      <th>percent_profits</th>\n",
       "      <th>seller_proportion</th>\n",
       "      <th>cumulative_orders</th>\n",
       "      <th>cumulative_it_cost</th>\n",
       "      <th>it_unit_cost</th>\n",
       "      <th>it_marg_cost</th>\n",
       "      <th>diff_unit_marg_it</th>\n",
       "    </tr>\n",
       "  </thead>\n",
       "  <tbody>\n",
       "    <tr>\n",
       "      <th>2965</th>\n",
       "      <td>8b321bb669392f5163d04c59e235e066</td>\n",
       "      <td>sao paulo</td>\n",
       "      <td>SP</td>\n",
       "      <td>0.0</td>\n",
       "      <td>12.616899</td>\n",
       "      <td>2017-10-27 16:31:30</td>\n",
       "      <td>2018-08-21 17:08:38</td>\n",
       "      <td>10.0</td>\n",
       "      <td>0.118770</td>\n",
       "      <td>0.567338</td>\n",
       "      <td>...</td>\n",
       "      <td>-13066.431</td>\n",
       "      <td>negative</td>\n",
       "      <td>1335110.855</td>\n",
       "      <td>106.007854</td>\n",
       "      <td>99.86532</td>\n",
       "      <td>93332</td>\n",
       "      <td>451890.181743</td>\n",
       "      <td>4.841750</td>\n",
       "      <td>7.262625</td>\n",
       "      <td>-2.420875</td>\n",
       "    </tr>\n",
       "    <tr>\n",
       "      <th>2966</th>\n",
       "      <td>ea8482cd71df3c1969d7b9473ff13abc</td>\n",
       "      <td>sao paulo</td>\n",
       "      <td>SP</td>\n",
       "      <td>0.0</td>\n",
       "      <td>13.315562</td>\n",
       "      <td>2017-08-16 15:15:26</td>\n",
       "      <td>2018-08-25 02:45:21</td>\n",
       "      <td>13.0</td>\n",
       "      <td>0.116827</td>\n",
       "      <td>0.524847</td>\n",
       "      <td>...</td>\n",
       "      <td>-15952.248</td>\n",
       "      <td>negative</td>\n",
       "      <td>1319158.607</td>\n",
       "      <td>104.741245</td>\n",
       "      <td>99.89899</td>\n",
       "      <td>94478</td>\n",
       "      <td>460238.646312</td>\n",
       "      <td>4.871384</td>\n",
       "      <td>7.307076</td>\n",
       "      <td>-2.435692</td>\n",
       "    </tr>\n",
       "    <tr>\n",
       "      <th>2967</th>\n",
       "      <td>cc419e0650a3c5ba77189a1882b7556a</td>\n",
       "      <td>santo andre</td>\n",
       "      <td>SP</td>\n",
       "      <td>0.0</td>\n",
       "      <td>11.539753</td>\n",
       "      <td>2017-02-02 17:10:21</td>\n",
       "      <td>2018-08-28 03:45:15</td>\n",
       "      <td>19.0</td>\n",
       "      <td>0.117277</td>\n",
       "      <td>0.581808</td>\n",
       "      <td>...</td>\n",
       "      <td>-18051.158</td>\n",
       "      <td>negative</td>\n",
       "      <td>1301107.449</td>\n",
       "      <td>103.307982</td>\n",
       "      <td>99.93266</td>\n",
       "      <td>96184</td>\n",
       "      <td>472760.624944</td>\n",
       "      <td>4.915169</td>\n",
       "      <td>7.372754</td>\n",
       "      <td>-2.457585</td>\n",
       "    </tr>\n",
       "    <tr>\n",
       "      <th>2968</th>\n",
       "      <td>4a3ca9315b744ce9f8e9374361493884</td>\n",
       "      <td>ibitinga</td>\n",
       "      <td>SP</td>\n",
       "      <td>0.0</td>\n",
       "      <td>14.416471</td>\n",
       "      <td>2017-01-08 09:45:12</td>\n",
       "      <td>2018-08-27 11:04:18</td>\n",
       "      <td>20.0</td>\n",
       "      <td>0.147640</td>\n",
       "      <td>0.476948</td>\n",
       "      <td>...</td>\n",
       "      <td>-19242.708</td>\n",
       "      <td>negative</td>\n",
       "      <td>1281864.741</td>\n",
       "      <td>101.780111</td>\n",
       "      <td>99.96633</td>\n",
       "      <td>97990</td>\n",
       "      <td>486138.127028</td>\n",
       "      <td>4.961099</td>\n",
       "      <td>7.441649</td>\n",
       "      <td>-2.480550</td>\n",
       "    </tr>\n",
       "    <tr>\n",
       "      <th>2969</th>\n",
       "      <td>6560211a19b47992c3666cc44a7e94c0</td>\n",
       "      <td>sao paulo</td>\n",
       "      <td>SP</td>\n",
       "      <td>0.0</td>\n",
       "      <td>9.539486</td>\n",
       "      <td>2017-02-17 07:45:11</td>\n",
       "      <td>2018-08-29 09:25:12</td>\n",
       "      <td>19.0</td>\n",
       "      <td>0.127957</td>\n",
       "      <td>0.510215</td>\n",
       "      <td>...</td>\n",
       "      <td>-22419.517</td>\n",
       "      <td>negative</td>\n",
       "      <td>1259445.224</td>\n",
       "      <td>100.000000</td>\n",
       "      <td>100.00000</td>\n",
       "      <td>99844</td>\n",
       "      <td>500000.000000</td>\n",
       "      <td>5.007812</td>\n",
       "      <td>7.511718</td>\n",
       "      <td>-2.503906</td>\n",
       "    </tr>\n",
       "  </tbody>\n",
       "</table>\n",
       "<p>5 rows × 27 columns</p>\n",
       "</div>"
      ],
      "text/plain": [
       "                             seller_id  seller_city seller_state  \\\n",
       "2965  8b321bb669392f5163d04c59e235e066    sao paulo           SP   \n",
       "2966  ea8482cd71df3c1969d7b9473ff13abc    sao paulo           SP   \n",
       "2967  cc419e0650a3c5ba77189a1882b7556a  santo andre           SP   \n",
       "2968  4a3ca9315b744ce9f8e9374361493884     ibitinga           SP   \n",
       "2969  6560211a19b47992c3666cc44a7e94c0    sao paulo           SP   \n",
       "\n",
       "      delay_to_carrier  seller_wait_time     date_first_sale  \\\n",
       "2965               0.0         12.616899 2017-10-27 16:31:30   \n",
       "2966               0.0         13.315562 2017-08-16 15:15:26   \n",
       "2967               0.0         11.539753 2017-02-02 17:10:21   \n",
       "2968               0.0         14.416471 2017-01-08 09:45:12   \n",
       "2969               0.0          9.539486 2017-02-17 07:45:11   \n",
       "\n",
       "          date_last_sale  months_on_olist  share_of_one_stars  \\\n",
       "2965 2018-08-21 17:08:38             10.0            0.118770   \n",
       "2966 2018-08-25 02:45:21             13.0            0.116827   \n",
       "2967 2018-08-28 03:45:15             19.0            0.117277   \n",
       "2968 2018-08-27 11:04:18             20.0            0.147640   \n",
       "2969 2018-08-29 09:25:12             19.0            0.127957   \n",
       "\n",
       "      share_of_five_stars  ...  profit_per_seller    impact  \\\n",
       "2965             0.567338  ...         -13066.431  negative   \n",
       "2966             0.524847  ...         -15952.248  negative   \n",
       "2967             0.581808  ...         -18051.158  negative   \n",
       "2968             0.476948  ...         -19242.708  negative   \n",
       "2969             0.510215  ...         -22419.517  negative   \n",
       "\n",
       "      cumulative_profits  percent_profits  seller_proportion  \\\n",
       "2965         1335110.855       106.007854           99.86532   \n",
       "2966         1319158.607       104.741245           99.89899   \n",
       "2967         1301107.449       103.307982           99.93266   \n",
       "2968         1281864.741       101.780111           99.96633   \n",
       "2969         1259445.224       100.000000          100.00000   \n",
       "\n",
       "      cumulative_orders  cumulative_it_cost  it_unit_cost it_marg_cost  \\\n",
       "2965              93332       451890.181743      4.841750     7.262625   \n",
       "2966              94478       460238.646312      4.871384     7.307076   \n",
       "2967              96184       472760.624944      4.915169     7.372754   \n",
       "2968              97990       486138.127028      4.961099     7.441649   \n",
       "2969              99844       500000.000000      5.007812     7.511718   \n",
       "\n",
       "      diff_unit_marg_it  \n",
       "2965          -2.420875  \n",
       "2966          -2.435692  \n",
       "2967          -2.457585  \n",
       "2968          -2.480550  \n",
       "2969          -2.503906  \n",
       "\n",
       "[5 rows x 27 columns]"
      ]
     },
     "execution_count": 143,
     "metadata": {},
     "output_type": "execute_result"
    }
   ],
   "source": [
    "# Sort sellers by how much profit each contributes to Olist (from most to least)\n",
    "sellers.sort_values('profit_per_seller', ignore_index=True, inplace=True, ascending=False)\n",
    "\n",
    "# Calculate cumulative profits to Olist with each additional seller\n",
    "sellers['cumulative_profits'] = sellers['profit_per_seller'].cumsum()\n",
    "sellers.tail()"
   ]
  },
  {
   "cell_type": "code",
   "execution_count": 13,
   "metadata": {
    "slideshow": {
     "slide_type": "skip"
    }
   },
   "outputs": [
    {
     "data": {
      "text/plain": [
       "1259445.2239999846"
      ]
     },
     "execution_count": 13,
     "metadata": {},
     "output_type": "execute_result"
    }
   ],
   "source": [
    "# Total cumulative profits for Olist\n",
    "total_profits = sellers['cumulative_profits'].iloc[-1]\n",
    "total_profits"
   ]
  },
  {
   "cell_type": "code",
   "execution_count": 14,
   "metadata": {
    "scrolled": true
   },
   "outputs": [
    {
     "data": {
      "text/html": [
       "<div>\n",
       "<style scoped>\n",
       "    .dataframe tbody tr th:only-of-type {\n",
       "        vertical-align: middle;\n",
       "    }\n",
       "\n",
       "    .dataframe tbody tr th {\n",
       "        vertical-align: top;\n",
       "    }\n",
       "\n",
       "    .dataframe thead th {\n",
       "        text-align: right;\n",
       "    }\n",
       "</style>\n",
       "<table border=\"1\" class=\"dataframe\">\n",
       "  <thead>\n",
       "    <tr style=\"text-align: right;\">\n",
       "      <th></th>\n",
       "      <th>seller_id</th>\n",
       "      <th>percent_profits</th>\n",
       "      <th>seller_proportion</th>\n",
       "    </tr>\n",
       "  </thead>\n",
       "  <tbody>\n",
       "    <tr>\n",
       "      <th>2965</th>\n",
       "      <td>8b321bb669392f5163d04c59e235e066</td>\n",
       "      <td>106.007854</td>\n",
       "      <td>99.86532</td>\n",
       "    </tr>\n",
       "    <tr>\n",
       "      <th>2966</th>\n",
       "      <td>ea8482cd71df3c1969d7b9473ff13abc</td>\n",
       "      <td>104.741245</td>\n",
       "      <td>99.89899</td>\n",
       "    </tr>\n",
       "    <tr>\n",
       "      <th>2967</th>\n",
       "      <td>cc419e0650a3c5ba77189a1882b7556a</td>\n",
       "      <td>103.307982</td>\n",
       "      <td>99.93266</td>\n",
       "    </tr>\n",
       "    <tr>\n",
       "      <th>2968</th>\n",
       "      <td>4a3ca9315b744ce9f8e9374361493884</td>\n",
       "      <td>101.780111</td>\n",
       "      <td>99.96633</td>\n",
       "    </tr>\n",
       "    <tr>\n",
       "      <th>2969</th>\n",
       "      <td>6560211a19b47992c3666cc44a7e94c0</td>\n",
       "      <td>100.000000</td>\n",
       "      <td>100.00000</td>\n",
       "    </tr>\n",
       "  </tbody>\n",
       "</table>\n",
       "</div>"
      ],
      "text/plain": [
       "                             seller_id  percent_profits  seller_proportion\n",
       "2965  8b321bb669392f5163d04c59e235e066       106.007854           99.86532\n",
       "2966  ea8482cd71df3c1969d7b9473ff13abc       104.741245           99.89899\n",
       "2967  cc419e0650a3c5ba77189a1882b7556a       103.307982           99.93266\n",
       "2968  4a3ca9315b744ce9f8e9374361493884       101.780111           99.96633\n",
       "2969  6560211a19b47992c3666cc44a7e94c0       100.000000          100.00000"
      ]
     },
     "execution_count": 14,
     "metadata": {},
     "output_type": "execute_result"
    }
   ],
   "source": [
    "# Calculate the cumulative percentage of profits represented by each additional seller\n",
    "sellers['percent_profits'] = sellers['cumulative_profits'].div(total_profits).mul(100)\n",
    "\n",
    "# Calculate the proportion of sellers represented (in percent)\n",
    "sellers['seller_proportion'] = (sellers.index+1) / sellers.seller_id.count() * 100\n",
    "\n",
    "whale_df = sellers[['seller_id', 'percent_profits', 'seller_proportion']]\n",
    "whale_df.tail()"
   ]
  },
  {
   "cell_type": "code",
   "execution_count": 145,
   "metadata": {
    "scrolled": true
   },
   "outputs": [
    {
     "data": {
      "image/png": "[encoded data removed]",
      "text/plain": [
       "<Figure size 1080x432 with 1 Axes>"
      ]
     },
     "metadata": {},
     "output_type": "display_data"
    }
   ],
   "source": [
    "# Build our whale curve\n",
    "plt.figure(figsize=(15,6))\n",
    "sns.lineplot(data=sellers, x='seller_proportion', y='percent_profits')\n",
    "plt.xlabel('Percentage of Sellers (Ranked by Most Profitable to Least)')\n",
    "plt.ylabel('Cumulative Profits (%)');"
   ]
  },
  {
   "cell_type": "markdown",
   "metadata": {},
   "source": [
    "Our whale curve helps to underscore that roughly 80% of our sellers contribute to 120% of Olist profits. Another 10% of sellers have a negligible impact. And, the **remaining 10% drag down profits by 20%**.  "
   ]
  },
  {
   "cell_type": "markdown",
   "metadata": {},
   "source": [
    "Let's visualize this another way. What would Olist profits be if poor-performing sellers were no longer on the platform."
   ]
  },
  {
   "cell_type": "code",
   "execution_count": 16,
   "metadata": {},
   "outputs": [
    {
     "data": {
      "text/plain": [
       "-313276.50200000097"
      ]
     },
     "execution_count": 16,
     "metadata": {},
     "output_type": "execute_result"
    }
   ],
   "source": [
    "# Amount of reduction in profits due to bad reviews\n",
    "neg_profits = sellers[sellers['impact']=='negative'].profit_per_seller.cumsum()\n",
    "neg_profits.iloc[-1]"
   ]
  },
  {
   "cell_type": "code",
   "execution_count": 231,
   "metadata": {
    "scrolled": true
   },
   "outputs": [
    {
     "data": {
      "image/png": "[encoded data removed]",
      "text/plain": [
       "<Figure size 864x432 with 1 Axes>"
      ]
     },
     "metadata": {},
     "output_type": "display_data"
    }
   ],
   "source": [
    "# Bar chart showing profit comparison after removal of poor-performing sellers\n",
    "\n",
    "fig = plt.figure(figsize=(12,6))\n",
    "x_values = ['Before', 'After']\n",
    "y_values = [sellers.cumulative_profits.iloc[-1], sellers.cumulative_profits.iloc[-1] - neg_profits.iloc[-1]]\n",
    "ax = sns.barplot(data=sellers, x=x_values, y=y_values, palette='tab20')\n",
    "\n",
    "plt.ylabel('Profit (in BRL)')\n",
    "plt.ylim(0, 2500000)\n",
    "plt.suptitle('Profit Comparison from Removing Poor-performing Sellers', fontsize=12)\n",
    "ax.set_yticks(ax.get_yticks())\n",
    "yticklabels=['{:3.1f}'.format(y) + 'M' for y in ax.get_yticks()/1000000]\n",
    "ax.set_yticklabels(yticklabels);"
   ]
  },
  {
   "cell_type": "markdown",
   "metadata": {},
   "source": [
    "If Olist were to drop sellers who had a negative impact on profits, the platform would see an immediate boost in profits of **313,277 BRL** ($58,246 USD)! "
   ]
  },
  {
   "cell_type": "markdown",
   "metadata": {},
   "source": [
    "## What's the impact if we factor in IT costs?"
   ]
  },
  {
   "cell_type": "markdown",
   "metadata": {},
   "source": [
    "FROM PROBLEM STATEMENT --REMOVE\n",
    "\n",
    "In addition, Olist’s IT costs (servers, etc…) increase with the amount of orders processed, albeit less and less rapidly (scale effects).\n",
    "For the sake of simplicity, we will consider Olist’s total cumulative IT Costs to be proportional to the square-root of the total cumulative number of orders approved.\n",
    "#The IT department also told you that since the birth of the marketplace, cumulative IT costs have amounted to 500,000 BRL."
   ]
  },
  {
   "cell_type": "code",
   "execution_count": 18,
   "metadata": {
    "slideshow": {
     "slide_type": "skip"
    }
   },
   "outputs": [
    {
     "data": {
      "text/html": [
       "<div>\n",
       "<style scoped>\n",
       "    .dataframe tbody tr th:only-of-type {\n",
       "        vertical-align: middle;\n",
       "    }\n",
       "\n",
       "    .dataframe tbody tr th {\n",
       "        vertical-align: top;\n",
       "    }\n",
       "\n",
       "    .dataframe thead th {\n",
       "        text-align: right;\n",
       "    }\n",
       "</style>\n",
       "<table border=\"1\" class=\"dataframe\">\n",
       "  <thead>\n",
       "    <tr style=\"text-align: right;\">\n",
       "      <th></th>\n",
       "      <th>seller_id</th>\n",
       "      <th>seller_city</th>\n",
       "      <th>seller_state</th>\n",
       "      <th>delay_to_carrier</th>\n",
       "      <th>seller_wait_time</th>\n",
       "      <th>date_first_sale</th>\n",
       "      <th>date_last_sale</th>\n",
       "      <th>months_on_olist</th>\n",
       "      <th>share_of_one_stars</th>\n",
       "      <th>share_of_five_stars</th>\n",
       "      <th>...</th>\n",
       "      <th>n_orders</th>\n",
       "      <th>quantity</th>\n",
       "      <th>quantity_per_order</th>\n",
       "      <th>sales</th>\n",
       "      <th>revenue_per_seller</th>\n",
       "      <th>profit_per_seller</th>\n",
       "      <th>impact</th>\n",
       "      <th>cumulative_profits</th>\n",
       "      <th>percent_profits</th>\n",
       "      <th>seller_proportion</th>\n",
       "    </tr>\n",
       "  </thead>\n",
       "  <tbody>\n",
       "    <tr>\n",
       "      <th>2965</th>\n",
       "      <td>8b321bb669392f5163d04c59e235e066</td>\n",
       "      <td>sao paulo</td>\n",
       "      <td>SP</td>\n",
       "      <td>0.0</td>\n",
       "      <td>12.616899</td>\n",
       "      <td>2017-10-27 16:31:30</td>\n",
       "      <td>2018-08-21 17:08:38</td>\n",
       "      <td>10.0</td>\n",
       "      <td>0.118770</td>\n",
       "      <td>0.567338</td>\n",
       "      <td>...</td>\n",
       "      <td>943</td>\n",
       "      <td>1018</td>\n",
       "      <td>1.079533</td>\n",
       "      <td>17535.69</td>\n",
       "      <td>2553.569</td>\n",
       "      <td>-13066.431</td>\n",
       "      <td>negative</td>\n",
       "      <td>1335110.855</td>\n",
       "      <td>106.007854</td>\n",
       "      <td>99.86532</td>\n",
       "    </tr>\n",
       "    <tr>\n",
       "      <th>2966</th>\n",
       "      <td>ea8482cd71df3c1969d7b9473ff13abc</td>\n",
       "      <td>sao paulo</td>\n",
       "      <td>SP</td>\n",
       "      <td>0.0</td>\n",
       "      <td>13.315562</td>\n",
       "      <td>2017-08-16 15:15:26</td>\n",
       "      <td>2018-08-25 02:45:21</td>\n",
       "      <td>13.0</td>\n",
       "      <td>0.116827</td>\n",
       "      <td>0.524847</td>\n",
       "      <td>...</td>\n",
       "      <td>1146</td>\n",
       "      <td>1204</td>\n",
       "      <td>1.050611</td>\n",
       "      <td>37177.52</td>\n",
       "      <td>4757.752</td>\n",
       "      <td>-15952.248</td>\n",
       "      <td>negative</td>\n",
       "      <td>1319158.607</td>\n",
       "      <td>104.741245</td>\n",
       "      <td>99.89899</td>\n",
       "    </tr>\n",
       "    <tr>\n",
       "      <th>2967</th>\n",
       "      <td>cc419e0650a3c5ba77189a1882b7556a</td>\n",
       "      <td>santo andre</td>\n",
       "      <td>SP</td>\n",
       "      <td>0.0</td>\n",
       "      <td>11.539753</td>\n",
       "      <td>2017-02-02 17:10:21</td>\n",
       "      <td>2018-08-28 03:45:15</td>\n",
       "      <td>19.0</td>\n",
       "      <td>0.117277</td>\n",
       "      <td>0.581808</td>\n",
       "      <td>...</td>\n",
       "      <td>1706</td>\n",
       "      <td>1819</td>\n",
       "      <td>1.066237</td>\n",
       "      <td>104288.42</td>\n",
       "      <td>11948.842</td>\n",
       "      <td>-18051.158</td>\n",
       "      <td>negative</td>\n",
       "      <td>1301107.449</td>\n",
       "      <td>103.307982</td>\n",
       "      <td>99.93266</td>\n",
       "    </tr>\n",
       "    <tr>\n",
       "      <th>2968</th>\n",
       "      <td>4a3ca9315b744ce9f8e9374361493884</td>\n",
       "      <td>ibitinga</td>\n",
       "      <td>SP</td>\n",
       "      <td>0.0</td>\n",
       "      <td>14.416471</td>\n",
       "      <td>2017-01-08 09:45:12</td>\n",
       "      <td>2018-08-27 11:04:18</td>\n",
       "      <td>20.0</td>\n",
       "      <td>0.147640</td>\n",
       "      <td>0.476948</td>\n",
       "      <td>...</td>\n",
       "      <td>1806</td>\n",
       "      <td>2009</td>\n",
       "      <td>1.112403</td>\n",
       "      <td>200472.92</td>\n",
       "      <td>21647.292</td>\n",
       "      <td>-19242.708</td>\n",
       "      <td>negative</td>\n",
       "      <td>1281864.741</td>\n",
       "      <td>101.780111</td>\n",
       "      <td>99.96633</td>\n",
       "    </tr>\n",
       "    <tr>\n",
       "      <th>2969</th>\n",
       "      <td>6560211a19b47992c3666cc44a7e94c0</td>\n",
       "      <td>sao paulo</td>\n",
       "      <td>SP</td>\n",
       "      <td>0.0</td>\n",
       "      <td>9.539486</td>\n",
       "      <td>2017-02-17 07:45:11</td>\n",
       "      <td>2018-08-29 09:25:12</td>\n",
       "      <td>19.0</td>\n",
       "      <td>0.127957</td>\n",
       "      <td>0.510215</td>\n",
       "      <td>...</td>\n",
       "      <td>1854</td>\n",
       "      <td>2039</td>\n",
       "      <td>1.099784</td>\n",
       "      <td>123304.83</td>\n",
       "      <td>13850.483</td>\n",
       "      <td>-22419.517</td>\n",
       "      <td>negative</td>\n",
       "      <td>1259445.224</td>\n",
       "      <td>100.000000</td>\n",
       "      <td>100.00000</td>\n",
       "    </tr>\n",
       "  </tbody>\n",
       "</table>\n",
       "<p>5 rows × 22 columns</p>\n",
       "</div>"
      ],
      "text/plain": [
       "                             seller_id  seller_city seller_state  \\\n",
       "2965  8b321bb669392f5163d04c59e235e066    sao paulo           SP   \n",
       "2966  ea8482cd71df3c1969d7b9473ff13abc    sao paulo           SP   \n",
       "2967  cc419e0650a3c5ba77189a1882b7556a  santo andre           SP   \n",
       "2968  4a3ca9315b744ce9f8e9374361493884     ibitinga           SP   \n",
       "2969  6560211a19b47992c3666cc44a7e94c0    sao paulo           SP   \n",
       "\n",
       "      delay_to_carrier  seller_wait_time     date_first_sale  \\\n",
       "2965               0.0         12.616899 2017-10-27 16:31:30   \n",
       "2966               0.0         13.315562 2017-08-16 15:15:26   \n",
       "2967               0.0         11.539753 2017-02-02 17:10:21   \n",
       "2968               0.0         14.416471 2017-01-08 09:45:12   \n",
       "2969               0.0          9.539486 2017-02-17 07:45:11   \n",
       "\n",
       "          date_last_sale  months_on_olist  share_of_one_stars  \\\n",
       "2965 2018-08-21 17:08:38             10.0            0.118770   \n",
       "2966 2018-08-25 02:45:21             13.0            0.116827   \n",
       "2967 2018-08-28 03:45:15             19.0            0.117277   \n",
       "2968 2018-08-27 11:04:18             20.0            0.147640   \n",
       "2969 2018-08-29 09:25:12             19.0            0.127957   \n",
       "\n",
       "      share_of_five_stars  ...  n_orders  quantity  quantity_per_order  \\\n",
       "2965             0.567338  ...       943      1018            1.079533   \n",
       "2966             0.524847  ...      1146      1204            1.050611   \n",
       "2967             0.581808  ...      1706      1819            1.066237   \n",
       "2968             0.476948  ...      1806      2009            1.112403   \n",
       "2969             0.510215  ...      1854      2039            1.099784   \n",
       "\n",
       "          sales  revenue_per_seller  profit_per_seller    impact  \\\n",
       "2965   17535.69            2553.569         -13066.431  negative   \n",
       "2966   37177.52            4757.752         -15952.248  negative   \n",
       "2967  104288.42           11948.842         -18051.158  negative   \n",
       "2968  200472.92           21647.292         -19242.708  negative   \n",
       "2969  123304.83           13850.483         -22419.517  negative   \n",
       "\n",
       "      cumulative_profits percent_profits  seller_proportion  \n",
       "2965         1335110.855      106.007854           99.86532  \n",
       "2966         1319158.607      104.741245           99.89899  \n",
       "2967         1301107.449      103.307982           99.93266  \n",
       "2968         1281864.741      101.780111           99.96633  \n",
       "2969         1259445.224      100.000000          100.00000  \n",
       "\n",
       "[5 rows x 22 columns]"
      ]
     },
     "execution_count": 18,
     "metadata": {},
     "output_type": "execute_result"
    }
   ],
   "source": [
    "sellers.tail()"
   ]
  },
  {
   "cell_type": "markdown",
   "metadata": {},
   "source": [
    "While it does appear now that Olist's profit margins might benefit from removing poor-performing sellers, we've been asked to examine how removal of these sellers might also impact Olist's IT costs (servers, etc.). \n",
    "\n",
    "Olist's IT costs increase with the number of orders processed, but does so less and less rapidly due to scale effects. More precisely, we've been told that **total cumulative IT costs is proportional to the square-root of cumulative number of orders**. Additionally, the IT department has reported accumulated IT costs of **500,000 BRL** (~92,930 USD) since the founding of the company.\n",
    "\n",
    "Let's approach this using the following steps: \n",
    "\n",
    "1. Calculate the amount of IT costs for any given order volume. \n",
    "2. Calculate the order volume of poor-performing sellers and the accompanying IT costs \n",
    "3. Compare the impact on IT costs from removing poor-pf"
   ]
  },
  {
   "cell_type": "markdown",
   "metadata": {},
   "source": [
    "### What are the IT costs for a particular order volume?"
   ]
  },
  {
   "cell_type": "markdown",
   "metadata": {},
   "source": [
    "We've been provided information that total cumulative IT costs is proportional to the square-root of the number of approved orders:\n",
    "\n",
    "**Olist Total Cumulative IT costs = $k\\sqrt{n}$**\n",
    "\n",
    "where ***n*** is the total number of approved orders and ***k*** is a proportionality constant."
   ]
  },
  {
   "cell_type": "markdown",
   "metadata": {},
   "source": [
    "If we were to plot this cumulative IT cost curve, it would take on the shape of a concave ascending curve like $ y = \\sqrt{x} $ but transformed by a proportionality constant *k*. \n",
    "\n",
    "\n",
    "Given the shape of this particular cost curve, even the marginal IT cost per order increases (albeit less and less rapidly). This means that  \n",
    "\n",
    "The area beneath this curve should also represent the cumulative cost of IT which has been provided to us as 500,000 BRL. "
   ]
  },
  {
   "cell_type": "code",
   "execution_count": 19,
   "metadata": {},
   "outputs": [
    {
     "data": {
      "image/png": "[encoded data removed]",
      "text/plain": [
       "<Figure size 1080x288 with 1 Axes>"
      ]
     },
     "metadata": {},
     "output_type": "display_data"
    }
   ],
   "source": [
    "# Rough sketch of the IT cost curve with a generic y = x**(1/2) curve\n",
    "\n",
    "plt.figure(figsize=(15,4))\n",
    "x=np.linspace(0,99844, 50)\n",
    "y=x**0.5\n",
    "sns.lineplot(x=x, y=y)\n",
    "plt.xlabel('Number of Orders')\n",
    "plt.ylabel('Cumulative IT Costs (thousands of BRL)');\n"
   ]
  },
  {
   "cell_type": "markdown",
   "metadata": {},
   "source": [
    "If we do a little math, we can solve for the proportionality constant *k* by evaluating the definite integral from 0 to the current number of orders *n*, and setting this equal to 500,000.\n",
    "\n",
    "$\\int_{0}^{n} k\\sqrt{n}$ = 500,000    \n",
    "\n",
    "where *n* is the number of orders and *k* is a proportionality constant"
   ]
  },
  {
   "cell_type": "code",
   "execution_count": 20,
   "metadata": {},
   "outputs": [
    {
     "data": {
      "text/plain": [
       "99844"
      ]
     },
     "execution_count": 20,
     "metadata": {},
     "output_type": "execute_result"
    }
   ],
   "source": [
    "# total of n_orders\n",
    "total_orders = sellers.n_orders.sum()\n",
    "total_orders"
   ]
  },
  {
   "cell_type": "markdown",
   "metadata": {},
   "source": [
    "Evaluate the integral from 0 orders to the total cumulative number of orders 99,844. \n",
    "\n",
    "**$\\int_{0}^{n} k\\sqrt{n} \\to \\int_{0}^{99,844} k(\\frac{2}{3}) n^\\frac{3}{2} - k(\\frac{2}{3}) (0)^\\frac{3}{2} $**\n",
    "\n",
    "We can then set this equal to 500,000 and solve for the proportionality constant *k*\n",
    "\n",
    "**$ k(\\frac{2}{3}) (99,844)^\\frac{3}{2} = 500,000 $**"
   ]
  },
  {
   "cell_type": "code",
   "execution_count": 21,
   "metadata": {},
   "outputs": [
    {
     "data": {
      "text/plain": [
       "0.023772688842554592"
      ]
     },
     "execution_count": 21,
     "metadata": {},
     "output_type": "execute_result"
    }
   ],
   "source": [
    "# Evaluating integral and solving for proportionatity constant k\n",
    "k = 500000 / ((2/3)*(99844**1.5))\n",
    "k"
   ]
  },
  {
   "cell_type": "markdown",
   "metadata": {},
   "source": [
    "We can see that the proportionality constant **k** $\\approx$ **0.024**"
   ]
  },
  {
   "cell_type": "code",
   "execution_count": 22,
   "metadata": {
    "scrolled": true
   },
   "outputs": [
    {
     "data": {
      "image/png": "[encoded data removed]",
      "text/plain": [
       "<Figure size 1080x288 with 1 Axes>"
      ]
     },
     "metadata": {},
     "output_type": "display_data"
    }
   ],
   "source": [
    "\n",
    "\n",
    "plt.figure(figsize=(15,4))\n",
    "x=np.linspace(0,99844, 50)\n",
    "y=(k)*(x**0.5)\n",
    "sns.lineplot(x=x, y=y)\n",
    "plt.xlabel('Number of Orders')\n",
    "plt.ylabel('IT Cost per additional Order');"
   ]
  },
  {
   "cell_type": "code",
   "execution_count": 23,
   "metadata": {},
   "outputs": [
    {
     "data": {
      "image/png": "[encoded data removed]",
      "text/plain": [
       "<Figure size 1080x288 with 1 Axes>"
      ]
     },
     "metadata": {},
     "output_type": "display_data"
    }
   ],
   "source": [
    "plt.figure(figsize=(15,4))\n",
    "x=np.linspace(0,99844, 50)\n",
    "y=(k)*(x**0.5)\n",
    "sns.lineplot(x=x, y=y)\n",
    "plt.xlabel('Number of Orders')\n",
    "plt.ylabel('IT Cost per additional Order');"
   ]
  },
  {
   "cell_type": "markdown",
   "metadata": {},
   "source": [
    "Now that we have the proportionality constant *k*, we can calculate the additional IT cost associated with a particular order volume. \n",
    "\n",
    "Understanding this will help us gauge whether removing the poorest-performing sellers along with their order volume would adversely impact Olist's cost structure. \n",
    "\n",
    "Sellers with high order volume also have accompanying higher IT costs associated with them. If poor-performing sellers both pose a drag on profits from the effects of bad reviews, and additionally, with large order volume consume a larger of IT resources, then it becomes even clearer that removal of these sellers would improve profits and relieve the burden on the IT infrastructure.  "
   ]
  },
  {
   "cell_type": "code",
   "execution_count": 98,
   "metadata": {
    "scrolled": true,
    "slideshow": {
     "slide_type": "skip"
    }
   },
   "outputs": [
    {
     "data": {
      "text/html": [
       "<div>\n",
       "<style scoped>\n",
       "    .dataframe tbody tr th:only-of-type {\n",
       "        vertical-align: middle;\n",
       "    }\n",
       "\n",
       "    .dataframe tbody tr th {\n",
       "        vertical-align: top;\n",
       "    }\n",
       "\n",
       "    .dataframe thead th {\n",
       "        text-align: right;\n",
       "    }\n",
       "</style>\n",
       "<table border=\"1\" class=\"dataframe\">\n",
       "  <thead>\n",
       "    <tr style=\"text-align: right;\">\n",
       "      <th></th>\n",
       "      <th>seller_id</th>\n",
       "      <th>seller_city</th>\n",
       "      <th>seller_state</th>\n",
       "      <th>delay_to_carrier</th>\n",
       "      <th>seller_wait_time</th>\n",
       "      <th>date_first_sale</th>\n",
       "      <th>date_last_sale</th>\n",
       "      <th>months_on_olist</th>\n",
       "      <th>share_of_one_stars</th>\n",
       "      <th>share_of_five_stars</th>\n",
       "      <th>...</th>\n",
       "      <th>profit_per_seller</th>\n",
       "      <th>impact</th>\n",
       "      <th>cumulative_profits</th>\n",
       "      <th>percent_profits</th>\n",
       "      <th>seller_proportion</th>\n",
       "      <th>cumulative_orders</th>\n",
       "      <th>cumulative_it_cost</th>\n",
       "      <th>it_unit_cost</th>\n",
       "      <th>it_marg_cost</th>\n",
       "      <th>diff_unit_marg_it</th>\n",
       "    </tr>\n",
       "  </thead>\n",
       "  <tbody>\n",
       "    <tr>\n",
       "      <th>0</th>\n",
       "      <td>53243585a1d6dc2643021fd1853d8905</td>\n",
       "      <td>lauro de freitas</td>\n",
       "      <td>BA</td>\n",
       "      <td>0.000000</td>\n",
       "      <td>13.374429</td>\n",
       "      <td>2017-08-28 18:44:58</td>\n",
       "      <td>2018-08-21 16:35:26</td>\n",
       "      <td>12.0</td>\n",
       "      <td>0.097765</td>\n",
       "      <td>0.558659</td>\n",
       "      <td>...</td>\n",
       "      <td>17967.605</td>\n",
       "      <td>positive</td>\n",
       "      <td>17967.605</td>\n",
       "      <td>1.426629</td>\n",
       "      <td>0.033670</td>\n",
       "      <td>358</td>\n",
       "      <td>107.352358</td>\n",
       "      <td>0.299867</td>\n",
       "      <td>0.449800</td>\n",
       "      <td>-0.149933</td>\n",
       "    </tr>\n",
       "    <tr>\n",
       "      <th>1</th>\n",
       "      <td>7e93a43ef30c4f03f38b393420bc753a</td>\n",
       "      <td>barueri</td>\n",
       "      <td>SP</td>\n",
       "      <td>0.000000</td>\n",
       "      <td>11.335141</td>\n",
       "      <td>2016-10-08 03:19:09</td>\n",
       "      <td>2018-07-14 21:25:19</td>\n",
       "      <td>22.0</td>\n",
       "      <td>0.104167</td>\n",
       "      <td>0.627976</td>\n",
       "      <td>...</td>\n",
       "      <td>14603.187</td>\n",
       "      <td>positive</td>\n",
       "      <td>32570.792</td>\n",
       "      <td>2.586122</td>\n",
       "      <td>0.067340</td>\n",
       "      <td>694</td>\n",
       "      <td>289.751873</td>\n",
       "      <td>0.417510</td>\n",
       "      <td>0.626265</td>\n",
       "      <td>-0.208755</td>\n",
       "    </tr>\n",
       "    <tr>\n",
       "      <th>2</th>\n",
       "      <td>fa1c13f2614d7b5c4749cbc52fecda94</td>\n",
       "      <td>sumare</td>\n",
       "      <td>SP</td>\n",
       "      <td>0.000000</td>\n",
       "      <td>13.341871</td>\n",
       "      <td>2017-01-07 20:55:10</td>\n",
       "      <td>2018-08-29 10:04:16</td>\n",
       "      <td>20.0</td>\n",
       "      <td>0.088889</td>\n",
       "      <td>0.673504</td>\n",
       "      <td>...</td>\n",
       "      <td>14254.203</td>\n",
       "      <td>positive</td>\n",
       "      <td>46824.995</td>\n",
       "      <td>3.717906</td>\n",
       "      <td>0.101010</td>\n",
       "      <td>1279</td>\n",
       "      <td>724.924643</td>\n",
       "      <td>0.566790</td>\n",
       "      <td>0.850185</td>\n",
       "      <td>-0.283395</td>\n",
       "    </tr>\n",
       "    <tr>\n",
       "      <th>3</th>\n",
       "      <td>edb1ef5e36e0c8cd84eb3c9b003e486d</td>\n",
       "      <td>teresopolis</td>\n",
       "      <td>RJ</td>\n",
       "      <td>0.000000</td>\n",
       "      <td>11.709806</td>\n",
       "      <td>2017-09-30 09:49:22</td>\n",
       "      <td>2018-08-20 19:30:10</td>\n",
       "      <td>11.0</td>\n",
       "      <td>0.066265</td>\n",
       "      <td>0.692771</td>\n",
       "      <td>...</td>\n",
       "      <td>7288.455</td>\n",
       "      <td>positive</td>\n",
       "      <td>54113.450</td>\n",
       "      <td>4.296610</td>\n",
       "      <td>0.134680</td>\n",
       "      <td>1445</td>\n",
       "      <td>870.540173</td>\n",
       "      <td>0.602450</td>\n",
       "      <td>0.903675</td>\n",
       "      <td>-0.301225</td>\n",
       "    </tr>\n",
       "    <tr>\n",
       "      <th>4</th>\n",
       "      <td>ccc4bbb5f32a6ab2b7066a4130f114e3</td>\n",
       "      <td>curitiba</td>\n",
       "      <td>PR</td>\n",
       "      <td>0.000000</td>\n",
       "      <td>15.853247</td>\n",
       "      <td>2017-01-07 14:00:13</td>\n",
       "      <td>2018-08-21 21:05:16</td>\n",
       "      <td>20.0</td>\n",
       "      <td>0.085561</td>\n",
       "      <td>0.652406</td>\n",
       "      <td>...</td>\n",
       "      <td>6780.462</td>\n",
       "      <td>positive</td>\n",
       "      <td>60893.912</td>\n",
       "      <td>4.834979</td>\n",
       "      <td>0.168350</td>\n",
       "      <td>1632</td>\n",
       "      <td>1044.882074</td>\n",
       "      <td>0.640246</td>\n",
       "      <td>0.960370</td>\n",
       "      <td>-0.320123</td>\n",
       "    </tr>\n",
       "    <tr>\n",
       "      <th>5</th>\n",
       "      <td>46dc3b2cc0980fb8ec44634e21d2718e</td>\n",
       "      <td>rio de janeiro</td>\n",
       "      <td>RJ</td>\n",
       "      <td>0.000000</td>\n",
       "      <td>11.800424</td>\n",
       "      <td>2016-10-06 15:44:00</td>\n",
       "      <td>2018-08-17 22:49:38</td>\n",
       "      <td>23.0</td>\n",
       "      <td>0.117083</td>\n",
       "      <td>0.623800</td>\n",
       "      <td>...</td>\n",
       "      <td>6761.119</td>\n",
       "      <td>positive</td>\n",
       "      <td>67655.031</td>\n",
       "      <td>5.371812</td>\n",
       "      <td>0.202020</td>\n",
       "      <td>2153</td>\n",
       "      <td>1583.263106</td>\n",
       "      <td>0.735375</td>\n",
       "      <td>1.103063</td>\n",
       "      <td>-0.367688</td>\n",
       "    </tr>\n",
       "    <tr>\n",
       "      <th>6</th>\n",
       "      <td>4869f7a5dfa277a7dca6462dcf3b52b2</td>\n",
       "      <td>guariba</td>\n",
       "      <td>SP</td>\n",
       "      <td>0.000000</td>\n",
       "      <td>15.005261</td>\n",
       "      <td>2017-03-07 13:04:43</td>\n",
       "      <td>2018-08-24 19:55:21</td>\n",
       "      <td>18.0</td>\n",
       "      <td>0.108657</td>\n",
       "      <td>0.593640</td>\n",
       "      <td>...</td>\n",
       "      <td>6487.263</td>\n",
       "      <td>positive</td>\n",
       "      <td>74142.294</td>\n",
       "      <td>5.886901</td>\n",
       "      <td>0.235690</td>\n",
       "      <td>3285</td>\n",
       "      <td>2983.940148</td>\n",
       "      <td>0.908353</td>\n",
       "      <td>1.362530</td>\n",
       "      <td>-0.454177</td>\n",
       "    </tr>\n",
       "    <tr>\n",
       "      <th>7</th>\n",
       "      <td>5dceca129747e92ff8ef7a997dc4f8ca</td>\n",
       "      <td>santa barbara d´oeste</td>\n",
       "      <td>SP</td>\n",
       "      <td>0.000000</td>\n",
       "      <td>11.273755</td>\n",
       "      <td>2017-01-27 14:31:27</td>\n",
       "      <td>2018-06-26 00:33:18</td>\n",
       "      <td>17.0</td>\n",
       "      <td>0.141538</td>\n",
       "      <td>0.581538</td>\n",
       "      <td>...</td>\n",
       "      <td>6175.553</td>\n",
       "      <td>positive</td>\n",
       "      <td>80317.847</td>\n",
       "      <td>6.377240</td>\n",
       "      <td>0.269360</td>\n",
       "      <td>3610</td>\n",
       "      <td>3437.540707</td>\n",
       "      <td>0.952227</td>\n",
       "      <td>1.428341</td>\n",
       "      <td>-0.476114</td>\n",
       "    </tr>\n",
       "    <tr>\n",
       "      <th>8</th>\n",
       "      <td>17f51e7198701186712e53a39c564617</td>\n",
       "      <td>sao paulo</td>\n",
       "      <td>SP</td>\n",
       "      <td>0.000000</td>\n",
       "      <td>22.761424</td>\n",
       "      <td>2017-02-04 13:05:50</td>\n",
       "      <td>2018-08-05 10:25:16</td>\n",
       "      <td>18.0</td>\n",
       "      <td>0.053571</td>\n",
       "      <td>0.660714</td>\n",
       "      <td>...</td>\n",
       "      <td>5641.900</td>\n",
       "      <td>positive</td>\n",
       "      <td>85959.747</td>\n",
       "      <td>6.825207</td>\n",
       "      <td>0.303030</td>\n",
       "      <td>3666</td>\n",
       "      <td>3517.837206</td>\n",
       "      <td>0.959585</td>\n",
       "      <td>1.439377</td>\n",
       "      <td>-0.479792</td>\n",
       "    </tr>\n",
       "    <tr>\n",
       "      <th>9</th>\n",
       "      <td>e882b2a25a10b9c057cc49695f222c19</td>\n",
       "      <td>teresopolis</td>\n",
       "      <td>RJ</td>\n",
       "      <td>0.000000</td>\n",
       "      <td>9.458803</td>\n",
       "      <td>2018-01-06 14:13:02</td>\n",
       "      <td>2018-08-18 16:10:04</td>\n",
       "      <td>8.0</td>\n",
       "      <td>0.016949</td>\n",
       "      <td>0.728814</td>\n",
       "      <td>...</td>\n",
       "      <td>5505.754</td>\n",
       "      <td>positive</td>\n",
       "      <td>91465.501</td>\n",
       "      <td>7.262364</td>\n",
       "      <td>0.336700</td>\n",
       "      <td>3723</td>\n",
       "      <td>3600.199782</td>\n",
       "      <td>0.967016</td>\n",
       "      <td>1.450524</td>\n",
       "      <td>-0.483508</td>\n",
       "    </tr>\n",
       "    <tr>\n",
       "      <th>10</th>\n",
       "      <td>2bf6a2c1e71bbd29a4ad64e6d3c3629f</td>\n",
       "      <td>nova friburgo</td>\n",
       "      <td>RJ</td>\n",
       "      <td>0.000000</td>\n",
       "      <td>13.368180</td>\n",
       "      <td>2017-11-02 13:25:20</td>\n",
       "      <td>2018-08-13 19:45:16</td>\n",
       "      <td>10.0</td>\n",
       "      <td>0.133333</td>\n",
       "      <td>0.633333</td>\n",
       "      <td>...</td>\n",
       "      <td>5382.890</td>\n",
       "      <td>positive</td>\n",
       "      <td>96848.391</td>\n",
       "      <td>7.689766</td>\n",
       "      <td>0.370370</td>\n",
       "      <td>3753</td>\n",
       "      <td>3643.803038</td>\n",
       "      <td>0.970904</td>\n",
       "      <td>1.456356</td>\n",
       "      <td>-0.485452</td>\n",
       "    </tr>\n",
       "    <tr>\n",
       "      <th>11</th>\n",
       "      <td>eeb6de78f79159600292e314a77cbd18</td>\n",
       "      <td>lages</td>\n",
       "      <td>SC</td>\n",
       "      <td>0.000000</td>\n",
       "      <td>12.113948</td>\n",
       "      <td>2017-02-18 18:42:35</td>\n",
       "      <td>2018-08-11 08:45:11</td>\n",
       "      <td>18.0</td>\n",
       "      <td>0.048193</td>\n",
       "      <td>0.674699</td>\n",
       "      <td>...</td>\n",
       "      <td>5163.984</td>\n",
       "      <td>positive</td>\n",
       "      <td>102012.375</td>\n",
       "      <td>8.099787</td>\n",
       "      <td>0.404040</td>\n",
       "      <td>3836</td>\n",
       "      <td>3765.346474</td>\n",
       "      <td>0.981581</td>\n",
       "      <td>1.472372</td>\n",
       "      <td>-0.490791</td>\n",
       "    </tr>\n",
       "    <tr>\n",
       "      <th>12</th>\n",
       "      <td>f5a590cf36251cf1162ea35bef76fe84</td>\n",
       "      <td>sao bernardo do campo</td>\n",
       "      <td>SP</td>\n",
       "      <td>0.000000</td>\n",
       "      <td>11.821743</td>\n",
       "      <td>2017-03-30 02:10:17</td>\n",
       "      <td>2018-08-20 11:10:02</td>\n",
       "      <td>17.0</td>\n",
       "      <td>0.111111</td>\n",
       "      <td>0.641026</td>\n",
       "      <td>...</td>\n",
       "      <td>5050.178</td>\n",
       "      <td>positive</td>\n",
       "      <td>107062.553</td>\n",
       "      <td>8.500771</td>\n",
       "      <td>0.437710</td>\n",
       "      <td>3953</td>\n",
       "      <td>3938.920981</td>\n",
       "      <td>0.996438</td>\n",
       "      <td>1.494658</td>\n",
       "      <td>-0.498219</td>\n",
       "    </tr>\n",
       "    <tr>\n",
       "      <th>13</th>\n",
       "      <td>f7ba60f8c3f99e7ee4042fdef03b70c4</td>\n",
       "      <td>sao bernardo do campo</td>\n",
       "      <td>SP</td>\n",
       "      <td>0.000000</td>\n",
       "      <td>13.124416</td>\n",
       "      <td>2017-07-31 16:23:26</td>\n",
       "      <td>2018-08-26 22:50:21</td>\n",
       "      <td>13.0</td>\n",
       "      <td>0.090498</td>\n",
       "      <td>0.597285</td>\n",
       "      <td>...</td>\n",
       "      <td>4999.500</td>\n",
       "      <td>positive</td>\n",
       "      <td>112062.053</td>\n",
       "      <td>8.897731</td>\n",
       "      <td>0.471380</td>\n",
       "      <td>4172</td>\n",
       "      <td>4270.743579</td>\n",
       "      <td>1.023668</td>\n",
       "      <td>1.535502</td>\n",
       "      <td>-0.511834</td>\n",
       "    </tr>\n",
       "    <tr>\n",
       "      <th>14</th>\n",
       "      <td>834f3294fba9f932f56edc879193f925</td>\n",
       "      <td>araraquara</td>\n",
       "      <td>SP</td>\n",
       "      <td>0.000000</td>\n",
       "      <td>14.296499</td>\n",
       "      <td>2017-05-12 02:50:23</td>\n",
       "      <td>2018-08-16 03:25:18</td>\n",
       "      <td>16.0</td>\n",
       "      <td>0.030303</td>\n",
       "      <td>0.712121</td>\n",
       "      <td>...</td>\n",
       "      <td>4900.750</td>\n",
       "      <td>positive</td>\n",
       "      <td>116962.803</td>\n",
       "      <td>9.286851</td>\n",
       "      <td>0.505051</td>\n",
       "      <td>4238</td>\n",
       "      <td>4372.486482</td>\n",
       "      <td>1.031733</td>\n",
       "      <td>1.547600</td>\n",
       "      <td>-0.515867</td>\n",
       "    </tr>\n",
       "    <tr>\n",
       "      <th>15</th>\n",
       "      <td>fe2032dab1a61af8794248c8196565c9</td>\n",
       "      <td>campinas</td>\n",
       "      <td>SP</td>\n",
       "      <td>0.000000</td>\n",
       "      <td>10.600772</td>\n",
       "      <td>2017-03-08 12:32:49</td>\n",
       "      <td>2018-08-21 15:30:31</td>\n",
       "      <td>18.0</td>\n",
       "      <td>0.081633</td>\n",
       "      <td>0.690476</td>\n",
       "      <td>...</td>\n",
       "      <td>4725.961</td>\n",
       "      <td>positive</td>\n",
       "      <td>121688.764</td>\n",
       "      <td>9.662093</td>\n",
       "      <td>0.538721</td>\n",
       "      <td>4532</td>\n",
       "      <td>4835.283012</td>\n",
       "      <td>1.066920</td>\n",
       "      <td>1.600381</td>\n",
       "      <td>-0.533460</td>\n",
       "    </tr>\n",
       "    <tr>\n",
       "      <th>16</th>\n",
       "      <td>04308b1ee57b6625f47df1d56f00eedf</td>\n",
       "      <td>bombinhas</td>\n",
       "      <td>SC</td>\n",
       "      <td>0.000000</td>\n",
       "      <td>18.876003</td>\n",
       "      <td>2017-11-15 02:36:07</td>\n",
       "      <td>2018-08-12 00:25:12</td>\n",
       "      <td>9.0</td>\n",
       "      <td>0.180851</td>\n",
       "      <td>0.553191</td>\n",
       "      <td>...</td>\n",
       "      <td>4643.060</td>\n",
       "      <td>positive</td>\n",
       "      <td>126331.824</td>\n",
       "      <td>10.030752</td>\n",
       "      <td>0.572391</td>\n",
       "      <td>4626</td>\n",
       "      <td>4986.496167</td>\n",
       "      <td>1.077928</td>\n",
       "      <td>1.616892</td>\n",
       "      <td>-0.538964</td>\n",
       "    </tr>\n",
       "    <tr>\n",
       "      <th>17</th>\n",
       "      <td>ba90964cff9b9e0e6f32b23b82465f7b</td>\n",
       "      <td>guarulhos</td>\n",
       "      <td>SP</td>\n",
       "      <td>0.000000</td>\n",
       "      <td>10.018161</td>\n",
       "      <td>2018-02-25 13:07:45</td>\n",
       "      <td>2018-08-15 18:43:58</td>\n",
       "      <td>6.0</td>\n",
       "      <td>0.052632</td>\n",
       "      <td>0.684211</td>\n",
       "      <td>...</td>\n",
       "      <td>4541.250</td>\n",
       "      <td>positive</td>\n",
       "      <td>130873.074</td>\n",
       "      <td>10.391327</td>\n",
       "      <td>0.606061</td>\n",
       "      <td>4664</td>\n",
       "      <td>5048.064084</td>\n",
       "      <td>1.082347</td>\n",
       "      <td>1.623520</td>\n",
       "      <td>-0.541173</td>\n",
       "    </tr>\n",
       "    <tr>\n",
       "      <th>18</th>\n",
       "      <td>59417c56835dd8e2e72f91f809cd4092</td>\n",
       "      <td>limeira</td>\n",
       "      <td>SP</td>\n",
       "      <td>0.000000</td>\n",
       "      <td>12.569483</td>\n",
       "      <td>2017-01-25 20:25:13</td>\n",
       "      <td>2017-10-02 17:49:13</td>\n",
       "      <td>9.0</td>\n",
       "      <td>0.055556</td>\n",
       "      <td>0.555556</td>\n",
       "      <td>...</td>\n",
       "      <td>4215.900</td>\n",
       "      <td>positive</td>\n",
       "      <td>135088.974</td>\n",
       "      <td>10.726070</td>\n",
       "      <td>0.639731</td>\n",
       "      <td>4682</td>\n",
       "      <td>5077.315617</td>\n",
       "      <td>1.084433</td>\n",
       "      <td>1.626650</td>\n",
       "      <td>-0.542217</td>\n",
       "    </tr>\n",
       "    <tr>\n",
       "      <th>19</th>\n",
       "      <td>b839e41795b7f3ad94cc2014a52f6796</td>\n",
       "      <td>sao caetano do sul</td>\n",
       "      <td>SP</td>\n",
       "      <td>0.000000</td>\n",
       "      <td>6.920479</td>\n",
       "      <td>2018-03-01 10:35:40</td>\n",
       "      <td>2018-08-26 15:10:14</td>\n",
       "      <td>6.0</td>\n",
       "      <td>0.181818</td>\n",
       "      <td>0.666667</td>\n",
       "      <td>...</td>\n",
       "      <td>4122.900</td>\n",
       "      <td>positive</td>\n",
       "      <td>139211.874</td>\n",
       "      <td>11.053428</td>\n",
       "      <td>0.673401</td>\n",
       "      <td>4715</td>\n",
       "      <td>5131.089530</td>\n",
       "      <td>1.088248</td>\n",
       "      <td>1.632372</td>\n",
       "      <td>-0.544124</td>\n",
       "    </tr>\n",
       "    <tr>\n",
       "      <th>20</th>\n",
       "      <td>37be5a7c751166fbc5f8ccba4119e043</td>\n",
       "      <td>sao paulo</td>\n",
       "      <td>SP</td>\n",
       "      <td>0.000000</td>\n",
       "      <td>10.607953</td>\n",
       "      <td>2017-05-04 10:05:21</td>\n",
       "      <td>2018-05-21 15:32:08</td>\n",
       "      <td>13.0</td>\n",
       "      <td>0.061372</td>\n",
       "      <td>0.599278</td>\n",
       "      <td>...</td>\n",
       "      <td>3735.055</td>\n",
       "      <td>positive</td>\n",
       "      <td>142946.929</td>\n",
       "      <td>11.349992</td>\n",
       "      <td>0.707071</td>\n",
       "      <td>4987</td>\n",
       "      <td>5581.437928</td>\n",
       "      <td>1.119197</td>\n",
       "      <td>1.678796</td>\n",
       "      <td>-0.559599</td>\n",
       "    </tr>\n",
       "    <tr>\n",
       "      <th>21</th>\n",
       "      <td>966cb4760537b1404caedd472cc610a5</td>\n",
       "      <td>diadema</td>\n",
       "      <td>SP</td>\n",
       "      <td>0.000000</td>\n",
       "      <td>10.040945</td>\n",
       "      <td>2018-03-19 15:17:12</td>\n",
       "      <td>2018-08-08 15:04:58</td>\n",
       "      <td>5.0</td>\n",
       "      <td>0.184211</td>\n",
       "      <td>0.526316</td>\n",
       "      <td>...</td>\n",
       "      <td>3678.605</td>\n",
       "      <td>positive</td>\n",
       "      <td>146625.534</td>\n",
       "      <td>11.642073</td>\n",
       "      <td>0.740741</td>\n",
       "      <td>5062</td>\n",
       "      <td>5707.819859</td>\n",
       "      <td>1.127582</td>\n",
       "      <td>1.691373</td>\n",
       "      <td>-0.563791</td>\n",
       "    </tr>\n",
       "    <tr>\n",
       "      <th>22</th>\n",
       "      <td>850f4f8af5ea87287ac68de36e29107f</td>\n",
       "      <td>sao paulo</td>\n",
       "      <td>SP</td>\n",
       "      <td>0.000000</td>\n",
       "      <td>10.143655</td>\n",
       "      <td>2017-04-10 23:42:09</td>\n",
       "      <td>2018-06-28 02:15:51</td>\n",
       "      <td>15.0</td>\n",
       "      <td>0.069519</td>\n",
       "      <td>0.620321</td>\n",
       "      <td>...</td>\n",
       "      <td>3625.536</td>\n",
       "      <td>positive</td>\n",
       "      <td>150251.070</td>\n",
       "      <td>11.929941</td>\n",
       "      <td>0.774411</td>\n",
       "      <td>5249</td>\n",
       "      <td>6027.009917</td>\n",
       "      <td>1.148221</td>\n",
       "      <td>1.722331</td>\n",
       "      <td>-0.574110</td>\n",
       "    </tr>\n",
       "    <tr>\n",
       "      <th>23</th>\n",
       "      <td>70eea00b476a314817cefde4aad4f89a</td>\n",
       "      <td>itatiba</td>\n",
       "      <td>SP</td>\n",
       "      <td>0.000000</td>\n",
       "      <td>13.332505</td>\n",
       "      <td>2017-02-09 15:43:34</td>\n",
       "      <td>2018-08-24 03:05:09</td>\n",
       "      <td>19.0</td>\n",
       "      <td>0.064220</td>\n",
       "      <td>0.642202</td>\n",
       "      <td>...</td>\n",
       "      <td>3599.465</td>\n",
       "      <td>positive</td>\n",
       "      <td>153850.535</td>\n",
       "      <td>12.215738</td>\n",
       "      <td>0.808081</td>\n",
       "      <td>5357</td>\n",
       "      <td>6213.975212</td>\n",
       "      <td>1.159973</td>\n",
       "      <td>1.739959</td>\n",
       "      <td>-0.579986</td>\n",
       "    </tr>\n",
       "    <tr>\n",
       "      <th>24</th>\n",
       "      <td>d23019c84ffae2d5ef2270367b8605fc</td>\n",
       "      <td>londrina</td>\n",
       "      <td>PR</td>\n",
       "      <td>0.000000</td>\n",
       "      <td>11.277978</td>\n",
       "      <td>2017-10-10 11:06:17</td>\n",
       "      <td>2018-08-22 20:05:16</td>\n",
       "      <td>11.0</td>\n",
       "      <td>0.025641</td>\n",
       "      <td>0.589744</td>\n",
       "      <td>...</td>\n",
       "      <td>3570.510</td>\n",
       "      <td>positive</td>\n",
       "      <td>157421.045</td>\n",
       "      <td>12.499237</td>\n",
       "      <td>0.841751</td>\n",
       "      <td>5396</td>\n",
       "      <td>6281.956987</td>\n",
       "      <td>1.164188</td>\n",
       "      <td>1.746282</td>\n",
       "      <td>-0.582094</td>\n",
       "    </tr>\n",
       "    <tr>\n",
       "      <th>25</th>\n",
       "      <td>17e34d8224d27a541263c4c64b11a56b</td>\n",
       "      <td>riberao preto</td>\n",
       "      <td>SP</td>\n",
       "      <td>0.000000</td>\n",
       "      <td>14.041841</td>\n",
       "      <td>2017-02-16 23:25:11</td>\n",
       "      <td>2018-08-20 15:10:39</td>\n",
       "      <td>19.0</td>\n",
       "      <td>0.105882</td>\n",
       "      <td>0.596078</td>\n",
       "      <td>...</td>\n",
       "      <td>3556.324</td>\n",
       "      <td>positive</td>\n",
       "      <td>160977.369</td>\n",
       "      <td>12.781609</td>\n",
       "      <td>0.875421</td>\n",
       "      <td>5651</td>\n",
       "      <td>6732.479007</td>\n",
       "      <td>1.191378</td>\n",
       "      <td>1.787068</td>\n",
       "      <td>-0.595689</td>\n",
       "    </tr>\n",
       "    <tr>\n",
       "      <th>26</th>\n",
       "      <td>17a053fcb14bd219540cbde0df490be0</td>\n",
       "      <td>mogi guacu</td>\n",
       "      <td>SP</td>\n",
       "      <td>0.000000</td>\n",
       "      <td>11.984233</td>\n",
       "      <td>2017-07-06 13:05:21</td>\n",
       "      <td>2018-08-13 22:04:14</td>\n",
       "      <td>14.0</td>\n",
       "      <td>0.103175</td>\n",
       "      <td>0.603175</td>\n",
       "      <td>...</td>\n",
       "      <td>3480.314</td>\n",
       "      <td>positive</td>\n",
       "      <td>164457.683</td>\n",
       "      <td>13.057946</td>\n",
       "      <td>0.909091</td>\n",
       "      <td>5776</td>\n",
       "      <td>6957.093238</td>\n",
       "      <td>1.204483</td>\n",
       "      <td>1.806724</td>\n",
       "      <td>-0.602241</td>\n",
       "    </tr>\n",
       "    <tr>\n",
       "      <th>27</th>\n",
       "      <td>522620dcb18a6b31cd7bdf73665113a9</td>\n",
       "      <td>cascavel</td>\n",
       "      <td>PR</td>\n",
       "      <td>0.000000</td>\n",
       "      <td>15.232024</td>\n",
       "      <td>2016-10-06 15:44:36</td>\n",
       "      <td>2018-08-04 23:10:17</td>\n",
       "      <td>22.0</td>\n",
       "      <td>0.189655</td>\n",
       "      <td>0.540230</td>\n",
       "      <td>...</td>\n",
       "      <td>3436.849</td>\n",
       "      <td>positive</td>\n",
       "      <td>167894.532</td>\n",
       "      <td>13.330832</td>\n",
       "      <td>0.942761</td>\n",
       "      <td>5950</td>\n",
       "      <td>7273.819093</td>\n",
       "      <td>1.222491</td>\n",
       "      <td>1.833736</td>\n",
       "      <td>-0.611245</td>\n",
       "    </tr>\n",
       "    <tr>\n",
       "      <th>28</th>\n",
       "      <td>b37c4c02bda3161a7546a4e6d222d5b2</td>\n",
       "      <td>sao paulo</td>\n",
       "      <td>SP</td>\n",
       "      <td>1.552611</td>\n",
       "      <td>17.175111</td>\n",
       "      <td>2017-04-25 08:05:21</td>\n",
       "      <td>2018-07-17 04:31:36</td>\n",
       "      <td>15.0</td>\n",
       "      <td>0.500000</td>\n",
       "      <td>0.250000</td>\n",
       "      <td>...</td>\n",
       "      <td>3357.500</td>\n",
       "      <td>positive</td>\n",
       "      <td>171252.032</td>\n",
       "      <td>13.597418</td>\n",
       "      <td>0.976431</td>\n",
       "      <td>5954</td>\n",
       "      <td>7281.155269</td>\n",
       "      <td>1.222901</td>\n",
       "      <td>1.834352</td>\n",
       "      <td>-0.611451</td>\n",
       "    </tr>\n",
       "    <tr>\n",
       "      <th>29</th>\n",
       "      <td>e59aa562b9f8076dd550fcddf0e73491</td>\n",
       "      <td>curitiba</td>\n",
       "      <td>PR</td>\n",
       "      <td>0.000000</td>\n",
       "      <td>13.709239</td>\n",
       "      <td>2017-09-05 16:30:11</td>\n",
       "      <td>2018-08-20 16:30:05</td>\n",
       "      <td>12.0</td>\n",
       "      <td>0.100000</td>\n",
       "      <td>0.571429</td>\n",
       "      <td>...</td>\n",
       "      <td>3287.430</td>\n",
       "      <td>positive</td>\n",
       "      <td>174539.462</td>\n",
       "      <td>13.858440</td>\n",
       "      <td>1.010101</td>\n",
       "      <td>6024</td>\n",
       "      <td>7409.936593</td>\n",
       "      <td>1.230069</td>\n",
       "      <td>1.845104</td>\n",
       "      <td>-0.615035</td>\n",
       "    </tr>\n",
       "    <tr>\n",
       "      <th>30</th>\n",
       "      <td>12b9676b00f60f3b700e83af21824c0e</td>\n",
       "      <td>montenegro</td>\n",
       "      <td>RS</td>\n",
       "      <td>0.000000</td>\n",
       "      <td>15.053846</td>\n",
       "      <td>2017-03-07 22:23:29</td>\n",
       "      <td>2018-08-26 22:10:24</td>\n",
       "      <td>18.0</td>\n",
       "      <td>0.029412</td>\n",
       "      <td>0.698529</td>\n",
       "      <td>...</td>\n",
       "      <td>3287.400</td>\n",
       "      <td>positive</td>\n",
       "      <td>177826.862</td>\n",
       "      <td>14.119460</td>\n",
       "      <td>1.043771</td>\n",
       "      <td>6159</td>\n",
       "      <td>7660.415971</td>\n",
       "      <td>1.243776</td>\n",
       "      <td>1.865664</td>\n",
       "      <td>-0.621888</td>\n",
       "    </tr>\n",
       "    <tr>\n",
       "      <th>31</th>\n",
       "      <td>c3cfdc648177fdbbbb35635a37472c53</td>\n",
       "      <td>curitiba</td>\n",
       "      <td>PR</td>\n",
       "      <td>0.000000</td>\n",
       "      <td>9.690751</td>\n",
       "      <td>2017-01-27 17:30:41</td>\n",
       "      <td>2018-08-27 21:40:06</td>\n",
       "      <td>19.0</td>\n",
       "      <td>0.063380</td>\n",
       "      <td>0.735915</td>\n",
       "      <td>...</td>\n",
       "      <td>3264.818</td>\n",
       "      <td>positive</td>\n",
       "      <td>181091.680</td>\n",
       "      <td>14.378686</td>\n",
       "      <td>1.077441</td>\n",
       "      <td>6437</td>\n",
       "      <td>8184.879889</td>\n",
       "      <td>1.271536</td>\n",
       "      <td>1.907305</td>\n",
       "      <td>-0.635768</td>\n",
       "    </tr>\n",
       "    <tr>\n",
       "      <th>32</th>\n",
       "      <td>7b0df942f46435babab05d49b744b2c4</td>\n",
       "      <td>braganca paulista</td>\n",
       "      <td>SP</td>\n",
       "      <td>0.000000</td>\n",
       "      <td>11.085880</td>\n",
       "      <td>2017-02-04 02:22:23</td>\n",
       "      <td>2018-06-25 08:38:26</td>\n",
       "      <td>17.0</td>\n",
       "      <td>0.093750</td>\n",
       "      <td>0.625000</td>\n",
       "      <td>...</td>\n",
       "      <td>3240.063</td>\n",
       "      <td>positive</td>\n",
       "      <td>184331.743</td>\n",
       "      <td>14.635948</td>\n",
       "      <td>1.111111</td>\n",
       "      <td>6469</td>\n",
       "      <td>8245.989427</td>\n",
       "      <td>1.274693</td>\n",
       "      <td>1.912040</td>\n",
       "      <td>-0.637347</td>\n",
       "    </tr>\n",
       "    <tr>\n",
       "      <th>33</th>\n",
       "      <td>b33e7c55446eabf8fe1a42d037ac7d6d</td>\n",
       "      <td>pradopolis</td>\n",
       "      <td>SP</td>\n",
       "      <td>0.000000</td>\n",
       "      <td>16.425508</td>\n",
       "      <td>2017-10-10 20:56:34</td>\n",
       "      <td>2018-08-15 16:25:19</td>\n",
       "      <td>11.0</td>\n",
       "      <td>0.098684</td>\n",
       "      <td>0.605263</td>\n",
       "      <td>...</td>\n",
       "      <td>3178.517</td>\n",
       "      <td>positive</td>\n",
       "      <td>187510.260</td>\n",
       "      <td>14.888322</td>\n",
       "      <td>1.144781</td>\n",
       "      <td>6621</td>\n",
       "      <td>8538.320028</td>\n",
       "      <td>1.289582</td>\n",
       "      <td>1.934372</td>\n",
       "      <td>-0.644791</td>\n",
       "    </tr>\n",
       "    <tr>\n",
       "      <th>34</th>\n",
       "      <td>05ff92fedb5be47920fea08e501238b9</td>\n",
       "      <td>santo angelo</td>\n",
       "      <td>RS</td>\n",
       "      <td>0.000000</td>\n",
       "      <td>12.246268</td>\n",
       "      <td>2016-10-06 15:58:44</td>\n",
       "      <td>2018-08-07 21:45:14</td>\n",
       "      <td>23.0</td>\n",
       "      <td>0.065574</td>\n",
       "      <td>0.606557</td>\n",
       "      <td>...</td>\n",
       "      <td>3119.278</td>\n",
       "      <td>positive</td>\n",
       "      <td>190629.538</td>\n",
       "      <td>15.135993</td>\n",
       "      <td>1.178451</td>\n",
       "      <td>6680</td>\n",
       "      <td>8652.701877</td>\n",
       "      <td>1.295315</td>\n",
       "      <td>1.942972</td>\n",
       "      <td>-0.647657</td>\n",
       "    </tr>\n",
       "    <tr>\n",
       "      <th>35</th>\n",
       "      <td>744dac408745240a2c2528fb1b6028f3</td>\n",
       "      <td>colombo</td>\n",
       "      <td>PR</td>\n",
       "      <td>0.000000</td>\n",
       "      <td>11.141102</td>\n",
       "      <td>2017-04-22 21:50:16</td>\n",
       "      <td>2018-08-14 18:55:25</td>\n",
       "      <td>16.0</td>\n",
       "      <td>0.025316</td>\n",
       "      <td>0.746835</td>\n",
       "      <td>...</td>\n",
       "      <td>3039.060</td>\n",
       "      <td>positive</td>\n",
       "      <td>193668.598</td>\n",
       "      <td>15.377294</td>\n",
       "      <td>1.212121</td>\n",
       "      <td>6759</td>\n",
       "      <td>8806.649593</td>\n",
       "      <td>1.302952</td>\n",
       "      <td>1.954427</td>\n",
       "      <td>-0.651476</td>\n",
       "    </tr>\n",
       "    <tr>\n",
       "      <th>36</th>\n",
       "      <td>2b3e4a2a3ea8e01938cabda2a3e5cc79</td>\n",
       "      <td>sao paulo</td>\n",
       "      <td>SP</td>\n",
       "      <td>0.000000</td>\n",
       "      <td>8.700261</td>\n",
       "      <td>2017-05-10 02:50:10</td>\n",
       "      <td>2018-07-27 11:35:14</td>\n",
       "      <td>15.0</td>\n",
       "      <td>0.076923</td>\n",
       "      <td>0.673077</td>\n",
       "      <td>...</td>\n",
       "      <td>3002.915</td>\n",
       "      <td>positive</td>\n",
       "      <td>196671.513</td>\n",
       "      <td>15.615726</td>\n",
       "      <td>1.245791</td>\n",
       "      <td>6811</td>\n",
       "      <td>8908.475037</td>\n",
       "      <td>1.307954</td>\n",
       "      <td>1.961931</td>\n",
       "      <td>-0.653977</td>\n",
       "    </tr>\n",
       "    <tr>\n",
       "      <th>37</th>\n",
       "      <td>76d5af76d0271110f9af36c92573f765</td>\n",
       "      <td>sao paulo</td>\n",
       "      <td>SP</td>\n",
       "      <td>0.000000</td>\n",
       "      <td>11.488302</td>\n",
       "      <td>2016-10-06 15:44:28</td>\n",
       "      <td>2018-08-01 17:10:12</td>\n",
       "      <td>22.0</td>\n",
       "      <td>0.122137</td>\n",
       "      <td>0.603053</td>\n",
       "      <td>...</td>\n",
       "      <td>2996.160</td>\n",
       "      <td>positive</td>\n",
       "      <td>199667.673</td>\n",
       "      <td>15.853621</td>\n",
       "      <td>1.279461</td>\n",
       "      <td>6942</td>\n",
       "      <td>9166.719895</td>\n",
       "      <td>1.320472</td>\n",
       "      <td>1.980709</td>\n",
       "      <td>-0.660236</td>\n",
       "    </tr>\n",
       "    <tr>\n",
       "      <th>38</th>\n",
       "      <td>5c243662ce92d84573bfaff24c3e3700</td>\n",
       "      <td>sao paulo</td>\n",
       "      <td>SP</td>\n",
       "      <td>0.000000</td>\n",
       "      <td>10.806852</td>\n",
       "      <td>2017-01-29 01:31:48</td>\n",
       "      <td>2018-02-09 23:27:48</td>\n",
       "      <td>13.0</td>\n",
       "      <td>0.060606</td>\n",
       "      <td>0.525253</td>\n",
       "      <td>...</td>\n",
       "      <td>2956.202</td>\n",
       "      <td>positive</td>\n",
       "      <td>202623.875</td>\n",
       "      <td>16.088344</td>\n",
       "      <td>1.313131</td>\n",
       "      <td>7040</td>\n",
       "      <td>9361.512804</td>\n",
       "      <td>1.329760</td>\n",
       "      <td>1.994641</td>\n",
       "      <td>-0.664880</td>\n",
       "    </tr>\n",
       "    <tr>\n",
       "      <th>39</th>\n",
       "      <td>25c5c91f63607446a97b143d2d535d31</td>\n",
       "      <td>itauna</td>\n",
       "      <td>MG</td>\n",
       "      <td>0.000000</td>\n",
       "      <td>13.928477</td>\n",
       "      <td>2017-03-08 09:10:18</td>\n",
       "      <td>2018-03-29 03:28:42</td>\n",
       "      <td>13.0</td>\n",
       "      <td>0.155280</td>\n",
       "      <td>0.459627</td>\n",
       "      <td>...</td>\n",
       "      <td>2917.922</td>\n",
       "      <td>positive</td>\n",
       "      <td>205541.797</td>\n",
       "      <td>16.320027</td>\n",
       "      <td>1.346801</td>\n",
       "      <td>7198</td>\n",
       "      <td>9678.427706</td>\n",
       "      <td>1.344600</td>\n",
       "      <td>2.016899</td>\n",
       "      <td>-0.672300</td>\n",
       "    </tr>\n",
       "    <tr>\n",
       "      <th>40</th>\n",
       "      <td>8581055ce74af1daba164fdbd55a40de</td>\n",
       "      <td>guarulhos</td>\n",
       "      <td>SP</td>\n",
       "      <td>0.000000</td>\n",
       "      <td>12.831719</td>\n",
       "      <td>2017-01-18 19:05:09</td>\n",
       "      <td>2018-04-24 18:58:37</td>\n",
       "      <td>16.0</td>\n",
       "      <td>0.081425</td>\n",
       "      <td>0.631043</td>\n",
       "      <td>...</td>\n",
       "      <td>2892.530</td>\n",
       "      <td>positive</td>\n",
       "      <td>208434.327</td>\n",
       "      <td>16.549694</td>\n",
       "      <td>1.380471</td>\n",
       "      <td>7585</td>\n",
       "      <td>10469.367012</td>\n",
       "      <td>1.380273</td>\n",
       "      <td>2.070409</td>\n",
       "      <td>-0.690136</td>\n",
       "    </tr>\n",
       "    <tr>\n",
       "      <th>41</th>\n",
       "      <td>7681ef142fd2c19048da7430856b5588</td>\n",
       "      <td>guarulhos</td>\n",
       "      <td>SP</td>\n",
       "      <td>0.000000</td>\n",
       "      <td>10.372717</td>\n",
       "      <td>2018-02-09 21:50:26</td>\n",
       "      <td>2018-08-22 20:30:17</td>\n",
       "      <td>7.0</td>\n",
       "      <td>0.116667</td>\n",
       "      <td>0.583333</td>\n",
       "      <td>...</td>\n",
       "      <td>2874.181</td>\n",
       "      <td>positive</td>\n",
       "      <td>211308.508</td>\n",
       "      <td>16.777904</td>\n",
       "      <td>1.414141</td>\n",
       "      <td>7644</td>\n",
       "      <td>10591.758367</td>\n",
       "      <td>1.385630</td>\n",
       "      <td>2.078446</td>\n",
       "      <td>-0.692815</td>\n",
       "    </tr>\n",
       "    <tr>\n",
       "      <th>42</th>\n",
       "      <td>f9244d45189d3a3605499abddeade7d5</td>\n",
       "      <td>sao paulo</td>\n",
       "      <td>SP</td>\n",
       "      <td>0.000000</td>\n",
       "      <td>15.176921</td>\n",
       "      <td>2017-02-07 22:42:32</td>\n",
       "      <td>2018-08-18 13:09:11</td>\n",
       "      <td>19.0</td>\n",
       "      <td>0.047619</td>\n",
       "      <td>0.571429</td>\n",
       "      <td>...</td>\n",
       "      <td>2873.143</td>\n",
       "      <td>positive</td>\n",
       "      <td>214181.651</td>\n",
       "      <td>17.006031</td>\n",
       "      <td>1.447811</td>\n",
       "      <td>7665</td>\n",
       "      <td>10635.435686</td>\n",
       "      <td>1.387532</td>\n",
       "      <td>2.081299</td>\n",
       "      <td>-0.693766</td>\n",
       "    </tr>\n",
       "    <tr>\n",
       "      <th>43</th>\n",
       "      <td>900ba814c251a692506d7834c1218441</td>\n",
       "      <td>salto</td>\n",
       "      <td>SP</td>\n",
       "      <td>0.000000</td>\n",
       "      <td>12.483182</td>\n",
       "      <td>2017-07-04 13:35:18</td>\n",
       "      <td>2018-08-28 03:50:23</td>\n",
       "      <td>14.0</td>\n",
       "      <td>0.079545</td>\n",
       "      <td>0.556818</td>\n",
       "      <td>...</td>\n",
       "      <td>2839.969</td>\n",
       "      <td>positive</td>\n",
       "      <td>217021.620</td>\n",
       "      <td>17.231525</td>\n",
       "      <td>1.481481</td>\n",
       "      <td>7753</td>\n",
       "      <td>10819.114646</td>\n",
       "      <td>1.395475</td>\n",
       "      <td>2.093212</td>\n",
       "      <td>-0.697737</td>\n",
       "    </tr>\n",
       "    <tr>\n",
       "      <th>44</th>\n",
       "      <td>ceaec5548eefc6e23e6607c5435102e7</td>\n",
       "      <td>sao paulo</td>\n",
       "      <td>SP</td>\n",
       "      <td>0.000000</td>\n",
       "      <td>12.918997</td>\n",
       "      <td>2018-01-18 21:57:28</td>\n",
       "      <td>2018-08-17 15:09:54</td>\n",
       "      <td>7.0</td>\n",
       "      <td>0.103448</td>\n",
       "      <td>0.571429</td>\n",
       "      <td>...</td>\n",
       "      <td>2821.718</td>\n",
       "      <td>positive</td>\n",
       "      <td>219843.338</td>\n",
       "      <td>17.455570</td>\n",
       "      <td>1.515152</td>\n",
       "      <td>7956</td>\n",
       "      <td>11246.806121</td>\n",
       "      <td>1.413626</td>\n",
       "      <td>2.120439</td>\n",
       "      <td>-0.706813</td>\n",
       "    </tr>\n",
       "    <tr>\n",
       "      <th>45</th>\n",
       "      <td>f62d7bb4a613ec758a03342d46b580b2</td>\n",
       "      <td>vicosa</td>\n",
       "      <td>MG</td>\n",
       "      <td>0.000000</td>\n",
       "      <td>13.872097</td>\n",
       "      <td>2018-01-10 18:37:41</td>\n",
       "      <td>2018-08-09 18:10:20</td>\n",
       "      <td>7.0</td>\n",
       "      <td>0.062500</td>\n",
       "      <td>0.656250</td>\n",
       "      <td>...</td>\n",
       "      <td>2706.500</td>\n",
       "      <td>positive</td>\n",
       "      <td>222549.838</td>\n",
       "      <td>17.670466</td>\n",
       "      <td>1.548822</td>\n",
       "      <td>7988</td>\n",
       "      <td>11314.728339</td>\n",
       "      <td>1.416466</td>\n",
       "      <td>2.124699</td>\n",
       "      <td>-0.708233</td>\n",
       "    </tr>\n",
       "    <tr>\n",
       "      <th>46</th>\n",
       "      <td>b32be1695eb7ec5f10f72d9610a12527</td>\n",
       "      <td>caxias do sul</td>\n",
       "      <td>RS</td>\n",
       "      <td>0.000000</td>\n",
       "      <td>12.322988</td>\n",
       "      <td>2017-11-25 00:51:35</td>\n",
       "      <td>2018-08-13 13:15:09</td>\n",
       "      <td>9.0</td>\n",
       "      <td>0.133333</td>\n",
       "      <td>0.511111</td>\n",
       "      <td>...</td>\n",
       "      <td>2637.400</td>\n",
       "      <td>positive</td>\n",
       "      <td>225187.238</td>\n",
       "      <td>17.879875</td>\n",
       "      <td>1.582492</td>\n",
       "      <td>8033</td>\n",
       "      <td>11410.474306</td>\n",
       "      <td>1.420450</td>\n",
       "      <td>2.130675</td>\n",
       "      <td>-0.710225</td>\n",
       "    </tr>\n",
       "    <tr>\n",
       "      <th>47</th>\n",
       "      <td>1f1bb1f0859883505541bdd6606193e5</td>\n",
       "      <td>sao paulo</td>\n",
       "      <td>SP</td>\n",
       "      <td>0.000000</td>\n",
       "      <td>14.172134</td>\n",
       "      <td>2017-04-05 21:10:19</td>\n",
       "      <td>2018-07-29 20:35:14</td>\n",
       "      <td>16.0</td>\n",
       "      <td>0.037037</td>\n",
       "      <td>0.629630</td>\n",
       "      <td>...</td>\n",
       "      <td>2614.084</td>\n",
       "      <td>positive</td>\n",
       "      <td>227801.322</td>\n",
       "      <td>18.087434</td>\n",
       "      <td>1.616162</td>\n",
       "      <td>8060</td>\n",
       "      <td>11468.050841</td>\n",
       "      <td>1.422835</td>\n",
       "      <td>2.134253</td>\n",
       "      <td>-0.711418</td>\n",
       "    </tr>\n",
       "    <tr>\n",
       "      <th>48</th>\n",
       "      <td>620c87c171fb2a6dd6e8bb4dec959fc6</td>\n",
       "      <td>petropolis</td>\n",
       "      <td>RJ</td>\n",
       "      <td>0.000000</td>\n",
       "      <td>12.905887</td>\n",
       "      <td>2016-10-04 13:47:04</td>\n",
       "      <td>2018-08-24 11:25:17</td>\n",
       "      <td>23.0</td>\n",
       "      <td>0.107239</td>\n",
       "      <td>0.667560</td>\n",
       "      <td>...</td>\n",
       "      <td>2587.450</td>\n",
       "      <td>positive</td>\n",
       "      <td>230388.772</td>\n",
       "      <td>18.292877</td>\n",
       "      <td>1.649832</td>\n",
       "      <td>8800</td>\n",
       "      <td>13083.111876</td>\n",
       "      <td>1.486717</td>\n",
       "      <td>2.230076</td>\n",
       "      <td>-0.743359</td>\n",
       "    </tr>\n",
       "    <tr>\n",
       "      <th>49</th>\n",
       "      <td>de722cd6dad950a92b7d4f82673f8833</td>\n",
       "      <td>recife</td>\n",
       "      <td>PE</td>\n",
       "      <td>0.000000</td>\n",
       "      <td>12.767604</td>\n",
       "      <td>2018-01-09 16:10:25</td>\n",
       "      <td>2018-08-24 04:05:16</td>\n",
       "      <td>8.0</td>\n",
       "      <td>0.082596</td>\n",
       "      <td>0.595870</td>\n",
       "      <td>...</td>\n",
       "      <td>2562.610</td>\n",
       "      <td>positive</td>\n",
       "      <td>232951.382</td>\n",
       "      <td>18.496349</td>\n",
       "      <td>1.683502</td>\n",
       "      <td>9139</td>\n",
       "      <td>13846.342273</td>\n",
       "      <td>1.515083</td>\n",
       "      <td>2.272624</td>\n",
       "      <td>-0.757541</td>\n",
       "    </tr>\n",
       "  </tbody>\n",
       "</table>\n",
       "<p>50 rows × 27 columns</p>\n",
       "</div>"
      ],
      "text/plain": [
       "                           seller_id            seller_city seller_state  \\\n",
       "0   53243585a1d6dc2643021fd1853d8905       lauro de freitas           BA   \n",
       "1   7e93a43ef30c4f03f38b393420bc753a                barueri           SP   \n",
       "2   fa1c13f2614d7b5c4749cbc52fecda94                 sumare           SP   \n",
       "3   edb1ef5e36e0c8cd84eb3c9b003e486d            teresopolis           RJ   \n",
       "4   ccc4bbb5f32a6ab2b7066a4130f114e3               curitiba           PR   \n",
       "5   46dc3b2cc0980fb8ec44634e21d2718e         rio de janeiro           RJ   \n",
       "6   4869f7a5dfa277a7dca6462dcf3b52b2                guariba           SP   \n",
       "7   5dceca129747e92ff8ef7a997dc4f8ca  santa barbara d´oeste           SP   \n",
       "8   17f51e7198701186712e53a39c564617              sao paulo           SP   \n",
       "9   e882b2a25a10b9c057cc49695f222c19            teresopolis           RJ   \n",
       "10  2bf6a2c1e71bbd29a4ad64e6d3c3629f          nova friburgo           RJ   \n",
       "11  eeb6de78f79159600292e314a77cbd18                  lages           SC   \n",
       "12  f5a590cf36251cf1162ea35bef76fe84  sao bernardo do campo           SP   \n",
       "13  f7ba60f8c3f99e7ee4042fdef03b70c4  sao bernardo do campo           SP   \n",
       "14  834f3294fba9f932f56edc879193f925             araraquara           SP   \n",
       "15  fe2032dab1a61af8794248c8196565c9               campinas           SP   \n",
       "16  04308b1ee57b6625f47df1d56f00eedf              bombinhas           SC   \n",
       "17  ba90964cff9b9e0e6f32b23b82465f7b              guarulhos           SP   \n",
       "18  59417c56835dd8e2e72f91f809cd4092                limeira           SP   \n",
       "19  b839e41795b7f3ad94cc2014a52f6796     sao caetano do sul           SP   \n",
       "20  37be5a7c751166fbc5f8ccba4119e043              sao paulo           SP   \n",
       "21  966cb4760537b1404caedd472cc610a5                diadema           SP   \n",
       "22  850f4f8af5ea87287ac68de36e29107f              sao paulo           SP   \n",
       "23  70eea00b476a314817cefde4aad4f89a                itatiba           SP   \n",
       "24  d23019c84ffae2d5ef2270367b8605fc               londrina           PR   \n",
       "25  17e34d8224d27a541263c4c64b11a56b          riberao preto           SP   \n",
       "26  17a053fcb14bd219540cbde0df490be0             mogi guacu           SP   \n",
       "27  522620dcb18a6b31cd7bdf73665113a9               cascavel           PR   \n",
       "28  b37c4c02bda3161a7546a4e6d222d5b2              sao paulo           SP   \n",
       "29  e59aa562b9f8076dd550fcddf0e73491               curitiba           PR   \n",
       "30  12b9676b00f60f3b700e83af21824c0e             montenegro           RS   \n",
       "31  c3cfdc648177fdbbbb35635a37472c53               curitiba           PR   \n",
       "32  7b0df942f46435babab05d49b744b2c4      braganca paulista           SP   \n",
       "33  b33e7c55446eabf8fe1a42d037ac7d6d             pradopolis           SP   \n",
       "34  05ff92fedb5be47920fea08e501238b9           santo angelo           RS   \n",
       "35  744dac408745240a2c2528fb1b6028f3                colombo           PR   \n",
       "36  2b3e4a2a3ea8e01938cabda2a3e5cc79              sao paulo           SP   \n",
       "37  76d5af76d0271110f9af36c92573f765              sao paulo           SP   \n",
       "38  5c243662ce92d84573bfaff24c3e3700              sao paulo           SP   \n",
       "39  25c5c91f63607446a97b143d2d535d31                 itauna           MG   \n",
       "40  8581055ce74af1daba164fdbd55a40de              guarulhos           SP   \n",
       "41  7681ef142fd2c19048da7430856b5588              guarulhos           SP   \n",
       "42  f9244d45189d3a3605499abddeade7d5              sao paulo           SP   \n",
       "43  900ba814c251a692506d7834c1218441                  salto           SP   \n",
       "44  ceaec5548eefc6e23e6607c5435102e7              sao paulo           SP   \n",
       "45  f62d7bb4a613ec758a03342d46b580b2                 vicosa           MG   \n",
       "46  b32be1695eb7ec5f10f72d9610a12527          caxias do sul           RS   \n",
       "47  1f1bb1f0859883505541bdd6606193e5              sao paulo           SP   \n",
       "48  620c87c171fb2a6dd6e8bb4dec959fc6             petropolis           RJ   \n",
       "49  de722cd6dad950a92b7d4f82673f8833                 recife           PE   \n",
       "\n",
       "    delay_to_carrier  seller_wait_time     date_first_sale  \\\n",
       "0           0.000000         13.374429 2017-08-28 18:44:58   \n",
       "1           0.000000         11.335141 2016-10-08 03:19:09   \n",
       "2           0.000000         13.341871 2017-01-07 20:55:10   \n",
       "3           0.000000         11.709806 2017-09-30 09:49:22   \n",
       "4           0.000000         15.853247 2017-01-07 14:00:13   \n",
       "5           0.000000         11.800424 2016-10-06 15:44:00   \n",
       "6           0.000000         15.005261 2017-03-07 13:04:43   \n",
       "7           0.000000         11.273755 2017-01-27 14:31:27   \n",
       "8           0.000000         22.761424 2017-02-04 13:05:50   \n",
       "9           0.000000          9.458803 2018-01-06 14:13:02   \n",
       "10          0.000000         13.368180 2017-11-02 13:25:20   \n",
       "11          0.000000         12.113948 2017-02-18 18:42:35   \n",
       "12          0.000000         11.821743 2017-03-30 02:10:17   \n",
       "13          0.000000         13.124416 2017-07-31 16:23:26   \n",
       "14          0.000000         14.296499 2017-05-12 02:50:23   \n",
       "15          0.000000         10.600772 2017-03-08 12:32:49   \n",
       "16          0.000000         18.876003 2017-11-15 02:36:07   \n",
       "17          0.000000         10.018161 2018-02-25 13:07:45   \n",
       "18          0.000000         12.569483 2017-01-25 20:25:13   \n",
       "19          0.000000          6.920479 2018-03-01 10:35:40   \n",
       "20          0.000000         10.607953 2017-05-04 10:05:21   \n",
       "21          0.000000         10.040945 2018-03-19 15:17:12   \n",
       "22          0.000000         10.143655 2017-04-10 23:42:09   \n",
       "23          0.000000         13.332505 2017-02-09 15:43:34   \n",
       "24          0.000000         11.277978 2017-10-10 11:06:17   \n",
       "25          0.000000         14.041841 2017-02-16 23:25:11   \n",
       "26          0.000000         11.984233 2017-07-06 13:05:21   \n",
       "27          0.000000         15.232024 2016-10-06 15:44:36   \n",
       "28          1.552611         17.175111 2017-04-25 08:05:21   \n",
       "29          0.000000         13.709239 2017-09-05 16:30:11   \n",
       "30          0.000000         15.053846 2017-03-07 22:23:29   \n",
       "31          0.000000          9.690751 2017-01-27 17:30:41   \n",
       "32          0.000000         11.085880 2017-02-04 02:22:23   \n",
       "33          0.000000         16.425508 2017-10-10 20:56:34   \n",
       "34          0.000000         12.246268 2016-10-06 15:58:44   \n",
       "35          0.000000         11.141102 2017-04-22 21:50:16   \n",
       "36          0.000000          8.700261 2017-05-10 02:50:10   \n",
       "37          0.000000         11.488302 2016-10-06 15:44:28   \n",
       "38          0.000000         10.806852 2017-01-29 01:31:48   \n",
       "39          0.000000         13.928477 2017-03-08 09:10:18   \n",
       "40          0.000000         12.831719 2017-01-18 19:05:09   \n",
       "41          0.000000         10.372717 2018-02-09 21:50:26   \n",
       "42          0.000000         15.176921 2017-02-07 22:42:32   \n",
       "43          0.000000         12.483182 2017-07-04 13:35:18   \n",
       "44          0.000000         12.918997 2018-01-18 21:57:28   \n",
       "45          0.000000         13.872097 2018-01-10 18:37:41   \n",
       "46          0.000000         12.322988 2017-11-25 00:51:35   \n",
       "47          0.000000         14.172134 2017-04-05 21:10:19   \n",
       "48          0.000000         12.905887 2016-10-04 13:47:04   \n",
       "49          0.000000         12.767604 2018-01-09 16:10:25   \n",
       "\n",
       "        date_last_sale  months_on_olist  share_of_one_stars  \\\n",
       "0  2018-08-21 16:35:26             12.0            0.097765   \n",
       "1  2018-07-14 21:25:19             22.0            0.104167   \n",
       "2  2018-08-29 10:04:16             20.0            0.088889   \n",
       "3  2018-08-20 19:30:10             11.0            0.066265   \n",
       "4  2018-08-21 21:05:16             20.0            0.085561   \n",
       "5  2018-08-17 22:49:38             23.0            0.117083   \n",
       "6  2018-08-24 19:55:21             18.0            0.108657   \n",
       "7  2018-06-26 00:33:18             17.0            0.141538   \n",
       "8  2018-08-05 10:25:16             18.0            0.053571   \n",
       "9  2018-08-18 16:10:04              8.0            0.016949   \n",
       "10 2018-08-13 19:45:16             10.0            0.133333   \n",
       "11 2018-08-11 08:45:11             18.0            0.048193   \n",
       "12 2018-08-20 11:10:02             17.0            0.111111   \n",
       "13 2018-08-26 22:50:21             13.0            0.090498   \n",
       "14 2018-08-16 03:25:18             16.0            0.030303   \n",
       "15 2018-08-21 15:30:31             18.0            0.081633   \n",
       "16 2018-08-12 00:25:12              9.0            0.180851   \n",
       "17 2018-08-15 18:43:58              6.0            0.052632   \n",
       "18 2017-10-02 17:49:13              9.0            0.055556   \n",
       "19 2018-08-26 15:10:14              6.0            0.181818   \n",
       "20 2018-05-21 15:32:08             13.0            0.061372   \n",
       "21 2018-08-08 15:04:58              5.0            0.184211   \n",
       "22 2018-06-28 02:15:51             15.0            0.069519   \n",
       "23 2018-08-24 03:05:09             19.0            0.064220   \n",
       "24 2018-08-22 20:05:16             11.0            0.025641   \n",
       "25 2018-08-20 15:10:39             19.0            0.105882   \n",
       "26 2018-08-13 22:04:14             14.0            0.103175   \n",
       "27 2018-08-04 23:10:17             22.0            0.189655   \n",
       "28 2018-07-17 04:31:36             15.0            0.500000   \n",
       "29 2018-08-20 16:30:05             12.0            0.100000   \n",
       "30 2018-08-26 22:10:24             18.0            0.029412   \n",
       "31 2018-08-27 21:40:06             19.0            0.063380   \n",
       "32 2018-06-25 08:38:26             17.0            0.093750   \n",
       "33 2018-08-15 16:25:19             11.0            0.098684   \n",
       "34 2018-08-07 21:45:14             23.0            0.065574   \n",
       "35 2018-08-14 18:55:25             16.0            0.025316   \n",
       "36 2018-07-27 11:35:14             15.0            0.076923   \n",
       "37 2018-08-01 17:10:12             22.0            0.122137   \n",
       "38 2018-02-09 23:27:48             13.0            0.060606   \n",
       "39 2018-03-29 03:28:42             13.0            0.155280   \n",
       "40 2018-04-24 18:58:37             16.0            0.081425   \n",
       "41 2018-08-22 20:30:17              7.0            0.116667   \n",
       "42 2018-08-18 13:09:11             19.0            0.047619   \n",
       "43 2018-08-28 03:50:23             14.0            0.079545   \n",
       "44 2018-08-17 15:09:54              7.0            0.103448   \n",
       "45 2018-08-09 18:10:20              7.0            0.062500   \n",
       "46 2018-08-13 13:15:09              9.0            0.133333   \n",
       "47 2018-07-29 20:35:14             16.0            0.037037   \n",
       "48 2018-08-24 11:25:17             23.0            0.107239   \n",
       "49 2018-08-24 04:05:16              8.0            0.082596   \n",
       "\n",
       "    share_of_five_stars  ...  profit_per_seller    impact  cumulative_profits  \\\n",
       "0              0.558659  ...          17967.605  positive           17967.605   \n",
       "1              0.627976  ...          14603.187  positive           32570.792   \n",
       "2              0.673504  ...          14254.203  positive           46824.995   \n",
       "3              0.692771  ...           7288.455  positive           54113.450   \n",
       "4              0.652406  ...           6780.462  positive           60893.912   \n",
       "5              0.623800  ...           6761.119  positive           67655.031   \n",
       "6              0.593640  ...           6487.263  positive           74142.294   \n",
       "7              0.581538  ...           6175.553  positive           80317.847   \n",
       "8              0.660714  ...           5641.900  positive           85959.747   \n",
       "9              0.728814  ...           5505.754  positive           91465.501   \n",
       "10             0.633333  ...           5382.890  positive           96848.391   \n",
       "11             0.674699  ...           5163.984  positive          102012.375   \n",
       "12             0.641026  ...           5050.178  positive          107062.553   \n",
       "13             0.597285  ...           4999.500  positive          112062.053   \n",
       "14             0.712121  ...           4900.750  positive          116962.803   \n",
       "15             0.690476  ...           4725.961  positive          121688.764   \n",
       "16             0.553191  ...           4643.060  positive          126331.824   \n",
       "17             0.684211  ...           4541.250  positive          130873.074   \n",
       "18             0.555556  ...           4215.900  positive          135088.974   \n",
       "19             0.666667  ...           4122.900  positive          139211.874   \n",
       "20             0.599278  ...           3735.055  positive          142946.929   \n",
       "21             0.526316  ...           3678.605  positive          146625.534   \n",
       "22             0.620321  ...           3625.536  positive          150251.070   \n",
       "23             0.642202  ...           3599.465  positive          153850.535   \n",
       "24             0.589744  ...           3570.510  positive          157421.045   \n",
       "25             0.596078  ...           3556.324  positive          160977.369   \n",
       "26             0.603175  ...           3480.314  positive          164457.683   \n",
       "27             0.540230  ...           3436.849  positive          167894.532   \n",
       "28             0.250000  ...           3357.500  positive          171252.032   \n",
       "29             0.571429  ...           3287.430  positive          174539.462   \n",
       "30             0.698529  ...           3287.400  positive          177826.862   \n",
       "31             0.735915  ...           3264.818  positive          181091.680   \n",
       "32             0.625000  ...           3240.063  positive          184331.743   \n",
       "33             0.605263  ...           3178.517  positive          187510.260   \n",
       "34             0.606557  ...           3119.278  positive          190629.538   \n",
       "35             0.746835  ...           3039.060  positive          193668.598   \n",
       "36             0.673077  ...           3002.915  positive          196671.513   \n",
       "37             0.603053  ...           2996.160  positive          199667.673   \n",
       "38             0.525253  ...           2956.202  positive          202623.875   \n",
       "39             0.459627  ...           2917.922  positive          205541.797   \n",
       "40             0.631043  ...           2892.530  positive          208434.327   \n",
       "41             0.583333  ...           2874.181  positive          211308.508   \n",
       "42             0.571429  ...           2873.143  positive          214181.651   \n",
       "43             0.556818  ...           2839.969  positive          217021.620   \n",
       "44             0.571429  ...           2821.718  positive          219843.338   \n",
       "45             0.656250  ...           2706.500  positive          222549.838   \n",
       "46             0.511111  ...           2637.400  positive          225187.238   \n",
       "47             0.629630  ...           2614.084  positive          227801.322   \n",
       "48             0.667560  ...           2587.450  positive          230388.772   \n",
       "49             0.595870  ...           2562.610  positive          232951.382   \n",
       "\n",
       "    percent_profits  seller_proportion  cumulative_orders  cumulative_it_cost  \\\n",
       "0          1.426629           0.033670                358          107.352358   \n",
       "1          2.586122           0.067340                694          289.751873   \n",
       "2          3.717906           0.101010               1279          724.924643   \n",
       "3          4.296610           0.134680               1445          870.540173   \n",
       "4          4.834979           0.168350               1632         1044.882074   \n",
       "5          5.371812           0.202020               2153         1583.263106   \n",
       "6          5.886901           0.235690               3285         2983.940148   \n",
       "7          6.377240           0.269360               3610         3437.540707   \n",
       "8          6.825207           0.303030               3666         3517.837206   \n",
       "9          7.262364           0.336700               3723         3600.199782   \n",
       "10         7.689766           0.370370               3753         3643.803038   \n",
       "11         8.099787           0.404040               3836         3765.346474   \n",
       "12         8.500771           0.437710               3953         3938.920981   \n",
       "13         8.897731           0.471380               4172         4270.743579   \n",
       "14         9.286851           0.505051               4238         4372.486482   \n",
       "15         9.662093           0.538721               4532         4835.283012   \n",
       "16        10.030752           0.572391               4626         4986.496167   \n",
       "17        10.391327           0.606061               4664         5048.064084   \n",
       "18        10.726070           0.639731               4682         5077.315617   \n",
       "19        11.053428           0.673401               4715         5131.089530   \n",
       "20        11.349992           0.707071               4987         5581.437928   \n",
       "21        11.642073           0.740741               5062         5707.819859   \n",
       "22        11.929941           0.774411               5249         6027.009917   \n",
       "23        12.215738           0.808081               5357         6213.975212   \n",
       "24        12.499237           0.841751               5396         6281.956987   \n",
       "25        12.781609           0.875421               5651         6732.479007   \n",
       "26        13.057946           0.909091               5776         6957.093238   \n",
       "27        13.330832           0.942761               5950         7273.819093   \n",
       "28        13.597418           0.976431               5954         7281.155269   \n",
       "29        13.858440           1.010101               6024         7409.936593   \n",
       "30        14.119460           1.043771               6159         7660.415971   \n",
       "31        14.378686           1.077441               6437         8184.879889   \n",
       "32        14.635948           1.111111               6469         8245.989427   \n",
       "33        14.888322           1.144781               6621         8538.320028   \n",
       "34        15.135993           1.178451               6680         8652.701877   \n",
       "35        15.377294           1.212121               6759         8806.649593   \n",
       "36        15.615726           1.245791               6811         8908.475037   \n",
       "37        15.853621           1.279461               6942         9166.719895   \n",
       "38        16.088344           1.313131               7040         9361.512804   \n",
       "39        16.320027           1.346801               7198         9678.427706   \n",
       "40        16.549694           1.380471               7585        10469.367012   \n",
       "41        16.777904           1.414141               7644        10591.758367   \n",
       "42        17.006031           1.447811               7665        10635.435686   \n",
       "43        17.231525           1.481481               7753        10819.114646   \n",
       "44        17.455570           1.515152               7956        11246.806121   \n",
       "45        17.670466           1.548822               7988        11314.728339   \n",
       "46        17.879875           1.582492               8033        11410.474306   \n",
       "47        18.087434           1.616162               8060        11468.050841   \n",
       "48        18.292877           1.649832               8800        13083.111876   \n",
       "49        18.496349           1.683502               9139        13846.342273   \n",
       "\n",
       "    it_unit_cost it_marg_cost  diff_unit_marg_it  \n",
       "0       0.299867     0.449800          -0.149933  \n",
       "1       0.417510     0.626265          -0.208755  \n",
       "2       0.566790     0.850185          -0.283395  \n",
       "3       0.602450     0.903675          -0.301225  \n",
       "4       0.640246     0.960370          -0.320123  \n",
       "5       0.735375     1.103063          -0.367688  \n",
       "6       0.908353     1.362530          -0.454177  \n",
       "7       0.952227     1.428341          -0.476114  \n",
       "8       0.959585     1.439377          -0.479792  \n",
       "9       0.967016     1.450524          -0.483508  \n",
       "10      0.970904     1.456356          -0.485452  \n",
       "11      0.981581     1.472372          -0.490791  \n",
       "12      0.996438     1.494658          -0.498219  \n",
       "13      1.023668     1.535502          -0.511834  \n",
       "14      1.031733     1.547600          -0.515867  \n",
       "15      1.066920     1.600381          -0.533460  \n",
       "16      1.077928     1.616892          -0.538964  \n",
       "17      1.082347     1.623520          -0.541173  \n",
       "18      1.084433     1.626650          -0.542217  \n",
       "19      1.088248     1.632372          -0.544124  \n",
       "20      1.119197     1.678796          -0.559599  \n",
       "21      1.127582     1.691373          -0.563791  \n",
       "22      1.148221     1.722331          -0.574110  \n",
       "23      1.159973     1.739959          -0.579986  \n",
       "24      1.164188     1.746282          -0.582094  \n",
       "25      1.191378     1.787068          -0.595689  \n",
       "26      1.204483     1.806724          -0.602241  \n",
       "27      1.222491     1.833736          -0.611245  \n",
       "28      1.222901     1.834352          -0.611451  \n",
       "29      1.230069     1.845104          -0.615035  \n",
       "30      1.243776     1.865664          -0.621888  \n",
       "31      1.271536     1.907305          -0.635768  \n",
       "32      1.274693     1.912040          -0.637347  \n",
       "33      1.289582     1.934372          -0.644791  \n",
       "34      1.295315     1.942972          -0.647657  \n",
       "35      1.302952     1.954427          -0.651476  \n",
       "36      1.307954     1.961931          -0.653977  \n",
       "37      1.320472     1.980709          -0.660236  \n",
       "38      1.329760     1.994641          -0.664880  \n",
       "39      1.344600     2.016899          -0.672300  \n",
       "40      1.380273     2.070409          -0.690136  \n",
       "41      1.385630     2.078446          -0.692815  \n",
       "42      1.387532     2.081299          -0.693766  \n",
       "43      1.395475     2.093212          -0.697737  \n",
       "44      1.413626     2.120439          -0.706813  \n",
       "45      1.416466     2.124699          -0.708233  \n",
       "46      1.420450     2.130675          -0.710225  \n",
       "47      1.422835     2.134253          -0.711418  \n",
       "48      1.486717     2.230076          -0.743359  \n",
       "49      1.515083     2.272624          -0.757541  \n",
       "\n",
       "[50 rows x 27 columns]"
      ]
     },
     "execution_count": 98,
     "metadata": {},
     "output_type": "execute_result"
    }
   ],
   "source": [
    "#Calculating IT costs per additional seller on the platform \n",
    "\n",
    "# The cumulative total of orders on the platform after adding this seller\n",
    "sellers['cumulative_orders'] = sellers['n_orders'].cumsum()\n",
    "\n",
    "# The cumulative total IT cost for Olist after adding this seller\n",
    "sellers['cumulative_it_cost'] = k*(2/3)*(sellers['cumulative_orders']**1.5)\n",
    "\n",
    "# The average cost of IT per order after adding this seller\n",
    "sellers['it_unit_cost'] = sellers.cumulative_it_cost / sellers.cumulative_orders\n",
    "\n",
    "# # The marginal IT cost for Olist after adding this seller\n",
    "# sellers['it_marg_cost'] = k*sellers['cumulative_orders']**0.5\n",
    "\n",
    "# # Difference between average and marginal IT cost\n",
    "# sellers['diff_unit_marg_it'] = sellers.it_unit_cost - sellers.it_marg_cost\n",
    "#sellers['diff_unit_marg_it'].abs().min()\n",
    "\n",
    "sellers.head(50)"
   ]
  },
  {
   "cell_type": "code",
   "execution_count": 25,
   "metadata": {},
   "outputs": [
    {
     "data": {
      "text/html": [
       "<div>\n",
       "<style scoped>\n",
       "    .dataframe tbody tr th:only-of-type {\n",
       "        vertical-align: middle;\n",
       "    }\n",
       "\n",
       "    .dataframe tbody tr th {\n",
       "        vertical-align: top;\n",
       "    }\n",
       "\n",
       "    .dataframe thead th {\n",
       "        text-align: right;\n",
       "    }\n",
       "</style>\n",
       "<table border=\"1\" class=\"dataframe\">\n",
       "  <thead>\n",
       "    <tr style=\"text-align: right;\">\n",
       "      <th></th>\n",
       "      <th>seller_id</th>\n",
       "      <th>seller_city</th>\n",
       "      <th>seller_state</th>\n",
       "      <th>delay_to_carrier</th>\n",
       "      <th>seller_wait_time</th>\n",
       "      <th>date_first_sale</th>\n",
       "      <th>date_last_sale</th>\n",
       "      <th>months_on_olist</th>\n",
       "      <th>share_of_one_stars</th>\n",
       "      <th>share_of_five_stars</th>\n",
       "      <th>...</th>\n",
       "      <th>sales</th>\n",
       "      <th>revenue_per_seller</th>\n",
       "      <th>profit_per_seller</th>\n",
       "      <th>impact</th>\n",
       "      <th>cumulative_profits</th>\n",
       "      <th>percent_profits</th>\n",
       "      <th>seller_proportion</th>\n",
       "      <th>cumulative_orders</th>\n",
       "      <th>cumulative_it_cost</th>\n",
       "      <th>it_unit_cost</th>\n",
       "    </tr>\n",
       "  </thead>\n",
       "  <tbody>\n",
       "    <tr>\n",
       "      <th>2693</th>\n",
       "      <td>19484c79cef6c062cb177aa4ef2fcc3c</td>\n",
       "      <td>valinhos</td>\n",
       "      <td>SP</td>\n",
       "      <td>5.179676</td>\n",
       "      <td>21.425822</td>\n",
       "      <td>2018-08-03 14:50:16</td>\n",
       "      <td>2018-08-03 14:50:16</td>\n",
       "      <td>1.0</td>\n",
       "      <td>1.0</td>\n",
       "      <td>0.0</td>\n",
       "      <td>...</td>\n",
       "      <td>201.9</td>\n",
       "      <td>100.19</td>\n",
       "      <td>0.19</td>\n",
       "      <td>positive</td>\n",
       "      <td>1572721.726</td>\n",
       "      <td>124.874167</td>\n",
       "      <td>90.707071</td>\n",
       "      <td>60027</td>\n",
       "      <td>233081.071184</td>\n",
       "      <td>3.882937</td>\n",
       "    </tr>\n",
       "  </tbody>\n",
       "</table>\n",
       "<p>1 rows × 25 columns</p>\n",
       "</div>"
      ],
      "text/plain": [
       "                             seller_id seller_city seller_state  \\\n",
       "2693  19484c79cef6c062cb177aa4ef2fcc3c    valinhos           SP   \n",
       "\n",
       "      delay_to_carrier  seller_wait_time     date_first_sale  \\\n",
       "2693          5.179676         21.425822 2018-08-03 14:50:16   \n",
       "\n",
       "          date_last_sale  months_on_olist  share_of_one_stars  \\\n",
       "2693 2018-08-03 14:50:16              1.0                 1.0   \n",
       "\n",
       "      share_of_five_stars  ...  sales  revenue_per_seller  profit_per_seller  \\\n",
       "2693                  0.0  ...  201.9              100.19               0.19   \n",
       "\n",
       "        impact  cumulative_profits  percent_profits  seller_proportion  \\\n",
       "2693  positive         1572721.726       124.874167          90.707071   \n",
       "\n",
       "      cumulative_orders cumulative_it_cost  it_unit_cost  \n",
       "2693              60027      233081.071184      3.882937  \n",
       "\n",
       "[1 rows x 25 columns]"
      ]
     },
     "execution_count": 25,
     "metadata": {},
     "output_type": "execute_result"
    }
   ],
   "source": [
    "sellers[sellers.impact == 'positive'].tail(1)"
   ]
  },
  {
   "cell_type": "code",
   "execution_count": 26,
   "metadata": {},
   "outputs": [
    {
     "data": {
      "image/png": "[encoded data removed]",
      "text/plain": [
       "<Figure size 864x576 with 1 Axes>"
      ]
     },
     "metadata": {},
     "output_type": "display_data"
    }
   ],
   "source": [
    "# Bar chart comparing diffence in average IT costs\n",
    "plt.figure(figsize=(12,8))\n",
    "x_values = ['Before', 'After']\n",
    "y_values = [sellers.cumulative_profits.iloc[-1], sellers.cumulative_profits.iloc[-1] - neg_profits.iloc[-1]]\n",
    "sns.barplot(data=sellers, x=x_values, y=y_values)\n",
    "plt.ylabel('Profit (in millions of BRL)')\n",
    "plt.ylim(0, 2500000)\n",
    "plt.xlabel('Profit comparison from removing bad sellers');\n",
    "\n"
   ]
  },
  {
   "cell_type": "code",
   "execution_count": 27,
   "metadata": {
    "scrolled": true
   },
   "outputs": [
    {
     "data": {
      "image/png": "[encoded data removed]",
      "text/plain": [
       "<Figure size 1080x216 with 1 Axes>"
      ]
     },
     "metadata": {},
     "output_type": "display_data"
    }
   ],
   "source": [
    "# Average IT Cost Curve\n",
    "\n",
    "plt.figure(figsize=(15,3))\n",
    "y= sellers.it_unit_cost\n",
    "sns.lineplot(data=sellers, x='cumulative_orders', y=y)\n",
    "plt.xlabel('Number of Orders')\n",
    "plt.ylabel('IT Unit Costs (in BRL)')\n",
    "plt.suptitle('Average IT Cost Curve');\n",
    "\n"
   ]
  },
  {
   "cell_type": "markdown",
   "metadata": {},
   "source": [
    "From the **Average IT Cost Curve**, we can see that with increasing orders, the average IT cost burden for each additional order also increases though at a slow pace. \n",
    "\n",
    "Without removing the poor-performing sellers and their order volume, the average IT cost per order is 5.00 BRL. However, because this group of sellers has a large order volume comprising 40% of all orders, removing them from the platform would actually push Olist back on the Average IT Cost curve and reduce the average IT cost to 3.88 BRL. \n"
   ]
  },
  {
   "cell_type": "code",
   "execution_count": null,
   "metadata": {},
   "outputs": [],
   "source": []
  },
  {
   "cell_type": "markdown",
   "metadata": {},
   "source": [
    "### Order Volume"
   ]
  },
  {
   "cell_type": "markdown",
   "metadata": {},
   "source": [
    "Let's compare the order volume for these two groups of sellers."
   ]
  },
  {
   "cell_type": "code",
   "execution_count": 28,
   "metadata": {
    "scrolled": true
   },
   "outputs": [
    {
     "data": {
      "text/plain": [
       "39816"
      ]
     },
     "execution_count": 28,
     "metadata": {},
     "output_type": "execute_result"
    }
   ],
   "source": [
    "#Calculate the number of orders from poor-performing sellers\n",
    "bad_seller_volume = total_orders - sellers[sellers['impact']=='negative']['cumulative_orders'].iat[0]\n",
    "bad_seller_volume"
   ]
  },
  {
   "cell_type": "code",
   "execution_count": 29,
   "metadata": {},
   "outputs": [
    {
     "data": {
      "text/plain": [
       "60028"
      ]
     },
     "execution_count": 29,
     "metadata": {},
     "output_type": "execute_result"
    }
   ],
   "source": [
    "#Calculate the number of orders from good sellers\n",
    "good_seller_volume = total_orders - bad_seller_volume\n",
    "good_seller_volume"
   ]
  },
  {
   "cell_type": "code",
   "execution_count": 30,
   "metadata": {
    "scrolled": true
   },
   "outputs": [
    {
     "data": {
      "text/html": [
       "<div>\n",
       "<style scoped>\n",
       "    .dataframe tbody tr th:only-of-type {\n",
       "        vertical-align: middle;\n",
       "    }\n",
       "\n",
       "    .dataframe tbody tr th {\n",
       "        vertical-align: top;\n",
       "    }\n",
       "\n",
       "    .dataframe thead th {\n",
       "        text-align: right;\n",
       "    }\n",
       "</style>\n",
       "<table border=\"1\" class=\"dataframe\">\n",
       "  <thead>\n",
       "    <tr style=\"text-align: right;\">\n",
       "      <th></th>\n",
       "      <th>n_orders</th>\n",
       "    </tr>\n",
       "    <tr>\n",
       "      <th>impact</th>\n",
       "      <th></th>\n",
       "    </tr>\n",
       "  </thead>\n",
       "  <tbody>\n",
       "    <tr>\n",
       "      <th>negative</th>\n",
       "      <td>39817</td>\n",
       "    </tr>\n",
       "    <tr>\n",
       "      <th>positive</th>\n",
       "      <td>60027</td>\n",
       "    </tr>\n",
       "  </tbody>\n",
       "</table>\n",
       "</div>"
      ],
      "text/plain": [
       "          n_orders\n",
       "impact            \n",
       "negative     39817\n",
       "positive     60027"
      ]
     },
     "execution_count": 30,
     "metadata": {},
     "output_type": "execute_result"
    }
   ],
   "source": [
    "order_vol_df = sellers[['n_orders','impact']].groupby('impact').sum()\n",
    "order_vol_df"
   ]
  },
  {
   "cell_type": "code",
   "execution_count": 31,
   "metadata": {},
   "outputs": [
    {
     "data": {
      "text/html": [
       "<div>\n",
       "<style scoped>\n",
       "    .dataframe tbody tr th:only-of-type {\n",
       "        vertical-align: middle;\n",
       "    }\n",
       "\n",
       "    .dataframe tbody tr th {\n",
       "        vertical-align: top;\n",
       "    }\n",
       "\n",
       "    .dataframe thead th {\n",
       "        text-align: right;\n",
       "    }\n",
       "</style>\n",
       "<table border=\"1\" class=\"dataframe\">\n",
       "  <thead>\n",
       "    <tr style=\"text-align: right;\">\n",
       "      <th>impact</th>\n",
       "      <th>negative</th>\n",
       "      <th>positive</th>\n",
       "    </tr>\n",
       "  </thead>\n",
       "  <tbody>\n",
       "    <tr>\n",
       "      <th>n_orders</th>\n",
       "      <td>39817</td>\n",
       "      <td>60027</td>\n",
       "    </tr>\n",
       "  </tbody>\n",
       "</table>\n",
       "</div>"
      ],
      "text/plain": [
       "impact    negative  positive\n",
       "n_orders     39817     60027"
      ]
     },
     "execution_count": 31,
     "metadata": {},
     "output_type": "execute_result"
    }
   ],
   "source": [
    "order_vol_df.transpose()"
   ]
  },
  {
   "cell_type": "code",
   "execution_count": 32,
   "metadata": {
    "scrolled": true
   },
   "outputs": [
    {
     "data": {
      "image/png": "[encoded data removed]",
      "text/plain": [
       "<Figure size 432x288 with 1 Axes>"
      ]
     },
     "metadata": {},
     "output_type": "display_data"
    }
   ],
   "source": [
    "order_vol_df.transpose().plot.barh(stacked=True)\n",
    "plt.legend(title='Impact', labels=['Bad reviews', 'Good reviews'])\n",
    "plt.xlabel('Number of Orders');"
   ]
  },
  {
   "cell_type": "code",
   "execution_count": 33,
   "metadata": {},
   "outputs": [
    {
     "data": {
      "text/plain": [
       "144.2644927536232"
      ]
     },
     "execution_count": 33,
     "metadata": {},
     "output_type": "execute_result"
    }
   ],
   "source": [
    "# Average order volume for poor-performing sellers\n",
    "sellers[sellers.impact == 'negative']['n_orders'].mean()"
   ]
  },
  {
   "cell_type": "code",
   "execution_count": 80,
   "metadata": {},
   "outputs": [
    {
     "data": {
      "text/plain": [
       "22.28173719376392"
      ]
     },
     "execution_count": 80,
     "metadata": {},
     "output_type": "execute_result"
    }
   ],
   "source": [
    "# Average order volume for good sellers\n",
    "sellers[sellers.impact == 'positive']['n_orders'].mean()"
   ]
  },
  {
   "cell_type": "code",
   "execution_count": 86,
   "metadata": {},
   "outputs": [
    {
     "data": {
      "text/html": [
       "<div>\n",
       "<style scoped>\n",
       "    .dataframe tbody tr th:only-of-type {\n",
       "        vertical-align: middle;\n",
       "    }\n",
       "\n",
       "    .dataframe tbody tr th {\n",
       "        vertical-align: top;\n",
       "    }\n",
       "\n",
       "    .dataframe thead th {\n",
       "        text-align: right;\n",
       "    }\n",
       "</style>\n",
       "<table border=\"1\" class=\"dataframe\">\n",
       "  <thead>\n",
       "    <tr style=\"text-align: right;\">\n",
       "      <th>impact</th>\n",
       "      <th>negative</th>\n",
       "      <th>positive</th>\n",
       "    </tr>\n",
       "  </thead>\n",
       "  <tbody>\n",
       "    <tr>\n",
       "      <th>Avg Num of Orders</th>\n",
       "      <td>144.264493</td>\n",
       "      <td>22.281737</td>\n",
       "    </tr>\n",
       "  </tbody>\n",
       "</table>\n",
       "</div>"
      ],
      "text/plain": [
       "impact               negative   positive\n",
       "Avg Num of Orders  144.264493  22.281737"
      ]
     },
     "execution_count": 86,
     "metadata": {},
     "output_type": "execute_result"
    }
   ],
   "source": [
    "avg_order_vol = sellers[['n_orders','impact']].groupby('impact').mean()\n",
    "\n",
    "avg_order_vol.columns = ['Avg Num of Orders']\n",
    "avg_order_vol\n",
    "avg_order_vol.transpose()\n"
   ]
  },
  {
   "cell_type": "code",
   "execution_count": 89,
   "metadata": {
    "scrolled": true
   },
   "outputs": [
    {
     "data": {
      "image/png": "[encoded data removed]",
      "text/plain": [
       "<Figure size 432x288 with 1 Axes>"
      ]
     },
     "metadata": {},
     "output_type": "display_data"
    }
   ],
   "source": [
    "avg_order_vol.plot(kind='bar', cmap='Set1', ylabel='Average Number of Orders', rot=0  );"
   ]
  },
  {
   "cell_type": "markdown",
   "metadata": {},
   "source": [
    "Poor-performing sellers make up 40% of total order volume and have an average order volume of roughly 7x more than other sellers. This underscores their heavy usage of the IT infrastructure and extra IT cost burden.\n",
    "\n",
    "Our recommendation would be to consider removing them from the platform for:  \n",
    "1) an immediate X% boost in earnings, and \n",
    "2) a reduction in a heavy IT cost burden "
   ]
  },
  {
   "cell_type": "markdown",
   "metadata": {},
   "source": [
    "Let's also re-plot our IT cost curve now that we know the proportionality constant.\n",
    "\n",
    "$ y = k \\sqrt{n}  \\to  y = 0.024\\sqrt{n} $"
   ]
  },
  {
   "cell_type": "code",
   "execution_count": 35,
   "metadata": {
    "scrolled": false
   },
   "outputs": [
    {
     "data": {
      "image/png": "[encoded data removed]",
      "text/plain": [
       "<Figure size 1080x576 with 1 Axes>"
      ]
     },
     "metadata": {},
     "output_type": "display_data"
    }
   ],
   "source": [
    "\n",
    "plt.figure(figsize=(15,8))\n",
    "sns.lineplot(data=sellers, x='cumulative_orders', y='cumulative_it_cost')\n",
    "plt.xlabel('Number of Orders')\n",
    "plt.ylabel('Cumulative IT Costs (in BRL)')\n",
    "plt.suptitle('IT Cumulative Cost Curve');\n"
   ]
  },
  {
   "cell_type": "code",
   "execution_count": null,
   "metadata": {
    "scrolled": true
   },
   "outputs": [],
   "source": [
    "\n",
    "\n"
   ]
  },
  {
   "cell_type": "code",
   "execution_count": null,
   "metadata": {},
   "outputs": [],
   "source": [
    "# Total IT Cost with poor performers removed\n",
    "it_cost_post_removal = 0.024*(2/3)*((60028)**1.5)\n",
    "it_cost_post_removal"
   ]
  },
  {
   "cell_type": "code",
   "execution_count": null,
   "metadata": {},
   "outputs": [],
   "source": [
    "# Average IT cost per order w/ poor performers removed\n",
    "it_cost_post_removal / good_seller_volume"
   ]
  },
  {
   "cell_type": "markdown",
   "metadata": {},
   "source": [
    "Let's now compare the average IT cost on the platform before and after removing poor-performing sellers\n",
    "\n"
   ]
  },
  {
   "cell_type": "code",
   "execution_count": null,
   "metadata": {},
   "outputs": [],
   "source": [
    "sellers[sellers['impact']=='positive'].tail()"
   ]
  },
  {
   "cell_type": "code",
   "execution_count": null,
   "metadata": {},
   "outputs": [],
   "source": [
    "# Average IT cost per order after removing poor performers \n",
    "sellers[sellers['impact']=='positive']['cumulative_it_cost'] / sellers[sellers['impact']=='positive']['cumulative_orders'].iat[-1]"
   ]
  },
  {
   "cell_type": "code",
   "execution_count": null,
   "metadata": {},
   "outputs": [],
   "source": [
    "# Average IT cost per order before removing poor performers\n",
    "sellers.it_cost.sum() / total_orders"
   ]
  },
  {
   "cell_type": "code",
   "execution_count": null,
   "metadata": {
    "slideshow": {
     "slide_type": "skip"
    }
   },
   "outputs": [],
   "source": [
    "#Let's plot the average IT cost curve\n",
    "x = np.linspace(1,99844, 1)\n",
    "y = sellers. / x\n",
    "\n",
    "\n",
    "plt.figure(figsize=(15,4))\n",
    "sns.lineplot(x=x, y=y)\n",
    "plt.xlabel('Number of orders')\n",
    "plt.ylabel('Average IT cost per order')\n",
    "plt.set_ylim(0, );\n"
   ]
  },
  {
   "cell_type": "code",
   "execution_count": null,
   "metadata": {
    "slideshow": {
     "slide_type": "skip"
    }
   },
   "outputs": [],
   "source": [
    "#Profits per number of sellers removed [DO AFTER FACTOR IN IT COSTS]\n",
    "sellers['olist_profits'] = sellers['profit_per_seller'] - sellers['it_cost']\n",
    "sellers.loc[2680:2690]"
   ]
  },
  {
   "cell_type": "code",
   "execution_count": null,
   "metadata": {
    "slideshow": {
     "slide_type": "skip"
    }
   },
   "outputs": [],
   "source": [
    "sellers['olist_profits'][10:700].plot(figsize=(15,8));"
   ]
  },
  {
   "cell_type": "code",
   "execution_count": null,
   "metadata": {},
   "outputs": [],
   "source": [
    "sellers['olist_profits'].plot(figsize=(15,8));"
   ]
  },
  {
   "cell_type": "code",
   "execution_count": null,
   "metadata": {
    "scrolled": true,
    "slideshow": {
     "slide_type": "skip"
    }
   },
   "outputs": [],
   "source": [
    "sellers.loc[50:100, :]"
   ]
  },
  {
   "cell_type": "code",
   "execution_count": null,
   "metadata": {
    "slideshow": {
     "slide_type": "skip"
    }
   },
   "outputs": [],
   "source": [
    "sellers['n_orders'].sort_values()"
   ]
  },
  {
   "cell_type": "markdown",
   "metadata": {
    "slideshow": {
     "slide_type": "slide"
    }
   },
   "source": [
    "# Recommendation: \n",
    "\n",
    "## Remove poorest performing sellers on Olist platform for immediate profit increase"
   ]
  },
  {
   "cell_type": "markdown",
   "metadata": {
    "slideshow": {
     "slide_type": "slide"
    }
   },
   "source": [
    "## Profit Analysis\n",
    "\n",
    "- 280 poorest-performing sellers have negative impact on profits\n",
    "- Top 100 highest performing sellers comprise bulk of profits"
   ]
  },
  {
   "cell_type": "code",
   "execution_count": null,
   "metadata": {
    "slideshow": {
     "slide_type": "fragment"
    }
   },
   "outputs": [],
   "source": [
    "# If sellers ordered by level of contribution to Olist profits\n",
    "\n",
    "sellers['olist_profits'].plot(figsize=(15,7))\n",
    "plt.xlabel('Number of Sellers')\n",
    "plt.ylabel('Profit (BRL)')\n",
    "plt.show()\n"
   ]
  },
  {
   "cell_type": "markdown",
   "metadata": {
    "slideshow": {
     "slide_type": "subslide"
    }
   },
   "source": [
    "## Profit Analysis\n",
    "\n",
    "- Immediate profit increase of 320K BRL"
   ]
  },
  {
   "cell_type": "code",
   "execution_count": null,
   "metadata": {
    "slideshow": {
     "slide_type": "fragment"
    }
   },
   "outputs": [],
   "source": [
    "x_values = ['Before', 'After']\n",
    "y_values = [1.25, 1.57]\n",
    "plt.bar(x_values, y_values)\n",
    "plt.ylabel('Profit (Millions of BRL)')\n",
    "plt.ylim(0, 2)\n",
    "plt.show()\n"
   ]
  },
  {
   "cell_type": "markdown",
   "metadata": {
    "slideshow": {
     "slide_type": "slide"
    }
   },
   "source": [
    "## IT Cost Concerns \n",
    "\n",
    "- Increase in marginal costs due to drop in sellers negligible\n",
    "- Some poorest-performing sellers contribute to larger share of IT cost burden\n"
   ]
  },
  {
   "cell_type": "code",
   "execution_count": null,
   "metadata": {
    "slideshow": {
     "slide_type": "fragment"
    }
   },
   "outputs": [],
   "source": [
    "sellers['it_cost'].plot(figsize=(15,7))\n",
    "plt.xlabel('Number of Sellers')\n",
    "plt.ylabel('IT Cost per Seller (BRL)')\n",
    "plt.show()\n"
   ]
  },
  {
   "cell_type": "code",
   "execution_count": null,
   "metadata": {
    "slideshow": {
     "slide_type": "skip"
    }
   },
   "outputs": [],
   "source": [
    "sellers['it_cost'][10:700].plot()"
   ]
  },
  {
   "cell_type": "code",
   "execution_count": null,
   "metadata": {
    "slideshow": {
     "slide_type": "skip"
    }
   },
   "outputs": [],
   "source": [
    "ax1 = sellers['it_cost'].plot()\n",
    "ax1.set(xlim=[0,3000], ylim=[-1000,2000])\n",
    "\n",
    "ax2 = sellers['olist_profits'].plot()\n",
    "ax2.set(xlim=[0,3000], ylim=[-1000,2000])\n",
    "plt.xlabel['']\n",
    "\n",
    "\n"
   ]
  },
  {
   "cell_type": "markdown",
   "metadata": {
    "slideshow": {
     "slide_type": "slide"
    }
   },
   "source": [
    "## Areas to Explore Further\n",
    "\n",
    "- Evaluate whether can improve average seller performance\n",
    "- Explore reviews for cause of dissatisfaction"
   ]
  },
  {
   "cell_type": "code",
   "execution_count": null,
   "metadata": {
    "slideshow": {
     "slide_type": "skip"
    }
   },
   "outputs": [],
   "source": []
  },
  {
   "cell_type": "code",
   "execution_count": null,
   "metadata": {
    "slideshow": {
     "slide_type": "skip"
    }
   },
   "outputs": [],
   "source": []
  },
  {
   "cell_type": "code",
   "execution_count": null,
   "metadata": {
    "slideshow": {
     "slide_type": "skip"
    }
   },
   "outputs": [],
   "source": []
  },
  {
   "cell_type": "code",
   "execution_count": null,
   "metadata": {},
   "outputs": [],
   "source": []
  }
 ],
 "metadata": {
  "celltoolbar": "Raw Cell Format",
  "kernelspec": {
   "display_name": "Python 3",
   "language": "python",
   "name": "python3"
  },
  "language_info": {
   "codemirror_mode": {
    "name": "ipython",
    "version": 3
   },
   "file_extension": ".py",
   "mimetype": "text/x-python",
   "name": "python",
   "nbconvert_exporter": "python",
   "pygments_lexer": "ipython3",
   "version": "3.8.6"
  },
  "toc": {
   "base_numbering": 1,
   "nav_menu": {},
   "number_sections": true,
   "sideBar": true,
   "skip_h1_title": true,
   "title_cell": "Table of Contents",
   "title_sidebar": "Contents",
   "toc_cell": false,
   "toc_position": {
    "height": "calc(100% - 180px)",
    "left": "10px",
    "top": "150px",
    "width": "165px"
   },
   "toc_section_display": true,
   "toc_window_display": false
  },
  "varInspector": {
   "cols": {
    "lenName": 16,
    "lenType": 16,
    "lenVar": 40
   },
   "kernels_config": {
    "python": {
     "delete_cmd_postfix": "",
     "delete_cmd_prefix": "del ",
     "library": "var_list.py",
     "varRefreshCmd": "print(var_dic_list())"
    },
    "r": {
     "delete_cmd_postfix": ") ",
     "delete_cmd_prefix": "rm(",
     "library": "var_list.r",
     "varRefreshCmd": "cat(var_dic_list()) "
    }
   },
   "types_to_exclude": [
    "module",
    "function",
    "builtin_function_or_method",
    "instance",
    "_Feature"
   ],
   "window_display": false
  }
 },
 "nbformat": 4,
 "nbformat_minor": 4
}
