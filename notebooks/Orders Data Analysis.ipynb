{
 "cells": [
  {
   "cell_type": "markdown",
   "id": "dc2e9c41-35ad-4d35-9fba-6f298f6f392f",
   "metadata": {},
   "source": [
    "![cover_image](../images/olist_computer_gift_800x424.jpg)"
   ]
  },
  {
   "cell_type": "markdown",
   "id": "e8dc2dd2-dbe6-4716-8dc2-7ecee5fa5886",
   "metadata": {},
   "source": [
    "# 1. Introduction <a id=introduction></a>"
   ]
  },
  {
   "cell_type": "markdown",
   "id": "4ff6e201-ddf8-4a1d-b3ec-8e871cd72e4b",
   "metadata": {},
   "source": [
    "Low customer satisfaction can have direct and indirect costs (e.g., refunds, customer support, bad word-of-mouth, etc.). Especially with online platforms displaying ratings for sellers or products, these negative online reviews can have long-lasting and outsized effects on the bottom line and brand. \n",
    "\n",
    "**[Olist](https://olist.com/pt-br/)** is a rapidly growing Brazilian e-commerce platform that connects small merchants to major online regional marketplaces and offers sellers an integrated solution such as fulfillment, customer support, and payment services. \n",
    "\n",
    "In this project, I analyze a dataset containing 100k orders from Olist to figure out *how the company can increase customer satisfaction (so as to increase profit margins) while still maintaining a healthy order volume*."
   ]
  },
  {
   "cell_type": "markdown",
   "id": "2b21d6a4-2291-48a2-b59e-f7a4b88e9249",
   "metadata": {},
   "source": [
    "**Analysis:** [Executive Summary](#executive-summary)"
   ]
  },
  {
   "cell_type": "markdown",
   "id": "425244ae-622a-47c2-9dd5-08483211c969",
   "metadata": {},
   "source": [
    "**Presentation:** [Poor-performing Sellers](https://public.tableau.com/app/profile/phil.lin/viz/OlistPoor-performingSellersSTORY/Poor-performersOutsizedImpact)"
   ]
  },
  {
   "cell_type": "markdown",
   "id": "2dd6b478-7eb5-4e14-9989-d14c6ca673e8",
   "metadata": {},
   "source": [
    "![presentation_preview](../images/olist_presentation_preview_cost_curve_500x225.jpg)"
   ]
  },
  {
   "cell_type": "markdown",
   "id": "c68b7680-d5f3-4358-8780-09d36a2c2c1f",
   "metadata": {},
   "source": [
    "# 2. Contents <a id=contents></a>\n",
    "\n",
    "- [1. Introduction](#introduction)\n",
    "- [2. Contents](#contents)\n",
    "- [3. Part 1: Orders & Sellers Data Analysis](#part-1)\n",
    "  - [3.1. Inspect Features](#inspect-features)\n",
    "  - [3.2. Distributions](#distributions)\n",
    "    - [3.2.1. Distributions for `wait_time`, `expected_wait_time`, and `delay_vs_expected`](#distributions-wait-time)\n",
    "    - [3.2.2. Distributions for `review_score`, `dim_is_one_star` , and `dim_is_five_star`](#distributions-review-score)\n",
    "    - [3.2.3. Distributions for `number_of_products`, `number_of_sellers`, `price`, and `freight_value`](#distributions-number-of-products)\n",
    "  - [3.3. Correlations](#correlations)\n",
    "  - [3.4. Univariate Regression](#univariate-regression)\n",
    "    - [3.4.1. Simple regression of `review_score` against `wait_time`](#regression-wait-time)\n",
    "    - [3.4.2. Simple regression of `review_score` against `delay_vs_expected`](#regression-delay-vs-expected)\n",
    "  - [3.5. Multivariate Regression](#multivariate-regression)\n",
    "    - [3.5.1. Bivariate Regression Model](#bivariate-regression-model)\n",
    "    - [3.5.2. Multivariate Regression Model](#multivariate-regression-model)\n",
    "      - [3.5.2.1. Feature Scaling](#feature-scaling)\n",
    "      - [3.5.2.2. Build Model](#build-model)\n",
    "    - [3.5.3. Multicollinearity Check with VIF](#multicollinearity-vif)\n",
    "    - [3.5.4. Multivariate Regression Model after Feature Selection](#multivariate-after-feature-selection)\n",
    "    - [3.5.5. Residuals](#residuals)\n",
    "  - [3.6. Logistic Regression](#logistic-regression)\n",
    "    - [3.6.1. Logistic Regression | 1-Star Review Model](#logistic-1-star)\n",
    "    - [3.6.2. Logistic Regression | 5-Star Review Model](#logistic-5-star)\n",
    "    - [3.6.3. Logistic Regression Model Comparison](#model-comparison)\n",
    "    - [3.6.4. Linear vs Logistic Regression Coefficients](#regression-coefficients)"
   ]
  },
  {
   "cell_type": "markdown",
   "id": "c95131d1",
   "metadata": {},
   "source": [
    "# 3. Part 1: Orders Data Analysis <a id=part-1></a>"
   ]
  },
  {
   "cell_type": "markdown",
   "id": "5d372fe5",
   "metadata": {},
   "source": [
    "This section begins **Part 1** of our analysis to address our **first** question: \n",
    "\n",
    "1. ***What factors influence customer satisfaction?***\n",
    "2. *What impact does adjusting those factors have on profits margins and order volume?*"
   ]
  },
  {
   "cell_type": "markdown",
   "id": "49e07d39-4894-4346-a90f-70705a2f6b01",
   "metadata": {},
   "source": [
    "(To see our analysis addressing the **second question**, please check out this notebook in **Part 2**: [Profit Analysis & Recommendations](https://nbviewer.org/github/phlln/olist-analysis/blob/main/notebooks/Profit%20Analysis%20%26%20Recommendations.ipynb?flush_cache=True) "
   ]
  },
  {
   "cell_type": "markdown",
   "id": "d6dd6a99-6bb4-4b7b-b6a9-23bc06410883",
   "metadata": {},
   "source": [
    "**Notebook Objective**\n",
    "\n",
    "In this notebook we'll take a closer look at the **Orders Data** from Brazilian e-commerce platform **Olist** (check out this notebook for analysis of the **[Sellers Data](https://nbviewer.org/github/phlln/olist-analysis/blob/main/notebooks/Sellers%20Data%20Analysis.ipynb?flush_cache=True)**.  In the first few sections we'll do some exploratory data analysis by inspecting the features, examining their distributions, and looking for any correlations. Then, in the final three sections we'll apply various regression models to further understand the relationship between the **review score** and all other features.\n",
    "\n",
    "***Exploratory Data Analysis***\n",
    "1. Inspect Features \n",
    "2. Distributions\n",
    "3. Correlations"
   ]
  },
  {
   "cell_type": "markdown",
   "id": "97107705",
   "metadata": {},
   "source": [
    "***Models***\n",
    "\n",
    "4. Univariate Linear Regression\n",
    "5. Multivariate Linear Regression\n",
    "6. Logistic Regression\n"
   ]
  },
  {
   "cell_type": "code",
   "execution_count": 1,
   "id": "bb230ffc",
   "metadata": {},
   "outputs": [],
   "source": [
    "# Import relevant libraries and modules\n",
    "%load_ext autoreload\n",
    "%autoreload 2\n",
    "\n",
    "import pandas as pd\n",
    "import numpy as np\n",
    "import seaborn as sns\n",
    "import matplotlib.pyplot as plt\n",
    "import statsmodels.formula.api as smf\n",
    "from statsmodels.stats.outliers_influence import variance_inflation_factor as vif\n",
    "import math\n",
    "\n",
    "from olist.data import Olist\n",
    "from olist.order import Order"
   ]
  },
  {
   "cell_type": "markdown",
   "id": "127aed01",
   "metadata": {},
   "source": [
    "## 3.1. Inspect Features <a id=inspect-features></a>"
   ]
  },
  {
   "cell_type": "markdown",
   "id": "c7769917",
   "metadata": {},
   "source": [
    "Let's first load our data and then take a preliminary look at column names, data types, summary stats, and any null values. "
   ]
  },
  {
   "cell_type": "code",
   "execution_count": 2,
   "id": "9a50b45b",
   "metadata": {},
   "outputs": [
    {
     "data": {
      "text/html": [
       "<div>\n",
       "<style scoped>\n",
       "    .dataframe tbody tr th:only-of-type {\n",
       "        vertical-align: middle;\n",
       "    }\n",
       "\n",
       "    .dataframe tbody tr th {\n",
       "        vertical-align: top;\n",
       "    }\n",
       "\n",
       "    .dataframe thead th {\n",
       "        text-align: right;\n",
       "    }\n",
       "</style>\n",
       "<table border=\"1\" class=\"dataframe\">\n",
       "  <thead>\n",
       "    <tr style=\"text-align: right;\">\n",
       "      <th></th>\n",
       "      <th>order_id</th>\n",
       "      <th>wait_time</th>\n",
       "      <th>expected_wait_time</th>\n",
       "      <th>delay_vs_expected</th>\n",
       "      <th>order_status</th>\n",
       "      <th>dim_is_five_star</th>\n",
       "      <th>dim_is_one_star</th>\n",
       "      <th>review_score</th>\n",
       "      <th>number_of_products</th>\n",
       "      <th>number_of_sellers</th>\n",
       "      <th>price</th>\n",
       "      <th>freight_value</th>\n",
       "    </tr>\n",
       "  </thead>\n",
       "  <tbody>\n",
       "    <tr>\n",
       "      <th>0</th>\n",
       "      <td>e481f51cbdc54678b7cc49136f2d6af7</td>\n",
       "      <td>8.436574</td>\n",
       "      <td>15.544063</td>\n",
       "      <td>0.0</td>\n",
       "      <td>delivered</td>\n",
       "      <td>0</td>\n",
       "      <td>0</td>\n",
       "      <td>4</td>\n",
       "      <td>1</td>\n",
       "      <td>1</td>\n",
       "      <td>29.99</td>\n",
       "      <td>8.72</td>\n",
       "    </tr>\n",
       "    <tr>\n",
       "      <th>1</th>\n",
       "      <td>53cdb2fc8bc7dce0b6741e2150273451</td>\n",
       "      <td>13.782037</td>\n",
       "      <td>19.137766</td>\n",
       "      <td>0.0</td>\n",
       "      <td>delivered</td>\n",
       "      <td>0</td>\n",
       "      <td>0</td>\n",
       "      <td>4</td>\n",
       "      <td>1</td>\n",
       "      <td>1</td>\n",
       "      <td>118.70</td>\n",
       "      <td>22.76</td>\n",
       "    </tr>\n",
       "    <tr>\n",
       "      <th>2</th>\n",
       "      <td>47770eb9100c2d0c44946d9cf07ec65d</td>\n",
       "      <td>9.394213</td>\n",
       "      <td>26.639711</td>\n",
       "      <td>0.0</td>\n",
       "      <td>delivered</td>\n",
       "      <td>1</td>\n",
       "      <td>0</td>\n",
       "      <td>5</td>\n",
       "      <td>1</td>\n",
       "      <td>1</td>\n",
       "      <td>159.90</td>\n",
       "      <td>19.22</td>\n",
       "    </tr>\n",
       "    <tr>\n",
       "      <th>3</th>\n",
       "      <td>949d5b44dbf5de918fe9c16f97b45f8a</td>\n",
       "      <td>13.208750</td>\n",
       "      <td>26.188819</td>\n",
       "      <td>0.0</td>\n",
       "      <td>delivered</td>\n",
       "      <td>1</td>\n",
       "      <td>0</td>\n",
       "      <td>5</td>\n",
       "      <td>1</td>\n",
       "      <td>1</td>\n",
       "      <td>45.00</td>\n",
       "      <td>27.20</td>\n",
       "    </tr>\n",
       "    <tr>\n",
       "      <th>4</th>\n",
       "      <td>ad21c59c0840e6cb83a9ceb5573f8159</td>\n",
       "      <td>2.873877</td>\n",
       "      <td>12.112049</td>\n",
       "      <td>0.0</td>\n",
       "      <td>delivered</td>\n",
       "      <td>1</td>\n",
       "      <td>0</td>\n",
       "      <td>5</td>\n",
       "      <td>1</td>\n",
       "      <td>1</td>\n",
       "      <td>19.90</td>\n",
       "      <td>8.72</td>\n",
       "    </tr>\n",
       "  </tbody>\n",
       "</table>\n",
       "</div>"
      ],
      "text/plain": [
       "                           order_id  wait_time  expected_wait_time  \\\n",
       "0  e481f51cbdc54678b7cc49136f2d6af7   8.436574           15.544063   \n",
       "1  53cdb2fc8bc7dce0b6741e2150273451  13.782037           19.137766   \n",
       "2  47770eb9100c2d0c44946d9cf07ec65d   9.394213           26.639711   \n",
       "3  949d5b44dbf5de918fe9c16f97b45f8a  13.208750           26.188819   \n",
       "4  ad21c59c0840e6cb83a9ceb5573f8159   2.873877           12.112049   \n",
       "\n",
       "   delay_vs_expected order_status  dim_is_five_star  dim_is_one_star  \\\n",
       "0                0.0    delivered                 0                0   \n",
       "1                0.0    delivered                 0                0   \n",
       "2                0.0    delivered                 1                0   \n",
       "3                0.0    delivered                 1                0   \n",
       "4                0.0    delivered                 1                0   \n",
       "\n",
       "   review_score  number_of_products  number_of_sellers   price  freight_value  \n",
       "0             4                   1                  1   29.99           8.72  \n",
       "1             4                   1                  1  118.70          22.76  \n",
       "2             5                   1                  1  159.90          19.22  \n",
       "3             5                   1                  1   45.00          27.20  \n",
       "4             5                   1                  1   19.90           8.72  "
      ]
     },
     "execution_count": 2,
     "metadata": {},
     "output_type": "execute_result"
    }
   ],
   "source": [
    "# Load and inspect Orders data\n",
    "orders = Order().get_training_data()\n",
    "orders.head()"
   ]
  },
  {
   "cell_type": "code",
   "execution_count": 3,
   "id": "8dfff21e",
   "metadata": {},
   "outputs": [
    {
     "data": {
      "text/html": [
       "<div>\n",
       "<style scoped>\n",
       "    .dataframe tbody tr th:only-of-type {\n",
       "        vertical-align: middle;\n",
       "    }\n",
       "\n",
       "    .dataframe tbody tr th {\n",
       "        vertical-align: top;\n",
       "    }\n",
       "\n",
       "    .dataframe thead th {\n",
       "        text-align: right;\n",
       "    }\n",
       "</style>\n",
       "<table border=\"1\" class=\"dataframe\">\n",
       "  <thead>\n",
       "    <tr style=\"text-align: right;\">\n",
       "      <th></th>\n",
       "      <th>wait_time</th>\n",
       "      <th>expected_wait_time</th>\n",
       "      <th>delay_vs_expected</th>\n",
       "      <th>dim_is_five_star</th>\n",
       "      <th>dim_is_one_star</th>\n",
       "      <th>review_score</th>\n",
       "      <th>number_of_products</th>\n",
       "      <th>number_of_sellers</th>\n",
       "      <th>price</th>\n",
       "      <th>freight_value</th>\n",
       "    </tr>\n",
       "  </thead>\n",
       "  <tbody>\n",
       "    <tr>\n",
       "      <th>count</th>\n",
       "      <td>97007.000000</td>\n",
       "      <td>97007.000000</td>\n",
       "      <td>97007.000000</td>\n",
       "      <td>97007.000000</td>\n",
       "      <td>97007.000000</td>\n",
       "      <td>97007.000000</td>\n",
       "      <td>97007.000000</td>\n",
       "      <td>97007.000000</td>\n",
       "      <td>97007.000000</td>\n",
       "      <td>97007.000000</td>\n",
       "    </tr>\n",
       "    <tr>\n",
       "      <th>mean</th>\n",
       "      <td>12.564574</td>\n",
       "      <td>23.747123</td>\n",
       "      <td>0.774420</td>\n",
       "      <td>0.589061</td>\n",
       "      <td>0.100539</td>\n",
       "      <td>4.142237</td>\n",
       "      <td>1.142598</td>\n",
       "      <td>1.013968</td>\n",
       "      <td>136.895781</td>\n",
       "      <td>22.780658</td>\n",
       "    </tr>\n",
       "    <tr>\n",
       "      <th>std</th>\n",
       "      <td>9.542359</td>\n",
       "      <td>8.762100</td>\n",
       "      <td>4.747827</td>\n",
       "      <td>0.492007</td>\n",
       "      <td>0.300719</td>\n",
       "      <td>1.296559</td>\n",
       "      <td>0.540014</td>\n",
       "      <td>0.123772</td>\n",
       "      <td>208.701803</td>\n",
       "      <td>21.532648</td>\n",
       "    </tr>\n",
       "    <tr>\n",
       "      <th>min</th>\n",
       "      <td>0.533414</td>\n",
       "      <td>2.008009</td>\n",
       "      <td>0.000000</td>\n",
       "      <td>0.000000</td>\n",
       "      <td>0.000000</td>\n",
       "      <td>1.000000</td>\n",
       "      <td>1.000000</td>\n",
       "      <td>1.000000</td>\n",
       "      <td>0.850000</td>\n",
       "      <td>0.000000</td>\n",
       "    </tr>\n",
       "    <tr>\n",
       "      <th>25%</th>\n",
       "      <td>6.771296</td>\n",
       "      <td>18.337187</td>\n",
       "      <td>0.000000</td>\n",
       "      <td>0.000000</td>\n",
       "      <td>0.000000</td>\n",
       "      <td>4.000000</td>\n",
       "      <td>1.000000</td>\n",
       "      <td>1.000000</td>\n",
       "      <td>45.900000</td>\n",
       "      <td>13.850000</td>\n",
       "    </tr>\n",
       "    <tr>\n",
       "      <th>50%</th>\n",
       "      <td>10.225243</td>\n",
       "      <td>23.235741</td>\n",
       "      <td>0.000000</td>\n",
       "      <td>1.000000</td>\n",
       "      <td>0.000000</td>\n",
       "      <td>5.000000</td>\n",
       "      <td>1.000000</td>\n",
       "      <td>1.000000</td>\n",
       "      <td>86.000000</td>\n",
       "      <td>17.170000</td>\n",
       "    </tr>\n",
       "    <tr>\n",
       "      <th>75%</th>\n",
       "      <td>15.732506</td>\n",
       "      <td>28.416094</td>\n",
       "      <td>0.000000</td>\n",
       "      <td>1.000000</td>\n",
       "      <td>0.000000</td>\n",
       "      <td>5.000000</td>\n",
       "      <td>1.000000</td>\n",
       "      <td>1.000000</td>\n",
       "      <td>149.900000</td>\n",
       "      <td>24.020000</td>\n",
       "    </tr>\n",
       "    <tr>\n",
       "      <th>max</th>\n",
       "      <td>209.628611</td>\n",
       "      <td>155.135463</td>\n",
       "      <td>188.975081</td>\n",
       "      <td>1.000000</td>\n",
       "      <td>1.000000</td>\n",
       "      <td>5.000000</td>\n",
       "      <td>21.000000</td>\n",
       "      <td>5.000000</td>\n",
       "      <td>13440.000000</td>\n",
       "      <td>1794.960000</td>\n",
       "    </tr>\n",
       "  </tbody>\n",
       "</table>\n",
       "</div>"
      ],
      "text/plain": [
       "          wait_time  expected_wait_time  delay_vs_expected  dim_is_five_star  \\\n",
       "count  97007.000000        97007.000000       97007.000000      97007.000000   \n",
       "mean      12.564574           23.747123           0.774420          0.589061   \n",
       "std        9.542359            8.762100           4.747827          0.492007   \n",
       "min        0.533414            2.008009           0.000000          0.000000   \n",
       "25%        6.771296           18.337187           0.000000          0.000000   \n",
       "50%       10.225243           23.235741           0.000000          1.000000   \n",
       "75%       15.732506           28.416094           0.000000          1.000000   \n",
       "max      209.628611          155.135463         188.975081          1.000000   \n",
       "\n",
       "       dim_is_one_star  review_score  number_of_products  number_of_sellers  \\\n",
       "count     97007.000000  97007.000000        97007.000000       97007.000000   \n",
       "mean          0.100539      4.142237            1.142598           1.013968   \n",
       "std           0.300719      1.296559            0.540014           0.123772   \n",
       "min           0.000000      1.000000            1.000000           1.000000   \n",
       "25%           0.000000      4.000000            1.000000           1.000000   \n",
       "50%           0.000000      5.000000            1.000000           1.000000   \n",
       "75%           0.000000      5.000000            1.000000           1.000000   \n",
       "max           1.000000      5.000000           21.000000           5.000000   \n",
       "\n",
       "              price  freight_value  \n",
       "count  97007.000000   97007.000000  \n",
       "mean     136.895781      22.780658  \n",
       "std      208.701803      21.532648  \n",
       "min        0.850000       0.000000  \n",
       "25%       45.900000      13.850000  \n",
       "50%       86.000000      17.170000  \n",
       "75%      149.900000      24.020000  \n",
       "max    13440.000000    1794.960000  "
      ]
     },
     "execution_count": 3,
     "metadata": {},
     "output_type": "execute_result"
    }
   ],
   "source": [
    "# Get summary stats\n",
    "orders.describe()"
   ]
  },
  {
   "cell_type": "code",
   "execution_count": 4,
   "id": "9afb3f07",
   "metadata": {},
   "outputs": [
    {
     "name": "stdout",
     "output_type": "stream",
     "text": [
      "<class 'pandas.core.frame.DataFrame'>\n",
      "Int64Index: 97007 entries, 0 to 97014\n",
      "Data columns (total 12 columns):\n",
      " #   Column              Non-Null Count  Dtype  \n",
      "---  ------              --------------  -----  \n",
      " 0   order_id            97007 non-null  object \n",
      " 1   wait_time           97007 non-null  float64\n",
      " 2   expected_wait_time  97007 non-null  float64\n",
      " 3   delay_vs_expected   97007 non-null  float64\n",
      " 4   order_status        97007 non-null  object \n",
      " 5   dim_is_five_star    97007 non-null  int64  \n",
      " 6   dim_is_one_star     97007 non-null  int64  \n",
      " 7   review_score        97007 non-null  int64  \n",
      " 8   number_of_products  97007 non-null  int64  \n",
      " 9   number_of_sellers   97007 non-null  int64  \n",
      " 10  price               97007 non-null  float64\n",
      " 11  freight_value       97007 non-null  float64\n",
      "dtypes: float64(5), int64(5), object(2)\n",
      "memory usage: 9.6+ MB\n"
     ]
    }
   ],
   "source": [
    "# Inspect data types and check for null values\n",
    "orders.info()"
   ]
  },
  {
   "cell_type": "markdown",
   "id": "a78f4056",
   "metadata": {},
   "source": [
    "## 3.2. Distributions <a id=distributions></a>"
   ]
  },
  {
   "cell_type": "markdown",
   "id": "e7d31de7",
   "metadata": {},
   "source": [
    "Let's now analyze features from the **Orders** data by understanding their distributions. We'll examine them in smaller groups:\n",
    "- `wait_time`, `expected_wait_time`, and `delay_vs_expected`\n",
    "- `dim_is_five_star`, `dim_is_one_star`, and `review_score`\n",
    "- `number_of_products`, `number_of_sellers`, `price`, and `freight_value`"
   ]
  },
  {
   "cell_type": "markdown",
   "id": "d91b426b",
   "metadata": {},
   "source": [
    "### 3.2.1. Distributions for `wait_time`, `expected_wait_time`, and `delay_vs_expected` <a id=distributions-wait-time></a>"
   ]
  },
  {
   "cell_type": "markdown",
   "id": "d7a32a05",
   "metadata": {},
   "source": [
    "This first grouping of features relate to time and delivery expectations for each order."
   ]
  },
  {
   "cell_type": "code",
   "execution_count": 5,
   "id": "e1cec52b",
   "metadata": {
    "scrolled": true
   },
   "outputs": [
    {
     "data": {
      "image/png": "[encoded data removed]",
      "text/plain": [
       "<Figure size 1080x432 with 1 Axes>"
      ]
     },
     "metadata": {},
     "output_type": "display_data"
    }
   ],
   "source": [
    "# 'wait_time' histogram\n",
    "sns.set_style('darkgrid')\n",
    "plt.figure(figsize=(15,6))\n",
    "sns.histplot(orders.wait_time)\n",
    "plt.xlabel('wait_time (days)')\n",
    "plt.ylabel('No. of Orders');"
   ]
  },
  {
   "cell_type": "code",
   "execution_count": 6,
   "id": "ba35a4cb",
   "metadata": {},
   "outputs": [
    {
     "data": {
      "image/png": "[encoded data removed]",
      "text/plain": [
       "<Figure size 1080x216 with 5 Axes>"
      ]
     },
     "metadata": {},
     "output_type": "display_data"
    }
   ],
   "source": [
    "# Distribution of 'wait_time' by review_score\n",
    "g = sns.FacetGrid(data=orders, col='review_score', )\n",
    "g.map(sns.histplot, 'wait_time')\n",
    "g.set(xlim=(0,100))\n",
    "plt.show();"
   ]
  },
  {
   "cell_type": "markdown",
   "id": "48315aa7",
   "metadata": {},
   "source": [
    "If we look at the change in shape of the `wait_time` distribution across the various review scores, we can see that the **lower** the score, the **flatter and more right-skewed** the shape becomes. This suggests that lower scores are more likely to be associated with a longer `wait_time` for their order deliveries. "
   ]
  },
  {
   "cell_type": "code",
   "execution_count": 7,
   "id": "04210bfe",
   "metadata": {
    "scrolled": true
   },
   "outputs": [
    {
     "data": {
      "image/png": "[encoded data removed]",
      "text/plain": [
       "<Figure size 1080x432 with 1 Axes>"
      ]
     },
     "metadata": {},
     "output_type": "display_data"
    }
   ],
   "source": [
    "# 'expected_wait_time' histogram\n",
    "plt.figure(figsize=(15,6))\n",
    "sns.histplot(orders.expected_wait_time)\n",
    "plt.xlabel('expected_wait_time (days)')\n",
    "plt.ylabel('No. of Orders');\n"
   ]
  },
  {
   "cell_type": "code",
   "execution_count": 8,
   "id": "f106970f",
   "metadata": {
    "scrolled": true
   },
   "outputs": [
    {
     "data": {
      "image/png": "[encoded data removed]",
      "text/plain": [
       "<Figure size 1080x216 with 5 Axes>"
      ]
     },
     "metadata": {},
     "output_type": "display_data"
    }
   ],
   "source": [
    "# Distribution of 'expected_wait_time' by review score\n",
    "g1 = sns.FacetGrid(data=orders, col='review_score')\n",
    "g1.set(xlim=(0,80))\n",
    "g1.map(sns.histplot, 'expected_wait_time');"
   ]
  },
  {
   "cell_type": "markdown",
   "id": "2615b571",
   "metadata": {},
   "source": [
    "With `expected_wait_time`, which represents *how much time a customer has been told to wait before delivery of his or her order*, we see a roughly symmetrical distribution with **average time of ~23 days** across all review scores. While we clearly see *higher peaks with the higher review scores* of 4 and 5, the *heights of the peaks for the lower scores are less pronounced*. We'll check later in our analysis if differences in peaks are just a reflection of the underlying distribution of `review_score` in the data (and not necessarily associated with `expected_wait_time`).  \n",
    "\n",
    "\n",
    "\n"
   ]
  },
  {
   "cell_type": "code",
   "execution_count": 9,
   "id": "29548896",
   "metadata": {},
   "outputs": [
    {
     "data": {
      "image/png": "[encoded data removed]",
      "text/plain": [
       "<Figure size 1080x432 with 1 Axes>"
      ]
     },
     "metadata": {},
     "output_type": "display_data"
    }
   ],
   "source": [
    "# 'delay_vs_expected' histogram\n",
    "plt.figure(figsize=(15,6))\n",
    "\n",
    "sns.histplot(orders.delay_vs_expected)\n",
    "plt.xlabel('delay_vs_expected (days)')\n",
    "plt.ylabel('No. of Orders');"
   ]
  },
  {
   "cell_type": "markdown",
   "id": "91a37372",
   "metadata": {},
   "source": [
    "From this distribution, it's clear that the vast majority of orders do not arrive after their expected delivery date. In fact, *delayed orders* make up only a tiny fraction of all orders. "
   ]
  },
  {
   "cell_type": "code",
   "execution_count": 10,
   "id": "f2f5d5e6",
   "metadata": {},
   "outputs": [
    {
     "data": {
      "text/plain": [
       "7865"
      ]
     },
     "execution_count": 10,
     "metadata": {},
     "output_type": "execute_result"
    }
   ],
   "source": [
    "# Number of delayed orders\n",
    "orders[orders.delay_vs_expected > 0].shape[0]"
   ]
  },
  {
   "cell_type": "code",
   "execution_count": 11,
   "id": "f431f938",
   "metadata": {
    "scrolled": true
   },
   "outputs": [
    {
     "data": {
      "text/plain": [
       "3671"
      ]
     },
     "execution_count": 11,
     "metadata": {},
     "output_type": "execute_result"
    }
   ],
   "source": [
    "# Number of delayed orders and receiving review score of 1\n",
    "orders[(orders.delay_vs_expected > 0) & (orders.review_score == 1)].shape[0] "
   ]
  },
  {
   "cell_type": "markdown",
   "id": "ced28903",
   "metadata": {},
   "source": [
    "Out of **97,000** orders, only about **8%** (7,865 orders) were delayed. And, out of those that got delayed, **about half** (3,671 orders) received **`review_score` = 1**."
   ]
  },
  {
   "cell_type": "code",
   "execution_count": 12,
   "id": "de44003b",
   "metadata": {
    "scrolled": true
   },
   "outputs": [
    {
     "data": {
      "image/png": "[encoded data removed]",
      "text/plain": [
       "<Figure size 1080x216 with 5 Axes>"
      ]
     },
     "metadata": {},
     "output_type": "display_data"
    }
   ],
   "source": [
    "# Orders that were delayed \n",
    "orders_delayed = orders[orders.delay_vs_expected>0]\n",
    "\n",
    "# Distribution of delayed orders by 'reveiw_score'\n",
    "g2 = sns.FacetGrid(data=orders_delayed, col='review_score')\n",
    "g2.set(xlim=(0,40))\n",
    "g2.map(plt.hist, 'delay_vs_expected')\n",
    "g2.axes[0,0].set_ylabel('No. of Orders');"
   ]
  },
  {
   "cell_type": "markdown",
   "id": "90fe379d",
   "metadata": {},
   "source": [
    "If we look at the `delay_vs_expected` distribution by `review_score`, orders with *longer delays make up a larger proportion of those with lower review scores.*\n"
   ]
  },
  {
   "cell_type": "markdown",
   "id": "4ab7bb0b",
   "metadata": {},
   "source": [
    "### 3.2.2. Distributions for `review_score`, `dim_is_one_star` , and `dim_is_five_star` <a id=distributions-review-score></a>"
   ]
  },
  {
   "cell_type": "markdown",
   "id": "4dfbfb7a",
   "metadata": {},
   "source": [
    "This grouping represents the target variables in our analysis. The variables `dim_is_one_star` and `dim_is_five_star` are one-hot encodings for a `review_score` with *one star* and *five stars*, respectively."
   ]
  },
  {
   "cell_type": "code",
   "execution_count": 13,
   "id": "9a8b5ccf",
   "metadata": {
    "scrolled": true
   },
   "outputs": [
    {
     "data": {
      "image/png": "[encoded data removed]",
      "text/plain": [
       "<Figure size 1080x360 with 3 Axes>"
      ]
     },
     "metadata": {},
     "output_type": "display_data"
    }
   ],
   "source": [
    "# Histograms of 'review_score', 'dim_is_one_star', and 'dim_is_five_star' \n",
    "fig, (ax1,ax2,ax3) = plt.subplots(1,3, figsize=(15,5))\n",
    "fig.suptitle('Distributions for Target Variables')\n",
    "\n",
    "ax1 = sns.histplot(orders.review_score, discrete=True, ax=ax1)\n",
    "ax1.set_ylim(0, 90000);\n",
    "\n",
    "ax2 = sns.histplot(orders.dim_is_one_star, ax=ax2);\n",
    "ax2.set_ylim(0, 90000);\n",
    "\n",
    "ax3 = sns.histplot(orders.dim_is_five_star, ax=ax3)\n",
    "ax3.set_ylim(0, 90000);\n",
    "\n",
    "plt.tight_layout();"
   ]
  },
  {
   "cell_type": "code",
   "execution_count": 14,
   "id": "f41624d8",
   "metadata": {},
   "outputs": [
    {
     "data": {
      "text/html": [
       "<div>\n",
       "<style scoped>\n",
       "    .dataframe tbody tr th:only-of-type {\n",
       "        vertical-align: middle;\n",
       "    }\n",
       "\n",
       "    .dataframe tbody tr th {\n",
       "        vertical-align: top;\n",
       "    }\n",
       "\n",
       "    .dataframe thead th {\n",
       "        text-align: right;\n",
       "    }\n",
       "</style>\n",
       "<table border=\"1\" class=\"dataframe\">\n",
       "  <thead>\n",
       "    <tr style=\"text-align: right;\">\n",
       "      <th></th>\n",
       "      <th>review_score</th>\n",
       "    </tr>\n",
       "  </thead>\n",
       "  <tbody>\n",
       "    <tr>\n",
       "      <th>5</th>\n",
       "      <td>58.906058</td>\n",
       "    </tr>\n",
       "    <tr>\n",
       "      <th>4</th>\n",
       "      <td>19.627450</td>\n",
       "    </tr>\n",
       "    <tr>\n",
       "      <th>3</th>\n",
       "      <td>8.304555</td>\n",
       "    </tr>\n",
       "    <tr>\n",
       "      <th>2</th>\n",
       "      <td>3.108023</td>\n",
       "    </tr>\n",
       "    <tr>\n",
       "      <th>1</th>\n",
       "      <td>10.053914</td>\n",
       "    </tr>\n",
       "  </tbody>\n",
       "</table>\n",
       "</div>"
      ],
      "text/plain": [
       "   review_score\n",
       "5     58.906058\n",
       "4     19.627450\n",
       "3      8.304555\n",
       "2      3.108023\n",
       "1     10.053914"
      ]
     },
     "execution_count": 14,
     "metadata": {},
     "output_type": "execute_result"
    }
   ],
   "source": [
    "# Distribution of 'review_score' (%)\n",
    "pd.DataFrame(orders.review_score.value_counts().sort_index(ascending=False)/len(orders)*100)"
   ]
  },
  {
   "cell_type": "markdown",
   "id": "8233fc32",
   "metadata": {},
   "source": [
    "With this distribution of `review_score`, we can see a similar pattern that was reflected in the peak heights of the the first grouping of features `wait_time`, `expected_wait_time`, and `delay_vs_expected`. Namely, the lowest point is at score 2, followed by similar heights for 1 and 3, followed by a higher level for score 4, and then finally a significantly higher level for score 5 (Scores with **5 stars** make up **58.9%** of all reviews).  \n",
    "\n",
    "This reflects a **J-shaped distribution** which is a common phenomenon among online reviews. Possible explanations for this include:\n",
    "\n",
    "- **under-reporting bias** - customers who have no strong views either way are less likely to respond, leaving a dip in the area of 'average' ratings.\n",
    "- **purchasing bias** - customers who have already purchased the product are already positively predisposed, leading to a disproportionate number of positive ratings.\n",
    "- **social influence bias** - customers can be influenced by existing reviews they've seen, magnifying the effect of over-reporting highly positive or highly critical ratings.\n",
    "\n",
    "Having this J-shaped distribution would suggest that for the features `expected_wait_time` and `delay_vs_expected`, the differences in peak height can be primarily attributed to the distribution of `review_score` in the dataset. However, with the `wait_time` feature, the *additional differences in skewness* suggest that there is a an additional relationship with the target variable `review_score` that is not fully explained by the underlying distribution."
   ]
  },
  {
   "cell_type": "markdown",
   "id": "38644013",
   "metadata": {},
   "source": [
    "### 3.2.3. Distributions for `number_of_products`, `number_of_sellers`, `price`, and `freight_value` <a id=distributions-number-of-products></a>"
   ]
  },
  {
   "cell_type": "markdown",
   "id": "874f704e",
   "metadata": {},
   "source": [
    "This grouping of features focus more on the characteristics of the order itself. "
   ]
  },
  {
   "cell_type": "code",
   "execution_count": 15,
   "id": "ff659cb0",
   "metadata": {},
   "outputs": [
    {
     "data": {
      "image/png": "[encoded data removed]",
      "text/plain": [
       "<Figure size 1080x720 with 4 Axes>"
      ]
     },
     "metadata": {},
     "output_type": "display_data"
    }
   ],
   "source": [
    "# Histograms for 'number_of_products','number_of_sellers','price', and 'freight_value'\n",
    "fig, (ax1,ax2, ax3, ax4) = plt.subplots(4,1, figsize=(15, 10))\n",
    "fig.suptitle('Distributions for Order-related Features')\n",
    "\n",
    "ax1 = sns.histplot(orders.number_of_products, ax=ax1)\n",
    "ax1.set_ylim(0,100000);\n",
    "\n",
    "ax2 = sns.histplot(orders.number_of_sellers, ax=ax2)\n",
    "ax2.set_ylim(0,100000);\n",
    "\n",
    "ax3 = sns.histplot(orders.price, ax=ax3);\n",
    "ax3.set_ylim(0,8000);\n",
    "\n",
    "ax4 = sns.histplot(orders.freight_value, ax=ax4);\n",
    "ax4.set_ylim(0,8000);\n",
    "\n",
    "fig.tight_layout()"
   ]
  },
  {
   "cell_type": "markdown",
   "id": "f1bde782",
   "metadata": {},
   "source": [
    "From these histograms it's clear that there are some pretty large outliers making these plots difficult to read. \n",
    "\n",
    "Let's look at the statistical summary to get a more precise picture."
   ]
  },
  {
   "cell_type": "code",
   "execution_count": 16,
   "id": "684355b9",
   "metadata": {},
   "outputs": [
    {
     "data": {
      "text/html": [
       "<div>\n",
       "<style scoped>\n",
       "    .dataframe tbody tr th:only-of-type {\n",
       "        vertical-align: middle;\n",
       "    }\n",
       "\n",
       "    .dataframe tbody tr th {\n",
       "        vertical-align: top;\n",
       "    }\n",
       "\n",
       "    .dataframe thead th {\n",
       "        text-align: right;\n",
       "    }\n",
       "</style>\n",
       "<table border=\"1\" class=\"dataframe\">\n",
       "  <thead>\n",
       "    <tr style=\"text-align: right;\">\n",
       "      <th></th>\n",
       "      <th>number_of_products</th>\n",
       "      <th>number_of_sellers</th>\n",
       "      <th>price</th>\n",
       "      <th>freight_value</th>\n",
       "    </tr>\n",
       "  </thead>\n",
       "  <tbody>\n",
       "    <tr>\n",
       "      <th>count</th>\n",
       "      <td>97007.000000</td>\n",
       "      <td>97007.000000</td>\n",
       "      <td>97007.000000</td>\n",
       "      <td>97007.000000</td>\n",
       "    </tr>\n",
       "    <tr>\n",
       "      <th>mean</th>\n",
       "      <td>1.142598</td>\n",
       "      <td>1.013968</td>\n",
       "      <td>136.895781</td>\n",
       "      <td>22.780658</td>\n",
       "    </tr>\n",
       "    <tr>\n",
       "      <th>std</th>\n",
       "      <td>0.540014</td>\n",
       "      <td>0.123772</td>\n",
       "      <td>208.701803</td>\n",
       "      <td>21.532648</td>\n",
       "    </tr>\n",
       "    <tr>\n",
       "      <th>min</th>\n",
       "      <td>1.000000</td>\n",
       "      <td>1.000000</td>\n",
       "      <td>0.850000</td>\n",
       "      <td>0.000000</td>\n",
       "    </tr>\n",
       "    <tr>\n",
       "      <th>25%</th>\n",
       "      <td>1.000000</td>\n",
       "      <td>1.000000</td>\n",
       "      <td>45.900000</td>\n",
       "      <td>13.850000</td>\n",
       "    </tr>\n",
       "    <tr>\n",
       "      <th>50%</th>\n",
       "      <td>1.000000</td>\n",
       "      <td>1.000000</td>\n",
       "      <td>86.000000</td>\n",
       "      <td>17.170000</td>\n",
       "    </tr>\n",
       "    <tr>\n",
       "      <th>75%</th>\n",
       "      <td>1.000000</td>\n",
       "      <td>1.000000</td>\n",
       "      <td>149.900000</td>\n",
       "      <td>24.020000</td>\n",
       "    </tr>\n",
       "    <tr>\n",
       "      <th>max</th>\n",
       "      <td>21.000000</td>\n",
       "      <td>5.000000</td>\n",
       "      <td>13440.000000</td>\n",
       "      <td>1794.960000</td>\n",
       "    </tr>\n",
       "  </tbody>\n",
       "</table>\n",
       "</div>"
      ],
      "text/plain": [
       "       number_of_products  number_of_sellers         price  freight_value\n",
       "count        97007.000000       97007.000000  97007.000000   97007.000000\n",
       "mean             1.142598           1.013968    136.895781      22.780658\n",
       "std              0.540014           0.123772    208.701803      21.532648\n",
       "min              1.000000           1.000000      0.850000       0.000000\n",
       "25%              1.000000           1.000000     45.900000      13.850000\n",
       "50%              1.000000           1.000000     86.000000      17.170000\n",
       "75%              1.000000           1.000000    149.900000      24.020000\n",
       "max             21.000000           5.000000  13440.000000    1794.960000"
      ]
     },
     "execution_count": 16,
     "metadata": {},
     "output_type": "execute_result"
    }
   ],
   "source": [
    "orders[['number_of_products', 'number_of_sellers', 'price', 'freight_value']].describe()"
   ]
  },
  {
   "cell_type": "markdown",
   "id": "807d118a",
   "metadata": {},
   "source": [
    "With the stats panel and plots, it's clear that few orders contain more than one product or seller. "
   ]
  },
  {
   "cell_type": "code",
   "execution_count": 17,
   "id": "1b0bd04a",
   "metadata": {},
   "outputs": [
    {
     "data": {
      "text/plain": [
       "9709"
      ]
     },
     "execution_count": 17,
     "metadata": {},
     "output_type": "execute_result"
    }
   ],
   "source": [
    "# Number of orders with more than 1 product or 1 seller. Note that if an order has more than 1 seller, \n",
    "# it will by definition have more than 1 product.  \n",
    "orders[orders.number_of_products > 1].shape[0]"
   ]
  },
  {
   "cell_type": "markdown",
   "id": "032c783a",
   "metadata": {},
   "source": [
    "With about **97,000** orders, we see that about **10%** have more than one product or seller.\n",
    "\n",
    "And, if we look at the **middle 50%** of all orders, the *order value* is in the range of **45-150 BRL** (10-30 USD), and *shipping costs* fall in the range of **14-24 BRL** (3-5 USD). \n",
    "\n",
    "Evidently, most orders are relatively small in both *order size* and *value*.  "
   ]
  },
  {
   "cell_type": "markdown",
   "id": "6bec80f1",
   "metadata": {},
   "source": [
    "## 3.3. Correlations <a id=correlations></a>"
   ]
  },
  {
   "cell_type": "markdown",
   "id": "2468d9a6",
   "metadata": {},
   "source": [
    "Let's look to see if there are correlations between features in the **Orders** dataset."
   ]
  },
  {
   "cell_type": "code",
   "execution_count": 18,
   "id": "4e150da8",
   "metadata": {
    "scrolled": true
   },
   "outputs": [
    {
     "data": {
      "image/png": "[encoded data removed]",
      "text/plain": [
       "<Figure size 1080x432 with 2 Axes>"
      ]
     },
     "metadata": {},
     "output_type": "display_data"
    }
   ],
   "source": [
    "# Use heatmap to see correlations between features and target variables\n",
    "plt.figure(figsize=(15,6))\n",
    "sns.heatmap(orders.corr(), cmap='coolwarm', annot=True);"
   ]
  },
  {
   "cell_type": "code",
   "execution_count": 19,
   "id": "74407107",
   "metadata": {
    "scrolled": true
   },
   "outputs": [
    {
     "data": {
      "text/plain": [
       "review_score          1.000000\n",
       "dim_is_five_star      0.792079\n",
       "price                -0.036006\n",
       "expected_wait_time   -0.052191\n",
       "freight_value        -0.091023\n",
       "number_of_sellers    -0.116317\n",
       "number_of_products   -0.124405\n",
       "delay_vs_expected    -0.271885\n",
       "wait_time            -0.334806\n",
       "dim_is_one_star      -0.810262\n",
       "Name: review_score, dtype: float64"
      ]
     },
     "execution_count": 19,
     "metadata": {},
     "output_type": "execute_result"
    }
   ],
   "source": [
    "# Isolated view of correlation coefficients with target variable `review_score`\n",
    "orders.corr()['review_score'].sort_values(ascending=False)"
   ]
  },
  {
   "cell_type": "markdown",
   "id": "4fb6ba04",
   "metadata": {},
   "source": [
    "Among features `wait_time` and `delay_vs_expected` appear to have the strongest correlation with the target variable `review_score`. However, we also see that both features (`wait_time` and `delay_vs_expected`) are highly correlated with each other (r = 0.71).\n",
    "\n",
    "Since features that are highly correlated may be concealing a confounding variable and lead to unreliable coefficients and p-values in a regression model, we may need to drop one of these features later.  "
   ]
  },
  {
   "cell_type": "markdown",
   "id": "7395ce26",
   "metadata": {},
   "source": [
    "## 3.4. Univariate Regression <a id=univariate-regression></a>"
   ]
  },
  {
   "cell_type": "markdown",
   "id": "acd4eff3",
   "metadata": {},
   "source": [
    "Based on our inspection of correlation coefficients, we see that the features `wait_time` (r = 0.33) and `delay_vs_expected` (r = 0.27) have a stronger correlation with `review_score` than other features, so let's first look at them individually by running simple univariate regressions."
   ]
  },
  {
   "cell_type": "markdown",
   "id": "14fd4da1",
   "metadata": {},
   "source": [
    "### 3.4.1. Simple regression of `review_score` against `wait_time` <a id=regression-wait-time></a>"
   ]
  },
  {
   "cell_type": "code",
   "execution_count": 20,
   "id": "2207e715",
   "metadata": {},
   "outputs": [
    {
     "data": {
      "text/html": [
       "<table class=\"simpletable\">\n",
       "<caption>OLS Regression Results</caption>\n",
       "<tr>\n",
       "  <th>Dep. Variable:</th>      <td>review_score</td>   <th>  R-squared:         </th>  <td>   0.112</td>  \n",
       "</tr>\n",
       "<tr>\n",
       "  <th>Model:</th>                   <td>OLS</td>       <th>  Adj. R-squared:    </th>  <td>   0.112</td>  \n",
       "</tr>\n",
       "<tr>\n",
       "  <th>Method:</th>             <td>Least Squares</td>  <th>  F-statistic:       </th>  <td>1.225e+04</td> \n",
       "</tr>\n",
       "<tr>\n",
       "  <th>Date:</th>             <td>Tue, 22 Mar 2022</td> <th>  Prob (F-statistic):</th>   <td>  0.00</td>   \n",
       "</tr>\n",
       "<tr>\n",
       "  <th>Time:</th>                 <td>10:30:05</td>     <th>  Log-Likelihood:    </th> <td>-1.5707e+05</td>\n",
       "</tr>\n",
       "<tr>\n",
       "  <th>No. Observations:</th>      <td> 97007</td>      <th>  AIC:               </th>  <td>3.142e+05</td> \n",
       "</tr>\n",
       "<tr>\n",
       "  <th>Df Residuals:</th>          <td> 97005</td>      <th>  BIC:               </th>  <td>3.142e+05</td> \n",
       "</tr>\n",
       "<tr>\n",
       "  <th>Df Model:</th>              <td>     1</td>      <th>                     </th>      <td> </td>     \n",
       "</tr>\n",
       "<tr>\n",
       "  <th>Covariance Type:</th>      <td>nonrobust</td>    <th>                     </th>      <td> </td>     \n",
       "</tr>\n",
       "</table>\n",
       "<table class=\"simpletable\">\n",
       "<tr>\n",
       "      <td></td>         <th>coef</th>     <th>std err</th>      <th>t</th>      <th>P>|t|</th>  <th>[0.025</th>    <th>0.975]</th>  \n",
       "</tr>\n",
       "<tr>\n",
       "  <th>Intercept</th> <td>    4.7138</td> <td>    0.006</td> <td>  726.803</td> <td> 0.000</td> <td>    4.701</td> <td>    4.727</td>\n",
       "</tr>\n",
       "<tr>\n",
       "  <th>wait_time</th> <td>   -0.0455</td> <td>    0.000</td> <td> -110.664</td> <td> 0.000</td> <td>   -0.046</td> <td>   -0.045</td>\n",
       "</tr>\n",
       "</table>\n",
       "<table class=\"simpletable\">\n",
       "<tr>\n",
       "  <th>Omnibus:</th>       <td>19241.637</td> <th>  Durbin-Watson:     </th> <td>   2.007</td> \n",
       "</tr>\n",
       "<tr>\n",
       "  <th>Prob(Omnibus):</th>  <td> 0.000</td>   <th>  Jarque-Bera (JB):  </th> <td>34157.401</td>\n",
       "</tr>\n",
       "<tr>\n",
       "  <th>Skew:</th>           <td>-1.282</td>   <th>  Prob(JB):          </th> <td>    0.00</td> \n",
       "</tr>\n",
       "<tr>\n",
       "  <th>Kurtosis:</th>       <td> 4.371</td>   <th>  Cond. No.          </th> <td>    26.2</td> \n",
       "</tr>\n",
       "</table><br/><br/>Warnings:<br/>[1] Standard Errors assume that the covariance matrix of the errors is correctly specified."
      ],
      "text/plain": [
       "<class 'statsmodels.iolib.summary.Summary'>\n",
       "\"\"\"\n",
       "                            OLS Regression Results                            \n",
       "==============================================================================\n",
       "Dep. Variable:           review_score   R-squared:                       0.112\n",
       "Model:                            OLS   Adj. R-squared:                  0.112\n",
       "Method:                 Least Squares   F-statistic:                 1.225e+04\n",
       "Date:                Tue, 22 Mar 2022   Prob (F-statistic):               0.00\n",
       "Time:                        10:30:05   Log-Likelihood:            -1.5707e+05\n",
       "No. Observations:               97007   AIC:                         3.142e+05\n",
       "Df Residuals:                   97005   BIC:                         3.142e+05\n",
       "Df Model:                           1                                         \n",
       "Covariance Type:            nonrobust                                         \n",
       "==============================================================================\n",
       "                 coef    std err          t      P>|t|      [0.025      0.975]\n",
       "------------------------------------------------------------------------------\n",
       "Intercept      4.7138      0.006    726.803      0.000       4.701       4.727\n",
       "wait_time     -0.0455      0.000   -110.664      0.000      -0.046      -0.045\n",
       "==============================================================================\n",
       "Omnibus:                    19241.637   Durbin-Watson:                   2.007\n",
       "Prob(Omnibus):                  0.000   Jarque-Bera (JB):            34157.401\n",
       "Skew:                          -1.282   Prob(JB):                         0.00\n",
       "Kurtosis:                       4.371   Cond. No.                         26.2\n",
       "==============================================================================\n",
       "\n",
       "Warnings:\n",
       "[1] Standard Errors assume that the covariance matrix of the errors is correctly specified.\n",
       "\"\"\""
      ]
     },
     "execution_count": 20,
     "metadata": {},
     "output_type": "execute_result"
    }
   ],
   "source": [
    "formula = 'review_score ~ wait_time'\n",
    "model1 = smf.ols(formula=formula, data=orders).fit()\n",
    "model1.summary()"
   ]
  },
  {
   "cell_type": "markdown",
   "id": "8fee7fbe",
   "metadata": {},
   "source": [
    "**Interpretation of Results**"
   ]
  },
  {
   "cell_type": "markdown",
   "id": "c64b539e",
   "metadata": {},
   "source": [
    "For every additional day of `wait_time`, we can say with a 95% confidence level that the `review_score` is **lower by 4.6%** on average (slope = -0.046). This suggests that there is an association between a longer `wait_time` and a lower `review_score`. \n",
    "\n",
    "- With a **p-value** close to zero, our coefficient for `wait_time` is **statistically significant**. \n",
    "- The **R-squared** indicates that **11% of the variance** found in the `review_score` is attributable to `wait_time`.\n",
    "- Since within the **95% confidence interval** the slope does not contain the value zero, we can accept the **coefficient as reliable**."
   ]
  },
  {
   "cell_type": "code",
   "execution_count": 21,
   "id": "95640d09",
   "metadata": {},
   "outputs": [
    {
     "data": {
      "image/png": "[encoded data removed]",
      "text/plain": [
       "<Figure size 432x288 with 1 Axes>"
      ]
     },
     "metadata": {},
     "output_type": "display_data"
    }
   ],
   "source": [
    "# Plot the univariate regression of 'review_score' on 'wait_time'\n",
    "sns.regplot(x=orders.wait_time, y=orders.review_score, y_jitter=0.1)\n",
    "plt.ylim(bottom=0);"
   ]
  },
  {
   "cell_type": "markdown",
   "id": "da1bc498",
   "metadata": {},
   "source": [
    "### 3.4.2. Simple regression of `review_score` against `delay_vs_expected` <a id=regression-delay-vs-expected></a>"
   ]
  },
  {
   "cell_type": "code",
   "execution_count": 22,
   "id": "a2870746",
   "metadata": {},
   "outputs": [
    {
     "data": {
      "text/html": [
       "<table class=\"simpletable\">\n",
       "<caption>OLS Regression Results</caption>\n",
       "<tr>\n",
       "  <th>Dep. Variable:</th>      <td>review_score</td>   <th>  R-squared:         </th>  <td>   0.074</td>  \n",
       "</tr>\n",
       "<tr>\n",
       "  <th>Model:</th>                   <td>OLS</td>       <th>  Adj. R-squared:    </th>  <td>   0.074</td>  \n",
       "</tr>\n",
       "<tr>\n",
       "  <th>Method:</th>             <td>Least Squares</td>  <th>  F-statistic:       </th>  <td>   7743.</td>  \n",
       "</tr>\n",
       "<tr>\n",
       "  <th>Date:</th>             <td>Tue, 22 Mar 2022</td> <th>  Prob (F-statistic):</th>   <td>  0.00</td>   \n",
       "</tr>\n",
       "<tr>\n",
       "  <th>Time:</th>                 <td>10:30:15</td>     <th>  Log-Likelihood:    </th> <td>-1.5912e+05</td>\n",
       "</tr>\n",
       "<tr>\n",
       "  <th>No. Observations:</th>      <td> 97007</td>      <th>  AIC:               </th>  <td>3.182e+05</td> \n",
       "</tr>\n",
       "<tr>\n",
       "  <th>Df Residuals:</th>          <td> 97005</td>      <th>  BIC:               </th>  <td>3.183e+05</td> \n",
       "</tr>\n",
       "<tr>\n",
       "  <th>Df Model:</th>              <td>     1</td>      <th>                     </th>      <td> </td>     \n",
       "</tr>\n",
       "<tr>\n",
       "  <th>Covariance Type:</th>      <td>nonrobust</td>    <th>                     </th>      <td> </td>     \n",
       "</tr>\n",
       "</table>\n",
       "<table class=\"simpletable\">\n",
       "<tr>\n",
       "          <td></td>             <th>coef</th>     <th>std err</th>      <th>t</th>      <th>P>|t|</th>  <th>[0.025</th>    <th>0.975]</th>  \n",
       "</tr>\n",
       "<tr>\n",
       "  <th>Intercept</th>         <td>    4.1997</td> <td>    0.004</td> <td> 1034.674</td> <td> 0.000</td> <td>    4.192</td> <td>    4.208</td>\n",
       "</tr>\n",
       "<tr>\n",
       "  <th>delay_vs_expected</th> <td>   -0.0742</td> <td>    0.001</td> <td>  -87.995</td> <td> 0.000</td> <td>   -0.076</td> <td>   -0.073</td>\n",
       "</tr>\n",
       "</table>\n",
       "<table class=\"simpletable\">\n",
       "<tr>\n",
       "  <th>Omnibus:</th>       <td>20264.119</td> <th>  Durbin-Watson:     </th> <td>   2.004</td> \n",
       "</tr>\n",
       "<tr>\n",
       "  <th>Prob(Omnibus):</th>  <td> 0.000</td>   <th>  Jarque-Bera (JB):  </th> <td>46233.422</td>\n",
       "</tr>\n",
       "<tr>\n",
       "  <th>Skew:</th>           <td>-1.191</td>   <th>  Prob(JB):          </th> <td>    0.00</td> \n",
       "</tr>\n",
       "<tr>\n",
       "  <th>Kurtosis:</th>       <td> 5.401</td>   <th>  Cond. No.          </th> <td>    4.88</td> \n",
       "</tr>\n",
       "</table><br/><br/>Warnings:<br/>[1] Standard Errors assume that the covariance matrix of the errors is correctly specified."
      ],
      "text/plain": [
       "<class 'statsmodels.iolib.summary.Summary'>\n",
       "\"\"\"\n",
       "                            OLS Regression Results                            \n",
       "==============================================================================\n",
       "Dep. Variable:           review_score   R-squared:                       0.074\n",
       "Model:                            OLS   Adj. R-squared:                  0.074\n",
       "Method:                 Least Squares   F-statistic:                     7743.\n",
       "Date:                Tue, 22 Mar 2022   Prob (F-statistic):               0.00\n",
       "Time:                        10:30:15   Log-Likelihood:            -1.5912e+05\n",
       "No. Observations:               97007   AIC:                         3.182e+05\n",
       "Df Residuals:                   97005   BIC:                         3.183e+05\n",
       "Df Model:                           1                                         \n",
       "Covariance Type:            nonrobust                                         \n",
       "=====================================================================================\n",
       "                        coef    std err          t      P>|t|      [0.025      0.975]\n",
       "-------------------------------------------------------------------------------------\n",
       "Intercept             4.1997      0.004   1034.674      0.000       4.192       4.208\n",
       "delay_vs_expected    -0.0742      0.001    -87.995      0.000      -0.076      -0.073\n",
       "==============================================================================\n",
       "Omnibus:                    20264.119   Durbin-Watson:                   2.004\n",
       "Prob(Omnibus):                  0.000   Jarque-Bera (JB):            46233.422\n",
       "Skew:                          -1.191   Prob(JB):                         0.00\n",
       "Kurtosis:                       5.401   Cond. No.                         4.88\n",
       "==============================================================================\n",
       "\n",
       "Warnings:\n",
       "[1] Standard Errors assume that the covariance matrix of the errors is correctly specified.\n",
       "\"\"\""
      ]
     },
     "execution_count": 22,
     "metadata": {},
     "output_type": "execute_result"
    }
   ],
   "source": [
    "formula = 'review_score ~ delay_vs_expected'\n",
    "model2 = smf.ols(formula=formula, data=orders).fit()\n",
    "model2.summary()"
   ]
  },
  {
   "cell_type": "markdown",
   "id": "3f6bbb1a",
   "metadata": {},
   "source": [
    "**Interpretation of Results**"
   ]
  },
  {
   "cell_type": "markdown",
   "id": "a66e19a8",
   "metadata": {},
   "source": [
    "For each additional day of **delay** that the customer waits **beyond the expected delivery date**, we can say with a 95% confidence level that the `review_score` is **lower by 7.4%** on average (slope = -0.074). This suggests that there is an association between *delays* in delivery and a *lower* `review_score`.   \n",
    "\n",
    "- With a **p-value** close to zero, the coefficient for `delay_vs_expected` is **statistically significant**.\n",
    "- The **R-squared** indicates that **7% of the variance** found in the `review_score` is attributable to `delay_vs_expected`.\n",
    "- Since within the **95% confidence interval** the slope does not contain the value zero, we can accept the **coefficient as reliable**."
   ]
  },
  {
   "cell_type": "code",
   "execution_count": 23,
   "id": "accee865",
   "metadata": {},
   "outputs": [
    {
     "data": {
      "image/png": "[encoded data removed]",
      "text/plain": [
       "<Figure size 432x288 with 1 Axes>"
      ]
     },
     "metadata": {},
     "output_type": "display_data"
    }
   ],
   "source": [
    "# Plot the univariate regression of 'review_score' on 'delay_vs_expected'\n",
    "sns.regplot(x=orders.delay_vs_expected, y=orders.review_score, y_jitter=0.1)\n",
    "plt.ylim(bottom=0);"
   ]
  },
  {
   "cell_type": "markdown",
   "id": "773b7479",
   "metadata": {},
   "source": [
    "## 3.5. Multivariate Regression <a id=multivariate-regression></a>"
   ]
  },
  {
   "cell_type": "markdown",
   "id": "ec0a62e3",
   "metadata": {},
   "source": [
    "Let's now build multivariate regression models so that we can incorporate several features at once. We'll start with a bivariate model with `wait_time` and `delay_vs_expected`. "
   ]
  },
  {
   "cell_type": "markdown",
   "id": "9bba4c83",
   "metadata": {},
   "source": [
    "### 3.5.1. Bivariate Regression Model <a id=bivariate-regression-model></a>\n",
    "First, we'll regress `review_score` on just the two features `wait_time` and `delay_vs_expected`."
   ]
  },
  {
   "cell_type": "code",
   "execution_count": 24,
   "id": "f9c6454f",
   "metadata": {
    "scrolled": true
   },
   "outputs": [
    {
     "data": {
      "text/html": [
       "<table class=\"simpletable\">\n",
       "<caption>OLS Regression Results</caption>\n",
       "<tr>\n",
       "  <th>Dep. Variable:</th>      <td>review_score</td>   <th>  R-squared:         </th>  <td>   0.115</td>  \n",
       "</tr>\n",
       "<tr>\n",
       "  <th>Model:</th>                   <td>OLS</td>       <th>  Adj. R-squared:    </th>  <td>   0.115</td>  \n",
       "</tr>\n",
       "<tr>\n",
       "  <th>Method:</th>             <td>Least Squares</td>  <th>  F-statistic:       </th>  <td>   6275.</td>  \n",
       "</tr>\n",
       "<tr>\n",
       "  <th>Date:</th>             <td>Tue, 22 Mar 2022</td> <th>  Prob (F-statistic):</th>   <td>  0.00</td>   \n",
       "</tr>\n",
       "<tr>\n",
       "  <th>Time:</th>                 <td>10:30:28</td>     <th>  Log-Likelihood:    </th> <td>-1.5694e+05</td>\n",
       "</tr>\n",
       "<tr>\n",
       "  <th>No. Observations:</th>      <td> 97007</td>      <th>  AIC:               </th>  <td>3.139e+05</td> \n",
       "</tr>\n",
       "<tr>\n",
       "  <th>Df Residuals:</th>          <td> 97004</td>      <th>  BIC:               </th>  <td>3.139e+05</td> \n",
       "</tr>\n",
       "<tr>\n",
       "  <th>Df Model:</th>              <td>     2</td>      <th>                     </th>      <td> </td>     \n",
       "</tr>\n",
       "<tr>\n",
       "  <th>Covariance Type:</th>      <td>nonrobust</td>    <th>                     </th>      <td> </td>     \n",
       "</tr>\n",
       "</table>\n",
       "<table class=\"simpletable\">\n",
       "<tr>\n",
       "          <td></td>             <th>coef</th>     <th>std err</th>      <th>t</th>      <th>P>|t|</th>  <th>[0.025</th>    <th>0.975]</th>  \n",
       "</tr>\n",
       "<tr>\n",
       "  <th>Intercept</th>         <td>    4.6440</td> <td>    0.008</td> <td>  599.083</td> <td> 0.000</td> <td>    4.629</td> <td>    4.659</td>\n",
       "</tr>\n",
       "<tr>\n",
       "  <th>wait_time</th>         <td>   -0.0388</td> <td>    0.001</td> <td>  -66.715</td> <td> 0.000</td> <td>   -0.040</td> <td>   -0.038</td>\n",
       "</tr>\n",
       "<tr>\n",
       "  <th>delay_vs_expected</th> <td>   -0.0191</td> <td>    0.001</td> <td>  -16.399</td> <td> 0.000</td> <td>   -0.021</td> <td>   -0.017</td>\n",
       "</tr>\n",
       "</table>\n",
       "<table class=\"simpletable\">\n",
       "<tr>\n",
       "  <th>Omnibus:</th>       <td>19637.196</td> <th>  Durbin-Watson:     </th> <td>   2.006</td> \n",
       "</tr>\n",
       "<tr>\n",
       "  <th>Prob(Omnibus):</th>  <td> 0.000</td>   <th>  Jarque-Bera (JB):  </th> <td>38268.583</td>\n",
       "</tr>\n",
       "<tr>\n",
       "  <th>Skew:</th>           <td>-1.235</td>   <th>  Prob(JB):          </th> <td>    0.00</td> \n",
       "</tr>\n",
       "<tr>\n",
       "  <th>Kurtosis:</th>       <td> 4.834</td>   <th>  Cond. No.          </th> <td>    31.9</td> \n",
       "</tr>\n",
       "</table><br/><br/>Warnings:<br/>[1] Standard Errors assume that the covariance matrix of the errors is correctly specified."
      ],
      "text/plain": [
       "<class 'statsmodels.iolib.summary.Summary'>\n",
       "\"\"\"\n",
       "                            OLS Regression Results                            \n",
       "==============================================================================\n",
       "Dep. Variable:           review_score   R-squared:                       0.115\n",
       "Model:                            OLS   Adj. R-squared:                  0.115\n",
       "Method:                 Least Squares   F-statistic:                     6275.\n",
       "Date:                Tue, 22 Mar 2022   Prob (F-statistic):               0.00\n",
       "Time:                        10:30:28   Log-Likelihood:            -1.5694e+05\n",
       "No. Observations:               97007   AIC:                         3.139e+05\n",
       "Df Residuals:                   97004   BIC:                         3.139e+05\n",
       "Df Model:                           2                                         \n",
       "Covariance Type:            nonrobust                                         \n",
       "=====================================================================================\n",
       "                        coef    std err          t      P>|t|      [0.025      0.975]\n",
       "-------------------------------------------------------------------------------------\n",
       "Intercept             4.6440      0.008    599.083      0.000       4.629       4.659\n",
       "wait_time            -0.0388      0.001    -66.715      0.000      -0.040      -0.038\n",
       "delay_vs_expected    -0.0191      0.001    -16.399      0.000      -0.021      -0.017\n",
       "==============================================================================\n",
       "Omnibus:                    19637.196   Durbin-Watson:                   2.006\n",
       "Prob(Omnibus):                  0.000   Jarque-Bera (JB):            38268.583\n",
       "Skew:                          -1.235   Prob(JB):                         0.00\n",
       "Kurtosis:                       4.834   Cond. No.                         31.9\n",
       "==============================================================================\n",
       "\n",
       "Warnings:\n",
       "[1] Standard Errors assume that the covariance matrix of the errors is correctly specified.\n",
       "\"\"\""
      ]
     },
     "execution_count": 24,
     "metadata": {},
     "output_type": "execute_result"
    }
   ],
   "source": [
    "model3 = smf.ols('review_score ~ wait_time + delay_vs_expected', data=orders).fit()\n",
    "model3.summary()"
   ]
  },
  {
   "cell_type": "markdown",
   "id": "8a1fed73",
   "metadata": {},
   "source": [
    "**Interpretation of Results**"
   ]
  },
  {
   "cell_type": "markdown",
   "id": "c6a34f76",
   "metadata": {},
   "source": [
    "While holding `delay_vs_expected` constant, each additional day of **`wait_time`** reduces the `review_score` by **3.9%** on average (slope = -0.0388). \n",
    "\n",
    "While holding `wait_time` constant, each additional day of **`delay_vs_expected`** reduces the `review_score` by **1.9%** on average (slope = -0.0191).\n",
    "\n",
    "Therefore, in contrast to our *univariate analysis*, which suggested **`delay_vs_expected`** (**-7.4%**) has a stronger association with a low `review_score` than **`wait_time`** (**-4.6%**), we find the opposite to be the case in our bivariate analysis.\n",
    "\n",
    "With our *bivariate regression model* that considers both features, the **`wait_time`** (**-3.9%**) has a stronger association with a low `review_score` than **`delay_vs_expected`** (**-1.9%**).\n",
    "\n",
    "- Both features show **p-values** close to zero indicating that they are **statistically significant**\n",
    "- Within the **95% confidence interval**, slopes for the **partial coefficients** do not contain zero which allows us to consider them **reliable**\n",
    "- **R-squared** is relatively low: only **11.5%** of the variation in `review_score` is explained by the variation of `wait_time` and `delay_vs_expected`"
   ]
  },
  {
   "cell_type": "markdown",
   "id": "9f5e5685",
   "metadata": {},
   "source": [
    "### 3.5.2. Multivariate Regression Model <a id=multivariate-regression-model></a>"
   ]
  },
  {
   "cell_type": "markdown",
   "id": "8dd1d664",
   "metadata": {},
   "source": [
    "In this next model we'll add other features from our data to build a more complete picture of which factors impact the `review_score`. Since the **R-squared** in our previous model with only two features was relatively low, perhaps we'll see an improvement here. "
   ]
  },
  {
   "cell_type": "code",
   "execution_count": 25,
   "id": "1dbd1c22",
   "metadata": {},
   "outputs": [],
   "source": [
    "# Features to include in the multivariate model\n",
    "features = [\n",
    "    'wait_time',\n",
    "    'delay_vs_expected',\n",
    "    'number_of_products',\n",
    "    'number_of_sellers',\n",
    "    'price',\n",
    "    'freight_value']"
   ]
  },
  {
   "cell_type": "markdown",
   "id": "f1bc80e6",
   "metadata": {},
   "source": [
    "#### 3.5.2.1. Feature Scaling <a id=feature-scaling></a>"
   ]
  },
  {
   "cell_type": "markdown",
   "id": "b92b2f61",
   "metadata": {},
   "source": [
    "Because these features are in different units, we'll standardize them first before putting them into our regression model. "
   ]
  },
  {
   "cell_type": "code",
   "execution_count": 26,
   "id": "f08d3276",
   "metadata": {},
   "outputs": [
    {
     "data": {
      "text/html": [
       "<div>\n",
       "<style scoped>\n",
       "    .dataframe tbody tr th:only-of-type {\n",
       "        vertical-align: middle;\n",
       "    }\n",
       "\n",
       "    .dataframe tbody tr th {\n",
       "        vertical-align: top;\n",
       "    }\n",
       "\n",
       "    .dataframe thead th {\n",
       "        text-align: right;\n",
       "    }\n",
       "</style>\n",
       "<table border=\"1\" class=\"dataframe\">\n",
       "  <thead>\n",
       "    <tr style=\"text-align: right;\">\n",
       "      <th></th>\n",
       "      <th>order_id</th>\n",
       "      <th>wait_time</th>\n",
       "      <th>expected_wait_time</th>\n",
       "      <th>delay_vs_expected</th>\n",
       "      <th>order_status</th>\n",
       "      <th>dim_is_five_star</th>\n",
       "      <th>dim_is_one_star</th>\n",
       "      <th>review_score</th>\n",
       "      <th>number_of_products</th>\n",
       "      <th>number_of_sellers</th>\n",
       "      <th>price</th>\n",
       "      <th>freight_value</th>\n",
       "    </tr>\n",
       "  </thead>\n",
       "  <tbody>\n",
       "    <tr>\n",
       "      <th>0</th>\n",
       "      <td>e481f51cbdc54678b7cc49136f2d6af7</td>\n",
       "      <td>-0.432597</td>\n",
       "      <td>15.544063</td>\n",
       "      <td>-0.16311</td>\n",
       "      <td>delivered</td>\n",
       "      <td>0</td>\n",
       "      <td>0</td>\n",
       "      <td>4</td>\n",
       "      <td>-0.264063</td>\n",
       "      <td>-0.112854</td>\n",
       "      <td>-0.512242</td>\n",
       "      <td>-0.652992</td>\n",
       "    </tr>\n",
       "    <tr>\n",
       "      <th>1</th>\n",
       "      <td>53cdb2fc8bc7dce0b6741e2150273451</td>\n",
       "      <td>0.127585</td>\n",
       "      <td>19.137766</td>\n",
       "      <td>-0.16311</td>\n",
       "      <td>delivered</td>\n",
       "      <td>0</td>\n",
       "      <td>0</td>\n",
       "      <td>4</td>\n",
       "      <td>-0.264063</td>\n",
       "      <td>-0.112854</td>\n",
       "      <td>-0.087186</td>\n",
       "      <td>-0.000959</td>\n",
       "    </tr>\n",
       "    <tr>\n",
       "      <th>2</th>\n",
       "      <td>47770eb9100c2d0c44946d9cf07ec65d</td>\n",
       "      <td>-0.332241</td>\n",
       "      <td>26.639711</td>\n",
       "      <td>-0.16311</td>\n",
       "      <td>delivered</td>\n",
       "      <td>1</td>\n",
       "      <td>0</td>\n",
       "      <td>5</td>\n",
       "      <td>-0.264063</td>\n",
       "      <td>-0.112854</td>\n",
       "      <td>0.110225</td>\n",
       "      <td>-0.165361</td>\n",
       "    </tr>\n",
       "    <tr>\n",
       "      <th>3</th>\n",
       "      <td>949d5b44dbf5de918fe9c16f97b45f8a</td>\n",
       "      <td>0.067507</td>\n",
       "      <td>26.188819</td>\n",
       "      <td>-0.16311</td>\n",
       "      <td>delivered</td>\n",
       "      <td>1</td>\n",
       "      <td>0</td>\n",
       "      <td>5</td>\n",
       "      <td>-0.264063</td>\n",
       "      <td>-0.112854</td>\n",
       "      <td>-0.440321</td>\n",
       "      <td>0.205239</td>\n",
       "    </tr>\n",
       "    <tr>\n",
       "      <th>4</th>\n",
       "      <td>ad21c59c0840e6cb83a9ceb5573f8159</td>\n",
       "      <td>-1.015545</td>\n",
       "      <td>12.112049</td>\n",
       "      <td>-0.16311</td>\n",
       "      <td>delivered</td>\n",
       "      <td>1</td>\n",
       "      <td>0</td>\n",
       "      <td>5</td>\n",
       "      <td>-0.264063</td>\n",
       "      <td>-0.112854</td>\n",
       "      <td>-0.560588</td>\n",
       "      <td>-0.652992</td>\n",
       "    </tr>\n",
       "  </tbody>\n",
       "</table>\n",
       "</div>"
      ],
      "text/plain": [
       "                           order_id  wait_time  expected_wait_time  \\\n",
       "0  e481f51cbdc54678b7cc49136f2d6af7  -0.432597           15.544063   \n",
       "1  53cdb2fc8bc7dce0b6741e2150273451   0.127585           19.137766   \n",
       "2  47770eb9100c2d0c44946d9cf07ec65d  -0.332241           26.639711   \n",
       "3  949d5b44dbf5de918fe9c16f97b45f8a   0.067507           26.188819   \n",
       "4  ad21c59c0840e6cb83a9ceb5573f8159  -1.015545           12.112049   \n",
       "\n",
       "   delay_vs_expected order_status  dim_is_five_star  dim_is_one_star  \\\n",
       "0           -0.16311    delivered                 0                0   \n",
       "1           -0.16311    delivered                 0                0   \n",
       "2           -0.16311    delivered                 1                0   \n",
       "3           -0.16311    delivered                 1                0   \n",
       "4           -0.16311    delivered                 1                0   \n",
       "\n",
       "   review_score  number_of_products  number_of_sellers     price  \\\n",
       "0             4           -0.264063          -0.112854 -0.512242   \n",
       "1             4           -0.264063          -0.112854 -0.087186   \n",
       "2             5           -0.264063          -0.112854  0.110225   \n",
       "3             5           -0.264063          -0.112854 -0.440321   \n",
       "4             5           -0.264063          -0.112854 -0.560588   \n",
       "\n",
       "   freight_value  \n",
       "0      -0.652992  \n",
       "1      -0.000959  \n",
       "2      -0.165361  \n",
       "3       0.205239  \n",
       "4      -0.652992  "
      ]
     },
     "execution_count": 26,
     "metadata": {},
     "output_type": "execute_result"
    }
   ],
   "source": [
    "# Standardize features by calculating respective z-scores: Z = (X - mu) / sigma\n",
    "\n",
    "orders_standardized = orders.copy()\n",
    "for f in features:\n",
    "    mu = orders[f].mean()\n",
    "    sigma = orders[f].std()\n",
    "    orders_standardized[f] = orders[f].map(lambda x: (x - mu) / sigma)\n",
    "\n",
    "orders_standardized.head()"
   ]
  },
  {
   "cell_type": "markdown",
   "id": "9201f08d",
   "metadata": {},
   "source": [
    "#### 3.5.2.2. Build Model <a id=build-model></a>"
   ]
  },
  {
   "cell_type": "code",
   "execution_count": 27,
   "id": "92afcba4",
   "metadata": {},
   "outputs": [
    {
     "data": {
      "text/plain": [
       "'review_score ~ wait_time + delay_vs_expected + number_of_products + number_of_sellers + price + freight_value'"
      ]
     },
     "execution_count": 27,
     "metadata": {},
     "output_type": "execute_result"
    }
   ],
   "source": [
    "# Model4; create formula for stats.model\n",
    "formula = 'review_score ~ ' + ' + ' .join(features)\n",
    "formula"
   ]
  },
  {
   "cell_type": "code",
   "execution_count": 28,
   "id": "7e35e52c",
   "metadata": {
    "scrolled": true
   },
   "outputs": [
    {
     "data": {
      "text/html": [
       "<table class=\"simpletable\">\n",
       "<caption>OLS Regression Results</caption>\n",
       "<tr>\n",
       "  <th>Dep. Variable:</th>      <td>review_score</td>   <th>  R-squared:         </th>  <td>   0.141</td>  \n",
       "</tr>\n",
       "<tr>\n",
       "  <th>Model:</th>                   <td>OLS</td>       <th>  Adj. R-squared:    </th>  <td>   0.141</td>  \n",
       "</tr>\n",
       "<tr>\n",
       "  <th>Method:</th>             <td>Least Squares</td>  <th>  F-statistic:       </th>  <td>   2661.</td>  \n",
       "</tr>\n",
       "<tr>\n",
       "  <th>Date:</th>             <td>Tue, 22 Mar 2022</td> <th>  Prob (F-statistic):</th>   <td>  0.00</td>   \n",
       "</tr>\n",
       "<tr>\n",
       "  <th>Time:</th>                 <td>10:30:30</td>     <th>  Log-Likelihood:    </th> <td>-1.5545e+05</td>\n",
       "</tr>\n",
       "<tr>\n",
       "  <th>No. Observations:</th>      <td> 97007</td>      <th>  AIC:               </th>  <td>3.109e+05</td> \n",
       "</tr>\n",
       "<tr>\n",
       "  <th>Df Residuals:</th>          <td> 97000</td>      <th>  BIC:               </th>  <td>3.110e+05</td> \n",
       "</tr>\n",
       "<tr>\n",
       "  <th>Df Model:</th>              <td>     6</td>      <th>                     </th>      <td> </td>     \n",
       "</tr>\n",
       "<tr>\n",
       "  <th>Covariance Type:</th>      <td>nonrobust</td>    <th>                     </th>      <td> </td>     \n",
       "</tr>\n",
       "</table>\n",
       "<table class=\"simpletable\">\n",
       "<tr>\n",
       "           <td></td>             <th>coef</th>     <th>std err</th>      <th>t</th>      <th>P>|t|</th>  <th>[0.025</th>    <th>0.975]</th>  \n",
       "</tr>\n",
       "<tr>\n",
       "  <th>Intercept</th>          <td>    4.1422</td> <td>    0.004</td> <td> 1073.800</td> <td> 0.000</td> <td>    4.135</td> <td>    4.150</td>\n",
       "</tr>\n",
       "<tr>\n",
       "  <th>wait_time</th>          <td>   -0.3898</td> <td>    0.006</td> <td>  -69.175</td> <td> 0.000</td> <td>   -0.401</td> <td>   -0.379</td>\n",
       "</tr>\n",
       "<tr>\n",
       "  <th>delay_vs_expected</th>  <td>   -0.0816</td> <td>    0.006</td> <td>  -14.772</td> <td> 0.000</td> <td>   -0.092</td> <td>   -0.071</td>\n",
       "</tr>\n",
       "<tr>\n",
       "  <th>number_of_products</th> <td>   -0.1465</td> <td>    0.004</td> <td>  -32.751</td> <td> 0.000</td> <td>   -0.155</td> <td>   -0.138</td>\n",
       "</tr>\n",
       "<tr>\n",
       "  <th>number_of_sellers</th>  <td>   -0.1305</td> <td>    0.004</td> <td>  -32.377</td> <td> 0.000</td> <td>   -0.138</td> <td>   -0.123</td>\n",
       "</tr>\n",
       "<tr>\n",
       "  <th>price</th>              <td>   -0.0099</td> <td>    0.004</td> <td>   -2.339</td> <td> 0.019</td> <td>   -0.018</td> <td>   -0.002</td>\n",
       "</tr>\n",
       "<tr>\n",
       "  <th>freight_value</th>      <td>    0.0350</td> <td>    0.005</td> <td>    7.301</td> <td> 0.000</td> <td>    0.026</td> <td>    0.044</td>\n",
       "</tr>\n",
       "</table>\n",
       "<table class=\"simpletable\">\n",
       "<tr>\n",
       "  <th>Omnibus:</th>       <td>18510.939</td> <th>  Durbin-Watson:     </th> <td>   2.009</td> \n",
       "</tr>\n",
       "<tr>\n",
       "  <th>Prob(Omnibus):</th>  <td> 0.000</td>   <th>  Jarque-Bera (JB):  </th> <td>36369.606</td>\n",
       "</tr>\n",
       "<tr>\n",
       "  <th>Skew:</th>           <td>-1.162</td>   <th>  Prob(JB):          </th> <td>    0.00</td> \n",
       "</tr>\n",
       "<tr>\n",
       "  <th>Kurtosis:</th>       <td> 4.897</td>   <th>  Cond. No.          </th> <td>    2.63</td> \n",
       "</tr>\n",
       "</table><br/><br/>Warnings:<br/>[1] Standard Errors assume that the covariance matrix of the errors is correctly specified."
      ],
      "text/plain": [
       "<class 'statsmodels.iolib.summary.Summary'>\n",
       "\"\"\"\n",
       "                            OLS Regression Results                            \n",
       "==============================================================================\n",
       "Dep. Variable:           review_score   R-squared:                       0.141\n",
       "Model:                            OLS   Adj. R-squared:                  0.141\n",
       "Method:                 Least Squares   F-statistic:                     2661.\n",
       "Date:                Tue, 22 Mar 2022   Prob (F-statistic):               0.00\n",
       "Time:                        10:30:30   Log-Likelihood:            -1.5545e+05\n",
       "No. Observations:               97007   AIC:                         3.109e+05\n",
       "Df Residuals:                   97000   BIC:                         3.110e+05\n",
       "Df Model:                           6                                         \n",
       "Covariance Type:            nonrobust                                         \n",
       "======================================================================================\n",
       "                         coef    std err          t      P>|t|      [0.025      0.975]\n",
       "--------------------------------------------------------------------------------------\n",
       "Intercept              4.1422      0.004   1073.800      0.000       4.135       4.150\n",
       "wait_time             -0.3898      0.006    -69.175      0.000      -0.401      -0.379\n",
       "delay_vs_expected     -0.0816      0.006    -14.772      0.000      -0.092      -0.071\n",
       "number_of_products    -0.1465      0.004    -32.751      0.000      -0.155      -0.138\n",
       "number_of_sellers     -0.1305      0.004    -32.377      0.000      -0.138      -0.123\n",
       "price                 -0.0099      0.004     -2.339      0.019      -0.018      -0.002\n",
       "freight_value          0.0350      0.005      7.301      0.000       0.026       0.044\n",
       "==============================================================================\n",
       "Omnibus:                    18510.939   Durbin-Watson:                   2.009\n",
       "Prob(Omnibus):                  0.000   Jarque-Bera (JB):            36369.606\n",
       "Skew:                          -1.162   Prob(JB):                         0.00\n",
       "Kurtosis:                       4.897   Cond. No.                         2.63\n",
       "==============================================================================\n",
       "\n",
       "Warnings:\n",
       "[1] Standard Errors assume that the covariance matrix of the errors is correctly specified.\n",
       "\"\"\""
      ]
     },
     "execution_count": 28,
     "metadata": {},
     "output_type": "execute_result"
    }
   ],
   "source": [
    "model4 = smf.ols(formula = formula, data = orders_standardized).fit()\n",
    "model4.summary()"
   ]
  },
  {
   "cell_type": "markdown",
   "id": "2438bc4f",
   "metadata": {},
   "source": [
    "To more easily compare the various partial coefficents of the features, we'll plot them on a bar chart."
   ]
  },
  {
   "cell_type": "code",
   "execution_count": 29,
   "id": "a2b87223",
   "metadata": {},
   "outputs": [
    {
     "data": {
      "image/png": "[encoded data removed]",
      "text/plain": [
       "<Figure size 432x288 with 1 Axes>"
      ]
     },
     "metadata": {},
     "output_type": "display_data"
    }
   ],
   "source": [
    "# Regression Partial Coefficients Bar Chart\n",
    "model4.params[1:].sort_values().plot(kind='barh')\n",
    "plt.xlabel('Regression Partial Coefficients')\n",
    "plt.ylabel('Features');"
   ]
  },
  {
   "cell_type": "markdown",
   "id": "7c87923a",
   "metadata": {},
   "source": [
    "**Interpretation of Results**"
   ]
  },
  {
   "cell_type": "markdown",
   "id": "cd130e2f",
   "metadata": {},
   "source": [
    "With our new regression model which includes other features from our dataset, the **`wait_time`** variable (slope = -0.39) has the most explanatory power for `review_score` relative to the other features. \n",
    "\n",
    "The difference between the coefficients for `wait_time` and `delay_vs_expected` has also widened considerably compared to our previous regression models. \n",
    "\n",
    "Additionally, with this new model, we can see that an increase in `number_of_sellers` (slope = -0.13) or `number_of_products` (slope = -0.15) within an order leads to a decrease in `review_score`.\n",
    "\n",
    "- The **R-squared** for this new model has **increased only slightly** and still only explains about **14.1%** of the variance in the `review_score`. This suggests *most factors impacting the review score lie outside of the orders dataset.*\n",
    "- The **p-values** for our partial coefficients are mostly close to zero. However, the **coefficient** for `price` is **small relative to its standard error**, and the **95% confidence interval** is **close to containing the value of zero, which would make the coefficient less reliable**."
   ]
  },
  {
   "cell_type": "markdown",
   "id": "84e2716d",
   "metadata": {},
   "source": [
    "### 3.5.3. Multicollinearity Check with VIF <a id=multicollinearity-vif></a>"
   ]
  },
  {
   "cell_type": "markdown",
   "id": "d89ee809",
   "metadata": {},
   "source": [
    "We'll stick with the same set of features from our last multivariate regression model, but first let's confirm if we have any additional issues with multicollinearity by looking at the **variance inflation factor (VIF)**. Generally speaking, a value under 10 should be acceptable."
   ]
  },
  {
   "cell_type": "markdown",
   "id": "798aa71e",
   "metadata": {},
   "source": [
    "$ VIF = \\frac {1}{1 - R^2} $"
   ]
  },
  {
   "cell_type": "code",
   "execution_count": 30,
   "id": "7dcd6248",
   "metadata": {},
   "outputs": [
    {
     "data": {
      "text/html": [
       "<div>\n",
       "<style scoped>\n",
       "    .dataframe tbody tr th:only-of-type {\n",
       "        vertical-align: middle;\n",
       "    }\n",
       "\n",
       "    .dataframe tbody tr th {\n",
       "        vertical-align: top;\n",
       "    }\n",
       "\n",
       "    .dataframe thead th {\n",
       "        text-align: right;\n",
       "    }\n",
       "</style>\n",
       "<table border=\"1\" class=\"dataframe\">\n",
       "  <thead>\n",
       "    <tr style=\"text-align: right;\">\n",
       "      <th></th>\n",
       "      <th>wait_time</th>\n",
       "      <th>delay_vs_expected</th>\n",
       "      <th>number_of_products</th>\n",
       "      <th>number_of_sellers</th>\n",
       "      <th>price</th>\n",
       "      <th>freight_value</th>\n",
       "    </tr>\n",
       "  </thead>\n",
       "  <tbody>\n",
       "    <tr>\n",
       "      <th>0</th>\n",
       "      <td>8.436574</td>\n",
       "      <td>0.0</td>\n",
       "      <td>1</td>\n",
       "      <td>1</td>\n",
       "      <td>29.99</td>\n",
       "      <td>8.72</td>\n",
       "    </tr>\n",
       "    <tr>\n",
       "      <th>1</th>\n",
       "      <td>13.782037</td>\n",
       "      <td>0.0</td>\n",
       "      <td>1</td>\n",
       "      <td>1</td>\n",
       "      <td>118.70</td>\n",
       "      <td>22.76</td>\n",
       "    </tr>\n",
       "    <tr>\n",
       "      <th>2</th>\n",
       "      <td>9.394213</td>\n",
       "      <td>0.0</td>\n",
       "      <td>1</td>\n",
       "      <td>1</td>\n",
       "      <td>159.90</td>\n",
       "      <td>19.22</td>\n",
       "    </tr>\n",
       "    <tr>\n",
       "      <th>3</th>\n",
       "      <td>13.208750</td>\n",
       "      <td>0.0</td>\n",
       "      <td>1</td>\n",
       "      <td>1</td>\n",
       "      <td>45.00</td>\n",
       "      <td>27.20</td>\n",
       "    </tr>\n",
       "    <tr>\n",
       "      <th>4</th>\n",
       "      <td>2.873877</td>\n",
       "      <td>0.0</td>\n",
       "      <td>1</td>\n",
       "      <td>1</td>\n",
       "      <td>19.90</td>\n",
       "      <td>8.72</td>\n",
       "    </tr>\n",
       "  </tbody>\n",
       "</table>\n",
       "</div>"
      ],
      "text/plain": [
       "   wait_time  delay_vs_expected  number_of_products  number_of_sellers  \\\n",
       "0   8.436574                0.0                   1                  1   \n",
       "1  13.782037                0.0                   1                  1   \n",
       "2   9.394213                0.0                   1                  1   \n",
       "3  13.208750                0.0                   1                  1   \n",
       "4   2.873877                0.0                   1                  1   \n",
       "\n",
       "    price  freight_value  \n",
       "0   29.99           8.72  \n",
       "1  118.70          22.76  \n",
       "2  159.90          19.22  \n",
       "3   45.00          27.20  \n",
       "4   19.90           8.72  "
      ]
     },
     "execution_count": 30,
     "metadata": {},
     "output_type": "execute_result"
    }
   ],
   "source": [
    "# Check for multicollinearity by looking at variance inflation factor (VIF)\n",
    "features = ['wait_time', 'delay_vs_expected', 'number_of_products', 'number_of_sellers', 'price', 'freight_value']\n",
    "\n",
    "X = orders[features]\n",
    "X.head()"
   ]
  },
  {
   "cell_type": "code",
   "execution_count": 31,
   "id": "2e905f16",
   "metadata": {
    "scrolled": true
   },
   "outputs": [
    {
     "data": {
      "text/html": [
       "<div>\n",
       "<style scoped>\n",
       "    .dataframe tbody tr th:only-of-type {\n",
       "        vertical-align: middle;\n",
       "    }\n",
       "\n",
       "    .dataframe tbody tr th {\n",
       "        vertical-align: top;\n",
       "    }\n",
       "\n",
       "    .dataframe thead th {\n",
       "        text-align: right;\n",
       "    }\n",
       "</style>\n",
       "<table border=\"1\" class=\"dataframe\">\n",
       "  <thead>\n",
       "    <tr style=\"text-align: right;\">\n",
       "      <th></th>\n",
       "      <th>VIF</th>\n",
       "      <th>Features</th>\n",
       "    </tr>\n",
       "  </thead>\n",
       "  <tbody>\n",
       "    <tr>\n",
       "      <th>0</th>\n",
       "      <td>5.482640</td>\n",
       "      <td>wait_time</td>\n",
       "    </tr>\n",
       "    <tr>\n",
       "      <th>1</th>\n",
       "      <td>2.057560</td>\n",
       "      <td>delay_vs_expected</td>\n",
       "    </tr>\n",
       "    <tr>\n",
       "      <th>2</th>\n",
       "      <td>7.363534</td>\n",
       "      <td>number_of_products</td>\n",
       "    </tr>\n",
       "    <tr>\n",
       "      <th>3</th>\n",
       "      <td>8.910229</td>\n",
       "      <td>number_of_sellers</td>\n",
       "    </tr>\n",
       "    <tr>\n",
       "      <th>4</th>\n",
       "      <td>1.721790</td>\n",
       "      <td>price</td>\n",
       "    </tr>\n",
       "    <tr>\n",
       "      <th>5</th>\n",
       "      <td>3.265091</td>\n",
       "      <td>freight_value</td>\n",
       "    </tr>\n",
       "  </tbody>\n",
       "</table>\n",
       "</div>"
      ],
      "text/plain": [
       "        VIF            Features\n",
       "0  5.482640           wait_time\n",
       "1  2.057560   delay_vs_expected\n",
       "2  7.363534  number_of_products\n",
       "3  8.910229   number_of_sellers\n",
       "4  1.721790               price\n",
       "5  3.265091       freight_value"
      ]
     },
     "execution_count": 31,
     "metadata": {},
     "output_type": "execute_result"
    }
   ],
   "source": [
    "df = pd.DataFrame()\n",
    "df['VIF'] = [vif(X.values, i) for i in range(X.shape[1])]\n",
    "df['Features'] = X.columns\n",
    "df"
   ]
  },
  {
   "cell_type": "markdown",
   "id": "163ae530",
   "metadata": {},
   "source": [
    "Since all of our features still come in below our acceptable threshold of 10 for VIF, we'll keep this feature set. "
   ]
  },
  {
   "cell_type": "markdown",
   "id": "c6f959ab",
   "metadata": {},
   "source": [
    "### 3.5.4. Multivariate Regression Model after Feature Selection <a id=multivariate-after-feature-selection></a>"
   ]
  },
  {
   "cell_type": "markdown",
   "id": "39386212",
   "metadata": {},
   "source": [
    "After removing some features due to multicollinearity, let's re-run our linear regression model."
   ]
  },
  {
   "cell_type": "code",
   "execution_count": 32,
   "id": "3711ce9d",
   "metadata": {},
   "outputs": [
    {
     "data": {
      "text/html": [
       "<table class=\"simpletable\">\n",
       "<caption>OLS Regression Results</caption>\n",
       "<tr>\n",
       "  <th>Dep. Variable:</th>      <td>review_score</td>   <th>  R-squared:         </th>  <td>   0.141</td>  \n",
       "</tr>\n",
       "<tr>\n",
       "  <th>Model:</th>                   <td>OLS</td>       <th>  Adj. R-squared:    </th>  <td>   0.141</td>  \n",
       "</tr>\n",
       "<tr>\n",
       "  <th>Method:</th>             <td>Least Squares</td>  <th>  F-statistic:       </th>  <td>   3192.</td>  \n",
       "</tr>\n",
       "<tr>\n",
       "  <th>Date:</th>             <td>Tue, 22 Mar 2022</td> <th>  Prob (F-statistic):</th>   <td>  0.00</td>   \n",
       "</tr>\n",
       "<tr>\n",
       "  <th>Time:</th>                 <td>10:30:31</td>     <th>  Log-Likelihood:    </th> <td>-1.5545e+05</td>\n",
       "</tr>\n",
       "<tr>\n",
       "  <th>No. Observations:</th>      <td> 97007</td>      <th>  AIC:               </th>  <td>3.109e+05</td> \n",
       "</tr>\n",
       "<tr>\n",
       "  <th>Df Residuals:</th>          <td> 97001</td>      <th>  BIC:               </th>  <td>3.110e+05</td> \n",
       "</tr>\n",
       "<tr>\n",
       "  <th>Df Model:</th>              <td>     5</td>      <th>                     </th>      <td> </td>     \n",
       "</tr>\n",
       "<tr>\n",
       "  <th>Covariance Type:</th>      <td>nonrobust</td>    <th>                     </th>      <td> </td>     \n",
       "</tr>\n",
       "</table>\n",
       "<table class=\"simpletable\">\n",
       "<tr>\n",
       "           <td></td>             <th>coef</th>     <th>std err</th>      <th>t</th>      <th>P>|t|</th>  <th>[0.025</th>    <th>0.975]</th>  \n",
       "</tr>\n",
       "<tr>\n",
       "  <th>Intercept</th>          <td>    4.1422</td> <td>    0.004</td> <td> 1073.775</td> <td> 0.000</td> <td>    4.135</td> <td>    4.150</td>\n",
       "</tr>\n",
       "<tr>\n",
       "  <th>wait_time</th>          <td>   -0.3894</td> <td>    0.006</td> <td>  -69.134</td> <td> 0.000</td> <td>   -0.400</td> <td>   -0.378</td>\n",
       "</tr>\n",
       "<tr>\n",
       "  <th>delay_vs_expected</th>  <td>   -0.0820</td> <td>    0.006</td> <td>  -14.844</td> <td> 0.000</td> <td>   -0.093</td> <td>   -0.071</td>\n",
       "</tr>\n",
       "<tr>\n",
       "  <th>number_of_products</th> <td>   -0.1461</td> <td>    0.004</td> <td>  -32.689</td> <td> 0.000</td> <td>   -0.155</td> <td>   -0.137</td>\n",
       "</tr>\n",
       "<tr>\n",
       "  <th>number_of_sellers</th>  <td>   -0.1304</td> <td>    0.004</td> <td>  -32.363</td> <td> 0.000</td> <td>   -0.138</td> <td>   -0.123</td>\n",
       "</tr>\n",
       "<tr>\n",
       "  <th>freight_value</th>      <td>    0.0307</td> <td>    0.004</td> <td>    6.934</td> <td> 0.000</td> <td>    0.022</td> <td>    0.039</td>\n",
       "</tr>\n",
       "</table>\n",
       "<table class=\"simpletable\">\n",
       "<tr>\n",
       "  <th>Omnibus:</th>       <td>18518.775</td> <th>  Durbin-Watson:     </th> <td>   2.008</td> \n",
       "</tr>\n",
       "<tr>\n",
       "  <th>Prob(Omnibus):</th>  <td> 0.000</td>   <th>  Jarque-Bera (JB):  </th> <td>36400.290</td>\n",
       "</tr>\n",
       "<tr>\n",
       "  <th>Skew:</th>           <td>-1.162</td>   <th>  Prob(JB):          </th> <td>    0.00</td> \n",
       "</tr>\n",
       "<tr>\n",
       "  <th>Kurtosis:</th>       <td> 4.899</td>   <th>  Cond. No.          </th> <td>    2.55</td> \n",
       "</tr>\n",
       "</table><br/><br/>Warnings:<br/>[1] Standard Errors assume that the covariance matrix of the errors is correctly specified."
      ],
      "text/plain": [
       "<class 'statsmodels.iolib.summary.Summary'>\n",
       "\"\"\"\n",
       "                            OLS Regression Results                            \n",
       "==============================================================================\n",
       "Dep. Variable:           review_score   R-squared:                       0.141\n",
       "Model:                            OLS   Adj. R-squared:                  0.141\n",
       "Method:                 Least Squares   F-statistic:                     3192.\n",
       "Date:                Tue, 22 Mar 2022   Prob (F-statistic):               0.00\n",
       "Time:                        10:30:31   Log-Likelihood:            -1.5545e+05\n",
       "No. Observations:               97007   AIC:                         3.109e+05\n",
       "Df Residuals:                   97001   BIC:                         3.110e+05\n",
       "Df Model:                           5                                         \n",
       "Covariance Type:            nonrobust                                         \n",
       "======================================================================================\n",
       "                         coef    std err          t      P>|t|      [0.025      0.975]\n",
       "--------------------------------------------------------------------------------------\n",
       "Intercept              4.1422      0.004   1073.775      0.000       4.135       4.150\n",
       "wait_time             -0.3894      0.006    -69.134      0.000      -0.400      -0.378\n",
       "delay_vs_expected     -0.0820      0.006    -14.844      0.000      -0.093      -0.071\n",
       "number_of_products    -0.1461      0.004    -32.689      0.000      -0.155      -0.137\n",
       "number_of_sellers     -0.1304      0.004    -32.363      0.000      -0.138      -0.123\n",
       "freight_value          0.0307      0.004      6.934      0.000       0.022       0.039\n",
       "==============================================================================\n",
       "Omnibus:                    18518.775   Durbin-Watson:                   2.008\n",
       "Prob(Omnibus):                  0.000   Jarque-Bera (JB):            36400.290\n",
       "Skew:                          -1.162   Prob(JB):                         0.00\n",
       "Kurtosis:                       4.899   Cond. No.                         2.55\n",
       "==============================================================================\n",
       "\n",
       "Warnings:\n",
       "[1] Standard Errors assume that the covariance matrix of the errors is correctly specified.\n",
       "\"\"\""
      ]
     },
     "execution_count": 32,
     "metadata": {},
     "output_type": "execute_result"
    }
   ],
   "source": [
    "# Model 5 - New features list after handling multicollinearity\n",
    "features2 = ['wait_time', 'delay_vs_expected', 'number_of_products', 'number_of_sellers', 'freight_value']\n",
    "formula = 'review_score ~ ' + ' + ' .join(features2)\n",
    "model5 = smf.ols(formula = formula, data = orders_standardized).fit()\n",
    "model5.summary()"
   ]
  },
  {
   "cell_type": "markdown",
   "id": "895fb38c",
   "metadata": {},
   "source": [
    "Our new model's **R-squared** is still **14%**, and the coefficients for our features *have not changed much* indicating that with our new slimmed down model, we're able to achieve a similar level of explanatory power!"
   ]
  },
  {
   "cell_type": "markdown",
   "id": "771fd43f",
   "metadata": {},
   "source": [
    " ### 3.5.5. Residuals <a id=residuals></a>"
   ]
  },
  {
   "cell_type": "markdown",
   "id": "c05a1bf0",
   "metadata": {},
   "source": [
    "Besides checking the statistical significance of our feature coefficients and the R-squared of our model, we can evaluate the performance of our regression model by looking at the **residuals** (predicted values - real values). More specifically, we can calculate the **Root Mean Square Error (RMSE)** as a gauge of how much on average our regression model is predicting scores that differ from the real scores.     "
   ]
  },
  {
   "cell_type": "code",
   "execution_count": 33,
   "id": "a497c0ea",
   "metadata": {},
   "outputs": [
    {
     "data": {
      "text/plain": [
       "0    0.357296\n",
       "1    0.159207\n",
       "2   -0.666797\n",
       "3   -0.811064\n",
       "4   -0.415714\n",
       "dtype: float64"
      ]
     },
     "execution_count": 33,
     "metadata": {},
     "output_type": "execute_result"
    }
   ],
   "source": [
    "# Calculate residuals (predicted values - real values)\n",
    "predicted_review_score = model5.predict(orders_standardized[features])\n",
    "residuals = predicted_review_score - orders_standardized.review_score\n",
    "residuals.head()"
   ]
  },
  {
   "cell_type": "code",
   "execution_count": 34,
   "id": "f51be5b9",
   "metadata": {},
   "outputs": [
    {
     "data": {
      "text/plain": [
       "1.2014612515439624"
      ]
     },
     "execution_count": 34,
     "metadata": {},
     "output_type": "execute_result"
    }
   ],
   "source": [
    "# Calculate the RMSE \n",
    "RMSE = (residuals.map(lambda x: x**2).sum() / len(residuals))**0.5\n",
    "RMSE"
   ]
  },
  {
   "cell_type": "markdown",
   "id": "82ee9417",
   "metadata": {},
   "source": [
    "Here the **RMSE** tells us that on average our predicted scores are about **1.2** stars off of the real scores. On a 5-star rating system, that's not great, but it's not horrible either. "
   ]
  },
  {
   "cell_type": "markdown",
   "id": "2ce006e0",
   "metadata": {},
   "source": [
    "Let's further evaluate our residuals by creating a density plot."
   ]
  },
  {
   "cell_type": "code",
   "execution_count": 35,
   "id": "5b263383",
   "metadata": {},
   "outputs": [
    {
     "data": {
      "image/png": "[encoded data removed]",
      "text/plain": [
       "<Figure size 432x288 with 1 Axes>"
      ]
     },
     "metadata": {},
     "output_type": "display_data"
    }
   ],
   "source": [
    "# Create density plot of residuals\n",
    "sns.histplot(residuals, kde=True, stat='density', discrete=True)\n",
    "plt.title('Residuals Density Plot');"
   ]
  },
  {
   "cell_type": "markdown",
   "id": "5cd08bc9",
   "metadata": {},
   "source": [
    "Our residuals plot has an odd shape, partly because our model with our current set of features still lacks explanatory power (low R-Squared), and also because we are using a linear regression model, which treats our target variable as continuous. However, perhaps it would be better to treat our target variable as a categorical variable that is discrete. Let's model our data using a logistic regression!"
   ]
  },
  {
   "cell_type": "markdown",
   "id": "baf4e654",
   "metadata": {},
   "source": [
    "## 3.6. Logistic Regression <a id=logistic-regression></a>"
   ]
  },
  {
   "cell_type": "markdown",
   "id": "19e5ed20",
   "metadata": {},
   "source": [
    "Rather than use a linear regression to predict the full range of `review_score`, let's instead use a logistic regression model to focus on what features lead to getting either the worst score (`dim_is_one_star`) or the best score (`dim_is_five_star`). "
   ]
  },
  {
   "cell_type": "markdown",
   "id": "ce8ab3c6",
   "metadata": {},
   "source": [
    "### 3.6.1. Logistic Regression | 1-Star Review Model <a id=logistic-1-star></a>"
   ]
  },
  {
   "cell_type": "code",
   "execution_count": 36,
   "id": "f4f96363",
   "metadata": {
    "scrolled": true
   },
   "outputs": [
    {
     "name": "stdout",
     "output_type": "stream",
     "text": [
      "Optimization terminated successfully.\n",
      "         Current function value: 0.280352\n",
      "         Iterations 7\n"
     ]
    },
    {
     "data": {
      "text/html": [
       "<table class=\"simpletable\">\n",
       "<caption>Logit Regression Results</caption>\n",
       "<tr>\n",
       "  <th>Dep. Variable:</th>    <td>dim_is_one_star</td> <th>  No. Observations:  </th>  <td> 97007</td> \n",
       "</tr>\n",
       "<tr>\n",
       "  <th>Model:</th>                 <td>Logit</td>      <th>  Df Residuals:      </th>  <td> 97000</td> \n",
       "</tr>\n",
       "<tr>\n",
       "  <th>Method:</th>                 <td>MLE</td>       <th>  Df Model:          </th>  <td>     6</td> \n",
       "</tr>\n",
       "<tr>\n",
       "  <th>Date:</th>            <td>Tue, 22 Mar 2022</td> <th>  Pseudo R-squ.:     </th>  <td>0.1407</td> \n",
       "</tr>\n",
       "<tr>\n",
       "  <th>Time:</th>                <td>10:30:32</td>     <th>  Log-Likelihood:    </th> <td> -27196.</td>\n",
       "</tr>\n",
       "<tr>\n",
       "  <th>converged:</th>             <td>True</td>       <th>  LL-Null:           </th> <td> -31650.</td>\n",
       "</tr>\n",
       "<tr>\n",
       "  <th>Covariance Type:</th>     <td>nonrobust</td>    <th>  LLR p-value:       </th>  <td> 0.000</td> \n",
       "</tr>\n",
       "</table>\n",
       "<table class=\"simpletable\">\n",
       "<tr>\n",
       "           <td></td>             <th>coef</th>     <th>std err</th>      <th>z</th>      <th>P>|z|</th>  <th>[0.025</th>    <th>0.975]</th>  \n",
       "</tr>\n",
       "<tr>\n",
       "  <th>Intercept</th>          <td>   -2.4222</td> <td>    0.013</td> <td> -192.272</td> <td> 0.000</td> <td>   -2.447</td> <td>   -2.398</td>\n",
       "</tr>\n",
       "<tr>\n",
       "  <th>wait_time</th>          <td>    0.6184</td> <td>    0.015</td> <td>   40.920</td> <td> 0.000</td> <td>    0.589</td> <td>    0.648</td>\n",
       "</tr>\n",
       "<tr>\n",
       "  <th>delay_vs_expected</th>  <td>    0.3167</td> <td>    0.018</td> <td>   17.660</td> <td> 0.000</td> <td>    0.282</td> <td>    0.352</td>\n",
       "</tr>\n",
       "<tr>\n",
       "  <th>number_of_products</th> <td>    0.2740</td> <td>    0.011</td> <td>   25.910</td> <td> 0.000</td> <td>    0.253</td> <td>    0.295</td>\n",
       "</tr>\n",
       "<tr>\n",
       "  <th>number_of_sellers</th>  <td>    0.1747</td> <td>    0.008</td> <td>   22.524</td> <td> 0.000</td> <td>    0.159</td> <td>    0.190</td>\n",
       "</tr>\n",
       "<tr>\n",
       "  <th>price</th>              <td>    0.0627</td> <td>    0.011</td> <td>    5.684</td> <td> 0.000</td> <td>    0.041</td> <td>    0.084</td>\n",
       "</tr>\n",
       "<tr>\n",
       "  <th>freight_value</th>      <td>   -0.0718</td> <td>    0.014</td> <td>   -5.308</td> <td> 0.000</td> <td>   -0.098</td> <td>   -0.045</td>\n",
       "</tr>\n",
       "</table>"
      ],
      "text/plain": [
       "<class 'statsmodels.iolib.summary.Summary'>\n",
       "\"\"\"\n",
       "                           Logit Regression Results                           \n",
       "==============================================================================\n",
       "Dep. Variable:        dim_is_one_star   No. Observations:                97007\n",
       "Model:                          Logit   Df Residuals:                    97000\n",
       "Method:                           MLE   Df Model:                            6\n",
       "Date:                Tue, 22 Mar 2022   Pseudo R-squ.:                  0.1407\n",
       "Time:                        10:30:32   Log-Likelihood:                -27196.\n",
       "converged:                       True   LL-Null:                       -31650.\n",
       "Covariance Type:            nonrobust   LLR p-value:                     0.000\n",
       "======================================================================================\n",
       "                         coef    std err          z      P>|z|      [0.025      0.975]\n",
       "--------------------------------------------------------------------------------------\n",
       "Intercept             -2.4222      0.013   -192.272      0.000      -2.447      -2.398\n",
       "wait_time              0.6184      0.015     40.920      0.000       0.589       0.648\n",
       "delay_vs_expected      0.3167      0.018     17.660      0.000       0.282       0.352\n",
       "number_of_products     0.2740      0.011     25.910      0.000       0.253       0.295\n",
       "number_of_sellers      0.1747      0.008     22.524      0.000       0.159       0.190\n",
       "price                  0.0627      0.011      5.684      0.000       0.041       0.084\n",
       "freight_value         -0.0718      0.014     -5.308      0.000      -0.098      -0.045\n",
       "======================================================================================\n",
       "\"\"\""
      ]
     },
     "execution_count": 36,
     "metadata": {},
     "output_type": "execute_result"
    }
   ],
   "source": [
    "# Fit logit model for 1-star reviews\n",
    "logit_one = smf.logit(formula='dim_is_one_star ~' + ' + '.join(features), data=orders_standardized).fit()\n",
    "logit_one.summary()"
   ]
  },
  {
   "cell_type": "markdown",
   "id": "c668055b",
   "metadata": {},
   "source": [
    "In order to interpret our coefficients from our logistic regression, we'll first need to convert them from *log-odds (logits)* to *odds*. "
   ]
  },
  {
   "cell_type": "code",
   "execution_count": 37,
   "id": "349acaba",
   "metadata": {
    "scrolled": true
   },
   "outputs": [
    {
     "data": {
      "text/html": [
       "<div>\n",
       "<style scoped>\n",
       "    .dataframe tbody tr th:only-of-type {\n",
       "        vertical-align: middle;\n",
       "    }\n",
       "\n",
       "    .dataframe tbody tr th {\n",
       "        vertical-align: top;\n",
       "    }\n",
       "\n",
       "    .dataframe thead th {\n",
       "        text-align: right;\n",
       "    }\n",
       "</style>\n",
       "<table border=\"1\" class=\"dataframe\">\n",
       "  <thead>\n",
       "    <tr style=\"text-align: right;\">\n",
       "      <th></th>\n",
       "      <th>log-odds</th>\n",
       "      <th>odds</th>\n",
       "    </tr>\n",
       "  </thead>\n",
       "  <tbody>\n",
       "    <tr>\n",
       "      <th>Intercept</th>\n",
       "      <td>-2.422221</td>\n",
       "      <td>0.088724</td>\n",
       "    </tr>\n",
       "    <tr>\n",
       "      <th>wait_time</th>\n",
       "      <td>0.618378</td>\n",
       "      <td>1.855916</td>\n",
       "    </tr>\n",
       "    <tr>\n",
       "      <th>delay_vs_expected</th>\n",
       "      <td>0.316696</td>\n",
       "      <td>1.372585</td>\n",
       "    </tr>\n",
       "    <tr>\n",
       "      <th>number_of_products</th>\n",
       "      <td>0.274001</td>\n",
       "      <td>1.315216</td>\n",
       "    </tr>\n",
       "    <tr>\n",
       "      <th>number_of_sellers</th>\n",
       "      <td>0.174681</td>\n",
       "      <td>1.190866</td>\n",
       "    </tr>\n",
       "    <tr>\n",
       "      <th>price</th>\n",
       "      <td>0.062704</td>\n",
       "      <td>1.064712</td>\n",
       "    </tr>\n",
       "    <tr>\n",
       "      <th>freight_value</th>\n",
       "      <td>-0.071762</td>\n",
       "      <td>0.930752</td>\n",
       "    </tr>\n",
       "  </tbody>\n",
       "</table>\n",
       "</div>"
      ],
      "text/plain": [
       "                    log-odds      odds\n",
       "Intercept          -2.422221  0.088724\n",
       "wait_time           0.618378  1.855916\n",
       "delay_vs_expected   0.316696  1.372585\n",
       "number_of_products  0.274001  1.315216\n",
       "number_of_sellers   0.174681  1.190866\n",
       "price               0.062704  1.064712\n",
       "freight_value      -0.071762  0.930752"
      ]
     },
     "execution_count": 37,
     "metadata": {},
     "output_type": "execute_result"
    }
   ],
   "source": [
    "# Log-odds to odds conversion by exponentiating\n",
    "logit_one_results = pd.DataFrame(logit_one.params, columns=['log-odds'])\n",
    "logit_one_results['odds'] = logit_one_results['log-odds'].apply(lambda x: math.exp(x))\n",
    "logit_one_results"
   ]
  },
  {
   "cell_type": "markdown",
   "id": "be2e08a4",
   "metadata": {},
   "source": [
    "After conversion to *odds*, we should now be able to interpret the coefficient for each feature as ***the change in odds*** for every additional unit of that feature. \n",
    "\n",
    "Note that when interpreting odds, **1.0** is in the middle of the scale, while values **greater than 1** represent an ***increase*** in odds, and values **less than 1** represent a ***decrease*** in odds. Values at **1.0** are also said to have a ***50/50 chance*** or **1:1 odds** (i.e., effectively, ***there is no impact on the outcome***).     \n",
    "\n",
    "**Interpretation of Results**\n",
    "\n",
    "- Given our logistic regression, we can say that holding all other variables constant, *for each additional day of `wait_time`, the odds of getting a 1-star **increases** on average by **85%**.* \n",
    "\n",
    "- Similar to what we saw in our linear regression models, `delay_vs_expected` has less influence compared to `wait_time`. *For each additional day of `delay_vs_expected`, the odds of getting a 1-star **increases** on average by only **37%**.*\n",
    "\n",
    "- Also, like our linear regression model, the feature importance of `number_of_products` and `number_of_sellers` align. *For every additional **product** or **seller** included in an order, on average, the odds of getting a 1-star review **increases** by **32%** and **19%**, respectively.* \n",
    "\n",
    "- From our logistic regression, `price` has a small effect of ***increasing*** odds by only **6%** for each additional Brazilian Real (BRL).\n",
    "\n",
    "- And, `freight_value` interestingly slightly moves in the opposite direction. With each additional Brazilian Real (BRL in `freight_value` the odds of getting a 1-star review on average ***decrease*** by **7%**."
   ]
  },
  {
   "cell_type": "markdown",
   "id": "01594d1d",
   "metadata": {},
   "source": [
    "### 3.6.2. Logistic Regression | 5-Star Review Model <a id=logistic-5-star></a>"
   ]
  },
  {
   "cell_type": "markdown",
   "id": "0ad0a338",
   "metadata": {},
   "source": [
    "Now, let's check out our logit model for 5-star reviews."
   ]
  },
  {
   "cell_type": "code",
   "execution_count": 38,
   "id": "820e2688",
   "metadata": {
    "scrolled": true
   },
   "outputs": [
    {
     "name": "stdout",
     "output_type": "stream",
     "text": [
      "Optimization terminated successfully.\n",
      "         Current function value: 0.638115\n",
      "         Iterations 7\n"
     ]
    },
    {
     "data": {
      "text/html": [
       "<table class=\"simpletable\">\n",
       "<caption>Logit Regression Results</caption>\n",
       "<tr>\n",
       "  <th>Dep. Variable:</th>   <td>dim_is_five_star</td> <th>  No. Observations:  </th>  <td> 97007</td> \n",
       "</tr>\n",
       "<tr>\n",
       "  <th>Model:</th>                 <td>Logit</td>      <th>  Df Residuals:      </th>  <td> 97000</td> \n",
       "</tr>\n",
       "<tr>\n",
       "  <th>Method:</th>                 <td>MLE</td>       <th>  Df Model:          </th>  <td>     6</td> \n",
       "</tr>\n",
       "<tr>\n",
       "  <th>Date:</th>            <td>Tue, 22 Mar 2022</td> <th>  Pseudo R-squ.:     </th>  <td>0.05771</td>\n",
       "</tr>\n",
       "<tr>\n",
       "  <th>Time:</th>                <td>10:30:33</td>     <th>  Log-Likelihood:    </th> <td> -61902.</td>\n",
       "</tr>\n",
       "<tr>\n",
       "  <th>converged:</th>             <td>True</td>       <th>  LL-Null:           </th> <td> -65693.</td>\n",
       "</tr>\n",
       "<tr>\n",
       "  <th>Covariance Type:</th>     <td>nonrobust</td>    <th>  LLR p-value:       </th>  <td> 0.000</td> \n",
       "</tr>\n",
       "</table>\n",
       "<table class=\"simpletable\">\n",
       "<tr>\n",
       "           <td></td>             <th>coef</th>     <th>std err</th>      <th>z</th>      <th>P>|z|</th>  <th>[0.025</th>    <th>0.975]</th>  \n",
       "</tr>\n",
       "<tr>\n",
       "  <th>Intercept</th>          <td>    0.3231</td> <td>    0.007</td> <td>   45.355</td> <td> 0.000</td> <td>    0.309</td> <td>    0.337</td>\n",
       "</tr>\n",
       "<tr>\n",
       "  <th>wait_time</th>          <td>   -0.4718</td> <td>    0.010</td> <td>  -45.267</td> <td> 0.000</td> <td>   -0.492</td> <td>   -0.451</td>\n",
       "</tr>\n",
       "<tr>\n",
       "  <th>delay_vs_expected</th>  <td>   -0.4830</td> <td>    0.023</td> <td>  -20.746</td> <td> 0.000</td> <td>   -0.529</td> <td>   -0.437</td>\n",
       "</tr>\n",
       "<tr>\n",
       "  <th>number_of_products</th> <td>   -0.1533</td> <td>    0.008</td> <td>  -18.383</td> <td> 0.000</td> <td>   -0.170</td> <td>   -0.137</td>\n",
       "</tr>\n",
       "<tr>\n",
       "  <th>number_of_sellers</th>  <td>   -0.1413</td> <td>    0.008</td> <td>  -18.123</td> <td> 0.000</td> <td>   -0.157</td> <td>   -0.126</td>\n",
       "</tr>\n",
       "<tr>\n",
       "  <th>price</th>              <td>    0.0135</td> <td>    0.008</td> <td>    1.778</td> <td> 0.075</td> <td>   -0.001</td> <td>    0.028</td>\n",
       "</tr>\n",
       "<tr>\n",
       "  <th>freight_value</th>      <td>    0.0341</td> <td>    0.009</td> <td>    3.878</td> <td> 0.000</td> <td>    0.017</td> <td>    0.051</td>\n",
       "</tr>\n",
       "</table>"
      ],
      "text/plain": [
       "<class 'statsmodels.iolib.summary.Summary'>\n",
       "\"\"\"\n",
       "                           Logit Regression Results                           \n",
       "==============================================================================\n",
       "Dep. Variable:       dim_is_five_star   No. Observations:                97007\n",
       "Model:                          Logit   Df Residuals:                    97000\n",
       "Method:                           MLE   Df Model:                            6\n",
       "Date:                Tue, 22 Mar 2022   Pseudo R-squ.:                 0.05771\n",
       "Time:                        10:30:33   Log-Likelihood:                -61902.\n",
       "converged:                       True   LL-Null:                       -65693.\n",
       "Covariance Type:            nonrobust   LLR p-value:                     0.000\n",
       "======================================================================================\n",
       "                         coef    std err          z      P>|z|      [0.025      0.975]\n",
       "--------------------------------------------------------------------------------------\n",
       "Intercept              0.3231      0.007     45.355      0.000       0.309       0.337\n",
       "wait_time             -0.4718      0.010    -45.267      0.000      -0.492      -0.451\n",
       "delay_vs_expected     -0.4830      0.023    -20.746      0.000      -0.529      -0.437\n",
       "number_of_products    -0.1533      0.008    -18.383      0.000      -0.170      -0.137\n",
       "number_of_sellers     -0.1413      0.008    -18.123      0.000      -0.157      -0.126\n",
       "price                  0.0135      0.008      1.778      0.075      -0.001       0.028\n",
       "freight_value          0.0341      0.009      3.878      0.000       0.017       0.051\n",
       "======================================================================================\n",
       "\"\"\""
      ]
     },
     "execution_count": 38,
     "metadata": {},
     "output_type": "execute_result"
    }
   ],
   "source": [
    "# Fit logit model for 5-star reviews\n",
    "logit_five = smf.logit(formula='dim_is_five_star ~' + ' + '.join(features), data=orders_standardized).fit()\n",
    "logit_five.summary()"
   ]
  },
  {
   "cell_type": "code",
   "execution_count": 39,
   "id": "b4233ca3",
   "metadata": {
    "scrolled": true
   },
   "outputs": [
    {
     "data": {
      "text/html": [
       "<div>\n",
       "<style scoped>\n",
       "    .dataframe tbody tr th:only-of-type {\n",
       "        vertical-align: middle;\n",
       "    }\n",
       "\n",
       "    .dataframe tbody tr th {\n",
       "        vertical-align: top;\n",
       "    }\n",
       "\n",
       "    .dataframe thead th {\n",
       "        text-align: right;\n",
       "    }\n",
       "</style>\n",
       "<table border=\"1\" class=\"dataframe\">\n",
       "  <thead>\n",
       "    <tr style=\"text-align: right;\">\n",
       "      <th></th>\n",
       "      <th>log-odds</th>\n",
       "      <th>odds</th>\n",
       "    </tr>\n",
       "  </thead>\n",
       "  <tbody>\n",
       "    <tr>\n",
       "      <th>Intercept</th>\n",
       "      <td>0.323106</td>\n",
       "      <td>1.381412</td>\n",
       "    </tr>\n",
       "    <tr>\n",
       "      <th>wait_time</th>\n",
       "      <td>-0.471834</td>\n",
       "      <td>0.623857</td>\n",
       "    </tr>\n",
       "    <tr>\n",
       "      <th>delay_vs_expected</th>\n",
       "      <td>-0.482999</td>\n",
       "      <td>0.616930</td>\n",
       "    </tr>\n",
       "    <tr>\n",
       "      <th>number_of_products</th>\n",
       "      <td>-0.153298</td>\n",
       "      <td>0.857874</td>\n",
       "    </tr>\n",
       "    <tr>\n",
       "      <th>number_of_sellers</th>\n",
       "      <td>-0.141264</td>\n",
       "      <td>0.868260</td>\n",
       "    </tr>\n",
       "    <tr>\n",
       "      <th>price</th>\n",
       "      <td>0.013481</td>\n",
       "      <td>1.013573</td>\n",
       "    </tr>\n",
       "    <tr>\n",
       "      <th>freight_value</th>\n",
       "      <td>0.034097</td>\n",
       "      <td>1.034685</td>\n",
       "    </tr>\n",
       "  </tbody>\n",
       "</table>\n",
       "</div>"
      ],
      "text/plain": [
       "                    log-odds      odds\n",
       "Intercept           0.323106  1.381412\n",
       "wait_time          -0.471834  0.623857\n",
       "delay_vs_expected  -0.482999  0.616930\n",
       "number_of_products -0.153298  0.857874\n",
       "number_of_sellers  -0.141264  0.868260\n",
       "price               0.013481  1.013573\n",
       "freight_value       0.034097  1.034685"
      ]
     },
     "execution_count": 39,
     "metadata": {},
     "output_type": "execute_result"
    }
   ],
   "source": [
    "# Log-odds to odds conversion by exponentiating\n",
    "logit_five_results = pd.DataFrame(logit_five.params, columns=['log-odds'])\n",
    "logit_five_results['odds'] = logit_five_results['log-odds'].apply(lambda x: math.exp(x))\n",
    "logit_five_results"
   ]
  },
  {
   "cell_type": "markdown",
   "id": "a79507de",
   "metadata": {},
   "source": [
    "**Interpretation of Results**\n",
    "- With our **logit_five_model**, we see that `delay_vs_expected` becomes as influential in losing a 5-star rating as `wait_time`. *Holding all other variables constant, for each additional day in **delay** or **wait time**, the odds of getting 5 stars **decrease** on average by **38%**.*   \n",
    "\n",
    "- Also, we see that the features `number_of_products` and `number_of_products` have similar impact on losing a 5-star rating. *Holding all other variables constant, for each additional **product** or **seller** put in an order, the odds of getting 5 stars **decrease** on average by **14%** and **13%**, respectively.*\n",
    "\n",
    "- For `price` and `freight_value` on average there is a slight **increase** in odds of getting 5 stars, **1%** and **3%**, respectively. "
   ]
  },
  {
   "cell_type": "markdown",
   "id": "1636d921",
   "metadata": {},
   "source": [
    "### 3.6.3. Logistic Regression Model Comparison <a id=model-comparison></a>"
   ]
  },
  {
   "cell_type": "markdown",
   "id": "0b6a28e8",
   "metadata": {},
   "source": [
    "To more easily compare the direction and magnitude of differences of our two logit models, let's plot the coefficients for each logit model side-by-side."
   ]
  },
  {
   "cell_type": "code",
   "execution_count": 40,
   "id": "30e612e5",
   "metadata": {},
   "outputs": [
    {
     "name": "stderr",
     "output_type": "stream",
     "text": [
      "/Users/atat/.pyenv/versions/3.8.6/envs/lewagon/lib/python3.8/site-packages/pandas/plotting/_matplotlib/tools.py:400: MatplotlibDeprecationWarning: \n",
      "The is_first_col function was deprecated in Matplotlib 3.4 and will be removed two minor releases later. Use ax.get_subplotspec().is_first_col() instead.\n",
      "  if ax.is_first_col():\n"
     ]
    },
    {
     "data": {
      "image/png": "[encoded data removed]",
      "text/plain": [
       "<Figure size 936x360 with 2 Axes>"
      ]
     },
     "metadata": {},
     "output_type": "display_data"
    }
   ],
   "source": [
    "# Logistic Regression Model Comparison\n",
    "fig = plt.figure(figsize=(13,5))\n",
    "fig.suptitle('Logit Five vs. Logit One')\n",
    "\n",
    "# Logistic Regression - logit_five_model\n",
    "ax1 = plt.subplot(1,2,1)\n",
    "ax1.set_title('Logit Five')\n",
    "ax1.yaxis.tick_right()\n",
    "ax1.set_xlim(-1.2, 1.5)\n",
    "logit_five.params[1:].sort_values().plot(kind='barh', ax=ax1)\n",
    "\n",
    "# Logistic Regression - logit_one_model\n",
    "ax2 = plt.subplot(1,2,2)\n",
    "ax2.set_title('Logit One')\n",
    "ax2.yaxis.tick_right()\n",
    "ax2.set_xlim(-1.2, 1.5)\n",
    "logit_one.params[1:].sort_values(ascending=False).plot(kind='barh', ax=ax2)\n",
    "\n",
    "fig.tight_layout()\n",
    "plt.show();"
   ]
  },
  {
   "cell_type": "code",
   "execution_count": 41,
   "id": "df4d3106",
   "metadata": {
    "scrolled": true
   },
   "outputs": [
    {
     "data": {
      "text/html": [
       "<div>\n",
       "<style scoped>\n",
       "    .dataframe tbody tr th:only-of-type {\n",
       "        vertical-align: middle;\n",
       "    }\n",
       "\n",
       "    .dataframe tbody tr th {\n",
       "        vertical-align: top;\n",
       "    }\n",
       "\n",
       "    .dataframe thead th {\n",
       "        text-align: right;\n",
       "    }\n",
       "</style>\n",
       "<table border=\"1\" class=\"dataframe\">\n",
       "  <thead>\n",
       "    <tr style=\"text-align: right;\">\n",
       "      <th></th>\n",
       "      <th>log-odds</th>\n",
       "      <th>odds</th>\n",
       "    </tr>\n",
       "  </thead>\n",
       "  <tbody>\n",
       "    <tr>\n",
       "      <th>Intercept</th>\n",
       "      <td>0.323106</td>\n",
       "      <td>1.381412</td>\n",
       "    </tr>\n",
       "    <tr>\n",
       "      <th>wait_time</th>\n",
       "      <td>-0.471834</td>\n",
       "      <td>0.623857</td>\n",
       "    </tr>\n",
       "    <tr>\n",
       "      <th>delay_vs_expected</th>\n",
       "      <td>-0.482999</td>\n",
       "      <td>0.616930</td>\n",
       "    </tr>\n",
       "    <tr>\n",
       "      <th>number_of_products</th>\n",
       "      <td>-0.153298</td>\n",
       "      <td>0.857874</td>\n",
       "    </tr>\n",
       "    <tr>\n",
       "      <th>number_of_sellers</th>\n",
       "      <td>-0.141264</td>\n",
       "      <td>0.868260</td>\n",
       "    </tr>\n",
       "    <tr>\n",
       "      <th>price</th>\n",
       "      <td>0.013481</td>\n",
       "      <td>1.013573</td>\n",
       "    </tr>\n",
       "    <tr>\n",
       "      <th>freight_value</th>\n",
       "      <td>0.034097</td>\n",
       "      <td>1.034685</td>\n",
       "    </tr>\n",
       "  </tbody>\n",
       "</table>\n",
       "</div>"
      ],
      "text/plain": [
       "                    log-odds      odds\n",
       "Intercept           0.323106  1.381412\n",
       "wait_time          -0.471834  0.623857\n",
       "delay_vs_expected  -0.482999  0.616930\n",
       "number_of_products -0.153298  0.857874\n",
       "number_of_sellers  -0.141264  0.868260\n",
       "price               0.013481  1.013573\n",
       "freight_value       0.034097  1.034685"
      ]
     },
     "execution_count": 41,
     "metadata": {},
     "output_type": "execute_result"
    }
   ],
   "source": [
    "logit_five_results = pd.DataFrame(logit_five.params, columns=['log-odds'])\n",
    "logit_five_results['odds'] = logit_five_results['log-odds'].apply(lambda x: math.exp(x))\n",
    "logit_five_results"
   ]
  },
  {
   "cell_type": "code",
   "execution_count": 42,
   "id": "5c20ab9a",
   "metadata": {},
   "outputs": [
    {
     "name": "stdout",
     "output_type": "stream",
     "text": [
      "Optimization terminated successfully.\n",
      "         Current function value: 0.638115\n",
      "         Iterations 7\n"
     ]
    },
    {
     "data": {
      "text/html": [
       "<table class=\"simpletable\">\n",
       "<caption>Logit Regression Results</caption>\n",
       "<tr>\n",
       "  <th>Dep. Variable:</th>   <td>dim_is_five_star</td> <th>  No. Observations:  </th>  <td> 97007</td> \n",
       "</tr>\n",
       "<tr>\n",
       "  <th>Model:</th>                 <td>Logit</td>      <th>  Df Residuals:      </th>  <td> 97000</td> \n",
       "</tr>\n",
       "<tr>\n",
       "  <th>Method:</th>                 <td>MLE</td>       <th>  Df Model:          </th>  <td>     6</td> \n",
       "</tr>\n",
       "<tr>\n",
       "  <th>Date:</th>            <td>Tue, 22 Mar 2022</td> <th>  Pseudo R-squ.:     </th>  <td>0.05771</td>\n",
       "</tr>\n",
       "<tr>\n",
       "  <th>Time:</th>                <td>10:30:34</td>     <th>  Log-Likelihood:    </th> <td> -61902.</td>\n",
       "</tr>\n",
       "<tr>\n",
       "  <th>converged:</th>             <td>True</td>       <th>  LL-Null:           </th> <td> -65693.</td>\n",
       "</tr>\n",
       "<tr>\n",
       "  <th>Covariance Type:</th>     <td>nonrobust</td>    <th>  LLR p-value:       </th>  <td> 0.000</td> \n",
       "</tr>\n",
       "</table>\n",
       "<table class=\"simpletable\">\n",
       "<tr>\n",
       "           <td></td>             <th>coef</th>     <th>std err</th>      <th>z</th>      <th>P>|z|</th>  <th>[0.025</th>    <th>0.975]</th>  \n",
       "</tr>\n",
       "<tr>\n",
       "  <th>Intercept</th>          <td>    0.3231</td> <td>    0.007</td> <td>   45.355</td> <td> 0.000</td> <td>    0.309</td> <td>    0.337</td>\n",
       "</tr>\n",
       "<tr>\n",
       "  <th>wait_time</th>          <td>   -0.4718</td> <td>    0.010</td> <td>  -45.267</td> <td> 0.000</td> <td>   -0.492</td> <td>   -0.451</td>\n",
       "</tr>\n",
       "<tr>\n",
       "  <th>delay_vs_expected</th>  <td>   -0.4830</td> <td>    0.023</td> <td>  -20.746</td> <td> 0.000</td> <td>   -0.529</td> <td>   -0.437</td>\n",
       "</tr>\n",
       "<tr>\n",
       "  <th>number_of_products</th> <td>   -0.1533</td> <td>    0.008</td> <td>  -18.383</td> <td> 0.000</td> <td>   -0.170</td> <td>   -0.137</td>\n",
       "</tr>\n",
       "<tr>\n",
       "  <th>number_of_sellers</th>  <td>   -0.1413</td> <td>    0.008</td> <td>  -18.123</td> <td> 0.000</td> <td>   -0.157</td> <td>   -0.126</td>\n",
       "</tr>\n",
       "<tr>\n",
       "  <th>price</th>              <td>    0.0135</td> <td>    0.008</td> <td>    1.778</td> <td> 0.075</td> <td>   -0.001</td> <td>    0.028</td>\n",
       "</tr>\n",
       "<tr>\n",
       "  <th>freight_value</th>      <td>    0.0341</td> <td>    0.009</td> <td>    3.878</td> <td> 0.000</td> <td>    0.017</td> <td>    0.051</td>\n",
       "</tr>\n",
       "</table>"
      ],
      "text/plain": [
       "<class 'statsmodels.iolib.summary.Summary'>\n",
       "\"\"\"\n",
       "                           Logit Regression Results                           \n",
       "==============================================================================\n",
       "Dep. Variable:       dim_is_five_star   No. Observations:                97007\n",
       "Model:                          Logit   Df Residuals:                    97000\n",
       "Method:                           MLE   Df Model:                            6\n",
       "Date:                Tue, 22 Mar 2022   Pseudo R-squ.:                 0.05771\n",
       "Time:                        10:30:34   Log-Likelihood:                -61902.\n",
       "converged:                       True   LL-Null:                       -65693.\n",
       "Covariance Type:            nonrobust   LLR p-value:                     0.000\n",
       "======================================================================================\n",
       "                         coef    std err          z      P>|z|      [0.025      0.975]\n",
       "--------------------------------------------------------------------------------------\n",
       "Intercept              0.3231      0.007     45.355      0.000       0.309       0.337\n",
       "wait_time             -0.4718      0.010    -45.267      0.000      -0.492      -0.451\n",
       "delay_vs_expected     -0.4830      0.023    -20.746      0.000      -0.529      -0.437\n",
       "number_of_products    -0.1533      0.008    -18.383      0.000      -0.170      -0.137\n",
       "number_of_sellers     -0.1413      0.008    -18.123      0.000      -0.157      -0.126\n",
       "price                  0.0135      0.008      1.778      0.075      -0.001       0.028\n",
       "freight_value          0.0341      0.009      3.878      0.000       0.017       0.051\n",
       "======================================================================================\n",
       "\"\"\""
      ]
     },
     "execution_count": 42,
     "metadata": {},
     "output_type": "execute_result"
    }
   ],
   "source": [
    "logit_five = smf.logit(formula='dim_is_five_star ~' + ' + '.join(features), data=orders_standardized).fit()\n",
    "logit_five.summary()"
   ]
  },
  {
   "cell_type": "code",
   "execution_count": 43,
   "id": "8fff0538",
   "metadata": {},
   "outputs": [
    {
     "data": {
      "text/html": [
       "<div>\n",
       "<style scoped>\n",
       "    .dataframe tbody tr th:only-of-type {\n",
       "        vertical-align: middle;\n",
       "    }\n",
       "\n",
       "    .dataframe tbody tr th {\n",
       "        vertical-align: top;\n",
       "    }\n",
       "\n",
       "    .dataframe thead th {\n",
       "        text-align: right;\n",
       "    }\n",
       "</style>\n",
       "<table border=\"1\" class=\"dataframe\">\n",
       "  <thead>\n",
       "    <tr style=\"text-align: right;\">\n",
       "      <th></th>\n",
       "      <th>log-odds</th>\n",
       "      <th>odds</th>\n",
       "    </tr>\n",
       "  </thead>\n",
       "  <tbody>\n",
       "    <tr>\n",
       "      <th>Intercept</th>\n",
       "      <td>0.323106</td>\n",
       "      <td>1.381412</td>\n",
       "    </tr>\n",
       "    <tr>\n",
       "      <th>wait_time</th>\n",
       "      <td>-0.471834</td>\n",
       "      <td>0.623857</td>\n",
       "    </tr>\n",
       "    <tr>\n",
       "      <th>delay_vs_expected</th>\n",
       "      <td>-0.482999</td>\n",
       "      <td>0.616930</td>\n",
       "    </tr>\n",
       "    <tr>\n",
       "      <th>number_of_products</th>\n",
       "      <td>-0.153298</td>\n",
       "      <td>0.857874</td>\n",
       "    </tr>\n",
       "    <tr>\n",
       "      <th>number_of_sellers</th>\n",
       "      <td>-0.141264</td>\n",
       "      <td>0.868260</td>\n",
       "    </tr>\n",
       "    <tr>\n",
       "      <th>price</th>\n",
       "      <td>0.013481</td>\n",
       "      <td>1.013573</td>\n",
       "    </tr>\n",
       "    <tr>\n",
       "      <th>freight_value</th>\n",
       "      <td>0.034097</td>\n",
       "      <td>1.034685</td>\n",
       "    </tr>\n",
       "  </tbody>\n",
       "</table>\n",
       "</div>"
      ],
      "text/plain": [
       "                    log-odds      odds\n",
       "Intercept           0.323106  1.381412\n",
       "wait_time          -0.471834  0.623857\n",
       "delay_vs_expected  -0.482999  0.616930\n",
       "number_of_products -0.153298  0.857874\n",
       "number_of_sellers  -0.141264  0.868260\n",
       "price               0.013481  1.013573\n",
       "freight_value       0.034097  1.034685"
      ]
     },
     "execution_count": 43,
     "metadata": {},
     "output_type": "execute_result"
    }
   ],
   "source": [
    "logit_five_results = pd.DataFrame(logit_five.params, columns=['log-odds'])\n",
    "logit_five_results['odds'] = logit_five_results['log-odds'].apply(lambda x: math.exp(x))\n",
    "logit_five_results"
   ]
  },
  {
   "cell_type": "markdown",
   "id": "8af50595",
   "metadata": {},
   "source": [
    "In terms of feature importance, the two models align similarly. However, there were a few notable findings:\n",
    "\n",
    "- An extra day of delay is more likely to result in losing a chance for getting 5 stars than getting a 1-star review. \n",
    "- Longer wait times appear to make more of a difference in getting a 1-star review than losing a chance at a 5 stars.\n",
    "- The number of products and sellers in an order are less impactful than how long a customer has to wait for their order. However, adding an additional product seems to make slightly more of a difference than an additional seller.\n",
    "- The price and shipping value for orders only have a low association with getting 1- or 5-star reviews. "
   ]
  },
  {
   "cell_type": "markdown",
   "id": "c44a0eb1",
   "metadata": {},
   "source": [
    "### 3.6.4. Linear vs Logistic Regression Coefficients <a id=regression-coefficients></a>"
   ]
  },
  {
   "cell_type": "markdown",
   "id": "2998a530",
   "metadata": {},
   "source": [
    "Let's also plot and compare the coefficients between our linear and logistic regression models. While the *values* of the coefficients are *not directly comparable*, we can check the *relative importance* of the features for each model. "
   ]
  },
  {
   "cell_type": "code",
   "execution_count": 44,
   "id": "d088ae1f",
   "metadata": {},
   "outputs": [
    {
     "name": "stdout",
     "output_type": "stream",
     "text": [
      "                            OLS Regression Results                            \n",
      "==============================================================================\n",
      "Dep. Variable:           review_score   R-squared:                       0.141\n",
      "Model:                            OLS   Adj. R-squared:                  0.141\n",
      "Method:                 Least Squares   F-statistic:                     2661.\n",
      "Date:                Tue, 22 Mar 2022   Prob (F-statistic):               0.00\n",
      "Time:                        10:30:34   Log-Likelihood:            -1.5545e+05\n",
      "No. Observations:               97007   AIC:                         3.109e+05\n",
      "Df Residuals:                   97000   BIC:                         3.110e+05\n",
      "Df Model:                           6                                         \n",
      "Covariance Type:            nonrobust                                         \n",
      "======================================================================================\n",
      "                         coef    std err          t      P>|t|      [0.025      0.975]\n",
      "--------------------------------------------------------------------------------------\n",
      "Intercept              4.1422      0.004   1073.800      0.000       4.135       4.150\n",
      "wait_time             -0.3898      0.006    -69.175      0.000      -0.401      -0.379\n",
      "delay_vs_expected     -0.0816      0.006    -14.772      0.000      -0.092      -0.071\n",
      "number_of_products    -0.1465      0.004    -32.751      0.000      -0.155      -0.138\n",
      "number_of_sellers     -0.1305      0.004    -32.377      0.000      -0.138      -0.123\n",
      "price                 -0.0099      0.004     -2.339      0.019      -0.018      -0.002\n",
      "freight_value          0.0350      0.005      7.301      0.000       0.026       0.044\n",
      "==============================================================================\n",
      "Omnibus:                    18510.939   Durbin-Watson:                   2.009\n",
      "Prob(Omnibus):                  0.000   Jarque-Bera (JB):            36369.606\n",
      "Skew:                          -1.162   Prob(JB):                         0.00\n",
      "Kurtosis:                       4.897   Cond. No.                         2.63\n",
      "==============================================================================\n",
      "\n",
      "Warnings:\n",
      "[1] Standard Errors assume that the covariance matrix of the errors is correctly specified.\n",
      "----------------------------------------------------------------------------------------------------\n",
      "----------------------------------------------------------------------------------------------------\n",
      "----------------------------------------------------------------------------------------------------\n",
      "\n",
      "                           Logit Regression Results                           \n",
      "==============================================================================\n",
      "Dep. Variable:       dim_is_five_star   No. Observations:                97007\n",
      "Model:                          Logit   Df Residuals:                    97000\n",
      "Method:                           MLE   Df Model:                            6\n",
      "Date:                Tue, 22 Mar 2022   Pseudo R-squ.:                 0.05771\n",
      "Time:                        10:30:34   Log-Likelihood:                -61902.\n",
      "converged:                       True   LL-Null:                       -65693.\n",
      "Covariance Type:            nonrobust   LLR p-value:                     0.000\n",
      "======================================================================================\n",
      "                         coef    std err          z      P>|z|      [0.025      0.975]\n",
      "--------------------------------------------------------------------------------------\n",
      "Intercept              0.3231      0.007     45.355      0.000       0.309       0.337\n",
      "wait_time             -0.4718      0.010    -45.267      0.000      -0.492      -0.451\n",
      "delay_vs_expected     -0.4830      0.023    -20.746      0.000      -0.529      -0.437\n",
      "number_of_products    -0.1533      0.008    -18.383      0.000      -0.170      -0.137\n",
      "number_of_sellers     -0.1413      0.008    -18.123      0.000      -0.157      -0.126\n",
      "price                  0.0135      0.008      1.778      0.075      -0.001       0.028\n",
      "freight_value          0.0341      0.009      3.878      0.000       0.017       0.051\n",
      "======================================================================================\n"
     ]
    }
   ],
   "source": [
    "print(model4.summary())\n",
    "print((('-----'*20) +'\\n')*3)\n",
    "print(logit_five.summary())"
   ]
  },
  {
   "cell_type": "code",
   "execution_count": 45,
   "id": "773a61ef",
   "metadata": {},
   "outputs": [
    {
     "name": "stderr",
     "output_type": "stream",
     "text": [
      "/Users/atat/.pyenv/versions/3.8.6/envs/lewagon/lib/python3.8/site-packages/pandas/plotting/_matplotlib/tools.py:400: MatplotlibDeprecationWarning: \n",
      "The is_first_col function was deprecated in Matplotlib 3.4 and will be removed two minor releases later. Use ax.get_subplotspec().is_first_col() instead.\n",
      "  if ax.is_first_col():\n"
     ]
    },
    {
     "data": {
      "image/png": "[encoded data removed]",
      "text/plain": [
       "<Figure size 936x360 with 2 Axes>"
      ]
     },
     "metadata": {},
     "output_type": "display_data"
    }
   ],
   "source": [
    "# Plot coefficients for comparison\n",
    "fig = plt.figure(figsize=(13,5))\n",
    "fig.suptitle('Linear vs. Logit Coefficients')\n",
    "\n",
    "# Linear Regression - model4\n",
    "ax1 = plt.subplot(1,2,1)\n",
    "ax1.set_title('Linear')\n",
    "ax1.set_xlim(-1.5, 0.25)\n",
    "model4.params[1:].sort_values().plot(kind='barh', ax=ax1)\n",
    "\n",
    "# Logistic Regression - logit_five_model\n",
    "ax2 = plt.subplot(1,2,2)\n",
    "ax2.set_title('Logit Five')\n",
    "ax2.yaxis.tick_right()\n",
    "ax2.set_xlim(-1.5, 0.25)\n",
    "logit_five.params[1:].sort_values().plot(kind='barh', ax=ax2)\n",
    "\n",
    "fig.tight_layout()\n",
    "plt.show();"
   ]
  },
  {
   "cell_type": "markdown",
   "id": "46207d41",
   "metadata": {},
   "source": [
    "Our linear and logistic regression models in general show similar feature importance. One distinction appears to be the relative importance of `delay_vs_expected`. One possible explanation is that a delay would have more relative impact for the highest and lowest review scores, and less so for more mediocre reviews which are included as part of our linear regression model.  "
   ]
  },
  {
   "cell_type": "markdown",
   "id": "286f847e-f7de-49ad-ada9-1b0adcbb3272",
   "metadata": {},
   "source": [
    "***The analysis continues...***\n",
    "\n",
    "We continue **Part 1** by analyzing the **Sellers Data** in this [notebook](https://nbviewer.org/github/phlln/olist-analysis/blob/main/notebooks/Sellers%20Data%20Analysis.ipynb?flush_cache=True)."
   ]
  }
 ],
 "metadata": {
  "kernelspec": {
   "display_name": "Python 3",
   "language": "python",
   "name": "python3"
  },
  "language_info": {
   "codemirror_mode": {
    "name": "ipython",
    "version": 3
   },
   "file_extension": ".py",
   "mimetype": "text/x-python",
   "name": "python",
   "nbconvert_exporter": "python",
   "pygments_lexer": "ipython3",
   "version": "3.8.6"
  },
  "toc": {
   "base_numbering": 1,
   "nav_menu": {},
   "number_sections": true,
   "sideBar": true,
   "skip_h1_title": true,
   "title_cell": "Table of Contents",
   "title_sidebar": "Contents",
   "toc_cell": false,
   "toc_position": {},
   "toc_section_display": true,
   "toc_window_display": false
  },
  "toc-autonumbering": true
 },
 "nbformat": 4,
 "nbformat_minor": 5
}
