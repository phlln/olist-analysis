{
 "cells": [
  {
   "cell_type": "markdown",
   "metadata": {
    "slideshow": {
     "slide_type": "-"
    }
   },
   "source": [
    "# CEO RECOMMENDATIONS"
   ]
  },
  {
   "cell_type": "markdown",
   "metadata": {},
   "source": [
    "***CEO Question***\n",
    "\n",
    "*How do we increase customer satisfaction (so as to increase profit margins) while maintaining a healthy order volume?*"
   ]
  },
  {
   "cell_type": "markdown",
   "metadata": {},
   "source": [
    "**Findings from our Preliminary Analysis of the Orders and Sellers Datasets**\n",
    "\n",
    "- The *more* sellers (`number_of_sellers`) and products (`number_of_products`) that are combined into a single order, the *lower* the review score.  \n",
    "- The *longer* the `wait_time` for a delivery, the *lower* the review score.  \n",
    "\n",
    "Our earlier analysis also found that *orders containing multiple sellers or products do not make up a large portion of orders on the platform* (~10%), so any policy changes (e.g. restricting orders to a single seller) would have a limited impact. \n",
    "\n",
    "Additionally, `wait_time` is made up of two components (seller's `delay_to_carrier` + `carrier_delivery_time`). Our analysis also found that the proportion of sellers who have delayed shipment to a carrier is only about 6%. Moreover, the component `carrier_delivery_time` is less directly in Olist's control and further analysis of their operations or finding new carrier partners is not an easy-fix we'd like to propose to the CEO. \n",
    "\n",
    "It appears that there are other factors contributing to a low review score that are outside of the Orders and Sellers datasets. Rather than searching for and trying to isolate all the factors contributing to low review scores, we'll try a different approach in this notebook.\n",
    "\n",
    "Since our preliminary analysis suggests there are multiple factors driving low review scores, and focusing efforts on improving a single factor may not be sufficient, let's instead use low review scores as a way to filter better performing sellers. By ascribing costs associated with low review scores, we'll also be able to calculate how much impact keeping these sellers on the platform have on the bottom line.    \n",
    " "
   ]
  },
  {
   "cell_type": "markdown",
   "metadata": {},
   "source": [
    "**Notebook Objective**\n",
    "\n",
    "In this notebook, we'll **identify poor-performing sellers, quantify their impact on Olist's profit margins, and make specific recommendations to the CEO on what short-term changes can be made to increase customer satisfaction and Olist's bottom line.**\n"
   ]
  },
  {
   "cell_type": "markdown",
   "metadata": {},
   "source": [
    "**Next Steps in our Analysis**\n",
    "1. Calculate how much revenue each seller brings in to Olist\n",
    "2. Calculate the cost to Olist from bad reviews for each seller\n",
    "3. Calculate the profit to Olist for each seller \n",
    "3. Understand the impact on Olist's profits from poor-performing sellers\n",
    "4. Find out how much removing these sellers would impact Olist's IT costs "
   ]
  },
  {
   "cell_type": "code",
   "execution_count": 3,
   "metadata": {},
   "outputs": [
    {
     "data": {
      "text/plain": [
       "['/Users/atat/code/phlln/olist-analysis/notebooks',\n",
       " '/Users/atat/code/phlln/data-challenges/04-Decision-Science',\n",
       " '/Users/atat/code/phlln/olist-analysis/notebooks',\n",
       " '/Users/atat/.pyenv/versions/3.8.6/lib/python38.zip',\n",
       " '/Users/atat/.pyenv/versions/3.8.6/lib/python3.8',\n",
       " '/Users/atat/.pyenv/versions/3.8.6/lib/python3.8/lib-dynload',\n",
       " '',\n",
       " '/Users/atat/.pyenv/versions/3.8.6/envs/lewagon/lib/python3.8/site-packages',\n",
       " '/Users/atat/code/phlln/mlproject',\n",
       " '/Users/atat/code/phlln/TFM_TrainAtScale',\n",
       " '/Users/atat/code/phlln/TFM_PredictInProd',\n",
       " '/Users/atat/.pyenv/versions/3.8.6/envs/lewagon/lib/python3.8/site-packages/IPython/extensions',\n",
       " '/Users/atat/.ipython']"
      ]
     },
     "execution_count": 3,
     "metadata": {},
     "output_type": "execute_result"
    }
   ],
   "source": [
    "import os\n",
    "os.sys.path\n"
   ]
  },
  {
   "cell_type": "code",
   "execution_count": 4,
   "metadata": {},
   "outputs": [
    {
     "data": {
      "text/plain": [
       "['/Users/atat/code/phlln/olist-analysis/',\n",
       " '/Users/atat/code/phlln/olist-analysis/notebooks',\n",
       " '/Users/atat/code/phlln/data-challenges/04-Decision-Science',\n",
       " '/Users/atat/code/phlln/olist-analysis/notebooks',\n",
       " '/Users/atat/.pyenv/versions/3.8.6/lib/python38.zip',\n",
       " '/Users/atat/.pyenv/versions/3.8.6/lib/python3.8',\n",
       " '/Users/atat/.pyenv/versions/3.8.6/lib/python3.8/lib-dynload',\n",
       " '',\n",
       " '/Users/atat/.pyenv/versions/3.8.6/envs/lewagon/lib/python3.8/site-packages',\n",
       " '/Users/atat/code/phlln/mlproject',\n",
       " '/Users/atat/code/phlln/TFM_TrainAtScale',\n",
       " '/Users/atat/code/phlln/TFM_PredictInProd',\n",
       " '/Users/atat/.pyenv/versions/3.8.6/envs/lewagon/lib/python3.8/site-packages/IPython/extensions',\n",
       " '/Users/atat/.ipython']"
      ]
     },
     "execution_count": 4,
     "metadata": {},
     "output_type": "execute_result"
    }
   ],
   "source": [
    "os.sys.path.insert(0, '/Users/atat/code/phlln/olist-analysis/' )\n",
    "os.sys.path"
   ]
  },
  {
   "cell_type": "code",
   "execution_count": 5,
   "metadata": {
    "slideshow": {
     "slide_type": "skip"
    }
   },
   "outputs": [],
   "source": [
    "# Import typical libraries and modules\n",
    "import numpy as np\n",
    "import pandas as pd\n",
    "import matplotlib.pyplot as plt\n",
    "import seaborn as sns\n",
    "import math\n",
    "from olist.seller import Seller\n",
    "from olist.data import Olist \n",
    "\n",
    "%load_ext autoreload\n",
    "%autoreload 2\n",
    "%matplotlib inline"
   ]
  },
  {
   "cell_type": "code",
   "execution_count": null,
   "metadata": {},
   "outputs": [],
   "source": [
    "# #CAN BE DELETED LATER\n",
    "# #export dataset for Tableau\n",
    "# path = '../data/csv/seller_dataset_modified.csv'\n",
    "# sellers.to_csv(path_or_buf=path, index=False)"
   ]
  },
  {
   "cell_type": "code",
   "execution_count": 7,
   "metadata": {},
   "outputs": [
    {
     "data": {
      "text/plain": [
       "{'sellers':                              seller_id  seller_zip_code_prefix  \\\n",
       " 0     3442f8959a84dea7ee197c632cb2df15                   13023   \n",
       " 1     d1b65fc7debc3361ea86b5f14c68d2e2                   13844   \n",
       " 2     ce3ad9de960102d0677a81f5d0bb7b2d                   20031   \n",
       " 3     c0f3eea2e14555b6faeea3dd58c1b1c3                    4195   \n",
       " 4     51a04a8a6bdcb23deccc82b0b80742cf                   12914   \n",
       " ...                                ...                     ...   \n",
       " 3090  98dddbc4601dd4443ca174359b237166                   87111   \n",
       " 3091  f8201cab383e484733266d1906e2fdfa                   88137   \n",
       " 3092  74871d19219c7d518d0090283e03c137                    4650   \n",
       " 3093  e603cf3fec55f8697c9059638d6c8eb5                   96080   \n",
       " 3094  9e25199f6ef7e7c347120ff175652c3b                   12051   \n",
       " \n",
       "             seller_city seller_state  \n",
       " 0              campinas           SP  \n",
       " 1            mogi guacu           SP  \n",
       " 2        rio de janeiro           RJ  \n",
       " 3             sao paulo           SP  \n",
       " 4     braganca paulista           SP  \n",
       " ...                 ...          ...  \n",
       " 3090            sarandi           PR  \n",
       " 3091            palhoca           SC  \n",
       " 3092          sao paulo           SP  \n",
       " 3093            pelotas           RS  \n",
       " 3094            taubate           SP  \n",
       " \n",
       " [3095 rows x 4 columns],\n",
       " 'product_category_name_translation':             product_category_name product_category_name_english\n",
       " 0                    beleza_saude                 health_beauty\n",
       " 1          informatica_acessorios         computers_accessories\n",
       " 2                      automotivo                          auto\n",
       " 3                 cama_mesa_banho                bed_bath_table\n",
       " 4                moveis_decoracao               furniture_decor\n",
       " ..                            ...                           ...\n",
       " 66                         flores                       flowers\n",
       " 67             artes_e_artesanato         arts_and_craftmanship\n",
       " 68                fraldas_higiene           diapers_and_hygiene\n",
       " 69  fashion_roupa_infanto_juvenil     fashion_childrens_clothes\n",
       " 70             seguros_e_servicos         security_and_services\n",
       " \n",
       " [71 rows x 2 columns],\n",
       " 'orders':                                order_id                       customer_id  \\\n",
       " 0      e481f51cbdc54678b7cc49136f2d6af7  9ef432eb6251297304e76186b10a928d   \n",
       " 1      53cdb2fc8bc7dce0b6741e2150273451  b0830fb4747a6c6d20dea0b8c802d7ef   \n",
       " 2      47770eb9100c2d0c44946d9cf07ec65d  41ce2a54c0b03bf3443c3d931a367089   \n",
       " 3      949d5b44dbf5de918fe9c16f97b45f8a  f88197465ea7920adcdbec7375364d82   \n",
       " 4      ad21c59c0840e6cb83a9ceb5573f8159  8ab97904e6daea8866dbdbc4fb7aad2c   \n",
       " ...                                 ...                               ...   \n",
       " 99436  9c5dedf39a927c1b2549525ed64a053c  39bd1228ee8140590ac3aca26f2dfe00   \n",
       " 99437  63943bddc261676b46f01ca7ac2f7bd8  1fca14ff2861355f6e5f14306ff977a7   \n",
       " 99438  83c1379a015df1e13d02aae0204711ab  1aa71eb042121263aafbe80c1b562c9c   \n",
       " 99439  11c177c8e97725db2631073c19f07b62  b331b74b18dc79bcdf6532d51e1637c1   \n",
       " 99440  66dea50a8b16d9b4dee7af250b4be1a5  edb027a75a1449115f6b43211ae02a24   \n",
       " \n",
       "       order_status order_purchase_timestamp    order_approved_at  \\\n",
       " 0        delivered      2017-10-02 10:56:33  2017-10-02 11:07:15   \n",
       " 1        delivered      2018-07-24 20:41:37  2018-07-26 03:24:27   \n",
       " 2        delivered      2018-08-08 08:38:49  2018-08-08 08:55:23   \n",
       " 3        delivered      2017-11-18 19:28:06  2017-11-18 19:45:59   \n",
       " 4        delivered      2018-02-13 21:18:39  2018-02-13 22:20:29   \n",
       " ...            ...                      ...                  ...   \n",
       " 99436    delivered      2017-03-09 09:54:05  2017-03-09 09:54:05   \n",
       " 99437    delivered      2018-02-06 12:58:58  2018-02-06 13:10:37   \n",
       " 99438    delivered      2017-08-27 14:46:43  2017-08-27 15:04:16   \n",
       " 99439    delivered      2018-01-08 21:28:27  2018-01-08 21:36:21   \n",
       " 99440    delivered      2018-03-08 20:57:30  2018-03-09 11:20:28   \n",
       " \n",
       "       order_delivered_carrier_date order_delivered_customer_date  \\\n",
       " 0              2017-10-04 19:55:00           2017-10-10 21:25:13   \n",
       " 1              2018-07-26 14:31:00           2018-08-07 15:27:45   \n",
       " 2              2018-08-08 13:50:00           2018-08-17 18:06:29   \n",
       " 3              2017-11-22 13:39:59           2017-12-02 00:28:42   \n",
       " 4              2018-02-14 19:46:34           2018-02-16 18:17:02   \n",
       " ...                            ...                           ...   \n",
       " 99436          2017-03-10 11:18:03           2017-03-17 15:08:01   \n",
       " 99437          2018-02-07 23:22:42           2018-02-28 17:37:56   \n",
       " 99438          2017-08-28 20:52:26           2017-09-21 11:24:17   \n",
       " 99439          2018-01-12 15:35:03           2018-01-25 23:32:54   \n",
       " 99440          2018-03-09 22:11:59           2018-03-16 13:08:30   \n",
       " \n",
       "       order_estimated_delivery_date  \n",
       " 0               2017-10-18 00:00:00  \n",
       " 1               2018-08-13 00:00:00  \n",
       " 2               2018-09-04 00:00:00  \n",
       " 3               2017-12-15 00:00:00  \n",
       " 4               2018-02-26 00:00:00  \n",
       " ...                             ...  \n",
       " 99436           2017-03-28 00:00:00  \n",
       " 99437           2018-03-02 00:00:00  \n",
       " 99438           2017-09-27 00:00:00  \n",
       " 99439           2018-02-15 00:00:00  \n",
       " 99440           2018-04-03 00:00:00  \n",
       " \n",
       " [99441 rows x 8 columns],\n",
       " 'order_items':                                 order_id  order_item_id  \\\n",
       " 0       00010242fe8c5a6d1ba2dd792cb16214              1   \n",
       " 1       00018f77f2f0320c557190d7a144bdd3              1   \n",
       " 2       000229ec398224ef6ca0657da4fc703e              1   \n",
       " 3       00024acbcdf0a6daa1e931b038114c75              1   \n",
       " 4       00042b26cf59d7ce69dfabb4e55b4fd9              1   \n",
       " ...                                  ...            ...   \n",
       " 112645  fffc94f6ce00a00581880bf54a75a037              1   \n",
       " 112646  fffcd46ef2263f404302a634eb57f7eb              1   \n",
       " 112647  fffce4705a9662cd70adb13d4a31832d              1   \n",
       " 112648  fffe18544ffabc95dfada21779c9644f              1   \n",
       " 112649  fffe41c64501cc87c801fd61db3f6244              1   \n",
       " \n",
       "                               product_id                         seller_id  \\\n",
       " 0       4244733e06e7ecb4970a6e2683c13e61  48436dade18ac8b2bce089ec2a041202   \n",
       " 1       e5f2d52b802189ee658865ca93d83a8f  dd7ddc04e1b6c2c614352b383efe2d36   \n",
       " 2       c777355d18b72b67abbeef9df44fd0fd  5b51032eddd242adc84c38acab88f23d   \n",
       " 3       7634da152a4610f1595efa32f14722fc  9d7a1d34a5052409006425275ba1c2b4   \n",
       " 4       ac6c3623068f30de03045865e4e10089  df560393f3a51e74553ab94004ba5c87   \n",
       " ...                                  ...                               ...   \n",
       " 112645  4aa6014eceb682077f9dc4bffebc05b0  b8bc237ba3788b23da09c0f1f3a3288c   \n",
       " 112646  32e07fd915822b0765e448c4dd74c828  f3c38ab652836d21de61fb8314b69182   \n",
       " 112647  72a30483855e2eafc67aee5dc2560482  c3cfdc648177fdbbbb35635a37472c53   \n",
       " 112648  9c422a519119dcad7575db5af1ba540e  2b3e4a2a3ea8e01938cabda2a3e5cc79   \n",
       " 112649  350688d9dc1e75ff97be326363655e01  f7ccf836d21b2fb1de37564105216cc1   \n",
       " \n",
       "         shipping_limit_date   price  freight_value  \n",
       " 0       2017-09-19 09:45:35   58.90          13.29  \n",
       " 1       2017-05-03 11:05:13  239.90          19.93  \n",
       " 2       2018-01-18 14:48:30  199.00          17.87  \n",
       " 3       2018-08-15 10:10:18   12.99          12.79  \n",
       " 4       2017-02-13 13:57:51  199.90          18.14  \n",
       " ...                     ...     ...            ...  \n",
       " 112645  2018-05-02 04:11:01  299.99          43.41  \n",
       " 112646  2018-07-20 04:31:48  350.00          36.53  \n",
       " 112647  2017-10-30 17:14:25   99.90          16.95  \n",
       " 112648  2017-08-21 00:04:32   55.99           8.72  \n",
       " 112649  2018-06-12 17:10:13   43.00          12.79  \n",
       " \n",
       " [112650 rows x 7 columns],\n",
       " 'seller_modified':                              seller_id        seller_city seller_state  \\\n",
       " 0     3442f8959a84dea7ee197c632cb2df15           campinas           SP   \n",
       " 1     d1b65fc7debc3361ea86b5f14c68d2e2         mogi guacu           SP   \n",
       " 2     ce3ad9de960102d0677a81f5d0bb7b2d     rio de janeiro           RJ   \n",
       " 3     c0f3eea2e14555b6faeea3dd58c1b1c3          sao paulo           SP   \n",
       " 4     51a04a8a6bdcb23deccc82b0b80742cf  braganca paulista           SP   \n",
       " ...                                ...                ...          ...   \n",
       " 2965  98dddbc4601dd4443ca174359b237166            sarandi           PR   \n",
       " 2966  f8201cab383e484733266d1906e2fdfa            palhoca           SC   \n",
       " 2967  74871d19219c7d518d0090283e03c137          sao paulo           SP   \n",
       " 2968  e603cf3fec55f8697c9059638d6c8eb5            pelotas           RS   \n",
       " 2969  9e25199f6ef7e7c347120ff175652c3b            taubate           SP   \n",
       " \n",
       "       delay_to_carrier  wait_time      date_first_sale       date_last_sale  \\\n",
       " 0             0.000000  13.018588  2017-05-05 16:25:11  2017-08-30 12:50:19   \n",
       " 1             0.000000   9.065716  2017-03-29 02:10:34  2018-06-06 20:15:21   \n",
       " 2             0.000000   4.042292  2018-07-30 12:44:49  2018-07-30 12:44:49   \n",
       " 3             0.000000   5.667187  2018-08-03 00:44:08  2018-08-03 00:44:08   \n",
       " 4             3.353727  35.314861  2017-11-14 12:15:25  2017-11-14 12:15:25   \n",
       " ...                ...        ...                  ...                  ...   \n",
       " 2965          0.000000   8.230822  2018-07-14 03:10:19  2018-07-23 15:34:03   \n",
       " 2966          0.000000  13.045797  2017-06-17 15:30:11  2018-08-11 19:55:17   \n",
       " 2967          0.000000   3.606625  2018-04-05 17:09:46  2018-08-21 19:25:15   \n",
       " 2968          0.000000   6.657634  2017-02-09 02:43:17  2017-06-16 17:30:16   \n",
       " 2969          0.000000   8.199456  2017-03-27 10:10:27  2017-03-27 10:10:27   \n",
       " \n",
       "       months_on_olist  share_of_one_stars  share_of_five_stars  review_score  \\\n",
       " 0                 4.0            0.333333             0.333333          3.00   \n",
       " 1                15.0            0.050000             0.725000          4.55   \n",
       " 2                 1.0            0.000000             1.000000          5.00   \n",
       " 3                 1.0            0.000000             1.000000          5.00   \n",
       " 4                 1.0            1.000000             0.000000          1.00   \n",
       " ...               ...                 ...                  ...           ...   \n",
       " 2965              1.0            0.000000             1.000000          5.00   \n",
       " 2966             14.0            0.100000             0.500000          4.10   \n",
       " 2967              5.0            0.000000             1.000000          5.00   \n",
       " 2968              5.0            0.000000             0.500000          4.25   \n",
       " 2969              1.0            0.000000             0.000000          4.00   \n",
       " \n",
       "       cost_of_reviews  n_orders  quantity  quantity_per_order     sales  \\\n",
       " 0                 140         3         3            1.000000    218.70   \n",
       " 1                 240        40        41            1.025000  11703.07   \n",
       " 2                   0         1         1            1.000000    158.00   \n",
       " 3                   0         1         1            1.000000     79.99   \n",
       " 4                 100         1         1            1.000000    167.99   \n",
       " ...               ...       ...       ...                 ...       ...   \n",
       " 2965                0         2         2            1.000000    158.00   \n",
       " 2966              140        10        10            1.000000    889.00   \n",
       " 2967                0         6         7            1.166667    550.04   \n",
       " 2968               50         8        11            1.375000    297.00   \n",
       " 2969                0         1         1            1.000000     12.50   \n",
       " \n",
       "       revenues   profits   revenue  profits_before_it_costs  \n",
       " 0      341.870   201.870   341.870                  201.870  \n",
       " 1     2290.307  2050.307  2370.307                 2130.307  \n",
       " 2       15.800    15.800    95.800                   95.800  \n",
       " 3        7.999     7.999    87.999                   87.999  \n",
       " 4       16.799   -83.201    96.799                   -3.201  \n",
       " ...        ...       ...       ...                      ...  \n",
       " 2965    15.800    15.800    95.800                   95.800  \n",
       " 2966  1208.900  1068.900  1208.900                 1068.900  \n",
       " 2967   455.004   455.004   455.004                  455.004  \n",
       " 2968   349.700   299.700   429.700                  379.700  \n",
       " 2969     1.250     1.250    81.250                   81.250  \n",
       " \n",
       " [2970 rows x 20 columns],\n",
       " 'customers':                             customer_id                customer_unique_id  \\\n",
       " 0      06b8999e2fba1a1fbc88172c00ba8bc7  861eff4711a542e4b93843c6dd7febb0   \n",
       " 1      18955e83d337fd6b2def6b18a428ac77  290c77bc529b7ac935b93aa66c333dc3   \n",
       " 2      4e7b3e00288586ebd08712fdd0374a03  060e732b5b29e8181a18229c7b0b2b5e   \n",
       " 3      b2b6027bc5c5109e529d4dc6358b12c3  259dac757896d24d7702b9acbbff3f3c   \n",
       " 4      4f2d8ab171c80ec8364f7c12e35b23ad  345ecd01c38d18a9036ed96c73b8d066   \n",
       " ...                                 ...                               ...   \n",
       " 99436  17ddf5dd5d51696bb3d7c6291687be6f  1a29b476fee25c95fbafc67c5ac95cf8   \n",
       " 99437  e7b71a9017aa05c9a7fd292d714858e8  d52a67c98be1cf6a5c84435bd38d095d   \n",
       " 99438  5e28dfe12db7fb50a4b2f691faecea5e  e9f50caf99f032f0bf3c55141f019d99   \n",
       " 99439  56b18e2166679b8a959d72dd06da27f9  73c2643a0a458b49f58cea58833b192e   \n",
       " 99440  274fa6071e5e17fe303b9748641082c8  84732c5050c01db9b23e19ba39899398   \n",
       " \n",
       "        customer_zip_code_prefix          customer_city customer_state  \n",
       " 0                         14409                 franca             SP  \n",
       " 1                          9790  sao bernardo do campo             SP  \n",
       " 2                          1151              sao paulo             SP  \n",
       " 3                          8775        mogi das cruzes             SP  \n",
       " 4                         13056               campinas             SP  \n",
       " ...                         ...                    ...            ...  \n",
       " 99436                      3937              sao paulo             SP  \n",
       " 99437                      6764        taboao da serra             SP  \n",
       " 99438                     60115              fortaleza             CE  \n",
       " 99439                     92120                 canoas             RS  \n",
       " 99440                      6703                  cotia             SP  \n",
       " \n",
       " [99441 rows x 5 columns],\n",
       " 'geolocation':          geolocation_zip_code_prefix  geolocation_lat  geolocation_lng  \\\n",
       " 0                               1037       -23.545621       -46.639292   \n",
       " 1                               1046       -23.546081       -46.644820   \n",
       " 2                               1046       -23.546129       -46.642951   \n",
       " 3                               1041       -23.544392       -46.639499   \n",
       " 4                               1035       -23.541578       -46.641607   \n",
       " ...                              ...              ...              ...   \n",
       " 1000158                        99950       -28.068639       -52.010705   \n",
       " 1000159                        99900       -27.877125       -52.224882   \n",
       " 1000160                        99950       -28.071855       -52.014716   \n",
       " 1000161                        99980       -28.388932       -51.846871   \n",
       " 1000162                        99950       -28.070104       -52.018658   \n",
       " \n",
       "         geolocation_city geolocation_state  \n",
       " 0              sao paulo                SP  \n",
       " 1              sao paulo                SP  \n",
       " 2              sao paulo                SP  \n",
       " 3              sao paulo                SP  \n",
       " 4              sao paulo                SP  \n",
       " ...                  ...               ...  \n",
       " 1000158         tapejara                RS  \n",
       " 1000159   getulio vargas                RS  \n",
       " 1000160         tapejara                RS  \n",
       " 1000161  david canabarro                RS  \n",
       " 1000162         tapejara                RS  \n",
       " \n",
       " [1000163 rows x 5 columns],\n",
       " 'order_payments':                                 order_id  payment_sequential payment_type  \\\n",
       " 0       b81ef226f3fe1789b1e8b2acac839d17                   1  credit_card   \n",
       " 1       a9810da82917af2d9aefd1278f1dcfa0                   1  credit_card   \n",
       " 2       25e8ea4e93396b6fa0d3dd708e76c1bd                   1  credit_card   \n",
       " 3       ba78997921bbcdc1373bb41e913ab953                   1  credit_card   \n",
       " 4       42fdf880ba16b47b59251dd489d4441a                   1  credit_card   \n",
       " ...                                  ...                 ...          ...   \n",
       " 103881  0406037ad97740d563a178ecc7a2075c                   1       boleto   \n",
       " 103882  7b905861d7c825891d6347454ea7863f                   1  credit_card   \n",
       " 103883  32609bbb3dd69b3c066a6860554a77bf                   1  credit_card   \n",
       " 103884  b8b61059626efa996a60be9bb9320e10                   1  credit_card   \n",
       " 103885  28bbae6599b09d39ca406b747b6632b1                   1       boleto   \n",
       " \n",
       "         payment_installments  payment_value  \n",
       " 0                          8          99.33  \n",
       " 1                          1          24.39  \n",
       " 2                          1          65.71  \n",
       " 3                          8         107.78  \n",
       " 4                          2         128.45  \n",
       " ...                      ...            ...  \n",
       " 103881                     1         363.31  \n",
       " 103882                     2          96.80  \n",
       " 103883                     1          47.77  \n",
       " 103884                     5         369.54  \n",
       " 103885                     1         191.58  \n",
       " \n",
       " [103886 rows x 5 columns],\n",
       " 'order_reviews':                               review_id                          order_id  \\\n",
       " 0      7bc2406110b926393aa56f80a40eba40  73fc7af87114b39712e6da79b0a377eb   \n",
       " 1      80e641a11e56f04c1ad469d5645fdfde  a548910a1c6147796b98fdf73dbeba33   \n",
       " 2      228ce5500dc1d8e020d8d1322874b6f0  f9e4b658b201a9f2ecdecbb34bed034b   \n",
       " 3      e64fb393e7b32834bb789ff8bb30750e  658677c97b385a9be170737859d3511b   \n",
       " 4      f7c4243c7fe1938f181bec41a392bdeb  8e6bfb81e283fa7e4f11123a3fb894f1   \n",
       " ...                                 ...                               ...   \n",
       " 99995  f3897127253a9592a73be9bdfdf4ed7a  22ec9f0669f784db00fa86d035cf8602   \n",
       " 99996  b3de70c89b1510c4cd3d0649fd302472  55d4004744368f5571d1f590031933e4   \n",
       " 99997  1adeb9d84d72fe4e337617733eb85149  7725825d039fc1f0ceb7635e3f7d9206   \n",
       " 99998  be360f18f5df1e0541061c87021e6d93  f8bd3f2000c28c5342fedeb5e50f2e75   \n",
       " 99999  efe49f1d6f951dd88b51e6ccd4cc548f  90531360ecb1eec2a1fbb265a0db0508   \n",
       " \n",
       "        review_score review_comment_title  \\\n",
       " 0                 4                  NaN   \n",
       " 1                 5                  NaN   \n",
       " 2                 5                  NaN   \n",
       " 3                 5                  NaN   \n",
       " 4                 5                  NaN   \n",
       " ...             ...                  ...   \n",
       " 99995             5                  NaN   \n",
       " 99996             5                  NaN   \n",
       " 99997             4                  NaN   \n",
       " 99998             1                  NaN   \n",
       " 99999             1                  NaN   \n",
       " \n",
       "                                   review_comment_message review_creation_date  \\\n",
       " 0                                                    NaN  2018-01-18 00:00:00   \n",
       " 1                                                    NaN  2018-03-10 00:00:00   \n",
       " 2                                                    NaN  2018-02-17 00:00:00   \n",
       " 3                  Recebi bem antes do prazo estipulado.  2017-04-21 00:00:00   \n",
       " 4      Parabéns lojas lannister adorei comprar pela I...  2018-03-01 00:00:00   \n",
       " ...                                                  ...                  ...   \n",
       " 99995                                                NaN  2017-12-09 00:00:00   \n",
       " 99996  Excelente mochila, entrega super rápida. Super...  2018-03-22 00:00:00   \n",
       " 99997                                                NaN  2018-07-01 00:00:00   \n",
       " 99998  Solicitei a compra de uma capa de retrovisor c...  2017-12-15 00:00:00   \n",
       " 99999  meu produto chegou e ja tenho que devolver, po...  2017-07-03 00:00:00   \n",
       " \n",
       "       review_answer_timestamp  \n",
       " 0         2018-01-18 21:46:59  \n",
       " 1         2018-03-11 03:05:13  \n",
       " 2         2018-02-18 14:36:24  \n",
       " 3         2017-04-21 22:02:06  \n",
       " 4         2018-03-02 10:26:53  \n",
       " ...                       ...  \n",
       " 99995     2017-12-11 20:06:42  \n",
       " 99996     2018-03-23 09:10:43  \n",
       " 99997     2018-07-02 12:59:13  \n",
       " 99998     2017-12-16 01:29:43  \n",
       " 99999     2017-07-03 21:01:49  \n",
       " \n",
       " [100000 rows x 7 columns],\n",
       " 'products':                              product_id              product_category_name  \\\n",
       " 0      1e9e8ef04dbcff4541ed26657ea517e5                         perfumaria   \n",
       " 1      3aa071139cb16b67ca9e5dea641aaa2f                              artes   \n",
       " 2      96bd76ec8810374ed1b65e291975717f                      esporte_lazer   \n",
       " 3      cef67bcfe19066a932b7673e239eb23d                              bebes   \n",
       " 4      9dc1a7de274444849c219cff195d0b71              utilidades_domesticas   \n",
       " ...                                 ...                                ...   \n",
       " 32946  a0b7d5a992ccda646f2d34e418fff5a0                   moveis_decoracao   \n",
       " 32947  bf4538d88321d0fd4412a93c974510e6  construcao_ferramentas_iluminacao   \n",
       " 32948  9a7c6041fa9592d9d9ef6cfe62a71f8c                    cama_mesa_banho   \n",
       " 32949  83808703fc0706a22e264b9d75f04a2e             informatica_acessorios   \n",
       " 32950  106392145fca363410d287a815be6de4                    cama_mesa_banho   \n",
       " \n",
       "        product_name_lenght  product_description_lenght  product_photos_qty  \\\n",
       " 0                     40.0                       287.0                 1.0   \n",
       " 1                     44.0                       276.0                 1.0   \n",
       " 2                     46.0                       250.0                 1.0   \n",
       " 3                     27.0                       261.0                 1.0   \n",
       " 4                     37.0                       402.0                 4.0   \n",
       " ...                    ...                         ...                 ...   \n",
       " 32946                 45.0                        67.0                 2.0   \n",
       " 32947                 41.0                       971.0                 1.0   \n",
       " 32948                 50.0                       799.0                 1.0   \n",
       " 32949                 60.0                       156.0                 2.0   \n",
       " 32950                 58.0                       309.0                 1.0   \n",
       " \n",
       "        product_weight_g  product_length_cm  product_height_cm  \\\n",
       " 0                 225.0               16.0               10.0   \n",
       " 1                1000.0               30.0               18.0   \n",
       " 2                 154.0               18.0                9.0   \n",
       " 3                 371.0               26.0                4.0   \n",
       " 4                 625.0               20.0               17.0   \n",
       " ...                 ...                ...                ...   \n",
       " 32946           12300.0               40.0               40.0   \n",
       " 32947            1700.0               16.0               19.0   \n",
       " 32948            1400.0               27.0                7.0   \n",
       " 32949             700.0               31.0               13.0   \n",
       " 32950            2083.0               12.0                2.0   \n",
       " \n",
       "        product_width_cm  \n",
       " 0                  14.0  \n",
       " 1                  20.0  \n",
       " 2                  15.0  \n",
       " 3                  26.0  \n",
       " 4                  13.0  \n",
       " ...                 ...  \n",
       " 32946              40.0  \n",
       " 32947              16.0  \n",
       " 32948              27.0  \n",
       " 32949              20.0  \n",
       " 32950               7.0  \n",
       " \n",
       " [32951 rows x 9 columns]}"
      ]
     },
     "execution_count": 7,
     "metadata": {},
     "output_type": "execute_result"
    }
   ],
   "source": [
    "data = Olist().get_data()\n",
    "data"
   ]
  },
  {
   "cell_type": "code",
   "execution_count": 9,
   "metadata": {},
   "outputs": [
    {
     "data": {
      "text/html": [
       "<div>\n",
       "<style scoped>\n",
       "    .dataframe tbody tr th:only-of-type {\n",
       "        vertical-align: middle;\n",
       "    }\n",
       "\n",
       "    .dataframe tbody tr th {\n",
       "        vertical-align: top;\n",
       "    }\n",
       "\n",
       "    .dataframe thead th {\n",
       "        text-align: right;\n",
       "    }\n",
       "</style>\n",
       "<table border=\"1\" class=\"dataframe\">\n",
       "  <thead>\n",
       "    <tr style=\"text-align: right;\">\n",
       "      <th></th>\n",
       "      <th>seller_id</th>\n",
       "      <th>seller_city</th>\n",
       "      <th>seller_state</th>\n",
       "      <th>delay_to_carrier</th>\n",
       "      <th>seller_wait_time</th>\n",
       "      <th>date_first_sale</th>\n",
       "      <th>date_last_sale</th>\n",
       "      <th>months_on_olist</th>\n",
       "      <th>share_of_one_stars</th>\n",
       "      <th>share_of_five_stars</th>\n",
       "      <th>seller_review_score</th>\n",
       "      <th>review_cost_per_seller</th>\n",
       "      <th>n_orders</th>\n",
       "      <th>quantity</th>\n",
       "      <th>quantity_per_order</th>\n",
       "      <th>sales</th>\n",
       "    </tr>\n",
       "  </thead>\n",
       "  <tbody>\n",
       "    <tr>\n",
       "      <th>0</th>\n",
       "      <td>3442f8959a84dea7ee197c632cb2df15</td>\n",
       "      <td>campinas</td>\n",
       "      <td>SP</td>\n",
       "      <td>0.000000</td>\n",
       "      <td>13.018588</td>\n",
       "      <td>2017-05-05 16:25:11</td>\n",
       "      <td>2017-08-30 12:50:19</td>\n",
       "      <td>4.0</td>\n",
       "      <td>0.333333</td>\n",
       "      <td>0.333333</td>\n",
       "      <td>3.00</td>\n",
       "      <td>140</td>\n",
       "      <td>3</td>\n",
       "      <td>3</td>\n",
       "      <td>1.000</td>\n",
       "      <td>218.70</td>\n",
       "    </tr>\n",
       "    <tr>\n",
       "      <th>1</th>\n",
       "      <td>d1b65fc7debc3361ea86b5f14c68d2e2</td>\n",
       "      <td>mogi guacu</td>\n",
       "      <td>SP</td>\n",
       "      <td>0.000000</td>\n",
       "      <td>9.065716</td>\n",
       "      <td>2017-03-29 02:10:34</td>\n",
       "      <td>2018-06-06 20:15:21</td>\n",
       "      <td>14.0</td>\n",
       "      <td>0.050000</td>\n",
       "      <td>0.725000</td>\n",
       "      <td>4.55</td>\n",
       "      <td>240</td>\n",
       "      <td>40</td>\n",
       "      <td>41</td>\n",
       "      <td>1.025</td>\n",
       "      <td>11703.07</td>\n",
       "    </tr>\n",
       "    <tr>\n",
       "      <th>2</th>\n",
       "      <td>ce3ad9de960102d0677a81f5d0bb7b2d</td>\n",
       "      <td>rio de janeiro</td>\n",
       "      <td>RJ</td>\n",
       "      <td>0.000000</td>\n",
       "      <td>4.042292</td>\n",
       "      <td>2018-07-30 12:44:49</td>\n",
       "      <td>2018-07-30 12:44:49</td>\n",
       "      <td>0.0</td>\n",
       "      <td>0.000000</td>\n",
       "      <td>1.000000</td>\n",
       "      <td>5.00</td>\n",
       "      <td>0</td>\n",
       "      <td>1</td>\n",
       "      <td>1</td>\n",
       "      <td>1.000</td>\n",
       "      <td>158.00</td>\n",
       "    </tr>\n",
       "    <tr>\n",
       "      <th>3</th>\n",
       "      <td>c0f3eea2e14555b6faeea3dd58c1b1c3</td>\n",
       "      <td>sao paulo</td>\n",
       "      <td>SP</td>\n",
       "      <td>0.000000</td>\n",
       "      <td>5.667187</td>\n",
       "      <td>2018-08-03 00:44:08</td>\n",
       "      <td>2018-08-03 00:44:08</td>\n",
       "      <td>0.0</td>\n",
       "      <td>0.000000</td>\n",
       "      <td>1.000000</td>\n",
       "      <td>5.00</td>\n",
       "      <td>0</td>\n",
       "      <td>1</td>\n",
       "      <td>1</td>\n",
       "      <td>1.000</td>\n",
       "      <td>79.99</td>\n",
       "    </tr>\n",
       "    <tr>\n",
       "      <th>4</th>\n",
       "      <td>51a04a8a6bdcb23deccc82b0b80742cf</td>\n",
       "      <td>braganca paulista</td>\n",
       "      <td>SP</td>\n",
       "      <td>3.353727</td>\n",
       "      <td>35.314861</td>\n",
       "      <td>2017-11-14 12:15:25</td>\n",
       "      <td>2017-11-14 12:15:25</td>\n",
       "      <td>0.0</td>\n",
       "      <td>1.000000</td>\n",
       "      <td>0.000000</td>\n",
       "      <td>1.00</td>\n",
       "      <td>100</td>\n",
       "      <td>1</td>\n",
       "      <td>1</td>\n",
       "      <td>1.000</td>\n",
       "      <td>167.99</td>\n",
       "    </tr>\n",
       "  </tbody>\n",
       "</table>\n",
       "</div>"
      ],
      "text/plain": [
       "                          seller_id        seller_city seller_state  \\\n",
       "0  3442f8959a84dea7ee197c632cb2df15           campinas           SP   \n",
       "1  d1b65fc7debc3361ea86b5f14c68d2e2         mogi guacu           SP   \n",
       "2  ce3ad9de960102d0677a81f5d0bb7b2d     rio de janeiro           RJ   \n",
       "3  c0f3eea2e14555b6faeea3dd58c1b1c3          sao paulo           SP   \n",
       "4  51a04a8a6bdcb23deccc82b0b80742cf  braganca paulista           SP   \n",
       "\n",
       "   delay_to_carrier  seller_wait_time     date_first_sale      date_last_sale  \\\n",
       "0          0.000000         13.018588 2017-05-05 16:25:11 2017-08-30 12:50:19   \n",
       "1          0.000000          9.065716 2017-03-29 02:10:34 2018-06-06 20:15:21   \n",
       "2          0.000000          4.042292 2018-07-30 12:44:49 2018-07-30 12:44:49   \n",
       "3          0.000000          5.667187 2018-08-03 00:44:08 2018-08-03 00:44:08   \n",
       "4          3.353727         35.314861 2017-11-14 12:15:25 2017-11-14 12:15:25   \n",
       "\n",
       "   months_on_olist  share_of_one_stars  share_of_five_stars  \\\n",
       "0              4.0            0.333333             0.333333   \n",
       "1             14.0            0.050000             0.725000   \n",
       "2              0.0            0.000000             1.000000   \n",
       "3              0.0            0.000000             1.000000   \n",
       "4              0.0            1.000000             0.000000   \n",
       "\n",
       "   seller_review_score  review_cost_per_seller  n_orders  quantity  \\\n",
       "0                 3.00                     140         3         3   \n",
       "1                 4.55                     240        40        41   \n",
       "2                 5.00                       0         1         1   \n",
       "3                 5.00                       0         1         1   \n",
       "4                 1.00                     100         1         1   \n",
       "\n",
       "   quantity_per_order     sales  \n",
       "0               1.000    218.70  \n",
       "1               1.025  11703.07  \n",
       "2               1.000    158.00  \n",
       "3               1.000     79.99  \n",
       "4               1.000    167.99  "
      ]
     },
     "execution_count": 9,
     "metadata": {},
     "output_type": "execute_result"
    }
   ],
   "source": [
    "# Load Sellers data\n",
    "sellers = Seller().get_training_data()\n",
    "sellers.head()"
   ]
  },
  {
   "cell_type": "markdown",
   "metadata": {},
   "source": [
    "## Revenue per seller"
   ]
  },
  {
   "cell_type": "markdown",
   "metadata": {},
   "source": [
    "Olist generates revenue from its sellers through two components:\n",
    "1. **Monthly Membership Fee**: sellers pay Olist an **80 Brazilian Real (BRL)** (~15 USD) monthly fee to use the platform\n",
    "2. **Revenue Share**: for every order on the platform, Olist takes a **10% cut** based on the product price  of each item (excl. shipping)\n"
   ]
  },
  {
   "cell_type": "code",
   "execution_count": 10,
   "metadata": {
    "scrolled": true,
    "slideshow": {
     "slide_type": "skip"
    }
   },
   "outputs": [
    {
     "data": {
      "text/html": [
       "<div>\n",
       "<style scoped>\n",
       "    .dataframe tbody tr th:only-of-type {\n",
       "        vertical-align: middle;\n",
       "    }\n",
       "\n",
       "    .dataframe tbody tr th {\n",
       "        vertical-align: top;\n",
       "    }\n",
       "\n",
       "    .dataframe thead th {\n",
       "        text-align: right;\n",
       "    }\n",
       "</style>\n",
       "<table border=\"1\" class=\"dataframe\">\n",
       "  <thead>\n",
       "    <tr style=\"text-align: right;\">\n",
       "      <th></th>\n",
       "      <th>seller_id</th>\n",
       "      <th>seller_city</th>\n",
       "      <th>seller_state</th>\n",
       "      <th>delay_to_carrier</th>\n",
       "      <th>seller_wait_time</th>\n",
       "      <th>date_first_sale</th>\n",
       "      <th>date_last_sale</th>\n",
       "      <th>months_on_olist</th>\n",
       "      <th>share_of_one_stars</th>\n",
       "      <th>share_of_five_stars</th>\n",
       "      <th>seller_review_score</th>\n",
       "      <th>review_cost_per_seller</th>\n",
       "      <th>n_orders</th>\n",
       "      <th>quantity</th>\n",
       "      <th>quantity_per_order</th>\n",
       "      <th>sales</th>\n",
       "      <th>revenue_per_seller</th>\n",
       "    </tr>\n",
       "  </thead>\n",
       "  <tbody>\n",
       "    <tr>\n",
       "      <th>0</th>\n",
       "      <td>3442f8959a84dea7ee197c632cb2df15</td>\n",
       "      <td>campinas</td>\n",
       "      <td>SP</td>\n",
       "      <td>0.000000</td>\n",
       "      <td>13.018588</td>\n",
       "      <td>2017-05-05 16:25:11</td>\n",
       "      <td>2017-08-30 12:50:19</td>\n",
       "      <td>4.0</td>\n",
       "      <td>0.333333</td>\n",
       "      <td>0.333333</td>\n",
       "      <td>3.00</td>\n",
       "      <td>140</td>\n",
       "      <td>3</td>\n",
       "      <td>3</td>\n",
       "      <td>1.000</td>\n",
       "      <td>218.70</td>\n",
       "      <td>341.870</td>\n",
       "    </tr>\n",
       "    <tr>\n",
       "      <th>1</th>\n",
       "      <td>d1b65fc7debc3361ea86b5f14c68d2e2</td>\n",
       "      <td>mogi guacu</td>\n",
       "      <td>SP</td>\n",
       "      <td>0.000000</td>\n",
       "      <td>9.065716</td>\n",
       "      <td>2017-03-29 02:10:34</td>\n",
       "      <td>2018-06-06 20:15:21</td>\n",
       "      <td>15.0</td>\n",
       "      <td>0.050000</td>\n",
       "      <td>0.725000</td>\n",
       "      <td>4.55</td>\n",
       "      <td>240</td>\n",
       "      <td>40</td>\n",
       "      <td>41</td>\n",
       "      <td>1.025</td>\n",
       "      <td>11703.07</td>\n",
       "      <td>2370.307</td>\n",
       "    </tr>\n",
       "    <tr>\n",
       "      <th>2</th>\n",
       "      <td>ce3ad9de960102d0677a81f5d0bb7b2d</td>\n",
       "      <td>rio de janeiro</td>\n",
       "      <td>RJ</td>\n",
       "      <td>0.000000</td>\n",
       "      <td>4.042292</td>\n",
       "      <td>2018-07-30 12:44:49</td>\n",
       "      <td>2018-07-30 12:44:49</td>\n",
       "      <td>1.0</td>\n",
       "      <td>0.000000</td>\n",
       "      <td>1.000000</td>\n",
       "      <td>5.00</td>\n",
       "      <td>0</td>\n",
       "      <td>1</td>\n",
       "      <td>1</td>\n",
       "      <td>1.000</td>\n",
       "      <td>158.00</td>\n",
       "      <td>95.800</td>\n",
       "    </tr>\n",
       "    <tr>\n",
       "      <th>3</th>\n",
       "      <td>c0f3eea2e14555b6faeea3dd58c1b1c3</td>\n",
       "      <td>sao paulo</td>\n",
       "      <td>SP</td>\n",
       "      <td>0.000000</td>\n",
       "      <td>5.667187</td>\n",
       "      <td>2018-08-03 00:44:08</td>\n",
       "      <td>2018-08-03 00:44:08</td>\n",
       "      <td>1.0</td>\n",
       "      <td>0.000000</td>\n",
       "      <td>1.000000</td>\n",
       "      <td>5.00</td>\n",
       "      <td>0</td>\n",
       "      <td>1</td>\n",
       "      <td>1</td>\n",
       "      <td>1.000</td>\n",
       "      <td>79.99</td>\n",
       "      <td>87.999</td>\n",
       "    </tr>\n",
       "    <tr>\n",
       "      <th>4</th>\n",
       "      <td>51a04a8a6bdcb23deccc82b0b80742cf</td>\n",
       "      <td>braganca paulista</td>\n",
       "      <td>SP</td>\n",
       "      <td>3.353727</td>\n",
       "      <td>35.314861</td>\n",
       "      <td>2017-11-14 12:15:25</td>\n",
       "      <td>2017-11-14 12:15:25</td>\n",
       "      <td>1.0</td>\n",
       "      <td>1.000000</td>\n",
       "      <td>0.000000</td>\n",
       "      <td>1.00</td>\n",
       "      <td>100</td>\n",
       "      <td>1</td>\n",
       "      <td>1</td>\n",
       "      <td>1.000</td>\n",
       "      <td>167.99</td>\n",
       "      <td>96.799</td>\n",
       "    </tr>\n",
       "  </tbody>\n",
       "</table>\n",
       "</div>"
      ],
      "text/plain": [
       "                          seller_id        seller_city seller_state  \\\n",
       "0  3442f8959a84dea7ee197c632cb2df15           campinas           SP   \n",
       "1  d1b65fc7debc3361ea86b5f14c68d2e2         mogi guacu           SP   \n",
       "2  ce3ad9de960102d0677a81f5d0bb7b2d     rio de janeiro           RJ   \n",
       "3  c0f3eea2e14555b6faeea3dd58c1b1c3          sao paulo           SP   \n",
       "4  51a04a8a6bdcb23deccc82b0b80742cf  braganca paulista           SP   \n",
       "\n",
       "   delay_to_carrier  seller_wait_time     date_first_sale      date_last_sale  \\\n",
       "0          0.000000         13.018588 2017-05-05 16:25:11 2017-08-30 12:50:19   \n",
       "1          0.000000          9.065716 2017-03-29 02:10:34 2018-06-06 20:15:21   \n",
       "2          0.000000          4.042292 2018-07-30 12:44:49 2018-07-30 12:44:49   \n",
       "3          0.000000          5.667187 2018-08-03 00:44:08 2018-08-03 00:44:08   \n",
       "4          3.353727         35.314861 2017-11-14 12:15:25 2017-11-14 12:15:25   \n",
       "\n",
       "   months_on_olist  share_of_one_stars  share_of_five_stars  \\\n",
       "0              4.0            0.333333             0.333333   \n",
       "1             15.0            0.050000             0.725000   \n",
       "2              1.0            0.000000             1.000000   \n",
       "3              1.0            0.000000             1.000000   \n",
       "4              1.0            1.000000             0.000000   \n",
       "\n",
       "   seller_review_score  review_cost_per_seller  n_orders  quantity  \\\n",
       "0                 3.00                     140         3         3   \n",
       "1                 4.55                     240        40        41   \n",
       "2                 5.00                       0         1         1   \n",
       "3                 5.00                       0         1         1   \n",
       "4                 1.00                     100         1         1   \n",
       "\n",
       "   quantity_per_order     sales  revenue_per_seller  \n",
       "0               1.000    218.70             341.870  \n",
       "1               1.025  11703.07            2370.307  \n",
       "2               1.000    158.00              95.800  \n",
       "3               1.000     79.99              87.999  \n",
       "4               1.000    167.99              96.799  "
      ]
     },
     "execution_count": 10,
     "metadata": {},
     "output_type": "execute_result"
    }
   ],
   "source": [
    "# Revenue Calculation: Monthly Membership Fee Calculation + Revenue Share\n",
    "\n",
    "# Calculate total time on platform (in months)\n",
    "number_of_months_on_olist = (sellers.date_last_sale - sellers.date_first_sale) / np.timedelta64(1, 'M')\n",
    "sellers['months_on_olist'] = number_of_months_on_olist.map(lambda x: 1 if x < 1 else np.ceil(x))\n",
    "\n",
    "# Calculate total revenue each seller has generatedb for Olist\n",
    "sellers['revenue_per_seller'] = sellers.months_on_olist * 80 + sellers.sales * 0.1\n",
    "sellers.head()"
   ]
  },
  {
   "cell_type": "code",
   "execution_count": 11,
   "metadata": {
    "scrolled": true
   },
   "outputs": [
    {
     "data": {
      "image/png": "[encoded data removed]",
      "text/plain": [
       "<Figure size 864x576 with 1 Axes>"
      ]
     },
     "metadata": {
      "needs_background": "light"
     },
     "output_type": "display_data"
    }
   ],
   "source": [
    "# Plot histogram of seller revenue\n",
    "plt.figure(figsize=(12,8))\n",
    "sns.set_style('darkgrid')\n",
    "\n",
    "ax = sns.histplot(sellers.revenue_per_seller)\n",
    "ax.set_xlabel('Revenue per Seller (BRL)')\n",
    "ax.set_ylabel('Number of Sellers')\n",
    "ax.set_title('Distribution of Seller Contribution to Olist Revenue');"
   ]
  },
  {
   "cell_type": "code",
   "execution_count": 12,
   "metadata": {
    "scrolled": true
   },
   "outputs": [
    {
     "data": {
      "text/html": [
       "<div>\n",
       "<style scoped>\n",
       "    .dataframe tbody tr th:only-of-type {\n",
       "        vertical-align: middle;\n",
       "    }\n",
       "\n",
       "    .dataframe tbody tr th {\n",
       "        vertical-align: top;\n",
       "    }\n",
       "\n",
       "    .dataframe thead th {\n",
       "        text-align: right;\n",
       "    }\n",
       "</style>\n",
       "<table border=\"1\" class=\"dataframe\">\n",
       "  <thead>\n",
       "    <tr style=\"text-align: right;\">\n",
       "      <th></th>\n",
       "      <th>revenue_per_seller</th>\n",
       "    </tr>\n",
       "  </thead>\n",
       "  <tbody>\n",
       "    <tr>\n",
       "      <th>count</th>\n",
       "      <td>2970.000000</td>\n",
       "    </tr>\n",
       "    <tr>\n",
       "      <th>mean</th>\n",
       "      <td>986.186944</td>\n",
       "    </tr>\n",
       "    <tr>\n",
       "      <th>std</th>\n",
       "      <td>1655.679175</td>\n",
       "    </tr>\n",
       "    <tr>\n",
       "      <th>min</th>\n",
       "      <td>80.650000</td>\n",
       "    </tr>\n",
       "    <tr>\n",
       "      <th>25%</th>\n",
       "      <td>173.099250</td>\n",
       "    </tr>\n",
       "    <tr>\n",
       "      <th>50%</th>\n",
       "      <td>504.049000</td>\n",
       "    </tr>\n",
       "    <tr>\n",
       "      <th>75%</th>\n",
       "      <td>1223.955000</td>\n",
       "    </tr>\n",
       "    <tr>\n",
       "      <th>max</th>\n",
       "      <td>24387.263000</td>\n",
       "    </tr>\n",
       "  </tbody>\n",
       "</table>\n",
       "</div>"
      ],
      "text/plain": [
       "       revenue_per_seller\n",
       "count         2970.000000\n",
       "mean           986.186944\n",
       "std           1655.679175\n",
       "min             80.650000\n",
       "25%            173.099250\n",
       "50%            504.049000\n",
       "75%           1223.955000\n",
       "max          24387.263000"
      ]
     },
     "execution_count": 12,
     "metadata": {},
     "output_type": "execute_result"
    }
   ],
   "source": [
    "sellers[['revenue_per_seller']].describe()"
   ]
  },
  {
   "cell_type": "markdown",
   "metadata": {},
   "source": [
    "Half of all sellers on the platform have brought in less than **504 BRL** (95 USD). "
   ]
  },
  {
   "cell_type": "markdown",
   "metadata": {
    "slideshow": {
     "slide_type": "skip"
    }
   },
   "source": [
    "## Cost per seller"
   ]
  },
  {
   "cell_type": "markdown",
   "metadata": {},
   "source": [
    "Because poor reviews from customers can have several direct and indirect costs to a business (e.g. customer support utilization, bad word-of-mouth, low repeat rate, etc.), we'll use the following table to estimate monetary costs associated with bad reviews:\n",
    "\n",
    "**Estimated cost to Olist per bad review (in BRL)** (100 BRL $\\approx$ 20 USD)\n",
    "- **1 star:** 100\n",
    "- **2 stars:** 50\n",
    "- **3 stars:** 40\n",
    "- **4 stars:** 0\n",
    "- **5 stars:** 0"
   ]
  },
  {
   "cell_type": "code",
   "execution_count": 13,
   "metadata": {},
   "outputs": [
    {
     "data": {
      "text/html": [
       "<div>\n",
       "<style scoped>\n",
       "    .dataframe tbody tr th:only-of-type {\n",
       "        vertical-align: middle;\n",
       "    }\n",
       "\n",
       "    .dataframe tbody tr th {\n",
       "        vertical-align: top;\n",
       "    }\n",
       "\n",
       "    .dataframe thead th {\n",
       "        text-align: right;\n",
       "    }\n",
       "</style>\n",
       "<table border=\"1\" class=\"dataframe\">\n",
       "  <thead>\n",
       "    <tr style=\"text-align: right;\">\n",
       "      <th></th>\n",
       "      <th>seller_id</th>\n",
       "      <th>seller_review_score</th>\n",
       "      <th>review_cost_per_seller</th>\n",
       "    </tr>\n",
       "  </thead>\n",
       "  <tbody>\n",
       "    <tr>\n",
       "      <th>0</th>\n",
       "      <td>3442f8959a84dea7ee197c632cb2df15</td>\n",
       "      <td>3.00</td>\n",
       "      <td>140</td>\n",
       "    </tr>\n",
       "    <tr>\n",
       "      <th>1</th>\n",
       "      <td>d1b65fc7debc3361ea86b5f14c68d2e2</td>\n",
       "      <td>4.55</td>\n",
       "      <td>240</td>\n",
       "    </tr>\n",
       "    <tr>\n",
       "      <th>2</th>\n",
       "      <td>ce3ad9de960102d0677a81f5d0bb7b2d</td>\n",
       "      <td>5.00</td>\n",
       "      <td>0</td>\n",
       "    </tr>\n",
       "    <tr>\n",
       "      <th>3</th>\n",
       "      <td>c0f3eea2e14555b6faeea3dd58c1b1c3</td>\n",
       "      <td>5.00</td>\n",
       "      <td>0</td>\n",
       "    </tr>\n",
       "    <tr>\n",
       "      <th>4</th>\n",
       "      <td>51a04a8a6bdcb23deccc82b0b80742cf</td>\n",
       "      <td>1.00</td>\n",
       "      <td>100</td>\n",
       "    </tr>\n",
       "  </tbody>\n",
       "</table>\n",
       "</div>"
      ],
      "text/plain": [
       "                          seller_id  seller_review_score  \\\n",
       "0  3442f8959a84dea7ee197c632cb2df15                 3.00   \n",
       "1  d1b65fc7debc3361ea86b5f14c68d2e2                 4.55   \n",
       "2  ce3ad9de960102d0677a81f5d0bb7b2d                 5.00   \n",
       "3  c0f3eea2e14555b6faeea3dd58c1b1c3                 5.00   \n",
       "4  51a04a8a6bdcb23deccc82b0b80742cf                 1.00   \n",
       "\n",
       "   review_cost_per_seller  \n",
       "0                     140  \n",
       "1                     240  \n",
       "2                       0  \n",
       "3                       0  \n",
       "4                     100  "
      ]
     },
     "execution_count": 13,
     "metadata": {},
     "output_type": "execute_result"
    }
   ],
   "source": [
    "sellers[['seller_id','seller_review_score','review_cost_per_seller']].head()"
   ]
  },
  {
   "cell_type": "markdown",
   "metadata": {},
   "source": [
    "- `seller_review_score`: the average review score earned by a seller.\n",
    "\n",
    "- `review_cost_per_seller`: the total cost from all bad reviews for each seller. It's calculated by first assigning a monetary cost for any review *receiving 3 stars or less*, and then these costs are totaled up per seller. "
   ]
  },
  {
   "cell_type": "code",
   "execution_count": 15,
   "metadata": {
    "scrolled": true
   },
   "outputs": [
    {
     "data": {
      "image/png": "[encoded data removed]",
      "text/plain": [
       "<Figure size 864x576 with 1 Axes>"
      ]
     },
     "metadata": {},
     "output_type": "display_data"
    }
   ],
   "source": [
    "# Plot histogram of seller revenue\n",
    "plt.figure(figsize=(12,8))\n",
    "sns.set_style('darkgrid')\n",
    "\n",
    "ax = sns.histplot(sellers.review_cost_per_seller)\n",
    "ax.set_xlabel('Review Cost per Seller (BRL)')\n",
    "ax.set_ylabel('Number of Sellers')\n",
    "ax.set_title('Distribution of Seller Review Costs to Olist');"
   ]
  },
  {
   "cell_type": "code",
   "execution_count": 16,
   "metadata": {
    "scrolled": true
   },
   "outputs": [
    {
     "data": {
      "text/html": [
       "<div>\n",
       "<style scoped>\n",
       "    .dataframe tbody tr th:only-of-type {\n",
       "        vertical-align: middle;\n",
       "    }\n",
       "\n",
       "    .dataframe tbody tr th {\n",
       "        vertical-align: top;\n",
       "    }\n",
       "\n",
       "    .dataframe thead th {\n",
       "        text-align: right;\n",
       "    }\n",
       "</style>\n",
       "<table border=\"1\" class=\"dataframe\">\n",
       "  <thead>\n",
       "    <tr style=\"text-align: right;\">\n",
       "      <th></th>\n",
       "      <th>review_cost_per_seller</th>\n",
       "    </tr>\n",
       "  </thead>\n",
       "  <tbody>\n",
       "    <tr>\n",
       "      <th>count</th>\n",
       "      <td>2970.000000</td>\n",
       "    </tr>\n",
       "    <tr>\n",
       "      <th>mean</th>\n",
       "      <td>562.131313</td>\n",
       "    </tr>\n",
       "    <tr>\n",
       "      <th>std</th>\n",
       "      <td>1941.000427</td>\n",
       "    </tr>\n",
       "    <tr>\n",
       "      <th>min</th>\n",
       "      <td>0.000000</td>\n",
       "    </tr>\n",
       "    <tr>\n",
       "      <th>25%</th>\n",
       "      <td>0.000000</td>\n",
       "    </tr>\n",
       "    <tr>\n",
       "      <th>50%</th>\n",
       "      <td>100.000000</td>\n",
       "    </tr>\n",
       "    <tr>\n",
       "      <th>75%</th>\n",
       "      <td>380.000000</td>\n",
       "    </tr>\n",
       "    <tr>\n",
       "      <th>max</th>\n",
       "      <td>40890.000000</td>\n",
       "    </tr>\n",
       "  </tbody>\n",
       "</table>\n",
       "</div>"
      ],
      "text/plain": [
       "       review_cost_per_seller\n",
       "count             2970.000000\n",
       "mean               562.131313\n",
       "std               1941.000427\n",
       "min                  0.000000\n",
       "25%                  0.000000\n",
       "50%                100.000000\n",
       "75%                380.000000\n",
       "max              40890.000000"
      ]
     },
     "execution_count": 16,
     "metadata": {},
     "output_type": "execute_result"
    }
   ],
   "source": [
    "sellers[['review_cost_per_seller']].describe()"
   ]
  },
  {
   "cell_type": "code",
   "execution_count": 19,
   "metadata": {},
   "outputs": [
    {
     "data": {
      "text/plain": [
       "70.16835016835017"
      ]
     },
     "execution_count": 19,
     "metadata": {},
     "output_type": "execute_result"
    }
   ],
   "source": [
    "# Percentage of sellers who have some bad reviews (3 stars or less)\n",
    "(sellers[sellers.review_cost_per_seller > 0]['review_cost_per_seller'].count() / len(sellers) ) * 100"
   ]
  },
  {
   "cell_type": "markdown",
   "metadata": {},
   "source": [
    "While **70%** of sellers have had **at least 1 bad review** (3 stars or less), we can see that **most sellers do not have enough bad reviews to cost Olist substantially**, since even at the **75th percentile**, *total review costs* per seller are below **380 BRL** (~70 USD). This along with our distribution plot suggest that it's a small number of sellers that bring about a disproportionate number of bad reviews which ultimately cost Olist.\n",
    "\n",
    "However, to get a clearer picture of the impact, we should include revenues and actually calculate the *profit per seller.* "
   ]
  },
  {
   "cell_type": "markdown",
   "metadata": {},
   "source": [
    "## Profit per seller "
   ]
  },
  {
   "cell_type": "markdown",
   "metadata": {},
   "source": [
    "Now that we know how much revenue each seller generates for Olist and also the cost of bad reviews, let's calculate the profit to Olist from each seller. This will allow us to see more clearly *which sellers* are a drag on Olist's bottom line and *by how much.* \n",
    "\n",
    "We've also been asked by the CEO to consider the IT costs associated with running the platform, but for now we'll set that aside in our analysis and examine it later.   "
   ]
  },
  {
   "cell_type": "code",
   "execution_count": 21,
   "metadata": {},
   "outputs": [
    {
     "data": {
      "text/html": [
       "<div>\n",
       "<style scoped>\n",
       "    .dataframe tbody tr th:only-of-type {\n",
       "        vertical-align: middle;\n",
       "    }\n",
       "\n",
       "    .dataframe tbody tr th {\n",
       "        vertical-align: top;\n",
       "    }\n",
       "\n",
       "    .dataframe thead th {\n",
       "        text-align: right;\n",
       "    }\n",
       "</style>\n",
       "<table border=\"1\" class=\"dataframe\">\n",
       "  <thead>\n",
       "    <tr style=\"text-align: right;\">\n",
       "      <th></th>\n",
       "      <th>seller_id</th>\n",
       "      <th>revenue_per_seller</th>\n",
       "      <th>review_cost_per_seller</th>\n",
       "      <th>profit_per_seller</th>\n",
       "    </tr>\n",
       "  </thead>\n",
       "  <tbody>\n",
       "    <tr>\n",
       "      <th>0</th>\n",
       "      <td>3442f8959a84dea7ee197c632cb2df15</td>\n",
       "      <td>341.870</td>\n",
       "      <td>140</td>\n",
       "      <td>201.870</td>\n",
       "    </tr>\n",
       "    <tr>\n",
       "      <th>1</th>\n",
       "      <td>d1b65fc7debc3361ea86b5f14c68d2e2</td>\n",
       "      <td>2370.307</td>\n",
       "      <td>240</td>\n",
       "      <td>2130.307</td>\n",
       "    </tr>\n",
       "    <tr>\n",
       "      <th>2</th>\n",
       "      <td>ce3ad9de960102d0677a81f5d0bb7b2d</td>\n",
       "      <td>95.800</td>\n",
       "      <td>0</td>\n",
       "      <td>95.800</td>\n",
       "    </tr>\n",
       "    <tr>\n",
       "      <th>3</th>\n",
       "      <td>c0f3eea2e14555b6faeea3dd58c1b1c3</td>\n",
       "      <td>87.999</td>\n",
       "      <td>0</td>\n",
       "      <td>87.999</td>\n",
       "    </tr>\n",
       "    <tr>\n",
       "      <th>4</th>\n",
       "      <td>51a04a8a6bdcb23deccc82b0b80742cf</td>\n",
       "      <td>96.799</td>\n",
       "      <td>100</td>\n",
       "      <td>-3.201</td>\n",
       "    </tr>\n",
       "  </tbody>\n",
       "</table>\n",
       "</div>"
      ],
      "text/plain": [
       "                          seller_id  revenue_per_seller  \\\n",
       "0  3442f8959a84dea7ee197c632cb2df15             341.870   \n",
       "1  d1b65fc7debc3361ea86b5f14c68d2e2            2370.307   \n",
       "2  ce3ad9de960102d0677a81f5d0bb7b2d              95.800   \n",
       "3  c0f3eea2e14555b6faeea3dd58c1b1c3              87.999   \n",
       "4  51a04a8a6bdcb23deccc82b0b80742cf              96.799   \n",
       "\n",
       "   review_cost_per_seller  profit_per_seller  \n",
       "0                     140            201.870  \n",
       "1                     240           2130.307  \n",
       "2                       0             95.800  \n",
       "3                       0             87.999  \n",
       "4                     100             -3.201  "
      ]
     },
     "execution_count": 21,
     "metadata": {},
     "output_type": "execute_result"
    }
   ],
   "source": [
    "# Calculate the profit as 'revenue_per_seller' - 'review_cost_per_seller'\n",
    "sellers['profit_per_seller'] = sellers.revenue_per_seller - sellers.review_cost_per_seller\n",
    "sellers[['seller_id', 'revenue_per_seller', 'review_cost_per_seller', 'profit_per_seller']].groupby(by='seller_id').sum()\n",
    "\n",
    "sellers[['seller_id', 'revenue_per_seller', 'review_cost_per_seller', 'profit_per_seller']].head()"
   ]
  },
  {
   "cell_type": "markdown",
   "metadata": {},
   "source": [
    "Let's take a quick look at the distribution of `profit_per_seller`."
   ]
  },
  {
   "cell_type": "code",
   "execution_count": 22,
   "metadata": {
    "scrolled": true,
    "slideshow": {
     "slide_type": "skip"
    }
   },
   "outputs": [
    {
     "data": {
      "image/png": "[encoded data removed]",
      "text/plain": [
       "<Figure size 864x576 with 1 Axes>"
      ]
     },
     "metadata": {},
     "output_type": "display_data"
    }
   ],
   "source": [
    "# Plot histogram of 'profit_per_seller'\n",
    "plt.figure(figsize=(12,8))\n",
    "sns.set_style('darkgrid')\n",
    "\n",
    "ax = sns.histplot(sellers.profit_per_seller)\n",
    "ax.set_xlim(xmin=-5000, xmax=5000)\n",
    "ax.set_xlabel('Profits per Seller (BRL)')\n",
    "ax.set_ylabel('Number of Sellers')\n",
    "ax.set_title('Distribution of Seller Contribution to Olist Profits');"
   ]
  },
  {
   "cell_type": "code",
   "execution_count": 23,
   "metadata": {},
   "outputs": [
    {
     "data": {
      "text/plain": [
       "count     2970.000000\n",
       "mean       424.055631\n",
       "std       1274.295160\n",
       "min     -22419.517000\n",
       "25%         93.000000\n",
       "50%        285.790500\n",
       "75%        720.593750\n",
       "max      17967.605000\n",
       "Name: profit_per_seller, dtype: float64"
      ]
     },
     "execution_count": 23,
     "metadata": {},
     "output_type": "execute_result"
    }
   ],
   "source": [
    "# Summary stats\n",
    "sellers.profit_per_seller.describe()"
   ]
  },
  {
   "cell_type": "markdown",
   "metadata": {},
   "source": [
    "From our histogram and summary stats, it appears the **middle 50% of sellers** on the platform generate anywhere from **93 to 721 BRL** (~17 to 134 USD) for Olist. We can also see from the distribution plot a number of sellers with negative impact on profits. \n",
    " \n",
    "Let's see if we can find out more about these poor-performing sellers who are pulling down Olist profits. "
   ]
  },
  {
   "cell_type": "markdown",
   "metadata": {},
   "source": [
    "## Understanding the Impact of Poor-performing Sellers"
   ]
  },
  {
   "cell_type": "markdown",
   "metadata": {},
   "source": [
    "To get a clearer picture of how much impact these poor-performing sellers have on Olist's profits, we'll break this question down into smaller parts:\n",
    "\n",
    "1. **How many** poor-performing sellers (those who have a negative impact on profits) are on the platform?\n",
    "2. **How much in total** do these poor-performing sellers affect Olist profits? "
   ]
  },
  {
   "cell_type": "markdown",
   "metadata": {},
   "source": [
    "### How many sellers are negatively impacting Olist profits?"
   ]
  },
  {
   "cell_type": "markdown",
   "metadata": {},
   "source": [
    "Let's find the total number of poor-performing sellers, and also see what proportion they make on the platform. "
   ]
  },
  {
   "cell_type": "code",
   "execution_count": 24,
   "metadata": {
    "scrolled": false
   },
   "outputs": [
    {
     "data": {
      "text/html": [
       "<div>\n",
       "<style scoped>\n",
       "    .dataframe tbody tr th:only-of-type {\n",
       "        vertical-align: middle;\n",
       "    }\n",
       "\n",
       "    .dataframe tbody tr th {\n",
       "        vertical-align: top;\n",
       "    }\n",
       "\n",
       "    .dataframe thead th {\n",
       "        text-align: right;\n",
       "    }\n",
       "</style>\n",
       "<table border=\"1\" class=\"dataframe\">\n",
       "  <thead>\n",
       "    <tr style=\"text-align: right;\">\n",
       "      <th></th>\n",
       "      <th>seller_id</th>\n",
       "    </tr>\n",
       "    <tr>\n",
       "      <th>impact</th>\n",
       "      <th></th>\n",
       "    </tr>\n",
       "  </thead>\n",
       "  <tbody>\n",
       "    <tr>\n",
       "      <th>negative</th>\n",
       "      <td>276</td>\n",
       "    </tr>\n",
       "    <tr>\n",
       "      <th>positive</th>\n",
       "      <td>2694</td>\n",
       "    </tr>\n",
       "  </tbody>\n",
       "</table>\n",
       "</div>"
      ],
      "text/plain": [
       "          seller_id\n",
       "impact             \n",
       "negative        276\n",
       "positive       2694"
      ]
     },
     "execution_count": 24,
     "metadata": {},
     "output_type": "execute_result"
    }
   ],
   "source": [
    "# Simple function to create column indicating whether sellers have positive or negative impact on profits\n",
    "def olist_impact(x):\n",
    "    if x < 0:\n",
    "        return 'negative'\n",
    "    else:\n",
    "        return 'positive'\n",
    "\n",
    "sellers['impact'] = sellers['profit_per_seller'].apply(olist_impact)\n",
    "sellers[['impact','seller_id']].groupby('impact').count()"
   ]
  },
  {
   "cell_type": "code",
   "execution_count": 26,
   "metadata": {
    "scrolled": true
   },
   "outputs": [
    {
     "data": {
      "image/png": "[encoded data removed]",
      "text/plain": [
       "<Figure size 432x288 with 1 Axes>"
      ]
     },
     "metadata": {},
     "output_type": "display_data"
    }
   ],
   "source": [
    "# Bar plot to visualize the proportion of poor-performing sellers\n",
    "sellers[['impact','seller_id']].groupby('impact').count().transpose().plot.barh(stacked=True, cmap='Set1')\n",
    "plt.xlabel('Number of Sellers');"
   ]
  },
  {
   "cell_type": "code",
   "execution_count": 27,
   "metadata": {},
   "outputs": [
    {
     "data": {
      "text/plain": [
       "impact  \n",
       "positive    0.907071\n",
       "negative    0.092929\n",
       "dtype: float64"
      ]
     },
     "execution_count": 27,
     "metadata": {},
     "output_type": "execute_result"
    }
   ],
   "source": [
    "# Proportion of poor-performing sellers\n",
    "sellers[['impact']].value_counts(normalize=True)"
   ]
  },
  {
   "cell_type": "markdown",
   "metadata": {},
   "source": [
    "We can now see that there are **276 sellers** (or **roughly 9%** of all sellers) who **negatively impact** Olist profits, and that we'll classify as **poor-performing**."
   ]
  },
  {
   "cell_type": "markdown",
   "metadata": {},
   "source": [
    "### How much in total do poor-performing sellers impact Olist profits?"
   ]
  },
  {
   "cell_type": "markdown",
   "metadata": {},
   "source": [
    "To get a better picture of how much impact these sellers have on Olist's total profits, let's create a **whale curve** which will show us *what percentage* of sellers represent *what percentage* of cumulative profits. \n",
    "\n"
   ]
  },
  {
   "cell_type": "markdown",
   "metadata": {},
   "source": [
    "### Whale Curve"
   ]
  },
  {
   "cell_type": "markdown",
   "metadata": {},
   "source": [
    "To build our whale curve, we'll first sort our sellers from *most to least profitable*. Then we'll plot the *cumulative profits* from each additional seller to the platform.   "
   ]
  },
  {
   "cell_type": "code",
   "execution_count": 28,
   "metadata": {
    "slideshow": {
     "slide_type": "skip"
    }
   },
   "outputs": [
    {
     "data": {
      "text/html": [
       "<div>\n",
       "<style scoped>\n",
       "    .dataframe tbody tr th:only-of-type {\n",
       "        vertical-align: middle;\n",
       "    }\n",
       "\n",
       "    .dataframe tbody tr th {\n",
       "        vertical-align: top;\n",
       "    }\n",
       "\n",
       "    .dataframe thead th {\n",
       "        text-align: right;\n",
       "    }\n",
       "</style>\n",
       "<table border=\"1\" class=\"dataframe\">\n",
       "  <thead>\n",
       "    <tr style=\"text-align: right;\">\n",
       "      <th></th>\n",
       "      <th>seller_id</th>\n",
       "      <th>seller_city</th>\n",
       "      <th>seller_state</th>\n",
       "      <th>delay_to_carrier</th>\n",
       "      <th>seller_wait_time</th>\n",
       "      <th>date_first_sale</th>\n",
       "      <th>date_last_sale</th>\n",
       "      <th>months_on_olist</th>\n",
       "      <th>share_of_one_stars</th>\n",
       "      <th>share_of_five_stars</th>\n",
       "      <th>seller_review_score</th>\n",
       "      <th>review_cost_per_seller</th>\n",
       "      <th>n_orders</th>\n",
       "      <th>quantity</th>\n",
       "      <th>quantity_per_order</th>\n",
       "      <th>sales</th>\n",
       "      <th>revenue_per_seller</th>\n",
       "      <th>profit_per_seller</th>\n",
       "      <th>impact</th>\n",
       "      <th>cumulative_profits</th>\n",
       "    </tr>\n",
       "  </thead>\n",
       "  <tbody>\n",
       "    <tr>\n",
       "      <th>2965</th>\n",
       "      <td>8b321bb669392f5163d04c59e235e066</td>\n",
       "      <td>sao paulo</td>\n",
       "      <td>SP</td>\n",
       "      <td>0.0</td>\n",
       "      <td>12.616899</td>\n",
       "      <td>2017-10-27 16:31:30</td>\n",
       "      <td>2018-08-21 17:08:38</td>\n",
       "      <td>10.0</td>\n",
       "      <td>0.118770</td>\n",
       "      <td>0.567338</td>\n",
       "      <td>4.069989</td>\n",
       "      <td>15620</td>\n",
       "      <td>943</td>\n",
       "      <td>1018</td>\n",
       "      <td>1.079533</td>\n",
       "      <td>17535.69</td>\n",
       "      <td>2553.569</td>\n",
       "      <td>-13066.431</td>\n",
       "      <td>negative</td>\n",
       "      <td>1335110.855</td>\n",
       "    </tr>\n",
       "    <tr>\n",
       "      <th>2966</th>\n",
       "      <td>ea8482cd71df3c1969d7b9473ff13abc</td>\n",
       "      <td>sao paulo</td>\n",
       "      <td>SP</td>\n",
       "      <td>0.0</td>\n",
       "      <td>13.315562</td>\n",
       "      <td>2017-08-16 15:15:26</td>\n",
       "      <td>2018-08-25 02:45:21</td>\n",
       "      <td>13.0</td>\n",
       "      <td>0.116827</td>\n",
       "      <td>0.524847</td>\n",
       "      <td>3.984307</td>\n",
       "      <td>20710</td>\n",
       "      <td>1146</td>\n",
       "      <td>1204</td>\n",
       "      <td>1.050611</td>\n",
       "      <td>37177.52</td>\n",
       "      <td>4757.752</td>\n",
       "      <td>-15952.248</td>\n",
       "      <td>negative</td>\n",
       "      <td>1319158.607</td>\n",
       "    </tr>\n",
       "    <tr>\n",
       "      <th>2967</th>\n",
       "      <td>cc419e0650a3c5ba77189a1882b7556a</td>\n",
       "      <td>santo andre</td>\n",
       "      <td>SP</td>\n",
       "      <td>0.0</td>\n",
       "      <td>11.539753</td>\n",
       "      <td>2017-02-02 17:10:21</td>\n",
       "      <td>2018-08-28 03:45:15</td>\n",
       "      <td>19.0</td>\n",
       "      <td>0.117277</td>\n",
       "      <td>0.581808</td>\n",
       "      <td>4.069222</td>\n",
       "      <td>30000</td>\n",
       "      <td>1706</td>\n",
       "      <td>1819</td>\n",
       "      <td>1.066237</td>\n",
       "      <td>104288.42</td>\n",
       "      <td>11948.842</td>\n",
       "      <td>-18051.158</td>\n",
       "      <td>negative</td>\n",
       "      <td>1301107.449</td>\n",
       "    </tr>\n",
       "    <tr>\n",
       "      <th>2968</th>\n",
       "      <td>4a3ca9315b744ce9f8e9374361493884</td>\n",
       "      <td>ibitinga</td>\n",
       "      <td>SP</td>\n",
       "      <td>0.0</td>\n",
       "      <td>14.416471</td>\n",
       "      <td>2017-01-08 09:45:12</td>\n",
       "      <td>2018-08-27 11:04:18</td>\n",
       "      <td>20.0</td>\n",
       "      <td>0.147640</td>\n",
       "      <td>0.476948</td>\n",
       "      <td>3.804610</td>\n",
       "      <td>40890</td>\n",
       "      <td>1806</td>\n",
       "      <td>2009</td>\n",
       "      <td>1.112403</td>\n",
       "      <td>200472.92</td>\n",
       "      <td>21647.292</td>\n",
       "      <td>-19242.708</td>\n",
       "      <td>negative</td>\n",
       "      <td>1281864.741</td>\n",
       "    </tr>\n",
       "    <tr>\n",
       "      <th>2969</th>\n",
       "      <td>6560211a19b47992c3666cc44a7e94c0</td>\n",
       "      <td>sao paulo</td>\n",
       "      <td>SP</td>\n",
       "      <td>0.0</td>\n",
       "      <td>9.539486</td>\n",
       "      <td>2017-02-17 07:45:11</td>\n",
       "      <td>2018-08-29 09:25:12</td>\n",
       "      <td>19.0</td>\n",
       "      <td>0.127957</td>\n",
       "      <td>0.510215</td>\n",
       "      <td>3.922043</td>\n",
       "      <td>36270</td>\n",
       "      <td>1854</td>\n",
       "      <td>2039</td>\n",
       "      <td>1.099784</td>\n",
       "      <td>123304.83</td>\n",
       "      <td>13850.483</td>\n",
       "      <td>-22419.517</td>\n",
       "      <td>negative</td>\n",
       "      <td>1259445.224</td>\n",
       "    </tr>\n",
       "  </tbody>\n",
       "</table>\n",
       "</div>"
      ],
      "text/plain": [
       "                             seller_id  seller_city seller_state  \\\n",
       "2965  8b321bb669392f5163d04c59e235e066    sao paulo           SP   \n",
       "2966  ea8482cd71df3c1969d7b9473ff13abc    sao paulo           SP   \n",
       "2967  cc419e0650a3c5ba77189a1882b7556a  santo andre           SP   \n",
       "2968  4a3ca9315b744ce9f8e9374361493884     ibitinga           SP   \n",
       "2969  6560211a19b47992c3666cc44a7e94c0    sao paulo           SP   \n",
       "\n",
       "      delay_to_carrier  seller_wait_time     date_first_sale  \\\n",
       "2965               0.0         12.616899 2017-10-27 16:31:30   \n",
       "2966               0.0         13.315562 2017-08-16 15:15:26   \n",
       "2967               0.0         11.539753 2017-02-02 17:10:21   \n",
       "2968               0.0         14.416471 2017-01-08 09:45:12   \n",
       "2969               0.0          9.539486 2017-02-17 07:45:11   \n",
       "\n",
       "          date_last_sale  months_on_olist  share_of_one_stars  \\\n",
       "2965 2018-08-21 17:08:38             10.0            0.118770   \n",
       "2966 2018-08-25 02:45:21             13.0            0.116827   \n",
       "2967 2018-08-28 03:45:15             19.0            0.117277   \n",
       "2968 2018-08-27 11:04:18             20.0            0.147640   \n",
       "2969 2018-08-29 09:25:12             19.0            0.127957   \n",
       "\n",
       "      share_of_five_stars  seller_review_score  review_cost_per_seller  \\\n",
       "2965             0.567338             4.069989                   15620   \n",
       "2966             0.524847             3.984307                   20710   \n",
       "2967             0.581808             4.069222                   30000   \n",
       "2968             0.476948             3.804610                   40890   \n",
       "2969             0.510215             3.922043                   36270   \n",
       "\n",
       "      n_orders  quantity  quantity_per_order      sales  revenue_per_seller  \\\n",
       "2965       943      1018            1.079533   17535.69            2553.569   \n",
       "2966      1146      1204            1.050611   37177.52            4757.752   \n",
       "2967      1706      1819            1.066237  104288.42           11948.842   \n",
       "2968      1806      2009            1.112403  200472.92           21647.292   \n",
       "2969      1854      2039            1.099784  123304.83           13850.483   \n",
       "\n",
       "      profit_per_seller    impact  cumulative_profits  \n",
       "2965         -13066.431  negative         1335110.855  \n",
       "2966         -15952.248  negative         1319158.607  \n",
       "2967         -18051.158  negative         1301107.449  \n",
       "2968         -19242.708  negative         1281864.741  \n",
       "2969         -22419.517  negative         1259445.224  "
      ]
     },
     "execution_count": 28,
     "metadata": {},
     "output_type": "execute_result"
    }
   ],
   "source": [
    "# Sort sellers by how much profit each contributes to Olist (from most to least)\n",
    "sellers.sort_values('profit_per_seller', ignore_index=True, inplace=True, ascending=False)\n",
    "\n",
    "# Calculate cumulative profits to Olist with each additional seller\n",
    "sellers['cumulative_profits'] = sellers['profit_per_seller'].cumsum()\n",
    "sellers.tail()"
   ]
  },
  {
   "cell_type": "code",
   "execution_count": 29,
   "metadata": {
    "slideshow": {
     "slide_type": "skip"
    }
   },
   "outputs": [
    {
     "data": {
      "text/plain": [
       "1259445.2239999846"
      ]
     },
     "execution_count": 29,
     "metadata": {},
     "output_type": "execute_result"
    }
   ],
   "source": [
    "# Total cumulative profits for Olist\n",
    "total_profits = sellers['cumulative_profits'].iloc[-1]\n",
    "total_profits"
   ]
  },
  {
   "cell_type": "code",
   "execution_count": 30,
   "metadata": {
    "scrolled": true
   },
   "outputs": [
    {
     "data": {
      "text/html": [
       "<div>\n",
       "<style scoped>\n",
       "    .dataframe tbody tr th:only-of-type {\n",
       "        vertical-align: middle;\n",
       "    }\n",
       "\n",
       "    .dataframe tbody tr th {\n",
       "        vertical-align: top;\n",
       "    }\n",
       "\n",
       "    .dataframe thead th {\n",
       "        text-align: right;\n",
       "    }\n",
       "</style>\n",
       "<table border=\"1\" class=\"dataframe\">\n",
       "  <thead>\n",
       "    <tr style=\"text-align: right;\">\n",
       "      <th></th>\n",
       "      <th>seller_id</th>\n",
       "      <th>percent_profits</th>\n",
       "      <th>seller_proportion</th>\n",
       "    </tr>\n",
       "  </thead>\n",
       "  <tbody>\n",
       "    <tr>\n",
       "      <th>2965</th>\n",
       "      <td>8b321bb669392f5163d04c59e235e066</td>\n",
       "      <td>106.007854</td>\n",
       "      <td>99.86532</td>\n",
       "    </tr>\n",
       "    <tr>\n",
       "      <th>2966</th>\n",
       "      <td>ea8482cd71df3c1969d7b9473ff13abc</td>\n",
       "      <td>104.741245</td>\n",
       "      <td>99.89899</td>\n",
       "    </tr>\n",
       "    <tr>\n",
       "      <th>2967</th>\n",
       "      <td>cc419e0650a3c5ba77189a1882b7556a</td>\n",
       "      <td>103.307982</td>\n",
       "      <td>99.93266</td>\n",
       "    </tr>\n",
       "    <tr>\n",
       "      <th>2968</th>\n",
       "      <td>4a3ca9315b744ce9f8e9374361493884</td>\n",
       "      <td>101.780111</td>\n",
       "      <td>99.96633</td>\n",
       "    </tr>\n",
       "    <tr>\n",
       "      <th>2969</th>\n",
       "      <td>6560211a19b47992c3666cc44a7e94c0</td>\n",
       "      <td>100.000000</td>\n",
       "      <td>100.00000</td>\n",
       "    </tr>\n",
       "  </tbody>\n",
       "</table>\n",
       "</div>"
      ],
      "text/plain": [
       "                             seller_id  percent_profits  seller_proportion\n",
       "2965  8b321bb669392f5163d04c59e235e066       106.007854           99.86532\n",
       "2966  ea8482cd71df3c1969d7b9473ff13abc       104.741245           99.89899\n",
       "2967  cc419e0650a3c5ba77189a1882b7556a       103.307982           99.93266\n",
       "2968  4a3ca9315b744ce9f8e9374361493884       101.780111           99.96633\n",
       "2969  6560211a19b47992c3666cc44a7e94c0       100.000000          100.00000"
      ]
     },
     "execution_count": 30,
     "metadata": {},
     "output_type": "execute_result"
    }
   ],
   "source": [
    "# Calculate the cumulative percentage of profits represented by each additional seller\n",
    "sellers['percent_profits'] = sellers['cumulative_profits'].div(total_profits).mul(100)\n",
    "\n",
    "# Calculate the proportion of sellers represented (in percent)\n",
    "sellers['seller_proportion'] = (sellers.index+1) / sellers.seller_id.count() * 100\n",
    "\n",
    "whale_df = sellers[['seller_id', 'percent_profits', 'seller_proportion']]\n",
    "whale_df.tail()"
   ]
  },
  {
   "cell_type": "code",
   "execution_count": 60,
   "metadata": {
    "scrolled": true
   },
   "outputs": [
    {
     "data": {
      "image/png": "[encoded data removed]",
      "text/plain": [
       "<Figure size 1080x432 with 1 Axes>"
      ]
     },
     "metadata": {},
     "output_type": "display_data"
    }
   ],
   "source": [
    "# Build our whale curve\n",
    "plt.figure(figsize=(15,6))\n",
    "plt.suptitle('Whale Curve: What Proportion of Sellers Represents What Proportion of Profits')\n",
    "sns.lineplot(data=sellers, x='seller_proportion', y='percent_profits')\n",
    "plt.xlabel('Percentage of Sellers (Ranked by Most Profitable to Least)')\n",
    "plt.ylabel('Cumulative Profits (%)');"
   ]
  },
  {
   "cell_type": "markdown",
   "metadata": {},
   "source": [
    "Our whale curve helps to underscore that **roughly 80%** of our sellers **contribute to 120% of Olist profits**. Another **10%** of sellers have a **negligible impact**. And, the **remaining 10%** drag down profits by **20%**.  "
   ]
  },
  {
   "cell_type": "markdown",
   "metadata": {},
   "source": [
    "### Profits without the Poor-performing Sellers"
   ]
  },
  {
   "cell_type": "markdown",
   "metadata": {},
   "source": [
    "Let's visualize this another way. What would Olist profits be if poor-performing sellers were no longer on the platform."
   ]
  },
  {
   "cell_type": "code",
   "execution_count": 40,
   "metadata": {},
   "outputs": [
    {
     "data": {
      "text/plain": [
       "-313276.50200000097"
      ]
     },
     "execution_count": 40,
     "metadata": {},
     "output_type": "execute_result"
    }
   ],
   "source": [
    "# Amount of reduction in profits due to bad reviews\n",
    "neg_profits = sellers[sellers['impact']=='negative'].profit_per_seller.cumsum()\n",
    "neg_profits.iloc[-1]"
   ]
  },
  {
   "cell_type": "code",
   "execution_count": 44,
   "metadata": {
    "scrolled": true
   },
   "outputs": [
    {
     "data": {
      "image/png": "[encoded data removed]",
      "text/plain": [
       "<Figure size 864x432 with 1 Axes>"
      ]
     },
     "metadata": {},
     "output_type": "display_data"
    }
   ],
   "source": [
    "# Bar chart showing profit comparison after removal of poor-performing sellers\n",
    "fig = plt.figure(figsize=(12,6))\n",
    "x_values = ['Before', 'After']\n",
    "y_values = [sellers.cumulative_profits.iloc[-1], sellers.cumulative_profits.iloc[-1] - neg_profits.iloc[-1]]\n",
    "ax = sns.barplot(data=sellers, x=x_values, y=y_values, palette='tab20')\n",
    "\n",
    "plt.ylabel('Profit (in BRL)')\n",
    "plt.ylim(0, 2500000)\n",
    "plt.suptitle('Profit Comparison from Removing Poor-performing Sellers', fontsize=12)\n",
    "ax.set_yticks(ax.get_yticks())\n",
    "yticklabels=['{:3.1f}'.format(y) + 'M' for y in ax.get_yticks()/1000000]\n",
    "ax.set_yticklabels(yticklabels);"
   ]
  },
  {
   "cell_type": "markdown",
   "metadata": {},
   "source": [
    "If Olist were to **drop sellers who had a negative impact on profits**, the platform would see an **immediate boost in profits** of **313,277 BRL** (58,246 USD)! "
   ]
  },
  {
   "cell_type": "markdown",
   "metadata": {},
   "source": [
    "## What's the impact if we factor in IT costs?"
   ]
  },
  {
   "cell_type": "markdown",
   "metadata": {},
   "source": [
    "While it does appear that Olist's profit margins would benefit from removing poor-performing sellers, we've been asked to examine how removal of these sellers might also impact Olist's IT costs (servers, etc.). \n",
    "\n",
    "Olist's IT costs increase with the number of orders processed, but does so less and less rapidly due to scale effects. More precisely, we've been told that **IT costs are proportional to the square-root of cumulative number of orders**. Additionally, the IT department has reported accumulated IT costs of **500,000 BRL** (~92,930 USD) since the founding of the company.\n",
    "\n",
    "Let's approach this with the following steps: \n",
    "\n",
    "1. Calculate the amount of IT costs for any given order volume. \n",
    "2. Compute the order volume for each group\n",
    "3. Find the average order volume per seller for each group\n",
    "2. Calculate the order volume of poor-performing sellers and the accompanying IT costs. \n",
    "3. Compare the difference in IT costs after removing poor-performing sellers."
   ]
  },
  {
   "cell_type": "markdown",
   "metadata": {},
   "source": [
    "### What are the IT costs for a particular order volume?"
   ]
  },
  {
   "cell_type": "markdown",
   "metadata": {},
   "source": [
    "We've been provided information that IT costs are *proportional to the square-root of the number of approved orders*:\n",
    "\n",
    "**Olist IT costs = $k\\sqrt{n}$**\n",
    "\n",
    "Here ***n*** is the ***total number of approved orders*** and ***k*** is a ***proportionality constant***."
   ]
  },
  {
   "cell_type": "markdown",
   "metadata": {},
   "source": [
    "Given this IT cost curve, we can see that it should take on the shape of a concave ascending curve like $ y = \\sqrt{x} $ but also transformed by a proportionality constant *k*. Let's plot a generic $ y = \\sqrt{x} $ to help visualize the overall shape of the curve."
   ]
  },
  {
   "cell_type": "code",
   "execution_count": 46,
   "metadata": {
    "scrolled": true
   },
   "outputs": [
    {
     "data": {
      "image/png": "[encoded data removed]",
      "text/plain": [
       "<Figure size 1080x288 with 1 Axes>"
      ]
     },
     "metadata": {},
     "output_type": "display_data"
    }
   ],
   "source": [
    "# Plot a generic y = x**(1/2) curve\n",
    "\n",
    "plt.figure(figsize=(15,4))\n",
    "x=np.linspace(0,1000, 50)\n",
    "y=x**0.5\n",
    "sns.lineplot(x=x, y=y)\n",
    "plt.xlabel('Number of Orders')\n",
    "plt.ylabel('IT Cost (in BRL)');"
   ]
  },
  {
   "cell_type": "markdown",
   "metadata": {},
   "source": [
    "Given the shape of this particular cost curve, we can already see that IT costs will steadily increase with more orders. However, the difference in IT cost between each additional order (marginal IT cost) is the greatest early on (when order numbers are low). At higher order volume, the IT cost appears to change less and less rapidly. \n",
    "\n",
    "Let's now try to get a more precise curve by doing a little math to solve for the proportionality constant *k*. \n",
    "\n",
    "Since we've been told that the cumulative cost of IT to date is **500,000 BRL**, we can set this equal to the area under the curve bounded by 0 to the *current number of orders* ***n***.\n",
    "\n",
    "Then to calculate the proportionality constant *k*, we just need to take the definite integral of this expression."
   ]
  },
  {
   "cell_type": "markdown",
   "metadata": {},
   "source": [
    "\n",
    "\n",
    "$\\int_{0}^{n} k\\sqrt{n}$ = 500,000    \n",
    "\n",
    "where *n* is the number of orders and *k* is a proportionality constant"
   ]
  },
  {
   "cell_type": "code",
   "execution_count": 47,
   "metadata": {},
   "outputs": [
    {
     "data": {
      "text/plain": [
       "99844"
      ]
     },
     "execution_count": 47,
     "metadata": {},
     "output_type": "execute_result"
    }
   ],
   "source": [
    "# Total of n_orders\n",
    "total_orders = sellers.n_orders.sum()\n",
    "total_orders"
   ]
  },
  {
   "cell_type": "markdown",
   "metadata": {},
   "source": [
    "Let's evaluate the integral from **0** orders to the total cumulative number of orders **99,844**. \n",
    "\n",
    "**$\\int_{0}^{n} k\\sqrt{n} \\to \\int_{0}^{99,844} k(\\frac{2}{3}) n^\\frac{3}{2} - k(\\frac{2}{3}) (0)^\\frac{3}{2} $**\n",
    "\n",
    "Setting this equal to 500,000, we can solve for the proportionality constant ***k***.\n",
    "\n",
    "**$ k(\\frac{2}{3}) (99,844)^\\frac{3}{2} = 500,000 $**"
   ]
  },
  {
   "cell_type": "code",
   "execution_count": 48,
   "metadata": {},
   "outputs": [
    {
     "data": {
      "text/plain": [
       "0.023772688842554592"
      ]
     },
     "execution_count": 48,
     "metadata": {},
     "output_type": "execute_result"
    }
   ],
   "source": [
    "# Evaluate integral and solve for proportionality constant k\n",
    "k = 500000 / ((2/3)*(99844**1.5))\n",
    "k"
   ]
  },
  {
   "cell_type": "markdown",
   "metadata": {},
   "source": [
    "This gives us the proportionality constant **k** $\\approx$ **0.024**. Now let's re-plot our IT cost curve more precisely.\n",
    "\n",
    "$ y = \\hspace{0.25 cm} k \\sqrt{n}  \\hspace{0.25 cm} = 0.024\\sqrt{n} $"
   ]
  },
  {
   "cell_type": "code",
   "execution_count": 49,
   "metadata": {
    "scrolled": false
   },
   "outputs": [
    {
     "data": {
      "image/png": "[encoded data removed]",
      "text/plain": [
       "<Figure size 1080x288 with 1 Axes>"
      ]
     },
     "metadata": {},
     "output_type": "display_data"
    }
   ],
   "source": [
    "# Re-plot our IT cost curve with our calculated proportionality constant k\n",
    "\n",
    "plt.figure(figsize=(15,4))\n",
    "x=np.linspace(0,99844, 50)\n",
    "y=(k)*(x**0.5)\n",
    "sns.lineplot(x=x, y=y)\n",
    "plt.xlabel('Number of Orders')\n",
    "plt.ylabel('IT Cost (in BRL)');"
   ]
  },
  {
   "cell_type": "markdown",
   "metadata": {},
   "source": [
    "We can now see what the IT cost will be at a particular order volume. The slope of the curve starts to stabilize once you approach 20,000 orders telling us that benefits from scale effects will start to matter less for IT costs. As the IT costs becomes more linear in shape, it means that more orders will just increase IT costs at a constant rate. "
   ]
  },
  {
   "cell_type": "markdown",
   "metadata": {},
   "source": [
    "Let's now examine the IT costs associated with specific sellers. Since IT costs are a function of order volume, we'll also see if there are differences between our good and poor-performing sellers.  "
   ]
  },
  {
   "cell_type": "markdown",
   "metadata": {},
   "source": [
    "### Order Volume"
   ]
  },
  {
   "cell_type": "markdown",
   "metadata": {},
   "source": [
    "Since IT costs are driven by order volume, let's see if there is a difference for these two groups of sellers."
   ]
  },
  {
   "cell_type": "code",
   "execution_count": 58,
   "metadata": {
    "scrolled": false
   },
   "outputs": [
    {
     "data": {
      "text/html": [
       "<div>\n",
       "<style scoped>\n",
       "    .dataframe tbody tr th:only-of-type {\n",
       "        vertical-align: middle;\n",
       "    }\n",
       "\n",
       "    .dataframe tbody tr th {\n",
       "        vertical-align: top;\n",
       "    }\n",
       "\n",
       "    .dataframe thead th {\n",
       "        text-align: right;\n",
       "    }\n",
       "</style>\n",
       "<table border=\"1\" class=\"dataframe\">\n",
       "  <thead>\n",
       "    <tr style=\"text-align: right;\">\n",
       "      <th>impact</th>\n",
       "      <th>negative</th>\n",
       "      <th>positive</th>\n",
       "    </tr>\n",
       "  </thead>\n",
       "  <tbody>\n",
       "    <tr>\n",
       "      <th>n_orders</th>\n",
       "      <td>39817</td>\n",
       "      <td>60027</td>\n",
       "    </tr>\n",
       "  </tbody>\n",
       "</table>\n",
       "</div>"
      ],
      "text/plain": [
       "impact    negative  positive\n",
       "n_orders     39817     60027"
      ]
     },
     "execution_count": 58,
     "metadata": {},
     "output_type": "execute_result"
    }
   ],
   "source": [
    "# Calculate the order volume for each group of sellers\n",
    "order_vol_df = sellers[['n_orders','impact']].groupby('impact').sum().transpose()\n",
    "order_vol_df"
   ]
  },
  {
   "cell_type": "code",
   "execution_count": 64,
   "metadata": {
    "scrolled": true
   },
   "outputs": [
    {
     "data": {
      "image/png": "[encoded data removed]",
      "text/plain": [
       "<Figure size 432x288 with 1 Axes>"
      ]
     },
     "metadata": {},
     "output_type": "display_data"
    }
   ],
   "source": [
    "# Bar plot to see composition of order volume by quality of seller\n",
    "order_vol_df.plot.barh(stacked=True, cmap='Set1')\n",
    "plt.legend(title='Seller Quality', labels=['Poor', 'Good'])\n",
    "plt.xlabel('Number of Orders');"
   ]
  },
  {
   "cell_type": "markdown",
   "metadata": {},
   "source": [
    "We now see that **poor-performing sellers** have about **40%** of the *order volume* on Olist but make up only **9%** of all sellers on the platform. This tells us that they are contributing to a **larger share of the IT cost burden** for Olist."
   ]
  },
  {
   "cell_type": "markdown",
   "metadata": {},
   "source": [
    "### Average Order Volume by Seller Quality"
   ]
  },
  {
   "cell_type": "markdown",
   "metadata": {},
   "source": [
    "For another perspective on the difference in order volume with these two groups, let's calculate the average order volume per seller for each group and compare. "
   ]
  },
  {
   "cell_type": "code",
   "execution_count": 66,
   "metadata": {},
   "outputs": [
    {
     "data": {
      "text/html": [
       "<div>\n",
       "<style scoped>\n",
       "    .dataframe tbody tr th:only-of-type {\n",
       "        vertical-align: middle;\n",
       "    }\n",
       "\n",
       "    .dataframe tbody tr th {\n",
       "        vertical-align: top;\n",
       "    }\n",
       "\n",
       "    .dataframe thead th {\n",
       "        text-align: right;\n",
       "    }\n",
       "</style>\n",
       "<table border=\"1\" class=\"dataframe\">\n",
       "  <thead>\n",
       "    <tr style=\"text-align: right;\">\n",
       "      <th>impact</th>\n",
       "      <th>negative</th>\n",
       "      <th>positive</th>\n",
       "    </tr>\n",
       "  </thead>\n",
       "  <tbody>\n",
       "    <tr>\n",
       "      <th>n_orders</th>\n",
       "      <td>144.264493</td>\n",
       "      <td>22.281737</td>\n",
       "    </tr>\n",
       "  </tbody>\n",
       "</table>\n",
       "</div>"
      ],
      "text/plain": [
       "impact      negative   positive\n",
       "n_orders  144.264493  22.281737"
      ]
     },
     "execution_count": 66,
     "metadata": {},
     "output_type": "execute_result"
    }
   ],
   "source": [
    "# Calculate the average order volume per seller for each group of sellers\n",
    "avg_order_vol = sellers[['n_orders','impact']].groupby('impact').mean().transpose()\n",
    "avg_order_vol"
   ]
  },
  {
   "cell_type": "code",
   "execution_count": 73,
   "metadata": {
    "scrolled": true
   },
   "outputs": [
    {
     "data": {
      "image/png": "[encoded data removed]",
      "text/plain": [
       "<Figure size 432x288 with 1 Axes>"
      ]
     },
     "metadata": {},
     "output_type": "display_data"
    }
   ],
   "source": [
    "avg_order_vol.plot(kind='bar', cmap='Set1', ylabel='Average Number of Orders per Seller', rot=0, legend=True)\n",
    "plt.legend(title='Seller Quality', labels=['Poor', 'Good']);"
   ]
  },
  {
   "cell_type": "markdown",
   "metadata": {},
   "source": [
    "We can see that **poor-performing sellers** have an *average order volume* of roughly **7x** more than other sellers. This underscores their **heavy usage of the IT infrastructure and extra IT cost burden.**"
   ]
  },
  {
   "cell_type": "markdown",
   "metadata": {},
   "source": [
    "### IT Costs Associated with Specific Sellers"
   ]
  },
  {
   "cell_type": "code",
   "execution_count": 51,
   "metadata": {
    "scrolled": false,
    "slideshow": {
     "slide_type": "skip"
    }
   },
   "outputs": [
    {
     "data": {
      "text/html": [
       "<div>\n",
       "<style scoped>\n",
       "    .dataframe tbody tr th:only-of-type {\n",
       "        vertical-align: middle;\n",
       "    }\n",
       "\n",
       "    .dataframe tbody tr th {\n",
       "        vertical-align: top;\n",
       "    }\n",
       "\n",
       "    .dataframe thead th {\n",
       "        text-align: right;\n",
       "    }\n",
       "</style>\n",
       "<table border=\"1\" class=\"dataframe\">\n",
       "  <thead>\n",
       "    <tr style=\"text-align: right;\">\n",
       "      <th></th>\n",
       "      <th>seller_id</th>\n",
       "      <th>seller_city</th>\n",
       "      <th>seller_state</th>\n",
       "      <th>delay_to_carrier</th>\n",
       "      <th>seller_wait_time</th>\n",
       "      <th>date_first_sale</th>\n",
       "      <th>date_last_sale</th>\n",
       "      <th>months_on_olist</th>\n",
       "      <th>share_of_one_stars</th>\n",
       "      <th>share_of_five_stars</th>\n",
       "      <th>...</th>\n",
       "      <th>quantity_per_order</th>\n",
       "      <th>sales</th>\n",
       "      <th>revenue_per_seller</th>\n",
       "      <th>profit_per_seller</th>\n",
       "      <th>impact</th>\n",
       "      <th>cumulative_profits</th>\n",
       "      <th>percent_profits</th>\n",
       "      <th>seller_proportion</th>\n",
       "      <th>cumulative_orders</th>\n",
       "      <th>cumulative_it_cost</th>\n",
       "    </tr>\n",
       "  </thead>\n",
       "  <tbody>\n",
       "    <tr>\n",
       "      <th>0</th>\n",
       "      <td>53243585a1d6dc2643021fd1853d8905</td>\n",
       "      <td>lauro de freitas</td>\n",
       "      <td>BA</td>\n",
       "      <td>0.0</td>\n",
       "      <td>13.374429</td>\n",
       "      <td>2017-08-28 18:44:58</td>\n",
       "      <td>2018-08-21 16:35:26</td>\n",
       "      <td>12.0</td>\n",
       "      <td>0.097765</td>\n",
       "      <td>0.558659</td>\n",
       "      <td>...</td>\n",
       "      <td>1.145251</td>\n",
       "      <td>222776.05</td>\n",
       "      <td>23237.605</td>\n",
       "      <td>17967.605</td>\n",
       "      <td>positive</td>\n",
       "      <td>17967.605</td>\n",
       "      <td>1.426629</td>\n",
       "      <td>0.03367</td>\n",
       "      <td>358</td>\n",
       "      <td>107.352358</td>\n",
       "    </tr>\n",
       "    <tr>\n",
       "      <th>1</th>\n",
       "      <td>7e93a43ef30c4f03f38b393420bc753a</td>\n",
       "      <td>barueri</td>\n",
       "      <td>SP</td>\n",
       "      <td>0.0</td>\n",
       "      <td>11.335141</td>\n",
       "      <td>2016-10-08 03:19:09</td>\n",
       "      <td>2018-07-14 21:25:19</td>\n",
       "      <td>22.0</td>\n",
       "      <td>0.104167</td>\n",
       "      <td>0.627976</td>\n",
       "      <td>...</td>\n",
       "      <td>1.011905</td>\n",
       "      <td>176431.87</td>\n",
       "      <td>19403.187</td>\n",
       "      <td>14603.187</td>\n",
       "      <td>positive</td>\n",
       "      <td>32570.792</td>\n",
       "      <td>2.586122</td>\n",
       "      <td>0.06734</td>\n",
       "      <td>694</td>\n",
       "      <td>289.751873</td>\n",
       "    </tr>\n",
       "    <tr>\n",
       "      <th>2</th>\n",
       "      <td>fa1c13f2614d7b5c4749cbc52fecda94</td>\n",
       "      <td>sumare</td>\n",
       "      <td>SP</td>\n",
       "      <td>0.0</td>\n",
       "      <td>13.341871</td>\n",
       "      <td>2017-01-07 20:55:10</td>\n",
       "      <td>2018-08-29 10:04:16</td>\n",
       "      <td>20.0</td>\n",
       "      <td>0.088889</td>\n",
       "      <td>0.673504</td>\n",
       "      <td>...</td>\n",
       "      <td>1.001709</td>\n",
       "      <td>194042.03</td>\n",
       "      <td>21004.203</td>\n",
       "      <td>14254.203</td>\n",
       "      <td>positive</td>\n",
       "      <td>46824.995</td>\n",
       "      <td>3.717906</td>\n",
       "      <td>0.10101</td>\n",
       "      <td>1279</td>\n",
       "      <td>724.924643</td>\n",
       "    </tr>\n",
       "    <tr>\n",
       "      <th>3</th>\n",
       "      <td>edb1ef5e36e0c8cd84eb3c9b003e486d</td>\n",
       "      <td>teresopolis</td>\n",
       "      <td>RJ</td>\n",
       "      <td>0.0</td>\n",
       "      <td>11.709806</td>\n",
       "      <td>2017-09-30 09:49:22</td>\n",
       "      <td>2018-08-20 19:30:10</td>\n",
       "      <td>11.0</td>\n",
       "      <td>0.066265</td>\n",
       "      <td>0.692771</td>\n",
       "      <td>...</td>\n",
       "      <td>1.054217</td>\n",
       "      <td>79284.55</td>\n",
       "      <td>8808.455</td>\n",
       "      <td>7288.455</td>\n",
       "      <td>positive</td>\n",
       "      <td>54113.450</td>\n",
       "      <td>4.296610</td>\n",
       "      <td>0.13468</td>\n",
       "      <td>1445</td>\n",
       "      <td>870.540173</td>\n",
       "    </tr>\n",
       "    <tr>\n",
       "      <th>4</th>\n",
       "      <td>ccc4bbb5f32a6ab2b7066a4130f114e3</td>\n",
       "      <td>curitiba</td>\n",
       "      <td>PR</td>\n",
       "      <td>0.0</td>\n",
       "      <td>15.853247</td>\n",
       "      <td>2017-01-07 14:00:13</td>\n",
       "      <td>2018-08-21 21:05:16</td>\n",
       "      <td>20.0</td>\n",
       "      <td>0.085561</td>\n",
       "      <td>0.652406</td>\n",
       "      <td>...</td>\n",
       "      <td>1.026738</td>\n",
       "      <td>74004.62</td>\n",
       "      <td>9000.462</td>\n",
       "      <td>6780.462</td>\n",
       "      <td>positive</td>\n",
       "      <td>60893.912</td>\n",
       "      <td>4.834979</td>\n",
       "      <td>0.16835</td>\n",
       "      <td>1632</td>\n",
       "      <td>1044.882074</td>\n",
       "    </tr>\n",
       "  </tbody>\n",
       "</table>\n",
       "<p>5 rows × 24 columns</p>\n",
       "</div>"
      ],
      "text/plain": [
       "                          seller_id       seller_city seller_state  \\\n",
       "0  53243585a1d6dc2643021fd1853d8905  lauro de freitas           BA   \n",
       "1  7e93a43ef30c4f03f38b393420bc753a           barueri           SP   \n",
       "2  fa1c13f2614d7b5c4749cbc52fecda94            sumare           SP   \n",
       "3  edb1ef5e36e0c8cd84eb3c9b003e486d       teresopolis           RJ   \n",
       "4  ccc4bbb5f32a6ab2b7066a4130f114e3          curitiba           PR   \n",
       "\n",
       "   delay_to_carrier  seller_wait_time     date_first_sale      date_last_sale  \\\n",
       "0               0.0         13.374429 2017-08-28 18:44:58 2018-08-21 16:35:26   \n",
       "1               0.0         11.335141 2016-10-08 03:19:09 2018-07-14 21:25:19   \n",
       "2               0.0         13.341871 2017-01-07 20:55:10 2018-08-29 10:04:16   \n",
       "3               0.0         11.709806 2017-09-30 09:49:22 2018-08-20 19:30:10   \n",
       "4               0.0         15.853247 2017-01-07 14:00:13 2018-08-21 21:05:16   \n",
       "\n",
       "   months_on_olist  share_of_one_stars  share_of_five_stars  ...  \\\n",
       "0             12.0            0.097765             0.558659  ...   \n",
       "1             22.0            0.104167             0.627976  ...   \n",
       "2             20.0            0.088889             0.673504  ...   \n",
       "3             11.0            0.066265             0.692771  ...   \n",
       "4             20.0            0.085561             0.652406  ...   \n",
       "\n",
       "   quantity_per_order      sales  revenue_per_seller  profit_per_seller  \\\n",
       "0            1.145251  222776.05           23237.605          17967.605   \n",
       "1            1.011905  176431.87           19403.187          14603.187   \n",
       "2            1.001709  194042.03           21004.203          14254.203   \n",
       "3            1.054217   79284.55            8808.455           7288.455   \n",
       "4            1.026738   74004.62            9000.462           6780.462   \n",
       "\n",
       "     impact  cumulative_profits  percent_profits  seller_proportion  \\\n",
       "0  positive           17967.605         1.426629            0.03367   \n",
       "1  positive           32570.792         2.586122            0.06734   \n",
       "2  positive           46824.995         3.717906            0.10101   \n",
       "3  positive           54113.450         4.296610            0.13468   \n",
       "4  positive           60893.912         4.834979            0.16835   \n",
       "\n",
       "  cumulative_orders  cumulative_it_cost  \n",
       "0               358          107.352358  \n",
       "1               694          289.751873  \n",
       "2              1279          724.924643  \n",
       "3              1445          870.540173  \n",
       "4              1632         1044.882074  \n",
       "\n",
       "[5 rows x 24 columns]"
      ]
     },
     "execution_count": 51,
     "metadata": {},
     "output_type": "execute_result"
    }
   ],
   "source": [
    "# Calculate IT costs per additional seller on the platform \n",
    "\n",
    "# The cumulative total of orders on the platform after adding the seller\n",
    "sellers['cumulative_orders'] = sellers['n_orders'].cumsum()\n",
    "\n",
    "# The cumulative total IT cost for Olist after adding the seller\n",
    "sellers['cumulative_it_cost'] = k*(2/3)*(sellers['cumulative_orders']**1.5)\n",
    "\n",
    "sellers.head()"
   ]
  },
  {
   "cell_type": "code",
   "execution_count": null,
   "metadata": {},
   "outputs": [],
   "source": []
  },
  {
   "cell_type": "markdown",
   "metadata": {},
   "source": [
    "Let's now see what the total and average IT cost would be for Olist if poor-performing sellers were to be removed.\n",
    "\n"
   ]
  },
  {
   "cell_type": "code",
   "execution_count": null,
   "metadata": {},
   "outputs": [],
   "source": [
    "# Total Cumulative IT Cost with poor performers removed\n",
    "it_cost_post_removal = 0.024*(2/3)*((60028)**1.5)\n",
    "it_cost_post_removal"
   ]
  },
  {
   "cell_type": "code",
   "execution_count": null,
   "metadata": {},
   "outputs": [],
   "source": [
    "# Average IT cost per order with poor performers removed\n",
    "it_cost_post_removal / order_vol_df.iloc[1]"
   ]
  },
  {
   "cell_type": "markdown",
   "metadata": {},
   "source": [
    "Let's now compare both total and average IT costs if we were to remove poor-performing sellers from the platform.\n",
    "\n"
   ]
  },
  {
   "cell_type": "code",
   "execution_count": null,
   "metadata": {},
   "outputs": [],
   "source": [
    "total_it_cost = sellers[['impact', 'cumulative_it_cost']].groupby('impact').max().transpose()\n",
    "total_it_cost"
   ]
  },
  {
   "cell_type": "code",
   "execution_count": null,
   "metadata": {
    "scrolled": true
   },
   "outputs": [],
   "source": [
    "# Total Cumulative IT Costs before and after removing poor performers\n",
    "\n",
    "fig = plt.figure(figsize=(12,6))\n",
    "x_values = ['Before', 'After']\n",
    "y_values = [total_it_cost.iloc[0,0], total_it_cost.iloc[0,1]]\n",
    "ax = sns.barplot(data=sellers, x=x_values, y=y_values, palette='tab20')\n",
    "\n",
    "plt.ylabel('IT Cost (in BRL)')\n",
    "plt.ylim(0, 600000)\n",
    "plt.suptitle('IT Cost Comparison from Removing Poor-performing Sellers', fontsize=12)\n",
    "ax.set_yticks(ax.get_yticks())\n",
    "yticklabels=['{:3.0f}'.format(y) + 'K' for y in ax.get_yticks()/1000]\n",
    "ax.set_yticklabels(yticklabels);"
   ]
  },
  {
   "cell_type": "code",
   "execution_count": null,
   "metadata": {},
   "outputs": [],
   "source": [
    "# Calculation of reduction of total IT costs from removing poor-performing sellers\n",
    "total_it_cost.iloc[0,0] - total_it_cost.iloc[0,1]"
   ]
  },
  {
   "cell_type": "markdown",
   "metadata": {},
   "source": [
    "Removing poor-performing sellers from the platform reduces order volume by 40% and translates into a reduction of **266,919 BRL** (~50,868 USD) in IT costs."
   ]
  },
  {
   "cell_type": "code",
   "execution_count": null,
   "metadata": {},
   "outputs": [],
   "source": [
    "# Our IT Cost Curve\n",
    "\n",
    "plt.figure(figsize=(15,4))\n",
    "x=np.linspace(0,99844, 100)\n",
    "y=(k)*(x**0.5)\n",
    "sns.lineplot(x=x, y=y)\n",
    "plt.xlabel('Number of Orders')\n",
    "plt.ylabel('IT Cost (in BRL)');"
   ]
  },
  {
   "cell_type": "markdown",
   "metadata": {},
   "source": [
    "As we can already see from the shape of the IT Cost Curve, the greatest difference in marginal IT cost occurs at very low order volume. "
   ]
  },
  {
   "cell_type": "code",
   "execution_count": null,
   "metadata": {},
   "outputs": [],
   "source": [
    "# order volume if removed 60,027 "
   ]
  },
  {
   "cell_type": "markdown",
   "metadata": {},
   "source": [
    "To verify this more precisely, we can return to our IT Cost Curve. The additional cost in IT for each additional order (the marginal IT cost) is essentially the slope of the IT Cost Curve at a specific order volume. \n",
    "\n",
    "To arrive at this slope, we can simply take the first derivative of our IT Cost Curve:   \n",
    "$ f(n) = 0.024\\sqrt{n}  \\to f\\prime(n) = 0.012 (n)^-\\frac{1}{2} $\n",
    "\n",
    "By removing poor-performing sellers from Olist, the order volume would drop from **99,844** to **60,027** orders. However, if we evaluate the marginal IT cost at both of these amounts, we can confirm that the difference in marginal cost is quite small (0.000049 vs. 0.000038). \n",
    "\n",
    "Since most of the change in slope for the IT Cost Curve has already already occurred at a lower order volume (more near the range of 10,000 orders), the change in order volume brought about by the removal of poor-performing sellers would have negligible impact on marginal IT Costs. \n"
   ]
  },
  {
   "cell_type": "code",
   "execution_count": null,
   "metadata": {},
   "outputs": [],
   "source": [
    "# Calculate the Marginal IT Cost for specific order volume\n",
    "\n",
    "order_volume = pd.DataFrame(np.arange(1, total_orders+1))\n",
    "\n",
    "marg_it_cost = 0.012*(order_volume)**-0.5\n",
    "\n",
    "i_compare =[60027,99843]\n",
    "\n",
    "marg_it_cost.iloc[i_compare] \n",
    "\n"
   ]
  },
  {
   "cell_type": "code",
   "execution_count": null,
   "metadata": {},
   "outputs": [],
   "source": []
  },
  {
   "cell_type": "code",
   "execution_count": null,
   "metadata": {},
   "outputs": [],
   "source": [
    "# Let's find out where marginal IT costs would be the greatest  \n",
    "\n",
    "order_volume = pd.DataFrame(np.arange(1, total_orders+1))\n",
    "\n",
    "\n",
    "# Marginal IT Cost\n",
    "marg_it_cost = 0.012*(order_volume)**-0.5\n",
    "marg_it_cost.iloc[66027]\n"
   ]
  },
  {
   "cell_type": "code",
   "execution_count": null,
   "metadata": {},
   "outputs": [],
   "source": [
    "# IT Cost \n",
    "\n",
    "it_cost = 0.024*(order_volume)**0.5\n",
    "it_cost.iloc[66027:66029].diff()\n"
   ]
  },
  {
   "cell_type": "code",
   "execution_count": null,
   "metadata": {
    "scrolled": true
   },
   "outputs": [],
   "source": [
    "it_cost.iloc[99842:99844].diff()"
   ]
  },
  {
   "cell_type": "code",
   "execution_count": null,
   "metadata": {},
   "outputs": [],
   "source": [
    "it_cost.iloc[100:130]"
   ]
  },
  {
   "cell_type": "code",
   "execution_count": null,
   "metadata": {},
   "outputs": [],
   "source": [
    "# The average cost of IT per order after adding this seller\n",
    "#sellers['it_unit_cost'] = sellers.cumulative_it_cost / sellers.cumulative_orders\n",
    "\n",
    "# The IT cost for Olist after adding this seller\n",
    "sellers['it_cost'] = k*sellers['cumulative_orders']**0.5\n",
    "\n",
    "# # Difference between average and marginal IT cost\n",
    "# sellers['diff_unit_marg_it'] = sellers.it_unit_cost - sellers.it_marg_cost\n",
    "#sellers['diff_unit_marg_it'].abs().min()\n",
    "\n",
    "sellers.head()"
   ]
  },
  {
   "cell_type": "code",
   "execution_count": null,
   "metadata": {},
   "outputs": [],
   "source": []
  },
  {
   "cell_type": "code",
   "execution_count": null,
   "metadata": {},
   "outputs": [],
   "source": []
  },
  {
   "cell_type": "markdown",
   "metadata": {},
   "source": [
    "----NOT SURE WHERE TO PUT YET\n",
    "Understanding this will help us gauge whether removing the poorest-performing sellers along with their order volume would adversely impact Olist's cost structure. \n",
    "\n",
    "Sellers with high order volume also have accompanying higher IT costs associated with them. If poor-performing sellers both pose a drag on profits from the effects of bad reviews, and additionally, with large order volume consume a larger of IT resources, then it becomes even clearer that removal of these sellers would improve profits and relieve the burden on the IT infrastructure.  "
   ]
  },
  {
   "cell_type": "raw",
   "metadata": {
    "slideshow": {
     "slide_type": "slide"
    }
   },
   "source": [
    "# Recommendation: \n",
    "\n",
    "## Remove poorest performing sellers on Olist platform for immediate profit increase"
   ]
  },
  {
   "cell_type": "markdown",
   "metadata": {},
   "source": [
    "**Recommendation to CEO:**\n",
    "\n",
    "In the short term, we believe that Olist can improve profits and overall customer satisfaction by removing poor-performing sellers.\n",
    "\n",
    "Our preliminary analysis shows that removing these sellers from the platform will immediately increase Olist profits by reducing costs on two fronts:\n",
    "\n",
    "1. **Costs Associated with Bad Reviews** - removal of sellers who have received enough bad reviews to have a drag on Olist margins will **boost profits by 20%** amounting to an increase of **313,277 BRL** ($58,246 USD).\n",
    "\n",
    "2. **IT Costs** - IT costs are a function of overall order volume, and since poor-performing sellers have been found to have a disproportionately large order volume, their removal translates into an overall **40% reduction in IT costs** amounting to a savings of **266,919 BRL** (~50,868 USD). \n",
    "\n",
    "In sum, by removing poor-performing sellers from the platform, Olist stands to see an immediate gain of **580,196 BRL** (~110,484 USD) to its financial performance. Additionally, we would expect to see an overall improvement in brand reputation as average customer satisfaction increases."
   ]
  },
  {
   "cell_type": "markdown",
   "metadata": {},
   "source": [
    "**Caveats**\n",
    "\n",
    "These findings have been made based on assumptions for the monetary costs associated with bad reviews as well as the model for IT infrastructure costs.\n",
    "\n",
    "**Other Areas For Further Analysis**\n",
    "\n",
    "A more fine-toothed analysis for identifying poor-performing sellers might also review sellers who have only just recently joined the platform and not gained enough experience to properly use the platform properly or engage with customers. With sufficient support, they may potentially become strong performing sellers and advocates for the platform that has a good on-ramping process and support system for new sellers.     \n",
    "\n",
    "If expanding to a long-term strategy\n",
    "\n"
   ]
  },
  {
   "cell_type": "markdown",
   "metadata": {
    "slideshow": {
     "slide_type": "slide"
    }
   },
   "source": [
    "## Areas to Explore Further\n",
    "\n",
    "- Evaluate whether can improve average seller performance\n",
    "- Explore reviews for cause of dissatisfaction"
   ]
  }
 ],
 "metadata": {
  "celltoolbar": "Raw Cell Format",
  "kernelspec": {
   "display_name": "Python 3",
   "language": "python",
   "name": "python3"
  },
  "language_info": {
   "codemirror_mode": {
    "name": "ipython",
    "version": 3
   },
   "file_extension": ".py",
   "mimetype": "text/x-python",
   "name": "python",
   "nbconvert_exporter": "python",
   "pygments_lexer": "ipython3",
   "version": "3.8.6"
  },
  "toc": {
   "base_numbering": 1,
   "nav_menu": {},
   "number_sections": true,
   "sideBar": true,
   "skip_h1_title": true,
   "title_cell": "Table of Contents",
   "title_sidebar": "Contents",
   "toc_cell": false,
   "toc_position": {
    "height": "calc(100% - 180px)",
    "left": "10px",
    "top": "150px",
    "width": "165px"
   },
   "toc_section_display": true,
   "toc_window_display": false
  },
  "varInspector": {
   "cols": {
    "lenName": 16,
    "lenType": 16,
    "lenVar": 40
   },
   "kernels_config": {
    "python": {
     "delete_cmd_postfix": "",
     "delete_cmd_prefix": "del ",
     "library": "var_list.py",
     "varRefreshCmd": "print(var_dic_list())"
    },
    "r": {
     "delete_cmd_postfix": ") ",
     "delete_cmd_prefix": "rm(",
     "library": "var_list.r",
     "varRefreshCmd": "cat(var_dic_list()) "
    }
   },
   "types_to_exclude": [
    "module",
    "function",
    "builtin_function_or_method",
    "instance",
    "_Feature"
   ],
   "window_display": false
  }
 },
 "nbformat": 4,
 "nbformat_minor": 4
}
