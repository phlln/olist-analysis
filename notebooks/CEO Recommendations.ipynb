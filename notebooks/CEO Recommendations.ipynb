{
 "cells": [
  {
   "cell_type": "markdown",
   "metadata": {
    "slideshow": {
     "slide_type": "-"
    }
   },
   "source": [
    "# CEO RECOMMENDATIONS"
   ]
  },
  {
   "cell_type": "markdown",
   "metadata": {},
   "source": [
    "***CEO Question***\n",
    "\n",
    "*How do we increase customer satisfaction (so as to increase profit margins) while maintaining a healthy order volume?*"
   ]
  },
  {
   "cell_type": "markdown",
   "metadata": {},
   "source": [
    "**Findings from our Preliminary Analysis of the Orders and Sellers Datasets**\n",
    "\n",
    "- The *more* sellers (`number_of_sellers`) and products (`number_of_products`) that are combined into a single order, the *lower* the review score.  \n",
    "- The *longer* the `wait_time` for a delivery, the *lower* the review score.  \n",
    "\n",
    "Our earlier analysis also found that *orders containing multiple sellers or products do not make up a large portion of orders on the platform* (~10%), so any policy changes (e.g. restricting orders to a single seller) would have a limited impact. \n",
    "\n",
    "Additionally, `wait_time` is made up of two components (seller's `delay_to_carrier` + `carrier_delivery_time`). Our analysis also found that the proportion of sellers who have delayed shipment to a carrier is only about 6%. Moreover, the component `carrier_delivery_time` is less directly in Olist's control and further analysis of their operations or finding new carrier partners is not an easy-fix we'd like to propose to the CEO. \n",
    "\n",
    "It appears that there are other factors contributing to a low review score that are outside of the Orders and Sellers datasets. Rather than searching for and trying to isolate all the factors contributing to low review scores, we'll try a different approach in this notebook.\n",
    "\n",
    "Since our preliminary analysis suggests there are multiple factors driving low review scores, and focusing efforts on improving a single factor may not be sufficient, let's instead use low review scores as a way to filter better performing sellers. By ascribing costs to reviews with low ratings, we'll also be able to calculate how much impact keeping these sellers on the platform will have on the bottom line.    \n",
    " "
   ]
  },
  {
   "cell_type": "markdown",
   "metadata": {},
   "source": [
    "**Notebook Objective**\n",
    "\n",
    "In this notebook, we'll **identify poor-performing sellers, quantify their impact on Olist's profit margins, and make specific recommendations to the CEO on what short-term changes can be made to increase customer satisfaction and Olist's bottom line.**\n"
   ]
  },
  {
   "cell_type": "markdown",
   "metadata": {},
   "source": [
    "**Next Steps in our Analysis**\n",
    "1. Calculate how much revenue each seller brings in to Olist\n",
    "2. Calculate the cost to Olist from bad reviews for each seller\n",
    "3. Calculate the profit to Olist for each seller \n",
    "3. Understand the impact on Olist's profits from poor-performing sellers\n",
    "4. Find out how much removing these sellers would impact Olist's IT costs "
   ]
  },
  {
   "cell_type": "code",
   "execution_count": 2,
   "metadata": {
    "scrolled": true,
    "slideshow": {
     "slide_type": "skip"
    }
   },
   "outputs": [
    {
     "name": "stdout",
     "output_type": "stream",
     "text": [
      "The autoreload extension is already loaded. To reload it, use:\n",
      "  %reload_ext autoreload\n"
     ]
    }
   ],
   "source": [
    "# Import relevant libraries and modules\n",
    "%load_ext autoreload\n",
    "%autoreload 2\n",
    "%matplotlib inline\n",
    "\n",
    "import numpy as np\n",
    "import pandas as pd\n",
    "import matplotlib.pyplot as plt\n",
    "import seaborn as sns\n",
    "import math\n",
    "import paths"
   ]
  },
  {
   "cell_type": "code",
   "execution_count": 8,
   "metadata": {},
   "outputs": [],
   "source": [
    "from olist.seller import Seller\n",
    "from olist.data import Olist\n"
   ]
  },
  {
   "cell_type": "code",
   "execution_count": null,
   "metadata": {},
   "outputs": [],
   "source": [
    "# #CAN BE DELETED LATER\n",
    "# #export dataset for Tableau\n",
    "# path = '../data/csv/seller_dataset_modified.csv'\n",
    "# sellers.to_csv(path_or_buf=path, index=False)"
   ]
  },
  {
   "cell_type": "code",
   "execution_count": 9,
   "metadata": {},
   "outputs": [],
   "source": [
    "data = Olist().get_data()"
   ]
  },
  {
   "cell_type": "code",
   "execution_count": 10,
   "metadata": {},
   "outputs": [
    {
     "data": {
      "text/html": [
       "<div>\n",
       "<style scoped>\n",
       "    .dataframe tbody tr th:only-of-type {\n",
       "        vertical-align: middle;\n",
       "    }\n",
       "\n",
       "    .dataframe tbody tr th {\n",
       "        vertical-align: top;\n",
       "    }\n",
       "\n",
       "    .dataframe thead th {\n",
       "        text-align: right;\n",
       "    }\n",
       "</style>\n",
       "<table border=\"1\" class=\"dataframe\">\n",
       "  <thead>\n",
       "    <tr style=\"text-align: right;\">\n",
       "      <th></th>\n",
       "      <th>seller_id</th>\n",
       "      <th>seller_city</th>\n",
       "      <th>seller_state</th>\n",
       "      <th>delay_to_carrier</th>\n",
       "      <th>seller_wait_time</th>\n",
       "      <th>date_first_sale</th>\n",
       "      <th>date_last_sale</th>\n",
       "      <th>months_on_olist</th>\n",
       "      <th>share_of_one_stars</th>\n",
       "      <th>share_of_five_stars</th>\n",
       "      <th>seller_review_score</th>\n",
       "      <th>review_cost_per_seller</th>\n",
       "      <th>n_orders</th>\n",
       "      <th>quantity</th>\n",
       "      <th>quantity_per_order</th>\n",
       "      <th>sales</th>\n",
       "    </tr>\n",
       "  </thead>\n",
       "  <tbody>\n",
       "    <tr>\n",
       "      <th>0</th>\n",
       "      <td>3442f8959a84dea7ee197c632cb2df15</td>\n",
       "      <td>campinas</td>\n",
       "      <td>SP</td>\n",
       "      <td>0.000000</td>\n",
       "      <td>13.018588</td>\n",
       "      <td>2017-05-05 16:25:11</td>\n",
       "      <td>2017-08-30 12:50:19</td>\n",
       "      <td>4.0</td>\n",
       "      <td>0.333333</td>\n",
       "      <td>0.333333</td>\n",
       "      <td>3.00</td>\n",
       "      <td>140</td>\n",
       "      <td>3</td>\n",
       "      <td>3</td>\n",
       "      <td>1.000</td>\n",
       "      <td>218.70</td>\n",
       "    </tr>\n",
       "    <tr>\n",
       "      <th>1</th>\n",
       "      <td>d1b65fc7debc3361ea86b5f14c68d2e2</td>\n",
       "      <td>mogi guacu</td>\n",
       "      <td>SP</td>\n",
       "      <td>0.000000</td>\n",
       "      <td>9.065716</td>\n",
       "      <td>2017-03-29 02:10:34</td>\n",
       "      <td>2018-06-06 20:15:21</td>\n",
       "      <td>14.0</td>\n",
       "      <td>0.050000</td>\n",
       "      <td>0.725000</td>\n",
       "      <td>4.55</td>\n",
       "      <td>240</td>\n",
       "      <td>40</td>\n",
       "      <td>41</td>\n",
       "      <td>1.025</td>\n",
       "      <td>11703.07</td>\n",
       "    </tr>\n",
       "    <tr>\n",
       "      <th>2</th>\n",
       "      <td>ce3ad9de960102d0677a81f5d0bb7b2d</td>\n",
       "      <td>rio de janeiro</td>\n",
       "      <td>RJ</td>\n",
       "      <td>0.000000</td>\n",
       "      <td>4.042292</td>\n",
       "      <td>2018-07-30 12:44:49</td>\n",
       "      <td>2018-07-30 12:44:49</td>\n",
       "      <td>0.0</td>\n",
       "      <td>0.000000</td>\n",
       "      <td>1.000000</td>\n",
       "      <td>5.00</td>\n",
       "      <td>0</td>\n",
       "      <td>1</td>\n",
       "      <td>1</td>\n",
       "      <td>1.000</td>\n",
       "      <td>158.00</td>\n",
       "    </tr>\n",
       "    <tr>\n",
       "      <th>3</th>\n",
       "      <td>c0f3eea2e14555b6faeea3dd58c1b1c3</td>\n",
       "      <td>sao paulo</td>\n",
       "      <td>SP</td>\n",
       "      <td>0.000000</td>\n",
       "      <td>5.667187</td>\n",
       "      <td>2018-08-03 00:44:08</td>\n",
       "      <td>2018-08-03 00:44:08</td>\n",
       "      <td>0.0</td>\n",
       "      <td>0.000000</td>\n",
       "      <td>1.000000</td>\n",
       "      <td>5.00</td>\n",
       "      <td>0</td>\n",
       "      <td>1</td>\n",
       "      <td>1</td>\n",
       "      <td>1.000</td>\n",
       "      <td>79.99</td>\n",
       "    </tr>\n",
       "    <tr>\n",
       "      <th>4</th>\n",
       "      <td>51a04a8a6bdcb23deccc82b0b80742cf</td>\n",
       "      <td>braganca paulista</td>\n",
       "      <td>SP</td>\n",
       "      <td>3.353727</td>\n",
       "      <td>35.314861</td>\n",
       "      <td>2017-11-14 12:15:25</td>\n",
       "      <td>2017-11-14 12:15:25</td>\n",
       "      <td>0.0</td>\n",
       "      <td>1.000000</td>\n",
       "      <td>0.000000</td>\n",
       "      <td>1.00</td>\n",
       "      <td>100</td>\n",
       "      <td>1</td>\n",
       "      <td>1</td>\n",
       "      <td>1.000</td>\n",
       "      <td>167.99</td>\n",
       "    </tr>\n",
       "  </tbody>\n",
       "</table>\n",
       "</div>"
      ],
      "text/plain": [
       "                          seller_id        seller_city seller_state  \\\n",
       "0  3442f8959a84dea7ee197c632cb2df15           campinas           SP   \n",
       "1  d1b65fc7debc3361ea86b5f14c68d2e2         mogi guacu           SP   \n",
       "2  ce3ad9de960102d0677a81f5d0bb7b2d     rio de janeiro           RJ   \n",
       "3  c0f3eea2e14555b6faeea3dd58c1b1c3          sao paulo           SP   \n",
       "4  51a04a8a6bdcb23deccc82b0b80742cf  braganca paulista           SP   \n",
       "\n",
       "   delay_to_carrier  seller_wait_time     date_first_sale      date_last_sale  \\\n",
       "0          0.000000         13.018588 2017-05-05 16:25:11 2017-08-30 12:50:19   \n",
       "1          0.000000          9.065716 2017-03-29 02:10:34 2018-06-06 20:15:21   \n",
       "2          0.000000          4.042292 2018-07-30 12:44:49 2018-07-30 12:44:49   \n",
       "3          0.000000          5.667187 2018-08-03 00:44:08 2018-08-03 00:44:08   \n",
       "4          3.353727         35.314861 2017-11-14 12:15:25 2017-11-14 12:15:25   \n",
       "\n",
       "   months_on_olist  share_of_one_stars  share_of_five_stars  \\\n",
       "0              4.0            0.333333             0.333333   \n",
       "1             14.0            0.050000             0.725000   \n",
       "2              0.0            0.000000             1.000000   \n",
       "3              0.0            0.000000             1.000000   \n",
       "4              0.0            1.000000             0.000000   \n",
       "\n",
       "   seller_review_score  review_cost_per_seller  n_orders  quantity  \\\n",
       "0                 3.00                     140         3         3   \n",
       "1                 4.55                     240        40        41   \n",
       "2                 5.00                       0         1         1   \n",
       "3                 5.00                       0         1         1   \n",
       "4                 1.00                     100         1         1   \n",
       "\n",
       "   quantity_per_order     sales  \n",
       "0               1.000    218.70  \n",
       "1               1.025  11703.07  \n",
       "2               1.000    158.00  \n",
       "3               1.000     79.99  \n",
       "4               1.000    167.99  "
      ]
     },
     "execution_count": 10,
     "metadata": {},
     "output_type": "execute_result"
    }
   ],
   "source": [
    "# Load Sellers data\n",
    "sellers = Seller().get_training_data()\n",
    "sellers.head()"
   ]
  },
  {
   "cell_type": "markdown",
   "metadata": {},
   "source": [
    "## Revenue per seller"
   ]
  },
  {
   "cell_type": "markdown",
   "metadata": {},
   "source": [
    "Olist generates revenue from its sellers through two components:\n",
    "1. **Monthly Membership Fee**: sellers pay Olist an **80 Brazilian Real (BRL)** (~15 USD) monthly fee to use the platform\n",
    "2. **Revenue Share**: for every order on the platform, Olist takes a **10% cut** based on the product price  of each item (excl. shipping)\n"
   ]
  },
  {
   "cell_type": "code",
   "execution_count": null,
   "metadata": {
    "scrolled": true,
    "slideshow": {
     "slide_type": "skip"
    }
   },
   "outputs": [],
   "source": [
    "# Revenue Calculation: Monthly Membership Fee Calculation + Revenue Share\n",
    "\n",
    "# Calculate total time on platform (in months)\n",
    "number_of_months_on_olist = (sellers.date_last_sale - sellers.date_first_sale) / np.timedelta64(1, 'M')\n",
    "sellers['months_on_olist'] = number_of_months_on_olist.map(lambda x: 1 if x < 1 else np.ceil(x))\n",
    "\n",
    "# Calculate total revenue each seller has generated for Olist\n",
    "sellers['revenue_per_seller'] = sellers.months_on_olist * 80 + sellers.sales * 0.1\n",
    "sellers.head()"
   ]
  },
  {
   "cell_type": "code",
   "execution_count": null,
   "metadata": {
    "scrolled": true
   },
   "outputs": [],
   "source": [
    "# Plot histogram of seller revenue\n",
    "plt.figure(figsize=(12,8))\n",
    "sns.set_style('darkgrid')\n",
    "\n",
    "ax = sns.histplot(sellers.revenue_per_seller)\n",
    "ax.set_xlabel('Revenue per Seller (BRL)')\n",
    "ax.set_ylabel('Number of Sellers')\n",
    "ax.set_title('Distribution of Seller Contribution to Olist Revenue');"
   ]
  },
  {
   "cell_type": "code",
   "execution_count": null,
   "metadata": {
    "scrolled": true
   },
   "outputs": [],
   "source": [
    "sellers[['revenue_per_seller']].describe()"
   ]
  },
  {
   "cell_type": "markdown",
   "metadata": {},
   "source": [
    "Half of all sellers on the platform have brought in less than **504 BRL** (95 USD). "
   ]
  },
  {
   "cell_type": "markdown",
   "metadata": {
    "slideshow": {
     "slide_type": "skip"
    }
   },
   "source": [
    "## Cost per seller"
   ]
  },
  {
   "cell_type": "markdown",
   "metadata": {},
   "source": [
    "Because poor reviews from customers can have several direct and indirect costs to a business (e.g. customer support utilization, bad word-of-mouth, low repeat rate, etc.), we'll use the following table to estimate monetary costs associated with bad reviews:\n",
    "\n",
    "**Estimated cost to Olist per bad review (in BRL)** (100 BRL $\\approx$ 20 USD)\n",
    "- **1 star:** 100\n",
    "- **2 stars:** 50\n",
    "- **3 stars:** 40\n",
    "- **4 stars:** 0\n",
    "- **5 stars:** 0"
   ]
  },
  {
   "cell_type": "code",
   "execution_count": null,
   "metadata": {},
   "outputs": [],
   "source": [
    "sellers[['seller_id','seller_review_score','review_cost_per_seller']].head()"
   ]
  },
  {
   "cell_type": "markdown",
   "metadata": {},
   "source": [
    "- `seller_review_score`: the average review score earned by a seller.\n",
    "\n",
    "- `review_cost_per_seller`: the total cost from all bad reviews for each seller. It's calculated by first assigning a monetary cost for any review *receiving 3 stars or less*, and then these costs are totaled up per seller. "
   ]
  },
  {
   "cell_type": "code",
   "execution_count": null,
   "metadata": {
    "scrolled": true
   },
   "outputs": [],
   "source": [
    "# Plot histogram of seller revenue\n",
    "plt.figure(figsize=(12,8))\n",
    "sns.set_style('darkgrid')\n",
    "\n",
    "ax = sns.histplot(sellers.review_cost_per_seller)\n",
    "ax.set_xlabel('Review Cost per Seller (BRL)')\n",
    "ax.set_ylabel('Number of Sellers')\n",
    "ax.set_title('Distribution of Seller Review Costs to Olist');"
   ]
  },
  {
   "cell_type": "code",
   "execution_count": null,
   "metadata": {
    "scrolled": true
   },
   "outputs": [],
   "source": [
    "sellers[['review_cost_per_seller']].describe()"
   ]
  },
  {
   "cell_type": "code",
   "execution_count": null,
   "metadata": {},
   "outputs": [],
   "source": [
    "# Percentage of sellers who have some bad reviews (3 stars or less)\n",
    "(sellers[sellers.review_cost_per_seller > 0]['review_cost_per_seller'].count() / len(sellers) ) * 100"
   ]
  },
  {
   "cell_type": "markdown",
   "metadata": {},
   "source": [
    "While **70%** of sellers have had **at least 1 bad review** (3 stars or less), we can see that **most sellers do not have enough bad reviews to cost Olist substantially**, since even at the **75th percentile**, *total review costs* per seller are below **380 BRL** (~70 USD). This along with our distribution plot suggest that it's a small number of sellers that bring about a disproportionate number of bad reviews which ultimately cost Olist.\n",
    "\n",
    "However, to get a clearer picture of the impact, we should include revenues and actually calculate the *profit per seller.* "
   ]
  },
  {
   "cell_type": "markdown",
   "metadata": {},
   "source": [
    "## Profit per seller "
   ]
  },
  {
   "cell_type": "markdown",
   "metadata": {},
   "source": [
    "Now that we know how much revenue each seller generates for Olist and also the cost of bad reviews, let's calculate the profit to Olist from each seller. This will allow us to see more clearly *which sellers* are a drag on Olist's bottom line and *by how much.* \n",
    "\n",
    "We've also been asked by the CEO to consider the IT costs associated with running the platform, but for now we'll set that aside in our analysis and examine it later.   "
   ]
  },
  {
   "cell_type": "code",
   "execution_count": null,
   "metadata": {},
   "outputs": [],
   "source": [
    "# Calculate the profit as 'revenue_per_seller' - 'review_cost_per_seller'\n",
    "sellers['profit_per_seller'] = sellers.revenue_per_seller - sellers.review_cost_per_seller\n",
    "sellers[['seller_id', 'revenue_per_seller', 'review_cost_per_seller', 'profit_per_seller']].groupby(by='seller_id').sum()\n",
    "\n",
    "sellers[['seller_id', 'revenue_per_seller', 'review_cost_per_seller', 'profit_per_seller']].head()"
   ]
  },
  {
   "cell_type": "markdown",
   "metadata": {},
   "source": [
    "Let's take a quick look at the distribution of `profit_per_seller`."
   ]
  },
  {
   "cell_type": "code",
   "execution_count": null,
   "metadata": {
    "scrolled": true,
    "slideshow": {
     "slide_type": "skip"
    }
   },
   "outputs": [],
   "source": [
    "# Plot histogram of 'profit_per_seller'\n",
    "plt.figure(figsize=(12,8))\n",
    "sns.set_style('darkgrid')\n",
    "\n",
    "ax = sns.histplot(sellers.profit_per_seller)\n",
    "ax.set_xlim(xmin=-5000, xmax=5000)\n",
    "ax.set_xlabel('Profits per Seller (BRL)')\n",
    "ax.set_ylabel('Number of Sellers')\n",
    "ax.set_title('Distribution of Seller Contribution to Olist Profits');"
   ]
  },
  {
   "cell_type": "code",
   "execution_count": null,
   "metadata": {},
   "outputs": [],
   "source": [
    "# Summary stats\n",
    "sellers.profit_per_seller.describe()"
   ]
  },
  {
   "cell_type": "markdown",
   "metadata": {},
   "source": [
    "From our histogram and summary stats, it appears the **middle 50% of sellers** on the platform generate anywhere from **93 to 721 BRL** (~17 to 134 USD) for Olist. We can also see from the distribution plot a number of sellers with negative impact on profits. \n",
    " \n",
    "Let's see if we can find out more about these poor-performing sellers who are pulling down Olist profits. "
   ]
  },
  {
   "cell_type": "markdown",
   "metadata": {},
   "source": [
    "## Understanding the Impact of Poor-performing Sellers"
   ]
  },
  {
   "cell_type": "markdown",
   "metadata": {},
   "source": [
    "To get a clearer picture of how much impact these poor-performing sellers have on Olist's profits, we'll break this question down into smaller steps:\n",
    "\n",
    "1. **How many** poor-performing sellers (those who have a negative impact on profits) are on the platform?\n",
    "2. **How much in total** do these poor-performing sellers affect Olist profits? "
   ]
  },
  {
   "cell_type": "markdown",
   "metadata": {},
   "source": [
    "### How many sellers are negatively impacting Olist profits?"
   ]
  },
  {
   "cell_type": "markdown",
   "metadata": {},
   "source": [
    "Let's find the total number of poor-performing sellers and also see what proportion on the platform they make up. "
   ]
  },
  {
   "cell_type": "code",
   "execution_count": null,
   "metadata": {
    "scrolled": false
   },
   "outputs": [],
   "source": [
    "# Simple function to create column indicating whether sellers have positive or negative impact on profits\n",
    "def olist_impact(x):\n",
    "    if x < 0:\n",
    "        return 'negative'\n",
    "    else:\n",
    "        return 'positive'\n",
    "\n",
    "sellers['impact'] = sellers['profit_per_seller'].apply(olist_impact)\n",
    "sellers[['impact','seller_id']].groupby('impact').count()"
   ]
  },
  {
   "cell_type": "code",
   "execution_count": null,
   "metadata": {
    "scrolled": true
   },
   "outputs": [],
   "source": [
    "# Bar plot to visualize the proportion of poor-performing sellers\n",
    "sellers[['impact','seller_id']].groupby('impact').count().transpose().plot.barh(stacked=True, cmap='Set1')\n",
    "plt.xlabel('Number of Sellers');"
   ]
  },
  {
   "cell_type": "code",
   "execution_count": null,
   "metadata": {},
   "outputs": [],
   "source": [
    "# Proportion of poor-performing sellers\n",
    "sellers[['impact']].value_counts(normalize=True)"
   ]
  },
  {
   "cell_type": "markdown",
   "metadata": {},
   "source": [
    "We can now see that there are **276 sellers** (or **roughly 9%** of all sellers) who **negatively impact** Olist profits, and that we'll classify as **poor-performing**."
   ]
  },
  {
   "cell_type": "markdown",
   "metadata": {},
   "source": [
    "### How much in total do poor-performing sellers impact Olist profits?"
   ]
  },
  {
   "cell_type": "markdown",
   "metadata": {},
   "source": [
    "To get a better picture of how much impact these sellers have on Olist's total profits, let's create a **whale curve** which will show us *what percentage* of sellers represent *what percentage* of cumulative profits. \n",
    "\n"
   ]
  },
  {
   "cell_type": "markdown",
   "metadata": {},
   "source": [
    "### Whale Curve"
   ]
  },
  {
   "cell_type": "markdown",
   "metadata": {},
   "source": [
    "To build our whale curve, we'll first sort our sellers from *most to least profitable*. Then we'll plot the *cumulative profits* to Olist from each additional seller.   "
   ]
  },
  {
   "cell_type": "code",
   "execution_count": null,
   "metadata": {
    "slideshow": {
     "slide_type": "skip"
    }
   },
   "outputs": [],
   "source": [
    "# Sort sellers by how much profit each contributes to Olist (from most to least)\n",
    "sellers.sort_values('profit_per_seller', ignore_index=True, inplace=True, ascending=False)\n",
    "\n",
    "# Calculate cumulative profits to Olist from each additional seller\n",
    "sellers['cumulative_profits'] = sellers['profit_per_seller'].cumsum()\n",
    "sellers[['seller_id', 'profit_per_seller','cumulative_profits']].tail()"
   ]
  },
  {
   "cell_type": "code",
   "execution_count": null,
   "metadata": {
    "slideshow": {
     "slide_type": "skip"
    }
   },
   "outputs": [],
   "source": [
    "# Total cumulative profits for Olist\n",
    "total_profits = sellers['cumulative_profits'].iloc[-1]\n",
    "total_profits"
   ]
  },
  {
   "cell_type": "markdown",
   "metadata": {},
   "source": [
    "Olist's cumulative profits are **1,259,445 BRL** (237,180 USD). Note that when sorting sellers from *most to least profitable* to Olist, we can see how much some sellers are actually costing the platfrom. The seller with the *highest negative profits* has already cost Olist **22,419 BRL** (4220 USD).\n",
    "\n",
    "Before we build our whale curve, we'll also need to calculate the cumulative percentages of sellers and contributions to Olist profits. "
   ]
  },
  {
   "cell_type": "code",
   "execution_count": null,
   "metadata": {
    "scrolled": true
   },
   "outputs": [],
   "source": [
    "# Calculate the cumulative percentage of profits from each additional seller\n",
    "sellers['percent_profits'] = sellers['cumulative_profits'].div(total_profits).mul(100)\n",
    "\n",
    "# Calculate the proprotion of sellers represented (in percent)\n",
    "sellers['seller_proportion'] = (sellers.index+1) / sellers.seller_id.count() * 100\n",
    "\n",
    "whale_df = sellers[['seller_id', 'percent_profits', 'seller_proportion']]\n",
    "whale_df.tail()"
   ]
  },
  {
   "cell_type": "code",
   "execution_count": null,
   "metadata": {
    "scrolled": true
   },
   "outputs": [],
   "source": [
    "# Build our whale curve\n",
    "plt.figure(figsize=(15,6))\n",
    "plt.suptitle('Whale Curve: What Proportion of Sellers Represents What Proportion of Profits')\n",
    "sns.lineplot(data=sellers, x='seller_proportion', y='percent_profits')\n",
    "plt.xlabel('Percentage of Sellers (Ranked by Most Profitable to Least)')\n",
    "plt.ylabel('Cumulative Profits (%)');"
   ]
  },
  {
   "cell_type": "markdown",
   "metadata": {},
   "source": [
    "Our whale curve helps to underscore that **roughly 80%** of our sellers **contribute to 120% of Olist profits**. Another **10%** of sellers have a **negligible impact**. And, the **remaining 10%** of sellers (when sorted from most to least profitable) drag down profits by **20%** .  "
   ]
  },
  {
   "cell_type": "markdown",
   "metadata": {},
   "source": [
    "### Profits without the Poor-performing Sellers"
   ]
  },
  {
   "cell_type": "markdown",
   "metadata": {},
   "source": [
    "Let's visualize this another way. What would Olist profits be if poor-performing sellers were no longer on the platform."
   ]
  },
  {
   "cell_type": "code",
   "execution_count": null,
   "metadata": {},
   "outputs": [],
   "source": [
    "# Amount of reduction in profits due to bad reviews\n",
    "neg_profits = sellers[sellers['impact']=='negative'].profit_per_seller.cumsum()\n",
    "neg_profits.iloc[-1]"
   ]
  },
  {
   "cell_type": "code",
   "execution_count": null,
   "metadata": {
    "scrolled": true
   },
   "outputs": [],
   "source": [
    "# Bar chart showing profit comparison after removal of poor-performing sellers\n",
    "fig = plt.figure(figsize=(12,6))\n",
    "x_values = ['Before', 'After']\n",
    "y_values = [sellers.cumulative_profits.iloc[-1], sellers.cumulative_profits.iloc[-1] - neg_profits.iloc[-1]]\n",
    "ax = sns.barplot(data=sellers, x=x_values, y=y_values, palette='tab20')\n",
    "\n",
    "plt.ylabel('Profit (in BRL)')\n",
    "plt.ylim(0, 2500000)\n",
    "plt.suptitle('Profit Comparison from Removing Poor-performing Sellers', fontsize=12)\n",
    "ax.set_yticks(ax.get_yticks())\n",
    "yticklabels=['{:3.1f}'.format(y) + 'M' for y in ax.get_yticks()/1000000]\n",
    "ax.set_yticklabels(yticklabels);"
   ]
  },
  {
   "cell_type": "markdown",
   "metadata": {},
   "source": [
    "If Olist were to **drop poor-performing sellers, who have a negative impact on profits**, the platform would see an **immediate boost in profits** of **313,277 BRL** (58,246 USD)! "
   ]
  },
  {
   "cell_type": "markdown",
   "metadata": {},
   "source": [
    "## What's the impact if we factor in IT costs?"
   ]
  },
  {
   "cell_type": "markdown",
   "metadata": {},
   "source": [
    "While it does appear that Olist's profit margins would benefit from removing poor-performing sellers, we've been asked to examine how removal of these sellers might also impact Olist's IT costs (servers, etc.). \n",
    "\n",
    "Olist's IT costs increase with the number of orders processed, but does so less and less rapidly due to scale effects. More precisely, we've been told that **IT costs are proportional to the square-root of cumulative number of orders**. Additionally, the IT department has reported accumulated IT costs of **500,000 BRL** (~92,930 USD) since the founding of the company.\n",
    "\n",
    "Let's approach this question by breaking it down into the following steps: \n",
    "\n",
    "1. Construct the IT cost curve to figure out **IT costs** for any given order volume. \n",
    "2. Compare the **order volume** by seller quality.\n",
    "3. Find the **average order volume** by seller quality.\n",
    "4. Calculate **cumulative IT costs** if poor-performing sellers were removed. \n",
    "5. Compare the **difference in profits (incl. IT costs)** after removing poor-performing sellers."
   ]
  },
  {
   "cell_type": "markdown",
   "metadata": {
    "heading_collapsed": true
   },
   "source": [
    "### What are the IT costs for a particular order volume?"
   ]
  },
  {
   "cell_type": "markdown",
   "metadata": {
    "hidden": true
   },
   "source": [
    "We've been provided information that IT costs are *proportional to the square-root of the number of approved orders*:\n",
    "\n",
    "**Olist IT costs = $k\\sqrt{n}$**\n",
    "\n",
    "Here ***n*** is the ***total number of approved orders*** and ***k*** is a ***proportionality constant***."
   ]
  },
  {
   "cell_type": "markdown",
   "metadata": {
    "hidden": true
   },
   "source": [
    "Given this IT cost curve, we can see that it should take on the shape of a concave ascending curve like $ y = \\sqrt{x} $ but also transformed by a proportionality constant *k*. Let's plot a generic $ y = \\sqrt{x} $ to help visualize the overall shape of the curve."
   ]
  },
  {
   "cell_type": "code",
   "execution_count": null,
   "metadata": {
    "hidden": true,
    "scrolled": true
   },
   "outputs": [],
   "source": [
    "# Plot a generic y = x**(1/2) curve\n",
    "\n",
    "plt.figure(figsize=(15,4))\n",
    "x=np.linspace(0,1000, 50)\n",
    "y=x**0.5\n",
    "sns.lineplot(x=x, y=y)\n",
    "plt.xlabel('Number of Orders')\n",
    "plt.ylabel('IT Cost (in BRL)');"
   ]
  },
  {
   "cell_type": "markdown",
   "metadata": {
    "hidden": true
   },
   "source": [
    "Given the shape of this particular cost curve, we can already see that IT costs will steadily increase with more orders. However, the difference in IT cost between each additional order (marginal IT cost) is the greatest early on (when order numbers are low). At higher order volume, the IT cost appears to change less and less rapidly. \n",
    "\n",
    "Let's now try to get a more precise curve by doing a little math to solve for the proportionality constant *k*. \n",
    "\n",
    "Since we've been told that the cumulative cost of IT to date is **500,000 BRL**, we can set this equal to the area under the curve bounded by 0 to the *current number of orders* ***n***.\n",
    "\n",
    "Then to calculate the proportionality constant *k*, we just need to take the definite integral of this expression."
   ]
  },
  {
   "cell_type": "markdown",
   "metadata": {
    "hidden": true
   },
   "source": [
    "\n",
    "\n",
    "$\\int_{0}^{n} k\\sqrt{n}$ = 500,000    \n",
    "\n",
    "where *n* is the number of orders and *k* is a proportionality constant"
   ]
  },
  {
   "cell_type": "code",
   "execution_count": null,
   "metadata": {
    "hidden": true
   },
   "outputs": [],
   "source": [
    "# Total of n_orders\n",
    "total_orders = sellers.n_orders.sum()\n",
    "total_orders"
   ]
  },
  {
   "cell_type": "markdown",
   "metadata": {
    "hidden": true
   },
   "source": [
    "Let's evaluate the integral from **0** orders to the total cumulative number of orders **99,844**. \n",
    "\n",
    "**$\\int_{0}^{n} k\\sqrt{n} \\to \\int_{0}^{99,844} k(\\frac{2}{3}) n^\\frac{3}{2} - k(\\frac{2}{3}) (0)^\\frac{3}{2} $**\n",
    "\n",
    "Setting this equal to 500,000, we can solve for the proportionality constant ***k***.\n",
    "\n",
    "**$ k(\\frac{2}{3}) (99,844)^\\frac{3}{2} = 500,000 $**"
   ]
  },
  {
   "cell_type": "code",
   "execution_count": null,
   "metadata": {
    "hidden": true
   },
   "outputs": [],
   "source": [
    "# Evaluate integral and solve for proportionality constant k\n",
    "k = 500000 / ((2/3)*(99844**1.5))\n",
    "k"
   ]
  },
  {
   "cell_type": "markdown",
   "metadata": {
    "hidden": true
   },
   "source": [
    "This gives us the proportionality constant **k** $\\approx$ **0.024**. Now let's re-plot our IT cost curve more precisely.\n",
    "\n",
    "$ y = \\hspace{0.25 cm} k \\sqrt{n}  \\hspace{0.25 cm} = 0.024\\sqrt{n} $"
   ]
  },
  {
   "cell_type": "code",
   "execution_count": null,
   "metadata": {
    "hidden": true,
    "scrolled": false
   },
   "outputs": [],
   "source": [
    "# Re-plot our IT cost curve with our calculated proportionality constant k\n",
    "\n",
    "plt.figure(figsize=(15,4))\n",
    "x=np.linspace(0,99844, 50)\n",
    "y=(k)*(x**0.5)\n",
    "sns.lineplot(x=x, y=y)\n",
    "plt.xlabel('Number of Orders')\n",
    "plt.ylabel('IT Cost (in BRL)');"
   ]
  },
  {
   "cell_type": "markdown",
   "metadata": {
    "hidden": true
   },
   "source": [
    "We can now see what the IT cost will be at a particular order volume. The slope of the curve starts to stabilize once you approach 20,000 orders telling us that benefits from scale effects will start to matter less for IT costs. As the IT costs becomes more linear in shape, it means that more orders will just increase IT costs at a constant rate. "
   ]
  },
  {
   "cell_type": "markdown",
   "metadata": {
    "hidden": true
   },
   "source": [
    "Let's now examine the IT costs associated with specific sellers. Since IT costs are a function of order volume, we'll also see if there are differences between our good and poor-performing sellers.  "
   ]
  },
  {
   "cell_type": "markdown",
   "metadata": {},
   "source": [
    "### Order Volume by Seller Quality"
   ]
  },
  {
   "cell_type": "markdown",
   "metadata": {},
   "source": [
    "Since IT costs are driven by order volume, let's see if there is a difference for these two groups of sellers."
   ]
  },
  {
   "cell_type": "code",
   "execution_count": null,
   "metadata": {
    "scrolled": false
   },
   "outputs": [],
   "source": [
    "# Calculate the order volume for each group of sellers\n",
    "order_vol_df = sellers[['n_orders','impact']].groupby('impact').sum().transpose()\n",
    "order_vol_df"
   ]
  },
  {
   "cell_type": "code",
   "execution_count": null,
   "metadata": {
    "scrolled": true
   },
   "outputs": [],
   "source": [
    "# Bar plot to see composition of order volume by quality of seller\n",
    "order_vol_df.plot.barh(stacked=True, cmap='Set1')\n",
    "plt.legend(title='Seller Quality', labels=['Poor', 'Good'])\n",
    "plt.xlabel('Number of Orders');"
   ]
  },
  {
   "cell_type": "markdown",
   "metadata": {},
   "source": [
    "We now see that **poor-performing sellers** have about **40%** of the *order volume* on Olist but make up only **9%** of all sellers on the platform. This tells us that they are contributing to a **larger share of the IT cost burden** for Olist."
   ]
  },
  {
   "cell_type": "markdown",
   "metadata": {},
   "source": [
    "### Average Order Volume by Seller Quality"
   ]
  },
  {
   "cell_type": "markdown",
   "metadata": {},
   "source": [
    "For another perspective on the difference in order volume with these two groups, let's calculate the average order volume per seller for each group and compare. "
   ]
  },
  {
   "cell_type": "code",
   "execution_count": null,
   "metadata": {},
   "outputs": [],
   "source": [
    "# Calculate the average order volume per seller for each group of sellers\n",
    "avg_order_vol = sellers[['n_orders','impact']].groupby('impact').mean().transpose()\n",
    "avg_order_vol"
   ]
  },
  {
   "cell_type": "code",
   "execution_count": null,
   "metadata": {
    "scrolled": true
   },
   "outputs": [],
   "source": [
    "avg_order_vol.plot(kind='bar', cmap='Set1', ylabel='Average Number of Orders per Seller', rot=0, legend=True)\n",
    "plt.legend(title='Seller Quality', labels=['Poor', 'Good']);"
   ]
  },
  {
   "cell_type": "markdown",
   "metadata": {},
   "source": [
    "We can see that **poor-performing sellers** have an *average order volume* of roughly **7x** more than other sellers. This underscores their **heavy usage of the IT infrastructure and extra IT cost burden.**"
   ]
  },
  {
   "cell_type": "markdown",
   "metadata": {},
   "source": [
    "### Cumulative IT Costs without Poor-performing Sellers"
   ]
  },
  {
   "cell_type": "markdown",
   "metadata": {},
   "source": [
    "Since we know IT cost is largely a function of order volume, let's find out how much our cumulative IT costs would be reduced if these poor-performing sellers were removed from the platform. \n",
    "\n",
    "Since we've already seen that poor performers have on average roughly 7x more order volume, we expect that their removal will bring down Olist IT costs significantly.  \n",
    "\n",
    "To find out how much, let's break this down into two steps:\n",
    "1. Calculate **cumulative IT costs** to Olist for each additional seller (sorted from most to least profitable)\n",
    "2. Remove poor-performing sellers and then **re-evaluate cumulative IT costs at this new order volume**"
   ]
  },
  {
   "cell_type": "markdown",
   "metadata": {},
   "source": [
    "Since order volume drives IT costs, we'll first find the *cumulative number of orders* for each additional seller, and then we can calculate the new *cumulative IT costs* after including each additional seller. "
   ]
  },
  {
   "cell_type": "code",
   "execution_count": null,
   "metadata": {
    "scrolled": false,
    "slideshow": {
     "slide_type": "skip"
    }
   },
   "outputs": [],
   "source": [
    "# Calculate cumulative IT costs per additional seller\n",
    "\n",
    "# The cumulative number of orders per additional seller\n",
    "sellers['cumulative_orders'] = sellers['n_orders'].cumsum()\n",
    "\n",
    "# The cumulative IT cost for Olist per additional seller\n",
    "sellers['cumulative_it_cost'] = k*(2/3)*(sellers['cumulative_orders']**1.5)\n",
    "\n",
    "sellers[['seller_id','cumulative_orders','cumulative_it_cost']].tail()"
   ]
  },
  {
   "cell_type": "markdown",
   "metadata": {},
   "source": [
    "Next, we can easily figure out what the cumulative IT costs would be *without poor performers* by removing them from our data frame."
   ]
  },
  {
   "cell_type": "code",
   "execution_count": null,
   "metadata": {
    "scrolled": true
   },
   "outputs": [],
   "source": [
    "# Data frame of cumulative IT costs and order volume after removing poor performers\n",
    "it_costs_sans_bad_sellers = sellers[sellers.impact == 'positive'][['seller_id','cumulative_orders','cumulative_it_cost']]\n",
    "it_costs_sans_bad_sellers.tail()"
   ]
  },
  {
   "cell_type": "markdown",
   "metadata": {},
   "source": [
    "If poor-performing sellers were removed, Olist would have a *cumulative order volume* of **60,027** orders and **233,081 BRL** (43,948 USD) in *cumulative IT costs*. "
   ]
  },
  {
   "cell_type": "markdown",
   "metadata": {},
   "source": [
    "Let's now compare cumulative IT costs before and after removing poor-performing sellers from the platform."
   ]
  },
  {
   "cell_type": "code",
   "execution_count": null,
   "metadata": {
    "scrolled": true
   },
   "outputs": [],
   "source": [
    "# Plot total cumulative IT costs before and after removing poor performers\n",
    "total_it_cost = sellers[['impact', 'cumulative_it_cost']].groupby('impact').max().transpose()\n",
    "\n",
    "fig = plt.figure(figsize=(12,6))\n",
    "x_values = ['Before', 'After']\n",
    "y_values = [total_it_cost.iloc[0,0], total_it_cost.iloc[0,1]]\n",
    "ax = sns.barplot(data=sellers, x=x_values, y=y_values, palette='Set1')\n",
    "\n",
    "plt.ylabel('Cumulative IT Costs (in BRL)')\n",
    "plt.ylim(0, 600000)\n",
    "plt.suptitle('Cumulative IT Costs Before/After Removing Poor-performing Sellers', fontsize=12)\n",
    "ax.set_yticks(ax.get_yticks())\n",
    "yticklabels=['{:3.0f}'.format(y) + 'K' for y in ax.get_yticks()/1000]\n",
    "ax.set_yticklabels(yticklabels);"
   ]
  },
  {
   "cell_type": "code",
   "execution_count": null,
   "metadata": {},
   "outputs": [],
   "source": [
    "# Calculation of cumulative IT cost reduction after removing poor-performing sellers\n",
    "it_cost_savings = total_it_cost.iloc[0,0] - total_it_cost.iloc[0,1]\n",
    "it_cost_savings"
   ]
  },
  {
   "cell_type": "markdown",
   "metadata": {},
   "source": [
    "By removing poor-performing sellers from the platform, *order volume* **decreases** by **40%** and this translates into a **reduction** of **266,919 BRL** (~50,868 USD) in *cumulative IT costs.*"
   ]
  },
  {
   "cell_type": "markdown",
   "metadata": {},
   "source": [
    "### Profits without the Poor-performing Sellers (incl. IT Costs) "
   ]
  },
  {
   "cell_type": "markdown",
   "metadata": {},
   "source": [
    "Let's put this all together and calculate the impact on profits with factoring in the change in IT costs. "
   ]
  },
  {
   "cell_type": "markdown",
   "metadata": {},
   "source": [
    "From the analysis in the previous section (**4.4 Profits without Poor-performing Sellers**), we saw that removing poor-performing sellers would boost Olist's margins by **313,277 BRL** (58,246 USD) solely by alleviating the downward pressure from negative profits\n",
    "\n",
    "In this section, we found that poor performers had a disproportionately large order volume which resulted in a high IT cost burden of **266,919 BRL** (50,868 USD).\n",
    "\n",
    "If we include IT costs in our profit analysis for Olist, removal of poor-performing sellers would result in an increase in profits by **580,196 BRL** (110,598 USD). This is "
   ]
  },
  {
   "cell_type": "code",
   "execution_count": null,
   "metadata": {
    "scrolled": true
   },
   "outputs": [],
   "source": [
    "# Bar chart showing profit comparison (incl. IT costs) after removal of poor-performing sellers\n",
    "fig = plt.figure(figsize=(12,6))\n",
    "x_values = ['Before', 'After']\n",
    "y_values = [sellers.cumulative_profits.iloc[-1], sellers.cumulative_profits.iloc[-1] - neg_profits.iloc[-1] + it_cost_savings]\n",
    "ax = sns.barplot(data=sellers, x=x_values, y=y_values, palette='tab20')\n",
    "\n",
    "plt.ylabel('Profit (in BRL)')\n",
    "plt.ylim(0, 2500000)\n",
    "plt.suptitle('Profit Comparison (incl. IT costs) from Removing Poor-performing Sellers', fontsize=12)\n",
    "ax.set_yticks(ax.get_yticks())\n",
    "yticklabels=['{:3.1f}'.format(y) + 'M' for y in ax.get_yticks()/1000000]\n",
    "ax.set_yticklabels(yticklabels);"
   ]
  },
  {
   "cell_type": "code",
   "execution_count": null,
   "metadata": {},
   "outputs": [],
   "source": [
    "answer = 580196 / sellers.cumulative_profits[-1:]\n",
    "answer"
   ]
  },
  {
   "cell_type": "code",
   "execution_count": null,
   "metadata": {
    "scrolled": true
   },
   "outputs": [],
   "source": [
    "sellers.cumulative_profits.tail()"
   ]
  },
  {
   "cell_type": "code",
   "execution_count": null,
   "metadata": {},
   "outputs": [],
   "source": [
    "cum_profits = sellers.cumulative_profits[-1:]\n",
    "cum_profits"
   ]
  },
  {
   "cell_type": "markdown",
   "metadata": {},
   "source": [
    "## Executive Summary & Recommendations to CEO"
   ]
  },
  {
   "cell_type": "markdown",
   "metadata": {},
   "source": [
    "**Summary of Findings**\n",
    "\n",
    "To respond to how Olist can improve customer satisfaction and profit margins while still keeping a healthy order volume, we conducted a review of Olist's Orders and Sellers datasets. From this data, our analysis found that ***long wait times* and single orders with *multiple products or sellers* were associated with lower review scores**. However, our findings also suggest that there are other unaccounted for factors (likely outside of these datasets) that have an impact on low review scores. \n",
    "\n",
    "Given our limited view of all the factors influencing low review scores, we decided to respond to the issues of  customer satisfaction and profit margins from a different approach. Instead of trying to figure out which individual factors are connected to low review scores, we shifted attention to quantifying the impact on Olist if poor-performing sellers (defined as sellers with enough bad reviews to have a negative profit for Olist) were removed from the platform.    \n",
    "\n",
    "In this alternative approach, we discovered that roughly **9%** of sellers can be classified as **'poor-performing'** because of negative profits to Olist. Additionally, this small group of sellers had **7x** the order volume of other sellers and accounted for **40%** of cumulative IT costs.  \n",
    "\n",
    "Our conclusions found that removal of 'poor-performing' sellers that can improve overall customer satisfaction, keep a healthy order volume, and boost profits in the short term by **46%** or **580,196 BRL** (110,598 USD).\n"
   ]
  },
  {
   "cell_type": "markdown",
   "metadata": {},
   "source": [
    "**Recommendation to CEO:**\n",
    "\n",
    "In the short term, we believe that Olist can improve profits and overall customer satisfaction by removing poor-performing sellers.\n",
    "\n",
    "Our preliminary analysis shows that removing these sellers from the platform will immediately increase Olist profits by reducing costs on two fronts:\n",
    "\n",
    "1. **Costs Associated with Bad Reviews** - removal of sellers who have received enough bad reviews to have a drag on Olist margins will **boost profits by 20%** amounting to an increase of **313,277 BRL** (58,246 USD).\n",
    "\n",
    "2. **IT Costs** - IT costs are a function of overall order volume, and since poor-performing sellers have been found to have a disproportionately large order volume, their removal translates into an overall **40% reduction in IT costs** amounting to a savings of **266,919 BRL** (~50,868 USD). \n",
    "\n",
    "In conclusion, by removing poor-performing sellers from the platform, Olist stands to see an immediate gain of **580,196 BRL** (~110,484 USD) or increase of **46%** to its financial performance. Additionally, we would expect to see an overall improvement in brand reputation as average customer satisfaction increases."
   ]
  },
  {
   "cell_type": "markdown",
   "metadata": {},
   "source": [
    "**Caveats**\n",
    "\n",
    "These findings have been made based on assumptions for the monetary costs associated with bad reviews as well as the model for IT infrastructure costs.\n",
    "\n",
    "**Other Areas For Further Analysis**\n",
    "\n",
    "A more fine-toothed analysis for identifying poor-performing sellers might also distinguish sellers who have only just recently joined the platform and not gained enough experience to use the platform effectively or engage with customers. With sufficient support, they may potentially become high performing sellers and also advocates for the platform with a good on-ramping process and support system for new sellers.     \n",
    "\n",
    "Other datasets to explore include Products data which could bring to light if product quality is a source of low review scores. Additionally, a text analysis of the reviews could also uncover more explicitly the specific reasons for customer dissatisfaction. \n"
   ]
  },
  {
   "cell_type": "code",
   "execution_count": null,
   "metadata": {},
   "outputs": [],
   "source": [
    "#CAN BE DELETED LATER\n",
    "#export dataset for Tableau\n",
    "path = '../data/csv/seller_dataset_modified.csv'\n",
    "sellers.to_csv(path_or_buf=path, index=False)"
   ]
  },
  {
   "cell_type": "code",
   "execution_count": null,
   "metadata": {},
   "outputs": [],
   "source": []
  }
 ],
 "metadata": {
  "celltoolbar": "Raw Cell Format",
  "kernelspec": {
   "display_name": "Python 3",
   "language": "python",
   "name": "python3"
  },
  "language_info": {
   "codemirror_mode": {
    "name": "ipython",
    "version": 3
   },
   "file_extension": ".py",
   "mimetype": "text/x-python",
   "name": "python",
   "nbconvert_exporter": "python",
   "pygments_lexer": "ipython3",
   "version": "3.8.6"
  },
  "toc": {
   "base_numbering": 1,
   "nav_menu": {},
   "number_sections": true,
   "sideBar": true,
   "skip_h1_title": true,
   "title_cell": "Table of Contents",
   "title_sidebar": "Contents",
   "toc_cell": false,
   "toc_position": {
    "height": "calc(100% - 180px)",
    "left": "10px",
    "top": "150px",
    "width": "165px"
   },
   "toc_section_display": true,
   "toc_window_display": false
  },
  "varInspector": {
   "cols": {
    "lenName": 16,
    "lenType": 16,
    "lenVar": 40
   },
   "kernels_config": {
    "python": {
     "delete_cmd_postfix": "",
     "delete_cmd_prefix": "del ",
     "library": "var_list.py",
     "varRefreshCmd": "print(var_dic_list())"
    },
    "r": {
     "delete_cmd_postfix": ") ",
     "delete_cmd_prefix": "rm(",
     "library": "var_list.r",
     "varRefreshCmd": "cat(var_dic_list()) "
    }
   },
   "types_to_exclude": [
    "module",
    "function",
    "builtin_function_or_method",
    "instance",
    "_Feature"
   ],
   "window_display": false
  }
 },
 "nbformat": 4,
 "nbformat_minor": 4
}
