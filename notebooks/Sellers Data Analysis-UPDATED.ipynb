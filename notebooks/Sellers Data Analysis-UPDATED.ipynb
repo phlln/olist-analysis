{
 "cells": [
  {
   "cell_type": "markdown",
   "id": "59776271",
   "metadata": {},
   "source": [
    "# Sellers Data Analysis"
   ]
  },
  {
   "cell_type": "markdown",
   "id": "f5e499b9",
   "metadata": {},
   "source": [
    "Since our analysis of the orders dataset revealed that while `wait_time` was one of the more signicant factors in explaining `review_score`, the low R-squared suggested that there were other factors outside of the orders dataset.\n",
    "\n",
    "Here we'll look at the the sellers dataset to uncover which elements are associated with the `review_score`.\n",
    "\n",
    "If poor reviews are linked to particular sellers, perhaps we can identify the sellers who repeatedly perform poorly and try to understand why. \n",
    "\n",
    "We can then use this to respond to the CEO's request to improve Olist's profit margins."
   ]
  },
  {
   "cell_type": "code",
   "execution_count": 1,
   "id": "ca5c414d",
   "metadata": {},
   "outputs": [],
   "source": [
    "%load_ext autoreload\n",
    "%autoreload 2\n",
    "\n",
    "import pandas as pd\n",
    "import numpy as np\n",
    "import seaborn as sns\n",
    "import matplotlib.pyplot as plt\n",
    "import statsmodels.formula.api as smf\n"
   ]
  },
  {
   "cell_type": "markdown",
   "id": "7b39b381",
   "metadata": {},
   "source": [
    "## Inspect Features"
   ]
  },
  {
   "cell_type": "code",
   "execution_count": 161,
   "id": "7fbd52c3",
   "metadata": {
    "scrolled": true
   },
   "outputs": [
    {
     "data": {
      "text/html": [
       "<div>\n",
       "<style scoped>\n",
       "    .dataframe tbody tr th:only-of-type {\n",
       "        vertical-align: middle;\n",
       "    }\n",
       "\n",
       "    .dataframe tbody tr th {\n",
       "        vertical-align: top;\n",
       "    }\n",
       "\n",
       "    .dataframe thead th {\n",
       "        text-align: right;\n",
       "    }\n",
       "</style>\n",
       "<table border=\"1\" class=\"dataframe\">\n",
       "  <thead>\n",
       "    <tr style=\"text-align: right;\">\n",
       "      <th></th>\n",
       "      <th>seller_id</th>\n",
       "      <th>seller_city</th>\n",
       "      <th>seller_state</th>\n",
       "      <th>delay_to_carrier</th>\n",
       "      <th>wait_time</th>\n",
       "      <th>date_first_sale</th>\n",
       "      <th>date_last_sale</th>\n",
       "      <th>months_on_olist</th>\n",
       "      <th>share_of_one_stars</th>\n",
       "      <th>share_of_five_stars</th>\n",
       "      <th>review_score</th>\n",
       "      <th>cost_of_reviews</th>\n",
       "      <th>n_orders</th>\n",
       "      <th>quantity</th>\n",
       "      <th>quantity_per_order</th>\n",
       "      <th>sales</th>\n",
       "      <th>revenues</th>\n",
       "      <th>profits</th>\n",
       "      <th>revenue</th>\n",
       "      <th>profits_before_it_costs</th>\n",
       "    </tr>\n",
       "  </thead>\n",
       "  <tbody>\n",
       "    <tr>\n",
       "      <th>0</th>\n",
       "      <td>3442f8959a84dea7ee197c632cb2df15</td>\n",
       "      <td>campinas</td>\n",
       "      <td>SP</td>\n",
       "      <td>0.000000</td>\n",
       "      <td>13.018588</td>\n",
       "      <td>2017-05-05 16:25:11</td>\n",
       "      <td>2017-08-30 12:50:19</td>\n",
       "      <td>4.0</td>\n",
       "      <td>0.333333</td>\n",
       "      <td>0.333333</td>\n",
       "      <td>3.00</td>\n",
       "      <td>140</td>\n",
       "      <td>3</td>\n",
       "      <td>3</td>\n",
       "      <td>1.000</td>\n",
       "      <td>218.70</td>\n",
       "      <td>341.870</td>\n",
       "      <td>201.870</td>\n",
       "      <td>341.870</td>\n",
       "      <td>201.870</td>\n",
       "    </tr>\n",
       "    <tr>\n",
       "      <th>1</th>\n",
       "      <td>d1b65fc7debc3361ea86b5f14c68d2e2</td>\n",
       "      <td>mogi guacu</td>\n",
       "      <td>SP</td>\n",
       "      <td>0.000000</td>\n",
       "      <td>9.065716</td>\n",
       "      <td>2017-03-29 02:10:34</td>\n",
       "      <td>2018-06-06 20:15:21</td>\n",
       "      <td>15.0</td>\n",
       "      <td>0.050000</td>\n",
       "      <td>0.725000</td>\n",
       "      <td>4.55</td>\n",
       "      <td>240</td>\n",
       "      <td>40</td>\n",
       "      <td>41</td>\n",
       "      <td>1.025</td>\n",
       "      <td>11703.07</td>\n",
       "      <td>2290.307</td>\n",
       "      <td>2050.307</td>\n",
       "      <td>2370.307</td>\n",
       "      <td>2130.307</td>\n",
       "    </tr>\n",
       "    <tr>\n",
       "      <th>2</th>\n",
       "      <td>ce3ad9de960102d0677a81f5d0bb7b2d</td>\n",
       "      <td>rio de janeiro</td>\n",
       "      <td>RJ</td>\n",
       "      <td>0.000000</td>\n",
       "      <td>4.042292</td>\n",
       "      <td>2018-07-30 12:44:49</td>\n",
       "      <td>2018-07-30 12:44:49</td>\n",
       "      <td>1.0</td>\n",
       "      <td>0.000000</td>\n",
       "      <td>1.000000</td>\n",
       "      <td>5.00</td>\n",
       "      <td>0</td>\n",
       "      <td>1</td>\n",
       "      <td>1</td>\n",
       "      <td>1.000</td>\n",
       "      <td>158.00</td>\n",
       "      <td>15.800</td>\n",
       "      <td>15.800</td>\n",
       "      <td>95.800</td>\n",
       "      <td>95.800</td>\n",
       "    </tr>\n",
       "    <tr>\n",
       "      <th>3</th>\n",
       "      <td>c0f3eea2e14555b6faeea3dd58c1b1c3</td>\n",
       "      <td>sao paulo</td>\n",
       "      <td>SP</td>\n",
       "      <td>0.000000</td>\n",
       "      <td>5.667187</td>\n",
       "      <td>2018-08-03 00:44:08</td>\n",
       "      <td>2018-08-03 00:44:08</td>\n",
       "      <td>1.0</td>\n",
       "      <td>0.000000</td>\n",
       "      <td>1.000000</td>\n",
       "      <td>5.00</td>\n",
       "      <td>0</td>\n",
       "      <td>1</td>\n",
       "      <td>1</td>\n",
       "      <td>1.000</td>\n",
       "      <td>79.99</td>\n",
       "      <td>7.999</td>\n",
       "      <td>7.999</td>\n",
       "      <td>87.999</td>\n",
       "      <td>87.999</td>\n",
       "    </tr>\n",
       "    <tr>\n",
       "      <th>4</th>\n",
       "      <td>51a04a8a6bdcb23deccc82b0b80742cf</td>\n",
       "      <td>braganca paulista</td>\n",
       "      <td>SP</td>\n",
       "      <td>3.353727</td>\n",
       "      <td>35.314861</td>\n",
       "      <td>2017-11-14 12:15:25</td>\n",
       "      <td>2017-11-14 12:15:25</td>\n",
       "      <td>1.0</td>\n",
       "      <td>1.000000</td>\n",
       "      <td>0.000000</td>\n",
       "      <td>1.00</td>\n",
       "      <td>100</td>\n",
       "      <td>1</td>\n",
       "      <td>1</td>\n",
       "      <td>1.000</td>\n",
       "      <td>167.99</td>\n",
       "      <td>16.799</td>\n",
       "      <td>-83.201</td>\n",
       "      <td>96.799</td>\n",
       "      <td>-3.201</td>\n",
       "    </tr>\n",
       "  </tbody>\n",
       "</table>\n",
       "</div>"
      ],
      "text/plain": [
       "                          seller_id        seller_city seller_state  \\\n",
       "0  3442f8959a84dea7ee197c632cb2df15           campinas           SP   \n",
       "1  d1b65fc7debc3361ea86b5f14c68d2e2         mogi guacu           SP   \n",
       "2  ce3ad9de960102d0677a81f5d0bb7b2d     rio de janeiro           RJ   \n",
       "3  c0f3eea2e14555b6faeea3dd58c1b1c3          sao paulo           SP   \n",
       "4  51a04a8a6bdcb23deccc82b0b80742cf  braganca paulista           SP   \n",
       "\n",
       "   delay_to_carrier  wait_time     date_first_sale      date_last_sale  \\\n",
       "0          0.000000  13.018588 2017-05-05 16:25:11 2017-08-30 12:50:19   \n",
       "1          0.000000   9.065716 2017-03-29 02:10:34 2018-06-06 20:15:21   \n",
       "2          0.000000   4.042292 2018-07-30 12:44:49 2018-07-30 12:44:49   \n",
       "3          0.000000   5.667187 2018-08-03 00:44:08 2018-08-03 00:44:08   \n",
       "4          3.353727  35.314861 2017-11-14 12:15:25 2017-11-14 12:15:25   \n",
       "\n",
       "   months_on_olist  share_of_one_stars  share_of_five_stars  review_score  \\\n",
       "0              4.0            0.333333             0.333333          3.00   \n",
       "1             15.0            0.050000             0.725000          4.55   \n",
       "2              1.0            0.000000             1.000000          5.00   \n",
       "3              1.0            0.000000             1.000000          5.00   \n",
       "4              1.0            1.000000             0.000000          1.00   \n",
       "\n",
       "   cost_of_reviews  n_orders  quantity  quantity_per_order     sales  \\\n",
       "0              140         3         3               1.000    218.70   \n",
       "1              240        40        41               1.025  11703.07   \n",
       "2                0         1         1               1.000    158.00   \n",
       "3                0         1         1               1.000     79.99   \n",
       "4              100         1         1               1.000    167.99   \n",
       "\n",
       "   revenues   profits   revenue  profits_before_it_costs  \n",
       "0   341.870   201.870   341.870                  201.870  \n",
       "1  2290.307  2050.307  2370.307                 2130.307  \n",
       "2    15.800    15.800    95.800                   95.800  \n",
       "3     7.999     7.999    87.999                   87.999  \n",
       "4    16.799   -83.201    96.799                   -3.201  "
      ]
     },
     "execution_count": 161,
     "metadata": {},
     "output_type": "execute_result"
    }
   ],
   "source": [
    "from olist.seller import Seller\n",
    "seller = Seller()\n",
    "sellers = seller.get_training_data()\n",
    "sellers.head()"
   ]
  },
  {
   "cell_type": "code",
   "execution_count": 162,
   "id": "1c92b393",
   "metadata": {},
   "outputs": [],
   "source": [
    "sellers.rename(columns={'wait_time': 'seller_wait_time', 'review_score':'seller_review_score'}, inplace=True)"
   ]
  },
  {
   "cell_type": "code",
   "execution_count": 163,
   "id": "c4d37cb5",
   "metadata": {},
   "outputs": [
    {
     "data": {
      "text/html": [
       "<div>\n",
       "<style scoped>\n",
       "    .dataframe tbody tr th:only-of-type {\n",
       "        vertical-align: middle;\n",
       "    }\n",
       "\n",
       "    .dataframe tbody tr th {\n",
       "        vertical-align: top;\n",
       "    }\n",
       "\n",
       "    .dataframe thead th {\n",
       "        text-align: right;\n",
       "    }\n",
       "</style>\n",
       "<table border=\"1\" class=\"dataframe\">\n",
       "  <thead>\n",
       "    <tr style=\"text-align: right;\">\n",
       "      <th></th>\n",
       "      <th>delay_to_carrier</th>\n",
       "      <th>seller_wait_time</th>\n",
       "      <th>months_on_olist</th>\n",
       "      <th>share_of_one_stars</th>\n",
       "      <th>share_of_five_stars</th>\n",
       "      <th>seller_review_score</th>\n",
       "      <th>cost_of_reviews</th>\n",
       "      <th>n_orders</th>\n",
       "      <th>quantity</th>\n",
       "      <th>quantity_per_order</th>\n",
       "      <th>sales</th>\n",
       "      <th>revenues</th>\n",
       "      <th>profits</th>\n",
       "      <th>revenue</th>\n",
       "      <th>profits_before_it_costs</th>\n",
       "    </tr>\n",
       "  </thead>\n",
       "  <tbody>\n",
       "    <tr>\n",
       "      <th>count</th>\n",
       "      <td>2970.000000</td>\n",
       "      <td>2970.000000</td>\n",
       "      <td>2970.000000</td>\n",
       "      <td>2970.000000</td>\n",
       "      <td>2970.000000</td>\n",
       "      <td>2970.000000</td>\n",
       "      <td>2970.000000</td>\n",
       "      <td>2970.000000</td>\n",
       "      <td>2970.000000</td>\n",
       "      <td>2970.000000</td>\n",
       "      <td>2970.000000</td>\n",
       "      <td>2970.000000</td>\n",
       "      <td>2970.000000</td>\n",
       "      <td>2970.000000</td>\n",
       "      <td>2970.000000</td>\n",
       "    </tr>\n",
       "    <tr>\n",
       "      <th>mean</th>\n",
       "      <td>0.402786</td>\n",
       "      <td>12.160414</td>\n",
       "      <td>6.619192</td>\n",
       "      <td>0.124570</td>\n",
       "      <td>0.592130</td>\n",
       "      <td>4.086880</td>\n",
       "      <td>562.131313</td>\n",
       "      <td>33.617508</td>\n",
       "      <td>38.085185</td>\n",
       "      <td>1.162150</td>\n",
       "      <td>4566.515906</td>\n",
       "      <td>938.213880</td>\n",
       "      <td>376.082567</td>\n",
       "      <td>986.186944</td>\n",
       "      <td>424.055631</td>\n",
       "    </tr>\n",
       "    <tr>\n",
       "      <th>std</th>\n",
       "      <td>2.391687</td>\n",
       "      <td>7.103208</td>\n",
       "      <td>5.914010</td>\n",
       "      <td>0.191870</td>\n",
       "      <td>0.279057</td>\n",
       "      <td>0.810166</td>\n",
       "      <td>1941.000427</td>\n",
       "      <td>107.133714</td>\n",
       "      <td>122.417269</td>\n",
       "      <td>0.443348</td>\n",
       "      <td>14185.211617</td>\n",
       "      <td>1660.107616</td>\n",
       "      <td>1276.183916</td>\n",
       "      <td>1655.679175</td>\n",
       "      <td>1274.295160</td>\n",
       "    </tr>\n",
       "    <tr>\n",
       "      <th>min</th>\n",
       "      <td>0.000000</td>\n",
       "      <td>1.214178</td>\n",
       "      <td>1.000000</td>\n",
       "      <td>0.000000</td>\n",
       "      <td>0.000000</td>\n",
       "      <td>1.000000</td>\n",
       "      <td>0.000000</td>\n",
       "      <td>1.000000</td>\n",
       "      <td>1.000000</td>\n",
       "      <td>1.000000</td>\n",
       "      <td>6.500000</td>\n",
       "      <td>0.650000</td>\n",
       "      <td>-22499.517000</td>\n",
       "      <td>80.650000</td>\n",
       "      <td>-22419.517000</td>\n",
       "    </tr>\n",
       "    <tr>\n",
       "      <th>25%</th>\n",
       "      <td>0.000000</td>\n",
       "      <td>8.289263</td>\n",
       "      <td>1.000000</td>\n",
       "      <td>0.000000</td>\n",
       "      <td>0.478261</td>\n",
       "      <td>3.818424</td>\n",
       "      <td>0.000000</td>\n",
       "      <td>2.000000</td>\n",
       "      <td>3.000000</td>\n",
       "      <td>1.000000</td>\n",
       "      <td>239.800000</td>\n",
       "      <td>119.946750</td>\n",
       "      <td>19.892500</td>\n",
       "      <td>173.099250</td>\n",
       "      <td>93.000000</td>\n",
       "    </tr>\n",
       "    <tr>\n",
       "      <th>50%</th>\n",
       "      <td>0.000000</td>\n",
       "      <td>11.120969</td>\n",
       "      <td>4.000000</td>\n",
       "      <td>0.063856</td>\n",
       "      <td>0.600000</td>\n",
       "      <td>4.200000</td>\n",
       "      <td>100.000000</td>\n",
       "      <td>7.000000</td>\n",
       "      <td>8.000000</td>\n",
       "      <td>1.000000</td>\n",
       "      <td>893.500000</td>\n",
       "      <td>460.221000</td>\n",
       "      <td>250.859500</td>\n",
       "      <td>504.049000</td>\n",
       "      <td>285.790500</td>\n",
       "    </tr>\n",
       "    <tr>\n",
       "      <th>75%</th>\n",
       "      <td>0.000000</td>\n",
       "      <td>14.240673</td>\n",
       "      <td>10.000000</td>\n",
       "      <td>0.166667</td>\n",
       "      <td>0.750000</td>\n",
       "      <td>4.625000</td>\n",
       "      <td>380.000000</td>\n",
       "      <td>23.000000</td>\n",
       "      <td>26.000000</td>\n",
       "      <td>1.152009</td>\n",
       "      <td>3586.022500</td>\n",
       "      <td>1183.160250</td>\n",
       "      <td>676.667750</td>\n",
       "      <td>1223.955000</td>\n",
       "      <td>720.593750</td>\n",
       "    </tr>\n",
       "    <tr>\n",
       "      <th>max</th>\n",
       "      <td>45.434039</td>\n",
       "      <td>189.863160</td>\n",
       "      <td>23.000000</td>\n",
       "      <td>1.000000</td>\n",
       "      <td>1.000000</td>\n",
       "      <td>5.000000</td>\n",
       "      <td>40890.000000</td>\n",
       "      <td>1854.000000</td>\n",
       "      <td>2039.000000</td>\n",
       "      <td>15.000000</td>\n",
       "      <td>229472.630000</td>\n",
       "      <td>24387.263000</td>\n",
       "      <td>17967.605000</td>\n",
       "      <td>24387.263000</td>\n",
       "      <td>17967.605000</td>\n",
       "    </tr>\n",
       "  </tbody>\n",
       "</table>\n",
       "</div>"
      ],
      "text/plain": [
       "       delay_to_carrier  seller_wait_time  months_on_olist  \\\n",
       "count       2970.000000       2970.000000      2970.000000   \n",
       "mean           0.402786         12.160414         6.619192   \n",
       "std            2.391687          7.103208         5.914010   \n",
       "min            0.000000          1.214178         1.000000   \n",
       "25%            0.000000          8.289263         1.000000   \n",
       "50%            0.000000         11.120969         4.000000   \n",
       "75%            0.000000         14.240673        10.000000   \n",
       "max           45.434039        189.863160        23.000000   \n",
       "\n",
       "       share_of_one_stars  share_of_five_stars  seller_review_score  \\\n",
       "count         2970.000000          2970.000000          2970.000000   \n",
       "mean             0.124570             0.592130             4.086880   \n",
       "std              0.191870             0.279057             0.810166   \n",
       "min              0.000000             0.000000             1.000000   \n",
       "25%              0.000000             0.478261             3.818424   \n",
       "50%              0.063856             0.600000             4.200000   \n",
       "75%              0.166667             0.750000             4.625000   \n",
       "max              1.000000             1.000000             5.000000   \n",
       "\n",
       "       cost_of_reviews     n_orders     quantity  quantity_per_order  \\\n",
       "count      2970.000000  2970.000000  2970.000000         2970.000000   \n",
       "mean        562.131313    33.617508    38.085185            1.162150   \n",
       "std        1941.000427   107.133714   122.417269            0.443348   \n",
       "min           0.000000     1.000000     1.000000            1.000000   \n",
       "25%           0.000000     2.000000     3.000000            1.000000   \n",
       "50%         100.000000     7.000000     8.000000            1.000000   \n",
       "75%         380.000000    23.000000    26.000000            1.152009   \n",
       "max       40890.000000  1854.000000  2039.000000           15.000000   \n",
       "\n",
       "               sales      revenues       profits       revenue  \\\n",
       "count    2970.000000   2970.000000   2970.000000   2970.000000   \n",
       "mean     4566.515906    938.213880    376.082567    986.186944   \n",
       "std     14185.211617   1660.107616   1276.183916   1655.679175   \n",
       "min         6.500000      0.650000 -22499.517000     80.650000   \n",
       "25%       239.800000    119.946750     19.892500    173.099250   \n",
       "50%       893.500000    460.221000    250.859500    504.049000   \n",
       "75%      3586.022500   1183.160250    676.667750   1223.955000   \n",
       "max    229472.630000  24387.263000  17967.605000  24387.263000   \n",
       "\n",
       "       profits_before_it_costs  \n",
       "count              2970.000000  \n",
       "mean                424.055631  \n",
       "std                1274.295160  \n",
       "min              -22419.517000  \n",
       "25%                  93.000000  \n",
       "50%                 285.790500  \n",
       "75%                 720.593750  \n",
       "max               17967.605000  "
      ]
     },
     "execution_count": 163,
     "metadata": {},
     "output_type": "execute_result"
    }
   ],
   "source": [
    "# Get summary stats for each column\n",
    "sellers.describe()"
   ]
  },
  {
   "cell_type": "code",
   "execution_count": 164,
   "id": "91f87acc",
   "metadata": {},
   "outputs": [
    {
     "data": {
      "text/plain": [
       "Index(['delay_to_carrier', 'seller_wait_time', 'months_on_olist',\n",
       "       'share_of_one_stars', 'share_of_five_stars', 'seller_review_score',\n",
       "       'cost_of_reviews', 'n_orders', 'quantity', 'quantity_per_order',\n",
       "       'sales', 'revenues', 'profits', 'revenue', 'profits_before_it_costs'],\n",
       "      dtype='object')"
      ]
     },
     "execution_count": 164,
     "metadata": {},
     "output_type": "execute_result"
    }
   ],
   "source": [
    "sellers.describe().columns"
   ]
  },
  {
   "cell_type": "markdown",
   "id": "823bfbb9",
   "metadata": {},
   "source": [
    "## Distribution plots"
   ]
  },
  {
   "cell_type": "markdown",
   "id": "4820fd36",
   "metadata": {},
   "source": [
    "Let's look at the distributions of these features in relevant groupings"
   ]
  },
  {
   "cell_type": "markdown",
   "id": "14a51e5d",
   "metadata": {},
   "source": [
    "### Distribution for `delay_to_carrier`, `seller_wait_time`"
   ]
  },
  {
   "cell_type": "markdown",
   "id": "cfab20e3",
   "metadata": {},
   "source": [
    "`delay_to_carrier` represents the average delay (in days) by a seller of getting an order to the carrier and is calculated for each seller. We can see this as representing a delay in an order attributable to the seller.\n",
    "\n",
    "`seller_wait_time` represents the average `wait_time` (in days), from the customer placing an order online to getting delivery of the order, and is calculated per seller. \n",
    "(NOTE: this differs from the `wait_time` feature in the Orders dataset in that it has been calculated to be the average `wait_time` *for each seller*). \n",
    "\n"
   ]
  },
  {
   "cell_type": "code",
   "execution_count": 171,
   "id": "35f7a26f",
   "metadata": {
    "scrolled": true
   },
   "outputs": [
    {
     "data": {
      "image/png": "[encoded data removed]",
      "text/plain": [
       "<Figure size 1080x432 with 2 Axes>"
      ]
     },
     "metadata": {},
     "output_type": "display_data"
    }
   ],
   "source": [
    "sns.set_style('darkgrid')\n",
    "fig, (ax1, ax2) = plt.subplots(1,2)\n",
    "plt.figure(figsize=(15,6)).suptitle('Distribution of Delivery-related Variables', fontsize=20)\n",
    "plt.close(1)\n",
    "\n",
    "# 'delay_to_carrier' histogram\n",
    "ax1 = plt.subplot(121)\n",
    "ax1 = sns.histplot(sellers.delay_to_carrier)\n",
    "plt.xlabel('delay_to_carrier (days)')\n",
    "\n",
    "# 'seller_wait_time' histogram\n",
    "ax2 = plt.subplot(122)\n",
    "ax2 = sns.histplot(sellers.seller_wait_time)\n",
    "plt.xlabel('seller_wait_time (days)')\n",
    "\n",
    "plt.show(); "
   ]
  },
  {
   "cell_type": "code",
   "execution_count": 169,
   "id": "7f95a7e0",
   "metadata": {
    "scrolled": true
   },
   "outputs": [
    {
     "data": {
      "text/html": [
       "<div>\n",
       "<style scoped>\n",
       "    .dataframe tbody tr th:only-of-type {\n",
       "        vertical-align: middle;\n",
       "    }\n",
       "\n",
       "    .dataframe tbody tr th {\n",
       "        vertical-align: top;\n",
       "    }\n",
       "\n",
       "    .dataframe thead th {\n",
       "        text-align: right;\n",
       "    }\n",
       "</style>\n",
       "<table border=\"1\" class=\"dataframe\">\n",
       "  <thead>\n",
       "    <tr style=\"text-align: right;\">\n",
       "      <th></th>\n",
       "      <th>delay_to_carrier</th>\n",
       "      <th>seller_wait_time</th>\n",
       "    </tr>\n",
       "  </thead>\n",
       "  <tbody>\n",
       "    <tr>\n",
       "      <th>count</th>\n",
       "      <td>2970.000000</td>\n",
       "      <td>2970.000000</td>\n",
       "    </tr>\n",
       "    <tr>\n",
       "      <th>mean</th>\n",
       "      <td>0.402786</td>\n",
       "      <td>12.160414</td>\n",
       "    </tr>\n",
       "    <tr>\n",
       "      <th>std</th>\n",
       "      <td>2.391687</td>\n",
       "      <td>7.103208</td>\n",
       "    </tr>\n",
       "    <tr>\n",
       "      <th>min</th>\n",
       "      <td>0.000000</td>\n",
       "      <td>1.214178</td>\n",
       "    </tr>\n",
       "    <tr>\n",
       "      <th>25%</th>\n",
       "      <td>0.000000</td>\n",
       "      <td>8.289263</td>\n",
       "    </tr>\n",
       "    <tr>\n",
       "      <th>50%</th>\n",
       "      <td>0.000000</td>\n",
       "      <td>11.120969</td>\n",
       "    </tr>\n",
       "    <tr>\n",
       "      <th>75%</th>\n",
       "      <td>0.000000</td>\n",
       "      <td>14.240673</td>\n",
       "    </tr>\n",
       "    <tr>\n",
       "      <th>max</th>\n",
       "      <td>45.434039</td>\n",
       "      <td>189.863160</td>\n",
       "    </tr>\n",
       "  </tbody>\n",
       "</table>\n",
       "</div>"
      ],
      "text/plain": [
       "       delay_to_carrier  seller_wait_time\n",
       "count       2970.000000       2970.000000\n",
       "mean           0.402786         12.160414\n",
       "std            2.391687          7.103208\n",
       "min            0.000000          1.214178\n",
       "25%            0.000000          8.289263\n",
       "50%            0.000000         11.120969\n",
       "75%            0.000000         14.240673\n",
       "max           45.434039        189.863160"
      ]
     },
     "execution_count": 169,
     "metadata": {},
     "output_type": "execute_result"
    }
   ],
   "source": [
    "sellers[['delay_to_carrier','seller_wait_time']].describe()"
   ]
  },
  {
   "cell_type": "markdown",
   "id": "b95a0a0c",
   "metadata": {},
   "source": [
    "**Interpretation of Results**"
   ]
  },
  {
   "cell_type": "markdown",
   "id": "b3770fc3",
   "metadata": {},
   "source": [
    "- From these distribution plots and summary stats, we can see that delays in the order caused by the seller are quite rare, and so `delay_to_carrier` may not have enough data points to provide a complete enough explanation for low review scores."
   ]
  },
  {
   "cell_type": "markdown",
   "id": "7a58f514",
   "metadata": {},
   "source": [
    "- While the plot for `seller_wait_time` is heavily right-skewed, this appears to be the effect of only a few outliers. The mean is still close to the median, and most sellers are clustered tightly around the center. The coefficient of variation (standard deviation / mean) also indicates low variance when less than one (7.10 / 12.16 = 0.58)."
   ]
  },
  {
   "cell_type": "code",
   "execution_count": 10,
   "id": "d3611ad0",
   "metadata": {},
   "outputs": [
    {
     "data": {
      "text/plain": [
       "243"
      ]
     },
     "execution_count": 10,
     "metadata": {},
     "output_type": "execute_result"
    }
   ],
   "source": [
    "# How many sellers contribute to delays?\n",
    "num_sellers_delay = len((sellers[sellers['delay_to_carrier'] > 0]))\n",
    "num_sellers_delay"
   ]
  },
  {
   "cell_type": "code",
   "execution_count": 11,
   "id": "a0192740",
   "metadata": {},
   "outputs": [
    {
     "data": {
      "text/plain": [
       "8.0"
      ]
     },
     "execution_count": 11,
     "metadata": {},
     "output_type": "execute_result"
    }
   ],
   "source": [
    "#What percentage of sellers contribute to delays?\n",
    "round(num_sellers_delay / len(sellers), 2) * 100"
   ]
  },
  {
   "cell_type": "code",
   "execution_count": 12,
   "id": "94839950",
   "metadata": {},
   "outputs": [
    {
     "data": {
      "text/plain": [
       "3.3051861527612707"
      ]
     },
     "execution_count": 12,
     "metadata": {},
     "output_type": "execute_result"
    }
   ],
   "source": [
    "# What is the average review score for sellers that have delayed shipment to carriers?\n",
    "sellers[sellers['delay_to_carrier'] > 0].review_score.mean()\n"
   ]
  },
  {
   "cell_type": "code",
   "execution_count": 13,
   "id": "3bdfb1f2",
   "metadata": {},
   "outputs": [
    {
     "data": {
      "text/plain": [
       "4.086880345061921"
      ]
     },
     "execution_count": 13,
     "metadata": {},
     "output_type": "execute_result"
    }
   ],
   "source": [
    "#How does that compare to the review score of all sellers? \n",
    "sellers.review_score.mean()"
   ]
  },
  {
   "cell_type": "markdown",
   "id": "d051592e",
   "metadata": {},
   "source": [
    "With sellers who have had delayed shipment to carriers, there is a 0.78 (4.09 - 3.31) decrease in avg. review score. Let's keep 'delay_to_carrier' as a feature to include in OLS Regression since it appears to have an impact on customer reviews."
   ]
  },
  {
   "cell_type": "markdown",
   "id": "4867134f",
   "metadata": {},
   "source": [
    "Appears to be many new sellers on Olist platform. Include 'months_on_olist' as feature in OLS regression to see impact \n",
    "on customer reviews"
   ]
  },
  {
   "cell_type": "markdown",
   "id": "2eef5be7",
   "metadata": {},
   "source": [
    "### Distributions for `n_orders`, `quantity`, `quantity_per_order`, `sales`, `months_on_olist`"
   ]
  },
  {
   "cell_type": "markdown",
   "id": "547666e3",
   "metadata": {},
   "source": [
    "These variables indicate the various quantities related to the order  "
   ]
  },
  {
   "cell_type": "markdown",
   "id": "ba743206",
   "metadata": {},
   "source": [
    "- `n_orders` the total number of orders a seller has had while on the platform.\n",
    "- `quantity` the total number of individual items sold by a seller\n",
    "- `quantity_per_order` the average number of items per order for a seller. This is derived from `n_orders` and `quantity`\n",
    "- `sales` the total sales (in BRL) each seller has earned"
   ]
  },
  {
   "cell_type": "markdown",
   "id": "4049bc43",
   "metadata": {},
   "source": [
    "Here we can see a large right skewed distribution of orders transacted by sellers. In fact the median `n_orders` is 7, and 75% of the sellers have had less than 23 orders on the platform. "
   ]
  },
  {
   "cell_type": "code",
   "execution_count": 205,
   "id": "e4b4deb8",
   "metadata": {
    "scrolled": true
   },
   "outputs": [
    {
     "data": {
      "image/png": "[encoded data removed]",
      "text/plain": [
       "<Figure size 1080x432 with 4 Axes>"
      ]
     },
     "metadata": {},
     "output_type": "display_data"
    }
   ],
   "source": [
    "fig, (ax1, ax2, ax3, ax2) = plt.subplots(4,1)\n",
    "plt.figure(figsize=(15,6)).suptitle('Distribution for Order-size related Variables', fontsize=20)\n",
    "plt.close(1)\n",
    "\n",
    "#'n_orders'\n",
    "ax1 = plt.subplot(411)\n",
    "ax1 = sns.histplot(sellers.n_orders)\n",
    "plt.tight_layout()\n",
    "\n",
    "#'quantity'\n",
    "ax2 = plt.subplot(412)\n",
    "ax2 = sns.histplot(sellers.quantity)\n",
    "\n",
    "#'quantity_per_order'\n",
    "ax3 = plt.subplot(413)\n",
    "ax3 = sns.histplot(sellers.quantity_per_order)\n",
    "\n",
    "#'sales'\n",
    "ax3 = plt.subplot(414)\n",
    "ax3 = sns.histplot(sellers.sales)\n",
    "\n",
    "plt.show();"
   ]
  },
  {
   "cell_type": "code",
   "execution_count": 206,
   "id": "cb414379",
   "metadata": {
    "scrolled": false
   },
   "outputs": [
    {
     "data": {
      "text/html": [
       "<div>\n",
       "<style scoped>\n",
       "    .dataframe tbody tr th:only-of-type {\n",
       "        vertical-align: middle;\n",
       "    }\n",
       "\n",
       "    .dataframe tbody tr th {\n",
       "        vertical-align: top;\n",
       "    }\n",
       "\n",
       "    .dataframe thead th {\n",
       "        text-align: right;\n",
       "    }\n",
       "</style>\n",
       "<table border=\"1\" class=\"dataframe\">\n",
       "  <thead>\n",
       "    <tr style=\"text-align: right;\">\n",
       "      <th></th>\n",
       "      <th>n_orders</th>\n",
       "      <th>quantity</th>\n",
       "      <th>quantity_per_order</th>\n",
       "      <th>sales</th>\n",
       "    </tr>\n",
       "  </thead>\n",
       "  <tbody>\n",
       "    <tr>\n",
       "      <th>count</th>\n",
       "      <td>2970.000000</td>\n",
       "      <td>2970.000000</td>\n",
       "      <td>2970.000000</td>\n",
       "      <td>2970.000000</td>\n",
       "    </tr>\n",
       "    <tr>\n",
       "      <th>mean</th>\n",
       "      <td>33.617508</td>\n",
       "      <td>38.085185</td>\n",
       "      <td>1.162150</td>\n",
       "      <td>4566.515906</td>\n",
       "    </tr>\n",
       "    <tr>\n",
       "      <th>std</th>\n",
       "      <td>107.133714</td>\n",
       "      <td>122.417269</td>\n",
       "      <td>0.443348</td>\n",
       "      <td>14185.211617</td>\n",
       "    </tr>\n",
       "    <tr>\n",
       "      <th>min</th>\n",
       "      <td>1.000000</td>\n",
       "      <td>1.000000</td>\n",
       "      <td>1.000000</td>\n",
       "      <td>6.500000</td>\n",
       "    </tr>\n",
       "    <tr>\n",
       "      <th>25%</th>\n",
       "      <td>2.000000</td>\n",
       "      <td>3.000000</td>\n",
       "      <td>1.000000</td>\n",
       "      <td>239.800000</td>\n",
       "    </tr>\n",
       "    <tr>\n",
       "      <th>50%</th>\n",
       "      <td>7.000000</td>\n",
       "      <td>8.000000</td>\n",
       "      <td>1.000000</td>\n",
       "      <td>893.500000</td>\n",
       "    </tr>\n",
       "    <tr>\n",
       "      <th>75%</th>\n",
       "      <td>23.000000</td>\n",
       "      <td>26.000000</td>\n",
       "      <td>1.152009</td>\n",
       "      <td>3586.022500</td>\n",
       "    </tr>\n",
       "    <tr>\n",
       "      <th>max</th>\n",
       "      <td>1854.000000</td>\n",
       "      <td>2039.000000</td>\n",
       "      <td>15.000000</td>\n",
       "      <td>229472.630000</td>\n",
       "    </tr>\n",
       "  </tbody>\n",
       "</table>\n",
       "</div>"
      ],
      "text/plain": [
       "          n_orders     quantity  quantity_per_order          sales\n",
       "count  2970.000000  2970.000000         2970.000000    2970.000000\n",
       "mean     33.617508    38.085185            1.162150    4566.515906\n",
       "std     107.133714   122.417269            0.443348   14185.211617\n",
       "min       1.000000     1.000000            1.000000       6.500000\n",
       "25%       2.000000     3.000000            1.000000     239.800000\n",
       "50%       7.000000     8.000000            1.000000     893.500000\n",
       "75%      23.000000    26.000000            1.152009    3586.022500\n",
       "max    1854.000000  2039.000000           15.000000  229472.630000"
      ]
     },
     "execution_count": 206,
     "metadata": {},
     "output_type": "execute_result"
    }
   ],
   "source": [
    "sellers[['n_orders', 'quantity', 'quantity_per_order', 'sales']].describe()"
   ]
  },
  {
   "cell_type": "markdown",
   "id": "9d78d7bd",
   "metadata": {},
   "source": [
    "The outliers are quite extreme with these variables making the plots difficult to read. We'll re-plot them with an adjusted view that excludes outliers.\n"
   ]
  },
  {
   "cell_type": "code",
   "execution_count": 207,
   "id": "df604fcb",
   "metadata": {},
   "outputs": [
    {
     "data": {
      "text/plain": [
       "[31.5, 34.5, 0.22801383399209474, 5019.33375]"
      ]
     },
     "execution_count": 207,
     "metadata": {},
     "output_type": "execute_result"
    }
   ],
   "source": [
    "# Outlier calculations (based on 1.5*IQR)\n",
    "\n",
    "features = ['n_orders', 'quantity', 'quantity_per_order', 'sales']\n",
    "\n",
    "max_xlim = []\n",
    "q3_xlim = []\n",
    "\n",
    "for f in features:\n",
    "    q3 = np.quantile(sellers[f], .75, axis=0) \n",
    "    q1 = np.quantile(sellers[f], .25, axis=0) \n",
    "    iqr = q3-q1 \n",
    "    outlier_x = 1.5*iqr\n",
    "    max_xlim.append(outlier_x)\n",
    "    q3_xlim.append(q3)\n",
    "\n",
    "max_xlim"
   ]
  },
  {
   "cell_type": "code",
   "execution_count": 216,
   "id": "f2271a1c",
   "metadata": {
    "scrolled": true
   },
   "outputs": [
    {
     "data": {
      "image/png": "[encoded data removed]",
      "text/plain": [
       "<Figure size 1080x432 with 4 Axes>"
      ]
     },
     "metadata": {},
     "output_type": "display_data"
    }
   ],
   "source": [
    "# Re-plotting features with an adjusted view to exclude outliers\n",
    "fig, ((ax1, ax2), (ax3, ax4)) = plt.subplots(2,2)\n",
    "plt.figure(figsize=(15,6)).suptitle('Distribution for Order-size related Variables (Adjusted for Outliers)', fontsize=20)\n",
    "plt.close(1)\n",
    "\n",
    "#'n_orders'\n",
    "ax1 = plt.subplot(221)\n",
    "ax1 = sns.histplot(sellers.n_orders)\n",
    "ax1.set_xlim(0, q3_xlim[0] + max_xlim[0])\n",
    "\n",
    "#'quantity'\n",
    "ax2 = plt.subplot(222)\n",
    "ax2 = sns.histplot(sellers.quantity)\n",
    "ax2.set_xlim(0, q3_xlim[1] + max_xlim[1])\n",
    "\n",
    "#'quantity_per_order'\n",
    "ax3 = plt.subplot(223)\n",
    "ax3 = sns.histplot(sellers.quantity_per_order)\n",
    "ax3.set_xlim(1, q3_xlim[2] + max_xlim[2])\n",
    "\n",
    "#'sales'\n",
    "ax4 = plt.subplot(224)\n",
    "ax4 = sns.histplot(sellers.sales)\n",
    "ax4.set_xlabel('sales (BRL)')\n",
    "ax4.set_xlim(0, q3_xlim[3] + max_xlim[3])\n",
    "\n",
    "\n",
    "plt.show();"
   ]
  },
  {
   "cell_type": "markdown",
   "id": "119a8ca2",
   "metadata": {},
   "source": [
    "**Interpretation of Results**"
   ]
  },
  {
   "cell_type": "markdown",
   "id": "ae0192c0",
   "metadata": {},
   "source": [
    "- Since both `n_orders` and `quantity` speak to the volume of product that sellers have sold, it's not surprising that their distribution is similar. However, `n_orders` can be more helpful as a gauge for experience that a seller has in processing orders. \n",
    "\n",
    "- With median `n_orders` of only **7**, the platform appears to have many sellers with a low number of transactions which could be a helpful feature in explaining low review scores\n",
    " \n",
    "- The distribution of `quantity_per_order` indicates that most orders deal with a single item. If each order had multiple items, then we might consider that mix-ups in orders could be a factor contributing to low review scores, but here we see a low occurrence of multiple-item orders.  \n",
    "\n",
    "- `sales` seem to follow a similar distribution with these other variables—a strong right skew, but with the bulk on the low end. Half of all sellers have generated less than **893.50 BRL** (~170 USD)."
   ]
  },
  {
   "cell_type": "markdown",
   "id": "0e64e377",
   "metadata": {},
   "source": []
  },
  {
   "cell_type": "markdown",
   "id": "8103be32",
   "metadata": {},
   "source": [
    "Another feature that might speak more directly to the experience of the seller is `months_on_olist`, which tells how long a seller has been on the platform."
   ]
  },
  {
   "cell_type": "code",
   "execution_count": 196,
   "id": "f1e8155e",
   "metadata": {},
   "outputs": [
    {
     "data": {
      "image/png": "[encoded data removed]",
      "text/plain": [
       "<Figure size 1080x432 with 1 Axes>"
      ]
     },
     "metadata": {},
     "output_type": "display_data"
    }
   ],
   "source": [
    "# 'months_on_olist' histogram\n",
    "plt.figure(figsize=(15,6))\n",
    "sns.histplot(sellers.months_on_olist)\n",
    "plt.show()           "
   ]
  },
  {
   "cell_type": "code",
   "execution_count": 217,
   "id": "6a52d257",
   "metadata": {
    "scrolled": true
   },
   "outputs": [
    {
     "data": {
      "text/html": [
       "<div>\n",
       "<style scoped>\n",
       "    .dataframe tbody tr th:only-of-type {\n",
       "        vertical-align: middle;\n",
       "    }\n",
       "\n",
       "    .dataframe tbody tr th {\n",
       "        vertical-align: top;\n",
       "    }\n",
       "\n",
       "    .dataframe thead th {\n",
       "        text-align: right;\n",
       "    }\n",
       "</style>\n",
       "<table border=\"1\" class=\"dataframe\">\n",
       "  <thead>\n",
       "    <tr style=\"text-align: right;\">\n",
       "      <th></th>\n",
       "      <th>months_on_olist</th>\n",
       "    </tr>\n",
       "  </thead>\n",
       "  <tbody>\n",
       "    <tr>\n",
       "      <th>count</th>\n",
       "      <td>2970.000000</td>\n",
       "    </tr>\n",
       "    <tr>\n",
       "      <th>mean</th>\n",
       "      <td>6.619192</td>\n",
       "    </tr>\n",
       "    <tr>\n",
       "      <th>std</th>\n",
       "      <td>5.914010</td>\n",
       "    </tr>\n",
       "    <tr>\n",
       "      <th>min</th>\n",
       "      <td>1.000000</td>\n",
       "    </tr>\n",
       "    <tr>\n",
       "      <th>25%</th>\n",
       "      <td>1.000000</td>\n",
       "    </tr>\n",
       "    <tr>\n",
       "      <th>50%</th>\n",
       "      <td>4.000000</td>\n",
       "    </tr>\n",
       "    <tr>\n",
       "      <th>75%</th>\n",
       "      <td>10.000000</td>\n",
       "    </tr>\n",
       "    <tr>\n",
       "      <th>max</th>\n",
       "      <td>23.000000</td>\n",
       "    </tr>\n",
       "  </tbody>\n",
       "</table>\n",
       "</div>"
      ],
      "text/plain": [
       "       months_on_olist\n",
       "count      2970.000000\n",
       "mean          6.619192\n",
       "std           5.914010\n",
       "min           1.000000\n",
       "25%           1.000000\n",
       "50%           4.000000\n",
       "75%          10.000000\n",
       "max          23.000000"
      ]
     },
     "execution_count": 217,
     "metadata": {},
     "output_type": "execute_result"
    }
   ],
   "source": [
    "# Summary stats \n",
    "sellers[['months_on_olist']].describe()"
   ]
  },
  {
   "cell_type": "markdown",
   "id": "ca43683d",
   "metadata": {},
   "source": [
    "- As a fairly new platform, we can see that the oldest sellers have been using Olist for only **23 months**. And, half of all sellers have only been using the platform for **4 months or less**. \n",
    "\n",
    "\n",
    "\n",
    "\n"
   ]
  },
  {
   "cell_type": "markdown",
   "id": "c01ce673",
   "metadata": {},
   "source": [
    "### Distribution of `seller_review_score`, `share_of_one_stars`, `share_of_five_stars`"
   ]
  },
  {
   "cell_type": "markdown",
   "id": "1b014870",
   "metadata": {},
   "source": [
    "These variables indicate how sellers have been performing based on customer feedback.   \n",
    "\n",
    "- `seller_review_score`: the average score of a seller's reviews \n",
    "- `share_of_one_stars`: the proportion of a seller's reviews with only one star \n",
    "- `share_of_five_stars`: the proportion of a seller's reviews with fives stars\n"
   ]
  },
  {
   "cell_type": "code",
   "execution_count": 137,
   "id": "df630b85",
   "metadata": {
    "scrolled": false
   },
   "outputs": [
    {
     "data": {
      "image/png": "[encoded data removed]",
      "text/plain": [
       "<Figure size 1080x576 with 3 Axes>"
      ]
     },
     "metadata": {},
     "output_type": "display_data"
    }
   ],
   "source": [
    "fig, (ax1, ax2, ax3) = plt.subplots(1,3)\n",
    "plt.close(1)\n",
    "plt.figure(figsize=(15,8)).suptitle('Distribution of Review-related Variables', fontsize=20)\n",
    "\n",
    "#'seller_review_score'\n",
    "ax1 = plt.subplot(131)\n",
    "ax1 = sns.histplot(sellers.seller_review_score)\n",
    "\n",
    "#'share_of_one_stars'\n",
    "ax2 = plt.subplot(132)\n",
    "ax2 = sns.histplot(sellers.share_of_one_stars)\n",
    "\n",
    "#'share_of_five_stars'\n",
    "ax3 = plt.subplot(133)\n",
    "ax3 = sns.histplot(sellers.share_of_five_stars)\n",
    "plt.show();"
   ]
  },
  {
   "cell_type": "code",
   "execution_count": 139,
   "id": "f8d5b77d",
   "metadata": {},
   "outputs": [
    {
     "data": {
      "text/html": [
       "<div>\n",
       "<style scoped>\n",
       "    .dataframe tbody tr th:only-of-type {\n",
       "        vertical-align: middle;\n",
       "    }\n",
       "\n",
       "    .dataframe tbody tr th {\n",
       "        vertical-align: top;\n",
       "    }\n",
       "\n",
       "    .dataframe thead th {\n",
       "        text-align: right;\n",
       "    }\n",
       "</style>\n",
       "<table border=\"1\" class=\"dataframe\">\n",
       "  <thead>\n",
       "    <tr style=\"text-align: right;\">\n",
       "      <th></th>\n",
       "      <th>seller_review_score</th>\n",
       "      <th>share_of_one_stars</th>\n",
       "      <th>share_of_five_stars</th>\n",
       "    </tr>\n",
       "  </thead>\n",
       "  <tbody>\n",
       "    <tr>\n",
       "      <th>count</th>\n",
       "      <td>2970.000000</td>\n",
       "      <td>2970.000000</td>\n",
       "      <td>2970.000000</td>\n",
       "    </tr>\n",
       "    <tr>\n",
       "      <th>mean</th>\n",
       "      <td>4.086880</td>\n",
       "      <td>0.124570</td>\n",
       "      <td>0.592130</td>\n",
       "    </tr>\n",
       "    <tr>\n",
       "      <th>std</th>\n",
       "      <td>0.810166</td>\n",
       "      <td>0.191870</td>\n",
       "      <td>0.279057</td>\n",
       "    </tr>\n",
       "    <tr>\n",
       "      <th>min</th>\n",
       "      <td>1.000000</td>\n",
       "      <td>0.000000</td>\n",
       "      <td>0.000000</td>\n",
       "    </tr>\n",
       "    <tr>\n",
       "      <th>25%</th>\n",
       "      <td>3.818424</td>\n",
       "      <td>0.000000</td>\n",
       "      <td>0.478261</td>\n",
       "    </tr>\n",
       "    <tr>\n",
       "      <th>50%</th>\n",
       "      <td>4.200000</td>\n",
       "      <td>0.063856</td>\n",
       "      <td>0.600000</td>\n",
       "    </tr>\n",
       "    <tr>\n",
       "      <th>75%</th>\n",
       "      <td>4.625000</td>\n",
       "      <td>0.166667</td>\n",
       "      <td>0.750000</td>\n",
       "    </tr>\n",
       "    <tr>\n",
       "      <th>max</th>\n",
       "      <td>5.000000</td>\n",
       "      <td>1.000000</td>\n",
       "      <td>1.000000</td>\n",
       "    </tr>\n",
       "  </tbody>\n",
       "</table>\n",
       "</div>"
      ],
      "text/plain": [
       "       seller_review_score  share_of_one_stars  share_of_five_stars\n",
       "count          2970.000000         2970.000000          2970.000000\n",
       "mean              4.086880            0.124570             0.592130\n",
       "std               0.810166            0.191870             0.279057\n",
       "min               1.000000            0.000000             0.000000\n",
       "25%               3.818424            0.000000             0.478261\n",
       "50%               4.200000            0.063856             0.600000\n",
       "75%               4.625000            0.166667             0.750000\n",
       "max               5.000000            1.000000             1.000000"
      ]
     },
     "execution_count": 139,
     "metadata": {},
     "output_type": "execute_result"
    }
   ],
   "source": [
    "sellers[['seller_review_score', 'share_of_one_stars', 'share_of_five_stars']].describe()"
   ]
  },
  {
   "cell_type": "markdown",
   "id": "b24873ad",
   "metadata": {},
   "source": [
    "**Interpretation of plots**\n",
    "\n",
    "With these distribution plots, we can see what proportion of sellers have been performing badly with low review scores. This will help us identify and set thresholds for sellers who might be candidates for removal from the platform, or who may be in need of more assistance in improving quality.    "
   ]
  },
  {
   "cell_type": "markdown",
   "id": "2919bdf2",
   "metadata": {},
   "source": [
    "- From our histogram and statistical summary, we can see that the average `seller_review_score` is **close to 4** (mean=4.087), while those receiving an average score of **3 or less** already fall into the bottom 25% of seller performance (Q1=3.82). "
   ]
  },
  {
   "cell_type": "markdown",
   "id": "ed1cc44f",
   "metadata": {},
   "source": [
    "- Examining `share_of_one_stars`, we see that **75% of all sellers** only see a small portion (less than a sixth of reviews, Q3=0.167) of their sales receiving a one-star rating. For the remaining 25% of sellers who are getting a higher proportion of one-star reviews, we can scrutinize their performance further."
   ]
  },
  {
   "cell_type": "markdown",
   "id": "0de12fd3",
   "metadata": {},
   "source": [
    "- With `share_of_five_stars` we see a W-shaped distribution with three peaks. On the far right, we have a large number of 'super-performers' who have only ever gotten a five-star review. Then we have two smaller peaks occurring a) the center, where only half of their reviews received a 'superb' five-star review, and b) the far left, where a substantial number have never gotten the highest review score. \n",
    "\n",
    "For a fairer assessment that takes into consideration the total number of reviews each seller has received, we could explore assigning weights to each 1-star (or 5-star review) that are proportional to the total number of reviews received (i.e. we could control that a seller with a hundred 5-star reviews but a single 1-star review, would still rank higher than a seller with only ten reviews but which are all 5-stars).        "
   ]
  },
  {
   "cell_type": "markdown",
   "id": "c1698244",
   "metadata": {},
   "source": [
    "### Correlations"
   ]
  },
  {
   "cell_type": "markdown",
   "id": "e20ad178",
   "metadata": {},
   "source": [
    "Let's check out the correlations between different features in the Sellers dataset"
   ]
  },
  {
   "cell_type": "code",
   "execution_count": 94,
   "id": "4617a72a",
   "metadata": {},
   "outputs": [
    {
     "data": {
      "image/png": "[encoded data removed]",
      "text/plain": [
       "<Figure size 1080x432 with 2 Axes>"
      ]
     },
     "metadata": {},
     "output_type": "display_data"
    }
   ],
   "source": [
    "plt.figure(figsize=(15,6))\n",
    "sns.heatmap(sellers.corr(), cmap='coolwarm');"
   ]
  },
  {
   "cell_type": "code",
   "execution_count": 96,
   "id": "662806fe",
   "metadata": {},
   "outputs": [
    {
     "data": {
      "text/plain": [
       "delay_to_carrier          -0.325642\n",
       "seller_wait_time          -0.419605\n",
       "months_on_olist           -0.019901\n",
       "share_of_one_stars        -0.869186\n",
       "share_of_five_stars        0.818685\n",
       "seller_review_score        1.000000\n",
       "cost_of_reviews           -0.067521\n",
       "n_orders                  -0.003983\n",
       "quantity                  -0.007311\n",
       "quantity_per_order        -0.064025\n",
       "sales                     -0.008910\n",
       "revenues                  -0.013076\n",
       "profits                    0.085686\n",
       "revenue                   -0.013321\n",
       "profits_before_it_costs    0.085541\n",
       "Name: seller_review_score, dtype: float64"
      ]
     },
     "execution_count": 96,
     "metadata": {},
     "output_type": "execute_result"
    }
   ],
   "source": [
    "sellers.corr()['seller_review_score']"
   ]
  },
  {
   "cell_type": "markdown",
   "id": "f09e491f",
   "metadata": {},
   "source": [
    "Among features that aren't derived from the `seller_review_score`, similar to the Orders dataset, we have features that capture delivery time such as `delay_to_carrier` (r=-0.33) and `seller_wait_time` (r=-0.42) having the largest correlation with `seller_review_score`. "
   ]
  },
  {
   "cell_type": "markdown",
   "id": "8584784f",
   "metadata": {},
   "source": [
    "Since `seller_wait_time` includes the time a seller ships to the carrier, it makes sense that it is correlated with `delay_to_carrier`."
   ]
  },
  {
   "cell_type": "code",
   "execution_count": 98,
   "id": "74d77024",
   "metadata": {},
   "outputs": [
    {
     "data": {
      "text/plain": [
       "0.4723143026385158"
      ]
     },
     "execution_count": 98,
     "metadata": {},
     "output_type": "execute_result"
    }
   ],
   "source": [
    "# correlation between 'seller_wait_time' and 'delay_to_carrier'\n",
    "sellers.corr()['seller_wait_time']['delay_to_carrier']"
   ]
  },
  {
   "cell_type": "markdown",
   "id": "56db58f1",
   "metadata": {},
   "source": [
    "# Multivariate Regression  "
   ]
  },
  {
   "cell_type": "markdown",
   "id": "f9d20c42",
   "metadata": {},
   "source": [
    "We'll now run a multivariate regression model with select features from the Sellers dataset to better understand their impact on `seller_review_score`. "
   ]
  },
  {
   "cell_type": "code",
   "execution_count": 99,
   "id": "44a54dcc",
   "metadata": {},
   "outputs": [],
   "source": [
    "#Applying some feature scaling. Due to large number of outliers among the features, will use standardization over normalization \n",
    "#since it does not require scaling based on the range of values. \n",
    "\n",
    "def standardize(df, features): \n",
    "    df_standardized = df.copy()\n",
    "    for f in features:\n",
    "        mu = df[f].mean()\n",
    "        sigma = df[f].std()\n",
    "        df_standardized[f] = df[f].map(lambda x: (x - mu) / sigma)\n",
    "    return df_standardized\n"
   ]
  },
  {
   "cell_type": "code",
   "execution_count": 101,
   "id": "db7a781c",
   "metadata": {},
   "outputs": [],
   "source": [
    "# Select features and run a multi-variate linear regression model to determine how much each feature impacts review score\n",
    "features = ['delay_to_carrier', 'seller_wait_time', 'months_on_olist', 'n_orders', 'quantity', 'quantity_per_order', 'sales']\n",
    "sellers_standardized = standardize(sellers, features)\n",
    "model = smf.ols(formula=f\"seller_review_score ~ {'+ '.join(features)}\", data=sellers_standardized).fit()"
   ]
  },
  {
   "cell_type": "code",
   "execution_count": 102,
   "id": "bb4a3e24",
   "metadata": {},
   "outputs": [
    {
     "data": {
      "text/html": [
       "<table class=\"simpletable\">\n",
       "<caption>OLS Regression Results</caption>\n",
       "<tr>\n",
       "  <th>Dep. Variable:</th>    <td>seller_review_score</td> <th>  R-squared:         </th> <td>   0.201</td> \n",
       "</tr>\n",
       "<tr>\n",
       "  <th>Model:</th>                    <td>OLS</td>         <th>  Adj. R-squared:    </th> <td>   0.199</td> \n",
       "</tr>\n",
       "<tr>\n",
       "  <th>Method:</th>              <td>Least Squares</td>    <th>  F-statistic:       </th> <td>   106.3</td> \n",
       "</tr>\n",
       "<tr>\n",
       "  <th>Date:</th>              <td>Wed, 11 Aug 2021</td>   <th>  Prob (F-statistic):</th> <td>3.46e-139</td>\n",
       "</tr>\n",
       "<tr>\n",
       "  <th>Time:</th>                  <td>22:27:12</td>       <th>  Log-Likelihood:    </th> <td> -3255.8</td> \n",
       "</tr>\n",
       "<tr>\n",
       "  <th>No. Observations:</th>       <td>  2970</td>        <th>  AIC:               </th> <td>   6528.</td> \n",
       "</tr>\n",
       "<tr>\n",
       "  <th>Df Residuals:</th>           <td>  2962</td>        <th>  BIC:               </th> <td>   6575.</td> \n",
       "</tr>\n",
       "<tr>\n",
       "  <th>Df Model:</th>               <td>     7</td>        <th>                     </th>     <td> </td>    \n",
       "</tr>\n",
       "<tr>\n",
       "  <th>Covariance Type:</th>       <td>nonrobust</td>      <th>                     </th>     <td> </td>    \n",
       "</tr>\n",
       "</table>\n",
       "<table class=\"simpletable\">\n",
       "<tr>\n",
       "           <td></td>             <th>coef</th>     <th>std err</th>      <th>t</th>      <th>P>|t|</th>  <th>[0.025</th>    <th>0.975]</th>  \n",
       "</tr>\n",
       "<tr>\n",
       "  <th>Intercept</th>          <td>    4.0869</td> <td>    0.013</td> <td>  307.144</td> <td> 0.000</td> <td>    4.061</td> <td>    4.113</td>\n",
       "</tr>\n",
       "<tr>\n",
       "  <th>delay_to_carrier</th>   <td>   -0.1329</td> <td>    0.015</td> <td>   -8.716</td> <td> 0.000</td> <td>   -0.163</td> <td>   -0.103</td>\n",
       "</tr>\n",
       "<tr>\n",
       "  <th>seller_wait_time</th>   <td>   -0.2765</td> <td>    0.015</td> <td>  -18.150</td> <td> 0.000</td> <td>   -0.306</td> <td>   -0.247</td>\n",
       "</tr>\n",
       "<tr>\n",
       "  <th>months_on_olist</th>    <td>   -0.0082</td> <td>    0.015</td> <td>   -0.553</td> <td> 0.580</td> <td>   -0.037</td> <td>    0.021</td>\n",
       "</tr>\n",
       "<tr>\n",
       "  <th>n_orders</th>           <td>    0.1052</td> <td>    0.118</td> <td>    0.888</td> <td> 0.374</td> <td>   -0.127</td> <td>    0.337</td>\n",
       "</tr>\n",
       "<tr>\n",
       "  <th>quantity</th>           <td>   -0.1161</td> <td>    0.117</td> <td>   -0.991</td> <td> 0.322</td> <td>   -0.346</td> <td>    0.114</td>\n",
       "</tr>\n",
       "<tr>\n",
       "  <th>quantity_per_order</th> <td>   -0.0447</td> <td>    0.014</td> <td>   -3.308</td> <td> 0.001</td> <td>   -0.071</td> <td>   -0.018</td>\n",
       "</tr>\n",
       "<tr>\n",
       "  <th>sales</th>              <td>    0.0088</td> <td>    0.022</td> <td>    0.396</td> <td> 0.692</td> <td>   -0.035</td> <td>    0.052</td>\n",
       "</tr>\n",
       "</table>\n",
       "<table class=\"simpletable\">\n",
       "<tr>\n",
       "  <th>Omnibus:</th>       <td>813.774</td> <th>  Durbin-Watson:     </th> <td>   2.049</td>\n",
       "</tr>\n",
       "<tr>\n",
       "  <th>Prob(Omnibus):</th> <td> 0.000</td>  <th>  Jarque-Bera (JB):  </th> <td>2772.176</td>\n",
       "</tr>\n",
       "<tr>\n",
       "  <th>Skew:</th>          <td>-1.351</td>  <th>  Prob(JB):          </th> <td>    0.00</td>\n",
       "</tr>\n",
       "<tr>\n",
       "  <th>Kurtosis:</th>      <td> 6.886</td>  <th>  Cond. No.          </th> <td>    21.5</td>\n",
       "</tr>\n",
       "</table><br/><br/>Warnings:<br/>[1] Standard Errors assume that the covariance matrix of the errors is correctly specified."
      ],
      "text/plain": [
       "<class 'statsmodels.iolib.summary.Summary'>\n",
       "\"\"\"\n",
       "                             OLS Regression Results                            \n",
       "===============================================================================\n",
       "Dep. Variable:     seller_review_score   R-squared:                       0.201\n",
       "Model:                             OLS   Adj. R-squared:                  0.199\n",
       "Method:                  Least Squares   F-statistic:                     106.3\n",
       "Date:                 Wed, 11 Aug 2021   Prob (F-statistic):          3.46e-139\n",
       "Time:                         22:27:12   Log-Likelihood:                -3255.8\n",
       "No. Observations:                 2970   AIC:                             6528.\n",
       "Df Residuals:                     2962   BIC:                             6575.\n",
       "Df Model:                            7                                         \n",
       "Covariance Type:             nonrobust                                         \n",
       "======================================================================================\n",
       "                         coef    std err          t      P>|t|      [0.025      0.975]\n",
       "--------------------------------------------------------------------------------------\n",
       "Intercept              4.0869      0.013    307.144      0.000       4.061       4.113\n",
       "delay_to_carrier      -0.1329      0.015     -8.716      0.000      -0.163      -0.103\n",
       "seller_wait_time      -0.2765      0.015    -18.150      0.000      -0.306      -0.247\n",
       "months_on_olist       -0.0082      0.015     -0.553      0.580      -0.037       0.021\n",
       "n_orders               0.1052      0.118      0.888      0.374      -0.127       0.337\n",
       "quantity              -0.1161      0.117     -0.991      0.322      -0.346       0.114\n",
       "quantity_per_order    -0.0447      0.014     -3.308      0.001      -0.071      -0.018\n",
       "sales                  0.0088      0.022      0.396      0.692      -0.035       0.052\n",
       "==============================================================================\n",
       "Omnibus:                      813.774   Durbin-Watson:                   2.049\n",
       "Prob(Omnibus):                  0.000   Jarque-Bera (JB):             2772.176\n",
       "Skew:                          -1.351   Prob(JB):                         0.00\n",
       "Kurtosis:                       6.886   Cond. No.                         21.5\n",
       "==============================================================================\n",
       "\n",
       "Warnings:\n",
       "[1] Standard Errors assume that the covariance matrix of the errors is correctly specified.\n",
       "\"\"\""
      ]
     },
     "execution_count": 102,
     "metadata": {},
     "output_type": "execute_result"
    }
   ],
   "source": [
    "model.summary()"
   ]
  },
  {
   "cell_type": "markdown",
   "id": "709a1488",
   "metadata": {},
   "source": [
    "Interpretation of Results:\n",
    "\n",
    "- This model has a low R2 (~0.20) suggesting that the currently selected features only explain 20% of the variance\n",
    "found in the review scores. The f-proba shows that our R2 is statistically significant and that\n",
    "it performs better than a model without any features.\n",
    "- The coefficients for the features 'months_on_olist', 'n_orders', 'quantity', and 'sales' are not statistically significant as their p-values are not less than 0.05. Additionally, we see that a value of 0 falls within the 95% confidence interval. Since a zero coefficient would indicate that the feature has no impact on the target variable (i.e. what we state with the null hypothesis), we can't reject the null hypothesis and the coefficients are not reliable (statistically significant). Consider removing[??].\n"
   ]
  },
  {
   "cell_type": "code",
   "execution_count": 104,
   "id": "30e22642",
   "metadata": {},
   "outputs": [],
   "source": [
    "# REVISED FEATURE SELECTION\n",
    "features = ['delay_to_carrier', 'seller_wait_time', 'quantity_per_order']\n",
    "sellers_standardized = standardize(sellers, features)\n",
    "revised_model = smf.ols(formula=f\"seller_review_score ~ {'+ '.join(features)}\", data=sellers_standardized).fit()"
   ]
  },
  {
   "cell_type": "code",
   "execution_count": 105,
   "id": "0aa8aacc",
   "metadata": {},
   "outputs": [
    {
     "data": {
      "text/html": [
       "<table class=\"simpletable\">\n",
       "<caption>OLS Regression Results</caption>\n",
       "<tr>\n",
       "  <th>Dep. Variable:</th>    <td>seller_review_score</td> <th>  R-squared:         </th> <td>   0.200</td> \n",
       "</tr>\n",
       "<tr>\n",
       "  <th>Model:</th>                    <td>OLS</td>         <th>  Adj. R-squared:    </th> <td>   0.200</td> \n",
       "</tr>\n",
       "<tr>\n",
       "  <th>Method:</th>              <td>Least Squares</td>    <th>  F-statistic:       </th> <td>   247.7</td> \n",
       "</tr>\n",
       "<tr>\n",
       "  <th>Date:</th>              <td>Wed, 11 Aug 2021</td>   <th>  Prob (F-statistic):</th> <td>2.08e-143</td>\n",
       "</tr>\n",
       "<tr>\n",
       "  <th>Time:</th>                  <td>22:29:15</td>       <th>  Log-Likelihood:    </th> <td> -3256.6</td> \n",
       "</tr>\n",
       "<tr>\n",
       "  <th>No. Observations:</th>       <td>  2970</td>        <th>  AIC:               </th> <td>   6521.</td> \n",
       "</tr>\n",
       "<tr>\n",
       "  <th>Df Residuals:</th>           <td>  2966</td>        <th>  BIC:               </th> <td>   6545.</td> \n",
       "</tr>\n",
       "<tr>\n",
       "  <th>Df Model:</th>               <td>     3</td>        <th>                     </th>     <td> </td>    \n",
       "</tr>\n",
       "<tr>\n",
       "  <th>Covariance Type:</th>       <td>nonrobust</td>      <th>                     </th>     <td> </td>    \n",
       "</tr>\n",
       "</table>\n",
       "<table class=\"simpletable\">\n",
       "<tr>\n",
       "           <td></td>             <th>coef</th>     <th>std err</th>      <th>t</th>      <th>P>|t|</th>  <th>[0.025</th>    <th>0.975]</th>  \n",
       "</tr>\n",
       "<tr>\n",
       "  <th>Intercept</th>          <td>    4.0869</td> <td>    0.013</td> <td>  307.268</td> <td> 0.000</td> <td>    4.061</td> <td>    4.113</td>\n",
       "</tr>\n",
       "<tr>\n",
       "  <th>delay_to_carrier</th>   <td>   -0.1315</td> <td>    0.015</td> <td>   -8.710</td> <td> 0.000</td> <td>   -0.161</td> <td>   -0.102</td>\n",
       "</tr>\n",
       "<tr>\n",
       "  <th>seller_wait_time</th>   <td>   -0.2776</td> <td>    0.015</td> <td>  -18.391</td> <td> 0.000</td> <td>   -0.307</td> <td>   -0.248</td>\n",
       "</tr>\n",
       "<tr>\n",
       "  <th>quantity_per_order</th> <td>   -0.0468</td> <td>    0.013</td> <td>   -3.519</td> <td> 0.000</td> <td>   -0.073</td> <td>   -0.021</td>\n",
       "</tr>\n",
       "</table>\n",
       "<table class=\"simpletable\">\n",
       "<tr>\n",
       "  <th>Omnibus:</th>       <td>797.448</td> <th>  Durbin-Watson:     </th> <td>   2.048</td>\n",
       "</tr>\n",
       "<tr>\n",
       "  <th>Prob(Omnibus):</th> <td> 0.000</td>  <th>  Jarque-Bera (JB):  </th> <td>2693.675</td>\n",
       "</tr>\n",
       "<tr>\n",
       "  <th>Skew:</th>          <td>-1.326</td>  <th>  Prob(JB):          </th> <td>    0.00</td>\n",
       "</tr>\n",
       "<tr>\n",
       "  <th>Kurtosis:</th>      <td> 6.838</td>  <th>  Cond. No.          </th> <td>    1.67</td>\n",
       "</tr>\n",
       "</table><br/><br/>Warnings:<br/>[1] Standard Errors assume that the covariance matrix of the errors is correctly specified."
      ],
      "text/plain": [
       "<class 'statsmodels.iolib.summary.Summary'>\n",
       "\"\"\"\n",
       "                             OLS Regression Results                            \n",
       "===============================================================================\n",
       "Dep. Variable:     seller_review_score   R-squared:                       0.200\n",
       "Model:                             OLS   Adj. R-squared:                  0.200\n",
       "Method:                  Least Squares   F-statistic:                     247.7\n",
       "Date:                 Wed, 11 Aug 2021   Prob (F-statistic):          2.08e-143\n",
       "Time:                         22:29:15   Log-Likelihood:                -3256.6\n",
       "No. Observations:                 2970   AIC:                             6521.\n",
       "Df Residuals:                     2966   BIC:                             6545.\n",
       "Df Model:                            3                                         \n",
       "Covariance Type:             nonrobust                                         \n",
       "======================================================================================\n",
       "                         coef    std err          t      P>|t|      [0.025      0.975]\n",
       "--------------------------------------------------------------------------------------\n",
       "Intercept              4.0869      0.013    307.268      0.000       4.061       4.113\n",
       "delay_to_carrier      -0.1315      0.015     -8.710      0.000      -0.161      -0.102\n",
       "seller_wait_time      -0.2776      0.015    -18.391      0.000      -0.307      -0.248\n",
       "quantity_per_order    -0.0468      0.013     -3.519      0.000      -0.073      -0.021\n",
       "==============================================================================\n",
       "Omnibus:                      797.448   Durbin-Watson:                   2.048\n",
       "Prob(Omnibus):                  0.000   Jarque-Bera (JB):             2693.675\n",
       "Skew:                          -1.326   Prob(JB):                         0.00\n",
       "Kurtosis:                       6.838   Cond. No.                         1.67\n",
       "==============================================================================\n",
       "\n",
       "Warnings:\n",
       "[1] Standard Errors assume that the covariance matrix of the errors is correctly specified.\n",
       "\"\"\""
      ]
     },
     "execution_count": 105,
     "metadata": {},
     "output_type": "execute_result"
    }
   ],
   "source": [
    "revised_model.summary()"
   ]
  },
  {
   "cell_type": "code",
   "execution_count": 106,
   "id": "bbb342ae",
   "metadata": {},
   "outputs": [
    {
     "data": {
      "text/plain": [
       "Intercept             4.086880\n",
       "delay_to_carrier     -0.132853\n",
       "seller_wait_time     -0.276461\n",
       "months_on_olist      -0.008158\n",
       "n_orders              0.105213\n",
       "quantity             -0.116118\n",
       "quantity_per_order   -0.044664\n",
       "sales                 0.008822\n",
       "dtype: float64"
      ]
     },
     "execution_count": 106,
     "metadata": {},
     "output_type": "execute_result"
    }
   ],
   "source": [
    "model.params"
   ]
  },
  {
   "cell_type": "code",
   "execution_count": 107,
   "id": "a30f2f01",
   "metadata": {},
   "outputs": [
    {
     "data": {
      "image/png": "[encoded data removed]",
      "text/plain": [
       "<Figure size 432x288 with 1 Axes>"
      ]
     },
     "metadata": {},
     "output_type": "display_data"
    }
   ],
   "source": [
    "model.params[1:].sort_values().plot(kind='barh');"
   ]
  },
  {
   "cell_type": "code",
   "execution_count": 108,
   "id": "44d431c2",
   "metadata": {},
   "outputs": [
    {
     "data": {
      "text/plain": [
       "0.20074928674431547"
      ]
     },
     "execution_count": 108,
     "metadata": {},
     "output_type": "execute_result"
    }
   ],
   "source": [
    "model.rsquared"
   ]
  },
  {
   "cell_type": "code",
   "execution_count": 110,
   "id": "02658c3c",
   "metadata": {},
   "outputs": [
    {
     "ename": "PatsyError",
     "evalue": "predict requires that you use a DataFrame when predicting from a model\nthat was created using the formula api.\n\nThe original error message returned by patsy is:\nError evaluating factor: NameError: name 'months_on_olist' is not defined\n    seller_review_score ~ delay_to_carrier+ seller_wait_time+ months_on_olist+ n_orders+ quantity+ quantity_per_order+ sales\n                                                              ^^^^^^^^^^^^^^^",
     "output_type": "error",
     "traceback": [
      "\u001b[0;31m---------------------------------------------------------------------------\u001b[0m",
      "\u001b[0;31mNameError\u001b[0m                                 Traceback (most recent call last)",
      "\u001b[0;32m~/.pyenv/versions/3.8.6/envs/lewagon/lib/python3.8/site-packages/patsy/compat.py\u001b[0m in \u001b[0;36mcall_and_wrap_exc\u001b[0;34m(msg, origin, f, *args, **kwargs)\u001b[0m\n\u001b[1;32m     35\u001b[0m     \u001b[0;32mtry\u001b[0m\u001b[0;34m:\u001b[0m\u001b[0;34m\u001b[0m\u001b[0;34m\u001b[0m\u001b[0m\n\u001b[0;32m---> 36\u001b[0;31m         \u001b[0;32mreturn\u001b[0m \u001b[0mf\u001b[0m\u001b[0;34m(\u001b[0m\u001b[0;34m*\u001b[0m\u001b[0margs\u001b[0m\u001b[0;34m,\u001b[0m \u001b[0;34m**\u001b[0m\u001b[0mkwargs\u001b[0m\u001b[0;34m)\u001b[0m\u001b[0;34m\u001b[0m\u001b[0;34m\u001b[0m\u001b[0m\n\u001b[0m\u001b[1;32m     37\u001b[0m     \u001b[0;32mexcept\u001b[0m \u001b[0mException\u001b[0m \u001b[0;32mas\u001b[0m \u001b[0me\u001b[0m\u001b[0;34m:\u001b[0m\u001b[0;34m\u001b[0m\u001b[0;34m\u001b[0m\u001b[0m\n",
      "\u001b[0;32m~/.pyenv/versions/3.8.6/envs/lewagon/lib/python3.8/site-packages/patsy/eval.py\u001b[0m in \u001b[0;36meval\u001b[0;34m(self, expr, source_name, inner_namespace)\u001b[0m\n\u001b[1;32m    164\u001b[0m         \u001b[0mcode\u001b[0m \u001b[0;34m=\u001b[0m \u001b[0mcompile\u001b[0m\u001b[0;34m(\u001b[0m\u001b[0mexpr\u001b[0m\u001b[0;34m,\u001b[0m \u001b[0msource_name\u001b[0m\u001b[0;34m,\u001b[0m \u001b[0;34m\"eval\"\u001b[0m\u001b[0;34m,\u001b[0m \u001b[0mself\u001b[0m\u001b[0;34m.\u001b[0m\u001b[0mflags\u001b[0m\u001b[0;34m,\u001b[0m \u001b[0;32mFalse\u001b[0m\u001b[0;34m)\u001b[0m\u001b[0;34m\u001b[0m\u001b[0;34m\u001b[0m\u001b[0m\n\u001b[0;32m--> 165\u001b[0;31m         return eval(code, {}, VarLookupDict([inner_namespace]\n\u001b[0m\u001b[1;32m    166\u001b[0m                                             + self._namespaces))\n",
      "\u001b[0;32m<string>\u001b[0m in \u001b[0;36m<module>\u001b[0;34m\u001b[0m\n",
      "\u001b[0;31mNameError\u001b[0m: name 'months_on_olist' is not defined",
      "\nThe above exception was the direct cause of the following exception:\n",
      "\u001b[0;31mPatsyError\u001b[0m                                Traceback (most recent call last)",
      "\u001b[0;32m~/.pyenv/versions/3.8.6/envs/lewagon/lib/python3.8/site-packages/statsmodels/base/model.py\u001b[0m in \u001b[0;36mpredict\u001b[0;34m(self, exog, transform, *args, **kwargs)\u001b[0m\n\u001b[1;32m   1075\u001b[0m             \u001b[0;32mtry\u001b[0m\u001b[0;34m:\u001b[0m\u001b[0;34m\u001b[0m\u001b[0;34m\u001b[0m\u001b[0m\n\u001b[0;32m-> 1076\u001b[0;31m                 \u001b[0mexog\u001b[0m \u001b[0;34m=\u001b[0m \u001b[0mdmatrix\u001b[0m\u001b[0;34m(\u001b[0m\u001b[0mdesign_info\u001b[0m\u001b[0;34m,\u001b[0m \u001b[0mexog\u001b[0m\u001b[0;34m,\u001b[0m \u001b[0mreturn_type\u001b[0m\u001b[0;34m=\u001b[0m\u001b[0;34m\"dataframe\"\u001b[0m\u001b[0;34m)\u001b[0m\u001b[0;34m\u001b[0m\u001b[0;34m\u001b[0m\u001b[0m\n\u001b[0m\u001b[1;32m   1077\u001b[0m             \u001b[0;32mexcept\u001b[0m \u001b[0mException\u001b[0m \u001b[0;32mas\u001b[0m \u001b[0mexc\u001b[0m\u001b[0;34m:\u001b[0m\u001b[0;34m\u001b[0m\u001b[0;34m\u001b[0m\u001b[0m\n",
      "\u001b[0;32m~/.pyenv/versions/3.8.6/envs/lewagon/lib/python3.8/site-packages/patsy/highlevel.py\u001b[0m in \u001b[0;36mdmatrix\u001b[0;34m(formula_like, data, eval_env, NA_action, return_type)\u001b[0m\n\u001b[1;32m    289\u001b[0m     \u001b[0meval_env\u001b[0m \u001b[0;34m=\u001b[0m \u001b[0mEvalEnvironment\u001b[0m\u001b[0;34m.\u001b[0m\u001b[0mcapture\u001b[0m\u001b[0;34m(\u001b[0m\u001b[0meval_env\u001b[0m\u001b[0;34m,\u001b[0m \u001b[0mreference\u001b[0m\u001b[0;34m=\u001b[0m\u001b[0;36m1\u001b[0m\u001b[0;34m)\u001b[0m\u001b[0;34m\u001b[0m\u001b[0;34m\u001b[0m\u001b[0m\n\u001b[0;32m--> 290\u001b[0;31m     (lhs, rhs) = _do_highlevel_design(formula_like, data, eval_env,\n\u001b[0m\u001b[1;32m    291\u001b[0m                                       NA_action, return_type)\n",
      "\u001b[0;32m~/.pyenv/versions/3.8.6/envs/lewagon/lib/python3.8/site-packages/patsy/highlevel.py\u001b[0m in \u001b[0;36m_do_highlevel_design\u001b[0;34m(formula_like, data, eval_env, NA_action, return_type)\u001b[0m\n\u001b[1;32m    166\u001b[0m     \u001b[0;32mif\u001b[0m \u001b[0mdesign_infos\u001b[0m \u001b[0;32mis\u001b[0m \u001b[0;32mnot\u001b[0m \u001b[0;32mNone\u001b[0m\u001b[0;34m:\u001b[0m\u001b[0;34m\u001b[0m\u001b[0;34m\u001b[0m\u001b[0m\n\u001b[0;32m--> 167\u001b[0;31m         return build_design_matrices(design_infos, data,\n\u001b[0m\u001b[1;32m    168\u001b[0m                                      \u001b[0mNA_action\u001b[0m\u001b[0;34m=\u001b[0m\u001b[0mNA_action\u001b[0m\u001b[0;34m,\u001b[0m\u001b[0;34m\u001b[0m\u001b[0;34m\u001b[0m\u001b[0m\n",
      "\u001b[0;32m~/.pyenv/versions/3.8.6/envs/lewagon/lib/python3.8/site-packages/patsy/build.py\u001b[0m in \u001b[0;36mbuild_design_matrices\u001b[0;34m(design_infos, data, NA_action, return_type, dtype)\u001b[0m\n\u001b[1;32m    887\u001b[0m             \u001b[0;32mif\u001b[0m \u001b[0mfactor_info\u001b[0m \u001b[0;32mnot\u001b[0m \u001b[0;32min\u001b[0m \u001b[0mfactor_info_to_values\u001b[0m\u001b[0;34m:\u001b[0m\u001b[0;34m\u001b[0m\u001b[0;34m\u001b[0m\u001b[0m\n\u001b[0;32m--> 888\u001b[0;31m                 \u001b[0mvalue\u001b[0m\u001b[0;34m,\u001b[0m \u001b[0mis_NA\u001b[0m \u001b[0;34m=\u001b[0m \u001b[0m_eval_factor\u001b[0m\u001b[0;34m(\u001b[0m\u001b[0mfactor_info\u001b[0m\u001b[0;34m,\u001b[0m \u001b[0mdata\u001b[0m\u001b[0;34m,\u001b[0m \u001b[0mNA_action\u001b[0m\u001b[0;34m)\u001b[0m\u001b[0;34m\u001b[0m\u001b[0;34m\u001b[0m\u001b[0m\n\u001b[0m\u001b[1;32m    889\u001b[0m                 \u001b[0mfactor_info_to_isNAs\u001b[0m\u001b[0;34m[\u001b[0m\u001b[0mfactor_info\u001b[0m\u001b[0;34m]\u001b[0m \u001b[0;34m=\u001b[0m \u001b[0mis_NA\u001b[0m\u001b[0;34m\u001b[0m\u001b[0;34m\u001b[0m\u001b[0m\n",
      "\u001b[0;32m~/.pyenv/versions/3.8.6/envs/lewagon/lib/python3.8/site-packages/patsy/build.py\u001b[0m in \u001b[0;36m_eval_factor\u001b[0;34m(factor_info, data, NA_action)\u001b[0m\n\u001b[1;32m     62\u001b[0m     \u001b[0mfactor\u001b[0m \u001b[0;34m=\u001b[0m \u001b[0mfactor_info\u001b[0m\u001b[0;34m.\u001b[0m\u001b[0mfactor\u001b[0m\u001b[0;34m\u001b[0m\u001b[0;34m\u001b[0m\u001b[0m\n\u001b[0;32m---> 63\u001b[0;31m     \u001b[0mresult\u001b[0m \u001b[0;34m=\u001b[0m \u001b[0mfactor\u001b[0m\u001b[0;34m.\u001b[0m\u001b[0meval\u001b[0m\u001b[0;34m(\u001b[0m\u001b[0mfactor_info\u001b[0m\u001b[0;34m.\u001b[0m\u001b[0mstate\u001b[0m\u001b[0;34m,\u001b[0m \u001b[0mdata\u001b[0m\u001b[0;34m)\u001b[0m\u001b[0;34m\u001b[0m\u001b[0;34m\u001b[0m\u001b[0m\n\u001b[0m\u001b[1;32m     64\u001b[0m     \u001b[0;31m# Returns either a 2d ndarray, or a DataFrame, plus is_NA mask\u001b[0m\u001b[0;34m\u001b[0m\u001b[0;34m\u001b[0m\u001b[0;34m\u001b[0m\u001b[0m\n",
      "\u001b[0;32m~/.pyenv/versions/3.8.6/envs/lewagon/lib/python3.8/site-packages/patsy/eval.py\u001b[0m in \u001b[0;36meval\u001b[0;34m(self, memorize_state, data)\u001b[0m\n\u001b[1;32m    563\u001b[0m     \u001b[0;32mdef\u001b[0m \u001b[0meval\u001b[0m\u001b[0;34m(\u001b[0m\u001b[0mself\u001b[0m\u001b[0;34m,\u001b[0m \u001b[0mmemorize_state\u001b[0m\u001b[0;34m,\u001b[0m \u001b[0mdata\u001b[0m\u001b[0;34m)\u001b[0m\u001b[0;34m:\u001b[0m\u001b[0;34m\u001b[0m\u001b[0;34m\u001b[0m\u001b[0m\n\u001b[0;32m--> 564\u001b[0;31m         return self._eval(memorize_state[\"eval_code\"],\n\u001b[0m\u001b[1;32m    565\u001b[0m                           \u001b[0mmemorize_state\u001b[0m\u001b[0;34m,\u001b[0m\u001b[0;34m\u001b[0m\u001b[0;34m\u001b[0m\u001b[0m\n",
      "\u001b[0;32m~/.pyenv/versions/3.8.6/envs/lewagon/lib/python3.8/site-packages/patsy/eval.py\u001b[0m in \u001b[0;36m_eval\u001b[0;34m(self, code, memorize_state, data)\u001b[0m\n\u001b[1;32m    546\u001b[0m         \u001b[0minner_namespace\u001b[0m \u001b[0;34m=\u001b[0m \u001b[0mVarLookupDict\u001b[0m\u001b[0;34m(\u001b[0m\u001b[0;34m[\u001b[0m\u001b[0mdata\u001b[0m\u001b[0;34m,\u001b[0m \u001b[0mmemorize_state\u001b[0m\u001b[0;34m[\u001b[0m\u001b[0;34m\"transforms\"\u001b[0m\u001b[0;34m]\u001b[0m\u001b[0;34m]\u001b[0m\u001b[0;34m)\u001b[0m\u001b[0;34m\u001b[0m\u001b[0;34m\u001b[0m\u001b[0m\n\u001b[0;32m--> 547\u001b[0;31m         return call_and_wrap_exc(\"Error evaluating factor\",\n\u001b[0m\u001b[1;32m    548\u001b[0m                                  \u001b[0mself\u001b[0m\u001b[0;34m,\u001b[0m\u001b[0;34m\u001b[0m\u001b[0;34m\u001b[0m\u001b[0m\n",
      "\u001b[0;32m~/.pyenv/versions/3.8.6/envs/lewagon/lib/python3.8/site-packages/patsy/compat.py\u001b[0m in \u001b[0;36mcall_and_wrap_exc\u001b[0;34m(msg, origin, f, *args, **kwargs)\u001b[0m\n\u001b[1;32m     42\u001b[0m             \u001b[0;31m# Use 'exec' to hide this syntax from the Python 2 parser:\u001b[0m\u001b[0;34m\u001b[0m\u001b[0;34m\u001b[0m\u001b[0;34m\u001b[0m\u001b[0m\n\u001b[0;32m---> 43\u001b[0;31m             \u001b[0mexec\u001b[0m\u001b[0;34m(\u001b[0m\u001b[0;34m\"raise new_exc from e\"\u001b[0m\u001b[0;34m)\u001b[0m\u001b[0;34m\u001b[0m\u001b[0;34m\u001b[0m\u001b[0m\n\u001b[0m\u001b[1;32m     44\u001b[0m         \u001b[0;32melse\u001b[0m\u001b[0;34m:\u001b[0m\u001b[0;34m\u001b[0m\u001b[0;34m\u001b[0m\u001b[0m\n",
      "\u001b[0;32m~/.pyenv/versions/3.8.6/envs/lewagon/lib/python3.8/site-packages/patsy/compat.py\u001b[0m in \u001b[0;36m<module>\u001b[0;34m\u001b[0m\n",
      "\u001b[0;31mPatsyError\u001b[0m: Error evaluating factor: NameError: name 'months_on_olist' is not defined\n    seller_review_score ~ delay_to_carrier+ seller_wait_time+ months_on_olist+ n_orders+ quantity+ quantity_per_order+ sales\n                                                              ^^^^^^^^^^^^^^^",
      "\nDuring handling of the above exception, another exception occurred:\n",
      "\u001b[0;31mPatsyError\u001b[0m                                Traceback (most recent call last)",
      "\u001b[0;32m<ipython-input-110-ced49d431e47>\u001b[0m in \u001b[0;36m<module>\u001b[0;34m\u001b[0m\n\u001b[1;32m      1\u001b[0m \u001b[0msns\u001b[0m\u001b[0;34m.\u001b[0m\u001b[0mhistplot\u001b[0m\u001b[0;34m(\u001b[0m\u001b[0msellers\u001b[0m\u001b[0;34m[\u001b[0m\u001b[0;34m'seller_review_score'\u001b[0m\u001b[0;34m]\u001b[0m\u001b[0;34m,\u001b[0m \u001b[0mkde\u001b[0m\u001b[0;34m=\u001b[0m\u001b[0;32mTrue\u001b[0m\u001b[0;34m,\u001b[0m \u001b[0mstat\u001b[0m\u001b[0;34m=\u001b[0m\u001b[0;34m'density'\u001b[0m\u001b[0;34m,\u001b[0m \u001b[0mdiscrete\u001b[0m\u001b[0;34m=\u001b[0m\u001b[0;32mTrue\u001b[0m\u001b[0;34m)\u001b[0m\u001b[0;34m\u001b[0m\u001b[0;34m\u001b[0m\u001b[0m\n\u001b[0;32m----> 2\u001b[0;31m \u001b[0msns\u001b[0m\u001b[0;34m.\u001b[0m\u001b[0mhistplot\u001b[0m\u001b[0;34m(\u001b[0m\u001b[0mmodel\u001b[0m\u001b[0;34m.\u001b[0m\u001b[0mpredict\u001b[0m\u001b[0;34m(\u001b[0m\u001b[0msellers_standardized\u001b[0m\u001b[0;34m[\u001b[0m\u001b[0mfeatures\u001b[0m\u001b[0;34m]\u001b[0m\u001b[0;34m)\u001b[0m\u001b[0;34m,\u001b[0m \u001b[0mkde\u001b[0m\u001b[0;34m=\u001b[0m\u001b[0;32mTrue\u001b[0m\u001b[0;34m,\u001b[0m \u001b[0mstat\u001b[0m\u001b[0;34m=\u001b[0m\u001b[0;34m'density'\u001b[0m\u001b[0;34m,\u001b[0m \u001b[0mdiscrete\u001b[0m\u001b[0;34m=\u001b[0m\u001b[0;32mTrue\u001b[0m\u001b[0;34m)\u001b[0m\u001b[0;34m;\u001b[0m\u001b[0;34m\u001b[0m\u001b[0;34m\u001b[0m\u001b[0m\n\u001b[0m",
      "\u001b[0;32m~/.pyenv/versions/3.8.6/envs/lewagon/lib/python3.8/site-packages/statsmodels/base/model.py\u001b[0m in \u001b[0;36mpredict\u001b[0;34m(self, exog, transform, *args, **kwargs)\u001b[0m\n\u001b[1;32m   1081\u001b[0m                        \u001b[0;34m'\\n\\nThe original error message returned by patsy is:\\n'\u001b[0m\u001b[0;34m\u001b[0m\u001b[0;34m\u001b[0m\u001b[0m\n\u001b[1;32m   1082\u001b[0m                        '{0}'.format(str(str(exc))))\n\u001b[0;32m-> 1083\u001b[0;31m                 \u001b[0;32mraise\u001b[0m \u001b[0mexc\u001b[0m\u001b[0;34m.\u001b[0m\u001b[0m__class__\u001b[0m\u001b[0;34m(\u001b[0m\u001b[0mmsg\u001b[0m\u001b[0;34m)\u001b[0m\u001b[0;34m\u001b[0m\u001b[0;34m\u001b[0m\u001b[0m\n\u001b[0m\u001b[1;32m   1084\u001b[0m             \u001b[0;32mif\u001b[0m \u001b[0morig_exog_len\u001b[0m \u001b[0;34m>\u001b[0m \u001b[0mlen\u001b[0m\u001b[0;34m(\u001b[0m\u001b[0mexog\u001b[0m\u001b[0;34m)\u001b[0m \u001b[0;32mand\u001b[0m \u001b[0;32mnot\u001b[0m \u001b[0mis_dict\u001b[0m\u001b[0;34m:\u001b[0m\u001b[0;34m\u001b[0m\u001b[0;34m\u001b[0m\u001b[0m\n\u001b[1;32m   1085\u001b[0m                 \u001b[0;32mimport\u001b[0m \u001b[0mwarnings\u001b[0m\u001b[0;34m\u001b[0m\u001b[0;34m\u001b[0m\u001b[0m\n",
      "\u001b[0;31mPatsyError\u001b[0m: predict requires that you use a DataFrame when predicting from a model\nthat was created using the formula api.\n\nThe original error message returned by patsy is:\nError evaluating factor: NameError: name 'months_on_olist' is not defined\n    seller_review_score ~ delay_to_carrier+ seller_wait_time+ months_on_olist+ n_orders+ quantity+ quantity_per_order+ sales\n                                                              ^^^^^^^^^^^^^^^"
     ]
    },
    {
     "data": {
      "image/png": "[encoded data removed]",
      "text/plain": [
       "<Figure size 432x288 with 1 Axes>"
      ]
     },
     "metadata": {},
     "output_type": "display_data"
    }
   ],
   "source": [
    "sns.histplot(sellers['seller_review_score'], kde=True, stat='density', discrete=True)\n",
    "sns.histplot(model.predict(sellers_standardized[features]), kde=True, stat='density', discrete=True);\n"
   ]
  },
  {
   "cell_type": "code",
   "execution_count": null,
   "id": "1c484976",
   "metadata": {},
   "outputs": [],
   "source": [
    "sns.histplot(model.resid, kde=True, stat='density', discrete=True);"
   ]
  },
  {
   "cell_type": "code",
   "execution_count": null,
   "id": "5702ee5d",
   "metadata": {},
   "outputs": [],
   "source": [
    "plt.figure(figsize=(15,6))\n",
    "sns.heatmap(sellers.corr(), cmap='coolwarm');"
   ]
  },
  {
   "cell_type": "code",
   "execution_count": null,
   "id": "57ff218d",
   "metadata": {},
   "outputs": [],
   "source": [
    "plt.figure(figsize=(15,6))\n",
    "sns.heatmap(sellers.corr(method='spearman'), cmap='coolwarm');\n",
    "\n",
    "# for SPearman = One of the variable is categorical and ordered (ordinal)."
   ]
  },
  {
   "cell_type": "code",
   "execution_count": null,
   "id": "c22f1379",
   "metadata": {},
   "outputs": [],
   "source": []
  }
 ],
 "metadata": {
  "kernelspec": {
   "display_name": "Python 3",
   "language": "python",
   "name": "python3"
  },
  "language_info": {
   "codemirror_mode": {
    "name": "ipython",
    "version": 3
   },
   "file_extension": ".py",
   "mimetype": "text/x-python",
   "name": "python",
   "nbconvert_exporter": "python",
   "pygments_lexer": "ipython3",
   "version": "3.8.6"
  },
  "toc": {
   "base_numbering": 1,
   "nav_menu": {},
   "number_sections": true,
   "sideBar": true,
   "skip_h1_title": false,
   "title_cell": "Table of Contents",
   "title_sidebar": "Contents",
   "toc_cell": false,
   "toc_position": {},
   "toc_section_display": true,
   "toc_window_display": false
  }
 },
 "nbformat": 4,
 "nbformat_minor": 5
}
