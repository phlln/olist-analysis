{
 "cells": [
  {
   "cell_type": "markdown",
   "id": "59776271",
   "metadata": {},
   "source": [
    "# Sellers Data Analysis"
   ]
  },
  {
   "cell_type": "markdown",
   "id": "f5e499b9",
   "metadata": {},
   "source": [
    "Since our analysis of the orders dataset revealed that while `wait_time` was one of the more signicant factors in explaining `review_score`, the low R-squared suggested that there were other factors outside of the orders dataset.\n",
    "\n",
    "Here we'll look at the the sellers dataset to uncover which elements are associated with the `review_score`.\n",
    "\n",
    "If poor reviews are linked to particular sellers, perhaps we can identify the sellers who repeatedly perform poorly and try to understand why. \n",
    "\n",
    "We can then use this to respond to the CEO's request to improve Olist's profit margins."
   ]
  },
  {
   "cell_type": "code",
   "execution_count": 1,
   "id": "ca5c414d",
   "metadata": {},
   "outputs": [],
   "source": [
    "%load_ext autoreload\n",
    "%autoreload 2\n",
    "\n",
    "import pandas as pd\n",
    "import numpy as np\n",
    "import seaborn as sns\n",
    "import matplotlib.pyplot as plt\n",
    "import statsmodels.formula.api as smf\n",
    "from olist.data import Olist\n",
    "from olist.order import Order"
   ]
  },
  {
   "cell_type": "markdown",
   "id": "7b39b381",
   "metadata": {},
   "source": [
    "## Inspect Features"
   ]
  },
  {
   "cell_type": "code",
   "execution_count": 10,
   "id": "7fbd52c3",
   "metadata": {
    "scrolled": false
   },
   "outputs": [
    {
     "data": {
      "text/html": [
       "<div>\n",
       "<style scoped>\n",
       "    .dataframe tbody tr th:only-of-type {\n",
       "        vertical-align: middle;\n",
       "    }\n",
       "\n",
       "    .dataframe tbody tr th {\n",
       "        vertical-align: top;\n",
       "    }\n",
       "\n",
       "    .dataframe thead th {\n",
       "        text-align: right;\n",
       "    }\n",
       "</style>\n",
       "<table border=\"1\" class=\"dataframe\">\n",
       "  <thead>\n",
       "    <tr style=\"text-align: right;\">\n",
       "      <th></th>\n",
       "      <th>seller_id</th>\n",
       "      <th>seller_city</th>\n",
       "      <th>seller_state</th>\n",
       "      <th>delay_to_carrier</th>\n",
       "      <th>seller_wait_time</th>\n",
       "      <th>date_first_sale</th>\n",
       "      <th>date_last_sale</th>\n",
       "      <th>months_on_olist</th>\n",
       "      <th>share_of_one_stars</th>\n",
       "      <th>share_of_five_stars</th>\n",
       "      <th>seller_review_score</th>\n",
       "      <th>review_cost_per_seller</th>\n",
       "      <th>n_orders</th>\n",
       "      <th>quantity</th>\n",
       "      <th>quantity_per_order</th>\n",
       "      <th>sales</th>\n",
       "    </tr>\n",
       "  </thead>\n",
       "  <tbody>\n",
       "    <tr>\n",
       "      <th>0</th>\n",
       "      <td>3442f8959a84dea7ee197c632cb2df15</td>\n",
       "      <td>campinas</td>\n",
       "      <td>SP</td>\n",
       "      <td>0.000000</td>\n",
       "      <td>13.018588</td>\n",
       "      <td>2017-05-05 16:25:11</td>\n",
       "      <td>2017-08-30 12:50:19</td>\n",
       "      <td>4.0</td>\n",
       "      <td>0.333333</td>\n",
       "      <td>0.333333</td>\n",
       "      <td>3.00</td>\n",
       "      <td>140</td>\n",
       "      <td>3</td>\n",
       "      <td>3</td>\n",
       "      <td>1.000</td>\n",
       "      <td>218.70</td>\n",
       "    </tr>\n",
       "    <tr>\n",
       "      <th>1</th>\n",
       "      <td>d1b65fc7debc3361ea86b5f14c68d2e2</td>\n",
       "      <td>mogi guacu</td>\n",
       "      <td>SP</td>\n",
       "      <td>0.000000</td>\n",
       "      <td>9.065716</td>\n",
       "      <td>2017-03-29 02:10:34</td>\n",
       "      <td>2018-06-06 20:15:21</td>\n",
       "      <td>14.0</td>\n",
       "      <td>0.050000</td>\n",
       "      <td>0.725000</td>\n",
       "      <td>4.55</td>\n",
       "      <td>240</td>\n",
       "      <td>40</td>\n",
       "      <td>41</td>\n",
       "      <td>1.025</td>\n",
       "      <td>11703.07</td>\n",
       "    </tr>\n",
       "    <tr>\n",
       "      <th>2</th>\n",
       "      <td>ce3ad9de960102d0677a81f5d0bb7b2d</td>\n",
       "      <td>rio de janeiro</td>\n",
       "      <td>RJ</td>\n",
       "      <td>0.000000</td>\n",
       "      <td>4.042292</td>\n",
       "      <td>2018-07-30 12:44:49</td>\n",
       "      <td>2018-07-30 12:44:49</td>\n",
       "      <td>0.0</td>\n",
       "      <td>0.000000</td>\n",
       "      <td>1.000000</td>\n",
       "      <td>5.00</td>\n",
       "      <td>0</td>\n",
       "      <td>1</td>\n",
       "      <td>1</td>\n",
       "      <td>1.000</td>\n",
       "      <td>158.00</td>\n",
       "    </tr>\n",
       "    <tr>\n",
       "      <th>3</th>\n",
       "      <td>c0f3eea2e14555b6faeea3dd58c1b1c3</td>\n",
       "      <td>sao paulo</td>\n",
       "      <td>SP</td>\n",
       "      <td>0.000000</td>\n",
       "      <td>5.667187</td>\n",
       "      <td>2018-08-03 00:44:08</td>\n",
       "      <td>2018-08-03 00:44:08</td>\n",
       "      <td>0.0</td>\n",
       "      <td>0.000000</td>\n",
       "      <td>1.000000</td>\n",
       "      <td>5.00</td>\n",
       "      <td>0</td>\n",
       "      <td>1</td>\n",
       "      <td>1</td>\n",
       "      <td>1.000</td>\n",
       "      <td>79.99</td>\n",
       "    </tr>\n",
       "    <tr>\n",
       "      <th>4</th>\n",
       "      <td>51a04a8a6bdcb23deccc82b0b80742cf</td>\n",
       "      <td>braganca paulista</td>\n",
       "      <td>SP</td>\n",
       "      <td>3.353727</td>\n",
       "      <td>35.314861</td>\n",
       "      <td>2017-11-14 12:15:25</td>\n",
       "      <td>2017-11-14 12:15:25</td>\n",
       "      <td>0.0</td>\n",
       "      <td>1.000000</td>\n",
       "      <td>0.000000</td>\n",
       "      <td>1.00</td>\n",
       "      <td>100</td>\n",
       "      <td>1</td>\n",
       "      <td>1</td>\n",
       "      <td>1.000</td>\n",
       "      <td>167.99</td>\n",
       "    </tr>\n",
       "  </tbody>\n",
       "</table>\n",
       "</div>"
      ],
      "text/plain": [
       "                          seller_id        seller_city seller_state  \\\n",
       "0  3442f8959a84dea7ee197c632cb2df15           campinas           SP   \n",
       "1  d1b65fc7debc3361ea86b5f14c68d2e2         mogi guacu           SP   \n",
       "2  ce3ad9de960102d0677a81f5d0bb7b2d     rio de janeiro           RJ   \n",
       "3  c0f3eea2e14555b6faeea3dd58c1b1c3          sao paulo           SP   \n",
       "4  51a04a8a6bdcb23deccc82b0b80742cf  braganca paulista           SP   \n",
       "\n",
       "   delay_to_carrier  seller_wait_time     date_first_sale      date_last_sale  \\\n",
       "0          0.000000         13.018588 2017-05-05 16:25:11 2017-08-30 12:50:19   \n",
       "1          0.000000          9.065716 2017-03-29 02:10:34 2018-06-06 20:15:21   \n",
       "2          0.000000          4.042292 2018-07-30 12:44:49 2018-07-30 12:44:49   \n",
       "3          0.000000          5.667187 2018-08-03 00:44:08 2018-08-03 00:44:08   \n",
       "4          3.353727         35.314861 2017-11-14 12:15:25 2017-11-14 12:15:25   \n",
       "\n",
       "   months_on_olist  share_of_one_stars  share_of_five_stars  \\\n",
       "0              4.0            0.333333             0.333333   \n",
       "1             14.0            0.050000             0.725000   \n",
       "2              0.0            0.000000             1.000000   \n",
       "3              0.0            0.000000             1.000000   \n",
       "4              0.0            1.000000             0.000000   \n",
       "\n",
       "   seller_review_score  review_cost_per_seller  n_orders  quantity  \\\n",
       "0                 3.00                     140         3         3   \n",
       "1                 4.55                     240        40        41   \n",
       "2                 5.00                       0         1         1   \n",
       "3                 5.00                       0         1         1   \n",
       "4                 1.00                     100         1         1   \n",
       "\n",
       "   quantity_per_order     sales  \n",
       "0               1.000    218.70  \n",
       "1               1.025  11703.07  \n",
       "2               1.000    158.00  \n",
       "3               1.000     79.99  \n",
       "4               1.000    167.99  "
      ]
     },
     "execution_count": 10,
     "metadata": {},
     "output_type": "execute_result"
    }
   ],
   "source": [
    "from olist.seller import Seller\n",
    "seller = Seller()\n",
    "sellers = seller.get_training_data()\n",
    "sellers.head()"
   ]
  },
  {
   "cell_type": "code",
   "execution_count": 11,
   "id": "c626ae84",
   "metadata": {},
   "outputs": [
    {
     "data": {
      "text/plain": [
       "Index(['seller_id', 'seller_city', 'seller_state', 'delay_to_carrier',\n",
       "       'seller_wait_time', 'date_first_sale', 'date_last_sale',\n",
       "       'months_on_olist', 'share_of_one_stars', 'share_of_five_stars',\n",
       "       'seller_review_score', 'review_cost_per_seller', 'n_orders', 'quantity',\n",
       "       'quantity_per_order', 'sales'],\n",
       "      dtype='object')"
      ]
     },
     "execution_count": 11,
     "metadata": {},
     "output_type": "execute_result"
    }
   ],
   "source": [
    "sellers.columns"
   ]
  },
  {
   "cell_type": "code",
   "execution_count": 12,
   "id": "c4d37cb5",
   "metadata": {},
   "outputs": [
    {
     "data": {
      "text/html": [
       "<div>\n",
       "<style scoped>\n",
       "    .dataframe tbody tr th:only-of-type {\n",
       "        vertical-align: middle;\n",
       "    }\n",
       "\n",
       "    .dataframe tbody tr th {\n",
       "        vertical-align: top;\n",
       "    }\n",
       "\n",
       "    .dataframe thead th {\n",
       "        text-align: right;\n",
       "    }\n",
       "</style>\n",
       "<table border=\"1\" class=\"dataframe\">\n",
       "  <thead>\n",
       "    <tr style=\"text-align: right;\">\n",
       "      <th></th>\n",
       "      <th>delay_to_carrier</th>\n",
       "      <th>seller_wait_time</th>\n",
       "      <th>months_on_olist</th>\n",
       "      <th>share_of_one_stars</th>\n",
       "      <th>share_of_five_stars</th>\n",
       "      <th>seller_review_score</th>\n",
       "      <th>review_cost_per_seller</th>\n",
       "      <th>n_orders</th>\n",
       "      <th>quantity</th>\n",
       "      <th>quantity_per_order</th>\n",
       "      <th>sales</th>\n",
       "    </tr>\n",
       "  </thead>\n",
       "  <tbody>\n",
       "    <tr>\n",
       "      <th>count</th>\n",
       "      <td>2970.000000</td>\n",
       "      <td>2970.000000</td>\n",
       "      <td>2970.000000</td>\n",
       "      <td>2970.000000</td>\n",
       "      <td>2970.000000</td>\n",
       "      <td>2970.000000</td>\n",
       "      <td>2970.000000</td>\n",
       "      <td>2970.000000</td>\n",
       "      <td>2970.000000</td>\n",
       "      <td>2970.000000</td>\n",
       "      <td>2970.000000</td>\n",
       "    </tr>\n",
       "    <tr>\n",
       "      <th>mean</th>\n",
       "      <td>0.402786</td>\n",
       "      <td>12.160414</td>\n",
       "      <td>6.019529</td>\n",
       "      <td>0.124570</td>\n",
       "      <td>0.592130</td>\n",
       "      <td>4.086880</td>\n",
       "      <td>562.131313</td>\n",
       "      <td>33.617508</td>\n",
       "      <td>38.085185</td>\n",
       "      <td>1.162150</td>\n",
       "      <td>4566.515906</td>\n",
       "    </tr>\n",
       "    <tr>\n",
       "      <th>std</th>\n",
       "      <td>2.391687</td>\n",
       "      <td>7.103208</td>\n",
       "      <td>5.994240</td>\n",
       "      <td>0.191870</td>\n",
       "      <td>0.279057</td>\n",
       "      <td>0.810166</td>\n",
       "      <td>1941.000427</td>\n",
       "      <td>107.133714</td>\n",
       "      <td>122.417269</td>\n",
       "      <td>0.443348</td>\n",
       "      <td>14185.211617</td>\n",
       "    </tr>\n",
       "    <tr>\n",
       "      <th>min</th>\n",
       "      <td>0.000000</td>\n",
       "      <td>1.214178</td>\n",
       "      <td>0.000000</td>\n",
       "      <td>0.000000</td>\n",
       "      <td>0.000000</td>\n",
       "      <td>1.000000</td>\n",
       "      <td>0.000000</td>\n",
       "      <td>1.000000</td>\n",
       "      <td>1.000000</td>\n",
       "      <td>1.000000</td>\n",
       "      <td>6.500000</td>\n",
       "    </tr>\n",
       "    <tr>\n",
       "      <th>25%</th>\n",
       "      <td>0.000000</td>\n",
       "      <td>8.289263</td>\n",
       "      <td>1.000000</td>\n",
       "      <td>0.000000</td>\n",
       "      <td>0.478261</td>\n",
       "      <td>3.818424</td>\n",
       "      <td>0.000000</td>\n",
       "      <td>2.000000</td>\n",
       "      <td>3.000000</td>\n",
       "      <td>1.000000</td>\n",
       "      <td>239.800000</td>\n",
       "    </tr>\n",
       "    <tr>\n",
       "      <th>50%</th>\n",
       "      <td>0.000000</td>\n",
       "      <td>11.120969</td>\n",
       "      <td>4.000000</td>\n",
       "      <td>0.063856</td>\n",
       "      <td>0.600000</td>\n",
       "      <td>4.200000</td>\n",
       "      <td>100.000000</td>\n",
       "      <td>7.000000</td>\n",
       "      <td>8.000000</td>\n",
       "      <td>1.000000</td>\n",
       "      <td>893.500000</td>\n",
       "    </tr>\n",
       "    <tr>\n",
       "      <th>75%</th>\n",
       "      <td>0.000000</td>\n",
       "      <td>14.240673</td>\n",
       "      <td>10.000000</td>\n",
       "      <td>0.166667</td>\n",
       "      <td>0.750000</td>\n",
       "      <td>4.625000</td>\n",
       "      <td>380.000000</td>\n",
       "      <td>23.000000</td>\n",
       "      <td>26.000000</td>\n",
       "      <td>1.152009</td>\n",
       "      <td>3586.022500</td>\n",
       "    </tr>\n",
       "    <tr>\n",
       "      <th>max</th>\n",
       "      <td>45.434039</td>\n",
       "      <td>189.863160</td>\n",
       "      <td>23.000000</td>\n",
       "      <td>1.000000</td>\n",
       "      <td>1.000000</td>\n",
       "      <td>5.000000</td>\n",
       "      <td>40890.000000</td>\n",
       "      <td>1854.000000</td>\n",
       "      <td>2039.000000</td>\n",
       "      <td>15.000000</td>\n",
       "      <td>229472.630000</td>\n",
       "    </tr>\n",
       "  </tbody>\n",
       "</table>\n",
       "</div>"
      ],
      "text/plain": [
       "       delay_to_carrier  seller_wait_time  months_on_olist  \\\n",
       "count       2970.000000       2970.000000      2970.000000   \n",
       "mean           0.402786         12.160414         6.019529   \n",
       "std            2.391687          7.103208         5.994240   \n",
       "min            0.000000          1.214178         0.000000   \n",
       "25%            0.000000          8.289263         1.000000   \n",
       "50%            0.000000         11.120969         4.000000   \n",
       "75%            0.000000         14.240673        10.000000   \n",
       "max           45.434039        189.863160        23.000000   \n",
       "\n",
       "       share_of_one_stars  share_of_five_stars  seller_review_score  \\\n",
       "count         2970.000000          2970.000000          2970.000000   \n",
       "mean             0.124570             0.592130             4.086880   \n",
       "std              0.191870             0.279057             0.810166   \n",
       "min              0.000000             0.000000             1.000000   \n",
       "25%              0.000000             0.478261             3.818424   \n",
       "50%              0.063856             0.600000             4.200000   \n",
       "75%              0.166667             0.750000             4.625000   \n",
       "max              1.000000             1.000000             5.000000   \n",
       "\n",
       "       review_cost_per_seller     n_orders     quantity  quantity_per_order  \\\n",
       "count             2970.000000  2970.000000  2970.000000         2970.000000   \n",
       "mean               562.131313    33.617508    38.085185            1.162150   \n",
       "std               1941.000427   107.133714   122.417269            0.443348   \n",
       "min                  0.000000     1.000000     1.000000            1.000000   \n",
       "25%                  0.000000     2.000000     3.000000            1.000000   \n",
       "50%                100.000000     7.000000     8.000000            1.000000   \n",
       "75%                380.000000    23.000000    26.000000            1.152009   \n",
       "max              40890.000000  1854.000000  2039.000000           15.000000   \n",
       "\n",
       "               sales  \n",
       "count    2970.000000  \n",
       "mean     4566.515906  \n",
       "std     14185.211617  \n",
       "min         6.500000  \n",
       "25%       239.800000  \n",
       "50%       893.500000  \n",
       "75%      3586.022500  \n",
       "max    229472.630000  "
      ]
     },
     "execution_count": 12,
     "metadata": {},
     "output_type": "execute_result"
    }
   ],
   "source": [
    "# Get summary stats for each column\n",
    "sellers.describe()"
   ]
  },
  {
   "cell_type": "code",
   "execution_count": 13,
   "id": "91f87acc",
   "metadata": {},
   "outputs": [
    {
     "data": {
      "text/plain": [
       "Index(['delay_to_carrier', 'seller_wait_time', 'months_on_olist',\n",
       "       'share_of_one_stars', 'share_of_five_stars', 'seller_review_score',\n",
       "       'review_cost_per_seller', 'n_orders', 'quantity', 'quantity_per_order',\n",
       "       'sales'],\n",
       "      dtype='object')"
      ]
     },
     "execution_count": 13,
     "metadata": {},
     "output_type": "execute_result"
    }
   ],
   "source": [
    "sellers.describe().columns"
   ]
  },
  {
   "cell_type": "markdown",
   "id": "823bfbb9",
   "metadata": {},
   "source": [
    "## Distribution plots"
   ]
  },
  {
   "cell_type": "markdown",
   "id": "4820fd36",
   "metadata": {},
   "source": [
    "Let's look at the distributions of these features in relevant groupings"
   ]
  },
  {
   "cell_type": "markdown",
   "id": "14a51e5d",
   "metadata": {},
   "source": [
    "### Distribution for `delay_to_carrier`, `seller_wait_time`"
   ]
  },
  {
   "cell_type": "markdown",
   "id": "cfab20e3",
   "metadata": {},
   "source": [
    "`delay_to_carrier` represents the average delay (in days) by a seller of getting an order to the carrier and is calculated for each seller. We can see this as representing a delay in an order attributable to the seller.\n",
    "\n",
    "`seller_wait_time` represents the average `wait_time` (in days), from the customer placing an order online to getting delivery of the order, and is calculated per seller. \n",
    "(NOTE: this differs from the `wait_time` feature in the Orders dataset in that it has been calculated to be the average `wait_time` *for each seller*). \n",
    "\n"
   ]
  },
  {
   "cell_type": "code",
   "execution_count": null,
   "id": "35f7a26f",
   "metadata": {
    "scrolled": true
   },
   "outputs": [],
   "source": [
    "sns.set_style('darkgrid')\n",
    "fig, (ax1, ax2) = plt.subplots(1,2)\n",
    "plt.figure(figsize=(15,6)).suptitle('Distribution of Delivery-related Variables', fontsize=20)\n",
    "plt.close(1)\n",
    "\n",
    "# 'delay_to_carrier' histogram\n",
    "ax1 = plt.subplot(121)\n",
    "ax1 = sns.histplot(sellers.delay_to_carrier)\n",
    "plt.xlabel('delay_to_carrier (days)')\n",
    "\n",
    "# 'seller_wait_time' histogram\n",
    "ax2 = plt.subplot(122)\n",
    "ax2 = sns.histplot(sellers.seller_wait_time)\n",
    "plt.xlabel('seller_wait_time (days)')\n",
    "\n",
    "plt.show(); "
   ]
  },
  {
   "cell_type": "code",
   "execution_count": null,
   "id": "677e8227",
   "metadata": {
    "scrolled": true
   },
   "outputs": [],
   "source": [
    "sellers[['delay_to_carrier','seller_wait_time']].describe()"
   ]
  },
  {
   "cell_type": "markdown",
   "id": "975f228f",
   "metadata": {},
   "source": [
    "**Interpretation of Results**"
   ]
  },
  {
   "cell_type": "markdown",
   "id": "32ed967a",
   "metadata": {},
   "source": [
    "- From these distribution plots and summary stats, we can see that delays in the order caused by the seller are quite rare, and so `delay_to_carrier` may not have enough data points to provide a complete enough explanation for low review scores."
   ]
  },
  {
   "cell_type": "markdown",
   "id": "18b4607c",
   "metadata": {},
   "source": [
    "- While the plot for `seller_wait_time` is heavily right-skewed, this appears to be the effect of only a few outliers. The mean is still close to the median, and most sellers are clustered tightly around the center. The coefficient of variation (standard deviation / mean) also indicates low variance when less than one (7.10 / 12.16 = 0.58)."
   ]
  },
  {
   "cell_type": "code",
   "execution_count": null,
   "id": "d3611ad0",
   "metadata": {},
   "outputs": [],
   "source": [
    "# How many sellers contribute to delays?\n",
    "num_sellers_delay = len((sellers[sellers['delay_to_carrier'] > 0]))\n",
    "num_sellers_delay"
   ]
  },
  {
   "cell_type": "code",
   "execution_count": null,
   "id": "a0192740",
   "metadata": {},
   "outputs": [],
   "source": [
    "#What percentage of sellers contribute to delays?\n",
    "round(num_sellers_delay / len(sellers), 2) * 100"
   ]
  },
  {
   "cell_type": "code",
   "execution_count": null,
   "id": "94839950",
   "metadata": {},
   "outputs": [],
   "source": [
    "# What is the average review score for sellers that have delayed shipment to carriers?\n",
    "sellers[sellers['delay_to_carrier'] > 0].seller_review_score.mean()\n"
   ]
  },
  {
   "cell_type": "code",
   "execution_count": null,
   "id": "3bdfb1f2",
   "metadata": {},
   "outputs": [],
   "source": [
    "#How does that compare to the review score of all sellers? \n",
    "sellers.seller_review_score.mean()"
   ]
  },
  {
   "cell_type": "markdown",
   "id": "d051592e",
   "metadata": {},
   "source": [
    "With sellers who have had delayed shipment to carriers, there is a 0.78 (4.09 - 3.31) decrease in avg. review score. Let's keep 'delay_to_carrier' as a feature to include in OLS Regression since it appears to have an impact on customer reviews."
   ]
  },
  {
   "cell_type": "markdown",
   "id": "4867134f",
   "metadata": {},
   "source": [
    "Appears to be many new sellers on Olist platform. Include 'months_on_olist' as feature in OLS regression to see impact \n",
    "on customer reviews"
   ]
  },
  {
   "cell_type": "markdown",
   "id": "2eef5be7",
   "metadata": {},
   "source": [
    "### Distributions for `n_orders`, `quantity`, `quantity_per_order`, `sales`, `months_on_olist`"
   ]
  },
  {
   "cell_type": "markdown",
   "id": "e098f1b3",
   "metadata": {},
   "source": [
    "These variables indicate the various quantities related to the order  "
   ]
  },
  {
   "cell_type": "markdown",
   "id": "1f39859a",
   "metadata": {},
   "source": [
    "- `n_orders` the total number of orders a seller has had while on the platform.\n",
    "- `quantity` the total number of individual items sold by a seller\n",
    "- `quantity_per_order` the average number of items per order for a seller. This is derived from `n_orders` and `quantity`\n",
    "- `sales` the total sales (in BRL) each seller has earned"
   ]
  },
  {
   "cell_type": "markdown",
   "id": "4049bc43",
   "metadata": {},
   "source": [
    "Here we can see a large right skewed distribution of orders transacted by sellers. In fact the median `n_orders` is 7, and 75% of the sellers have had less than 23 orders on the platform. "
   ]
  },
  {
   "cell_type": "code",
   "execution_count": null,
   "id": "cee361ff",
   "metadata": {
    "scrolled": true
   },
   "outputs": [],
   "source": [
    "fig, (ax1, ax2, ax3, ax2) = plt.subplots(4,1)\n",
    "plt.figure(figsize=(15,6)).suptitle('Distribution for Order-size related Variables', fontsize=20)\n",
    "plt.close(1)\n",
    "\n",
    "#'n_orders'\n",
    "ax1 = plt.subplot(411)\n",
    "ax1 = sns.histplot(sellers.n_orders)\n",
    "plt.tight_layout()\n",
    "\n",
    "#'quantity'\n",
    "ax2 = plt.subplot(412)\n",
    "ax2 = sns.histplot(sellers.quantity)\n",
    "\n",
    "#'quantity_per_order'\n",
    "ax3 = plt.subplot(413)\n",
    "ax3 = sns.histplot(sellers.quantity_per_order)\n",
    "\n",
    "#'sales'\n",
    "ax3 = plt.subplot(414)\n",
    "ax3 = sns.histplot(sellers.sales)\n",
    "\n",
    "plt.show();"
   ]
  },
  {
   "cell_type": "code",
   "execution_count": null,
   "id": "75814c35",
   "metadata": {
    "scrolled": false
   },
   "outputs": [],
   "source": [
    "sellers[['n_orders', 'quantity', 'quantity_per_order', 'sales']].describe()"
   ]
  },
  {
   "cell_type": "markdown",
   "id": "0fd1d287",
   "metadata": {},
   "source": [
    "The outliers are quite extreme with these variables making the plots difficult to read. We'll re-plot them with an adjusted view that excludes outliers.\n"
   ]
  },
  {
   "cell_type": "code",
   "execution_count": null,
   "id": "ed728762",
   "metadata": {},
   "outputs": [],
   "source": [
    "# Outlier calculations (based on 1.5*IQR)\n",
    "\n",
    "features = ['n_orders', 'quantity', 'quantity_per_order', 'sales']\n",
    "\n",
    "max_xlim = []\n",
    "q3_xlim = []\n",
    "\n",
    "for f in features:\n",
    "    q3 = np.quantile(sellers[f], .75, axis=0) \n",
    "    q1 = np.quantile(sellers[f], .25, axis=0) \n",
    "    iqr = q3-q1 \n",
    "    outlier_x = 1.5*iqr\n",
    "    max_xlim.append(outlier_x)\n",
    "    q3_xlim.append(q3)\n",
    "\n",
    "max_xlim"
   ]
  },
  {
   "cell_type": "code",
   "execution_count": null,
   "id": "fab14ffd",
   "metadata": {
    "scrolled": true
   },
   "outputs": [],
   "source": [
    "# Re-plotting features with an adjusted view to exclude outliers\n",
    "fig, ((ax1, ax2), (ax3, ax4)) = plt.subplots(2,2)\n",
    "plt.figure(figsize=(15,6)).suptitle('Distribution for Order-size related Variables (Adjusted for Outliers)', fontsize=20)\n",
    "plt.close(1)\n",
    "\n",
    "#'n_orders'\n",
    "ax1 = plt.subplot(221)\n",
    "ax1 = sns.histplot(sellers.n_orders)\n",
    "ax1.set_xlim(0, q3_xlim[0] + max_xlim[0])\n",
    "\n",
    "#'quantity'\n",
    "ax2 = plt.subplot(222)\n",
    "ax2 = sns.histplot(sellers.quantity)\n",
    "ax2.set_xlim(0, q3_xlim[1] + max_xlim[1])\n",
    "\n",
    "#'quantity_per_order'\n",
    "ax3 = plt.subplot(223)\n",
    "ax3 = sns.histplot(sellers.quantity_per_order)\n",
    "ax3.set_xlim(1, q3_xlim[2] + max_xlim[2])\n",
    "\n",
    "#'sales'\n",
    "ax4 = plt.subplot(224)\n",
    "ax4 = sns.histplot(sellers.sales)\n",
    "ax4.set_xlabel('sales (BRL)')\n",
    "ax4.set_xlim(0, q3_xlim[3] + max_xlim[3])\n",
    "\n",
    "\n",
    "plt.show();"
   ]
  },
  {
   "cell_type": "markdown",
   "id": "2eebc604",
   "metadata": {},
   "source": [
    "**Interpretation of Results**"
   ]
  },
  {
   "cell_type": "markdown",
   "id": "f01b6c67",
   "metadata": {},
   "source": [
    "- Since both `n_orders` and `quantity` speak to the volume of product that sellers have sold, it's not surprising that their distribution is similar. However, `n_orders` can be more helpful as a gauge for experience that a seller has in processing orders. \n",
    "\n",
    "- With median `n_orders` of only **7**, the platform appears to have many sellers with a low number of transactions which could be a helpful feature in explaining low review scores\n",
    " \n",
    "- The distribution of `quantity_per_order` indicates that most orders deal with a single item. If each order had multiple items, then we might consider that mix-ups in orders could be a factor contributing to low review scores, but here we see a low occurrence of multiple-item orders.  \n",
    "\n",
    "- `sales` seem to follow a similar distribution with these other variables—a strong right skew, but with the bulk on the low end. Half of all sellers have generated less than **893.50 BRL** (~170 USD)."
   ]
  },
  {
   "cell_type": "markdown",
   "id": "f55ab54b",
   "metadata": {},
   "source": [
    "Another feature that might speak more directly to the experience of the seller is `months_on_olist`, which tells how long a seller has been on the platform."
   ]
  },
  {
   "cell_type": "code",
   "execution_count": null,
   "id": "2cbebc46",
   "metadata": {
    "scrolled": true
   },
   "outputs": [],
   "source": [
    "# 'months_on_olist' histogram\n",
    "plt.figure(figsize=(15,6))\n",
    "sns.histplot(sellers.months_on_olist)\n",
    "plt.show()           "
   ]
  },
  {
   "cell_type": "code",
   "execution_count": null,
   "id": "8d2c3054",
   "metadata": {
    "scrolled": true
   },
   "outputs": [],
   "source": [
    "# Summary stats \n",
    "sellers[['months_on_olist']].describe()"
   ]
  },
  {
   "cell_type": "markdown",
   "id": "44ce1651",
   "metadata": {},
   "source": [
    "- As a fairly new platform, we can see that the oldest sellers have been using Olist for only **23 months**. And, half of all sellers have only been using the platform for **4 months or less**. \n",
    "\n",
    "\n",
    "\n",
    "\n"
   ]
  },
  {
   "cell_type": "markdown",
   "id": "07c2ecb0",
   "metadata": {},
   "source": [
    "### Distribution of `seller_review_score`, `share_of_one_stars`, `share_of_five_stars`"
   ]
  },
  {
   "cell_type": "markdown",
   "id": "7e1850d4",
   "metadata": {},
   "source": [
    "These variables indicate how sellers have been performing based on customer feedback.   \n",
    "\n",
    "- `seller_review_score`: the average score of a seller's reviews \n",
    "- `share_of_one_stars`: the proportion of a seller's reviews with only one star \n",
    "- `share_of_five_stars`: the proportion of a seller's reviews with fives stars\n"
   ]
  },
  {
   "cell_type": "code",
   "execution_count": null,
   "id": "84f226c7",
   "metadata": {
    "scrolled": false
   },
   "outputs": [],
   "source": [
    "fig, (ax1, ax2, ax3) = plt.subplots(1,3)\n",
    "plt.close(1)\n",
    "plt.figure(figsize=(15,8)).suptitle('Distribution of Review-related Variables', fontsize=20)\n",
    "\n",
    "#'seller_review_score'\n",
    "ax1 = plt.subplot(131)\n",
    "ax1 = sns.histplot(sellers.seller_review_score)\n",
    "\n",
    "#'share_of_one_stars'\n",
    "ax2 = plt.subplot(132)\n",
    "ax2 = sns.histplot(sellers.share_of_one_stars)\n",
    "\n",
    "#'share_of_five_stars'\n",
    "ax3 = plt.subplot(133)\n",
    "ax3 = sns.histplot(sellers.share_of_five_stars)\n",
    "plt.show();"
   ]
  },
  {
   "cell_type": "code",
   "execution_count": null,
   "id": "174ccc1b",
   "metadata": {},
   "outputs": [],
   "source": [
    "sellers[['seller_review_score', 'share_of_one_stars', 'share_of_five_stars']].describe()"
   ]
  },
  {
   "cell_type": "markdown",
   "id": "986ffa00",
   "metadata": {},
   "source": [
    "**Interpretation of plots**\n",
    "\n",
    "With these distribution plots, we can see what proportion of sellers have been performing badly with low review scores. This will help us identify and set thresholds for sellers who might be candidates for removal from the platform, or who may be in need of more assistance in improving quality.    "
   ]
  },
  {
   "cell_type": "markdown",
   "id": "f93a098a",
   "metadata": {},
   "source": [
    "- From our histogram and statistical summary, we can see that the average `seller_review_score` is **close to 4** (mean=4.087), while those receiving an average score of **3 or less** already fall into the bottom 25% of seller performance (Q1=3.82). "
   ]
  },
  {
   "cell_type": "markdown",
   "id": "7f4848ad",
   "metadata": {},
   "source": [
    "- Examining `share_of_one_stars`, we see that **75% of all sellers** only see a small portion (less than a sixth of reviews, Q3=0.167) of their sales receiving a one-star rating. For the remaining 25% of sellers who are getting a higher proportion of one-star reviews, we can scrutinize their performance further."
   ]
  },
  {
   "cell_type": "markdown",
   "id": "7bc86c83",
   "metadata": {},
   "source": [
    "- With `share_of_five_stars` we see a W-shaped distribution with three peaks. On the far right, we have a large number of 'super-performers' who have only ever gotten a five-star review. Then we have two smaller peaks occurring a) the center, where only half of their reviews received a 'superb' five-star review, and b) the far left, where a substantial number have never gotten the highest review score. \n",
    "\n",
    "For a fairer assessment that takes into consideration the total number of reviews each seller has received, we could explore assigning weights to each 1-star (or 5-star review) that are proportional to the total number of reviews received (i.e. we could control that a seller with a hundred 5-star reviews but a single 1-star review, would still rank higher than a seller with only ten reviews but which are all 5-stars).        "
   ]
  },
  {
   "cell_type": "markdown",
   "id": "c1698244",
   "metadata": {},
   "source": [
    "## Correlations"
   ]
  },
  {
   "cell_type": "markdown",
   "id": "6295a196",
   "metadata": {},
   "source": [
    "Let's check out the correlations between different features in the Sellers dataset"
   ]
  },
  {
   "cell_type": "code",
   "execution_count": null,
   "id": "4617a72a",
   "metadata": {},
   "outputs": [],
   "source": [
    "plt.figure(figsize=(15,6))\n",
    "sns.heatmap(sellers.corr(), cmap='coolwarm');"
   ]
  },
  {
   "cell_type": "code",
   "execution_count": null,
   "id": "662806fe",
   "metadata": {},
   "outputs": [],
   "source": [
    "sellers.corr()['seller_review_score']"
   ]
  },
  {
   "cell_type": "markdown",
   "id": "67a7d84b",
   "metadata": {},
   "source": [
    "Among features that aren't derived from `seller_review_score`, like the Orders dataset we have features that capture delivery time such as `delay_to_carrier` (r=-0.33) and `seller_wait_time` (r=-0.42) having the largest correlation with `seller_review_score`. "
   ]
  },
  {
   "cell_type": "markdown",
   "id": "8584784f",
   "metadata": {},
   "source": [
    "And, since `seller_wait_time` includes the time a seller ships to the carrier, it makes sense that it is also correlated with `delay_to_carrier`."
   ]
  },
  {
   "cell_type": "code",
   "execution_count": null,
   "id": "cd94cc71",
   "metadata": {},
   "outputs": [],
   "source": [
    "# correlation between 'seller_wait_time' and 'delay_to_carrier'\n",
    "sellers.corr()['seller_wait_time']['delay_to_carrier']"
   ]
  },
  {
   "cell_type": "markdown",
   "id": "56db58f1",
   "metadata": {},
   "source": [
    "# Multivariate Regression  "
   ]
  },
  {
   "cell_type": "markdown",
   "id": "e6beaac5",
   "metadata": {},
   "source": [
    "We'll now run a multivariate regression model with select features from the Sellers dataset to better understand their impact on `seller_review_score`. "
   ]
  },
  {
   "cell_type": "markdown",
   "id": "29a20293",
   "metadata": {},
   "source": [
    "To make sure we'll be able to compare the coefficents for features in different units, we'll first do some feature scaling. Since many of the features have outliers, we'll use the standardization approach over normalization\n",
    "since standardization does not scale the features based on the range of values. "
   ]
  },
  {
   "cell_type": "code",
   "execution_count": null,
   "id": "44a54dcc",
   "metadata": {},
   "outputs": [],
   "source": [
    "# Apply feature scaling \n",
    "\n",
    "def standardize(df, features): \n",
    "    df_standardized = df.copy()\n",
    "    for f in features:\n",
    "        mu = df[f].mean()\n",
    "        sigma = df[f].std()\n",
    "        df_standardized[f] = df[f].map(lambda x: (x - mu) / sigma)\n",
    "    return df_standardized\n"
   ]
  },
  {
   "cell_type": "markdown",
   "id": "14c7b270",
   "metadata": {},
   "source": [
    "Select features and run a multi-variate linear regression model to determine how much each feature impacts `seller_review_score`"
   ]
  },
  {
   "cell_type": "code",
   "execution_count": null,
   "id": "db7a781c",
   "metadata": {},
   "outputs": [],
   "source": [
    "features = ['delay_to_carrier', 'seller_wait_time', 'months_on_olist', 'n_orders', 'quantity', 'quantity_per_order', 'sales']\n",
    "sellers_standardized = standardize(sellers, features)\n",
    "model = smf.ols(formula=f\"seller_review_score ~ {'+ '.join(features)}\", data=sellers_standardized).fit()"
   ]
  },
  {
   "cell_type": "code",
   "execution_count": null,
   "id": "bb4a3e24",
   "metadata": {},
   "outputs": [],
   "source": [
    "model.summary()"
   ]
  },
  {
   "cell_type": "markdown",
   "id": "709a1488",
   "metadata": {},
   "source": [
    "**Interpretation of Results**\n",
    "\n",
    "- This model has a low R2 (~0.20) suggesting that the currently selected features only explain 20% of the variance found in the review scores. Also, the lower value for Adj. R-squared (0.199) suggests that we may have extra features in our model that are contributing more to noise than actually providing information on factors contributing to our target variable. \n",
    "- The f-proba shows that our R2 is statistically significant and that it performs better than a model without any features.\n",
    "- The coefficients for the features `months_on_olist`, `n_orders`, `quantity`, and `sales` are not statistically significant as their p-values are not less than our chosen alpha of 0.05. \n",
    "- Additionally, we see that a value of 0 falls within the 95% confidence interval for these features. Since a zero coefficient would indicate that \"the feature has no impact on the target variable (i.e. our null hypothesis)\", this would mean we can't reject the null hypothesis and that that the given coefficients for these features are not reliable. "
   ]
  },
  {
   "cell_type": "markdown",
   "id": "0b124f1a",
   "metadata": {},
   "source": [
    "Now let's remove the non-reliable features and run another regression model."
   ]
  },
  {
   "cell_type": "code",
   "execution_count": null,
   "id": "30e22642",
   "metadata": {},
   "outputs": [],
   "source": [
    "# Revised feature selection\n",
    "features = ['delay_to_carrier', 'seller_wait_time', 'quantity_per_order']\n",
    "sellers_standardized = standardize(sellers, features)\n",
    "revised_model = smf.ols(formula=f\"seller_review_score ~ {'+ '.join(features)}\", data=sellers_standardized).fit()"
   ]
  },
  {
   "cell_type": "code",
   "execution_count": null,
   "id": "0aa8aacc",
   "metadata": {
    "scrolled": true
   },
   "outputs": [],
   "source": [
    "revised_model.summary()"
   ]
  },
  {
   "cell_type": "markdown",
   "id": "20779ecc",
   "metadata": {},
   "source": [
    "**Interpretation of Results**\n",
    "\n",
    "- With this reduced set of features, our model is still only able to explain about 20% of the variance in the seller review scores (R2=0.20). \n"
   ]
  },
  {
   "cell_type": "code",
   "execution_count": null,
   "id": "bbb342ae",
   "metadata": {},
   "outputs": [],
   "source": [
    "model.params"
   ]
  },
  {
   "cell_type": "code",
   "execution_count": null,
   "id": "a30f2f01",
   "metadata": {},
   "outputs": [],
   "source": [
    "model.params[1:].sort_values().plot(kind='barh');"
   ]
  },
  {
   "cell_type": "code",
   "execution_count": null,
   "id": "411808f4",
   "metadata": {},
   "outputs": [],
   "source": [
    "RMSE"
   ]
  },
  {
   "cell_type": "code",
   "execution_count": null,
   "id": "44d431c2",
   "metadata": {},
   "outputs": [],
   "source": [
    "model.rsquared"
   ]
  },
  {
   "cell_type": "code",
   "execution_count": null,
   "id": "02658c3c",
   "metadata": {},
   "outputs": [],
   "source": [
    "sns.histplot(sellers['seller_review_score'], kde=True, stat='density', discrete=True)\n",
    "sns.histplot(model.predict(sellers_standardized[features]), kde=True, stat='density', discrete=True);\n"
   ]
  },
  {
   "cell_type": "code",
   "execution_count": null,
   "id": "1c484976",
   "metadata": {},
   "outputs": [],
   "source": [
    "sns.histplot(model.resid, kde=True, stat='density', discrete=True);"
   ]
  },
  {
   "cell_type": "code",
   "execution_count": null,
   "id": "5702ee5d",
   "metadata": {},
   "outputs": [],
   "source": [
    "plt.figure(figsize=(15,6))\n",
    "sns.heatmap(sellers.corr(), cmap='coolwarm');"
   ]
  },
  {
   "cell_type": "code",
   "execution_count": null,
   "id": "57ff218d",
   "metadata": {},
   "outputs": [],
   "source": [
    "plt.figure(figsize=(15,6))\n",
    "sns.heatmap(sellers.corr(method='spearman'), cmap='coolwarm');\n",
    "\n",
    "# for SPearman = One of the variable is categorical and ordered (ordinal)."
   ]
  },
  {
   "cell_type": "markdown",
   "id": "fa2c2437",
   "metadata": {},
   "source": [
    " # Logistic Regression"
   ]
  },
  {
   "cell_type": "markdown",
   "id": "f04d6704",
   "metadata": {},
   "source": [
    "The poor performance of our linear regression model is likely explained by the fact that our target variable (`seller_review_score`) is a categorical variable (five star rating system). \n",
    "\n",
    "Since logistic regressions are better able to capture the relationship between features and a categorical target variable, let's try that with our Sellers data."
   ]
  },
  {
   "cell_type": "code",
   "execution_count": null,
   "id": "866c2419",
   "metadata": {},
   "outputs": [],
   "source": []
  }
 ],
 "metadata": {
  "kernelspec": {
   "display_name": "Python 3",
   "language": "python",
   "name": "python3"
  },
  "language_info": {
   "codemirror_mode": {
    "name": "ipython",
    "version": 3
   },
   "file_extension": ".py",
   "mimetype": "text/x-python",
   "name": "python",
   "nbconvert_exporter": "python",
   "pygments_lexer": "ipython3",
   "version": "3.8.6"
  },
  "toc": {
   "base_numbering": 1,
   "nav_menu": {},
   "number_sections": true,
   "sideBar": true,
   "skip_h1_title": true,
   "title_cell": "Table of Contents",
   "title_sidebar": "Contents",
   "toc_cell": false,
   "toc_position": {},
   "toc_section_display": true,
   "toc_window_display": false
  }
 },
 "nbformat": 4,
 "nbformat_minor": 5
}
