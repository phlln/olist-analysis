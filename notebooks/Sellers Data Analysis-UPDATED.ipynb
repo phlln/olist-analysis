{
 "cells": [
  {
   "cell_type": "markdown",
   "id": "59776271",
   "metadata": {},
   "source": [
    "# Sellers Data Analysis"
   ]
  },
  {
   "cell_type": "code",
   "execution_count": 1,
   "id": "ca5c414d",
   "metadata": {},
   "outputs": [],
   "source": [
    "%load_ext autoreload\n",
    "%autoreload 2\n",
    "\n",
    "import pandas as pd\n",
    "import numpy as np\n",
    "import seaborn as sns\n",
    "import matplotlib.pyplot as plt\n",
    "import statsmodels.formula.api as smf\n"
   ]
  },
  {
   "cell_type": "code",
   "execution_count": 2,
   "id": "7fbd52c3",
   "metadata": {},
   "outputs": [
    {
     "data": {
      "text/html": [
       "<div>\n",
       "<style scoped>\n",
       "    .dataframe tbody tr th:only-of-type {\n",
       "        vertical-align: middle;\n",
       "    }\n",
       "\n",
       "    .dataframe tbody tr th {\n",
       "        vertical-align: top;\n",
       "    }\n",
       "\n",
       "    .dataframe thead th {\n",
       "        text-align: right;\n",
       "    }\n",
       "</style>\n",
       "<table border=\"1\" class=\"dataframe\">\n",
       "  <thead>\n",
       "    <tr style=\"text-align: right;\">\n",
       "      <th></th>\n",
       "      <th>seller_id</th>\n",
       "      <th>seller_city</th>\n",
       "      <th>seller_state</th>\n",
       "      <th>delay_to_carrier</th>\n",
       "      <th>wait_time</th>\n",
       "      <th>date_first_sale</th>\n",
       "      <th>date_last_sale</th>\n",
       "      <th>months_on_olist</th>\n",
       "      <th>share_of_one_stars</th>\n",
       "      <th>share_of_five_stars</th>\n",
       "      <th>review_score</th>\n",
       "      <th>cost_of_reviews</th>\n",
       "      <th>n_orders</th>\n",
       "      <th>quantity</th>\n",
       "      <th>quantity_per_order</th>\n",
       "      <th>sales</th>\n",
       "      <th>revenues</th>\n",
       "      <th>profits</th>\n",
       "      <th>revenue</th>\n",
       "      <th>profits_before_it_costs</th>\n",
       "    </tr>\n",
       "  </thead>\n",
       "  <tbody>\n",
       "    <tr>\n",
       "      <th>0</th>\n",
       "      <td>3442f8959a84dea7ee197c632cb2df15</td>\n",
       "      <td>campinas</td>\n",
       "      <td>SP</td>\n",
       "      <td>0.000000</td>\n",
       "      <td>13.018588</td>\n",
       "      <td>2017-05-05 16:25:11</td>\n",
       "      <td>2017-08-30 12:50:19</td>\n",
       "      <td>4.0</td>\n",
       "      <td>0.333333</td>\n",
       "      <td>0.333333</td>\n",
       "      <td>3.00</td>\n",
       "      <td>140</td>\n",
       "      <td>3</td>\n",
       "      <td>3</td>\n",
       "      <td>1.000</td>\n",
       "      <td>218.70</td>\n",
       "      <td>341.870</td>\n",
       "      <td>201.870</td>\n",
       "      <td>341.870</td>\n",
       "      <td>201.870</td>\n",
       "    </tr>\n",
       "    <tr>\n",
       "      <th>1</th>\n",
       "      <td>d1b65fc7debc3361ea86b5f14c68d2e2</td>\n",
       "      <td>mogi guacu</td>\n",
       "      <td>SP</td>\n",
       "      <td>0.000000</td>\n",
       "      <td>9.065716</td>\n",
       "      <td>2017-03-29 02:10:34</td>\n",
       "      <td>2018-06-06 20:15:21</td>\n",
       "      <td>15.0</td>\n",
       "      <td>0.050000</td>\n",
       "      <td>0.725000</td>\n",
       "      <td>4.55</td>\n",
       "      <td>240</td>\n",
       "      <td>40</td>\n",
       "      <td>41</td>\n",
       "      <td>1.025</td>\n",
       "      <td>11703.07</td>\n",
       "      <td>2290.307</td>\n",
       "      <td>2050.307</td>\n",
       "      <td>2370.307</td>\n",
       "      <td>2130.307</td>\n",
       "    </tr>\n",
       "    <tr>\n",
       "      <th>2</th>\n",
       "      <td>ce3ad9de960102d0677a81f5d0bb7b2d</td>\n",
       "      <td>rio de janeiro</td>\n",
       "      <td>RJ</td>\n",
       "      <td>0.000000</td>\n",
       "      <td>4.042292</td>\n",
       "      <td>2018-07-30 12:44:49</td>\n",
       "      <td>2018-07-30 12:44:49</td>\n",
       "      <td>1.0</td>\n",
       "      <td>0.000000</td>\n",
       "      <td>1.000000</td>\n",
       "      <td>5.00</td>\n",
       "      <td>0</td>\n",
       "      <td>1</td>\n",
       "      <td>1</td>\n",
       "      <td>1.000</td>\n",
       "      <td>158.00</td>\n",
       "      <td>15.800</td>\n",
       "      <td>15.800</td>\n",
       "      <td>95.800</td>\n",
       "      <td>95.800</td>\n",
       "    </tr>\n",
       "    <tr>\n",
       "      <th>3</th>\n",
       "      <td>c0f3eea2e14555b6faeea3dd58c1b1c3</td>\n",
       "      <td>sao paulo</td>\n",
       "      <td>SP</td>\n",
       "      <td>0.000000</td>\n",
       "      <td>5.667187</td>\n",
       "      <td>2018-08-03 00:44:08</td>\n",
       "      <td>2018-08-03 00:44:08</td>\n",
       "      <td>1.0</td>\n",
       "      <td>0.000000</td>\n",
       "      <td>1.000000</td>\n",
       "      <td>5.00</td>\n",
       "      <td>0</td>\n",
       "      <td>1</td>\n",
       "      <td>1</td>\n",
       "      <td>1.000</td>\n",
       "      <td>79.99</td>\n",
       "      <td>7.999</td>\n",
       "      <td>7.999</td>\n",
       "      <td>87.999</td>\n",
       "      <td>87.999</td>\n",
       "    </tr>\n",
       "    <tr>\n",
       "      <th>4</th>\n",
       "      <td>51a04a8a6bdcb23deccc82b0b80742cf</td>\n",
       "      <td>braganca paulista</td>\n",
       "      <td>SP</td>\n",
       "      <td>3.353727</td>\n",
       "      <td>35.314861</td>\n",
       "      <td>2017-11-14 12:15:25</td>\n",
       "      <td>2017-11-14 12:15:25</td>\n",
       "      <td>1.0</td>\n",
       "      <td>1.000000</td>\n",
       "      <td>0.000000</td>\n",
       "      <td>1.00</td>\n",
       "      <td>100</td>\n",
       "      <td>1</td>\n",
       "      <td>1</td>\n",
       "      <td>1.000</td>\n",
       "      <td>167.99</td>\n",
       "      <td>16.799</td>\n",
       "      <td>-83.201</td>\n",
       "      <td>96.799</td>\n",
       "      <td>-3.201</td>\n",
       "    </tr>\n",
       "  </tbody>\n",
       "</table>\n",
       "</div>"
      ],
      "text/plain": [
       "                          seller_id        seller_city seller_state  \\\n",
       "0  3442f8959a84dea7ee197c632cb2df15           campinas           SP   \n",
       "1  d1b65fc7debc3361ea86b5f14c68d2e2         mogi guacu           SP   \n",
       "2  ce3ad9de960102d0677a81f5d0bb7b2d     rio de janeiro           RJ   \n",
       "3  c0f3eea2e14555b6faeea3dd58c1b1c3          sao paulo           SP   \n",
       "4  51a04a8a6bdcb23deccc82b0b80742cf  braganca paulista           SP   \n",
       "\n",
       "   delay_to_carrier  wait_time     date_first_sale      date_last_sale  \\\n",
       "0          0.000000  13.018588 2017-05-05 16:25:11 2017-08-30 12:50:19   \n",
       "1          0.000000   9.065716 2017-03-29 02:10:34 2018-06-06 20:15:21   \n",
       "2          0.000000   4.042292 2018-07-30 12:44:49 2018-07-30 12:44:49   \n",
       "3          0.000000   5.667187 2018-08-03 00:44:08 2018-08-03 00:44:08   \n",
       "4          3.353727  35.314861 2017-11-14 12:15:25 2017-11-14 12:15:25   \n",
       "\n",
       "   months_on_olist  share_of_one_stars  share_of_five_stars  review_score  \\\n",
       "0              4.0            0.333333             0.333333          3.00   \n",
       "1             15.0            0.050000             0.725000          4.55   \n",
       "2              1.0            0.000000             1.000000          5.00   \n",
       "3              1.0            0.000000             1.000000          5.00   \n",
       "4              1.0            1.000000             0.000000          1.00   \n",
       "\n",
       "   cost_of_reviews  n_orders  quantity  quantity_per_order     sales  \\\n",
       "0              140         3         3               1.000    218.70   \n",
       "1              240        40        41               1.025  11703.07   \n",
       "2                0         1         1               1.000    158.00   \n",
       "3                0         1         1               1.000     79.99   \n",
       "4              100         1         1               1.000    167.99   \n",
       "\n",
       "   revenues   profits   revenue  profits_before_it_costs  \n",
       "0   341.870   201.870   341.870                  201.870  \n",
       "1  2290.307  2050.307  2370.307                 2130.307  \n",
       "2    15.800    15.800    95.800                   95.800  \n",
       "3     7.999     7.999    87.999                   87.999  \n",
       "4    16.799   -83.201    96.799                   -3.201  "
      ]
     },
     "execution_count": 2,
     "metadata": {},
     "output_type": "execute_result"
    }
   ],
   "source": [
    "# Plot distribution of numerical variables in sellers dataset\n",
    "\n",
    "from olist.seller import Seller\n",
    "seller = Seller()\n",
    "sellers = seller.get_training_data()\n",
    "sellers.head()"
   ]
  },
  {
   "cell_type": "code",
   "execution_count": 3,
   "id": "c4d37cb5",
   "metadata": {},
   "outputs": [
    {
     "data": {
      "text/html": [
       "<div>\n",
       "<style scoped>\n",
       "    .dataframe tbody tr th:only-of-type {\n",
       "        vertical-align: middle;\n",
       "    }\n",
       "\n",
       "    .dataframe tbody tr th {\n",
       "        vertical-align: top;\n",
       "    }\n",
       "\n",
       "    .dataframe thead th {\n",
       "        text-align: right;\n",
       "    }\n",
       "</style>\n",
       "<table border=\"1\" class=\"dataframe\">\n",
       "  <thead>\n",
       "    <tr style=\"text-align: right;\">\n",
       "      <th></th>\n",
       "      <th>delay_to_carrier</th>\n",
       "      <th>wait_time</th>\n",
       "      <th>months_on_olist</th>\n",
       "      <th>share_of_one_stars</th>\n",
       "      <th>share_of_five_stars</th>\n",
       "      <th>review_score</th>\n",
       "      <th>cost_of_reviews</th>\n",
       "      <th>n_orders</th>\n",
       "      <th>quantity</th>\n",
       "      <th>quantity_per_order</th>\n",
       "      <th>sales</th>\n",
       "      <th>revenues</th>\n",
       "      <th>profits</th>\n",
       "      <th>revenue</th>\n",
       "      <th>profits_before_it_costs</th>\n",
       "    </tr>\n",
       "  </thead>\n",
       "  <tbody>\n",
       "    <tr>\n",
       "      <th>count</th>\n",
       "      <td>2970.000000</td>\n",
       "      <td>2970.000000</td>\n",
       "      <td>2970.000000</td>\n",
       "      <td>2970.000000</td>\n",
       "      <td>2970.000000</td>\n",
       "      <td>2970.000000</td>\n",
       "      <td>2970.000000</td>\n",
       "      <td>2970.000000</td>\n",
       "      <td>2970.000000</td>\n",
       "      <td>2970.000000</td>\n",
       "      <td>2970.000000</td>\n",
       "      <td>2970.000000</td>\n",
       "      <td>2970.000000</td>\n",
       "      <td>2970.000000</td>\n",
       "      <td>2970.000000</td>\n",
       "    </tr>\n",
       "    <tr>\n",
       "      <th>mean</th>\n",
       "      <td>0.402786</td>\n",
       "      <td>12.160414</td>\n",
       "      <td>6.619192</td>\n",
       "      <td>0.124570</td>\n",
       "      <td>0.592130</td>\n",
       "      <td>4.086880</td>\n",
       "      <td>562.131313</td>\n",
       "      <td>33.617508</td>\n",
       "      <td>38.085185</td>\n",
       "      <td>1.162150</td>\n",
       "      <td>4566.515906</td>\n",
       "      <td>938.213880</td>\n",
       "      <td>376.082567</td>\n",
       "      <td>986.186944</td>\n",
       "      <td>424.055631</td>\n",
       "    </tr>\n",
       "    <tr>\n",
       "      <th>std</th>\n",
       "      <td>2.391687</td>\n",
       "      <td>7.103208</td>\n",
       "      <td>5.914010</td>\n",
       "      <td>0.191870</td>\n",
       "      <td>0.279057</td>\n",
       "      <td>0.810166</td>\n",
       "      <td>1941.000427</td>\n",
       "      <td>107.133714</td>\n",
       "      <td>122.417269</td>\n",
       "      <td>0.443348</td>\n",
       "      <td>14185.211617</td>\n",
       "      <td>1660.107616</td>\n",
       "      <td>1276.183916</td>\n",
       "      <td>1655.679175</td>\n",
       "      <td>1274.295160</td>\n",
       "    </tr>\n",
       "    <tr>\n",
       "      <th>min</th>\n",
       "      <td>0.000000</td>\n",
       "      <td>1.214178</td>\n",
       "      <td>1.000000</td>\n",
       "      <td>0.000000</td>\n",
       "      <td>0.000000</td>\n",
       "      <td>1.000000</td>\n",
       "      <td>0.000000</td>\n",
       "      <td>1.000000</td>\n",
       "      <td>1.000000</td>\n",
       "      <td>1.000000</td>\n",
       "      <td>6.500000</td>\n",
       "      <td>0.650000</td>\n",
       "      <td>-22499.517000</td>\n",
       "      <td>80.650000</td>\n",
       "      <td>-22419.517000</td>\n",
       "    </tr>\n",
       "    <tr>\n",
       "      <th>25%</th>\n",
       "      <td>0.000000</td>\n",
       "      <td>8.289263</td>\n",
       "      <td>1.000000</td>\n",
       "      <td>0.000000</td>\n",
       "      <td>0.478261</td>\n",
       "      <td>3.818424</td>\n",
       "      <td>0.000000</td>\n",
       "      <td>2.000000</td>\n",
       "      <td>3.000000</td>\n",
       "      <td>1.000000</td>\n",
       "      <td>239.800000</td>\n",
       "      <td>119.946750</td>\n",
       "      <td>19.892500</td>\n",
       "      <td>173.099250</td>\n",
       "      <td>93.000000</td>\n",
       "    </tr>\n",
       "    <tr>\n",
       "      <th>50%</th>\n",
       "      <td>0.000000</td>\n",
       "      <td>11.120969</td>\n",
       "      <td>4.000000</td>\n",
       "      <td>0.063856</td>\n",
       "      <td>0.600000</td>\n",
       "      <td>4.200000</td>\n",
       "      <td>100.000000</td>\n",
       "      <td>7.000000</td>\n",
       "      <td>8.000000</td>\n",
       "      <td>1.000000</td>\n",
       "      <td>893.500000</td>\n",
       "      <td>460.221000</td>\n",
       "      <td>250.859500</td>\n",
       "      <td>504.049000</td>\n",
       "      <td>285.790500</td>\n",
       "    </tr>\n",
       "    <tr>\n",
       "      <th>75%</th>\n",
       "      <td>0.000000</td>\n",
       "      <td>14.240673</td>\n",
       "      <td>10.000000</td>\n",
       "      <td>0.166667</td>\n",
       "      <td>0.750000</td>\n",
       "      <td>4.625000</td>\n",
       "      <td>380.000000</td>\n",
       "      <td>23.000000</td>\n",
       "      <td>26.000000</td>\n",
       "      <td>1.152009</td>\n",
       "      <td>3586.022500</td>\n",
       "      <td>1183.160250</td>\n",
       "      <td>676.667750</td>\n",
       "      <td>1223.955000</td>\n",
       "      <td>720.593750</td>\n",
       "    </tr>\n",
       "    <tr>\n",
       "      <th>max</th>\n",
       "      <td>45.434039</td>\n",
       "      <td>189.863160</td>\n",
       "      <td>23.000000</td>\n",
       "      <td>1.000000</td>\n",
       "      <td>1.000000</td>\n",
       "      <td>5.000000</td>\n",
       "      <td>40890.000000</td>\n",
       "      <td>1854.000000</td>\n",
       "      <td>2039.000000</td>\n",
       "      <td>15.000000</td>\n",
       "      <td>229472.630000</td>\n",
       "      <td>24387.263000</td>\n",
       "      <td>17967.605000</td>\n",
       "      <td>24387.263000</td>\n",
       "      <td>17967.605000</td>\n",
       "    </tr>\n",
       "  </tbody>\n",
       "</table>\n",
       "</div>"
      ],
      "text/plain": [
       "       delay_to_carrier    wait_time  months_on_olist  share_of_one_stars  \\\n",
       "count       2970.000000  2970.000000      2970.000000         2970.000000   \n",
       "mean           0.402786    12.160414         6.619192            0.124570   \n",
       "std            2.391687     7.103208         5.914010            0.191870   \n",
       "min            0.000000     1.214178         1.000000            0.000000   \n",
       "25%            0.000000     8.289263         1.000000            0.000000   \n",
       "50%            0.000000    11.120969         4.000000            0.063856   \n",
       "75%            0.000000    14.240673        10.000000            0.166667   \n",
       "max           45.434039   189.863160        23.000000            1.000000   \n",
       "\n",
       "       share_of_five_stars  review_score  cost_of_reviews     n_orders  \\\n",
       "count          2970.000000   2970.000000      2970.000000  2970.000000   \n",
       "mean              0.592130      4.086880       562.131313    33.617508   \n",
       "std               0.279057      0.810166      1941.000427   107.133714   \n",
       "min               0.000000      1.000000         0.000000     1.000000   \n",
       "25%               0.478261      3.818424         0.000000     2.000000   \n",
       "50%               0.600000      4.200000       100.000000     7.000000   \n",
       "75%               0.750000      4.625000       380.000000    23.000000   \n",
       "max               1.000000      5.000000     40890.000000  1854.000000   \n",
       "\n",
       "          quantity  quantity_per_order          sales      revenues  \\\n",
       "count  2970.000000         2970.000000    2970.000000   2970.000000   \n",
       "mean     38.085185            1.162150    4566.515906    938.213880   \n",
       "std     122.417269            0.443348   14185.211617   1660.107616   \n",
       "min       1.000000            1.000000       6.500000      0.650000   \n",
       "25%       3.000000            1.000000     239.800000    119.946750   \n",
       "50%       8.000000            1.000000     893.500000    460.221000   \n",
       "75%      26.000000            1.152009    3586.022500   1183.160250   \n",
       "max    2039.000000           15.000000  229472.630000  24387.263000   \n",
       "\n",
       "            profits       revenue  profits_before_it_costs  \n",
       "count   2970.000000   2970.000000              2970.000000  \n",
       "mean     376.082567    986.186944               424.055631  \n",
       "std     1276.183916   1655.679175              1274.295160  \n",
       "min   -22499.517000     80.650000            -22419.517000  \n",
       "25%       19.892500    173.099250                93.000000  \n",
       "50%      250.859500    504.049000               285.790500  \n",
       "75%      676.667750   1223.955000               720.593750  \n",
       "max    17967.605000  24387.263000             17967.605000  "
      ]
     },
     "execution_count": 3,
     "metadata": {},
     "output_type": "execute_result"
    }
   ],
   "source": [
    "sellers.describe()"
   ]
  },
  {
   "cell_type": "code",
   "execution_count": 4,
   "id": "91f87acc",
   "metadata": {},
   "outputs": [
    {
     "data": {
      "text/plain": [
       "Index(['delay_to_carrier', 'wait_time', 'months_on_olist',\n",
       "       'share_of_one_stars', 'share_of_five_stars', 'review_score',\n",
       "       'cost_of_reviews', 'n_orders', 'quantity', 'quantity_per_order',\n",
       "       'sales', 'revenues', 'profits', 'revenue', 'profits_before_it_costs'],\n",
       "      dtype='object')"
      ]
     },
     "execution_count": 4,
     "metadata": {},
     "output_type": "execute_result"
    }
   ],
   "source": [
    "sellers.describe().columns"
   ]
  },
  {
   "cell_type": "code",
   "execution_count": 6,
   "id": "d0ce5e35",
   "metadata": {},
   "outputs": [],
   "source": [
    "\n",
    "# plt.figure(figsize=(15,11))\n",
    "\n",
    "\n",
    "# #select columns that are numerical variables for plotting distribution\n",
    "# numerical_features = ['delay_to_carrier', 'wait_time', 'months_on_olist',\n",
    "#        'share_of_one_stars', 'share_of_five_stars', 'review_score',\n",
    "#        'cost_of_reviews', 'n_orders', 'quantity', 'quantity_per_order',\n",
    "#        'sales', 'revenues', 'profits', 'revenue', 'profits_before_it_costs']\n",
    "\n",
    "\n",
    "# for (i, col) in enumerate(numerical_features):\n",
    "#     plt.subplot(3,5,i+1)\n",
    "#     sns.histplot(sellers[col], kde=False, stat='density', discrete=True)\n",
    " \n",
    "    "
   ]
  },
  {
   "cell_type": "markdown",
   "id": "f73cc524",
   "metadata": {},
   "source": [
    "# Plots - Distribution"
   ]
  },
  {
   "cell_type": "code",
   "execution_count": 7,
   "id": "08d118d6",
   "metadata": {},
   "outputs": [],
   "source": [
    "# delay_to_carrier: number of days beyond deadline (if any) carrier receives shipment from seller. This would represent\n",
    "# any delay in the customer's order that can be attributable to the seller\n",
    "\n",
    "# wait_time: the entire time from customer purchase to customer receipt of order. Since wait_time includes the time\n",
    "# a seller ships to the carrier, it is correlated with delay_to_carrier. \n"
   ]
  },
  {
   "cell_type": "code",
   "execution_count": 40,
   "id": "48362c1b",
   "metadata": {
    "scrolled": true
   },
   "outputs": [
    {
     "data": {
      "image/png": "[encoded data removed]",
      "text/plain": [
       "<Figure size 432x288 with 1 Axes>"
      ]
     },
     "metadata": {
      "needs_background": "light"
     },
     "output_type": "display_data"
    }
   ],
   "source": [
    "# delay_to_carrier.histogram\n",
    "sns.histplot(sellers['delay_to_carrier'])\n",
    "plt.xlabel('delay_to_carrier (days)')\n",
    "\n",
    "                     "
   ]
  },
  {
   "cell_type": "code",
   "execution_count": 33,
   "id": "291902e5",
   "metadata": {},
   "outputs": [
    {
     "data": {
      "text/plain": [
       "243"
      ]
     },
     "execution_count": 33,
     "metadata": {},
     "output_type": "execute_result"
    }
   ],
   "source": [
    "#How many sellers contribute to delays?\n",
    "num_sellers_delay = len((sellers[sellers['delay_to_carrier'] > 0]))\n",
    "num_sellers_delay"
   ]
  },
  {
   "cell_type": "code",
   "execution_count": 32,
   "id": "79086dde",
   "metadata": {},
   "outputs": [
    {
     "data": {
      "text/plain": [
       "8.0"
      ]
     },
     "execution_count": 32,
     "metadata": {},
     "output_type": "execute_result"
    }
   ],
   "source": [
    "#What percentage of sellers contribute to delays?\n",
    "round(num_sellers_delay / len(sellers), 2) * 100"
   ]
  },
  {
   "cell_type": "code",
   "execution_count": 35,
   "id": "0c0dc6c6",
   "metadata": {},
   "outputs": [
    {
     "data": {
      "text/plain": [
       "3.3051861527612707"
      ]
     },
     "execution_count": 35,
     "metadata": {},
     "output_type": "execute_result"
    }
   ],
   "source": [
    "# What is the average review score for sellers that have delayed shipment to carriers?\n",
    "sellers[sellers['delay_to_carrier'] > 0].review_score.mean()\n"
   ]
  },
  {
   "cell_type": "code",
   "execution_count": 36,
   "id": "e39a3dc4",
   "metadata": {},
   "outputs": [
    {
     "data": {
      "text/plain": [
       "4.086880345061921"
      ]
     },
     "execution_count": 36,
     "metadata": {},
     "output_type": "execute_result"
    }
   ],
   "source": [
    "#How does that compare to the review score of all sellers? \n",
    "sellers.review_score.mean()"
   ]
  },
  {
   "cell_type": "markdown",
   "id": "1c2e2047",
   "metadata": {},
   "source": [
    "With sellers who have had delayed shipment to carriers, there is a 0.78 (4.09 - 3.31) decrease in avg. review score. Let's keep 'delay_to_carrier' as a feature to include in OLS Regression since it appears to have an impact on customer reviews."
   ]
  },
  {
   "cell_type": "code",
   "execution_count": null,
   "id": "9d4108a0",
   "metadata": {},
   "outputs": [],
   "source": [
    "# wait_time.histogram"
   ]
  },
  {
   "cell_type": "code",
   "execution_count": 44,
   "id": "50561067",
   "metadata": {
    "scrolled": true
   },
   "outputs": [
    {
     "data": {
      "image/png": "[encoded data removed]",
      "text/plain": [
       "<Figure size 432x288 with 1 Axes>"
      ]
     },
     "metadata": {
      "needs_background": "light"
     },
     "output_type": "display_data"
    }
   ],
   "source": [
    "sns.histplot(sellers.wait_time)\n",
    "plt.xlabel('wait_time (days)');"
   ]
  },
  {
   "cell_type": "code",
   "execution_count": 50,
   "id": "b981155b",
   "metadata": {},
   "outputs": [
    {
     "data": {
      "image/png": "[encoded data removed]",
      "text/plain": [
       "<Figure size 432x288 with 1 Axes>"
      ]
     },
     "metadata": {
      "needs_background": "light"
     },
     "output_type": "display_data"
    }
   ],
   "source": [
    "# months_on_olist: how long the seller has been on the platform. This serves as a proxy for experience, but also\n",
    "# for sellers to establish a reputation on the platform\n",
    "sns.histplot(sellers.months_on_olist)\n",
    "plt.axvline(x=sellers.months_on_olist.mean(), color='red');\n"
   ]
  },
  {
   "cell_type": "markdown",
   "id": "51e2897b",
   "metadata": {},
   "source": [
    "Appears to be many new sellers on Olist platform. Include 'months_on_olist' as feature in OLS regression to see impact \n",
    "on customer reviews"
   ]
  },
  {
   "cell_type": "markdown",
   "id": "8c3f680c",
   "metadata": {},
   "source": [
    "### Features based on order quantity "
   ]
  },
  {
   "cell_type": "code",
   "execution_count": 62,
   "id": "6f64d7dc",
   "metadata": {},
   "outputs": [
    {
     "data": {
      "image/png": "[encoded data removed]",
      "text/plain": [
       "<Figure size 1080x432 with 1 Axes>"
      ]
     },
     "metadata": {
      "needs_background": "light"
     },
     "output_type": "display_data"
    }
   ],
   "source": [
    "# 'n_orders': number of orders the seller has had on the platform. This also can help serve as a proxy for experience in\n",
    "# handling orders.  \n",
    "plt.figure(figsize=(15, 6))\n",
    "sns.histplot(sellers.n_orders);\n"
   ]
  },
  {
   "cell_type": "markdown",
   "id": "f694bbfe",
   "metadata": {},
   "source": [
    "Here we can see a large right skewed distribution of orders transacted by sellers. In fact the median 'n_order' is 7, and 75% of the sellers have had less than 23 orders on the platform. "
   ]
  },
  {
   "cell_type": "code",
   "execution_count": 66,
   "id": "ba6584e8",
   "metadata": {},
   "outputs": [
    {
     "name": "stderr",
     "output_type": "stream",
     "text": [
      "/Users/atat/.pyenv/versions/3.8.6/envs/lewagon/lib/python3.8/site-packages/seaborn/_decorators.py:36: FutureWarning: Pass the following variable as a keyword arg: x. From version 0.12, the only valid positional argument will be `data`, and passing other arguments without an explicit keyword will result in an error or misinterpretation.\n",
      "  warnings.warn(\n"
     ]
    },
    {
     "data": {
      "image/png": "[encoded data removed]",
      "text/plain": [
       "<Figure size 1080x432 with 1 Axes>"
      ]
     },
     "metadata": {
      "needs_background": "light"
     },
     "output_type": "display_data"
    }
   ],
   "source": [
    "plt.figure(figsize=(15,6))\n",
    "sns.boxplot(sellers.n_orders);"
   ]
  },
  {
   "cell_type": "code",
   "execution_count": null,
   "id": "2dea8cb5",
   "metadata": {},
   "outputs": [],
   "source": [
    "# quantity: the total number of individual items sold by seller\n",
    "# quantity_per_order: the average number of items per order for the seller. Derived from 'n_orders' and 'quantity'"
   ]
  },
  {
   "cell_type": "code",
   "execution_count": 68,
   "id": "ae0157b5",
   "metadata": {},
   "outputs": [
    {
     "data": {
      "image/png": "[encoded data removed]",
      "text/plain": [
       "<Figure size 1080x432 with 1 Axes>"
      ]
     },
     "metadata": {
      "needs_background": "light"
     },
     "output_type": "display_data"
    }
   ],
   "source": [
    "# quantity.histogram\n",
    "plt.figure(figsize=(15,6))\n",
    "sns.histplot(sellers.quantity);"
   ]
  },
  {
   "cell_type": "code",
   "execution_count": 71,
   "id": "3c620cee",
   "metadata": {
    "scrolled": true
   },
   "outputs": [
    {
     "data": {
      "image/png": "[encoded data removed]",
      "text/plain": [
       "<Figure size 1080x432 with 1 Axes>"
      ]
     },
     "metadata": {
      "needs_background": "light"
     },
     "output_type": "display_data"
    }
   ],
   "source": [
    "# quantity_per_order\n",
    "plt.figure(figsize=(15,6))\n",
    "sns.histplot(sellers.quantity_per_order);"
   ]
  },
  {
   "cell_type": "code",
   "execution_count": null,
   "id": "c6e3b1dc",
   "metadata": {},
   "outputs": [],
   "source": [
    "# TARGET VARIABLES: feedback from customer via reviews\n",
    "# share_of_one_stars: proportion of all reviews seller received that got five stars\n",
    "# share_of_five_stars: proportion of all reviews seller received that got one star\n",
    "# review_score: average score of all reviews seller received"
   ]
  },
  {
   "cell_type": "code",
   "execution_count": 73,
   "id": "e98308ea",
   "metadata": {},
   "outputs": [
    {
     "data": {
      "image/png": "[encoded data removed]",
      "text/plain": [
       "<Figure size 432x288 with 1 Axes>"
      ]
     },
     "metadata": {
      "needs_background": "light"
     },
     "output_type": "display_data"
    }
   ],
   "source": [
    "#review_score.histogram\n",
    "\n",
    "sns.histplot(sellers.review_score);\n",
    "\n"
   ]
  },
  {
   "cell_type": "code",
   "execution_count": 76,
   "id": "62ae149c",
   "metadata": {
    "scrolled": true
   },
   "outputs": [
    {
     "data": {
      "image/png": "[encoded data removed]",
      "text/plain": [
       "<Figure size 432x288 with 1 Axes>"
      ]
     },
     "metadata": {
      "needs_background": "light"
     },
     "output_type": "display_data"
    }
   ],
   "source": [
    "#share_of_five_stars.histogram\n",
    "sns.histplot(sellers.share_of_five_stars);\n"
   ]
  },
  {
   "cell_type": "markdown",
   "id": "782168eb",
   "metadata": {},
   "source": [
    "There is a W-shaped distribution here. A large number of sellers have only ever gotten five-star reviews, while we see smaller peaks at both a) received 5-stars for half their transactions, and b) in none of their transactions. For a more fair assessment that takes into account the number of reviews a seller has received, we could find assign a weight to each 5-star review, so it's proportional to the number of total reviews received. "
   ]
  },
  {
   "cell_type": "code",
   "execution_count": 78,
   "id": "87132339",
   "metadata": {
    "scrolled": false
   },
   "outputs": [
    {
     "data": {
      "image/png": "[encoded data removed]",
      "text/plain": [
       "<Figure size 432x288 with 1 Axes>"
      ]
     },
     "metadata": {
      "needs_background": "light"
     },
     "output_type": "display_data"
    }
   ],
   "source": [
    "#share_of_one_stars.histogram\n",
    "sns.histplot(sellers.share_of_one_stars);\n"
   ]
  },
  {
   "cell_type": "markdown",
   "id": "303bd31f",
   "metadata": {},
   "source": [
    "The vast majority of sellers don't receive any one-star reviews."
   ]
  },
  {
   "cell_type": "markdown",
   "id": "56db58f1",
   "metadata": {},
   "source": [
    "# Model out review_score with OLS"
   ]
  },
  {
   "cell_type": "code",
   "execution_count": 80,
   "id": "44a54dcc",
   "metadata": {},
   "outputs": [],
   "source": [
    "#Applying some feature scaling. Due to large number of outliers among the features, will use standardization over normalization \n",
    "#since it does not require scaling based on the range of values. \n",
    "\n",
    "def standardize(df, features): \n",
    "    df_standardized = df.copy()\n",
    "    for f in features:\n",
    "        mu = df[f].mean()\n",
    "        sigma = df[f].std()\n",
    "        df_standardized[f] = df[f].map(lambda x: (x - mu) / sigma)\n",
    "    return df_standardized\n"
   ]
  },
  {
   "cell_type": "code",
   "execution_count": null,
   "id": "db7a781c",
   "metadata": {},
   "outputs": [],
   "source": [
    "# Decide which features to analyze impact on review_score\n",
    "features = ['delay_to_carrier', 'wait_time', 'n_orders', 'quantity', 'quantity_per_order', 'sales']\n",
    "sellers_standardized = standardize(sellers, features)\n",
    "model = smf.ols(formula=f\"review_score ~ {'+ '.join(features)}\", data=sellers_standardized).fit()"
   ]
  },
  {
   "cell_type": "code",
   "execution_count": null,
   "id": "bbb342ae",
   "metadata": {},
   "outputs": [],
   "source": [
    "model.params"
   ]
  },
  {
   "cell_type": "code",
   "execution_count": null,
   "id": "a30f2f01",
   "metadata": {},
   "outputs": [],
   "source": [
    "model.params[1:].sort_values().plot(kind='barh');"
   ]
  },
  {
   "cell_type": "code",
   "execution_count": null,
   "id": "44d431c2",
   "metadata": {},
   "outputs": [],
   "source": [
    "model.rsquared"
   ]
  },
  {
   "cell_type": "code",
   "execution_count": null,
   "id": "02658c3c",
   "metadata": {},
   "outputs": [],
   "source": [
    "sns.histplot(sellers['review_score'], kde=True, stat='density', discrete=True)\n",
    "sns.histplot(model.predict(sellers_standardized[features]), kde=True, stat='density', discrete=True);\n"
   ]
  },
  {
   "cell_type": "code",
   "execution_count": null,
   "id": "1c484976",
   "metadata": {},
   "outputs": [],
   "source": [
    "sns.histplot(model.resid, kde=True, stat='density', discrete=True);"
   ]
  },
  {
   "cell_type": "code",
   "execution_count": null,
   "id": "5702ee5d",
   "metadata": {},
   "outputs": [],
   "source": []
  },
  {
   "cell_type": "code",
   "execution_count": null,
   "id": "57ff218d",
   "metadata": {},
   "outputs": [],
   "source": []
  }
 ],
 "metadata": {
  "kernelspec": {
   "display_name": "Python 3",
   "language": "python",
   "name": "python3"
  },
  "language_info": {
   "codemirror_mode": {
    "name": "ipython",
    "version": 3
   },
   "file_extension": ".py",
   "mimetype": "text/x-python",
   "name": "python",
   "nbconvert_exporter": "python",
   "pygments_lexer": "ipython3",
   "version": "3.8.6"
  },
  "toc": {
   "base_numbering": 1,
   "nav_menu": {},
   "number_sections": true,
   "sideBar": true,
   "skip_h1_title": false,
   "title_cell": "Table of Contents",
   "title_sidebar": "Contents",
   "toc_cell": false,
   "toc_position": {},
   "toc_section_display": true,
   "toc_window_display": false
  }
 },
 "nbformat": 4,
 "nbformat_minor": 5
}
