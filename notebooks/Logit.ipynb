{
 "cells": [
  {
   "cell_type": "code",
   "execution_count": 2,
   "id": "f47afc74",
   "metadata": {},
   "outputs": [],
   "source": [
    "%load_ext autoreload\n",
    "%autoreload 2\n",
    "\n",
    "import pandas as pd\n",
    "import seaborn as sns\n",
    "import statsmodels.api as sm\n",
    "import statsmodels.formula.api as smf\n",
    "import matplotlib.pyplot as plt\n"
   ]
  },
  {
   "cell_type": "code",
   "execution_count": 3,
   "id": "b04bc1b0",
   "metadata": {},
   "outputs": [],
   "source": [
    "from olist.order import Order"
   ]
  },
  {
   "cell_type": "code",
   "execution_count": 4,
   "id": "c1c77da8",
   "metadata": {},
   "outputs": [
    {
     "data": {
      "text/plain": [
       "Index(['order_id', 'wait_time', 'expected_wait_time', 'delay_vs_expected',\n",
       "       'order_status', 'dim_is_five_star', 'dim_is_one_star', 'review_score',\n",
       "       'number_of_products', 'number_of_sellers', 'price', 'freight_value',\n",
       "       'distance_seller_customer'],\n",
       "      dtype='object')"
      ]
     },
     "execution_count": 4,
     "metadata": {},
     "output_type": "execute_result"
    }
   ],
   "source": [
    "orders = Order().get_training_data(with_distance_seller_customer=True)\n",
    "orders.columns"
   ]
  },
  {
   "cell_type": "code",
   "execution_count": 5,
   "id": "08244ebf",
   "metadata": {},
   "outputs": [],
   "source": [
    "features = ['wait_time','delay_vs_expected', 'number_of_products', 'number_of_sellers', 'price', 'freight_value',\n",
    "       'distance_seller_customer']"
   ]
  },
  {
   "cell_type": "code",
   "execution_count": 6,
   "id": "2c2e1b93",
   "metadata": {},
   "outputs": [
    {
     "data": {
      "text/html": [
       "<div>\n",
       "<style scoped>\n",
       "    .dataframe tbody tr th:only-of-type {\n",
       "        vertical-align: middle;\n",
       "    }\n",
       "\n",
       "    .dataframe tbody tr th {\n",
       "        vertical-align: top;\n",
       "    }\n",
       "\n",
       "    .dataframe thead th {\n",
       "        text-align: right;\n",
       "    }\n",
       "</style>\n",
       "<table border=\"1\" class=\"dataframe\">\n",
       "  <thead>\n",
       "    <tr style=\"text-align: right;\">\n",
       "      <th></th>\n",
       "      <th>wait_time</th>\n",
       "      <th>delay_vs_expected</th>\n",
       "      <th>number_of_products</th>\n",
       "      <th>number_of_sellers</th>\n",
       "      <th>price</th>\n",
       "      <th>freight_value</th>\n",
       "      <th>distance_seller_customer</th>\n",
       "    </tr>\n",
       "  </thead>\n",
       "  <tbody>\n",
       "    <tr>\n",
       "      <th>0</th>\n",
       "      <td>8.436574</td>\n",
       "      <td>0.0</td>\n",
       "      <td>1</td>\n",
       "      <td>1</td>\n",
       "      <td>29.99</td>\n",
       "      <td>8.72</td>\n",
       "      <td>18.063837</td>\n",
       "    </tr>\n",
       "    <tr>\n",
       "      <th>1</th>\n",
       "      <td>13.782037</td>\n",
       "      <td>0.0</td>\n",
       "      <td>1</td>\n",
       "      <td>1</td>\n",
       "      <td>118.70</td>\n",
       "      <td>22.76</td>\n",
       "      <td>856.292580</td>\n",
       "    </tr>\n",
       "    <tr>\n",
       "      <th>2</th>\n",
       "      <td>9.394213</td>\n",
       "      <td>0.0</td>\n",
       "      <td>1</td>\n",
       "      <td>1</td>\n",
       "      <td>159.90</td>\n",
       "      <td>19.22</td>\n",
       "      <td>514.130333</td>\n",
       "    </tr>\n",
       "    <tr>\n",
       "      <th>3</th>\n",
       "      <td>13.208750</td>\n",
       "      <td>0.0</td>\n",
       "      <td>1</td>\n",
       "      <td>1</td>\n",
       "      <td>45.00</td>\n",
       "      <td>27.20</td>\n",
       "      <td>1822.800366</td>\n",
       "    </tr>\n",
       "    <tr>\n",
       "      <th>4</th>\n",
       "      <td>2.873877</td>\n",
       "      <td>0.0</td>\n",
       "      <td>1</td>\n",
       "      <td>1</td>\n",
       "      <td>19.90</td>\n",
       "      <td>8.72</td>\n",
       "      <td>30.174037</td>\n",
       "    </tr>\n",
       "    <tr>\n",
       "      <th>...</th>\n",
       "      <td>...</td>\n",
       "      <td>...</td>\n",
       "      <td>...</td>\n",
       "      <td>...</td>\n",
       "      <td>...</td>\n",
       "      <td>...</td>\n",
       "      <td>...</td>\n",
       "    </tr>\n",
       "    <tr>\n",
       "      <th>96528</th>\n",
       "      <td>8.218009</td>\n",
       "      <td>0.0</td>\n",
       "      <td>1</td>\n",
       "      <td>1</td>\n",
       "      <td>72.00</td>\n",
       "      <td>13.08</td>\n",
       "      <td>69.481037</td>\n",
       "    </tr>\n",
       "    <tr>\n",
       "      <th>96529</th>\n",
       "      <td>22.193727</td>\n",
       "      <td>0.0</td>\n",
       "      <td>1</td>\n",
       "      <td>1</td>\n",
       "      <td>174.90</td>\n",
       "      <td>20.10</td>\n",
       "      <td>474.098245</td>\n",
       "    </tr>\n",
       "    <tr>\n",
       "      <th>96530</th>\n",
       "      <td>24.859421</td>\n",
       "      <td>0.0</td>\n",
       "      <td>1</td>\n",
       "      <td>1</td>\n",
       "      <td>205.99</td>\n",
       "      <td>65.02</td>\n",
       "      <td>968.051192</td>\n",
       "    </tr>\n",
       "    <tr>\n",
       "      <th>96531</th>\n",
       "      <td>17.086424</td>\n",
       "      <td>0.0</td>\n",
       "      <td>2</td>\n",
       "      <td>1</td>\n",
       "      <td>359.98</td>\n",
       "      <td>81.18</td>\n",
       "      <td>370.146853</td>\n",
       "    </tr>\n",
       "    <tr>\n",
       "      <th>96532</th>\n",
       "      <td>7.674306</td>\n",
       "      <td>0.0</td>\n",
       "      <td>1</td>\n",
       "      <td>1</td>\n",
       "      <td>68.50</td>\n",
       "      <td>18.36</td>\n",
       "      <td>631.817784</td>\n",
       "    </tr>\n",
       "  </tbody>\n",
       "</table>\n",
       "<p>96525 rows × 7 columns</p>\n",
       "</div>"
      ],
      "text/plain": [
       "       wait_time  delay_vs_expected  number_of_products  number_of_sellers  \\\n",
       "0       8.436574                0.0                   1                  1   \n",
       "1      13.782037                0.0                   1                  1   \n",
       "2       9.394213                0.0                   1                  1   \n",
       "3      13.208750                0.0                   1                  1   \n",
       "4       2.873877                0.0                   1                  1   \n",
       "...          ...                ...                 ...                ...   \n",
       "96528   8.218009                0.0                   1                  1   \n",
       "96529  22.193727                0.0                   1                  1   \n",
       "96530  24.859421                0.0                   1                  1   \n",
       "96531  17.086424                0.0                   2                  1   \n",
       "96532   7.674306                0.0                   1                  1   \n",
       "\n",
       "        price  freight_value  distance_seller_customer  \n",
       "0       29.99           8.72                 18.063837  \n",
       "1      118.70          22.76                856.292580  \n",
       "2      159.90          19.22                514.130333  \n",
       "3       45.00          27.20               1822.800366  \n",
       "4       19.90           8.72                 30.174037  \n",
       "...       ...            ...                       ...  \n",
       "96528   72.00          13.08                 69.481037  \n",
       "96529  174.90          20.10                474.098245  \n",
       "96530  205.99          65.02                968.051192  \n",
       "96531  359.98          81.18                370.146853  \n",
       "96532   68.50          18.36                631.817784  \n",
       "\n",
       "[96525 rows x 7 columns]"
      ]
     },
     "execution_count": 6,
     "metadata": {},
     "output_type": "execute_result"
    }
   ],
   "source": [
    "# Check for multi-colinearity by looking at Variance Inflation Factor (vif)\n",
    "from statsmodels.stats.outliers_influence import variance_inflation_factor as vif\n",
    "X = orders[features]\n",
    "X"
   ]
  },
  {
   "cell_type": "code",
   "execution_count": 9,
   "id": "af0f4c4b",
   "metadata": {},
   "outputs": [
    {
     "data": {
      "text/html": [
       "<div>\n",
       "<style scoped>\n",
       "    .dataframe tbody tr th:only-of-type {\n",
       "        vertical-align: middle;\n",
       "    }\n",
       "\n",
       "    .dataframe tbody tr th {\n",
       "        vertical-align: top;\n",
       "    }\n",
       "\n",
       "    .dataframe thead th {\n",
       "        text-align: right;\n",
       "    }\n",
       "</style>\n",
       "<table border=\"1\" class=\"dataframe\">\n",
       "  <thead>\n",
       "    <tr style=\"text-align: right;\">\n",
       "      <th></th>\n",
       "      <th>vif_index</th>\n",
       "      <th>features</th>\n",
       "    </tr>\n",
       "  </thead>\n",
       "  <tbody>\n",
       "    <tr>\n",
       "      <th>0</th>\n",
       "      <td>6.952775</td>\n",
       "      <td>wait_time</td>\n",
       "    </tr>\n",
       "    <tr>\n",
       "      <th>1</th>\n",
       "      <td>2.263424</td>\n",
       "      <td>delay_vs_expected</td>\n",
       "    </tr>\n",
       "    <tr>\n",
       "      <th>2</th>\n",
       "      <td>7.503118</td>\n",
       "      <td>number_of_products</td>\n",
       "    </tr>\n",
       "    <tr>\n",
       "      <th>3</th>\n",
       "      <td>9.005285</td>\n",
       "      <td>number_of_sellers</td>\n",
       "    </tr>\n",
       "    <tr>\n",
       "      <th>4</th>\n",
       "      <td>1.726152</td>\n",
       "      <td>price</td>\n",
       "    </tr>\n",
       "    <tr>\n",
       "      <th>5</th>\n",
       "      <td>3.535407</td>\n",
       "      <td>freight_value</td>\n",
       "    </tr>\n",
       "    <tr>\n",
       "      <th>6</th>\n",
       "      <td>2.909521</td>\n",
       "      <td>distance_seller_customer</td>\n",
       "    </tr>\n",
       "  </tbody>\n",
       "</table>\n",
       "</div>"
      ],
      "text/plain": [
       "   vif_index                  features\n",
       "0   6.952775                 wait_time\n",
       "1   2.263424         delay_vs_expected\n",
       "2   7.503118        number_of_products\n",
       "3   9.005285         number_of_sellers\n",
       "4   1.726152                     price\n",
       "5   3.535407             freight_value\n",
       "6   2.909521  distance_seller_customer"
      ]
     },
     "execution_count": 9,
     "metadata": {},
     "output_type": "execute_result"
    }
   ],
   "source": [
    "df = pd.DataFrame()\n",
    "df['vif_index'] = [vif(X.values, i) for i in range(X.shape[1])]\n",
    "df['features'] = X.columns\n",
    "df"
   ]
  },
  {
   "cell_type": "code",
   "execution_count": 10,
   "id": "156809c5",
   "metadata": {},
   "outputs": [
    {
     "name": "stdout",
     "output_type": "stream",
     "text": [
      "Optimization terminated successfully.\n",
      "         Current function value: 0.279534\n",
      "         Iterations 7\n",
      "                           Logit Regression Results                           \n",
      "==============================================================================\n",
      "Dep. Variable:        dim_is_one_star   No. Observations:                96525\n",
      "Model:                          Logit   Df Residuals:                    96517\n",
      "Method:                           MLE   Df Model:                            7\n",
      "Date:                Sat, 24 Jul 2021   Pseudo R-squ.:                  0.1436\n",
      "Time:                        15:29:25   Log-Likelihood:                -26982.\n",
      "converged:                       True   LL-Null:                       -31505.\n",
      "Covariance Type:            nonrobust   LLR p-value:                     0.000\n",
      "============================================================================================\n",
      "                               coef    std err          z      P>|z|      [0.025      0.975]\n",
      "--------------------------------------------------------------------------------------------\n",
      "Intercept                   -5.2216      0.070    -74.975      0.000      -5.358      -5.085\n",
      "wait_time                    0.0750      0.002     42.648      0.000       0.072       0.078\n",
      "delay_vs_expected            0.0532      0.004     13.626      0.000       0.046       0.061\n",
      "number_of_products           0.4643      0.019     23.865      0.000       0.426       0.502\n",
      "number_of_sellers            1.4275      0.063     22.676      0.000       1.304       1.551\n",
      "price                        0.0003   5.28e-05      4.821      0.000       0.000       0.000\n",
      "freight_value               -0.0010      0.001     -1.677      0.093      -0.002       0.000\n",
      "distance_seller_customer    -0.0003   2.28e-05    -13.174      0.000      -0.000      -0.000\n",
      "============================================================================================\n"
     ]
    }
   ],
   "source": [
    "# Fitting 2 LOGIT models (logit_one and logit_five) to predict dim_is_one_star and dim_is_five_star\n",
    "logit_one = smf.logit(formula='dim_is_one_star ~' + ' + '.join(features), data=orders).fit()\n",
    "print(logit_one.summary())"
   ]
  },
  {
   "cell_type": "code",
   "execution_count": 12,
   "id": "22e6c54e",
   "metadata": {},
   "outputs": [
    {
     "name": "stdout",
     "output_type": "stream",
     "text": [
      "Optimization terminated successfully.\n",
      "         Current function value: 0.637337\n",
      "         Iterations 7\n",
      "                           Logit Regression Results                           \n",
      "==============================================================================\n",
      "Dep. Variable:       dim_is_five_star   No. Observations:                96525\n",
      "Model:                          Logit   Df Residuals:                    96517\n",
      "Method:                           MLE   Df Model:                            7\n",
      "Date:                Sat, 24 Jul 2021   Pseudo R-squ.:                 0.05890\n",
      "Time:                        15:36:18   Log-Likelihood:                -61519.\n",
      "converged:                       True   LL-Null:                       -65370.\n",
      "Covariance Type:            nonrobust   LLR p-value:                     0.000\n",
      "============================================================================================\n",
      "                               coef    std err          z      P>|z|      [0.025      0.975]\n",
      "--------------------------------------------------------------------------------------------\n",
      "Intercept                    2.4490      0.064     38.138      0.000       2.323       2.575\n",
      "wait_time                   -0.0554      0.001    -45.024      0.000      -0.058      -0.053\n",
      "delay_vs_expected           -0.0933      0.005    -18.570      0.000      -0.103      -0.083\n",
      "number_of_products          -0.2587      0.016    -16.659      0.000      -0.289      -0.228\n",
      "number_of_sellers           -1.1548      0.063    -18.266      0.000      -1.279      -1.031\n",
      "price                     8.987e-05   3.63e-05      2.473      0.013    1.86e-05       0.000\n",
      "freight_value                0.0003      0.000      0.680      0.496      -0.001       0.001\n",
      "distance_seller_customer     0.0001   1.39e-05     10.729      0.000       0.000       0.000\n",
      "============================================================================================\n"
     ]
    }
   ],
   "source": [
    "logit_five = smf.logit(formula='dim_is_five_star ~' + ' + '.join(features), data=orders).fit()\n",
    "print(logit_five.summary())"
   ]
  },
  {
   "cell_type": "code",
   "execution_count": 14,
   "id": "419af905",
   "metadata": {},
   "outputs": [
    {
     "name": "stdout",
     "output_type": "stream",
     "text": [
      "                            OLS Regression Results                            \n",
      "==============================================================================\n",
      "Dep. Variable:           review_score   R-squared:                       0.146\n",
      "Model:                            OLS   Adj. R-squared:                  0.145\n",
      "Method:                 Least Squares   F-statistic:                     2348.\n",
      "Date:                Sat, 24 Jul 2021   Prob (F-statistic):               0.00\n",
      "Time:                        15:43:01   Log-Likelihood:            -1.5446e+05\n",
      "No. Observations:               96525   AIC:                         3.089e+05\n",
      "Df Residuals:                   96517   BIC:                         3.090e+05\n",
      "Df Model:                           7                                         \n",
      "Covariance Type:            nonrobust                                         \n",
      "============================================================================================\n",
      "                               coef    std err          t      P>|t|      [0.025      0.975]\n",
      "--------------------------------------------------------------------------------------------\n",
      "Intercept                    5.9994      0.033    182.258      0.000       5.935       6.064\n",
      "wait_time                   -0.0472      0.001    -71.510      0.000      -0.048      -0.046\n",
      "delay_vs_expected           -0.0095      0.001     -7.777      0.000      -0.012      -0.007\n",
      "number_of_products          -0.2451      0.008    -29.314      0.000      -0.261      -0.229\n",
      "number_of_sellers           -1.0649      0.033    -32.701      0.000      -1.129      -1.001\n",
      "price                    -2.108e-05   2.03e-05     -1.038      0.299   -6.09e-05    1.87e-05\n",
      "freight_value                0.0002      0.000      0.975      0.330      -0.000       0.001\n",
      "distance_seller_customer     0.0002   7.78e-06     21.323      0.000       0.000       0.000\n",
      "==============================================================================\n",
      "Omnibus:                    18337.394   Durbin-Watson:                   2.009\n",
      "Prob(Omnibus):                  0.000   Jarque-Bera (JB):            35597.400\n",
      "Skew:                          -1.163   Prob(JB):                         0.00\n",
      "Kurtosis:                       4.854   Cond. No.                     1.01e+04\n",
      "==============================================================================\n",
      "\n",
      "Warnings:\n",
      "[1] Standard Errors assume that the covariance matrix of the errors is correctly specified.\n",
      "[2] The condition number is large, 1.01e+04. This might indicate that there are\n",
      "strong multicollinearity or other numerical problems.\n"
     ]
    }
   ],
   "source": [
    "#Compare against Ordinary Least Squares (OLS) Regression \n",
    "linear_model = smf.ols(formula='review_score ~' + ' + '.join(features), data=orders).fit()\n",
    "print(linear_model.summary())"
   ]
  },
  {
   "cell_type": "code",
   "execution_count": 19,
   "id": "cb3d526f",
   "metadata": {},
   "outputs": [
    {
     "data": {
      "image/png": "[encoded data removed]",
      "text/plain": [
       "<Figure size 936x360 with 2 Axes>"
      ]
     },
     "metadata": {
      "needs_background": "light"
     },
     "output_type": "display_data"
    }
   ],
   "source": [
    "plt.figure(figsize=(13,5))\n",
    "plt.suptitle('Linear vs. Logit Coefficients')\n",
    "ax1 = plt.subplot(1,2,1)\n",
    "ax1.set_title('Linear')\n",
    "ax1.set_xlim(-1.5, 0.25)\n",
    "linear_model.params[1:].sort_values().plot(kind='barh', ax=ax1)\n",
    "\n",
    "ax2 = plt.subplot(1,2,2)\n",
    "ax2.set_title('Logit')\n",
    "ax2.yaxis.tick_right()\n",
    "ax2.set_xlim(-1.5, 0.25)\n",
    "logit_five.params[1:].sort_values().plot(kind='barh', ax=ax2)\n",
    "\n",
    "plt.show()\n",
    "\n"
   ]
  },
  {
   "cell_type": "code",
   "execution_count": null,
   "id": "8c67bfed",
   "metadata": {},
   "outputs": [],
   "source": [
    "# According to the R-squared,roughly 14% of the variance can be explained from the selected features"
   ]
  }
 ],
 "metadata": {
  "kernelspec": {
   "display_name": "Python 3",
   "language": "python",
   "name": "python3"
  },
  "language_info": {
   "codemirror_mode": {
    "name": "ipython",
    "version": 3
   },
   "file_extension": ".py",
   "mimetype": "text/x-python",
   "name": "python",
   "nbconvert_exporter": "python",
   "pygments_lexer": "ipython3",
   "version": "3.8.6"
  },
  "toc": {
   "base_numbering": 1,
   "nav_menu": {},
   "number_sections": true,
   "sideBar": true,
   "skip_h1_title": false,
   "title_cell": "Table of Contents",
   "title_sidebar": "Contents",
   "toc_cell": false,
   "toc_position": {},
   "toc_section_display": true,
   "toc_window_display": false
  }
 },
 "nbformat": 4,
 "nbformat_minor": 5
}
