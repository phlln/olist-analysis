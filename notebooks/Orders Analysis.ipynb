{
 "cells": [
  {
   "cell_type": "markdown",
   "id": "c95131d1",
   "metadata": {},
   "source": [
    "# Orders Data Analysis"
   ]
  },
  {
   "cell_type": "markdown",
   "id": "f88abbd7",
   "metadata": {},
   "source": [
    "**Notebook Objective**\n",
    "\n",
    "In this notebook we'll take a closer look at the **Orders** data from Brazilian e-commerce platform **Olist**. In the first two sections we'll do some exploratory data analysis by examining the distributions of features and look for any correlation. Then, in the final three sections we'll apply various models to further understand the relationship between the **review score** with all other features.\n",
    "\n",
    "***Exploratory Data Analysis***\n",
    "1. Distributions\n",
    "2. Correlations"
   ]
  },
  {
   "cell_type": "markdown",
   "id": "69b73632",
   "metadata": {},
   "source": [
    "***Models***\n",
    "\n",
    "3. Univariate Linear Regression\n",
    "4. Multivariate Linear Regression\n",
    "5. Logistic Regression\n"
   ]
  },
  {
   "cell_type": "code",
   "execution_count": 1,
   "id": "bb230ffc",
   "metadata": {},
   "outputs": [],
   "source": [
    "# Auto reload imported module every time a cell is executed\n",
    "%load_ext autoreload\n",
    "%autoreload 2"
   ]
  },
  {
   "cell_type": "code",
   "execution_count": 2,
   "id": "8c9264d0",
   "metadata": {},
   "outputs": [],
   "source": [
    "# Import libraries\n",
    "import pandas as pd\n",
    "import numpy as np\n",
    "import seaborn as sns\n",
    "import matplotlib.pyplot as plt"
   ]
  },
  {
   "cell_type": "code",
   "execution_count": 6,
   "id": "723520e6",
   "metadata": {},
   "outputs": [],
   "source": [
    "# Load the data\n",
    "from olist.data import Olist\n",
    "from olist.order import Order\n",
    "olist=Olist()\n",
    "data=olist.get_data()"
   ]
  },
  {
   "cell_type": "markdown",
   "id": "127aed01",
   "metadata": {},
   "source": [
    "## Distributions"
   ]
  },
  {
   "cell_type": "markdown",
   "id": "e7d31de7",
   "metadata": {},
   "source": [
    "Let's begin by analyzing features from the **Orders** data and understanding their distributions. We'll examine them in smaller groups:\n",
    "- `wait_time`, `expected_wait_time`, and `delay_vs_expected`\n",
    "- `dim_is_five_star`, `dim_is_one_star`, and `review_score`\n",
    "- `number_of_products`, `number_of_sellers`, `price`, and `freight_value`"
   ]
  },
  {
   "cell_type": "code",
   "execution_count": 7,
   "id": "8dfff21e",
   "metadata": {
    "scrolled": false
   },
   "outputs": [
    {
     "data": {
      "text/html": [
       "<div>\n",
       "<style scoped>\n",
       "    .dataframe tbody tr th:only-of-type {\n",
       "        vertical-align: middle;\n",
       "    }\n",
       "\n",
       "    .dataframe tbody tr th {\n",
       "        vertical-align: top;\n",
       "    }\n",
       "\n",
       "    .dataframe thead th {\n",
       "        text-align: right;\n",
       "    }\n",
       "</style>\n",
       "<table border=\"1\" class=\"dataframe\">\n",
       "  <thead>\n",
       "    <tr style=\"text-align: right;\">\n",
       "      <th></th>\n",
       "      <th>wait_time</th>\n",
       "      <th>expected_wait_time</th>\n",
       "      <th>delay_vs_expected</th>\n",
       "      <th>dim_is_five_star</th>\n",
       "      <th>dim_is_one_star</th>\n",
       "      <th>review_score</th>\n",
       "      <th>number_of_products</th>\n",
       "      <th>number_of_sellers</th>\n",
       "      <th>price</th>\n",
       "      <th>freight_value</th>\n",
       "    </tr>\n",
       "  </thead>\n",
       "  <tbody>\n",
       "    <tr>\n",
       "      <th>count</th>\n",
       "      <td>97007.000000</td>\n",
       "      <td>97007.000000</td>\n",
       "      <td>97007.000000</td>\n",
       "      <td>97007.000000</td>\n",
       "      <td>97007.000000</td>\n",
       "      <td>97007.000000</td>\n",
       "      <td>97007.000000</td>\n",
       "      <td>97007.000000</td>\n",
       "      <td>97007.000000</td>\n",
       "      <td>97007.000000</td>\n",
       "    </tr>\n",
       "    <tr>\n",
       "      <th>mean</th>\n",
       "      <td>12.564574</td>\n",
       "      <td>23.747123</td>\n",
       "      <td>0.774420</td>\n",
       "      <td>0.589061</td>\n",
       "      <td>0.100539</td>\n",
       "      <td>4.142237</td>\n",
       "      <td>1.142598</td>\n",
       "      <td>1.013968</td>\n",
       "      <td>136.895781</td>\n",
       "      <td>22.780658</td>\n",
       "    </tr>\n",
       "    <tr>\n",
       "      <th>std</th>\n",
       "      <td>9.542359</td>\n",
       "      <td>8.762100</td>\n",
       "      <td>4.747827</td>\n",
       "      <td>0.492007</td>\n",
       "      <td>0.300719</td>\n",
       "      <td>1.296559</td>\n",
       "      <td>0.540014</td>\n",
       "      <td>0.123772</td>\n",
       "      <td>208.701803</td>\n",
       "      <td>21.532648</td>\n",
       "    </tr>\n",
       "    <tr>\n",
       "      <th>min</th>\n",
       "      <td>0.533414</td>\n",
       "      <td>2.008009</td>\n",
       "      <td>0.000000</td>\n",
       "      <td>0.000000</td>\n",
       "      <td>0.000000</td>\n",
       "      <td>1.000000</td>\n",
       "      <td>1.000000</td>\n",
       "      <td>1.000000</td>\n",
       "      <td>0.850000</td>\n",
       "      <td>0.000000</td>\n",
       "    </tr>\n",
       "    <tr>\n",
       "      <th>25%</th>\n",
       "      <td>6.771296</td>\n",
       "      <td>18.337187</td>\n",
       "      <td>0.000000</td>\n",
       "      <td>0.000000</td>\n",
       "      <td>0.000000</td>\n",
       "      <td>4.000000</td>\n",
       "      <td>1.000000</td>\n",
       "      <td>1.000000</td>\n",
       "      <td>45.900000</td>\n",
       "      <td>13.850000</td>\n",
       "    </tr>\n",
       "    <tr>\n",
       "      <th>50%</th>\n",
       "      <td>10.225243</td>\n",
       "      <td>23.235741</td>\n",
       "      <td>0.000000</td>\n",
       "      <td>1.000000</td>\n",
       "      <td>0.000000</td>\n",
       "      <td>5.000000</td>\n",
       "      <td>1.000000</td>\n",
       "      <td>1.000000</td>\n",
       "      <td>86.000000</td>\n",
       "      <td>17.170000</td>\n",
       "    </tr>\n",
       "    <tr>\n",
       "      <th>75%</th>\n",
       "      <td>15.732506</td>\n",
       "      <td>28.416094</td>\n",
       "      <td>0.000000</td>\n",
       "      <td>1.000000</td>\n",
       "      <td>0.000000</td>\n",
       "      <td>5.000000</td>\n",
       "      <td>1.000000</td>\n",
       "      <td>1.000000</td>\n",
       "      <td>149.900000</td>\n",
       "      <td>24.020000</td>\n",
       "    </tr>\n",
       "    <tr>\n",
       "      <th>max</th>\n",
       "      <td>209.628611</td>\n",
       "      <td>155.135463</td>\n",
       "      <td>188.975081</td>\n",
       "      <td>1.000000</td>\n",
       "      <td>1.000000</td>\n",
       "      <td>5.000000</td>\n",
       "      <td>21.000000</td>\n",
       "      <td>5.000000</td>\n",
       "      <td>13440.000000</td>\n",
       "      <td>1794.960000</td>\n",
       "    </tr>\n",
       "  </tbody>\n",
       "</table>\n",
       "</div>"
      ],
      "text/plain": [
       "          wait_time  expected_wait_time  delay_vs_expected  dim_is_five_star  \\\n",
       "count  97007.000000        97007.000000       97007.000000      97007.000000   \n",
       "mean      12.564574           23.747123           0.774420          0.589061   \n",
       "std        9.542359            8.762100           4.747827          0.492007   \n",
       "min        0.533414            2.008009           0.000000          0.000000   \n",
       "25%        6.771296           18.337187           0.000000          0.000000   \n",
       "50%       10.225243           23.235741           0.000000          1.000000   \n",
       "75%       15.732506           28.416094           0.000000          1.000000   \n",
       "max      209.628611          155.135463         188.975081          1.000000   \n",
       "\n",
       "       dim_is_one_star  review_score  number_of_products  number_of_sellers  \\\n",
       "count     97007.000000  97007.000000        97007.000000       97007.000000   \n",
       "mean          0.100539      4.142237            1.142598           1.013968   \n",
       "std           0.300719      1.296559            0.540014           0.123772   \n",
       "min           0.000000      1.000000            1.000000           1.000000   \n",
       "25%           0.000000      4.000000            1.000000           1.000000   \n",
       "50%           0.000000      5.000000            1.000000           1.000000   \n",
       "75%           0.000000      5.000000            1.000000           1.000000   \n",
       "max           1.000000      5.000000           21.000000           5.000000   \n",
       "\n",
       "              price  freight_value  \n",
       "count  97007.000000   97007.000000  \n",
       "mean     136.895781      22.780658  \n",
       "std      208.701803      21.532648  \n",
       "min        0.850000       0.000000  \n",
       "25%       45.900000      13.850000  \n",
       "50%       86.000000      17.170000  \n",
       "75%      149.900000      24.020000  \n",
       "max    13440.000000    1794.960000  "
      ]
     },
     "execution_count": 7,
     "metadata": {},
     "output_type": "execute_result"
    }
   ],
   "source": [
    "# Get summary stats for each column\n",
    "orders = Order().get_training_data()\n",
    "orders.describe()"
   ]
  },
  {
   "cell_type": "code",
   "execution_count": 8,
   "id": "9afb3f07",
   "metadata": {},
   "outputs": [
    {
     "name": "stdout",
     "output_type": "stream",
     "text": [
      "<class 'pandas.core.frame.DataFrame'>\n",
      "Int64Index: 97007 entries, 0 to 97014\n",
      "Data columns (total 12 columns):\n",
      " #   Column              Non-Null Count  Dtype  \n",
      "---  ------              --------------  -----  \n",
      " 0   order_id            97007 non-null  object \n",
      " 1   wait_time           97007 non-null  float64\n",
      " 2   expected_wait_time  97007 non-null  float64\n",
      " 3   delay_vs_expected   97007 non-null  float64\n",
      " 4   order_status        97007 non-null  object \n",
      " 5   dim_is_five_star    97007 non-null  int64  \n",
      " 6   dim_is_one_star     97007 non-null  int64  \n",
      " 7   review_score        97007 non-null  int64  \n",
      " 8   number_of_products  97007 non-null  int64  \n",
      " 9   number_of_sellers   97007 non-null  int64  \n",
      " 10  price               97007 non-null  float64\n",
      " 11  freight_value       97007 non-null  float64\n",
      "dtypes: float64(5), int64(5), object(2)\n",
      "memory usage: 9.6+ MB\n"
     ]
    }
   ],
   "source": [
    "# Inspect data types and look for null values\n",
    "orders.info()"
   ]
  },
  {
   "cell_type": "markdown",
   "id": "d91b426b",
   "metadata": {},
   "source": [
    "### Distributions for `wait_time`, `expected_wait_time`, and `delay_vs_expected`"
   ]
  },
  {
   "cell_type": "markdown",
   "id": "127a248d",
   "metadata": {},
   "source": [
    "This first grouping of features relate to time and expectations for each order."
   ]
  },
  {
   "cell_type": "code",
   "execution_count": 9,
   "id": "e1cec52b",
   "metadata": {
    "scrolled": true
   },
   "outputs": [
    {
     "data": {
      "image/png": "[encoded data removed]",
      "text/plain": [
       "<Figure size 1080x432 with 1 Axes>"
      ]
     },
     "metadata": {},
     "output_type": "display_data"
    }
   ],
   "source": [
    "# 'wait_time' histogram\n",
    "sns.set_style('darkgrid')\n",
    "plt.figure(figsize=(15,6))\n",
    "sns.histplot(orders.wait_time);"
   ]
  },
  {
   "cell_type": "code",
   "execution_count": 10,
   "id": "ba35a4cb",
   "metadata": {
    "scrolled": false
   },
   "outputs": [
    {
     "data": {
      "image/png": "[encoded data removed]",
      "text/plain": [
       "<Figure size 1080x216 with 5 Axes>"
      ]
     },
     "metadata": {},
     "output_type": "display_data"
    }
   ],
   "source": [
    "# Let's look at the distribution of 'wait_time' by review_score\n",
    "g = sns.FacetGrid(data=orders, col='review_score')\n",
    "g.map(sns.histplot, 'wait_time')\n",
    "g.set(xlim=(0,100))\n",
    "plt.show();"
   ]
  },
  {
   "cell_type": "markdown",
   "id": "48315aa7",
   "metadata": {},
   "source": [
    "If we look at the change in shape of the distribution for `wait_time` across the various review scores, we can see that the **lower** the score, the **flatter and more right-skewed** the shape becomes. This suggests that lower scores are more likely to be associated with a longer `wait_time` for their order deliveries. "
   ]
  },
  {
   "cell_type": "code",
   "execution_count": 11,
   "id": "04210bfe",
   "metadata": {
    "scrolled": true
   },
   "outputs": [
    {
     "data": {
      "image/png": "[encoded data removed]",
      "text/plain": [
       "<Figure size 1080x432 with 1 Axes>"
      ]
     },
     "metadata": {},
     "output_type": "display_data"
    }
   ],
   "source": [
    "#'expected_wait_time' histogram\n",
    "plt.figure(figsize=(15,6))\n",
    "sns.histplot(orders.expected_wait_time);"
   ]
  },
  {
   "cell_type": "code",
   "execution_count": 12,
   "id": "f106970f",
   "metadata": {
    "scrolled": true
   },
   "outputs": [
    {
     "data": {
      "image/png": "[encoded data removed]",
      "text/plain": [
       "<Figure size 1080x216 with 5 Axes>"
      ]
     },
     "metadata": {},
     "output_type": "display_data"
    }
   ],
   "source": [
    "g1 = sns.FacetGrid(data=orders, col='review_score')\n",
    "g1.set(xlim=(0,80))\n",
    "g1.map(sns.histplot, 'expected_wait_time');"
   ]
  },
  {
   "cell_type": "markdown",
   "id": "2615b571",
   "metadata": {},
   "source": [
    "With `expected_wait_time`, which represents the projected time from order to delivery that has been given to a customer, we see a roughly symmetrical distribution with average time of ~23 days across all review scores. While we see higher peaks with the higher review scores of 4 and 5, there is a less clear pattern when including the lower scores. We'll check a little later to see if the difference in peaks for each score is just a reflection of the distribution of `review_score` in the data, and not necessarily associated with `expected_wait_time`.  \n",
    "\n"
   ]
  },
  {
   "cell_type": "code",
   "execution_count": 13,
   "id": "29548896",
   "metadata": {
    "scrolled": true
   },
   "outputs": [
    {
     "data": {
      "image/png": "[encoded data removed]",
      "text/plain": [
       "<Figure size 1080x432 with 1 Axes>"
      ]
     },
     "metadata": {},
     "output_type": "display_data"
    }
   ],
   "source": [
    "#'delay_vs_expected' histogram\n",
    "plt.figure(figsize=(15,6))\n",
    "sns.histplot(orders.delay_vs_expected);"
   ]
  },
  {
   "cell_type": "code",
   "execution_count": 14,
   "id": "05614c3d",
   "metadata": {
    "scrolled": true
   },
   "outputs": [
    {
     "data": {
      "image/png": "[encoded data removed]",
      "text/plain": [
       "<Figure size 1080x216 with 5 Axes>"
      ]
     },
     "metadata": {},
     "output_type": "display_data"
    }
   ],
   "source": [
    "g2 = sns.FacetGrid(data=orders, col='review_score')\n",
    "g2.set(xlim=(0,50))\n",
    "g2.map(plt.hist, 'delay_vs_expected');"
   ]
  },
  {
   "cell_type": "markdown",
   "id": "f534004d",
   "metadata": {},
   "source": [
    "From the charts, it looks like *delayed orders* make up only a tiny fraction of all orders. And, among those, we see a larger share with a **`review_score` = 1**. Let's just check the numbers more precisely."
   ]
  },
  {
   "cell_type": "code",
   "execution_count": 15,
   "id": "f2f5d5e6",
   "metadata": {},
   "outputs": [
    {
     "data": {
      "text/plain": [
       "7865"
      ]
     },
     "execution_count": 15,
     "metadata": {},
     "output_type": "execute_result"
    }
   ],
   "source": [
    "# Number of delayed orders\n",
    "orders[orders.delay_vs_expected > 0].shape[0]"
   ]
  },
  {
   "cell_type": "code",
   "execution_count": 16,
   "id": "f431f938",
   "metadata": {
    "scrolled": true
   },
   "outputs": [
    {
     "data": {
      "text/plain": [
       "3671"
      ]
     },
     "execution_count": 16,
     "metadata": {},
     "output_type": "execute_result"
    }
   ],
   "source": [
    "# Number of delayed orders and receiving review score of 1\n",
    "orders[(orders.delay_vs_expected > 0) & (orders.review_score == 1)].shape[0] "
   ]
  },
  {
   "cell_type": "markdown",
   "id": "e35e668c",
   "metadata": {},
   "source": [
    "Out of **97,000** orders, only about **8%** are delayed, and of those that do get delayed, a **little less than half** receive **`review_score` = 1**."
   ]
  },
  {
   "cell_type": "markdown",
   "id": "4ab7bb0b",
   "metadata": {},
   "source": [
    "### Distributions for `dim_is_five_star`, `dim_is_one_star`, and `review_score`"
   ]
  },
  {
   "cell_type": "markdown",
   "id": "e07036cb",
   "metadata": {},
   "source": [
    "This grouping represents the target variables in our analysis. The variables `dim_is_five_star` and `dim_is_one_star` are one-hot encodings for a `review_score` with *five stars* and *one star*, respectively."
   ]
  },
  {
   "cell_type": "code",
   "execution_count": 44,
   "id": "f20a59ff",
   "metadata": {},
   "outputs": [
    {
     "data": {
      "image/png": "[encoded data removed]",
      "text/plain": [
       "<Figure size 1080x360 with 3 Axes>"
      ]
     },
     "metadata": {},
     "output_type": "display_data"
    }
   ],
   "source": [
    "# Histograms of 'dim_is_five_star', 'dim_is_one_star', and 'review_score'\n",
    "\n",
    "fig, [ax1,ax2,ax3] = plt.subplots(1,3, figsize=(15,5))\n",
    "\n",
    "ax1 = sns.histplot(orders.dim_is_five_star, ax=ax1);\n",
    "\n",
    "ax2 = sns.histplot(orders.dim_is_one_star, ax=ax2);\n",
    "\n",
    "ax3 = sns.histplot(orders.review_score, discrete=True, ax=ax3)\n",
    "\n",
    "fig.suptitle('Distribution Plots');\n"
   ]
  },
  {
   "cell_type": "markdown",
   "id": "4c9cee78",
   "metadata": {},
   "source": [
    "With this distribution of `review_score`, we can see a similar pattern that was reflected in the peak heights of the the first grouping `wait_time`, `expected_wait_time`, and `delay_vs_expected`. Namely, the lowest point is at score 2, followed by similar heights for 1 and 3, followed by a higher level for score 4, and then finally a significantly higher level for score 5. \n",
    "\n",
    "This suggests that for the features `expected_wait_time` and `delay_vs_expected`, the differences in heights can be attributed primarily to the underlying distribution of `review_score` in the dataset. However, with the `wait_time` feature, additional differences in skewness suggest that there is a relationship with `review_score` not only explained by the underlying distribution of `review_score`."
   ]
  },
  {
   "cell_type": "markdown",
   "id": "38644013",
   "metadata": {},
   "source": [
    "### Distributions for `number_of_products`, `number_of_sellers`, `price`, and `freight_value`"
   ]
  },
  {
   "cell_type": "markdown",
   "id": "319319d1",
   "metadata": {},
   "source": [
    "This grouping of features focus more on the characteristics of the order itself. "
   ]
  },
  {
   "cell_type": "code",
   "execution_count": 59,
   "id": "dd6ea51d",
   "metadata": {
    "scrolled": false
   },
   "outputs": [
    {
     "data": {
      "image/png": "[encoded data removed]",
      "text/plain": [
       "<Figure size 1080x720 with 4 Axes>"
      ]
     },
     "metadata": {},
     "output_type": "display_data"
    }
   ],
   "source": [
    "# Histograms for 'number_of_products','number_of_sellers','price', and 'freight_value'\n",
    "fig, [ax1,ax2, ax3, ax4] = plt.subplots(4,1, figsize=(15, 10))\n",
    "ax1 = sns.histplot(orders.number_of_products, ax=ax1);\n",
    "ax2 = sns.histplot(orders.number_of_sellers, ax=ax2);\n",
    "ax3 = sns.histplot(orders.price, ax=ax3);\n",
    "ax4 = sns.histplot(orders.freight_value, ax=ax4);\n",
    "fig.tight_layout()"
   ]
  },
  {
   "cell_type": "markdown",
   "id": "d15e324c",
   "metadata": {},
   "source": [
    "From these histograms it's clear that there are pretty large outliers particularly for `price` and `freight_value`. Among orders, very few contain more than a single product or seller. \n",
    "\n",
    "Let's look at a statistical summary to get a more precise picture."
   ]
  },
  {
   "cell_type": "code",
   "execution_count": 60,
   "id": "16b9628c",
   "metadata": {
    "scrolled": true
   },
   "outputs": [
    {
     "data": {
      "text/html": [
       "<div>\n",
       "<style scoped>\n",
       "    .dataframe tbody tr th:only-of-type {\n",
       "        vertical-align: middle;\n",
       "    }\n",
       "\n",
       "    .dataframe tbody tr th {\n",
       "        vertical-align: top;\n",
       "    }\n",
       "\n",
       "    .dataframe thead th {\n",
       "        text-align: right;\n",
       "    }\n",
       "</style>\n",
       "<table border=\"1\" class=\"dataframe\">\n",
       "  <thead>\n",
       "    <tr style=\"text-align: right;\">\n",
       "      <th></th>\n",
       "      <th>number_of_products</th>\n",
       "      <th>number_of_sellers</th>\n",
       "      <th>price</th>\n",
       "      <th>freight_value</th>\n",
       "    </tr>\n",
       "  </thead>\n",
       "  <tbody>\n",
       "    <tr>\n",
       "      <th>count</th>\n",
       "      <td>97007.000000</td>\n",
       "      <td>97007.000000</td>\n",
       "      <td>97007.000000</td>\n",
       "      <td>97007.000000</td>\n",
       "    </tr>\n",
       "    <tr>\n",
       "      <th>mean</th>\n",
       "      <td>1.142598</td>\n",
       "      <td>1.013968</td>\n",
       "      <td>136.895781</td>\n",
       "      <td>22.780658</td>\n",
       "    </tr>\n",
       "    <tr>\n",
       "      <th>std</th>\n",
       "      <td>0.540014</td>\n",
       "      <td>0.123772</td>\n",
       "      <td>208.701803</td>\n",
       "      <td>21.532648</td>\n",
       "    </tr>\n",
       "    <tr>\n",
       "      <th>min</th>\n",
       "      <td>1.000000</td>\n",
       "      <td>1.000000</td>\n",
       "      <td>0.850000</td>\n",
       "      <td>0.000000</td>\n",
       "    </tr>\n",
       "    <tr>\n",
       "      <th>25%</th>\n",
       "      <td>1.000000</td>\n",
       "      <td>1.000000</td>\n",
       "      <td>45.900000</td>\n",
       "      <td>13.850000</td>\n",
       "    </tr>\n",
       "    <tr>\n",
       "      <th>50%</th>\n",
       "      <td>1.000000</td>\n",
       "      <td>1.000000</td>\n",
       "      <td>86.000000</td>\n",
       "      <td>17.170000</td>\n",
       "    </tr>\n",
       "    <tr>\n",
       "      <th>75%</th>\n",
       "      <td>1.000000</td>\n",
       "      <td>1.000000</td>\n",
       "      <td>149.900000</td>\n",
       "      <td>24.020000</td>\n",
       "    </tr>\n",
       "    <tr>\n",
       "      <th>max</th>\n",
       "      <td>21.000000</td>\n",
       "      <td>5.000000</td>\n",
       "      <td>13440.000000</td>\n",
       "      <td>1794.960000</td>\n",
       "    </tr>\n",
       "  </tbody>\n",
       "</table>\n",
       "</div>"
      ],
      "text/plain": [
       "       number_of_products  number_of_sellers         price  freight_value\n",
       "count        97007.000000       97007.000000  97007.000000   97007.000000\n",
       "mean             1.142598           1.013968    136.895781      22.780658\n",
       "std              0.540014           0.123772    208.701803      21.532648\n",
       "min              1.000000           1.000000      0.850000       0.000000\n",
       "25%              1.000000           1.000000     45.900000      13.850000\n",
       "50%              1.000000           1.000000     86.000000      17.170000\n",
       "75%              1.000000           1.000000    149.900000      24.020000\n",
       "max             21.000000           5.000000  13440.000000    1794.960000"
      ]
     },
     "execution_count": 60,
     "metadata": {},
     "output_type": "execute_result"
    }
   ],
   "source": [
    "orders[['number_of_products', 'number_of_sellers', 'price', 'freight_value']].describe()"
   ]
  },
  {
   "cell_type": "markdown",
   "id": "d59cf498",
   "metadata": {},
   "source": [
    "If we look at the middle 50% of all orders, the order value falss in the range of **45-150 BRL** (10-30 USD), and shipping costs fall in the range of **14-24 BRL** (3-5 USD)."
   ]
  },
  {
   "cell_type": "markdown",
   "id": "6bec80f1",
   "metadata": {},
   "source": [
    "## Correlations"
   ]
  },
  {
   "cell_type": "markdown",
   "id": "2468d9a6",
   "metadata": {},
   "source": [
    "Let's look to see if there are correlations between features in the Orders dataset"
   ]
  },
  {
   "cell_type": "code",
   "execution_count": null,
   "id": "4e150da8",
   "metadata": {},
   "outputs": [],
   "source": [
    "# Use heatmap to detect correlations with 'review_score'\n",
    "plt.figure(figsize=(15,6))\n",
    "sns.heatmap(orders.corr(), cmap='coolwarm', annot=True);"
   ]
  },
  {
   "cell_type": "markdown",
   "id": "963b4b15",
   "metadata": {},
   "source": [
    "The features `wait_time` and `delay_vs_expected` appear to have the strongest correlation with `review_score`."
   ]
  },
  {
   "cell_type": "code",
   "execution_count": null,
   "id": "74407107",
   "metadata": {
    "scrolled": false
   },
   "outputs": [],
   "source": [
    "# Let's look at the values of the correlation coefficients\n",
    "orders.corr()['review_score']"
   ]
  },
  {
   "cell_type": "markdown",
   "id": "4fb6ba04",
   "metadata": {},
   "source": [
    "While the features `wait_time` and `delay_vs_expected` had higher correlations with our target variable `review_score` compared to the other features in our data, both features (`wait_time` and `delay_vs_expected`) are also highly correlated with each other (r=0.707), which makes sense since they both capture components of delivery duration for each customer's order. \n",
    "\n",
    "Since features that are highly correlated with each may be concealing a confounding variable and provide us with unreliable coefficients, we'll run some multivariate regression models that can provide a clearer sense of the impact from each feature on `review_score` while controlling for the others."
   ]
  },
  {
   "cell_type": "code",
   "execution_count": null,
   "id": "dccd7464",
   "metadata": {},
   "outputs": [],
   "source": [
    "orders.corr()['wait_time']"
   ]
  },
  {
   "cell_type": "markdown",
   "id": "7395ce26",
   "metadata": {},
   "source": [
    "## Univariate Regression"
   ]
  },
  {
   "cell_type": "markdown",
   "id": "acd4eff3",
   "metadata": {},
   "source": [
    "Since the correlation coefficients for the features `wait_time` (r=33%) and `delay_vs_expected` (r=27%) have a stronger correlation with `review_score`, let's first look at them individually by running univariate regressions.\n"
   ]
  },
  {
   "cell_type": "code",
   "execution_count": null,
   "id": "ce13dfe6",
   "metadata": {},
   "outputs": [],
   "source": [
    "import statsmodels.formula.api as smf"
   ]
  },
  {
   "cell_type": "markdown",
   "id": "14fd4da1",
   "metadata": {},
   "source": [
    "### Simple regression of `review_score` against `wait_time`"
   ]
  },
  {
   "cell_type": "code",
   "execution_count": null,
   "id": "2207e715",
   "metadata": {},
   "outputs": [],
   "source": [
    "formula = 'review_score ~ wait_time'\n",
    "model1 = smf.ols(formula=formula, data=orders).fit()\n",
    "model1.summary()"
   ]
  },
  {
   "cell_type": "markdown",
   "id": "8fee7fbe",
   "metadata": {},
   "source": [
    "**Interpretation of Results**"
   ]
  },
  {
   "cell_type": "markdown",
   "id": "c64b539e",
   "metadata": {},
   "source": [
    "For every additional day of `wait_time`, we can say with a 95% confidence level that the `review_score` is reduced by 4.6% on average (slope = -0.046). This suggests that there is an association between a longer `wait_time` and a lower `review_score`. \n",
    "\n",
    "- With a p-value close to zero, our coefficient for `wait_time` is statistically significant. \n",
    "- The R-squared indicates that 11% of the variance found in the `review_score` is attributable to `wait_time`.\n",
    "- Since within the 95% confidence interval the slope does not contain the value zero, we can accept the coefficient as reliable"
   ]
  },
  {
   "cell_type": "code",
   "execution_count": null,
   "id": "95640d09",
   "metadata": {},
   "outputs": [],
   "source": [
    "# Let's plot the univariate regression of 'review_score' on 'wait_time'\n",
    "sns.regplot(x=orders.wait_time, y=orders.review_score, y_jitter=0.1)\n",
    "plt.ylim(bottom=0);"
   ]
  },
  {
   "cell_type": "markdown",
   "id": "da1bc498",
   "metadata": {},
   "source": [
    "### Simple regression of `review_score` against `delay_vs_expected`"
   ]
  },
  {
   "cell_type": "code",
   "execution_count": null,
   "id": "a2870746",
   "metadata": {},
   "outputs": [],
   "source": [
    "formula = 'review_score ~ delay_vs_expected'\n",
    "model2 = smf.ols(formula=formula, data=orders).fit()\n",
    "model2.summary()"
   ]
  },
  {
   "cell_type": "markdown",
   "id": "3f6bbb1a",
   "metadata": {},
   "source": [
    "**Interpretation of Results**"
   ]
  },
  {
   "cell_type": "markdown",
   "id": "a66e19a8",
   "metadata": {},
   "source": [
    "For each additional day of delay that the customer waits beyond the expected delivery date, we can say with a 95% confidence level that the `review_score` is reduced by 7.4% on average (slope = -0.074). This suggests that there is an association between delays in delivery and a lower `review_score`.   \n",
    "\n",
    "- With a p-value close to zero, the coefficient for `delay_vs_expected` is statistically significant.\n",
    "- The R-squared indicates that 7% of the variance found in the `review_score` is attributable to `delay_vs_expected`.\n",
    "- Since within the 95% confidence interval the slope does not contain the value zero, we can accept the coefficient as reliable"
   ]
  },
  {
   "cell_type": "code",
   "execution_count": null,
   "id": "accee865",
   "metadata": {},
   "outputs": [],
   "source": [
    "# Let's plot the univariate regression of 'review_score' on 'delay_vs_expected'\n",
    "sns.regplot(x=orders.delay_vs_expected, y=orders.review_score, y_jitter=0.1)\n",
    "plt.ylim(bottom=0);"
   ]
  },
  {
   "cell_type": "markdown",
   "id": "773b7479",
   "metadata": {},
   "source": [
    "## Multivariate Regression"
   ]
  },
  {
   "cell_type": "markdown",
   "id": "ec0a62e3",
   "metadata": {},
   "source": [
    "While the features `wait_time` and `delay_vs_expected` had higher correlations with our target variable `review_score` compared to the other features in our data, both features (`wait_time` and `delay_vs_expected`) are also highly correlated with each other (r=0.707), which makes sense since they both capture components of delivery duration for each customer's order. \n",
    "\n",
    "Since features that are highly correlated with each may be concealing a confounding variable and provide us with unreliable coefficients, we'll run some multivariate regression models that can provide a clearer sense of the impact from each feature on `review_score` while controlling for the others."
   ]
  },
  {
   "cell_type": "code",
   "execution_count": null,
   "id": "c6b071fa",
   "metadata": {
    "scrolled": true
   },
   "outputs": [],
   "source": [
    "orders.corr()['wait_time']"
   ]
  },
  {
   "cell_type": "markdown",
   "id": "9bba4c83",
   "metadata": {},
   "source": [
    "### Multivariate Regression with 2 features: `wait_time` and `delay_vs_expected`\n",
    "First, we'll regress `review_score` on just the two features `wait_time` and `delay_vs_expected`."
   ]
  },
  {
   "cell_type": "code",
   "execution_count": null,
   "id": "f9c6454f",
   "metadata": {
    "scrolled": true
   },
   "outputs": [],
   "source": [
    "model3 = smf.ols('review_score ~ wait_time + delay_vs_expected', data=orders).fit()\n",
    "model3.summary()"
   ]
  },
  {
   "cell_type": "markdown",
   "id": "8a1fed73",
   "metadata": {},
   "source": [
    "**Interpretation of Results**"
   ]
  },
  {
   "cell_type": "markdown",
   "id": "c6a34f76",
   "metadata": {},
   "source": [
    "While holding `delay_vs_expected` constant, each additional day of `wait_time` reduces the `review_score` by **3.8%** on average (slope = -0.0388). \n",
    "\n",
    "While holding `wait_time` constant, each additional day of `delay_vs_expected` reduces the `review_score` by **1.9%** on average (slope = -0.0191).\n",
    "\n",
    "Therefore, in contrast to our univariate analysis, which suggested `delay_vs_expected` (**-7.4%**) has a stronger association with low `review_scores` than `wait_time` (**-4.6%**), we find the opposite to be the case in our multivariate analysis.\n",
    "\n",
    "With a multivariate regression model that considered both features, the `wait_time` (**-3.9%**) has a stronger association with low `review_scores` than `delay_vs_expected` (**-1.9%**).\n",
    "\n",
    "- Both features show ***p-values*** close to zero indicating that they are **statistically significant**\n",
    "- Within the ***95% confidence interval***, slopes for the partial coefficients do not contain zero which allows us to consider them reliable\n",
    "- ***R-squared*** is relatively low: only **11.5%** of the variations of `review_score` is explained by the variation of `wait_time` and `delay_vs_expected`\n",
    "\n",
    "With these findings we can make the case that for the customer, the total wait time (from placing the order online to getting the package at the front door) has more impact on the review score than an order that arrives past the estimated delivery date. \n",
    "\n",
    "Therefore, for a CEO or manager hoping to improve order review scores, efforts to reduce the total wait time (perhaps in improving speed and efficiency in order processing or logistics handling) will do more than only trying to meet estimated delivery deadlines.\n"
   ]
  },
  {
   "cell_type": "markdown",
   "id": "9f5e5685",
   "metadata": {},
   "source": [
    "### Multivariate Regression with multiple features"
   ]
  },
  {
   "cell_type": "markdown",
   "id": "8dd1d664",
   "metadata": {},
   "source": [
    "Since the R-squared in our previous model with only two features was relatively low, in our next model we'll add other features from our data to build a more complete picture of what factors impact the order `review_score`. "
   ]
  },
  {
   "cell_type": "code",
   "execution_count": null,
   "id": "1dbd1c22",
   "metadata": {},
   "outputs": [],
   "source": [
    "# Features to include in the model\n",
    "features = [\n",
    "    \"wait_time\",\n",
    "    \"delay_vs_expected\",\n",
    "    \"number_of_products\",\n",
    "    \"number_of_sellers\",\n",
    "    \"price\",\n",
    "    \"freight_value\"]"
   ]
  },
  {
   "cell_type": "markdown",
   "id": "b92b2f61",
   "metadata": {},
   "source": [
    "Because these features are in different units, we'll standardize them first before putting them into our regression model. "
   ]
  },
  {
   "cell_type": "code",
   "execution_count": null,
   "id": "f08d3276",
   "metadata": {},
   "outputs": [],
   "source": [
    "# standardize features by calculating respective z-scores:   Z = (X - mu) / sigma\n",
    "\n",
    "orders_standardized = orders.copy()\n",
    "for f in features:\n",
    "    mu = orders[f].mean()\n",
    "    sigma = orders[f].std()\n",
    "    orders_standardized[f] = orders[f].map(lambda x: (x - mu) / sigma)\n",
    "\n",
    "orders_standardized.head()"
   ]
  },
  {
   "cell_type": "code",
   "execution_count": null,
   "id": "92afcba4",
   "metadata": {},
   "outputs": [],
   "source": [
    "# model4; create formula for stats.model\n",
    "\n",
    "formula = 'review_score ~ ' + ' + ' .join(features)\n",
    "formula"
   ]
  },
  {
   "cell_type": "code",
   "execution_count": null,
   "id": "7e35e52c",
   "metadata": {
    "scrolled": true
   },
   "outputs": [],
   "source": [
    "model4 = smf.ols(formula = formula, data = orders_standardized).fit()\n",
    "model4.summary()"
   ]
  },
  {
   "cell_type": "markdown",
   "id": "2438bc4f",
   "metadata": {},
   "source": [
    "To more easily compare the various partial coefficents of the features, we'll plot them on a bar chart."
   ]
  },
  {
   "cell_type": "code",
   "execution_count": null,
   "id": "a2b87223",
   "metadata": {
    "scrolled": true
   },
   "outputs": [],
   "source": [
    "model4.params[1:].sort_values().plot(kind='barh')\n",
    "plt.xlabel('Regression Partial Coefficients')\n",
    "plt.ylabel('Features');"
   ]
  },
  {
   "cell_type": "markdown",
   "id": "7c87923a",
   "metadata": {},
   "source": [
    "**Interpretation of Results**"
   ]
  },
  {
   "cell_type": "markdown",
   "id": "cd130e2f",
   "metadata": {},
   "source": [
    "With our new regression model including other features from our dataset, the `wait_time` variable (slope = -0.3898) has the most explanatory power for `review_score` relative to the other features. In this model, in comparison to `wait_time`, the difference in influence has widened with `delay_vs_expected` (slope = -0.0816)\n",
    "\n",
    "Additionally, with this model, we can see that an increase in `number_of_sellers` and `number_of_products` per order, shows a decrease in `review_score`.\n",
    "\n",
    "- The ***R-squared*** for this new model has not increased much and still only explains about 14.1% of the variance in the `review_score`. This points to most factors impacting the review score lying outside of the orders dataset.\n",
    "- The ***p-values*** for our partial coefficients are mostly close to zero. However, the coefficient for `price` is small relative to its standard error, and its 95% confidence interval for is close to containing the value of zero, which would make the coefficient less reliable.   \n",
    "- The overall model is **statistically significant** as its F-statistic is much greater than 1 (and a F-proba close to zero)"
   ]
  },
  {
   "cell_type": "markdown",
   "id": "771fd43f",
   "metadata": {},
   "source": [
    " ### Residuals"
   ]
  },
  {
   "cell_type": "markdown",
   "id": "c05a1bf0",
   "metadata": {},
   "source": [
    "Besides evaluating the statistical signficance of our features and the R-squared of our model, we should also make sure the residuals are:\n",
    " - not correlated with one another (autocorrelation)\n",
    " - normally distributed \n",
    " - constant variance (i.e. not exhibiting heteroscedasticity)\n",
    " "
   ]
  },
  {
   "cell_type": "code",
   "execution_count": null,
   "id": "a497c0ea",
   "metadata": {},
   "outputs": [],
   "source": [
    "# Residuals = predicted values - real values\n",
    "predicted_review_score = model4.predict(orders_standardized[features])\n",
    "residuals = predicted_review_score - orders_standardized.review_score\n",
    "residuals.head()"
   ]
  },
  {
   "cell_type": "markdown",
   "id": "5bea1214",
   "metadata": {},
   "source": [
    "**Check the Durbin-Watson test for autocorrelation**\n",
    "\n",
    "With a scale of 0-4 (with 0 indicating positively autocorrelated, and 4 indicating negatively autocorrelated), our value of **2.009** allows to say that there is little autocorrelation among the residuals. Autocorrelation among residuals would imply that our confidence intervals are narrower and p-values lower than they ought to be, allowing us to be more confident than we should be with our findings."
   ]
  },
  {
   "cell_type": "markdown",
   "id": "40406b3a",
   "metadata": {},
   "source": [
    "**Check the Jarque-Bera test for normality & plot the distribution**"
   ]
  },
  {
   "cell_type": "markdown",
   "id": "09337d24",
   "metadata": {},
   "source": [
    "The Jarque-Bera statistic (normal=0) measures skewness and kurtosis to assess normality. A large value like **36369.606** indicates\n",
    "that the distribution is not normal. With a p-value close to zero, this is statistically significant.\n"
   ]
  },
  {
   "cell_type": "code",
   "execution_count": null,
   "id": "5b263383",
   "metadata": {},
   "outputs": [],
   "source": [
    "# Let's confirm this with a density plot of the residulas\n",
    "sns.histplot(residuals, kde=True, stat='density', discrete=True)\n",
    "plt.title('residuals density plot');"
   ]
  },
  {
   "cell_type": "markdown",
   "id": "dbebb185",
   "metadata": {},
   "source": [
    "As we can see the numerous humps in the plot, this distribution does not look normal...."
   ]
  },
  {
   "cell_type": "markdown",
   "id": "98c4f237",
   "metadata": {},
   "source": [
    "**Check the variance of the residuals for heteroskedasticity**"
   ]
  },
  {
   "cell_type": "code",
   "execution_count": null,
   "id": "d1300615",
   "metadata": {},
   "outputs": [],
   "source": [
    "# Let's check the variance by plotting the residuals against the fitted values\n",
    "sns.scatterplot(y=residuals, x=predicted_review_score);"
   ]
  },
  {
   "cell_type": "code",
   "execution_count": null,
   "id": "31af7d44",
   "metadata": {},
   "outputs": [],
   "source": [
    "from statsmodels.stats.diagnostic import het_breuschpagan as bp\n",
    "\n",
    "bp_results = bp(residuals, exog_het=orders_standardized[features])\n",
    "bp_results\n",
    "\n"
   ]
  },
  {
   "cell_type": "markdown",
   "id": "29abb98c",
   "metadata": {},
   "source": [
    "**Conclusion**"
   ]
  },
  {
   "cell_type": "markdown",
   "id": "5cd08bc9",
   "metadata": {},
   "source": [
    "We can start to see that a linear regression model is failing along some basic assumptions (e.g. normality of residuals) and poor performance (e.g. R-squared is low). Since our review score (five-star rating system) is a categorical variable, we'll now look at applying a logistic regression model"
   ]
  },
  {
   "cell_type": "markdown",
   "id": "baf4e654",
   "metadata": {},
   "source": [
    "# Logistic Regression"
   ]
  },
  {
   "cell_type": "markdown",
   "id": "19e5ed20",
   "metadata": {},
   "source": [
    "For our logistic regression models, we'll see how features have an impact on very poor 1-star reviews (`dim_is_one_star`) and on very good 5-star reviews (`dim_is_five_star`). "
   ]
  },
  {
   "cell_type": "markdown",
   "id": "8edc9520",
   "metadata": {},
   "source": [
    "Let's stick with the same features from our multivariate linear regression that had statistically significant partial coefficients."
   ]
  },
  {
   "cell_type": "code",
   "execution_count": null,
   "id": "b18325c8",
   "metadata": {},
   "outputs": [],
   "source": [
    "features = ['wait_time', 'delay_vs_expected', 'number_of_products', 'number_of_sellers', 'price', 'freight_value']"
   ]
  },
  {
   "cell_type": "markdown",
   "id": "1e204b65",
   "metadata": {},
   "source": [
    "To make sure we have a degree of collinearity among these features that isn't too high (vif < 10), let's look at the Variance Inflation Factor (vif). "
   ]
  },
  {
   "cell_type": "code",
   "execution_count": null,
   "id": "e16427a3",
   "metadata": {},
   "outputs": [],
   "source": [
    "# Check for multi-colinearity by looking at Variance Inflation Factor (vif)\n",
    "from statsmodels.stats.outliers_influence import variance_inflation_factor as vif\n",
    "X = orders[features]\n",
    "X"
   ]
  },
  {
   "cell_type": "code",
   "execution_count": null,
   "id": "161e9609",
   "metadata": {},
   "outputs": [],
   "source": [
    "df = pd.DataFrame()\n",
    "df['vif_index'] = [vif(X.values, i) for i in range(X.shape[1])]\n",
    "df['features'] = X.columns\n",
    "df"
   ]
  },
  {
   "cell_type": "code",
   "execution_count": null,
   "id": "c7e09230",
   "metadata": {
    "scrolled": true
   },
   "outputs": [],
   "source": [
    "df = pd.DataFrame()\n",
    "df['vif_index'] = [vif(X.values, i) for i in range(X.shape[1])]\n",
    "df['features'] = X.columns\n",
    "df"
   ]
  },
  {
   "cell_type": "code",
   "execution_count": null,
   "id": "66898894",
   "metadata": {},
   "outputs": [],
   "source": []
  },
  {
   "cell_type": "code",
   "execution_count": null,
   "id": "978919f8",
   "metadata": {
    "scrolled": true
   },
   "outputs": [],
   "source": [
    "# Use heatmap to detect correlations with 'review_score'\n",
    "plt.figure(figsize=(15,6))\n",
    "sns.heatmap(orders.corr(), cmap='coolwarm');"
   ]
  },
  {
   "cell_type": "code",
   "execution_count": null,
   "id": "0f98663e",
   "metadata": {
    "scrolled": true
   },
   "outputs": [],
   "source": [
    "# Let's look at the values of the correlation coefficients\n",
    "orders.corr()['review_score']"
   ]
  },
  {
   "cell_type": "markdown",
   "id": "726bcda8",
   "metadata": {},
   "source": [
    "After noticing the high multi-collinearity between features, we can remove `number_of_sellers` and `price` to reduce the VIF for the remaining features."
   ]
  },
  {
   "cell_type": "code",
   "execution_count": null,
   "id": "d6f87f92",
   "metadata": {},
   "outputs": [],
   "source": []
  },
  {
   "cell_type": "code",
   "execution_count": null,
   "id": "8ebf6f6f",
   "metadata": {},
   "outputs": [],
   "source": []
  },
  {
   "cell_type": "code",
   "execution_count": null,
   "id": "f4f96363",
   "metadata": {},
   "outputs": [],
   "source": [
    "# Fitting 2 LOGIT models (logit_one and logit_five) to predict dim_is_one_star and dim_is_five_star\n",
    "logit_one = smf.logit(formula='dim_is_one_star ~' + ' + '.join(features), data=orders).fit()\n",
    "print(logit_one.summary())"
   ]
  },
  {
   "cell_type": "code",
   "execution_count": null,
   "id": "820e2688",
   "metadata": {},
   "outputs": [],
   "source": [
    "logit_five = smf.logit(formula='dim_is_five_star ~' + ' + '.join(features), data=orders).fit()\n",
    "print(logit_five.summary())"
   ]
  },
  {
   "cell_type": "code",
   "execution_count": null,
   "id": "250f9473",
   "metadata": {},
   "outputs": [],
   "source": [
    "#Compare against Ordinary Least Squares (OLS) Regression \n",
    "linear_model = smf.ols(formula='review_score ~' + ' + '.join(features), data=orders).fit()\n",
    "print(linear_model.summary())"
   ]
  },
  {
   "cell_type": "code",
   "execution_count": null,
   "id": "773a61ef",
   "metadata": {},
   "outputs": [],
   "source": [
    "plt.figure(figsize=(13,5))\n",
    "plt.suptitle('Linear vs. Logit Coefficients')\n",
    "ax1 = plt.subplot(1,2,1)\n",
    "ax1.set_title('Linear')\n",
    "ax1.set_xlim(-1.5, 0.25)\n",
    "linear_model.params[1:].sort_values().plot(kind='barh', ax=ax1)\n",
    "\n",
    "ax2 = plt.subplot(1,2,2)\n",
    "ax2.set_title('Logit')\n",
    "ax2.yaxis.tick_right()\n",
    "ax2.set_xlim(-1.5, 0.25)\n",
    "logit_five.params[1:].sort_values().plot(kind='barh', ax=ax2)\n",
    "\n",
    "plt.show()\n",
    "\n"
   ]
  },
  {
   "cell_type": "code",
   "execution_count": null,
   "id": "a84cf0a4",
   "metadata": {},
   "outputs": [],
   "source": [
    "# According to the R-squared,roughly 14% of the variance can be explained from the selected features"
   ]
  },
  {
   "cell_type": "code",
   "execution_count": null,
   "id": "e59c6d80",
   "metadata": {},
   "outputs": [],
   "source": [
    "#Use ANOVA correlation test - "
   ]
  }
 ],
 "metadata": {
  "kernelspec": {
   "display_name": "Python 3",
   "language": "python",
   "name": "python3"
  },
  "language_info": {
   "codemirror_mode": {
    "name": "ipython",
    "version": 3
   },
   "file_extension": ".py",
   "mimetype": "text/x-python",
   "name": "python",
   "nbconvert_exporter": "python",
   "pygments_lexer": "ipython3",
   "version": "3.8.6"
  },
  "toc": {
   "base_numbering": 1,
   "nav_menu": {},
   "number_sections": true,
   "sideBar": true,
   "skip_h1_title": true,
   "title_cell": "Table of Contents",
   "title_sidebar": "Contents",
   "toc_cell": false,
   "toc_position": {},
   "toc_section_display": true,
   "toc_window_display": false
  }
 },
 "nbformat": 4,
 "nbformat_minor": 5
}
