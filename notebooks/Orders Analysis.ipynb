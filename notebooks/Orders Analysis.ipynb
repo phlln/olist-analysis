{
 "cells": [
  {
   "cell_type": "markdown",
   "id": "c95131d1",
   "metadata": {},
   "source": [
    "# Orders Data Analysis"
   ]
  },
  {
   "cell_type": "markdown",
   "id": "c8af43f7",
   "metadata": {},
   "source": [
    "**Notebook Objective**\n",
    "\n",
    "In this notebook we'll take a closer look at the **Orders** data from Brazilian e-commerce platform **Olist**. In the first two sections we'll do some exploratory data analysis by examining the distributions of features and look for any correlation. Then, in the final three sections we'll apply various models to further understand the relationship between the **review score** with all other features.\n",
    "\n",
    "***Exploratory Data Analysis***\n",
    "1. Distributions\n",
    "2. Correlations"
   ]
  },
  {
   "cell_type": "markdown",
   "id": "584c6e43",
   "metadata": {},
   "source": [
    "***Models***\n",
    "\n",
    "3. Univariate Linear Regression\n",
    "4. Multivariate Linear Regression\n",
    "5. Logistic Regression\n"
   ]
  },
  {
   "cell_type": "code",
   "execution_count": 1,
   "id": "bb230ffc",
   "metadata": {},
   "outputs": [],
   "source": [
    "# Import relevant libraries and modules\n",
    "%load_ext autoreload\n",
    "%autoreload 2\n",
    "\n",
    "import pandas as pd\n",
    "import numpy as np\n",
    "import seaborn as sns\n",
    "import matplotlib.pyplot as plt\n",
    "import statsmodels.formula.api as smf\n",
    "from statsmodels.stats.outliers_influence import variance_inflation_factor as vif\n",
    "import math\n",
    "\n",
    "from olist.data import Olist\n",
    "from olist.order import Order"
   ]
  },
  {
   "cell_type": "markdown",
   "id": "127aed01",
   "metadata": {},
   "source": [
    "## Distributions"
   ]
  },
  {
   "cell_type": "markdown",
   "id": "e7d31de7",
   "metadata": {},
   "source": [
    "Let's begin by analyzing features from the **Orders** data and understanding their distributions. We'll examine them in smaller groups:\n",
    "- `wait_time`, `expected_wait_time`, and `delay_vs_expected`\n",
    "- `dim_is_five_star`, `dim_is_one_star`, and `review_score`\n",
    "- `number_of_products`, `number_of_sellers`, `price`, and `freight_value`"
   ]
  },
  {
   "cell_type": "code",
   "execution_count": 2,
   "id": "8d9f96eb",
   "metadata": {},
   "outputs": [
    {
     "data": {
      "text/html": [
       "<div>\n",
       "<style scoped>\n",
       "    .dataframe tbody tr th:only-of-type {\n",
       "        vertical-align: middle;\n",
       "    }\n",
       "\n",
       "    .dataframe tbody tr th {\n",
       "        vertical-align: top;\n",
       "    }\n",
       "\n",
       "    .dataframe thead th {\n",
       "        text-align: right;\n",
       "    }\n",
       "</style>\n",
       "<table border=\"1\" class=\"dataframe\">\n",
       "  <thead>\n",
       "    <tr style=\"text-align: right;\">\n",
       "      <th></th>\n",
       "      <th>order_id</th>\n",
       "      <th>wait_time</th>\n",
       "      <th>expected_wait_time</th>\n",
       "      <th>delay_vs_expected</th>\n",
       "      <th>order_status</th>\n",
       "      <th>dim_is_five_star</th>\n",
       "      <th>dim_is_one_star</th>\n",
       "      <th>review_score</th>\n",
       "      <th>number_of_products</th>\n",
       "      <th>number_of_sellers</th>\n",
       "      <th>price</th>\n",
       "      <th>freight_value</th>\n",
       "    </tr>\n",
       "  </thead>\n",
       "  <tbody>\n",
       "    <tr>\n",
       "      <th>0</th>\n",
       "      <td>e481f51cbdc54678b7cc49136f2d6af7</td>\n",
       "      <td>8.436574</td>\n",
       "      <td>15.544063</td>\n",
       "      <td>0.0</td>\n",
       "      <td>delivered</td>\n",
       "      <td>0</td>\n",
       "      <td>0</td>\n",
       "      <td>4</td>\n",
       "      <td>1</td>\n",
       "      <td>1</td>\n",
       "      <td>29.99</td>\n",
       "      <td>8.72</td>\n",
       "    </tr>\n",
       "    <tr>\n",
       "      <th>1</th>\n",
       "      <td>53cdb2fc8bc7dce0b6741e2150273451</td>\n",
       "      <td>13.782037</td>\n",
       "      <td>19.137766</td>\n",
       "      <td>0.0</td>\n",
       "      <td>delivered</td>\n",
       "      <td>0</td>\n",
       "      <td>0</td>\n",
       "      <td>4</td>\n",
       "      <td>1</td>\n",
       "      <td>1</td>\n",
       "      <td>118.70</td>\n",
       "      <td>22.76</td>\n",
       "    </tr>\n",
       "    <tr>\n",
       "      <th>2</th>\n",
       "      <td>47770eb9100c2d0c44946d9cf07ec65d</td>\n",
       "      <td>9.394213</td>\n",
       "      <td>26.639711</td>\n",
       "      <td>0.0</td>\n",
       "      <td>delivered</td>\n",
       "      <td>1</td>\n",
       "      <td>0</td>\n",
       "      <td>5</td>\n",
       "      <td>1</td>\n",
       "      <td>1</td>\n",
       "      <td>159.90</td>\n",
       "      <td>19.22</td>\n",
       "    </tr>\n",
       "    <tr>\n",
       "      <th>3</th>\n",
       "      <td>949d5b44dbf5de918fe9c16f97b45f8a</td>\n",
       "      <td>13.208750</td>\n",
       "      <td>26.188819</td>\n",
       "      <td>0.0</td>\n",
       "      <td>delivered</td>\n",
       "      <td>1</td>\n",
       "      <td>0</td>\n",
       "      <td>5</td>\n",
       "      <td>1</td>\n",
       "      <td>1</td>\n",
       "      <td>45.00</td>\n",
       "      <td>27.20</td>\n",
       "    </tr>\n",
       "    <tr>\n",
       "      <th>4</th>\n",
       "      <td>ad21c59c0840e6cb83a9ceb5573f8159</td>\n",
       "      <td>2.873877</td>\n",
       "      <td>12.112049</td>\n",
       "      <td>0.0</td>\n",
       "      <td>delivered</td>\n",
       "      <td>1</td>\n",
       "      <td>0</td>\n",
       "      <td>5</td>\n",
       "      <td>1</td>\n",
       "      <td>1</td>\n",
       "      <td>19.90</td>\n",
       "      <td>8.72</td>\n",
       "    </tr>\n",
       "  </tbody>\n",
       "</table>\n",
       "</div>"
      ],
      "text/plain": [
       "                           order_id  wait_time  expected_wait_time  \\\n",
       "0  e481f51cbdc54678b7cc49136f2d6af7   8.436574           15.544063   \n",
       "1  53cdb2fc8bc7dce0b6741e2150273451  13.782037           19.137766   \n",
       "2  47770eb9100c2d0c44946d9cf07ec65d   9.394213           26.639711   \n",
       "3  949d5b44dbf5de918fe9c16f97b45f8a  13.208750           26.188819   \n",
       "4  ad21c59c0840e6cb83a9ceb5573f8159   2.873877           12.112049   \n",
       "\n",
       "   delay_vs_expected order_status  dim_is_five_star  dim_is_one_star  \\\n",
       "0                0.0    delivered                 0                0   \n",
       "1                0.0    delivered                 0                0   \n",
       "2                0.0    delivered                 1                0   \n",
       "3                0.0    delivered                 1                0   \n",
       "4                0.0    delivered                 1                0   \n",
       "\n",
       "   review_score  number_of_products  number_of_sellers   price  freight_value  \n",
       "0             4                   1                  1   29.99           8.72  \n",
       "1             4                   1                  1  118.70          22.76  \n",
       "2             5                   1                  1  159.90          19.22  \n",
       "3             5                   1                  1   45.00          27.20  \n",
       "4             5                   1                  1   19.90           8.72  "
      ]
     },
     "execution_count": 2,
     "metadata": {},
     "output_type": "execute_result"
    }
   ],
   "source": [
    "# Load and inspect Orders data\n",
    "orders = Order().get_training_data()\n",
    "orders.head()"
   ]
  },
  {
   "cell_type": "code",
   "execution_count": 3,
   "id": "8dfff21e",
   "metadata": {
    "scrolled": false
   },
   "outputs": [
    {
     "data": {
      "text/html": [
       "<div>\n",
       "<style scoped>\n",
       "    .dataframe tbody tr th:only-of-type {\n",
       "        vertical-align: middle;\n",
       "    }\n",
       "\n",
       "    .dataframe tbody tr th {\n",
       "        vertical-align: top;\n",
       "    }\n",
       "\n",
       "    .dataframe thead th {\n",
       "        text-align: right;\n",
       "    }\n",
       "</style>\n",
       "<table border=\"1\" class=\"dataframe\">\n",
       "  <thead>\n",
       "    <tr style=\"text-align: right;\">\n",
       "      <th></th>\n",
       "      <th>wait_time</th>\n",
       "      <th>expected_wait_time</th>\n",
       "      <th>delay_vs_expected</th>\n",
       "      <th>dim_is_five_star</th>\n",
       "      <th>dim_is_one_star</th>\n",
       "      <th>review_score</th>\n",
       "      <th>number_of_products</th>\n",
       "      <th>number_of_sellers</th>\n",
       "      <th>price</th>\n",
       "      <th>freight_value</th>\n",
       "    </tr>\n",
       "  </thead>\n",
       "  <tbody>\n",
       "    <tr>\n",
       "      <th>count</th>\n",
       "      <td>97007.000000</td>\n",
       "      <td>97007.000000</td>\n",
       "      <td>97007.000000</td>\n",
       "      <td>97007.000000</td>\n",
       "      <td>97007.000000</td>\n",
       "      <td>97007.000000</td>\n",
       "      <td>97007.000000</td>\n",
       "      <td>97007.000000</td>\n",
       "      <td>97007.000000</td>\n",
       "      <td>97007.000000</td>\n",
       "    </tr>\n",
       "    <tr>\n",
       "      <th>mean</th>\n",
       "      <td>12.564574</td>\n",
       "      <td>23.747123</td>\n",
       "      <td>0.774420</td>\n",
       "      <td>0.589061</td>\n",
       "      <td>0.100539</td>\n",
       "      <td>4.142237</td>\n",
       "      <td>1.142598</td>\n",
       "      <td>1.013968</td>\n",
       "      <td>136.895781</td>\n",
       "      <td>22.780658</td>\n",
       "    </tr>\n",
       "    <tr>\n",
       "      <th>std</th>\n",
       "      <td>9.542359</td>\n",
       "      <td>8.762100</td>\n",
       "      <td>4.747827</td>\n",
       "      <td>0.492007</td>\n",
       "      <td>0.300719</td>\n",
       "      <td>1.296559</td>\n",
       "      <td>0.540014</td>\n",
       "      <td>0.123772</td>\n",
       "      <td>208.701803</td>\n",
       "      <td>21.532648</td>\n",
       "    </tr>\n",
       "    <tr>\n",
       "      <th>min</th>\n",
       "      <td>0.533414</td>\n",
       "      <td>2.008009</td>\n",
       "      <td>0.000000</td>\n",
       "      <td>0.000000</td>\n",
       "      <td>0.000000</td>\n",
       "      <td>1.000000</td>\n",
       "      <td>1.000000</td>\n",
       "      <td>1.000000</td>\n",
       "      <td>0.850000</td>\n",
       "      <td>0.000000</td>\n",
       "    </tr>\n",
       "    <tr>\n",
       "      <th>25%</th>\n",
       "      <td>6.771296</td>\n",
       "      <td>18.337187</td>\n",
       "      <td>0.000000</td>\n",
       "      <td>0.000000</td>\n",
       "      <td>0.000000</td>\n",
       "      <td>4.000000</td>\n",
       "      <td>1.000000</td>\n",
       "      <td>1.000000</td>\n",
       "      <td>45.900000</td>\n",
       "      <td>13.850000</td>\n",
       "    </tr>\n",
       "    <tr>\n",
       "      <th>50%</th>\n",
       "      <td>10.225243</td>\n",
       "      <td>23.235741</td>\n",
       "      <td>0.000000</td>\n",
       "      <td>1.000000</td>\n",
       "      <td>0.000000</td>\n",
       "      <td>5.000000</td>\n",
       "      <td>1.000000</td>\n",
       "      <td>1.000000</td>\n",
       "      <td>86.000000</td>\n",
       "      <td>17.170000</td>\n",
       "    </tr>\n",
       "    <tr>\n",
       "      <th>75%</th>\n",
       "      <td>15.732506</td>\n",
       "      <td>28.416094</td>\n",
       "      <td>0.000000</td>\n",
       "      <td>1.000000</td>\n",
       "      <td>0.000000</td>\n",
       "      <td>5.000000</td>\n",
       "      <td>1.000000</td>\n",
       "      <td>1.000000</td>\n",
       "      <td>149.900000</td>\n",
       "      <td>24.020000</td>\n",
       "    </tr>\n",
       "    <tr>\n",
       "      <th>max</th>\n",
       "      <td>209.628611</td>\n",
       "      <td>155.135463</td>\n",
       "      <td>188.975081</td>\n",
       "      <td>1.000000</td>\n",
       "      <td>1.000000</td>\n",
       "      <td>5.000000</td>\n",
       "      <td>21.000000</td>\n",
       "      <td>5.000000</td>\n",
       "      <td>13440.000000</td>\n",
       "      <td>1794.960000</td>\n",
       "    </tr>\n",
       "  </tbody>\n",
       "</table>\n",
       "</div>"
      ],
      "text/plain": [
       "          wait_time  expected_wait_time  delay_vs_expected  dim_is_five_star  \\\n",
       "count  97007.000000        97007.000000       97007.000000      97007.000000   \n",
       "mean      12.564574           23.747123           0.774420          0.589061   \n",
       "std        9.542359            8.762100           4.747827          0.492007   \n",
       "min        0.533414            2.008009           0.000000          0.000000   \n",
       "25%        6.771296           18.337187           0.000000          0.000000   \n",
       "50%       10.225243           23.235741           0.000000          1.000000   \n",
       "75%       15.732506           28.416094           0.000000          1.000000   \n",
       "max      209.628611          155.135463         188.975081          1.000000   \n",
       "\n",
       "       dim_is_one_star  review_score  number_of_products  number_of_sellers  \\\n",
       "count     97007.000000  97007.000000        97007.000000       97007.000000   \n",
       "mean          0.100539      4.142237            1.142598           1.013968   \n",
       "std           0.300719      1.296559            0.540014           0.123772   \n",
       "min           0.000000      1.000000            1.000000           1.000000   \n",
       "25%           0.000000      4.000000            1.000000           1.000000   \n",
       "50%           0.000000      5.000000            1.000000           1.000000   \n",
       "75%           0.000000      5.000000            1.000000           1.000000   \n",
       "max           1.000000      5.000000           21.000000           5.000000   \n",
       "\n",
       "              price  freight_value  \n",
       "count  97007.000000   97007.000000  \n",
       "mean     136.895781      22.780658  \n",
       "std      208.701803      21.532648  \n",
       "min        0.850000       0.000000  \n",
       "25%       45.900000      13.850000  \n",
       "50%       86.000000      17.170000  \n",
       "75%      149.900000      24.020000  \n",
       "max    13440.000000    1794.960000  "
      ]
     },
     "execution_count": 3,
     "metadata": {},
     "output_type": "execute_result"
    }
   ],
   "source": [
    "# Get summary stats\n",
    "orders.describe()"
   ]
  },
  {
   "cell_type": "code",
   "execution_count": 4,
   "id": "9afb3f07",
   "metadata": {},
   "outputs": [
    {
     "name": "stdout",
     "output_type": "stream",
     "text": [
      "<class 'pandas.core.frame.DataFrame'>\n",
      "Int64Index: 97007 entries, 0 to 97014\n",
      "Data columns (total 12 columns):\n",
      " #   Column              Non-Null Count  Dtype  \n",
      "---  ------              --------------  -----  \n",
      " 0   order_id            97007 non-null  object \n",
      " 1   wait_time           97007 non-null  float64\n",
      " 2   expected_wait_time  97007 non-null  float64\n",
      " 3   delay_vs_expected   97007 non-null  float64\n",
      " 4   order_status        97007 non-null  object \n",
      " 5   dim_is_five_star    97007 non-null  int64  \n",
      " 6   dim_is_one_star     97007 non-null  int64  \n",
      " 7   review_score        97007 non-null  int64  \n",
      " 8   number_of_products  97007 non-null  int64  \n",
      " 9   number_of_sellers   97007 non-null  int64  \n",
      " 10  price               97007 non-null  float64\n",
      " 11  freight_value       97007 non-null  float64\n",
      "dtypes: float64(5), int64(5), object(2)\n",
      "memory usage: 9.6+ MB\n"
     ]
    }
   ],
   "source": [
    "# Inspect data types and look for null values\n",
    "orders.info()"
   ]
  },
  {
   "cell_type": "markdown",
   "id": "d91b426b",
   "metadata": {},
   "source": [
    "### Distributions for `wait_time`, `expected_wait_time`, and `delay_vs_expected`"
   ]
  },
  {
   "cell_type": "markdown",
   "id": "9ae78304",
   "metadata": {},
   "source": [
    "This first grouping of features relate to time and expectations for each order."
   ]
  },
  {
   "cell_type": "code",
   "execution_count": 5,
   "id": "e1cec52b",
   "metadata": {
    "scrolled": true
   },
   "outputs": [
    {
     "data": {
      "image/png": "[encoded data removed]",
      "text/plain": [
       "<Figure size 1080x432 with 1 Axes>"
      ]
     },
     "metadata": {},
     "output_type": "display_data"
    }
   ],
   "source": [
    "# 'wait_time' histogram\n",
    "sns.set_style('darkgrid')\n",
    "plt.figure(figsize=(15,6))\n",
    "sns.histplot(orders.wait_time);"
   ]
  },
  {
   "cell_type": "code",
   "execution_count": 6,
   "id": "ba35a4cb",
   "metadata": {
    "scrolled": false
   },
   "outputs": [
    {
     "data": {
      "image/png": "[encoded data removed]",
      "text/plain": [
       "<Figure size 1080x216 with 5 Axes>"
      ]
     },
     "metadata": {},
     "output_type": "display_data"
    }
   ],
   "source": [
    "# Let's look at the distribution of 'wait_time' by review_score\n",
    "g = sns.FacetGrid(data=orders, col='review_score')\n",
    "g.map(sns.histplot, 'wait_time')\n",
    "g.set(xlim=(0,100))\n",
    "plt.show();"
   ]
  },
  {
   "cell_type": "markdown",
   "id": "48315aa7",
   "metadata": {},
   "source": [
    "If we look at the change in shape of the distribution for `wait_time` across the various review scores, we can see that the **lower** the score, the **flatter and more right-skewed** the shape becomes. This suggests that lower scores are more likely to be associated with a longer `wait_time` for their order deliveries. "
   ]
  },
  {
   "cell_type": "code",
   "execution_count": 7,
   "id": "04210bfe",
   "metadata": {
    "scrolled": true
   },
   "outputs": [
    {
     "data": {
      "image/png": "[encoded data removed]",
      "text/plain": [
       "<Figure size 1080x432 with 1 Axes>"
      ]
     },
     "metadata": {},
     "output_type": "display_data"
    }
   ],
   "source": [
    "#'expected_wait_time' histogram\n",
    "plt.figure(figsize=(15,6))\n",
    "sns.histplot(orders.expected_wait_time);"
   ]
  },
  {
   "cell_type": "code",
   "execution_count": 8,
   "id": "f106970f",
   "metadata": {
    "scrolled": true
   },
   "outputs": [
    {
     "data": {
      "image/png": "[encoded data removed]",
      "text/plain": [
       "<Figure size 1080x216 with 5 Axes>"
      ]
     },
     "metadata": {},
     "output_type": "display_data"
    }
   ],
   "source": [
    "g1 = sns.FacetGrid(data=orders, col='review_score')\n",
    "g1.set(xlim=(0,80))\n",
    "g1.map(sns.histplot, 'expected_wait_time');"
   ]
  },
  {
   "cell_type": "markdown",
   "id": "2615b571",
   "metadata": {},
   "source": [
    "With `expected_wait_time`, which represents the projected time from order to delivery that has been given to a customer, we see a roughly symmetrical distribution with average time of ~23 days across all review scores. While we see higher peaks with the higher review scores of 4 and 5, there is a less clear pattern when including the lower scores. We'll check a little later to see if the difference in peaks for each score is just a reflection of the distribution of `review_score` in the data, and not necessarily associated with `expected_wait_time`.  \n",
    "\n"
   ]
  },
  {
   "cell_type": "code",
   "execution_count": 9,
   "id": "29548896",
   "metadata": {
    "scrolled": true
   },
   "outputs": [
    {
     "data": {
      "image/png": "[encoded data removed]",
      "text/plain": [
       "<Figure size 1080x432 with 1 Axes>"
      ]
     },
     "metadata": {},
     "output_type": "display_data"
    }
   ],
   "source": [
    "#'delay_vs_expected' histogram\n",
    "plt.figure(figsize=(15,6))\n",
    "sns.histplot(orders.delay_vs_expected);"
   ]
  },
  {
   "cell_type": "code",
   "execution_count": 10,
   "id": "05614c3d",
   "metadata": {
    "scrolled": true
   },
   "outputs": [
    {
     "data": {
      "image/png": "[encoded data removed]",
      "text/plain": [
       "<Figure size 1080x216 with 5 Axes>"
      ]
     },
     "metadata": {},
     "output_type": "display_data"
    }
   ],
   "source": [
    "g2 = sns.FacetGrid(data=orders, col='review_score')\n",
    "g2.set(xlim=(0,50))\n",
    "g2.map(plt.hist, 'delay_vs_expected');"
   ]
  },
  {
   "cell_type": "markdown",
   "id": "9fb4877a",
   "metadata": {},
   "source": [
    "From the charts, it looks like *delayed orders* make up only a tiny fraction of all orders. And, among those, we see a larger share with a **`review_score` = 1**. Let's just check the numbers more precisely."
   ]
  },
  {
   "cell_type": "code",
   "execution_count": 11,
   "id": "f2f5d5e6",
   "metadata": {},
   "outputs": [
    {
     "data": {
      "text/plain": [
       "7865"
      ]
     },
     "execution_count": 11,
     "metadata": {},
     "output_type": "execute_result"
    }
   ],
   "source": [
    "# Number of delayed orders\n",
    "orders[orders.delay_vs_expected > 0].shape[0]"
   ]
  },
  {
   "cell_type": "code",
   "execution_count": 12,
   "id": "f431f938",
   "metadata": {
    "scrolled": true
   },
   "outputs": [
    {
     "data": {
      "text/plain": [
       "3671"
      ]
     },
     "execution_count": 12,
     "metadata": {},
     "output_type": "execute_result"
    }
   ],
   "source": [
    "# Number of delayed orders and receiving review score of 1\n",
    "orders[(orders.delay_vs_expected > 0) & (orders.review_score == 1)].shape[0] "
   ]
  },
  {
   "cell_type": "markdown",
   "id": "3eedaf4d",
   "metadata": {},
   "source": [
    "Out of **97,000** orders, only about **8%** are delayed, and of those that do get delayed, a **about half** receive **`review_score` = 1**."
   ]
  },
  {
   "cell_type": "markdown",
   "id": "4ab7bb0b",
   "metadata": {},
   "source": [
    "### Distributions for `dim_is_five_star`, `dim_is_one_star`, and `review_score`"
   ]
  },
  {
   "cell_type": "markdown",
   "id": "5c3af8ae",
   "metadata": {},
   "source": [
    "This grouping represents the target variables in our analysis. The variables `dim_is_five_star` and `dim_is_one_star` are one-hot encodings for a `review_score` with *five stars* and *one star*, respectively."
   ]
  },
  {
   "cell_type": "code",
   "execution_count": 13,
   "id": "5d714809",
   "metadata": {},
   "outputs": [
    {
     "data": {
      "image/png": "[encoded data removed]",
      "text/plain": [
       "<Figure size 1080x360 with 3 Axes>"
      ]
     },
     "metadata": {},
     "output_type": "display_data"
    }
   ],
   "source": [
    "# Histograms of 'dim_is_five_star', 'dim_is_one_star', and 'review_score'\n",
    "\n",
    "fig, (ax1,ax2,ax3) = plt.subplots(1,3, figsize=(15,5))\n",
    "\n",
    "ax1 = sns.histplot(orders.dim_is_five_star, ax=ax1);\n",
    "\n",
    "ax2 = sns.histplot(orders.dim_is_one_star, ax=ax2);\n",
    "\n",
    "ax3 = sns.histplot(orders.review_score, discrete=True, ax=ax3)\n",
    "\n",
    "fig.suptitle('Distribution Plots');\n"
   ]
  },
  {
   "cell_type": "markdown",
   "id": "e679ff2b",
   "metadata": {},
   "source": [
    "With this distribution of `review_score`, we can see a similar pattern that was reflected in the peak heights of the the first grouping `wait_time`, `expected_wait_time`, and `delay_vs_expected`. Namely, the lowest point is at score 2, followed by similar heights for 1 and 3, followed by a higher level for score 4, and then finally a significantly higher level for score 5. \n",
    "\n",
    "This suggests that for the features `expected_wait_time` and `delay_vs_expected`, the differences in heights can be attributed primarily to the underlying distribution of `review_score` in the dataset. However, with the `wait_time` feature, additional differences in skewness suggest that there is a relationship with `review_score` which is not only explained by the underlying distribution of `review_score`."
   ]
  },
  {
   "cell_type": "markdown",
   "id": "7003df9e",
   "metadata": {},
   "source": [
    "!!!!!\n",
    "\n",
    "\n",
    "ADD j-shaped distribution or link to it in Seller Analysis ----Then refer to it for reason of Logistic Regression."
   ]
  },
  {
   "cell_type": "markdown",
   "id": "38644013",
   "metadata": {},
   "source": [
    "### Distributions for `number_of_products`, `number_of_sellers`, `price`, and `freight_value`"
   ]
  },
  {
   "cell_type": "markdown",
   "id": "6825fceb",
   "metadata": {},
   "source": [
    "This grouping of features focus more on the characteristics of the order itself. "
   ]
  },
  {
   "cell_type": "code",
   "execution_count": 14,
   "id": "d4c715bb",
   "metadata": {
    "scrolled": false
   },
   "outputs": [
    {
     "data": {
      "image/png": "[encoded data removed]",
      "text/plain": [
       "<Figure size 1080x720 with 4 Axes>"
      ]
     },
     "metadata": {},
     "output_type": "display_data"
    }
   ],
   "source": [
    "# Histograms for 'number_of_products','number_of_sellers','price', and 'freight_value'\n",
    "fig, (ax1,ax2, ax3, ax4) = plt.subplots(4,1, figsize=(15, 10))\n",
    "ax1 = sns.histplot(orders.number_of_products, ax=ax1);\n",
    "ax2 = sns.histplot(orders.number_of_sellers, ax=ax2);\n",
    "ax3 = sns.histplot(orders.price, ax=ax3);\n",
    "ax4 = sns.histplot(orders.freight_value, ax=ax4);\n",
    "fig.tight_layout()"
   ]
  },
  {
   "cell_type": "markdown",
   "id": "ee12ec77",
   "metadata": {},
   "source": [
    "From these histograms it's clear that there are pretty large outliers particularly for `price` and `freight_value`. Among orders, very few contain more than a single product or seller. \n",
    "\n",
    "Let's look at a statistical summary to get a more precise picture."
   ]
  },
  {
   "cell_type": "code",
   "execution_count": 15,
   "id": "94b05d79",
   "metadata": {
    "scrolled": true
   },
   "outputs": [
    {
     "data": {
      "text/html": [
       "<div>\n",
       "<style scoped>\n",
       "    .dataframe tbody tr th:only-of-type {\n",
       "        vertical-align: middle;\n",
       "    }\n",
       "\n",
       "    .dataframe tbody tr th {\n",
       "        vertical-align: top;\n",
       "    }\n",
       "\n",
       "    .dataframe thead th {\n",
       "        text-align: right;\n",
       "    }\n",
       "</style>\n",
       "<table border=\"1\" class=\"dataframe\">\n",
       "  <thead>\n",
       "    <tr style=\"text-align: right;\">\n",
       "      <th></th>\n",
       "      <th>number_of_products</th>\n",
       "      <th>number_of_sellers</th>\n",
       "      <th>price</th>\n",
       "      <th>freight_value</th>\n",
       "    </tr>\n",
       "  </thead>\n",
       "  <tbody>\n",
       "    <tr>\n",
       "      <th>count</th>\n",
       "      <td>97007.000000</td>\n",
       "      <td>97007.000000</td>\n",
       "      <td>97007.000000</td>\n",
       "      <td>97007.000000</td>\n",
       "    </tr>\n",
       "    <tr>\n",
       "      <th>mean</th>\n",
       "      <td>1.142598</td>\n",
       "      <td>1.013968</td>\n",
       "      <td>136.895781</td>\n",
       "      <td>22.780658</td>\n",
       "    </tr>\n",
       "    <tr>\n",
       "      <th>std</th>\n",
       "      <td>0.540014</td>\n",
       "      <td>0.123772</td>\n",
       "      <td>208.701803</td>\n",
       "      <td>21.532648</td>\n",
       "    </tr>\n",
       "    <tr>\n",
       "      <th>min</th>\n",
       "      <td>1.000000</td>\n",
       "      <td>1.000000</td>\n",
       "      <td>0.850000</td>\n",
       "      <td>0.000000</td>\n",
       "    </tr>\n",
       "    <tr>\n",
       "      <th>25%</th>\n",
       "      <td>1.000000</td>\n",
       "      <td>1.000000</td>\n",
       "      <td>45.900000</td>\n",
       "      <td>13.850000</td>\n",
       "    </tr>\n",
       "    <tr>\n",
       "      <th>50%</th>\n",
       "      <td>1.000000</td>\n",
       "      <td>1.000000</td>\n",
       "      <td>86.000000</td>\n",
       "      <td>17.170000</td>\n",
       "    </tr>\n",
       "    <tr>\n",
       "      <th>75%</th>\n",
       "      <td>1.000000</td>\n",
       "      <td>1.000000</td>\n",
       "      <td>149.900000</td>\n",
       "      <td>24.020000</td>\n",
       "    </tr>\n",
       "    <tr>\n",
       "      <th>max</th>\n",
       "      <td>21.000000</td>\n",
       "      <td>5.000000</td>\n",
       "      <td>13440.000000</td>\n",
       "      <td>1794.960000</td>\n",
       "    </tr>\n",
       "  </tbody>\n",
       "</table>\n",
       "</div>"
      ],
      "text/plain": [
       "       number_of_products  number_of_sellers         price  freight_value\n",
       "count        97007.000000       97007.000000  97007.000000   97007.000000\n",
       "mean             1.142598           1.013968    136.895781      22.780658\n",
       "std              0.540014           0.123772    208.701803      21.532648\n",
       "min              1.000000           1.000000      0.850000       0.000000\n",
       "25%              1.000000           1.000000     45.900000      13.850000\n",
       "50%              1.000000           1.000000     86.000000      17.170000\n",
       "75%              1.000000           1.000000    149.900000      24.020000\n",
       "max             21.000000           5.000000  13440.000000    1794.960000"
      ]
     },
     "execution_count": 15,
     "metadata": {},
     "output_type": "execute_result"
    }
   ],
   "source": [
    "orders[['number_of_products', 'number_of_sellers', 'price', 'freight_value']].describe()"
   ]
  },
  {
   "cell_type": "markdown",
   "id": "1c22063a",
   "metadata": {},
   "source": [
    "If we look at the middle 50% of all orders, the order value is in the range of **45-150 BRL** (10-30 USD), and shipping costs fall in the range of **14-24 BRL** (3-5 USD). We can see that most orders are relatively small in both order size and value.  "
   ]
  },
  {
   "cell_type": "markdown",
   "id": "6bec80f1",
   "metadata": {},
   "source": [
    "## Correlations"
   ]
  },
  {
   "cell_type": "markdown",
   "id": "2468d9a6",
   "metadata": {},
   "source": [
    "Let's look to see if there are correlations between features in the Orders dataset"
   ]
  },
  {
   "cell_type": "code",
   "execution_count": 16,
   "id": "4e150da8",
   "metadata": {},
   "outputs": [
    {
     "data": {
      "image/png": "[encoded data removed]",
      "text/plain": [
       "<Figure size 1080x432 with 2 Axes>"
      ]
     },
     "metadata": {},
     "output_type": "display_data"
    }
   ],
   "source": [
    "# Use heatmap to detect correlations with 'review_score'\n",
    "plt.figure(figsize=(15,6))\n",
    "sns.heatmap(orders.corr(), cmap='coolwarm', annot=True);"
   ]
  },
  {
   "cell_type": "markdown",
   "id": "963b4b15",
   "metadata": {},
   "source": [
    "The features `wait_time` and `delay_vs_expected` appear to have the strongest correlation with `review_score`."
   ]
  },
  {
   "cell_type": "code",
   "execution_count": 17,
   "id": "74407107",
   "metadata": {
    "scrolled": false
   },
   "outputs": [
    {
     "data": {
      "text/plain": [
       "wait_time            -0.334806\n",
       "expected_wait_time   -0.052191\n",
       "delay_vs_expected    -0.271885\n",
       "dim_is_five_star      0.792079\n",
       "dim_is_one_star      -0.810262\n",
       "review_score          1.000000\n",
       "number_of_products   -0.124405\n",
       "number_of_sellers    -0.116317\n",
       "price                -0.036006\n",
       "freight_value        -0.091023\n",
       "Name: review_score, dtype: float64"
      ]
     },
     "execution_count": 17,
     "metadata": {},
     "output_type": "execute_result"
    }
   ],
   "source": [
    "# Let's look at the values of the correlation coefficients\n",
    "orders.corr()['review_score']"
   ]
  },
  {
   "cell_type": "markdown",
   "id": "4fb6ba04",
   "metadata": {},
   "source": [
    "We see that the features `wait_time` and `delay_vs_expected` had higher correlations with our target variable `review_score` compared to the other features in our data. Also, both features (`wait_time` and `delay_vs_expected`) are highly correlated with each other (r=0.71), which makes sense since they both capture components of the delivery time for an order. \n",
    "\n",
    "Since features that are highly correlated with each may be concealing a confounding variable and provide us with unreliable coefficients, later we'll run some multivariate regression models that can provide a clearer sense of the impact from each feature on `review_score` while controlling for the others."
   ]
  },
  {
   "cell_type": "markdown",
   "id": "7395ce26",
   "metadata": {},
   "source": [
    "## Univariate Regression"
   ]
  },
  {
   "cell_type": "markdown",
   "id": "acd4eff3",
   "metadata": {},
   "source": [
    "Based on our inspection of correlation coefficients, we see that the features `wait_time` (r=0.33) and `delay_vs_expected` (r=0.27) have a stronger correlation with `review_score` than other features, so let's first look at them individually by running simple univariate regressions."
   ]
  },
  {
   "cell_type": "markdown",
   "id": "14fd4da1",
   "metadata": {},
   "source": [
    "### Simple regression of `review_score` against `wait_time`"
   ]
  },
  {
   "cell_type": "code",
   "execution_count": 18,
   "id": "2207e715",
   "metadata": {},
   "outputs": [
    {
     "data": {
      "text/html": [
       "<table class=\"simpletable\">\n",
       "<caption>OLS Regression Results</caption>\n",
       "<tr>\n",
       "  <th>Dep. Variable:</th>      <td>review_score</td>   <th>  R-squared:         </th>  <td>   0.112</td>  \n",
       "</tr>\n",
       "<tr>\n",
       "  <th>Model:</th>                   <td>OLS</td>       <th>  Adj. R-squared:    </th>  <td>   0.112</td>  \n",
       "</tr>\n",
       "<tr>\n",
       "  <th>Method:</th>             <td>Least Squares</td>  <th>  F-statistic:       </th>  <td>1.225e+04</td> \n",
       "</tr>\n",
       "<tr>\n",
       "  <th>Date:</th>             <td>Tue, 31 Aug 2021</td> <th>  Prob (F-statistic):</th>   <td>  0.00</td>   \n",
       "</tr>\n",
       "<tr>\n",
       "  <th>Time:</th>                 <td>22:18:28</td>     <th>  Log-Likelihood:    </th> <td>-1.5707e+05</td>\n",
       "</tr>\n",
       "<tr>\n",
       "  <th>No. Observations:</th>      <td> 97007</td>      <th>  AIC:               </th>  <td>3.142e+05</td> \n",
       "</tr>\n",
       "<tr>\n",
       "  <th>Df Residuals:</th>          <td> 97005</td>      <th>  BIC:               </th>  <td>3.142e+05</td> \n",
       "</tr>\n",
       "<tr>\n",
       "  <th>Df Model:</th>              <td>     1</td>      <th>                     </th>      <td> </td>     \n",
       "</tr>\n",
       "<tr>\n",
       "  <th>Covariance Type:</th>      <td>nonrobust</td>    <th>                     </th>      <td> </td>     \n",
       "</tr>\n",
       "</table>\n",
       "<table class=\"simpletable\">\n",
       "<tr>\n",
       "      <td></td>         <th>coef</th>     <th>std err</th>      <th>t</th>      <th>P>|t|</th>  <th>[0.025</th>    <th>0.975]</th>  \n",
       "</tr>\n",
       "<tr>\n",
       "  <th>Intercept</th> <td>    4.7138</td> <td>    0.006</td> <td>  726.803</td> <td> 0.000</td> <td>    4.701</td> <td>    4.727</td>\n",
       "</tr>\n",
       "<tr>\n",
       "  <th>wait_time</th> <td>   -0.0455</td> <td>    0.000</td> <td> -110.664</td> <td> 0.000</td> <td>   -0.046</td> <td>   -0.045</td>\n",
       "</tr>\n",
       "</table>\n",
       "<table class=\"simpletable\">\n",
       "<tr>\n",
       "  <th>Omnibus:</th>       <td>19241.637</td> <th>  Durbin-Watson:     </th> <td>   2.007</td> \n",
       "</tr>\n",
       "<tr>\n",
       "  <th>Prob(Omnibus):</th>  <td> 0.000</td>   <th>  Jarque-Bera (JB):  </th> <td>34157.401</td>\n",
       "</tr>\n",
       "<tr>\n",
       "  <th>Skew:</th>           <td>-1.282</td>   <th>  Prob(JB):          </th> <td>    0.00</td> \n",
       "</tr>\n",
       "<tr>\n",
       "  <th>Kurtosis:</th>       <td> 4.371</td>   <th>  Cond. No.          </th> <td>    26.2</td> \n",
       "</tr>\n",
       "</table><br/><br/>Warnings:<br/>[1] Standard Errors assume that the covariance matrix of the errors is correctly specified."
      ],
      "text/plain": [
       "<class 'statsmodels.iolib.summary.Summary'>\n",
       "\"\"\"\n",
       "                            OLS Regression Results                            \n",
       "==============================================================================\n",
       "Dep. Variable:           review_score   R-squared:                       0.112\n",
       "Model:                            OLS   Adj. R-squared:                  0.112\n",
       "Method:                 Least Squares   F-statistic:                 1.225e+04\n",
       "Date:                Tue, 31 Aug 2021   Prob (F-statistic):               0.00\n",
       "Time:                        22:18:28   Log-Likelihood:            -1.5707e+05\n",
       "No. Observations:               97007   AIC:                         3.142e+05\n",
       "Df Residuals:                   97005   BIC:                         3.142e+05\n",
       "Df Model:                           1                                         \n",
       "Covariance Type:            nonrobust                                         \n",
       "==============================================================================\n",
       "                 coef    std err          t      P>|t|      [0.025      0.975]\n",
       "------------------------------------------------------------------------------\n",
       "Intercept      4.7138      0.006    726.803      0.000       4.701       4.727\n",
       "wait_time     -0.0455      0.000   -110.664      0.000      -0.046      -0.045\n",
       "==============================================================================\n",
       "Omnibus:                    19241.637   Durbin-Watson:                   2.007\n",
       "Prob(Omnibus):                  0.000   Jarque-Bera (JB):            34157.401\n",
       "Skew:                          -1.282   Prob(JB):                         0.00\n",
       "Kurtosis:                       4.371   Cond. No.                         26.2\n",
       "==============================================================================\n",
       "\n",
       "Warnings:\n",
       "[1] Standard Errors assume that the covariance matrix of the errors is correctly specified.\n",
       "\"\"\""
      ]
     },
     "execution_count": 18,
     "metadata": {},
     "output_type": "execute_result"
    }
   ],
   "source": [
    "formula = 'review_score ~ wait_time'\n",
    "model1 = smf.ols(formula=formula, data=orders).fit()\n",
    "model1.summary()"
   ]
  },
  {
   "cell_type": "markdown",
   "id": "8fee7fbe",
   "metadata": {},
   "source": [
    "**Interpretation of Results**"
   ]
  },
  {
   "cell_type": "markdown",
   "id": "c64b539e",
   "metadata": {},
   "source": [
    "For every additional day of `wait_time`, we can say with a 95% confidence level that the `review_score` is **lower by 4.6%** on average (slope = -0.046). This suggests that there is an association between a longer `wait_time` and a lower `review_score`. \n",
    "\n",
    "- With a **p-value** close to zero, our coefficient for `wait_time` is statistically significant. \n",
    "- The **R-squared** indicates that **11% of the variance** found in the `review_score` is attributable to `wait_time`.\n",
    "- Since within the **95% confidence interval** the slope does not contain the value zero, we can accept the **coefficient as reliable**"
   ]
  },
  {
   "cell_type": "code",
   "execution_count": 19,
   "id": "95640d09",
   "metadata": {},
   "outputs": [
    {
     "data": {
      "image/png": "[encoded data removed]",
      "text/plain": [
       "<Figure size 432x288 with 1 Axes>"
      ]
     },
     "metadata": {},
     "output_type": "display_data"
    }
   ],
   "source": [
    "# Let's plot the univariate regression of 'review_score' on 'wait_time'\n",
    "sns.regplot(x=orders.wait_time, y=orders.review_score, y_jitter=0.1)\n",
    "plt.ylim(bottom=0);"
   ]
  },
  {
   "cell_type": "markdown",
   "id": "da1bc498",
   "metadata": {},
   "source": [
    "### Simple regression of `review_score` against `delay_vs_expected`"
   ]
  },
  {
   "cell_type": "code",
   "execution_count": 20,
   "id": "a2870746",
   "metadata": {},
   "outputs": [
    {
     "data": {
      "text/html": [
       "<table class=\"simpletable\">\n",
       "<caption>OLS Regression Results</caption>\n",
       "<tr>\n",
       "  <th>Dep. Variable:</th>      <td>review_score</td>   <th>  R-squared:         </th>  <td>   0.074</td>  \n",
       "</tr>\n",
       "<tr>\n",
       "  <th>Model:</th>                   <td>OLS</td>       <th>  Adj. R-squared:    </th>  <td>   0.074</td>  \n",
       "</tr>\n",
       "<tr>\n",
       "  <th>Method:</th>             <td>Least Squares</td>  <th>  F-statistic:       </th>  <td>   7743.</td>  \n",
       "</tr>\n",
       "<tr>\n",
       "  <th>Date:</th>             <td>Tue, 31 Aug 2021</td> <th>  Prob (F-statistic):</th>   <td>  0.00</td>   \n",
       "</tr>\n",
       "<tr>\n",
       "  <th>Time:</th>                 <td>22:18:34</td>     <th>  Log-Likelihood:    </th> <td>-1.5912e+05</td>\n",
       "</tr>\n",
       "<tr>\n",
       "  <th>No. Observations:</th>      <td> 97007</td>      <th>  AIC:               </th>  <td>3.182e+05</td> \n",
       "</tr>\n",
       "<tr>\n",
       "  <th>Df Residuals:</th>          <td> 97005</td>      <th>  BIC:               </th>  <td>3.183e+05</td> \n",
       "</tr>\n",
       "<tr>\n",
       "  <th>Df Model:</th>              <td>     1</td>      <th>                     </th>      <td> </td>     \n",
       "</tr>\n",
       "<tr>\n",
       "  <th>Covariance Type:</th>      <td>nonrobust</td>    <th>                     </th>      <td> </td>     \n",
       "</tr>\n",
       "</table>\n",
       "<table class=\"simpletable\">\n",
       "<tr>\n",
       "          <td></td>             <th>coef</th>     <th>std err</th>      <th>t</th>      <th>P>|t|</th>  <th>[0.025</th>    <th>0.975]</th>  \n",
       "</tr>\n",
       "<tr>\n",
       "  <th>Intercept</th>         <td>    4.1997</td> <td>    0.004</td> <td> 1034.674</td> <td> 0.000</td> <td>    4.192</td> <td>    4.208</td>\n",
       "</tr>\n",
       "<tr>\n",
       "  <th>delay_vs_expected</th> <td>   -0.0742</td> <td>    0.001</td> <td>  -87.995</td> <td> 0.000</td> <td>   -0.076</td> <td>   -0.073</td>\n",
       "</tr>\n",
       "</table>\n",
       "<table class=\"simpletable\">\n",
       "<tr>\n",
       "  <th>Omnibus:</th>       <td>20264.119</td> <th>  Durbin-Watson:     </th> <td>   2.004</td> \n",
       "</tr>\n",
       "<tr>\n",
       "  <th>Prob(Omnibus):</th>  <td> 0.000</td>   <th>  Jarque-Bera (JB):  </th> <td>46233.422</td>\n",
       "</tr>\n",
       "<tr>\n",
       "  <th>Skew:</th>           <td>-1.191</td>   <th>  Prob(JB):          </th> <td>    0.00</td> \n",
       "</tr>\n",
       "<tr>\n",
       "  <th>Kurtosis:</th>       <td> 5.401</td>   <th>  Cond. No.          </th> <td>    4.88</td> \n",
       "</tr>\n",
       "</table><br/><br/>Warnings:<br/>[1] Standard Errors assume that the covariance matrix of the errors is correctly specified."
      ],
      "text/plain": [
       "<class 'statsmodels.iolib.summary.Summary'>\n",
       "\"\"\"\n",
       "                            OLS Regression Results                            \n",
       "==============================================================================\n",
       "Dep. Variable:           review_score   R-squared:                       0.074\n",
       "Model:                            OLS   Adj. R-squared:                  0.074\n",
       "Method:                 Least Squares   F-statistic:                     7743.\n",
       "Date:                Tue, 31 Aug 2021   Prob (F-statistic):               0.00\n",
       "Time:                        22:18:34   Log-Likelihood:            -1.5912e+05\n",
       "No. Observations:               97007   AIC:                         3.182e+05\n",
       "Df Residuals:                   97005   BIC:                         3.183e+05\n",
       "Df Model:                           1                                         \n",
       "Covariance Type:            nonrobust                                         \n",
       "=====================================================================================\n",
       "                        coef    std err          t      P>|t|      [0.025      0.975]\n",
       "-------------------------------------------------------------------------------------\n",
       "Intercept             4.1997      0.004   1034.674      0.000       4.192       4.208\n",
       "delay_vs_expected    -0.0742      0.001    -87.995      0.000      -0.076      -0.073\n",
       "==============================================================================\n",
       "Omnibus:                    20264.119   Durbin-Watson:                   2.004\n",
       "Prob(Omnibus):                  0.000   Jarque-Bera (JB):            46233.422\n",
       "Skew:                          -1.191   Prob(JB):                         0.00\n",
       "Kurtosis:                       5.401   Cond. No.                         4.88\n",
       "==============================================================================\n",
       "\n",
       "Warnings:\n",
       "[1] Standard Errors assume that the covariance matrix of the errors is correctly specified.\n",
       "\"\"\""
      ]
     },
     "execution_count": 20,
     "metadata": {},
     "output_type": "execute_result"
    }
   ],
   "source": [
    "formula = 'review_score ~ delay_vs_expected'\n",
    "model2 = smf.ols(formula=formula, data=orders).fit()\n",
    "model2.summary()"
   ]
  },
  {
   "cell_type": "markdown",
   "id": "3f6bbb1a",
   "metadata": {},
   "source": [
    "**Interpretation of Results**"
   ]
  },
  {
   "cell_type": "markdown",
   "id": "a66e19a8",
   "metadata": {},
   "source": [
    "For each additional day of **delay** that the customer waits **beyond the expected delivery date**, we can say with a 95% confidence level that the `review_score` is **lower by 7.4%** on average (slope = -0.074). This suggests that there is an association between delays in delivery and a lower `review_score`.   \n",
    "\n",
    "- With a **p-value** close to zero, the coefficient for `delay_vs_expected` is statistically significant.\n",
    "- The **R-squared** indicates that **7% of the variance** found in the `review_score` is attributable to `delay_vs_expected`.\n",
    "- Since within the **95% confidence interval** the slope does not contain the value zero, we can accept the **coefficient as reliable**"
   ]
  },
  {
   "cell_type": "code",
   "execution_count": 21,
   "id": "accee865",
   "metadata": {},
   "outputs": [
    {
     "data": {
      "image/png": "[encoded data removed]",
      "text/plain": [
       "<Figure size 432x288 with 1 Axes>"
      ]
     },
     "metadata": {},
     "output_type": "display_data"
    }
   ],
   "source": [
    "# Let's plot the univariate regression of 'review_score' on 'delay_vs_expected'\n",
    "sns.regplot(x=orders.delay_vs_expected, y=orders.review_score, y_jitter=0.1)\n",
    "plt.ylim(bottom=0);"
   ]
  },
  {
   "cell_type": "markdown",
   "id": "773b7479",
   "metadata": {},
   "source": [
    "## Multivariate Regression"
   ]
  },
  {
   "cell_type": "markdown",
   "id": "ec0a62e3",
   "metadata": {},
   "source": [
    "While the features `wait_time` and `delay_vs_expected` had higher correlations with our target variable `review_score` compared to the other features in our data, both features (`wait_time` and `delay_vs_expected`) are also highly correlated with each other (r=0.707), which makes sense since they both capture components of delivery duration for each customer's order. \n",
    "\n",
    "Since features that are highly correlated with each may be concealing a confounding variable and provide us with unreliable coefficients, we'll run some multivariate regression models that can provide a clearer sense of the impact from each feature on `review_score` while controlling for the others."
   ]
  },
  {
   "cell_type": "code",
   "execution_count": 22,
   "id": "c6b071fa",
   "metadata": {
    "scrolled": true
   },
   "outputs": [
    {
     "data": {
      "text/plain": [
       "wait_time             1.000000\n",
       "expected_wait_time    0.383318\n",
       "delay_vs_expected     0.707487\n",
       "dim_is_five_star     -0.234906\n",
       "dim_is_one_star       0.306431\n",
       "review_score         -0.334806\n",
       "number_of_products   -0.019350\n",
       "number_of_sellers    -0.040828\n",
       "price                 0.055433\n",
       "freight_value         0.166979\n",
       "Name: wait_time, dtype: float64"
      ]
     },
     "execution_count": 22,
     "metadata": {},
     "output_type": "execute_result"
    }
   ],
   "source": [
    "orders.corr()['wait_time']"
   ]
  },
  {
   "cell_type": "markdown",
   "id": "9bba4c83",
   "metadata": {},
   "source": [
    "### Multivariate Regression with 2 features: `wait_time` and `delay_vs_expected`\n",
    "First, we'll regress `review_score` on just the two features `wait_time` and `delay_vs_expected`."
   ]
  },
  {
   "cell_type": "code",
   "execution_count": 23,
   "id": "f9c6454f",
   "metadata": {
    "scrolled": true
   },
   "outputs": [
    {
     "data": {
      "text/html": [
       "<table class=\"simpletable\">\n",
       "<caption>OLS Regression Results</caption>\n",
       "<tr>\n",
       "  <th>Dep. Variable:</th>      <td>review_score</td>   <th>  R-squared:         </th>  <td>   0.115</td>  \n",
       "</tr>\n",
       "<tr>\n",
       "  <th>Model:</th>                   <td>OLS</td>       <th>  Adj. R-squared:    </th>  <td>   0.115</td>  \n",
       "</tr>\n",
       "<tr>\n",
       "  <th>Method:</th>             <td>Least Squares</td>  <th>  F-statistic:       </th>  <td>   6275.</td>  \n",
       "</tr>\n",
       "<tr>\n",
       "  <th>Date:</th>             <td>Tue, 31 Aug 2021</td> <th>  Prob (F-statistic):</th>   <td>  0.00</td>   \n",
       "</tr>\n",
       "<tr>\n",
       "  <th>Time:</th>                 <td>22:18:41</td>     <th>  Log-Likelihood:    </th> <td>-1.5694e+05</td>\n",
       "</tr>\n",
       "<tr>\n",
       "  <th>No. Observations:</th>      <td> 97007</td>      <th>  AIC:               </th>  <td>3.139e+05</td> \n",
       "</tr>\n",
       "<tr>\n",
       "  <th>Df Residuals:</th>          <td> 97004</td>      <th>  BIC:               </th>  <td>3.139e+05</td> \n",
       "</tr>\n",
       "<tr>\n",
       "  <th>Df Model:</th>              <td>     2</td>      <th>                     </th>      <td> </td>     \n",
       "</tr>\n",
       "<tr>\n",
       "  <th>Covariance Type:</th>      <td>nonrobust</td>    <th>                     </th>      <td> </td>     \n",
       "</tr>\n",
       "</table>\n",
       "<table class=\"simpletable\">\n",
       "<tr>\n",
       "          <td></td>             <th>coef</th>     <th>std err</th>      <th>t</th>      <th>P>|t|</th>  <th>[0.025</th>    <th>0.975]</th>  \n",
       "</tr>\n",
       "<tr>\n",
       "  <th>Intercept</th>         <td>    4.6440</td> <td>    0.008</td> <td>  599.083</td> <td> 0.000</td> <td>    4.629</td> <td>    4.659</td>\n",
       "</tr>\n",
       "<tr>\n",
       "  <th>wait_time</th>         <td>   -0.0388</td> <td>    0.001</td> <td>  -66.715</td> <td> 0.000</td> <td>   -0.040</td> <td>   -0.038</td>\n",
       "</tr>\n",
       "<tr>\n",
       "  <th>delay_vs_expected</th> <td>   -0.0191</td> <td>    0.001</td> <td>  -16.399</td> <td> 0.000</td> <td>   -0.021</td> <td>   -0.017</td>\n",
       "</tr>\n",
       "</table>\n",
       "<table class=\"simpletable\">\n",
       "<tr>\n",
       "  <th>Omnibus:</th>       <td>19637.196</td> <th>  Durbin-Watson:     </th> <td>   2.006</td> \n",
       "</tr>\n",
       "<tr>\n",
       "  <th>Prob(Omnibus):</th>  <td> 0.000</td>   <th>  Jarque-Bera (JB):  </th> <td>38268.583</td>\n",
       "</tr>\n",
       "<tr>\n",
       "  <th>Skew:</th>           <td>-1.235</td>   <th>  Prob(JB):          </th> <td>    0.00</td> \n",
       "</tr>\n",
       "<tr>\n",
       "  <th>Kurtosis:</th>       <td> 4.834</td>   <th>  Cond. No.          </th> <td>    31.9</td> \n",
       "</tr>\n",
       "</table><br/><br/>Warnings:<br/>[1] Standard Errors assume that the covariance matrix of the errors is correctly specified."
      ],
      "text/plain": [
       "<class 'statsmodels.iolib.summary.Summary'>\n",
       "\"\"\"\n",
       "                            OLS Regression Results                            \n",
       "==============================================================================\n",
       "Dep. Variable:           review_score   R-squared:                       0.115\n",
       "Model:                            OLS   Adj. R-squared:                  0.115\n",
       "Method:                 Least Squares   F-statistic:                     6275.\n",
       "Date:                Tue, 31 Aug 2021   Prob (F-statistic):               0.00\n",
       "Time:                        22:18:41   Log-Likelihood:            -1.5694e+05\n",
       "No. Observations:               97007   AIC:                         3.139e+05\n",
       "Df Residuals:                   97004   BIC:                         3.139e+05\n",
       "Df Model:                           2                                         \n",
       "Covariance Type:            nonrobust                                         \n",
       "=====================================================================================\n",
       "                        coef    std err          t      P>|t|      [0.025      0.975]\n",
       "-------------------------------------------------------------------------------------\n",
       "Intercept             4.6440      0.008    599.083      0.000       4.629       4.659\n",
       "wait_time            -0.0388      0.001    -66.715      0.000      -0.040      -0.038\n",
       "delay_vs_expected    -0.0191      0.001    -16.399      0.000      -0.021      -0.017\n",
       "==============================================================================\n",
       "Omnibus:                    19637.196   Durbin-Watson:                   2.006\n",
       "Prob(Omnibus):                  0.000   Jarque-Bera (JB):            38268.583\n",
       "Skew:                          -1.235   Prob(JB):                         0.00\n",
       "Kurtosis:                       4.834   Cond. No.                         31.9\n",
       "==============================================================================\n",
       "\n",
       "Warnings:\n",
       "[1] Standard Errors assume that the covariance matrix of the errors is correctly specified.\n",
       "\"\"\""
      ]
     },
     "execution_count": 23,
     "metadata": {},
     "output_type": "execute_result"
    }
   ],
   "source": [
    "model3 = smf.ols('review_score ~ wait_time + delay_vs_expected', data=orders).fit()\n",
    "model3.summary()"
   ]
  },
  {
   "cell_type": "markdown",
   "id": "8a1fed73",
   "metadata": {},
   "source": [
    "**Interpretation of Results**"
   ]
  },
  {
   "cell_type": "markdown",
   "id": "c6a34f76",
   "metadata": {},
   "source": [
    "While holding `delay_vs_expected` constant, each additional day of **`wait_time`** reduces the `review_score` by **3.9%** on average (slope = -0.0388). \n",
    "\n",
    "While holding `wait_time` constant, each additional day of **`delay_vs_expected`** reduces the `review_score` by **1.9%** on average (slope = -0.0191).\n",
    "\n",
    "Therefore, in contrast to our *univariate analysis*, which suggested **`delay_vs_expected`** (**-7.4%**) has a stronger association with a low `review_score` than **`wait_time`** (**-4.6%**), we find the opposite to be the case in our multivariate analysis.\n",
    "\n",
    "With a *multivariate regression model* that considered both features, the **`wait_time`** (**-3.9%**) has a stronger association with a low `review_score` than **`delay_vs_expected`** (**-1.9%**).\n",
    "\n",
    "- Both features show **p-values** close to zero indicating that they are **statistically significant**\n",
    "- Within the **95% confidence interval**, slopes for the **partial coefficients** do not contain zero which allows us to consider them **reliable**\n",
    "- **R-squared** is relatively low: only **11.5%** of the variation in `review_score` is explained by the variation of `wait_time` and `delay_vs_expected`\n",
    "\n",
    "With these findings, we can make the case that for the customer the ***total wait time*** (from placing the order online to getting the package at the front door) has more impact on the ***review score*** than an order that ***arrives past the estimated delivery date***. \n",
    "\n",
    "As a result, for a CEO or manager hoping to improve order review scores, ***efforts to reduce the total wait time*** *(perhaps in improving speed and efficiency in order processing or logistics handling)* ***will do more than only trying to meet estimated delivery deadlines.***\n"
   ]
  },
  {
   "cell_type": "markdown",
   "id": "9f5e5685",
   "metadata": {},
   "source": [
    "### Multivariate Regression with multiple features"
   ]
  },
  {
   "cell_type": "markdown",
   "id": "8dd1d664",
   "metadata": {},
   "source": [
    "Since the **R-squared** in our previous model with only two features was relatively low, in our next model we'll add other features from our data to build a more complete picture of what factors impact the `review_score`. "
   ]
  },
  {
   "cell_type": "code",
   "execution_count": 24,
   "id": "1dbd1c22",
   "metadata": {},
   "outputs": [],
   "source": [
    "# Features to include in the model\n",
    "features = [\n",
    "    \"wait_time\",\n",
    "    \"delay_vs_expected\",\n",
    "    \"number_of_products\",\n",
    "    \"number_of_sellers\",\n",
    "    \"price\",\n",
    "    \"freight_value\"]"
   ]
  },
  {
   "cell_type": "markdown",
   "id": "b92b2f61",
   "metadata": {},
   "source": [
    "Because these features are in different units, we'll standardize them first before putting them into our regression model. "
   ]
  },
  {
   "cell_type": "code",
   "execution_count": 25,
   "id": "f08d3276",
   "metadata": {},
   "outputs": [
    {
     "data": {
      "text/html": [
       "<div>\n",
       "<style scoped>\n",
       "    .dataframe tbody tr th:only-of-type {\n",
       "        vertical-align: middle;\n",
       "    }\n",
       "\n",
       "    .dataframe tbody tr th {\n",
       "        vertical-align: top;\n",
       "    }\n",
       "\n",
       "    .dataframe thead th {\n",
       "        text-align: right;\n",
       "    }\n",
       "</style>\n",
       "<table border=\"1\" class=\"dataframe\">\n",
       "  <thead>\n",
       "    <tr style=\"text-align: right;\">\n",
       "      <th></th>\n",
       "      <th>order_id</th>\n",
       "      <th>wait_time</th>\n",
       "      <th>expected_wait_time</th>\n",
       "      <th>delay_vs_expected</th>\n",
       "      <th>order_status</th>\n",
       "      <th>dim_is_five_star</th>\n",
       "      <th>dim_is_one_star</th>\n",
       "      <th>review_score</th>\n",
       "      <th>number_of_products</th>\n",
       "      <th>number_of_sellers</th>\n",
       "      <th>price</th>\n",
       "      <th>freight_value</th>\n",
       "    </tr>\n",
       "  </thead>\n",
       "  <tbody>\n",
       "    <tr>\n",
       "      <th>0</th>\n",
       "      <td>e481f51cbdc54678b7cc49136f2d6af7</td>\n",
       "      <td>-0.432597</td>\n",
       "      <td>15.544063</td>\n",
       "      <td>-0.16311</td>\n",
       "      <td>delivered</td>\n",
       "      <td>0</td>\n",
       "      <td>0</td>\n",
       "      <td>4</td>\n",
       "      <td>-0.264063</td>\n",
       "      <td>-0.112854</td>\n",
       "      <td>-0.512242</td>\n",
       "      <td>-0.652992</td>\n",
       "    </tr>\n",
       "    <tr>\n",
       "      <th>1</th>\n",
       "      <td>53cdb2fc8bc7dce0b6741e2150273451</td>\n",
       "      <td>0.127585</td>\n",
       "      <td>19.137766</td>\n",
       "      <td>-0.16311</td>\n",
       "      <td>delivered</td>\n",
       "      <td>0</td>\n",
       "      <td>0</td>\n",
       "      <td>4</td>\n",
       "      <td>-0.264063</td>\n",
       "      <td>-0.112854</td>\n",
       "      <td>-0.087186</td>\n",
       "      <td>-0.000959</td>\n",
       "    </tr>\n",
       "    <tr>\n",
       "      <th>2</th>\n",
       "      <td>47770eb9100c2d0c44946d9cf07ec65d</td>\n",
       "      <td>-0.332241</td>\n",
       "      <td>26.639711</td>\n",
       "      <td>-0.16311</td>\n",
       "      <td>delivered</td>\n",
       "      <td>1</td>\n",
       "      <td>0</td>\n",
       "      <td>5</td>\n",
       "      <td>-0.264063</td>\n",
       "      <td>-0.112854</td>\n",
       "      <td>0.110225</td>\n",
       "      <td>-0.165361</td>\n",
       "    </tr>\n",
       "    <tr>\n",
       "      <th>3</th>\n",
       "      <td>949d5b44dbf5de918fe9c16f97b45f8a</td>\n",
       "      <td>0.067507</td>\n",
       "      <td>26.188819</td>\n",
       "      <td>-0.16311</td>\n",
       "      <td>delivered</td>\n",
       "      <td>1</td>\n",
       "      <td>0</td>\n",
       "      <td>5</td>\n",
       "      <td>-0.264063</td>\n",
       "      <td>-0.112854</td>\n",
       "      <td>-0.440321</td>\n",
       "      <td>0.205239</td>\n",
       "    </tr>\n",
       "    <tr>\n",
       "      <th>4</th>\n",
       "      <td>ad21c59c0840e6cb83a9ceb5573f8159</td>\n",
       "      <td>-1.015545</td>\n",
       "      <td>12.112049</td>\n",
       "      <td>-0.16311</td>\n",
       "      <td>delivered</td>\n",
       "      <td>1</td>\n",
       "      <td>0</td>\n",
       "      <td>5</td>\n",
       "      <td>-0.264063</td>\n",
       "      <td>-0.112854</td>\n",
       "      <td>-0.560588</td>\n",
       "      <td>-0.652992</td>\n",
       "    </tr>\n",
       "  </tbody>\n",
       "</table>\n",
       "</div>"
      ],
      "text/plain": [
       "                           order_id  wait_time  expected_wait_time  \\\n",
       "0  e481f51cbdc54678b7cc49136f2d6af7  -0.432597           15.544063   \n",
       "1  53cdb2fc8bc7dce0b6741e2150273451   0.127585           19.137766   \n",
       "2  47770eb9100c2d0c44946d9cf07ec65d  -0.332241           26.639711   \n",
       "3  949d5b44dbf5de918fe9c16f97b45f8a   0.067507           26.188819   \n",
       "4  ad21c59c0840e6cb83a9ceb5573f8159  -1.015545           12.112049   \n",
       "\n",
       "   delay_vs_expected order_status  dim_is_five_star  dim_is_one_star  \\\n",
       "0           -0.16311    delivered                 0                0   \n",
       "1           -0.16311    delivered                 0                0   \n",
       "2           -0.16311    delivered                 1                0   \n",
       "3           -0.16311    delivered                 1                0   \n",
       "4           -0.16311    delivered                 1                0   \n",
       "\n",
       "   review_score  number_of_products  number_of_sellers     price  \\\n",
       "0             4           -0.264063          -0.112854 -0.512242   \n",
       "1             4           -0.264063          -0.112854 -0.087186   \n",
       "2             5           -0.264063          -0.112854  0.110225   \n",
       "3             5           -0.264063          -0.112854 -0.440321   \n",
       "4             5           -0.264063          -0.112854 -0.560588   \n",
       "\n",
       "   freight_value  \n",
       "0      -0.652992  \n",
       "1      -0.000959  \n",
       "2      -0.165361  \n",
       "3       0.205239  \n",
       "4      -0.652992  "
      ]
     },
     "execution_count": 25,
     "metadata": {},
     "output_type": "execute_result"
    }
   ],
   "source": [
    "# Standardize features by calculating respective z-scores:   Z = (X - mu) / sigma\n",
    "\n",
    "orders_standardized = orders.copy()\n",
    "for f in features:\n",
    "    mu = orders[f].mean()\n",
    "    sigma = orders[f].std()\n",
    "    orders_standardized[f] = orders[f].map(lambda x: (x - mu) / sigma)\n",
    "\n",
    "orders_standardized.head()"
   ]
  },
  {
   "cell_type": "code",
   "execution_count": 26,
   "id": "92afcba4",
   "metadata": {},
   "outputs": [
    {
     "data": {
      "text/plain": [
       "'review_score ~ wait_time + delay_vs_expected + number_of_products + number_of_sellers + price + freight_value'"
      ]
     },
     "execution_count": 26,
     "metadata": {},
     "output_type": "execute_result"
    }
   ],
   "source": [
    "# Model4; create formula for stats.model\n",
    "\n",
    "formula = 'review_score ~ ' + ' + ' .join(features)\n",
    "formula"
   ]
  },
  {
   "cell_type": "code",
   "execution_count": 27,
   "id": "7e35e52c",
   "metadata": {
    "scrolled": true
   },
   "outputs": [
    {
     "data": {
      "text/html": [
       "<table class=\"simpletable\">\n",
       "<caption>OLS Regression Results</caption>\n",
       "<tr>\n",
       "  <th>Dep. Variable:</th>      <td>review_score</td>   <th>  R-squared:         </th>  <td>   0.141</td>  \n",
       "</tr>\n",
       "<tr>\n",
       "  <th>Model:</th>                   <td>OLS</td>       <th>  Adj. R-squared:    </th>  <td>   0.141</td>  \n",
       "</tr>\n",
       "<tr>\n",
       "  <th>Method:</th>             <td>Least Squares</td>  <th>  F-statistic:       </th>  <td>   2661.</td>  \n",
       "</tr>\n",
       "<tr>\n",
       "  <th>Date:</th>             <td>Tue, 31 Aug 2021</td> <th>  Prob (F-statistic):</th>   <td>  0.00</td>   \n",
       "</tr>\n",
       "<tr>\n",
       "  <th>Time:</th>                 <td>22:18:42</td>     <th>  Log-Likelihood:    </th> <td>-1.5545e+05</td>\n",
       "</tr>\n",
       "<tr>\n",
       "  <th>No. Observations:</th>      <td> 97007</td>      <th>  AIC:               </th>  <td>3.109e+05</td> \n",
       "</tr>\n",
       "<tr>\n",
       "  <th>Df Residuals:</th>          <td> 97000</td>      <th>  BIC:               </th>  <td>3.110e+05</td> \n",
       "</tr>\n",
       "<tr>\n",
       "  <th>Df Model:</th>              <td>     6</td>      <th>                     </th>      <td> </td>     \n",
       "</tr>\n",
       "<tr>\n",
       "  <th>Covariance Type:</th>      <td>nonrobust</td>    <th>                     </th>      <td> </td>     \n",
       "</tr>\n",
       "</table>\n",
       "<table class=\"simpletable\">\n",
       "<tr>\n",
       "           <td></td>             <th>coef</th>     <th>std err</th>      <th>t</th>      <th>P>|t|</th>  <th>[0.025</th>    <th>0.975]</th>  \n",
       "</tr>\n",
       "<tr>\n",
       "  <th>Intercept</th>          <td>    4.1422</td> <td>    0.004</td> <td> 1073.800</td> <td> 0.000</td> <td>    4.135</td> <td>    4.150</td>\n",
       "</tr>\n",
       "<tr>\n",
       "  <th>wait_time</th>          <td>   -0.3898</td> <td>    0.006</td> <td>  -69.175</td> <td> 0.000</td> <td>   -0.401</td> <td>   -0.379</td>\n",
       "</tr>\n",
       "<tr>\n",
       "  <th>delay_vs_expected</th>  <td>   -0.0816</td> <td>    0.006</td> <td>  -14.772</td> <td> 0.000</td> <td>   -0.092</td> <td>   -0.071</td>\n",
       "</tr>\n",
       "<tr>\n",
       "  <th>number_of_products</th> <td>   -0.1465</td> <td>    0.004</td> <td>  -32.751</td> <td> 0.000</td> <td>   -0.155</td> <td>   -0.138</td>\n",
       "</tr>\n",
       "<tr>\n",
       "  <th>number_of_sellers</th>  <td>   -0.1305</td> <td>    0.004</td> <td>  -32.377</td> <td> 0.000</td> <td>   -0.138</td> <td>   -0.123</td>\n",
       "</tr>\n",
       "<tr>\n",
       "  <th>price</th>              <td>   -0.0099</td> <td>    0.004</td> <td>   -2.339</td> <td> 0.019</td> <td>   -0.018</td> <td>   -0.002</td>\n",
       "</tr>\n",
       "<tr>\n",
       "  <th>freight_value</th>      <td>    0.0350</td> <td>    0.005</td> <td>    7.301</td> <td> 0.000</td> <td>    0.026</td> <td>    0.044</td>\n",
       "</tr>\n",
       "</table>\n",
       "<table class=\"simpletable\">\n",
       "<tr>\n",
       "  <th>Omnibus:</th>       <td>18510.939</td> <th>  Durbin-Watson:     </th> <td>   2.009</td> \n",
       "</tr>\n",
       "<tr>\n",
       "  <th>Prob(Omnibus):</th>  <td> 0.000</td>   <th>  Jarque-Bera (JB):  </th> <td>36369.606</td>\n",
       "</tr>\n",
       "<tr>\n",
       "  <th>Skew:</th>           <td>-1.162</td>   <th>  Prob(JB):          </th> <td>    0.00</td> \n",
       "</tr>\n",
       "<tr>\n",
       "  <th>Kurtosis:</th>       <td> 4.897</td>   <th>  Cond. No.          </th> <td>    2.63</td> \n",
       "</tr>\n",
       "</table><br/><br/>Warnings:<br/>[1] Standard Errors assume that the covariance matrix of the errors is correctly specified."
      ],
      "text/plain": [
       "<class 'statsmodels.iolib.summary.Summary'>\n",
       "\"\"\"\n",
       "                            OLS Regression Results                            \n",
       "==============================================================================\n",
       "Dep. Variable:           review_score   R-squared:                       0.141\n",
       "Model:                            OLS   Adj. R-squared:                  0.141\n",
       "Method:                 Least Squares   F-statistic:                     2661.\n",
       "Date:                Tue, 31 Aug 2021   Prob (F-statistic):               0.00\n",
       "Time:                        22:18:42   Log-Likelihood:            -1.5545e+05\n",
       "No. Observations:               97007   AIC:                         3.109e+05\n",
       "Df Residuals:                   97000   BIC:                         3.110e+05\n",
       "Df Model:                           6                                         \n",
       "Covariance Type:            nonrobust                                         \n",
       "======================================================================================\n",
       "                         coef    std err          t      P>|t|      [0.025      0.975]\n",
       "--------------------------------------------------------------------------------------\n",
       "Intercept              4.1422      0.004   1073.800      0.000       4.135       4.150\n",
       "wait_time             -0.3898      0.006    -69.175      0.000      -0.401      -0.379\n",
       "delay_vs_expected     -0.0816      0.006    -14.772      0.000      -0.092      -0.071\n",
       "number_of_products    -0.1465      0.004    -32.751      0.000      -0.155      -0.138\n",
       "number_of_sellers     -0.1305      0.004    -32.377      0.000      -0.138      -0.123\n",
       "price                 -0.0099      0.004     -2.339      0.019      -0.018      -0.002\n",
       "freight_value          0.0350      0.005      7.301      0.000       0.026       0.044\n",
       "==============================================================================\n",
       "Omnibus:                    18510.939   Durbin-Watson:                   2.009\n",
       "Prob(Omnibus):                  0.000   Jarque-Bera (JB):            36369.606\n",
       "Skew:                          -1.162   Prob(JB):                         0.00\n",
       "Kurtosis:                       4.897   Cond. No.                         2.63\n",
       "==============================================================================\n",
       "\n",
       "Warnings:\n",
       "[1] Standard Errors assume that the covariance matrix of the errors is correctly specified.\n",
       "\"\"\""
      ]
     },
     "execution_count": 27,
     "metadata": {},
     "output_type": "execute_result"
    }
   ],
   "source": [
    "model4 = smf.ols(formula = formula, data = orders_standardized).fit()\n",
    "model4.summary()"
   ]
  },
  {
   "cell_type": "markdown",
   "id": "2438bc4f",
   "metadata": {},
   "source": [
    "To more easily compare the various partial coefficents of the features, we'll plot them on a bar chart."
   ]
  },
  {
   "cell_type": "code",
   "execution_count": 28,
   "id": "a2b87223",
   "metadata": {
    "scrolled": true
   },
   "outputs": [
    {
     "data": {
      "image/png": "[encoded data removed]",
      "text/plain": [
       "<Figure size 432x288 with 1 Axes>"
      ]
     },
     "metadata": {},
     "output_type": "display_data"
    }
   ],
   "source": [
    "# Regression Partial Coefficients Bar Chart\n",
    "model4.params[1:].sort_values().plot(kind='barh')\n",
    "plt.xlabel('Regression Partial Coefficients')\n",
    "plt.ylabel('Features');"
   ]
  },
  {
   "cell_type": "markdown",
   "id": "7c87923a",
   "metadata": {},
   "source": [
    "**Interpretation of Results**"
   ]
  },
  {
   "cell_type": "markdown",
   "id": "cd130e2f",
   "metadata": {},
   "source": [
    "With our new regression model which includes other features from our dataset, the **`wait_time`** variable (slope = -0.3898) has the most explanatory power for `review_score` relative to the other features. In this model, we see that the difference in influence has widened with `delay_vs_expected` (slope = -0.0816).\n",
    "\n",
    "Additionally, with this new model, we can see that an increase in `number_of_sellers` (slope = -0.13) and `number_of_products` (slope = -0.15) per order leads to a decrease in `review_score`.\n",
    "\n",
    "- The **R-squared** for this new model has not increased much and still only explains about 14.1% of the variance in the `review_score`. This points to most factors impacting the review score lying outside of the orders dataset.\n",
    "- The **p-values** for our partial coefficients are mostly close to zero. However, the **coefficient** for `price` is **small relative to its standard error**, and the **95% confidence interval** is **close to containing the value of zero, which would make the coefficient less reliable**.   \n",
    "- The overall model is **statistically significant** as its **F-statistic is much greater than 1** (and a F-proba close to zero)"
   ]
  },
  {
   "cell_type": "markdown",
   "id": "771fd43f",
   "metadata": {},
   "source": [
    " ### Residuals"
   ]
  },
  {
   "cell_type": "markdown",
   "id": "c05a1bf0",
   "metadata": {},
   "source": [
    "Besides evaluating the statistical significance of our features and the R-squared of our model, we can evaluate the performance of our regression model by looking at the **residuals** (predicted values - real values). More specifically, we can calculate the **Root Mean Square Error (RMSE)** as a gauge for how much on average our regression model is predicting scores differing from the real scores.     "
   ]
  },
  {
   "cell_type": "code",
   "execution_count": 29,
   "id": "a497c0ea",
   "metadata": {},
   "outputs": [
    {
     "data": {
      "text/plain": [
       "0    0.359790\n",
       "1    0.160051\n",
       "2   -0.668416\n",
       "3   -0.805804\n",
       "4   -0.412485\n",
       "dtype: float64"
      ]
     },
     "execution_count": 29,
     "metadata": {},
     "output_type": "execute_result"
    }
   ],
   "source": [
    "# Calculate residuals (predicted values - real values)\n",
    "predicted_review_score = model4.predict(orders_standardized[features])\n",
    "residuals = predicted_review_score - orders_standardized.review_score\n",
    "residuals.head()"
   ]
  },
  {
   "cell_type": "code",
   "execution_count": 46,
   "id": "6f0b8574",
   "metadata": {},
   "outputs": [
    {
     "data": {
      "text/plain": [
       "1.2014273689617105"
      ]
     },
     "execution_count": 46,
     "metadata": {},
     "output_type": "execute_result"
    }
   ],
   "source": [
    "# Calculate the RMSE \n",
    "RMSE = (residuals.map(lambda x: x**2).sum() / len(residuals))**0.5\n",
    "RMSE"
   ]
  },
  {
   "cell_type": "markdown",
   "id": "cef3fb0c",
   "metadata": {},
   "source": [
    "The **RMSE** tells us that on average our predicted scores are **1.2** stars off of the real scores. On a 5-star rating system, that's not great, but it's not horrible either. "
   ]
  },
  {
   "cell_type": "markdown",
   "id": "541ab1f2",
   "metadata": {},
   "source": [
    "REMOVE ASSUMPTIONS SECTION FOR RESIDUALS\n",
    "\n",
    "\n",
    "We should also make sure that the residuals are:\n",
    " - not correlated with one another (autocorrelation)\n",
    " - normally distributed \n",
    " - constant variance (i.e. not exhibiting heteroscedasticity)"
   ]
  },
  {
   "cell_type": "markdown",
   "id": "5bea1214",
   "metadata": {},
   "source": [
    "**Check the Durbin-Watson test for autocorrelation**\n",
    "\n",
    "With a scale of 0-4 (with 0 indicating positively autocorrelated, and 4 indicating negatively autocorrelated), our **Durbin-Watson** statistic of **2.009** allows to say that there is **little autocorrelation** among the residuals. Autocorrelation among residuals would imply that our confidence intervals are narrower and p-values lower than they ought to be, allowing us to be more confident than we should be with our findings."
   ]
  },
  {
   "cell_type": "markdown",
   "id": "40406b3a",
   "metadata": {},
   "source": [
    "**Check the Jarque-Bera test for normality & plot the distribution**"
   ]
  },
  {
   "cell_type": "markdown",
   "id": "09337d24",
   "metadata": {},
   "source": [
    "The **Jarque-Bera** statistic (normal=0) measures skewness and kurtosis to assess normality. A large value like **36369.606** indicates\n",
    "that the distribution is not normal. With a p-value close to zero, this is statistically significant.\n"
   ]
  },
  {
   "cell_type": "code",
   "execution_count": 30,
   "id": "5b263383",
   "metadata": {},
   "outputs": [
    {
     "data": {
      "image/png": "[encoded data removed]",
      "text/plain": [
       "<Figure size 432x288 with 1 Axes>"
      ]
     },
     "metadata": {},
     "output_type": "display_data"
    }
   ],
   "source": [
    "# Let's confirm this with a density plot of the residuals\n",
    "sns.histplot(residuals, kde=True, stat='density', discrete=True)\n",
    "plt.title('residuals density plot');"
   ]
  },
  {
   "cell_type": "markdown",
   "id": "dbebb185",
   "metadata": {},
   "source": [
    "As we can see the numerous humps in the plot, this distribution does not look normal....\n",
    "\n",
    "Our earlier findings of the j-shaped distribution for `review_score` support this."
   ]
  },
  {
   "cell_type": "markdown",
   "id": "98c4f237",
   "metadata": {},
   "source": [
    "**Check the variance of the residuals for heteroskedasticity**"
   ]
  },
  {
   "cell_type": "code",
   "execution_count": 47,
   "id": "d1300615",
   "metadata": {},
   "outputs": [
    {
     "data": {
      "image/png": "[encoded data removed]",
      "text/plain": [
       "<Figure size 432x288 with 1 Axes>"
      ]
     },
     "metadata": {},
     "output_type": "display_data"
    }
   ],
   "source": [
    "# Let's check the variance by plotting the residuals against the fitted values\n",
    "sns.scatterplot(y=residuals, x=predicted_review_score);"
   ]
  },
  {
   "cell_type": "code",
   "execution_count": 32,
   "id": "31af7d44",
   "metadata": {},
   "outputs": [
    {
     "data": {
      "text/plain": [
       "(10735.405150798748, 0.0, 2011.757243414151, 0.0)"
      ]
     },
     "execution_count": 32,
     "metadata": {},
     "output_type": "execute_result"
    }
   ],
   "source": [
    "from statsmodels.stats.diagnostic import het_breuschpagan as bp\n",
    "\n",
    "bp_results = bp(residuals, exog_het=orders_standardized[features])\n",
    "bp_results"
   ]
  },
  {
   "cell_type": "markdown",
   "id": "29abb98c",
   "metadata": {},
   "source": [
    "**Conclusion**"
   ]
  },
  {
   "cell_type": "markdown",
   "id": "5cd08bc9",
   "metadata": {},
   "source": [
    "We can start to see that a linear regression model is failing along some basic assumptions (e.g. normality of residuals) and poor performance (e.g. R-squared is low). Since our review score (five-star rating system) is a categorical variable, we'll now look at applying a logistic regression model"
   ]
  },
  {
   "cell_type": "markdown",
   "id": "baf4e654",
   "metadata": {},
   "source": [
    "## Logistic Regression"
   ]
  },
  {
   "cell_type": "markdown",
   "id": "19e5ed20",
   "metadata": {},
   "source": [
    "Since with voluntary online reviews there is a bias for response by those who have a strong reponse (positive or negative) to a product, and we already saw a j-shaped distribution among our `review_score` variable, let's try a different approach.\n",
    "\n",
    "Rather than use a linear regression model to predict the full range of `review_score`, we'll instead use a logistic regression model to focus on what features lead to getting the worst score (`dim_is_one_star`), and also a separate logistic regression for getting the best score (`dim_is_five_star`). "
   ]
  },
  {
   "cell_type": "markdown",
   "id": "8edc9520",
   "metadata": {},
   "source": [
    "Let's stick with the same features from our multivariate regression that had statistically significant partial coefficients."
   ]
  },
  {
   "cell_type": "code",
   "execution_count": 54,
   "id": "b18325c8",
   "metadata": {},
   "outputs": [],
   "source": [
    "features = ['wait_time', 'delay_vs_expected', 'number_of_products', 'number_of_sellers', 'price', 'freight_value']"
   ]
  },
  {
   "cell_type": "markdown",
   "id": "1e204b65",
   "metadata": {},
   "source": [
    "To make sure we have an acceptable degree of collinearity among these features (vif < 10), let's also first look at the **Variance Inflation Factor (vif)**.\n",
    "\n",
    "$ VIF = \\frac {1}{1 - R^2} $"
   ]
  },
  {
   "cell_type": "code",
   "execution_count": 56,
   "id": "e16427a3",
   "metadata": {},
   "outputs": [
    {
     "data": {
      "text/html": [
       "<div>\n",
       "<style scoped>\n",
       "    .dataframe tbody tr th:only-of-type {\n",
       "        vertical-align: middle;\n",
       "    }\n",
       "\n",
       "    .dataframe tbody tr th {\n",
       "        vertical-align: top;\n",
       "    }\n",
       "\n",
       "    .dataframe thead th {\n",
       "        text-align: right;\n",
       "    }\n",
       "</style>\n",
       "<table border=\"1\" class=\"dataframe\">\n",
       "  <thead>\n",
       "    <tr style=\"text-align: right;\">\n",
       "      <th></th>\n",
       "      <th>wait_time</th>\n",
       "      <th>delay_vs_expected</th>\n",
       "      <th>number_of_products</th>\n",
       "      <th>number_of_sellers</th>\n",
       "      <th>price</th>\n",
       "      <th>freight_value</th>\n",
       "    </tr>\n",
       "  </thead>\n",
       "  <tbody>\n",
       "    <tr>\n",
       "      <th>0</th>\n",
       "      <td>8.436574</td>\n",
       "      <td>0.0</td>\n",
       "      <td>1</td>\n",
       "      <td>1</td>\n",
       "      <td>29.99</td>\n",
       "      <td>8.72</td>\n",
       "    </tr>\n",
       "    <tr>\n",
       "      <th>1</th>\n",
       "      <td>13.782037</td>\n",
       "      <td>0.0</td>\n",
       "      <td>1</td>\n",
       "      <td>1</td>\n",
       "      <td>118.70</td>\n",
       "      <td>22.76</td>\n",
       "    </tr>\n",
       "    <tr>\n",
       "      <th>2</th>\n",
       "      <td>9.394213</td>\n",
       "      <td>0.0</td>\n",
       "      <td>1</td>\n",
       "      <td>1</td>\n",
       "      <td>159.90</td>\n",
       "      <td>19.22</td>\n",
       "    </tr>\n",
       "    <tr>\n",
       "      <th>3</th>\n",
       "      <td>13.208750</td>\n",
       "      <td>0.0</td>\n",
       "      <td>1</td>\n",
       "      <td>1</td>\n",
       "      <td>45.00</td>\n",
       "      <td>27.20</td>\n",
       "    </tr>\n",
       "    <tr>\n",
       "      <th>4</th>\n",
       "      <td>2.873877</td>\n",
       "      <td>0.0</td>\n",
       "      <td>1</td>\n",
       "      <td>1</td>\n",
       "      <td>19.90</td>\n",
       "      <td>8.72</td>\n",
       "    </tr>\n",
       "  </tbody>\n",
       "</table>\n",
       "</div>"
      ],
      "text/plain": [
       "   wait_time  delay_vs_expected  number_of_products  number_of_sellers  \\\n",
       "0   8.436574                0.0                   1                  1   \n",
       "1  13.782037                0.0                   1                  1   \n",
       "2   9.394213                0.0                   1                  1   \n",
       "3  13.208750                0.0                   1                  1   \n",
       "4   2.873877                0.0                   1                  1   \n",
       "\n",
       "    price  freight_value  \n",
       "0   29.99           8.72  \n",
       "1  118.70          22.76  \n",
       "2  159.90          19.22  \n",
       "3   45.00          27.20  \n",
       "4   19.90           8.72  "
      ]
     },
     "execution_count": 56,
     "metadata": {},
     "output_type": "execute_result"
    }
   ],
   "source": [
    "# Check for multi-colinearity by looking at Variance Inflation Factor (vif)\n",
    "X = orders[features]\n",
    "X.head()"
   ]
  },
  {
   "cell_type": "code",
   "execution_count": 35,
   "id": "161e9609",
   "metadata": {},
   "outputs": [
    {
     "data": {
      "text/html": [
       "<div>\n",
       "<style scoped>\n",
       "    .dataframe tbody tr th:only-of-type {\n",
       "        vertical-align: middle;\n",
       "    }\n",
       "\n",
       "    .dataframe tbody tr th {\n",
       "        vertical-align: top;\n",
       "    }\n",
       "\n",
       "    .dataframe thead th {\n",
       "        text-align: right;\n",
       "    }\n",
       "</style>\n",
       "<table border=\"1\" class=\"dataframe\">\n",
       "  <thead>\n",
       "    <tr style=\"text-align: right;\">\n",
       "      <th></th>\n",
       "      <th>vif_index</th>\n",
       "      <th>features</th>\n",
       "    </tr>\n",
       "  </thead>\n",
       "  <tbody>\n",
       "    <tr>\n",
       "      <th>0</th>\n",
       "      <td>5.482640</td>\n",
       "      <td>wait_time</td>\n",
       "    </tr>\n",
       "    <tr>\n",
       "      <th>1</th>\n",
       "      <td>2.057560</td>\n",
       "      <td>delay_vs_expected</td>\n",
       "    </tr>\n",
       "    <tr>\n",
       "      <th>2</th>\n",
       "      <td>7.363534</td>\n",
       "      <td>number_of_products</td>\n",
       "    </tr>\n",
       "    <tr>\n",
       "      <th>3</th>\n",
       "      <td>8.910229</td>\n",
       "      <td>number_of_sellers</td>\n",
       "    </tr>\n",
       "    <tr>\n",
       "      <th>4</th>\n",
       "      <td>1.721790</td>\n",
       "      <td>price</td>\n",
       "    </tr>\n",
       "    <tr>\n",
       "      <th>5</th>\n",
       "      <td>3.265091</td>\n",
       "      <td>freight_value</td>\n",
       "    </tr>\n",
       "  </tbody>\n",
       "</table>\n",
       "</div>"
      ],
      "text/plain": [
       "   vif_index            features\n",
       "0   5.482640           wait_time\n",
       "1   2.057560   delay_vs_expected\n",
       "2   7.363534  number_of_products\n",
       "3   8.910229   number_of_sellers\n",
       "4   1.721790               price\n",
       "5   3.265091       freight_value"
      ]
     },
     "execution_count": 35,
     "metadata": {},
     "output_type": "execute_result"
    }
   ],
   "source": [
    "df = pd.DataFrame()\n",
    "df['vif_index'] = [vif(X.values, i) for i in range(X.shape[1])]\n",
    "df['features'] = X.columns\n",
    "df"
   ]
  },
  {
   "cell_type": "markdown",
   "id": "726bcda8",
   "metadata": {},
   "source": [
    "Since selected features all are still below a **vif** of 10, we'll keep them for our logistic regression models."
   ]
  },
  {
   "cell_type": "code",
   "execution_count": 106,
   "id": "f4f96363",
   "metadata": {
    "scrolled": true
   },
   "outputs": [
    {
     "name": "stdout",
     "output_type": "stream",
     "text": [
      "Optimization terminated successfully.\n",
      "         Current function value: 0.280352\n",
      "         Iterations 7\n"
     ]
    },
    {
     "data": {
      "text/html": [
       "<table class=\"simpletable\">\n",
       "<caption>Logit Regression Results</caption>\n",
       "<tr>\n",
       "  <th>Dep. Variable:</th>    <td>dim_is_one_star</td> <th>  No. Observations:  </th>  <td> 97007</td> \n",
       "</tr>\n",
       "<tr>\n",
       "  <th>Model:</th>                 <td>Logit</td>      <th>  Df Residuals:      </th>  <td> 97000</td> \n",
       "</tr>\n",
       "<tr>\n",
       "  <th>Method:</th>                 <td>MLE</td>       <th>  Df Model:          </th>  <td>     6</td> \n",
       "</tr>\n",
       "<tr>\n",
       "  <th>Date:</th>            <td>Thu, 02 Sep 2021</td> <th>  Pseudo R-squ.:     </th>  <td>0.1407</td> \n",
       "</tr>\n",
       "<tr>\n",
       "  <th>Time:</th>                <td>23:08:16</td>     <th>  Log-Likelihood:    </th> <td> -27196.</td>\n",
       "</tr>\n",
       "<tr>\n",
       "  <th>converged:</th>             <td>True</td>       <th>  LL-Null:           </th> <td> -31650.</td>\n",
       "</tr>\n",
       "<tr>\n",
       "  <th>Covariance Type:</th>     <td>nonrobust</td>    <th>  LLR p-value:       </th>  <td> 0.000</td> \n",
       "</tr>\n",
       "</table>\n",
       "<table class=\"simpletable\">\n",
       "<tr>\n",
       "           <td></td>             <th>coef</th>     <th>std err</th>      <th>z</th>      <th>P>|z|</th>  <th>[0.025</th>    <th>0.975]</th>  \n",
       "</tr>\n",
       "<tr>\n",
       "  <th>Intercept</th>          <td>   -5.2641</td> <td>    0.069</td> <td>  -75.777</td> <td> 0.000</td> <td>   -5.400</td> <td>   -5.128</td>\n",
       "</tr>\n",
       "<tr>\n",
       "  <th>wait_time</th>          <td>    0.0648</td> <td>    0.002</td> <td>   40.920</td> <td> 0.000</td> <td>    0.062</td> <td>    0.068</td>\n",
       "</tr>\n",
       "<tr>\n",
       "  <th>delay_vs_expected</th>  <td>    0.0667</td> <td>    0.004</td> <td>   17.660</td> <td> 0.000</td> <td>    0.059</td> <td>    0.074</td>\n",
       "</tr>\n",
       "<tr>\n",
       "  <th>number_of_products</th> <td>    0.5074</td> <td>    0.020</td> <td>   25.910</td> <td> 0.000</td> <td>    0.469</td> <td>    0.546</td>\n",
       "</tr>\n",
       "<tr>\n",
       "  <th>number_of_sellers</th>  <td>    1.4113</td> <td>    0.063</td> <td>   22.524</td> <td> 0.000</td> <td>    1.289</td> <td>    1.534</td>\n",
       "</tr>\n",
       "<tr>\n",
       "  <th>price</th>              <td>    0.0003</td> <td> 5.29e-05</td> <td>    5.684</td> <td> 0.000</td> <td>    0.000</td> <td>    0.000</td>\n",
       "</tr>\n",
       "<tr>\n",
       "  <th>freight_value</th>      <td>   -0.0033</td> <td>    0.001</td> <td>   -5.308</td> <td> 0.000</td> <td>   -0.005</td> <td>   -0.002</td>\n",
       "</tr>\n",
       "</table>"
      ],
      "text/plain": [
       "<class 'statsmodels.iolib.summary.Summary'>\n",
       "\"\"\"\n",
       "                           Logit Regression Results                           \n",
       "==============================================================================\n",
       "Dep. Variable:        dim_is_one_star   No. Observations:                97007\n",
       "Model:                          Logit   Df Residuals:                    97000\n",
       "Method:                           MLE   Df Model:                            6\n",
       "Date:                Thu, 02 Sep 2021   Pseudo R-squ.:                  0.1407\n",
       "Time:                        23:08:16   Log-Likelihood:                -27196.\n",
       "converged:                       True   LL-Null:                       -31650.\n",
       "Covariance Type:            nonrobust   LLR p-value:                     0.000\n",
       "======================================================================================\n",
       "                         coef    std err          z      P>|z|      [0.025      0.975]\n",
       "--------------------------------------------------------------------------------------\n",
       "Intercept             -5.2641      0.069    -75.777      0.000      -5.400      -5.128\n",
       "wait_time              0.0648      0.002     40.920      0.000       0.062       0.068\n",
       "delay_vs_expected      0.0667      0.004     17.660      0.000       0.059       0.074\n",
       "number_of_products     0.5074      0.020     25.910      0.000       0.469       0.546\n",
       "number_of_sellers      1.4113      0.063     22.524      0.000       1.289       1.534\n",
       "price                  0.0003   5.29e-05      5.684      0.000       0.000       0.000\n",
       "freight_value         -0.0033      0.001     -5.308      0.000      -0.005      -0.002\n",
       "======================================================================================\n",
       "\"\"\""
      ]
     },
     "execution_count": 106,
     "metadata": {},
     "output_type": "execute_result"
    }
   ],
   "source": [
    "# Fit logit model for 1-star reviews\n",
    "logit_one = smf.logit(formula='dim_is_one_star ~' + ' + '.join(features), data=orders).fit()\n",
    "logit_one.summary()"
   ]
  },
  {
   "cell_type": "markdown",
   "id": "2ead91d9",
   "metadata": {},
   "source": [
    "In order to interpret our coefficients from our logistic regression, we'll first need to convert them from log-odds (logits) to odds. "
   ]
  },
  {
   "cell_type": "code",
   "execution_count": 82,
   "id": "d9387d1f",
   "metadata": {},
   "outputs": [
    {
     "data": {
      "text/html": [
       "<div>\n",
       "<style scoped>\n",
       "    .dataframe tbody tr th:only-of-type {\n",
       "        vertical-align: middle;\n",
       "    }\n",
       "\n",
       "    .dataframe tbody tr th {\n",
       "        vertical-align: top;\n",
       "    }\n",
       "\n",
       "    .dataframe thead th {\n",
       "        text-align: right;\n",
       "    }\n",
       "</style>\n",
       "<table border=\"1\" class=\"dataframe\">\n",
       "  <thead>\n",
       "    <tr style=\"text-align: right;\">\n",
       "      <th></th>\n",
       "      <th>log-odds</th>\n",
       "      <th>odds</th>\n",
       "    </tr>\n",
       "  </thead>\n",
       "  <tbody>\n",
       "    <tr>\n",
       "      <th>Intercept</th>\n",
       "      <td>-5.264097</td>\n",
       "      <td>0.005174</td>\n",
       "    </tr>\n",
       "    <tr>\n",
       "      <th>wait_time</th>\n",
       "      <td>0.064804</td>\n",
       "      <td>1.066949</td>\n",
       "    </tr>\n",
       "    <tr>\n",
       "      <th>delay_vs_expected</th>\n",
       "      <td>0.066703</td>\n",
       "      <td>1.068978</td>\n",
       "    </tr>\n",
       "    <tr>\n",
       "      <th>number_of_products</th>\n",
       "      <td>0.507396</td>\n",
       "      <td>1.660960</td>\n",
       "    </tr>\n",
       "    <tr>\n",
       "      <th>number_of_sellers</th>\n",
       "      <td>1.411319</td>\n",
       "      <td>4.101362</td>\n",
       "    </tr>\n",
       "    <tr>\n",
       "      <th>price</th>\n",
       "      <td>0.000300</td>\n",
       "      <td>1.000300</td>\n",
       "    </tr>\n",
       "    <tr>\n",
       "      <th>freight_value</th>\n",
       "      <td>-0.003333</td>\n",
       "      <td>0.996673</td>\n",
       "    </tr>\n",
       "  </tbody>\n",
       "</table>\n",
       "</div>"
      ],
      "text/plain": [
       "                    log-odds      odds\n",
       "Intercept          -5.264097  0.005174\n",
       "wait_time           0.064804  1.066949\n",
       "delay_vs_expected   0.066703  1.068978\n",
       "number_of_products  0.507396  1.660960\n",
       "number_of_sellers   1.411319  4.101362\n",
       "price               0.000300  1.000300\n",
       "freight_value      -0.003333  0.996673"
      ]
     },
     "execution_count": 82,
     "metadata": {},
     "output_type": "execute_result"
    }
   ],
   "source": [
    "# Log-odds to odds conversion by exponentiating\n",
    "logit_one_results = pd.DataFrame(logit_one.params, columns=['log-odds'])\n",
    "logit_one_results['odds'] = logit_one_results['log-odds'].apply(lambda x: math.exp(x))\n",
    "logit_one_results"
   ]
  },
  {
   "cell_type": "markdown",
   "id": "f62f3689",
   "metadata": {},
   "source": [
    "After conversion to odds, we should now be able to interpret the coefficient for each feature as the change in odds for every additional unit of that feature. Note that when interpreting odds, **1.0** is in the middle of the scale, with values greater than 1 representing an increase in odds, and values less than 1 representing a decrease in odds. Values at 1.0 are also said to be 50/50 chance or 1:1 odds (i.e., effectively, no impact on the outcome).     \n",
    "\n",
    "Given our logistic regression, we can say that holding all other variables constant, *for each additional day of `wait_time`, the odds of getting a 1-star increases on average by* ***6.7%***. The `delay_vs_expected` variable has a similar influence. \n",
    "\n",
    "Notably, for *every additional seller included in an order, on average, the odds of getting a 1-star review increases by **310%** on average*! \n",
    "\n",
    "We also see a **66%** increase, on average, in odds for getting a 1-star review for each additional product added to an order. However, as mentioned earlier, few orders on the platform contain more than a single seller or product.\n",
    "\n",
    "`Price` and `freight_value` are so close to 1, that they do not appear to have much influence on getting a 1-star review. "
   ]
  },
  {
   "cell_type": "markdown",
   "id": "a7e13914",
   "metadata": {},
   "source": [
    "Let's check out our logit model for 5-star reviews."
   ]
  },
  {
   "cell_type": "code",
   "execution_count": 107,
   "id": "820e2688",
   "metadata": {
    "scrolled": true
   },
   "outputs": [
    {
     "name": "stdout",
     "output_type": "stream",
     "text": [
      "Optimization terminated successfully.\n",
      "         Current function value: 0.638115\n",
      "         Iterations 7\n"
     ]
    },
    {
     "data": {
      "text/html": [
       "<table class=\"simpletable\">\n",
       "<caption>Logit Regression Results</caption>\n",
       "<tr>\n",
       "  <th>Dep. Variable:</th>   <td>dim_is_five_star</td> <th>  No. Observations:  </th>  <td> 97007</td> \n",
       "</tr>\n",
       "<tr>\n",
       "  <th>Model:</th>                 <td>Logit</td>      <th>  Df Residuals:      </th>  <td> 97000</td> \n",
       "</tr>\n",
       "<tr>\n",
       "  <th>Method:</th>                 <td>MLE</td>       <th>  Df Model:          </th>  <td>     6</td> \n",
       "</tr>\n",
       "<tr>\n",
       "  <th>Date:</th>            <td>Thu, 02 Sep 2021</td> <th>  Pseudo R-squ.:     </th>  <td>0.05771</td>\n",
       "</tr>\n",
       "<tr>\n",
       "  <th>Time:</th>                <td>23:14:03</td>     <th>  Log-Likelihood:    </th> <td> -61902.</td>\n",
       "</tr>\n",
       "<tr>\n",
       "  <th>converged:</th>             <td>True</td>       <th>  LL-Null:           </th> <td> -65693.</td>\n",
       "</tr>\n",
       "<tr>\n",
       "  <th>Covariance Type:</th>     <td>nonrobust</td>    <th>  LLR p-value:       </th>  <td> 0.000</td> \n",
       "</tr>\n",
       "</table>\n",
       "<table class=\"simpletable\">\n",
       "<tr>\n",
       "           <td></td>             <th>coef</th>     <th>std err</th>      <th>z</th>      <th>P>|z|</th>  <th>[0.025</th>    <th>0.975]</th>  \n",
       "</tr>\n",
       "<tr>\n",
       "  <th>Intercept</th>          <td>    2.4599</td> <td>    0.064</td> <td>   38.448</td> <td> 0.000</td> <td>    2.334</td> <td>    2.585</td>\n",
       "</tr>\n",
       "<tr>\n",
       "  <th>wait_time</th>          <td>   -0.0494</td> <td>    0.001</td> <td>  -45.267</td> <td> 0.000</td> <td>   -0.052</td> <td>   -0.047</td>\n",
       "</tr>\n",
       "<tr>\n",
       "  <th>delay_vs_expected</th>  <td>   -0.1017</td> <td>    0.005</td> <td>  -20.746</td> <td> 0.000</td> <td>   -0.111</td> <td>   -0.092</td>\n",
       "</tr>\n",
       "<tr>\n",
       "  <th>number_of_products</th> <td>   -0.2839</td> <td>    0.015</td> <td>  -18.383</td> <td> 0.000</td> <td>   -0.314</td> <td>   -0.254</td>\n",
       "</tr>\n",
       "<tr>\n",
       "  <th>number_of_sellers</th>  <td>   -1.1413</td> <td>    0.063</td> <td>  -18.123</td> <td> 0.000</td> <td>   -1.265</td> <td>   -1.018</td>\n",
       "</tr>\n",
       "<tr>\n",
       "  <th>price</th>              <td>  6.46e-05</td> <td> 3.63e-05</td> <td>    1.778</td> <td> 0.075</td> <td>-6.61e-06</td> <td>    0.000</td>\n",
       "</tr>\n",
       "<tr>\n",
       "  <th>freight_value</th>      <td>    0.0016</td> <td>    0.000</td> <td>    3.878</td> <td> 0.000</td> <td>    0.001</td> <td>    0.002</td>\n",
       "</tr>\n",
       "</table>"
      ],
      "text/plain": [
       "<class 'statsmodels.iolib.summary.Summary'>\n",
       "\"\"\"\n",
       "                           Logit Regression Results                           \n",
       "==============================================================================\n",
       "Dep. Variable:       dim_is_five_star   No. Observations:                97007\n",
       "Model:                          Logit   Df Residuals:                    97000\n",
       "Method:                           MLE   Df Model:                            6\n",
       "Date:                Thu, 02 Sep 2021   Pseudo R-squ.:                 0.05771\n",
       "Time:                        23:14:03   Log-Likelihood:                -61902.\n",
       "converged:                       True   LL-Null:                       -65693.\n",
       "Covariance Type:            nonrobust   LLR p-value:                     0.000\n",
       "======================================================================================\n",
       "                         coef    std err          z      P>|z|      [0.025      0.975]\n",
       "--------------------------------------------------------------------------------------\n",
       "Intercept              2.4599      0.064     38.448      0.000       2.334       2.585\n",
       "wait_time             -0.0494      0.001    -45.267      0.000      -0.052      -0.047\n",
       "delay_vs_expected     -0.1017      0.005    -20.746      0.000      -0.111      -0.092\n",
       "number_of_products    -0.2839      0.015    -18.383      0.000      -0.314      -0.254\n",
       "number_of_sellers     -1.1413      0.063    -18.123      0.000      -1.265      -1.018\n",
       "price                6.46e-05   3.63e-05      1.778      0.075   -6.61e-06       0.000\n",
       "freight_value          0.0016      0.000      3.878      0.000       0.001       0.002\n",
       "======================================================================================\n",
       "\"\"\""
      ]
     },
     "execution_count": 107,
     "metadata": {},
     "output_type": "execute_result"
    }
   ],
   "source": [
    "# Fit logit model for 5-star reviews\n",
    "logit_five = smf.logit(formula='dim_is_five_star ~' + ' + '.join(features), data=orders).fit()\n",
    "logit_five.summary()"
   ]
  },
  {
   "cell_type": "code",
   "execution_count": 84,
   "id": "bd8b54f9",
   "metadata": {},
   "outputs": [
    {
     "data": {
      "text/html": [
       "<div>\n",
       "<style scoped>\n",
       "    .dataframe tbody tr th:only-of-type {\n",
       "        vertical-align: middle;\n",
       "    }\n",
       "\n",
       "    .dataframe tbody tr th {\n",
       "        vertical-align: top;\n",
       "    }\n",
       "\n",
       "    .dataframe thead th {\n",
       "        text-align: right;\n",
       "    }\n",
       "</style>\n",
       "<table border=\"1\" class=\"dataframe\">\n",
       "  <thead>\n",
       "    <tr style=\"text-align: right;\">\n",
       "      <th></th>\n",
       "      <th>log-odds</th>\n",
       "      <th>odds</th>\n",
       "    </tr>\n",
       "  </thead>\n",
       "  <tbody>\n",
       "    <tr>\n",
       "      <th>Intercept</th>\n",
       "      <td>2.459868</td>\n",
       "      <td>11.703267</td>\n",
       "    </tr>\n",
       "    <tr>\n",
       "      <th>wait_time</th>\n",
       "      <td>-0.049446</td>\n",
       "      <td>0.951756</td>\n",
       "    </tr>\n",
       "    <tr>\n",
       "      <th>delay_vs_expected</th>\n",
       "      <td>-0.101731</td>\n",
       "      <td>0.903273</td>\n",
       "    </tr>\n",
       "    <tr>\n",
       "      <th>number_of_products</th>\n",
       "      <td>-0.283877</td>\n",
       "      <td>0.752859</td>\n",
       "    </tr>\n",
       "    <tr>\n",
       "      <th>number_of_sellers</th>\n",
       "      <td>-1.141325</td>\n",
       "      <td>0.319396</td>\n",
       "    </tr>\n",
       "    <tr>\n",
       "      <th>price</th>\n",
       "      <td>0.000065</td>\n",
       "      <td>1.000065</td>\n",
       "    </tr>\n",
       "    <tr>\n",
       "      <th>freight_value</th>\n",
       "      <td>0.001584</td>\n",
       "      <td>1.001585</td>\n",
       "    </tr>\n",
       "  </tbody>\n",
       "</table>\n",
       "</div>"
      ],
      "text/plain": [
       "                    log-odds       odds\n",
       "Intercept           2.459868  11.703267\n",
       "wait_time          -0.049446   0.951756\n",
       "delay_vs_expected  -0.101731   0.903273\n",
       "number_of_products -0.283877   0.752859\n",
       "number_of_sellers  -1.141325   0.319396\n",
       "price               0.000065   1.000065\n",
       "freight_value       0.001584   1.001585"
      ]
     },
     "execution_count": 84,
     "metadata": {},
     "output_type": "execute_result"
    }
   ],
   "source": [
    "# Log-odds to odds conversion by exponentiating\n",
    "logit_five_results = pd.DataFrame(logit_five.params, columns=['log-odds'])\n",
    "logit_five_results['odds'] = logit_five_results['log-odds'].apply(lambda x: math.exp(x))\n",
    "logit_five_results"
   ]
  },
  {
   "cell_type": "markdown",
   "id": "89694ae3",
   "metadata": {},
   "source": [
    "From these results, we see that the **p-value** for `price` *(p-value = 0.075)* is not below our alpha threshold of 0.05, so we **cannot reject the null hypothesis** that `price` has no influence on a 5-star rating.\n",
    "\n",
    "The other coefficients however are **statistically significant**. \n",
    "\n",
    "Like with our *logit_one_model*, the feature `freight_value` has an odds ratio of **1.0** indicating that an increase of one Brazilian Real (BRL) has **equal odds** of receiving a five-star review or not (i.e., this variable has no effect on the outcome).\n",
    "\n",
    "With our *logit_five_model*, the change in odds matches the direction that we'd expect. For example, holding all other variables constant, an additional day in `wait_time` on average **decreases by 5%** the odds of receiving a 5-star rating. And, for each additional day of **delay**, we expect on average a **decrease in odds by 10%**.\n",
    "\n",
    "Similarly, holding all other variables constant, adding one more **product** or **seller** to an order on average **decreases the odds** of getting a 5-star rating by **25%** and **68%**, respectively."
   ]
  },
  {
   "cell_type": "markdown",
   "id": "2f745f0f",
   "metadata": {},
   "source": [
    "Let's plot the coefficients for each logit model for a side-by-side comparison."
   ]
  },
  {
   "cell_type": "code",
   "execution_count": 103,
   "id": "1fcbcb97",
   "metadata": {},
   "outputs": [
    {
     "data": {
      "image/png": "[encoded data removed]",
      "text/plain": [
       "<Figure size 936x360 with 2 Axes>"
      ]
     },
     "metadata": {},
     "output_type": "display_data"
    }
   ],
   "source": [
    "# Logistic Regression Model Comparison\n",
    "plt.figure(figsize=(13,5))\n",
    "plt.suptitle('Logit Five vs. Logit One')\n",
    "\n",
    "# Logistic Regression - logit_five_model\n",
    "ax1 = plt.subplot(1,2,1)\n",
    "ax1.set_title('Logit Five')\n",
    "ax1.yaxis.tick_right()\n",
    "ax1.set_xlim(-1.2, 1.5)\n",
    "logit_five.params[1:].sort_values().plot(kind='barh', ax=ax1)\n",
    "\n",
    "# Logistic Regression - logit_one_model\n",
    "ax2 = plt.subplot(1,2,2)\n",
    "ax2.set_title('Logit One')\n",
    "ax2.yaxis.tick_right()\n",
    "ax2.set_xlim(-1.2, 1.5)\n",
    "logit_one.params[1:].sort_values(ascending=False).plot(kind='barh', ax=ax2)\n",
    "\n",
    "plt.tight_layout()\n",
    "plt.show()"
   ]
  },
  {
   "cell_type": "markdown",
   "id": "063febb6",
   "metadata": {},
   "source": [
    "In terms of feature importance, the two models align similarly. However, for `number_of_sellers`, `number_of_products`, and `wait_time`, it appears that changes in these features have more influence on a 1-star review even than a 5-star review. "
   ]
  },
  {
   "cell_type": "markdown",
   "id": "75e41627",
   "metadata": {},
   "source": [
    "Let's also plot and compare the coefficients between our linear and logistic regression models. While the values of the coefficients are not directly comparable, we can check the relative importance of the features for each model. "
   ]
  },
  {
   "cell_type": "code",
   "execution_count": 105,
   "id": "bbdae4ca",
   "metadata": {},
   "outputs": [
    {
     "name": "stdout",
     "output_type": "stream",
     "text": [
      "                           Logit Regression Results                           \n",
      "==============================================================================\n",
      "Dep. Variable:        dim_is_one_star   No. Observations:                97007\n",
      "Model:                          Logit   Df Residuals:                    97000\n",
      "Method:                           MLE   Df Model:                            6\n",
      "Date:                Thu, 02 Sep 2021   Pseudo R-squ.:                  0.1407\n",
      "Time:                        21:49:40   Log-Likelihood:                -27196.\n",
      "converged:                       True   LL-Null:                       -31650.\n",
      "Covariance Type:            nonrobust   LLR p-value:                     0.000\n",
      "======================================================================================\n",
      "                         coef    std err          z      P>|z|      [0.025      0.975]\n",
      "--------------------------------------------------------------------------------------\n",
      "Intercept             -5.2641      0.069    -75.777      0.000      -5.400      -5.128\n",
      "wait_time              0.0648      0.002     40.920      0.000       0.062       0.068\n",
      "delay_vs_expected      0.0667      0.004     17.660      0.000       0.059       0.074\n",
      "number_of_products     0.5074      0.020     25.910      0.000       0.469       0.546\n",
      "number_of_sellers      1.4113      0.063     22.524      0.000       1.289       1.534\n",
      "price                  0.0003   5.29e-05      5.684      0.000       0.000       0.000\n",
      "freight_value         -0.0033      0.001     -5.308      0.000      -0.005      -0.002\n",
      "======================================================================================\n",
      "----------------------------------------------------------------------------------------------------\n",
      "----------------------------------------------------------------------------------------------------\n",
      "----------------------------------------------------------------------------------------------------\n",
      "\n",
      "                            OLS Regression Results                            \n",
      "==============================================================================\n",
      "Dep. Variable:           review_score   R-squared:                       0.141\n",
      "Model:                            OLS   Adj. R-squared:                  0.141\n",
      "Method:                 Least Squares   F-statistic:                     2661.\n",
      "Date:                Thu, 02 Sep 2021   Prob (F-statistic):               0.00\n",
      "Time:                        21:49:40   Log-Likelihood:            -1.5545e+05\n",
      "No. Observations:               97007   AIC:                         3.109e+05\n",
      "Df Residuals:                   97000   BIC:                         3.110e+05\n",
      "Df Model:                           6                                         \n",
      "Covariance Type:            nonrobust                                         \n",
      "======================================================================================\n",
      "                         coef    std err          t      P>|t|      [0.025      0.975]\n",
      "--------------------------------------------------------------------------------------\n",
      "Intercept              6.0171      0.033    182.863      0.000       5.953       6.082\n",
      "wait_time             -0.0409      0.001    -69.175      0.000      -0.042      -0.040\n",
      "delay_vs_expected     -0.0172      0.001    -14.772      0.000      -0.019      -0.015\n",
      "number_of_products    -0.2713      0.008    -32.751      0.000      -0.288      -0.255\n",
      "number_of_sellers     -1.0542      0.033    -32.377      0.000      -1.118      -0.990\n",
      "price              -4.749e-05   2.03e-05     -2.339      0.019   -8.73e-05    -7.7e-06\n",
      "freight_value          0.0016      0.000      7.301      0.000       0.001       0.002\n",
      "==============================================================================\n",
      "Omnibus:                    18510.939   Durbin-Watson:                   2.009\n",
      "Prob(Omnibus):                  0.000   Jarque-Bera (JB):            36369.606\n",
      "Skew:                          -1.162   Prob(JB):                         0.00\n",
      "Kurtosis:                       4.897   Cond. No.                     2.96e+03\n",
      "==============================================================================\n",
      "\n",
      "Warnings:\n",
      "[1] Standard Errors assume that the covariance matrix of the errors is correctly specified.\n",
      "[2] The condition number is large, 2.96e+03. This might indicate that there are\n",
      "strong multicollinearity or other numerical problems.\n"
     ]
    }
   ],
   "source": [
    "linear_model = smf.ols('review_score ~'+ ' + '.join(features), data=orders).fit()\n",
    "print(logit_one.summary())\n",
    "print((('-----'*20) +'\\n')*3)\n",
    "print(linear_model.summary())"
   ]
  },
  {
   "cell_type": "code",
   "execution_count": 104,
   "id": "773a61ef",
   "metadata": {},
   "outputs": [
    {
     "data": {
      "image/png": "[encoded data removed]",
      "text/plain": [
       "<Figure size 936x360 with 2 Axes>"
      ]
     },
     "metadata": {},
     "output_type": "display_data"
    }
   ],
   "source": [
    "plt.figure(figsize=(13,5))\n",
    "plt.suptitle('Linear vs. Logit Coefficients')\n",
    "\n",
    "# Linear Regression - model4\n",
    "ax1 = plt.subplot(1,2,1)\n",
    "ax1.set_title('Linear')\n",
    "ax1.set_xlim(-1.5, 0.25)\n",
    "model4.params[1:].sort_values().plot(kind='barh', ax=ax1)\n",
    "\n",
    "# Logistic Regression - logit_five_model\n",
    "ax2 = plt.subplot(1,2,2)\n",
    "ax2.set_title('Logit Five')\n",
    "ax2.yaxis.tick_right()\n",
    "ax2.set_xlim(-1.5, 0.25)\n",
    "logit_five.params[1:].sort_values().plot(kind='barh', ax=ax2)\n",
    "\n",
    "plt.tight_layout()\n",
    "plt.show()"
   ]
  },
  {
   "cell_type": "markdown",
   "id": "9d559456",
   "metadata": {},
   "source": [
    "We do see some similarities in that `price` and `freight_value` appear not to play much of a role on the `review_score`. The other four features do have influence, but they differ slightly in feature importance.   "
   ]
  },
  {
   "cell_type": "code",
   "execution_count": null,
   "id": "1976099f",
   "metadata": {},
   "outputs": [],
   "source": []
  }
 ],
 "metadata": {
  "kernelspec": {
   "display_name": "Python 3",
   "language": "python",
   "name": "python3"
  },
  "language_info": {
   "codemirror_mode": {
    "name": "ipython",
    "version": 3
   },
   "file_extension": ".py",
   "mimetype": "text/x-python",
   "name": "python",
   "nbconvert_exporter": "python",
   "pygments_lexer": "ipython3",
   "version": "3.8.6"
  },
  "toc": {
   "base_numbering": 1,
   "nav_menu": {},
   "number_sections": true,
   "sideBar": true,
   "skip_h1_title": true,
   "title_cell": "Table of Contents",
   "title_sidebar": "Contents",
   "toc_cell": false,
   "toc_position": {},
   "toc_section_display": true,
   "toc_window_display": false
  }
 },
 "nbformat": 4,
 "nbformat_minor": 5
}
