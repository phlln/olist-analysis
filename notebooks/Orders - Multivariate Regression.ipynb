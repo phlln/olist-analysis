{
 "cells": [
  {
   "cell_type": "markdown",
   "id": "92e3011e",
   "metadata": {},
   "source": [
    "# Orders - Regression"
   ]
  },
  {
   "cell_type": "code",
   "execution_count": 1,
   "id": "338a9f43",
   "metadata": {},
   "outputs": [],
   "source": [
    "%load_ext autoreload\n",
    "%autoreload 2"
   ]
  },
  {
   "cell_type": "code",
   "execution_count": 2,
   "id": "63a11d30",
   "metadata": {},
   "outputs": [],
   "source": [
    "#import modules\n",
    "import pandas as pd\n",
    "import scipy.stats as stats\n",
    "import numpy as np\n",
    "import seaborn as sns\n",
    "import matplotlib.pyplot as plt"
   ]
  },
  {
   "cell_type": "code",
   "execution_count": 3,
   "id": "363576c6",
   "metadata": {},
   "outputs": [],
   "source": [
    "#import orders dataset\n",
    "from olist.order import Order\n",
    "orders = Order().get_training_data(with_distance_seller_customer=True)"
   ]
  },
  {
   "cell_type": "code",
   "execution_count": 7,
   "id": "8f1d43aa",
   "metadata": {},
   "outputs": [
    {
     "data": {
      "image/png": "[encoded data removed]",
      "text/plain": [
       "<Figure size 432x288 with 2 Axes>"
      ]
     },
     "metadata": {
      "needs_background": "light"
     },
     "output_type": "display_data"
    }
   ],
   "source": [
    "# Since features 'wait_time' and 'delay_vs_expected' are correlated with each other, explore each while holding \n",
    "# constant when regressing review_score against them\n",
    "\n",
    "sns.heatmap(orders.corr(), cmap='coolwarm');"
   ]
  },
  {
   "cell_type": "code",
   "execution_count": 9,
   "id": "4658a6c9",
   "metadata": {},
   "outputs": [
    {
     "data": {
      "text/html": [
       "<div>\n",
       "<style scoped>\n",
       "    .dataframe tbody tr th:only-of-type {\n",
       "        vertical-align: middle;\n",
       "    }\n",
       "\n",
       "    .dataframe tbody tr th {\n",
       "        vertical-align: top;\n",
       "    }\n",
       "\n",
       "    .dataframe thead th {\n",
       "        text-align: right;\n",
       "    }\n",
       "</style>\n",
       "<table border=\"1\" class=\"dataframe\">\n",
       "  <thead>\n",
       "    <tr style=\"text-align: right;\">\n",
       "      <th></th>\n",
       "      <th>order_id</th>\n",
       "      <th>wait_time</th>\n",
       "      <th>expected_wait_time</th>\n",
       "      <th>delay_vs_expected</th>\n",
       "      <th>order_status</th>\n",
       "      <th>dim_is_five_star</th>\n",
       "      <th>dim_is_one_star</th>\n",
       "      <th>review_score</th>\n",
       "      <th>number_of_products</th>\n",
       "      <th>number_of_sellers</th>\n",
       "      <th>price</th>\n",
       "      <th>freight_value</th>\n",
       "      <th>distance_seller_customer</th>\n",
       "    </tr>\n",
       "  </thead>\n",
       "  <tbody>\n",
       "    <tr>\n",
       "      <th>68731</th>\n",
       "      <td>09d7ebb0b2075f15dc48bd8da3961fe0</td>\n",
       "      <td>15.899850</td>\n",
       "      <td>25.200058</td>\n",
       "      <td>0.0</td>\n",
       "      <td>delivered</td>\n",
       "      <td>1</td>\n",
       "      <td>0</td>\n",
       "      <td>5</td>\n",
       "      <td>1</td>\n",
       "      <td>1</td>\n",
       "      <td>49.0</td>\n",
       "      <td>15.79</td>\n",
       "      <td>648.683228</td>\n",
       "    </tr>\n",
       "    <tr>\n",
       "      <th>84372</th>\n",
       "      <td>848bb02f182d3cd9c820281db86fc743</td>\n",
       "      <td>18.227431</td>\n",
       "      <td>25.553623</td>\n",
       "      <td>0.0</td>\n",
       "      <td>delivered</td>\n",
       "      <td>1</td>\n",
       "      <td>0</td>\n",
       "      <td>5</td>\n",
       "      <td>1</td>\n",
       "      <td>1</td>\n",
       "      <td>59.9</td>\n",
       "      <td>16.86</td>\n",
       "      <td>698.748624</td>\n",
       "    </tr>\n",
       "    <tr>\n",
       "      <th>25307</th>\n",
       "      <td>b40f10c37590cd802e26b93d102f7767</td>\n",
       "      <td>14.161667</td>\n",
       "      <td>28.240127</td>\n",
       "      <td>0.0</td>\n",
       "      <td>delivered</td>\n",
       "      <td>0</td>\n",
       "      <td>1</td>\n",
       "      <td>1</td>\n",
       "      <td>1</td>\n",
       "      <td>1</td>\n",
       "      <td>149.9</td>\n",
       "      <td>18.30</td>\n",
       "      <td>144.534160</td>\n",
       "    </tr>\n",
       "    <tr>\n",
       "      <th>68433</th>\n",
       "      <td>565a27fae0aca550060e0f90a54495ef</td>\n",
       "      <td>7.854757</td>\n",
       "      <td>29.209664</td>\n",
       "      <td>0.0</td>\n",
       "      <td>delivered</td>\n",
       "      <td>1</td>\n",
       "      <td>0</td>\n",
       "      <td>5</td>\n",
       "      <td>1</td>\n",
       "      <td>1</td>\n",
       "      <td>149.0</td>\n",
       "      <td>41.33</td>\n",
       "      <td>943.625566</td>\n",
       "    </tr>\n",
       "    <tr>\n",
       "      <th>67277</th>\n",
       "      <td>bd36f36524f5f3cc085c07a839d31a37</td>\n",
       "      <td>6.376042</td>\n",
       "      <td>13.360370</td>\n",
       "      <td>0.0</td>\n",
       "      <td>delivered</td>\n",
       "      <td>1</td>\n",
       "      <td>0</td>\n",
       "      <td>5</td>\n",
       "      <td>1</td>\n",
       "      <td>1</td>\n",
       "      <td>98.9</td>\n",
       "      <td>15.79</td>\n",
       "      <td>336.663022</td>\n",
       "    </tr>\n",
       "  </tbody>\n",
       "</table>\n",
       "</div>"
      ],
      "text/plain": [
       "                               order_id  wait_time  expected_wait_time  \\\n",
       "68731  09d7ebb0b2075f15dc48bd8da3961fe0  15.899850           25.200058   \n",
       "84372  848bb02f182d3cd9c820281db86fc743  18.227431           25.553623   \n",
       "25307  b40f10c37590cd802e26b93d102f7767  14.161667           28.240127   \n",
       "68433  565a27fae0aca550060e0f90a54495ef   7.854757           29.209664   \n",
       "67277  bd36f36524f5f3cc085c07a839d31a37   6.376042           13.360370   \n",
       "\n",
       "       delay_vs_expected order_status  dim_is_five_star  dim_is_one_star  \\\n",
       "68731                0.0    delivered                 1                0   \n",
       "84372                0.0    delivered                 1                0   \n",
       "25307                0.0    delivered                 0                1   \n",
       "68433                0.0    delivered                 1                0   \n",
       "67277                0.0    delivered                 1                0   \n",
       "\n",
       "       review_score  number_of_products  number_of_sellers  price  \\\n",
       "68731             5                   1                  1   49.0   \n",
       "84372             5                   1                  1   59.9   \n",
       "25307             1                   1                  1  149.9   \n",
       "68433             5                   1                  1  149.0   \n",
       "67277             5                   1                  1   98.9   \n",
       "\n",
       "       freight_value  distance_seller_customer  \n",
       "68731          15.79                648.683228  \n",
       "84372          16.86                698.748624  \n",
       "25307          18.30                144.534160  \n",
       "68433          41.33                943.625566  \n",
       "67277          15.79                336.663022  "
      ]
     },
     "execution_count": 9,
     "metadata": {},
     "output_type": "execute_result"
    }
   ],
   "source": [
    "# Work with sample of 10,000 rows from dataset; random_state=7\n",
    "\n",
    "sample = orders.sample(10000, random_state=7)\n",
    "\n",
    "sample.head()"
   ]
  },
  {
   "cell_type": "markdown",
   "id": "4d9d3085",
   "metadata": {},
   "source": [
    "# Univariate regression"
   ]
  },
  {
   "cell_type": "code",
   "execution_count": 11,
   "id": "aff5885e",
   "metadata": {},
   "outputs": [],
   "source": [
    "import statsmodels.formula.api as smf"
   ]
  },
  {
   "cell_type": "code",
   "execution_count": 16,
   "id": "82cf6220",
   "metadata": {},
   "outputs": [
    {
     "name": "stdout",
     "output_type": "stream",
     "text": [
      "                            OLS Regression Results                            \n",
      "==============================================================================\n",
      "Dep. Variable:           review_score   R-squared:                       0.112\n",
      "Model:                            OLS   Adj. R-squared:                  0.112\n",
      "Method:                 Least Squares   F-statistic:                 1.221e+04\n",
      "Date:                Wed, 21 Jul 2021   Prob (F-statistic):               0.00\n",
      "Time:                        17:02:42   Log-Likelihood:            -1.5630e+05\n",
      "No. Observations:               96525   AIC:                         3.126e+05\n",
      "Df Residuals:                   96523   BIC:                         3.126e+05\n",
      "Df Model:                           1                                         \n",
      "Covariance Type:            nonrobust                                         \n",
      "==============================================================================\n",
      "                 coef    std err          t      P>|t|      [0.025      0.975]\n",
      "------------------------------------------------------------------------------\n",
      "Intercept      4.7138      0.006    725.216      0.000       4.701       4.727\n",
      "wait_time     -0.0455      0.000   -110.491      0.000      -0.046      -0.045\n",
      "==============================================================================\n",
      "Omnibus:                    19154.322   Durbin-Watson:                   2.008\n",
      "Prob(Omnibus):                  0.000   Jarque-Bera (JB):            34021.979\n",
      "Skew:                          -1.282   Prob(JB):                         0.00\n",
      "Kurtosis:                       4.374   Cond. No.                         26.1\n",
      "==============================================================================\n",
      "\n",
      "Warnings:\n",
      "[1] Standard Errors assume that the covariance matrix of the errors is correctly specified.\n"
     ]
    }
   ],
   "source": [
    "# model1 is 'review_score' regressed on feature'wait_time'\n",
    "\n",
    "model1 = smf.ols('review_score ~ wait_time', data=orders).fit()\n",
    "print(model1.summary())\n"
   ]
  },
  {
   "cell_type": "code",
   "execution_count": 17,
   "id": "0f008186",
   "metadata": {},
   "outputs": [
    {
     "name": "stdout",
     "output_type": "stream",
     "text": [
      "                            OLS Regression Results                            \n",
      "==============================================================================\n",
      "Dep. Variable:           review_score   R-squared:                       0.074\n",
      "Model:                            OLS   Adj. R-squared:                  0.074\n",
      "Method:                 Least Squares   F-statistic:                     7710.\n",
      "Date:                Wed, 21 Jul 2021   Prob (F-statistic):               0.00\n",
      "Time:                        17:20:03   Log-Likelihood:            -1.5834e+05\n",
      "No. Observations:               96525   AIC:                         3.167e+05\n",
      "Df Residuals:                   96523   BIC:                         3.167e+05\n",
      "Df Model:                           1                                         \n",
      "Covariance Type:            nonrobust                                         \n",
      "=====================================================================================\n",
      "                        coef    std err          t      P>|t|      [0.025      0.975]\n",
      "-------------------------------------------------------------------------------------\n",
      "Intercept             4.1994      0.004   1031.948      0.000       4.191       4.207\n",
      "delay_vs_expected    -0.0743      0.001    -87.804      0.000      -0.076      -0.073\n",
      "==============================================================================\n",
      "Omnibus:                    20173.558   Durbin-Watson:                   2.005\n",
      "Prob(Omnibus):                  0.000   Jarque-Bera (JB):            46131.563\n",
      "Skew:                          -1.191   Prob(JB):                         0.00\n",
      "Kurtosis:                       5.408   Cond. No.                         4.88\n",
      "==============================================================================\n",
      "\n",
      "Warnings:\n",
      "[1] Standard Errors assume that the covariance matrix of the errors is correctly specified.\n"
     ]
    }
   ],
   "source": [
    "# model2 is 'review_score' regressed on feature'delay_vs_expected'\n",
    "\n",
    "model2 = smf.ols('review_score ~ delay_vs_expected', data=orders).fit()\n",
    "print(model2.summary())\n"
   ]
  },
  {
   "cell_type": "markdown",
   "id": "f5aa8c40",
   "metadata": {},
   "source": [
    "# Multivariate Regression"
   ]
  },
  {
   "cell_type": "code",
   "execution_count": 24,
   "id": "df9ad60f",
   "metadata": {},
   "outputs": [
    {
     "name": "stdout",
     "output_type": "stream",
     "text": [
      "                            OLS Regression Results                            \n",
      "==============================================================================\n",
      "Dep. Variable:           review_score   R-squared:                       0.115\n",
      "Model:                            OLS   Adj. R-squared:                  0.115\n",
      "Method:                 Least Squares   F-statistic:                     6254.\n",
      "Date:                Wed, 21 Jul 2021   Prob (F-statistic):               0.00\n",
      "Time:                        17:47:46   Log-Likelihood:            -1.5616e+05\n",
      "No. Observations:               96525   AIC:                         3.123e+05\n",
      "Df Residuals:                   96522   BIC:                         3.124e+05\n",
      "Df Model:                           2                                         \n",
      "Covariance Type:            nonrobust                                         \n",
      "=====================================================================================\n",
      "                        coef    std err          t      P>|t|      [0.025      0.975]\n",
      "-------------------------------------------------------------------------------------\n",
      "Intercept             4.6442      0.008    597.865      0.000       4.629       4.659\n",
      "wait_time            -0.0388      0.001    -66.663      0.000      -0.040      -0.038\n",
      "delay_vs_expected    -0.0191      0.001    -16.327      0.000      -0.021      -0.017\n",
      "==============================================================================\n",
      "Omnibus:                    19551.916   Durbin-Watson:                   2.008\n",
      "Prob(Omnibus):                  0.000   Jarque-Bera (JB):            38151.081\n",
      "Skew:                          -1.235   Prob(JB):                         0.00\n",
      "Kurtosis:                       4.839   Cond. No.                         31.9\n",
      "==============================================================================\n",
      "\n",
      "Warnings:\n",
      "[1] Standard Errors assume that the covariance matrix of the errors is correctly specified.\n"
     ]
    }
   ],
   "source": [
    "# model3 is dependent variable 'review_score' is regressed against independent variables'wait_time' and 'delay_vs_expected'\n",
    "# but this time each independent variable is evaluated while holding the other constant\n",
    "\n",
    "model3 = smf.ols('review_score ~ wait_time + delay_vs_expected', data=orders).fit()\n",
    "print(model3.summary())\n",
    "\n",
    "# While holding 'wait_time' constant, each additional day of 'delay_vs_expected' reduces the review_score on average by \n",
    "# partial coefficient 0.0191 points. \n",
    "#\n",
    "# While holding 'delay_vs_expected' constant, each additional day of 'wait_time' reduces the review_score on average by \n",
    "# partial coefficient 0.0388 points. \n",
    "# \n",
    "# Therefore according to this multivariate analysis, additional delay is actually less impactful on review score than\n",
    "# wait time. \n",
    "#\n",
    "# R-squared is relatively low: only 11.5% of the variations of review_score is explained by the variation of \n",
    "# 'wait_time' and 'delay_vs_expected'\n"
   ]
  },
  {
   "cell_type": "code",
   "execution_count": 25,
   "id": "70c213ef",
   "metadata": {},
   "outputs": [],
   "source": [
    "#model4 - adding other features to the multivariate model\n",
    "\n",
    "features = [\n",
    "    \"wait_time\",\n",
    "    \"delay_vs_expected\",\n",
    "    \"number_of_products\",\n",
    "    \"number_of_sellers\",\n",
    "    \"price\",\n",
    "    \"freight_value\",\n",
    "    \"distance_seller_customer\"]"
   ]
  },
  {
   "cell_type": "code",
   "execution_count": 26,
   "id": "1e8cd98c",
   "metadata": {},
   "outputs": [
    {
     "data": {
      "text/html": [
       "<div>\n",
       "<style scoped>\n",
       "    .dataframe tbody tr th:only-of-type {\n",
       "        vertical-align: middle;\n",
       "    }\n",
       "\n",
       "    .dataframe tbody tr th {\n",
       "        vertical-align: top;\n",
       "    }\n",
       "\n",
       "    .dataframe thead th {\n",
       "        text-align: right;\n",
       "    }\n",
       "</style>\n",
       "<table border=\"1\" class=\"dataframe\">\n",
       "  <thead>\n",
       "    <tr style=\"text-align: right;\">\n",
       "      <th></th>\n",
       "      <th>order_id</th>\n",
       "      <th>wait_time</th>\n",
       "      <th>expected_wait_time</th>\n",
       "      <th>delay_vs_expected</th>\n",
       "      <th>order_status</th>\n",
       "      <th>dim_is_five_star</th>\n",
       "      <th>dim_is_one_star</th>\n",
       "      <th>review_score</th>\n",
       "      <th>number_of_products</th>\n",
       "      <th>number_of_sellers</th>\n",
       "      <th>price</th>\n",
       "      <th>freight_value</th>\n",
       "      <th>distance_seller_customer</th>\n",
       "    </tr>\n",
       "  </thead>\n",
       "  <tbody>\n",
       "    <tr>\n",
       "      <th>0</th>\n",
       "      <td>e481f51cbdc54678b7cc49136f2d6af7</td>\n",
       "      <td>-0.431707</td>\n",
       "      <td>15.544063</td>\n",
       "      <td>-0.162787</td>\n",
       "      <td>delivered</td>\n",
       "      <td>0</td>\n",
       "      <td>0</td>\n",
       "      <td>4</td>\n",
       "      <td>-0.264004</td>\n",
       "      <td>-0.112813</td>\n",
       "      <td>-0.511860</td>\n",
       "      <td>-0.651997</td>\n",
       "      <td>-0.979467</td>\n",
       "    </tr>\n",
       "    <tr>\n",
       "      <th>1</th>\n",
       "      <td>53cdb2fc8bc7dce0b6741e2150273451</td>\n",
       "      <td>0.128587</td>\n",
       "      <td>19.137766</td>\n",
       "      <td>-0.162787</td>\n",
       "      <td>delivered</td>\n",
       "      <td>0</td>\n",
       "      <td>0</td>\n",
       "      <td>4</td>\n",
       "      <td>-0.264004</td>\n",
       "      <td>-0.112813</td>\n",
       "      <td>-0.087278</td>\n",
       "      <td>-0.000604</td>\n",
       "      <td>0.428808</td>\n",
       "    </tr>\n",
       "    <tr>\n",
       "      <th>2</th>\n",
       "      <td>47770eb9100c2d0c44946d9cf07ec65d</td>\n",
       "      <td>-0.331330</td>\n",
       "      <td>26.639711</td>\n",
       "      <td>-0.162787</td>\n",
       "      <td>delivered</td>\n",
       "      <td>1</td>\n",
       "      <td>0</td>\n",
       "      <td>5</td>\n",
       "      <td>-0.264004</td>\n",
       "      <td>-0.112813</td>\n",
       "      <td>0.109912</td>\n",
       "      <td>-0.164844</td>\n",
       "      <td>-0.146045</td>\n",
       "    </tr>\n",
       "    <tr>\n",
       "      <th>3</th>\n",
       "      <td>949d5b44dbf5de918fe9c16f97b45f8a</td>\n",
       "      <td>0.068497</td>\n",
       "      <td>26.188819</td>\n",
       "      <td>-0.162787</td>\n",
       "      <td>delivered</td>\n",
       "      <td>1</td>\n",
       "      <td>0</td>\n",
       "      <td>5</td>\n",
       "      <td>-0.264004</td>\n",
       "      <td>-0.112813</td>\n",
       "      <td>-0.440019</td>\n",
       "      <td>0.205392</td>\n",
       "      <td>2.052600</td>\n",
       "    </tr>\n",
       "    <tr>\n",
       "      <th>4</th>\n",
       "      <td>ad21c59c0840e6cb83a9ceb5573f8159</td>\n",
       "      <td>-1.014771</td>\n",
       "      <td>12.112049</td>\n",
       "      <td>-0.162787</td>\n",
       "      <td>delivered</td>\n",
       "      <td>1</td>\n",
       "      <td>0</td>\n",
       "      <td>5</td>\n",
       "      <td>-0.264004</td>\n",
       "      <td>-0.112813</td>\n",
       "      <td>-0.560153</td>\n",
       "      <td>-0.651997</td>\n",
       "      <td>-0.959121</td>\n",
       "    </tr>\n",
       "    <tr>\n",
       "      <th>...</th>\n",
       "      <td>...</td>\n",
       "      <td>...</td>\n",
       "      <td>...</td>\n",
       "      <td>...</td>\n",
       "      <td>...</td>\n",
       "      <td>...</td>\n",
       "      <td>...</td>\n",
       "      <td>...</td>\n",
       "      <td>...</td>\n",
       "      <td>...</td>\n",
       "      <td>...</td>\n",
       "      <td>...</td>\n",
       "      <td>...</td>\n",
       "    </tr>\n",
       "    <tr>\n",
       "      <th>96528</th>\n",
       "      <td>9c5dedf39a927c1b2549525ed64a053c</td>\n",
       "      <td>-0.454616</td>\n",
       "      <td>18.587442</td>\n",
       "      <td>-0.162787</td>\n",
       "      <td>delivered</td>\n",
       "      <td>1</td>\n",
       "      <td>0</td>\n",
       "      <td>5</td>\n",
       "      <td>-0.264004</td>\n",
       "      <td>-0.112813</td>\n",
       "      <td>-0.310793</td>\n",
       "      <td>-0.449712</td>\n",
       "      <td>-0.893083</td>\n",
       "    </tr>\n",
       "    <tr>\n",
       "      <th>96529</th>\n",
       "      <td>63943bddc261676b46f01ca7ac2f7bd8</td>\n",
       "      <td>1.010273</td>\n",
       "      <td>23.459051</td>\n",
       "      <td>-0.162787</td>\n",
       "      <td>delivered</td>\n",
       "      <td>0</td>\n",
       "      <td>0</td>\n",
       "      <td>4</td>\n",
       "      <td>-0.264004</td>\n",
       "      <td>-0.112813</td>\n",
       "      <td>0.181705</td>\n",
       "      <td>-0.124016</td>\n",
       "      <td>-0.213301</td>\n",
       "    </tr>\n",
       "    <tr>\n",
       "      <th>96530</th>\n",
       "      <td>83c1379a015df1e13d02aae0204711ab</td>\n",
       "      <td>1.289682</td>\n",
       "      <td>30.384225</td>\n",
       "      <td>-0.162787</td>\n",
       "      <td>delivered</td>\n",
       "      <td>1</td>\n",
       "      <td>0</td>\n",
       "      <td>5</td>\n",
       "      <td>-0.264004</td>\n",
       "      <td>-0.112813</td>\n",
       "      <td>0.330507</td>\n",
       "      <td>1.960071</td>\n",
       "      <td>0.616570</td>\n",
       "    </tr>\n",
       "    <tr>\n",
       "      <th>96531</th>\n",
       "      <td>11c177c8e97725db2631073c19f07b62</td>\n",
       "      <td>0.474942</td>\n",
       "      <td>37.105243</td>\n",
       "      <td>-0.162787</td>\n",
       "      <td>delivered</td>\n",
       "      <td>0</td>\n",
       "      <td>0</td>\n",
       "      <td>2</td>\n",
       "      <td>1.586072</td>\n",
       "      <td>-0.112813</td>\n",
       "      <td>1.067531</td>\n",
       "      <td>2.709822</td>\n",
       "      <td>-0.387946</td>\n",
       "    </tr>\n",
       "    <tr>\n",
       "      <th>96532</th>\n",
       "      <td>66dea50a8b16d9b4dee7af250b4be1a5</td>\n",
       "      <td>-0.511605</td>\n",
       "      <td>25.126736</td>\n",
       "      <td>-0.162787</td>\n",
       "      <td>delivered</td>\n",
       "      <td>1</td>\n",
       "      <td>0</td>\n",
       "      <td>5</td>\n",
       "      <td>-0.264004</td>\n",
       "      <td>-0.112813</td>\n",
       "      <td>-0.327544</td>\n",
       "      <td>-0.204744</td>\n",
       "      <td>0.051677</td>\n",
       "    </tr>\n",
       "  </tbody>\n",
       "</table>\n",
       "<p>96525 rows × 13 columns</p>\n",
       "</div>"
      ],
      "text/plain": [
       "                               order_id  wait_time  expected_wait_time  \\\n",
       "0      e481f51cbdc54678b7cc49136f2d6af7  -0.431707           15.544063   \n",
       "1      53cdb2fc8bc7dce0b6741e2150273451   0.128587           19.137766   \n",
       "2      47770eb9100c2d0c44946d9cf07ec65d  -0.331330           26.639711   \n",
       "3      949d5b44dbf5de918fe9c16f97b45f8a   0.068497           26.188819   \n",
       "4      ad21c59c0840e6cb83a9ceb5573f8159  -1.014771           12.112049   \n",
       "...                                 ...        ...                 ...   \n",
       "96528  9c5dedf39a927c1b2549525ed64a053c  -0.454616           18.587442   \n",
       "96529  63943bddc261676b46f01ca7ac2f7bd8   1.010273           23.459051   \n",
       "96530  83c1379a015df1e13d02aae0204711ab   1.289682           30.384225   \n",
       "96531  11c177c8e97725db2631073c19f07b62   0.474942           37.105243   \n",
       "96532  66dea50a8b16d9b4dee7af250b4be1a5  -0.511605           25.126736   \n",
       "\n",
       "       delay_vs_expected order_status  dim_is_five_star  dim_is_one_star  \\\n",
       "0              -0.162787    delivered                 0                0   \n",
       "1              -0.162787    delivered                 0                0   \n",
       "2              -0.162787    delivered                 1                0   \n",
       "3              -0.162787    delivered                 1                0   \n",
       "4              -0.162787    delivered                 1                0   \n",
       "...                  ...          ...               ...              ...   \n",
       "96528          -0.162787    delivered                 1                0   \n",
       "96529          -0.162787    delivered                 0                0   \n",
       "96530          -0.162787    delivered                 1                0   \n",
       "96531          -0.162787    delivered                 0                0   \n",
       "96532          -0.162787    delivered                 1                0   \n",
       "\n",
       "       review_score  number_of_products  number_of_sellers     price  \\\n",
       "0                 4           -0.264004          -0.112813 -0.511860   \n",
       "1                 4           -0.264004          -0.112813 -0.087278   \n",
       "2                 5           -0.264004          -0.112813  0.109912   \n",
       "3                 5           -0.264004          -0.112813 -0.440019   \n",
       "4                 5           -0.264004          -0.112813 -0.560153   \n",
       "...             ...                 ...                ...       ...   \n",
       "96528             5           -0.264004          -0.112813 -0.310793   \n",
       "96529             4           -0.264004          -0.112813  0.181705   \n",
       "96530             5           -0.264004          -0.112813  0.330507   \n",
       "96531             2            1.586072          -0.112813  1.067531   \n",
       "96532             5           -0.264004          -0.112813 -0.327544   \n",
       "\n",
       "       freight_value  distance_seller_customer  \n",
       "0          -0.651997                 -0.979467  \n",
       "1          -0.000604                  0.428808  \n",
       "2          -0.164844                 -0.146045  \n",
       "3           0.205392                  2.052600  \n",
       "4          -0.651997                 -0.959121  \n",
       "...              ...                       ...  \n",
       "96528      -0.449712                 -0.893083  \n",
       "96529      -0.124016                 -0.213301  \n",
       "96530       1.960071                  0.616570  \n",
       "96531       2.709822                 -0.387946  \n",
       "96532      -0.204744                  0.051677  \n",
       "\n",
       "[96525 rows x 13 columns]"
      ]
     },
     "execution_count": 26,
     "metadata": {},
     "output_type": "execute_result"
    }
   ],
   "source": [
    "# standardize features by calculating respective z-scores:   Z = (X - mu) / sigma\n",
    "\n",
    "orders_standardized = orders.copy()\n",
    "for f in features:\n",
    "    mu = orders[f].mean()\n",
    "    sigma = orders[f].std()\n",
    "    orders_standardized[f] = orders[f].map(lambda x: (x - mu) / sigma)\n",
    "orders_standardized"
   ]
  },
  {
   "cell_type": "code",
   "execution_count": 29,
   "id": "21a2e9eb",
   "metadata": {},
   "outputs": [
    {
     "data": {
      "text/plain": [
       "'review_score ~ wait_time + delay_vs_expected + number_of_products + number_of_sellers + price + freight_value + distance_seller_customer'"
      ]
     },
     "execution_count": 29,
     "metadata": {},
     "output_type": "execute_result"
    }
   ],
   "source": [
    "# model4; create formula for stats.model\n",
    "\n",
    "formula = 'review_score ~ ' + ' + ' .join(features)\n",
    "formula"
   ]
  },
  {
   "cell_type": "code",
   "execution_count": 30,
   "id": "37c64145",
   "metadata": {},
   "outputs": [
    {
     "name": "stdout",
     "output_type": "stream",
     "text": [
      "                            OLS Regression Results                            \n",
      "==============================================================================\n",
      "Dep. Variable:           review_score   R-squared:                       0.146\n",
      "Model:                            OLS   Adj. R-squared:                  0.145\n",
      "Method:                 Least Squares   F-statistic:                     2348.\n",
      "Date:                Wed, 21 Jul 2021   Prob (F-statistic):               0.00\n",
      "Time:                        18:11:12   Log-Likelihood:            -1.5446e+05\n",
      "No. Observations:               96525   AIC:                         3.089e+05\n",
      "Df Residuals:                   96517   BIC:                         3.090e+05\n",
      "Df Model:                           7                                         \n",
      "Covariance Type:            nonrobust                                         \n",
      "============================================================================================\n",
      "                               coef    std err          t      P>|t|      [0.025      0.975]\n",
      "--------------------------------------------------------------------------------------------\n",
      "Intercept                    4.1420      0.004   1073.513      0.000       4.134       4.150\n",
      "wait_time                   -0.4500      0.006    -71.510      0.000      -0.462      -0.438\n",
      "delay_vs_expected           -0.0450      0.006     -7.777      0.000      -0.056      -0.034\n",
      "number_of_products          -0.1325      0.005    -29.314      0.000      -0.141      -0.124\n",
      "number_of_sellers           -0.1318      0.004    -32.701      0.000      -0.140      -0.124\n",
      "price                       -0.0044      0.004     -1.038      0.299      -0.013       0.004\n",
      "freight_value                0.0049      0.005      0.975      0.330      -0.005       0.015\n",
      "distance_seller_customer     0.0988      0.005     21.323      0.000       0.090       0.108\n",
      "==============================================================================\n",
      "Omnibus:                    18337.394   Durbin-Watson:                   2.009\n",
      "Prob(Omnibus):                  0.000   Jarque-Bera (JB):            35597.400\n",
      "Skew:                          -1.163   Prob(JB):                         0.00\n",
      "Kurtosis:                       4.854   Cond. No.                         3.04\n",
      "==============================================================================\n",
      "\n",
      "Warnings:\n",
      "[1] Standard Errors assume that the covariance matrix of the errors is correctly specified.\n"
     ]
    }
   ],
   "source": [
    "model4 = smf.ols(formula = formula, data = orders_standardized).fit()\n",
    "print(model4.summary())"
   ]
  },
  {
   "cell_type": "code",
   "execution_count": 32,
   "id": "0aac5f55",
   "metadata": {},
   "outputs": [
    {
     "data": {
      "image/png": "[encoded data removed]",
      "text/plain": [
       "<Figure size 432x288 with 1 Axes>"
      ]
     },
     "metadata": {
      "needs_background": "light"
     },
     "output_type": "display_data"
    }
   ],
   "source": [
    "model4.params[1:].sort_values().plot(kind='barh');"
   ]
  },
  {
   "cell_type": "code",
   "execution_count": 33,
   "id": "17b65b7d",
   "metadata": {},
   "outputs": [
    {
     "data": {
      "text/plain": [
       "Intercept                   4.142005\n",
       "wait_time                  -0.450029\n",
       "delay_vs_expected          -0.044982\n",
       "number_of_products         -0.132475\n",
       "number_of_sellers          -0.131830\n",
       "price                      -0.004405\n",
       "freight_value               0.004872\n",
       "distance_seller_customer    0.098776\n",
       "dtype: float64"
      ]
     },
     "execution_count": 33,
     "metadata": {},
     "output_type": "execute_result"
    }
   ],
   "source": [
    "model4.params"
   ]
  },
  {
   "cell_type": "code",
   "execution_count": 34,
   "id": "5c02608f",
   "metadata": {},
   "outputs": [],
   "source": [
    "# the feature with the largest impact is 'wait_time'. When there are more products or sellers per order, this also\n",
    "# has a negative impact on review_socre. A small impact can also be attributed to the distance between seller and\n",
    "# customer. P-values for price and value are high, so may not be able to conclude anything. \n",
    "# The R-squared hasn't changed much suggesting that most of the explanability of the 'review_score' is outside of\n",
    "# the orders dataset"
   ]
  },
  {
   "cell_type": "markdown",
   "id": "f240fe0e",
   "metadata": {},
   "source": [
    "# Check model performance"
   ]
  },
  {
   "cell_type": "code",
   "execution_count": 35,
   "id": "5cc3c882",
   "metadata": {},
   "outputs": [],
   "source": [
    "# Double-checking R-squared numbers by visualizing distribution of predictions in residuals\n",
    "\n",
    "predicted_review_score = model4.predict(orders_standardized[features])\n",
    "residuals = predicted_review_score - orders_standardized['review_score']"
   ]
  },
  {
   "cell_type": "code",
   "execution_count": 36,
   "id": "f7e37973",
   "metadata": {},
   "outputs": [
    {
     "data": {
      "text/plain": [
       "1.1986853369569426"
      ]
     },
     "execution_count": 36,
     "metadata": {},
     "output_type": "execute_result"
    }
   ],
   "source": [
    "RMSE = (residuals.map(lambda x: x**2).sum() / len(residuals))**0.5\n",
    "RMSE"
   ]
  },
  {
   "cell_type": "code",
   "execution_count": 40,
   "id": "4203b51f",
   "metadata": {},
   "outputs": [
    {
     "data": {
      "text/plain": [
       "''"
      ]
     },
     "execution_count": 40,
     "metadata": {},
     "output_type": "execute_result"
    },
    {
     "data": {
      "image/png": "[encoded data removed]",
      "text/plain": [
       "<Figure size 432x288 with 1 Axes>"
      ]
     },
     "metadata": {
      "needs_background": "light"
     },
     "output_type": "display_data"
    }
   ],
   "source": [
    "sns.histplot(residuals, kde=True, stat='density', discrete=True)\n",
    "plt.title('residuals density plot')\n",
    "\n",
    ";"
   ]
  },
  {
   "cell_type": "code",
   "execution_count": 42,
   "id": "1652df90",
   "metadata": {},
   "outputs": [
    {
     "data": {
      "image/png": "[encoded data removed]",
      "text/plain": [
       "<Figure size 432x288 with 1 Axes>"
      ]
     },
     "metadata": {
      "needs_background": "light"
     },
     "output_type": "display_data"
    }
   ],
   "source": [
    "sns.kdeplot(predicted_review_score, label='predicted review score')\n",
    "sns.kdeplot(orders.review_score, label='actual review score')\n",
    "plt.title('distribution of predicted and actual values')\n",
    "plt.legend();"
   ]
  },
  {
   "cell_type": "code",
   "execution_count": null,
   "id": "d3dac923",
   "metadata": {},
   "outputs": [],
   "source": []
  }
 ],
 "metadata": {
  "kernelspec": {
   "display_name": "Python 3",
   "language": "python",
   "name": "python3"
  },
  "language_info": {
   "codemirror_mode": {
    "name": "ipython",
    "version": 3
   },
   "file_extension": ".py",
   "mimetype": "text/x-python",
   "name": "python",
   "nbconvert_exporter": "python",
   "pygments_lexer": "ipython3",
   "version": "3.8.6"
  },
  "toc": {
   "base_numbering": 1,
   "nav_menu": {},
   "number_sections": true,
   "sideBar": true,
   "skip_h1_title": false,
   "title_cell": "Table of Contents",
   "title_sidebar": "Contents",
   "toc_cell": false,
   "toc_position": {},
   "toc_section_display": true,
   "toc_window_display": false
  }
 },
 "nbformat": 4,
 "nbformat_minor": 5
}
